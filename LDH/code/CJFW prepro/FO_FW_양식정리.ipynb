{
 "cells": [
  {
   "cell_type": "code",
   "execution_count": 149,
   "id": "e5afc50e",
   "metadata": {},
   "outputs": [],
   "source": [
    "# 매출액 분포 나타내기\n",
    "import pandas as pd\n",
    "import numpy as np\n",
    "import seaborn as sns\n",
    "plt.rcParams['font.family'] = 'NanumBarunGothic'\n",
    "\n",
    "df = pd.read_excel('C:/Users/KEARNEY/Desktop/새 폴더/c_project/LDH/data/CJFW/CJFW_data_FO_매출액.xlsx')\n",
    "df = df.set_index(np.array(range(len(df))))"
   ]
  },
  {
   "cell_type": "code",
   "execution_count": 150,
   "id": "14bde629",
   "metadata": {},
   "outputs": [
    {
     "data": {
      "text/html": [
       "<div>\n",
       "<style scoped>\n",
       "    .dataframe tbody tr th:only-of-type {\n",
       "        vertical-align: middle;\n",
       "    }\n",
       "\n",
       "    .dataframe tbody tr th {\n",
       "        vertical-align: top;\n",
       "    }\n",
       "\n",
       "    .dataframe thead th {\n",
       "        text-align: right;\n",
       "    }\n",
       "</style>\n",
       "<table border=\"1\" class=\"dataframe\">\n",
       "  <thead>\n",
       "    <tr style=\"text-align: right;\">\n",
       "      <th></th>\n",
       "      <th>세무상호</th>\n",
       "      <th>영업상호</th>\n",
       "      <th>업종</th>\n",
       "    </tr>\n",
       "  </thead>\n",
       "  <tbody>\n",
       "    <tr>\n",
       "      <th>0</th>\n",
       "      <td>(주)코차이나유씨에스</td>\n",
       "      <td>(주)코차이나 유씨에스</td>\n",
       "      <td>기타</td>\n",
       "    </tr>\n",
       "    <tr>\n",
       "      <th>1</th>\n",
       "      <td>그동네떡볶이</td>\n",
       "      <td>그동네떡볶이  [09호_정진구]</td>\n",
       "      <td>분식</td>\n",
       "    </tr>\n",
       "    <tr>\n",
       "      <th>2</th>\n",
       "      <td>노을에프앤비(F&amp;B)</td>\n",
       "      <td>노을에프앤비(F&amp;B)</td>\n",
       "      <td>식자재</td>\n",
       "    </tr>\n",
       "    <tr>\n",
       "      <th>3</th>\n",
       "      <td>(주)대화엠피</td>\n",
       "      <td>(주)대화엠피</td>\n",
       "      <td>기타</td>\n",
       "    </tr>\n",
       "    <tr>\n",
       "      <th>4</th>\n",
       "      <td>카이화(Kai 火)</td>\n",
       "      <td>카이화</td>\n",
       "      <td>중식</td>\n",
       "    </tr>\n",
       "  </tbody>\n",
       "</table>\n",
       "</div>"
      ],
      "text/plain": [
       "          세무상호               영업상호   업종\n",
       "0  (주)코차이나유씨에스       (주)코차이나 유씨에스   기타\n",
       "1       그동네떡볶이  그동네떡볶이  [09호_정진구]   분식\n",
       "2  노을에프앤비(F&B)        노을에프앤비(F&B)  식자재\n",
       "3      (주)대화엠피            (주)대화엠피   기타\n",
       "4   카이화(Kai 火)                카이화   중식"
      ]
     },
     "execution_count": 150,
     "metadata": {},
     "output_type": "execute_result"
    }
   ],
   "source": [
    "df_= pd.read_excel('C:/Users/KEARNEY/Desktop/새 폴더/c_project/LDH/data/CJFW/CJFW_data_FO_업종.xlsx')\n",
    "df_.columns=['세무상호', '영업상호','업종']\n",
    "df_.head()"
   ]
  },
  {
   "cell_type": "markdown",
   "id": "20c44c08",
   "metadata": {},
   "source": [
    "# FO 양식 매장"
   ]
  },
  {
   "cell_type": "code",
   "execution_count": 151,
   "id": "6bc352bc",
   "metadata": {},
   "outputs": [
    {
     "data": {
      "image/png": "[encoded data removed]",
      "text/plain": [
       "<Figure size 640x480 with 1 Axes>"
      ]
     },
     "metadata": {},
     "output_type": "display_data"
    }
   ],
   "source": [
    "sns.countplot(x=\"업종\", data=df_)\n",
    "plt.title(\"업종별 분포도\")\n",
    "plt.show()"
   ]
  },
  {
   "cell_type": "code",
   "execution_count": 152,
   "id": "7a52b541",
   "metadata": {},
   "outputs": [
    {
     "data": {
      "text/plain": [
       "세무상호    6\n",
       "영업상호    6\n",
       "업종      6\n",
       "dtype: int64"
      ]
     },
     "execution_count": 152,
     "metadata": {},
     "output_type": "execute_result"
    }
   ],
   "source": [
    "df_[df_['업종']=='양식'].count()"
   ]
  },
  {
   "cell_type": "markdown",
   "id": "c231ce2a",
   "metadata": {},
   "source": [
    "### FO 양식 6개뿐"
   ]
  },
  {
   "cell_type": "code",
   "execution_count": 153,
   "id": "8fad0c9e",
   "metadata": {},
   "outputs": [
    {
     "data": {
      "text/html": [
       "<div>\n",
       "<style scoped>\n",
       "    .dataframe tbody tr th:only-of-type {\n",
       "        vertical-align: middle;\n",
       "    }\n",
       "\n",
       "    .dataframe tbody tr th {\n",
       "        vertical-align: top;\n",
       "    }\n",
       "\n",
       "    .dataframe thead th {\n",
       "        text-align: right;\n",
       "    }\n",
       "</style>\n",
       "<table border=\"1\" class=\"dataframe\">\n",
       "  <thead>\n",
       "    <tr style=\"text-align: right;\">\n",
       "      <th></th>\n",
       "      <th>세무상호</th>\n",
       "      <th>영업상호</th>\n",
       "      <th>업종</th>\n",
       "    </tr>\n",
       "  </thead>\n",
       "  <tbody>\n",
       "    <tr>\n",
       "      <th>11</th>\n",
       "      <td>미장플라쎄(MISE EN PLACE)</td>\n",
       "      <td>미장플라쎄          [09호_정진구]</td>\n",
       "      <td>양식</td>\n",
       "    </tr>\n",
       "    <tr>\n",
       "      <th>14</th>\n",
       "      <td>이관우파스타</td>\n",
       "      <td>이관우파스타 30호_해다미(유현식)</td>\n",
       "      <td>양식</td>\n",
       "    </tr>\n",
       "    <tr>\n",
       "      <th>37</th>\n",
       "      <td>에일크루(동교동점)</td>\n",
       "      <td>■RS_에일크루(동교동점)</td>\n",
       "      <td>양식</td>\n",
       "    </tr>\n",
       "    <tr>\n",
       "      <th>38</th>\n",
       "      <td>헤즈밀(연남)</td>\n",
       "      <td>[폐업]■RS_헤즈밀(연남)</td>\n",
       "      <td>양식</td>\n",
       "    </tr>\n",
       "    <tr>\n",
       "      <th>41</th>\n",
       "      <td>키노키친</td>\n",
       "      <td>■RS_키노키친</td>\n",
       "      <td>양식</td>\n",
       "    </tr>\n",
       "    <tr>\n",
       "      <th>61</th>\n",
       "      <td>RS_탑클라우드23</td>\n",
       "      <td>□RS_탑클라우드23</td>\n",
       "      <td>양식</td>\n",
       "    </tr>\n",
       "  </tbody>\n",
       "</table>\n",
       "</div>"
      ],
      "text/plain": [
       "                    세무상호                      영업상호  업종\n",
       "11  미장플라쎄(MISE EN PLACE)  미장플라쎄          [09호_정진구]  양식\n",
       "14                이관우파스타       이관우파스타 30호_해다미(유현식)  양식\n",
       "37            에일크루(동교동점)            ■RS_에일크루(동교동점)  양식\n",
       "38               헤즈밀(연남)           [폐업]■RS_헤즈밀(연남)  양식\n",
       "41                  키노키친                  ■RS_키노키친  양식\n",
       "61            RS_탑클라우드23               □RS_탑클라우드23  양식"
      ]
     },
     "execution_count": 153,
     "metadata": {},
     "output_type": "execute_result"
    }
   ],
   "source": [
    "west_df = df_[df_['업종']=='양식']\n",
    "west_df"
   ]
  },
  {
   "cell_type": "code",
   "execution_count": 176,
   "id": "2689ba12",
   "metadata": {},
   "outputs": [
    {
     "data": {
      "text/html": [
       "<div>\n",
       "<style scoped>\n",
       "    .dataframe tbody tr th:only-of-type {\n",
       "        vertical-align: middle;\n",
       "    }\n",
       "\n",
       "    .dataframe tbody tr th {\n",
       "        vertical-align: top;\n",
       "    }\n",
       "\n",
       "    .dataframe thead th {\n",
       "        text-align: right;\n",
       "    }\n",
       "</style>\n",
       "<table border=\"1\" class=\"dataframe\">\n",
       "  <thead>\n",
       "    <tr style=\"text-align: right;\">\n",
       "      <th></th>\n",
       "      <th>세무상호_x</th>\n",
       "      <th>영업상호</th>\n",
       "      <th>업종</th>\n",
       "      <th>세무상호_y</th>\n",
       "      <th>주소</th>\n",
       "    </tr>\n",
       "  </thead>\n",
       "  <tbody>\n",
       "    <tr>\n",
       "      <th>0</th>\n",
       "      <td>미장플라쎄(MISE EN PLACE)</td>\n",
       "      <td>미장플라쎄          [09호_정진구]</td>\n",
       "      <td>양식</td>\n",
       "      <td>미장플라쎄(MISE EN PLACE)</td>\n",
       "      <td>서울특별시 마포구 양화로19길 22-30,</td>\n",
       "    </tr>\n",
       "    <tr>\n",
       "      <th>1</th>\n",
       "      <td>이관우파스타</td>\n",
       "      <td>이관우파스타 30호_해다미(유현식)</td>\n",
       "      <td>양식</td>\n",
       "      <td>이관우파스타</td>\n",
       "      <td>서울특별시 마포구 동교로46길 29,</td>\n",
       "    </tr>\n",
       "    <tr>\n",
       "      <th>2</th>\n",
       "      <td>에일크루(동교동점)</td>\n",
       "      <td>■RS_에일크루(동교동점)</td>\n",
       "      <td>양식</td>\n",
       "      <td>에일크루(동교동점)</td>\n",
       "      <td>서울특별시 마포구 와우산로37길 7 (동교동)</td>\n",
       "    </tr>\n",
       "    <tr>\n",
       "      <th>3</th>\n",
       "      <td>헤즈밀(연남)</td>\n",
       "      <td>[폐업]■RS_헤즈밀(연남)</td>\n",
       "      <td>양식</td>\n",
       "      <td>헤즈밀(연남)</td>\n",
       "      <td>서울특별시 마포구 동교로46길 42-20 (연남동)</td>\n",
       "    </tr>\n",
       "    <tr>\n",
       "      <th>4</th>\n",
       "      <td>키노키친</td>\n",
       "      <td>■RS_키노키친</td>\n",
       "      <td>양식</td>\n",
       "      <td>키노키친</td>\n",
       "      <td>서울특별시 마포구 와우산로29길 9</td>\n",
       "    </tr>\n",
       "    <tr>\n",
       "      <th>5</th>\n",
       "      <td>RS_탑클라우드23</td>\n",
       "      <td>□RS_탑클라우드23</td>\n",
       "      <td>양식</td>\n",
       "      <td>RS_탑클라우드23</td>\n",
       "      <td>서울특별시 마포구 백범로 192 (공덕동)</td>\n",
       "    </tr>\n",
       "  </tbody>\n",
       "</table>\n",
       "</div>"
      ],
      "text/plain": [
       "                 세무상호_x                      영업상호  업종                세무상호_y  \\\n",
       "0  미장플라쎄(MISE EN PLACE)  미장플라쎄          [09호_정진구]  양식  미장플라쎄(MISE EN PLACE)   \n",
       "1                이관우파스타       이관우파스타 30호_해다미(유현식)  양식                이관우파스타   \n",
       "2            에일크루(동교동점)            ■RS_에일크루(동교동점)  양식            에일크루(동교동점)   \n",
       "3               헤즈밀(연남)           [폐업]■RS_헤즈밀(연남)  양식               헤즈밀(연남)   \n",
       "4                  키노키친                  ■RS_키노키친  양식                  키노키친   \n",
       "5            RS_탑클라우드23               □RS_탑클라우드23  양식            RS_탑클라우드23   \n",
       "\n",
       "                             주소  \n",
       "0       서울특별시 마포구 양화로19길 22-30,  \n",
       "1          서울특별시 마포구 동교로46길 29,  \n",
       "2     서울특별시 마포구 와우산로37길 7 (동교동)  \n",
       "3  서울특별시 마포구 동교로46길 42-20 (연남동)  \n",
       "4           서울특별시 마포구 와우산로29길 9  \n",
       "5       서울특별시 마포구 백범로 192 (공덕동)  "
      ]
     },
     "execution_count": 176,
     "metadata": {},
     "output_type": "execute_result"
    }
   ],
   "source": [
    "fo_juso =  pd.read_excel('C:/Users/KEARNEY/Desktop/새 폴더/c_project/LDH/data/CJFW/CJFW_data_FO_주소.xlsx')\n",
    "merge_fo_juso = pd.merge(west_df, fo_juso, on=\"영업상호\")\n",
    "merge_fo_juso"
   ]
  },
  {
   "cell_type": "markdown",
   "id": "3d9a42c4",
   "metadata": {},
   "source": [
    "## 양식점 별 매출 파악"
   ]
  },
  {
   "cell_type": "code",
   "execution_count": 172,
   "id": "6dbb3c1b",
   "metadata": {},
   "outputs": [
    {
     "data": {
      "text/html": [
       "<div>\n",
       "<style scoped>\n",
       "    .dataframe tbody tr th:only-of-type {\n",
       "        vertical-align: middle;\n",
       "    }\n",
       "\n",
       "    .dataframe tbody tr th {\n",
       "        vertical-align: top;\n",
       "    }\n",
       "\n",
       "    .dataframe thead th {\n",
       "        text-align: right;\n",
       "    }\n",
       "</style>\n",
       "<table border=\"1\" class=\"dataframe\">\n",
       "  <thead>\n",
       "    <tr style=\"text-align: right;\">\n",
       "      <th></th>\n",
       "      <th>세무상호</th>\n",
       "      <th>영업상호</th>\n",
       "      <th>업종</th>\n",
       "      <th>메뉴</th>\n",
       "      <th>매출액</th>\n",
       "      <th>매출총이익</th>\n",
       "      <th>매출수량1</th>\n",
       "      <th>매출수량2</th>\n",
       "      <th>매출수량3</th>\n",
       "    </tr>\n",
       "  </thead>\n",
       "  <tbody>\n",
       "    <tr>\n",
       "      <th>0</th>\n",
       "      <td>미장플라쎄(MISE EN PLACE)</td>\n",
       "      <td>미장플라쎄          [09호_정진구]</td>\n",
       "      <td>양식</td>\n",
       "      <td>마포식품 생메밀면(냉장 1.5Kg*12EA/BOX)</td>\n",
       "      <td>9640</td>\n",
       "      <td>1723</td>\n",
       "      <td>1</td>\n",
       "      <td>1</td>\n",
       "      <td>NaN</td>\n",
       "    </tr>\n",
       "    <tr>\n",
       "      <th>1</th>\n",
       "      <td>미장플라쎄(MISE EN PLACE)</td>\n",
       "      <td>미장플라쎄          [09호_정진구]</td>\n",
       "      <td>양식</td>\n",
       "      <td>진미식품 춘장(실온 300g*30EA/BOX 미국)</td>\n",
       "      <td>1456</td>\n",
       "      <td>279</td>\n",
       "      <td>1</td>\n",
       "      <td>NaN</td>\n",
       "      <td>NaN</td>\n",
       "    </tr>\n",
       "    <tr>\n",
       "      <th>2</th>\n",
       "      <td>미장플라쎄(MISE EN PLACE)</td>\n",
       "      <td>미장플라쎄          [09호_정진구]</td>\n",
       "      <td>양식</td>\n",
       "      <td>매기 치킨스탁(실온 액상 1.2Kg*6EA/BOX)</td>\n",
       "      <td>50033</td>\n",
       "      <td>10207</td>\n",
       "      <td>3</td>\n",
       "      <td>NaN</td>\n",
       "      <td>2</td>\n",
       "    </tr>\n",
       "    <tr>\n",
       "      <th>3</th>\n",
       "      <td>미장플라쎄(MISE EN PLACE)</td>\n",
       "      <td>미장플라쎄          [09호_정진구]</td>\n",
       "      <td>양식</td>\n",
       "      <td>더미상품(과세)</td>\n",
       "      <td>210509</td>\n",
       "      <td>36616</td>\n",
       "      <td>16</td>\n",
       "      <td>2</td>\n",
       "      <td>3</td>\n",
       "    </tr>\n",
       "    <tr>\n",
       "      <th>4</th>\n",
       "      <td>미장플라쎄(MISE EN PLACE)</td>\n",
       "      <td>미장플라쎄          [09호_정진구]</td>\n",
       "      <td>양식</td>\n",
       "      <td>더미상품(비과세)</td>\n",
       "      <td>949930</td>\n",
       "      <td>167072</td>\n",
       "      <td>29</td>\n",
       "      <td>13</td>\n",
       "      <td>15</td>\n",
       "    </tr>\n",
       "  </tbody>\n",
       "</table>\n",
       "</div>"
      ],
      "text/plain": [
       "                   세무상호                      영업상호  업종  \\\n",
       "0  미장플라쎄(MISE EN PLACE)  미장플라쎄          [09호_정진구]  양식   \n",
       "1  미장플라쎄(MISE EN PLACE)  미장플라쎄          [09호_정진구]  양식   \n",
       "2  미장플라쎄(MISE EN PLACE)  미장플라쎄          [09호_정진구]  양식   \n",
       "3  미장플라쎄(MISE EN PLACE)  미장플라쎄          [09호_정진구]  양식   \n",
       "4  미장플라쎄(MISE EN PLACE)  미장플라쎄          [09호_정진구]  양식   \n",
       "\n",
       "                             메뉴     매출액   매출총이익 매출수량1 매출수량2 매출수량3  \n",
       "0  마포식품 생메밀면(냉장 1.5Kg*12EA/BOX)    9640    1723     1     1   NaN  \n",
       "1  진미식품 춘장(실온 300g*30EA/BOX 미국)    1456     279     1   NaN   NaN  \n",
       "2  매기 치킨스탁(실온 액상 1.2Kg*6EA/BOX)   50033   10207     3   NaN     2  \n",
       "3                      더미상품(과세)  210509   36616    16     2     3  \n",
       "4                     더미상품(비과세)  949930  167072    29    13    15  "
      ]
     },
     "execution_count": 172,
     "metadata": {},
     "output_type": "execute_result"
    }
   ],
   "source": [
    "df.head()\n",
    "df.columns =['영업상호', '메뉴', '매출액', '매출총이익', '매출수량1', '매출수량2',\n",
    "       '매출수량3']\n",
    "df = df.dropna(subset=\"메뉴\")\n",
    "df= df.set_index(np.array(range(len(df))))\n",
    "\n",
    "merge_west_df = pd.merge(west_df,df, on='영업상호')\n",
    "merge_west_df.head()"
   ]
  },
  {
   "cell_type": "code",
   "execution_count": 173,
   "id": "4e6cd5b2",
   "metadata": {},
   "outputs": [
    {
     "data": {
      "text/html": [
       "<div>\n",
       "<style scoped>\n",
       "    .dataframe tbody tr th:only-of-type {\n",
       "        vertical-align: middle;\n",
       "    }\n",
       "\n",
       "    .dataframe tbody tr th {\n",
       "        vertical-align: top;\n",
       "    }\n",
       "\n",
       "    .dataframe thead th {\n",
       "        text-align: right;\n",
       "    }\n",
       "</style>\n",
       "<table border=\"1\" class=\"dataframe\">\n",
       "  <thead>\n",
       "    <tr style=\"text-align: right;\">\n",
       "      <th></th>\n",
       "      <th>매출액</th>\n",
       "      <th>매출총이익</th>\n",
       "    </tr>\n",
       "    <tr>\n",
       "      <th>영업상호</th>\n",
       "      <th></th>\n",
       "      <th></th>\n",
       "    </tr>\n",
       "  </thead>\n",
       "  <tbody>\n",
       "    <tr>\n",
       "      <th>[폐업]■RS_헤즈밀(연남)</th>\n",
       "      <td>1839108</td>\n",
       "      <td>478573</td>\n",
       "    </tr>\n",
       "    <tr>\n",
       "      <th>■RS_에일크루(동교동점)</th>\n",
       "      <td>1798499</td>\n",
       "      <td>432664</td>\n",
       "    </tr>\n",
       "    <tr>\n",
       "      <th>■RS_키노키친</th>\n",
       "      <td>2127315</td>\n",
       "      <td>477353</td>\n",
       "    </tr>\n",
       "    <tr>\n",
       "      <th>□RS_탑클라우드23</th>\n",
       "      <td>4463803</td>\n",
       "      <td>1080650</td>\n",
       "    </tr>\n",
       "    <tr>\n",
       "      <th>미장플라쎄          [09호_정진구]</th>\n",
       "      <td>3204405</td>\n",
       "      <td>600863</td>\n",
       "    </tr>\n",
       "    <tr>\n",
       "      <th>이관우파스타 30호_해다미(유현식)</th>\n",
       "      <td>211709</td>\n",
       "      <td>44364</td>\n",
       "    </tr>\n",
       "  </tbody>\n",
       "</table>\n",
       "</div>"
      ],
      "text/plain": [
       "                              매출액    매출총이익\n",
       "영업상호                                      \n",
       "[폐업]■RS_헤즈밀(연남)           1839108   478573\n",
       "■RS_에일크루(동교동점)            1798499   432664\n",
       "■RS_키노키친                  2127315   477353\n",
       "□RS_탑클라우드23               4463803  1080650\n",
       "미장플라쎄          [09호_정진구]  3204405   600863\n",
       "이관우파스타 30호_해다미(유현식)        211709    44364"
      ]
     },
     "execution_count": 173,
     "metadata": {},
     "output_type": "execute_result"
    }
   ],
   "source": [
    "west_sell = merge_west_df.groupby('영업상호').sum()\n",
    "west_sell"
   ]
  },
  {
   "cell_type": "code",
   "execution_count": 154,
   "id": "37f7f6d0",
   "metadata": {},
   "outputs": [],
   "source": [
    "#양식에 대해 "
   ]
  },
  {
   "cell_type": "markdown",
   "id": "52e30fdb",
   "metadata": {},
   "source": [
    "# FW 양식점 파악"
   ]
  },
  {
   "cell_type": "code",
   "execution_count": 181,
   "id": "e3f550d0",
   "metadata": {},
   "outputs": [],
   "source": [
    "df_fw = pd.read_excel('C:/Users/KEARNEY/Desktop/새 폴더/c_project/LDH/data/CJFW/CJFW_data_FW_업종.xlsx')"
   ]
  },
  {
   "cell_type": "code",
   "execution_count": 182,
   "id": "0b46fc19",
   "metadata": {
    "scrolled": true
   },
   "outputs": [
    {
     "data": {
      "text/html": [
       "<div>\n",
       "<style scoped>\n",
       "    .dataframe tbody tr th:only-of-type {\n",
       "        vertical-align: middle;\n",
       "    }\n",
       "\n",
       "    .dataframe tbody tr th {\n",
       "        vertical-align: top;\n",
       "    }\n",
       "\n",
       "    .dataframe thead th {\n",
       "        text-align: right;\n",
       "    }\n",
       "</style>\n",
       "<table border=\"1\" class=\"dataframe\">\n",
       "  <thead>\n",
       "    <tr style=\"text-align: right;\">\n",
       "      <th></th>\n",
       "      <th>세무상호</th>\n",
       "    </tr>\n",
       "    <tr>\n",
       "      <th>업종</th>\n",
       "      <th></th>\n",
       "    </tr>\n",
       "  </thead>\n",
       "  <tbody>\n",
       "    <tr>\n",
       "      <th>1801110731728</th>\n",
       "      <td>1</td>\n",
       "    </tr>\n",
       "    <tr>\n",
       "      <th>PC방</th>\n",
       "      <td>2</td>\n",
       "    </tr>\n",
       "    <tr>\n",
       "      <th>PC수리</th>\n",
       "      <td>1</td>\n",
       "    </tr>\n",
       "    <tr>\n",
       "      <th>기타</th>\n",
       "      <td>2</td>\n",
       "    </tr>\n",
       "    <tr>\n",
       "      <th>기타식료품외</th>\n",
       "      <td>1</td>\n",
       "    </tr>\n",
       "    <tr>\n",
       "      <th>기타식음료품외</th>\n",
       "      <td>4</td>\n",
       "    </tr>\n",
       "    <tr>\n",
       "      <th>기타주점,포차</th>\n",
       "      <td>1</td>\n",
       "    </tr>\n",
       "    <tr>\n",
       "      <th>덮밥</th>\n",
       "      <td>1</td>\n",
       "    </tr>\n",
       "    <tr>\n",
       "      <th>도매</th>\n",
       "      <td>1</td>\n",
       "    </tr>\n",
       "    <tr>\n",
       "      <th>디저트</th>\n",
       "      <td>1</td>\n",
       "    </tr>\n",
       "    <tr>\n",
       "      <th>라멘</th>\n",
       "      <td>1</td>\n",
       "    </tr>\n",
       "    <tr>\n",
       "      <th>베트남음식</th>\n",
       "      <td>2</td>\n",
       "    </tr>\n",
       "    <tr>\n",
       "      <th>보드게임방</th>\n",
       "      <td>1</td>\n",
       "    </tr>\n",
       "    <tr>\n",
       "      <th>분식</th>\n",
       "      <td>10</td>\n",
       "    </tr>\n",
       "    <tr>\n",
       "      <th>상품 종합 도매, 가공식품</th>\n",
       "      <td>3</td>\n",
       "    </tr>\n",
       "    <tr>\n",
       "      <th>샐러드</th>\n",
       "      <td>2</td>\n",
       "    </tr>\n",
       "    <tr>\n",
       "      <th>서비스업</th>\n",
       "      <td>18</td>\n",
       "    </tr>\n",
       "    <tr>\n",
       "      <th>서양음식</th>\n",
       "      <td>1</td>\n",
       "    </tr>\n",
       "    <tr>\n",
       "      <th>식품소매, 홈쇼핑</th>\n",
       "      <td>1</td>\n",
       "    </tr>\n",
       "    <tr>\n",
       "      <th>식품접객업</th>\n",
       "      <td>1</td>\n",
       "    </tr>\n",
       "    <tr>\n",
       "      <th>양식</th>\n",
       "      <td>16</td>\n",
       "    </tr>\n",
       "    <tr>\n",
       "      <th>영화상영</th>\n",
       "      <td>1</td>\n",
       "    </tr>\n",
       "    <tr>\n",
       "      <th>영화상영업</th>\n",
       "      <td>1</td>\n",
       "    </tr>\n",
       "    <tr>\n",
       "      <th>음식</th>\n",
       "      <td>2</td>\n",
       "    </tr>\n",
       "    <tr>\n",
       "      <th>음식점</th>\n",
       "      <td>1</td>\n",
       "    </tr>\n",
       "    <tr>\n",
       "      <th>음식점업</th>\n",
       "      <td>2</td>\n",
       "    </tr>\n",
       "    <tr>\n",
       "      <th>일반 일식음식점</th>\n",
       "      <td>1</td>\n",
       "    </tr>\n",
       "    <tr>\n",
       "      <th>일반음식</th>\n",
       "      <td>4</td>\n",
       "    </tr>\n",
       "    <tr>\n",
       "      <th>일반음식점</th>\n",
       "      <td>2</td>\n",
       "    </tr>\n",
       "    <tr>\n",
       "      <th>일반음식점업</th>\n",
       "      <td>1</td>\n",
       "    </tr>\n",
       "    <tr>\n",
       "      <th>일식</th>\n",
       "      <td>5</td>\n",
       "    </tr>\n",
       "    <tr>\n",
       "      <th>전자상거래업</th>\n",
       "      <td>17</td>\n",
       "    </tr>\n",
       "    <tr>\n",
       "      <th>제과점업</th>\n",
       "      <td>1</td>\n",
       "    </tr>\n",
       "    <tr>\n",
       "      <th>중국음식점업</th>\n",
       "      <td>1</td>\n",
       "    </tr>\n",
       "    <tr>\n",
       "      <th>중식</th>\n",
       "      <td>3</td>\n",
       "    </tr>\n",
       "    <tr>\n",
       "      <th>즉석판매제조가공업</th>\n",
       "      <td>2</td>\n",
       "    </tr>\n",
       "    <tr>\n",
       "      <th>초밥전문점</th>\n",
       "      <td>1</td>\n",
       "    </tr>\n",
       "    <tr>\n",
       "      <th>치킨</th>\n",
       "      <td>2</td>\n",
       "    </tr>\n",
       "    <tr>\n",
       "      <th>치킨 전문점</th>\n",
       "      <td>1</td>\n",
       "    </tr>\n",
       "    <tr>\n",
       "      <th>치킨전문점</th>\n",
       "      <td>2</td>\n",
       "    </tr>\n",
       "    <tr>\n",
       "      <th>카페</th>\n",
       "      <td>5</td>\n",
       "    </tr>\n",
       "    <tr>\n",
       "      <th>커피 전문점</th>\n",
       "      <td>1</td>\n",
       "    </tr>\n",
       "    <tr>\n",
       "      <th>커피전문점</th>\n",
       "      <td>1</td>\n",
       "    </tr>\n",
       "    <tr>\n",
       "      <th>컨설팅</th>\n",
       "      <td>2</td>\n",
       "    </tr>\n",
       "    <tr>\n",
       "      <th>통신판매업</th>\n",
       "      <td>1</td>\n",
       "    </tr>\n",
       "    <tr>\n",
       "      <th>통신판매업, 인터넷방송업</th>\n",
       "      <td>1</td>\n",
       "    </tr>\n",
       "    <tr>\n",
       "      <th>프랜차이즈 가맹사업</th>\n",
       "      <td>3</td>\n",
       "    </tr>\n",
       "    <tr>\n",
       "      <th>프랜차이즈업</th>\n",
       "      <td>3</td>\n",
       "    </tr>\n",
       "    <tr>\n",
       "      <th>한식</th>\n",
       "      <td>22</td>\n",
       "    </tr>\n",
       "    <tr>\n",
       "      <th>한식 음식점</th>\n",
       "      <td>1</td>\n",
       "    </tr>\n",
       "    <tr>\n",
       "      <th>한식, 돈가스 분식</th>\n",
       "      <td>1</td>\n",
       "    </tr>\n",
       "    <tr>\n",
       "      <th>핫도그</th>\n",
       "      <td>3</td>\n",
       "    </tr>\n",
       "    <tr>\n",
       "      <th>호프</th>\n",
       "      <td>3</td>\n",
       "    </tr>\n",
       "    <tr>\n",
       "      <th>화장품 및 방향제 외</th>\n",
       "      <td>1</td>\n",
       "    </tr>\n",
       "    <tr>\n",
       "      <th>휴게음식점</th>\n",
       "      <td>1</td>\n",
       "    </tr>\n",
       "  </tbody>\n",
       "</table>\n",
       "</div>"
      ],
      "text/plain": [
       "                세무상호\n",
       "업종                  \n",
       "1801110731728      1\n",
       "PC방                2\n",
       "PC수리               1\n",
       "기타                 2\n",
       "기타식료품외             1\n",
       "기타식음료품외            4\n",
       "기타주점,포차            1\n",
       "덮밥                 1\n",
       "도매                 1\n",
       "디저트                1\n",
       "라멘                 1\n",
       "베트남음식              2\n",
       "보드게임방              1\n",
       "분식                10\n",
       "상품 종합 도매, 가공식품     3\n",
       "샐러드                2\n",
       "서비스업              18\n",
       "서양음식               1\n",
       "식품소매, 홈쇼핑          1\n",
       "식품접객업              1\n",
       "양식                16\n",
       "영화상영               1\n",
       "영화상영업              1\n",
       "음식                 2\n",
       "음식점                1\n",
       "음식점업               2\n",
       "일반 일식음식점           1\n",
       "일반음식               4\n",
       "일반음식점              2\n",
       "일반음식점업             1\n",
       "일식                 5\n",
       "전자상거래업            17\n",
       "제과점업               1\n",
       "중국음식점업             1\n",
       "중식                 3\n",
       "즉석판매제조가공업          2\n",
       "초밥전문점              1\n",
       "치킨                 2\n",
       "치킨 전문점             1\n",
       "치킨전문점              2\n",
       "카페                 5\n",
       "커피 전문점             1\n",
       "커피전문점              1\n",
       "컨설팅                2\n",
       "통신판매업              1\n",
       "통신판매업, 인터넷방송업      1\n",
       "프랜차이즈 가맹사업         3\n",
       "프랜차이즈업             3\n",
       "한식                22\n",
       "한식 음식점             1\n",
       "한식, 돈가스 분식         1\n",
       "핫도그                3\n",
       "호프                 3\n",
       "화장품 및 방향제 외        1\n",
       "휴게음식점              1"
      ]
     },
     "execution_count": 182,
     "metadata": {},
     "output_type": "execute_result"
    }
   ],
   "source": [
    "df_fw.groupby('업종').count()"
   ]
  },
  {
   "cell_type": "code",
   "execution_count": 185,
   "id": "18bb23d3",
   "metadata": {},
   "outputs": [
    {
     "data": {
      "text/html": [
       "<div>\n",
       "<style scoped>\n",
       "    .dataframe tbody tr th:only-of-type {\n",
       "        vertical-align: middle;\n",
       "    }\n",
       "\n",
       "    .dataframe tbody tr th {\n",
       "        vertical-align: top;\n",
       "    }\n",
       "\n",
       "    .dataframe thead th {\n",
       "        text-align: right;\n",
       "    }\n",
       "</style>\n",
       "<table border=\"1\" class=\"dataframe\">\n",
       "  <thead>\n",
       "    <tr style=\"text-align: right;\">\n",
       "      <th></th>\n",
       "      <th>영업상호</th>\n",
       "      <th>업종</th>\n",
       "      <th>영업상호1</th>\n",
       "      <th>주소</th>\n",
       "    </tr>\n",
       "  </thead>\n",
       "  <tbody>\n",
       "    <tr>\n",
       "      <th>0</th>\n",
       "      <td>쉬즈베이글(서교동)</td>\n",
       "      <td>양식</td>\n",
       "      <td>쉬즈베이글(서교동)</td>\n",
       "      <td>서울특별시 마포구 서교동 344-6 칼리오페</td>\n",
       "    </tr>\n",
       "    <tr>\n",
       "      <th>1</th>\n",
       "      <td>쉬즈베이글(마포점)</td>\n",
       "      <td>양식</td>\n",
       "      <td>쉬즈베이글(마포점)</td>\n",
       "      <td>서울 마포구 도화동 560</td>\n",
       "    </tr>\n",
       "    <tr>\n",
       "      <th>2</th>\n",
       "      <td>오더플러스 1989버거스탠드</td>\n",
       "      <td>양식</td>\n",
       "      <td>오더플러스 1989버거스탠드</td>\n",
       "      <td>서울 마포구 동교동 113-25</td>\n",
       "    </tr>\n",
       "    <tr>\n",
       "      <th>3</th>\n",
       "      <td>오더플러스 501 파스타</td>\n",
       "      <td>양식</td>\n",
       "      <td>오더플러스 501 파스타</td>\n",
       "      <td>서울 마포구 서교동 486</td>\n",
       "    </tr>\n",
       "    <tr>\n",
       "      <th>4</th>\n",
       "      <td>오더플러스 애프터모닝</td>\n",
       "      <td>양식</td>\n",
       "      <td>오더플러스 애프터모닝</td>\n",
       "      <td>서울 마포구 동교동 118-18</td>\n",
       "    </tr>\n",
       "    <tr>\n",
       "      <th>5</th>\n",
       "      <td>스푼필라프(홍대점)</td>\n",
       "      <td>양식</td>\n",
       "      <td>스푼필라프(홍대점)</td>\n",
       "      <td>서울 마포구 서교동 442-30</td>\n",
       "    </tr>\n",
       "    <tr>\n",
       "      <th>6</th>\n",
       "      <td>까르보네(마포성산점)</td>\n",
       "      <td>양식</td>\n",
       "      <td>까르보네(마포성산점)</td>\n",
       "      <td>서울특별시 마포구 성산제1동 245-15</td>\n",
       "    </tr>\n",
       "    <tr>\n",
       "      <th>7</th>\n",
       "      <td>에그벅(한신대점_베리타스드림)</td>\n",
       "      <td>양식</td>\n",
       "      <td>에그벅(한신대점_베리타스드림)</td>\n",
       "      <td>서울 마포구 공덕동 463</td>\n",
       "    </tr>\n",
       "    <tr>\n",
       "      <th>8</th>\n",
       "      <td>코키펍(홍대점)</td>\n",
       "      <td>양식</td>\n",
       "      <td>코키펍(홍대점)</td>\n",
       "      <td>서울특별시 마포구 서교동 364-2 태경빌딩</td>\n",
       "    </tr>\n",
       "    <tr>\n",
       "      <th>9</th>\n",
       "      <td>돼지게티(홍대점)</td>\n",
       "      <td>양식</td>\n",
       "      <td>돼지게티(홍대점)</td>\n",
       "      <td>서울 마포구 서교동 409-10</td>\n",
       "    </tr>\n",
       "    <tr>\n",
       "      <th>10</th>\n",
       "      <td>제비파스타(마포점)</td>\n",
       "      <td>양식</td>\n",
       "      <td>제비파스타(마포점)</td>\n",
       "      <td>서울 마포구 염리동 27-110</td>\n",
       "    </tr>\n",
       "    <tr>\n",
       "      <th>11</th>\n",
       "      <td>프랭크버거(신촌서강대점)</td>\n",
       "      <td>양식</td>\n",
       "      <td>프랭크버거(신촌서강대점)</td>\n",
       "      <td>서울 마포구 신수동 88-9</td>\n",
       "    </tr>\n",
       "    <tr>\n",
       "      <th>12</th>\n",
       "      <td>프랭크버거(광흥창역점)</td>\n",
       "      <td>양식</td>\n",
       "      <td>프랭크버거(광흥창역점)</td>\n",
       "      <td>서울 마포구 창전동 444</td>\n",
       "    </tr>\n",
       "    <tr>\n",
       "      <th>13</th>\n",
       "      <td>프랭크버거(마포도화점)</td>\n",
       "      <td>양식</td>\n",
       "      <td>프랭크버거(마포도화점)</td>\n",
       "      <td>서울 마포구 도화동 179-3</td>\n",
       "    </tr>\n",
       "    <tr>\n",
       "      <th>14</th>\n",
       "      <td>프랭크버거(마포구청역점)</td>\n",
       "      <td>양식</td>\n",
       "      <td>프랭크버거(마포구청역점)</td>\n",
       "      <td>서울 마포구 성산동 593-1</td>\n",
       "    </tr>\n",
       "    <tr>\n",
       "      <th>15</th>\n",
       "      <td>프랭크버거(마포연남점)</td>\n",
       "      <td>양식</td>\n",
       "      <td>프랭크버거(마포연남점)</td>\n",
       "      <td>서울 마포구 연남동 229-34</td>\n",
       "    </tr>\n",
       "  </tbody>\n",
       "</table>\n",
       "</div>"
      ],
      "text/plain": [
       "                영업상호  업종             영업상호1                        주소\n",
       "0         쉬즈베이글(서교동)  양식        쉬즈베이글(서교동)  서울특별시 마포구 서교동 344-6 칼리오페\n",
       "1         쉬즈베이글(마포점)  양식        쉬즈베이글(마포점)            서울 마포구 도화동 560\n",
       "2    오더플러스 1989버거스탠드  양식   오더플러스 1989버거스탠드         서울 마포구 동교동 113-25\n",
       "3      오더플러스 501 파스타  양식     오더플러스 501 파스타            서울 마포구 서교동 486\n",
       "4        오더플러스 애프터모닝  양식       오더플러스 애프터모닝         서울 마포구 동교동 118-18\n",
       "5         스푼필라프(홍대점)  양식        스푼필라프(홍대점)         서울 마포구 서교동 442-30\n",
       "6        까르보네(마포성산점)  양식       까르보네(마포성산점)    서울특별시 마포구 성산제1동 245-15\n",
       "7   에그벅(한신대점_베리타스드림)  양식  에그벅(한신대점_베리타스드림)            서울 마포구 공덕동 463\n",
       "8           코키펍(홍대점)  양식          코키펍(홍대점)  서울특별시 마포구 서교동 364-2 태경빌딩\n",
       "9          돼지게티(홍대점)  양식         돼지게티(홍대점)         서울 마포구 서교동 409-10\n",
       "10        제비파스타(마포점)  양식        제비파스타(마포점)         서울 마포구 염리동 27-110\n",
       "11     프랭크버거(신촌서강대점)  양식     프랭크버거(신촌서강대점)           서울 마포구 신수동 88-9\n",
       "12      프랭크버거(광흥창역점)  양식      프랭크버거(광흥창역점)            서울 마포구 창전동 444\n",
       "13      프랭크버거(마포도화점)  양식      프랭크버거(마포도화점)          서울 마포구 도화동 179-3\n",
       "14     프랭크버거(마포구청역점)  양식     프랭크버거(마포구청역점)          서울 마포구 성산동 593-1\n",
       "15      프랭크버거(마포연남점)  양식      프랭크버거(마포연남점)         서울 마포구 연남동 229-34"
      ]
     },
     "execution_count": 185,
     "metadata": {},
     "output_type": "execute_result"
    }
   ],
   "source": [
    "fw_west = df_fw[df_fw['업종']=='양식']\n",
    "fw_west.columns = ['영업상호','업종']\n",
    "\n",
    "df_fw_juso = pd.read_excel('C:/Users/KEARNEY/Desktop/새 폴더/c_project/LDH/data/CJFW/CJFW_data_FW_주소.xlsx')\n",
    "df_fw_juso.columns=['영업상호','영업상호1','주소']\n",
    "merge_fw_juso = pd.merge(fw_west, df_fw_juso, on=\"영업상호\")\n",
    "\n",
    "merge_fw_juso"
   ]
  },
  {
   "cell_type": "code",
   "execution_count": 167,
   "id": "48c8c258",
   "metadata": {},
   "outputs": [],
   "source": []
  },
  {
   "cell_type": "code",
   "execution_count": 187,
   "id": "f9fe7736",
   "metadata": {},
   "outputs": [],
   "source": [
    "total_west = pd.concat([merge_fo_juso[['영업상호','주소']] ,merge_fw_juso[['영업상호','주소']]],axis=0)"
   ]
  },
  {
   "cell_type": "code",
   "execution_count": 205,
   "id": "fda7cc04",
   "metadata": {},
   "outputs": [],
   "source": [
    "total_west= total_west.set_index(np.array(range(len(total_west))))"
   ]
  },
  {
   "cell_type": "code",
   "execution_count": 189,
   "id": "99346b0e",
   "metadata": {},
   "outputs": [
    {
     "data": {
      "text/html": [
       "<div>\n",
       "<style scoped>\n",
       "    .dataframe tbody tr th:only-of-type {\n",
       "        vertical-align: middle;\n",
       "    }\n",
       "\n",
       "    .dataframe tbody tr th {\n",
       "        vertical-align: top;\n",
       "    }\n",
       "\n",
       "    .dataframe thead th {\n",
       "        text-align: right;\n",
       "    }\n",
       "</style>\n",
       "<table border=\"1\" class=\"dataframe\">\n",
       "  <thead>\n",
       "    <tr style=\"text-align: right;\">\n",
       "      <th></th>\n",
       "      <th>영업상호</th>\n",
       "      <th>주소</th>\n",
       "    </tr>\n",
       "  </thead>\n",
       "  <tbody>\n",
       "    <tr>\n",
       "      <th>0</th>\n",
       "      <td>미장플라쎄          [09호_정진구]</td>\n",
       "      <td>서울특별시 마포구 양화로19길 22-30,</td>\n",
       "    </tr>\n",
       "    <tr>\n",
       "      <th>1</th>\n",
       "      <td>이관우파스타 30호_해다미(유현식)</td>\n",
       "      <td>서울특별시 마포구 동교로46길 29,</td>\n",
       "    </tr>\n",
       "    <tr>\n",
       "      <th>2</th>\n",
       "      <td>■RS_에일크루(동교동점)</td>\n",
       "      <td>서울특별시 마포구 와우산로37길 7 (동교동)</td>\n",
       "    </tr>\n",
       "    <tr>\n",
       "      <th>3</th>\n",
       "      <td>[폐업]■RS_헤즈밀(연남)</td>\n",
       "      <td>서울특별시 마포구 동교로46길 42-20 (연남동)</td>\n",
       "    </tr>\n",
       "    <tr>\n",
       "      <th>4</th>\n",
       "      <td>■RS_키노키친</td>\n",
       "      <td>서울특별시 마포구 와우산로29길 9</td>\n",
       "    </tr>\n",
       "  </tbody>\n",
       "</table>\n",
       "</div>"
      ],
      "text/plain": [
       "                       영업상호                            주소\n",
       "0  미장플라쎄          [09호_정진구]       서울특별시 마포구 양화로19길 22-30,\n",
       "1       이관우파스타 30호_해다미(유현식)          서울특별시 마포구 동교로46길 29,\n",
       "2            ■RS_에일크루(동교동점)     서울특별시 마포구 와우산로37길 7 (동교동)\n",
       "3           [폐업]■RS_헤즈밀(연남)  서울특별시 마포구 동교로46길 42-20 (연남동)\n",
       "4                  ■RS_키노키친           서울특별시 마포구 와우산로29길 9"
      ]
     },
     "execution_count": 189,
     "metadata": {},
     "output_type": "execute_result"
    }
   ],
   "source": [
    "total_west.head()"
   ]
  },
  {
   "cell_type": "code",
   "execution_count": 206,
   "id": "089f9cf8",
   "metadata": {},
   "outputs": [],
   "source": [
    "import re\n",
    "\n",
    "def remove_brackets(s):\n",
    "    # 괄호와 괄호 안의 내용을 제거하는 정규표현식\n",
    "    pattern = r'\\([^)]*\\)'\n",
    "\n",
    "    # 문자열에서 정규표현식에 해당하는 부분을 모두 제거\n",
    "    result = re.sub(pattern, '', s)\n",
    "\n",
    "    # 특수문자를 제거하는 정규표현식\n",
    "    pattern = r'[^\\w\\s-]'\n",
    "\n",
    "    # 문자열에서 정규표현식에 해당하는 부분을 모두 제거\n",
    "    result = re.sub(pattern, '', result)\n",
    "    \n",
    "\n",
    "    return result\n"
   ]
  },
  {
   "cell_type": "code",
   "execution_count": 207,
   "id": "268f871f",
   "metadata": {},
   "outputs": [],
   "source": [
    "total_west['주소'] = total_west['주소'].apply(remove_brackets)"
   ]
  },
  {
   "cell_type": "code",
   "execution_count": 208,
   "id": "7ad4e6b8",
   "metadata": {},
   "outputs": [
    {
     "data": {
      "text/html": [
       "<div>\n",
       "<style scoped>\n",
       "    .dataframe tbody tr th:only-of-type {\n",
       "        vertical-align: middle;\n",
       "    }\n",
       "\n",
       "    .dataframe tbody tr th {\n",
       "        vertical-align: top;\n",
       "    }\n",
       "\n",
       "    .dataframe thead th {\n",
       "        text-align: right;\n",
       "    }\n",
       "</style>\n",
       "<table border=\"1\" class=\"dataframe\">\n",
       "  <thead>\n",
       "    <tr style=\"text-align: right;\">\n",
       "      <th></th>\n",
       "      <th>영업상호</th>\n",
       "      <th>주소</th>\n",
       "    </tr>\n",
       "  </thead>\n",
       "  <tbody>\n",
       "    <tr>\n",
       "      <th>0</th>\n",
       "      <td>미장플라쎄          [09호_정진구]</td>\n",
       "      <td>서울특별시 마포구 양화로19길 22-30</td>\n",
       "    </tr>\n",
       "    <tr>\n",
       "      <th>1</th>\n",
       "      <td>이관우파스타 30호_해다미(유현식)</td>\n",
       "      <td>서울특별시 마포구 동교로46길 29</td>\n",
       "    </tr>\n",
       "    <tr>\n",
       "      <th>2</th>\n",
       "      <td>■RS_에일크루(동교동점)</td>\n",
       "      <td>서울특별시 마포구 와우산로37길 7</td>\n",
       "    </tr>\n",
       "    <tr>\n",
       "      <th>3</th>\n",
       "      <td>[폐업]■RS_헤즈밀(연남)</td>\n",
       "      <td>서울특별시 마포구 동교로46길 42-20</td>\n",
       "    </tr>\n",
       "    <tr>\n",
       "      <th>4</th>\n",
       "      <td>■RS_키노키친</td>\n",
       "      <td>서울특별시 마포구 와우산로29길 9</td>\n",
       "    </tr>\n",
       "    <tr>\n",
       "      <th>5</th>\n",
       "      <td>□RS_탑클라우드23</td>\n",
       "      <td>서울특별시 마포구 백범로 192</td>\n",
       "    </tr>\n",
       "    <tr>\n",
       "      <th>6</th>\n",
       "      <td>쉬즈베이글(서교동)</td>\n",
       "      <td>서울특별시 마포구 서교동 344-6 칼리오페</td>\n",
       "    </tr>\n",
       "    <tr>\n",
       "      <th>7</th>\n",
       "      <td>쉬즈베이글(마포점)</td>\n",
       "      <td>서울 마포구 도화동 560</td>\n",
       "    </tr>\n",
       "    <tr>\n",
       "      <th>8</th>\n",
       "      <td>오더플러스 1989버거스탠드</td>\n",
       "      <td>서울 마포구 동교동 113-25</td>\n",
       "    </tr>\n",
       "    <tr>\n",
       "      <th>9</th>\n",
       "      <td>오더플러스 501 파스타</td>\n",
       "      <td>서울 마포구 서교동 486</td>\n",
       "    </tr>\n",
       "    <tr>\n",
       "      <th>10</th>\n",
       "      <td>오더플러스 애프터모닝</td>\n",
       "      <td>서울 마포구 동교동 118-18</td>\n",
       "    </tr>\n",
       "    <tr>\n",
       "      <th>11</th>\n",
       "      <td>스푼필라프(홍대점)</td>\n",
       "      <td>서울 마포구 서교동 442-30</td>\n",
       "    </tr>\n",
       "    <tr>\n",
       "      <th>12</th>\n",
       "      <td>까르보네(마포성산점)</td>\n",
       "      <td>서울특별시 마포구 성산제1동 245-15</td>\n",
       "    </tr>\n",
       "    <tr>\n",
       "      <th>13</th>\n",
       "      <td>에그벅(한신대점_베리타스드림)</td>\n",
       "      <td>서울 마포구 공덕동 463</td>\n",
       "    </tr>\n",
       "    <tr>\n",
       "      <th>14</th>\n",
       "      <td>코키펍(홍대점)</td>\n",
       "      <td>서울특별시 마포구 서교동 364-2 태경빌딩</td>\n",
       "    </tr>\n",
       "    <tr>\n",
       "      <th>15</th>\n",
       "      <td>돼지게티(홍대점)</td>\n",
       "      <td>서울 마포구 서교동 409-10</td>\n",
       "    </tr>\n",
       "    <tr>\n",
       "      <th>16</th>\n",
       "      <td>제비파스타(마포점)</td>\n",
       "      <td>서울 마포구 염리동 27-110</td>\n",
       "    </tr>\n",
       "    <tr>\n",
       "      <th>17</th>\n",
       "      <td>프랭크버거(신촌서강대점)</td>\n",
       "      <td>서울 마포구 신수동 88-9</td>\n",
       "    </tr>\n",
       "    <tr>\n",
       "      <th>18</th>\n",
       "      <td>프랭크버거(광흥창역점)</td>\n",
       "      <td>서울 마포구 창전동 444</td>\n",
       "    </tr>\n",
       "    <tr>\n",
       "      <th>19</th>\n",
       "      <td>프랭크버거(마포도화점)</td>\n",
       "      <td>서울 마포구 도화동 179-3</td>\n",
       "    </tr>\n",
       "    <tr>\n",
       "      <th>20</th>\n",
       "      <td>프랭크버거(마포구청역점)</td>\n",
       "      <td>서울 마포구 성산동 593-1</td>\n",
       "    </tr>\n",
       "    <tr>\n",
       "      <th>21</th>\n",
       "      <td>프랭크버거(마포연남점)</td>\n",
       "      <td>서울 마포구 연남동 229-34</td>\n",
       "    </tr>\n",
       "  </tbody>\n",
       "</table>\n",
       "</div>"
      ],
      "text/plain": [
       "                        영업상호                        주소\n",
       "0   미장플라쎄          [09호_정진구]    서울특별시 마포구 양화로19길 22-30\n",
       "1        이관우파스타 30호_해다미(유현식)       서울특별시 마포구 동교로46길 29\n",
       "2             ■RS_에일크루(동교동점)      서울특별시 마포구 와우산로37길 7 \n",
       "3            [폐업]■RS_헤즈밀(연남)   서울특별시 마포구 동교로46길 42-20 \n",
       "4                   ■RS_키노키친       서울특별시 마포구 와우산로29길 9\n",
       "5                □RS_탑클라우드23        서울특별시 마포구 백범로 192 \n",
       "6                 쉬즈베이글(서교동)  서울특별시 마포구 서교동 344-6 칼리오페\n",
       "7                 쉬즈베이글(마포점)            서울 마포구 도화동 560\n",
       "8            오더플러스 1989버거스탠드         서울 마포구 동교동 113-25\n",
       "9              오더플러스 501 파스타            서울 마포구 서교동 486\n",
       "10               오더플러스 애프터모닝         서울 마포구 동교동 118-18\n",
       "11                스푼필라프(홍대점)         서울 마포구 서교동 442-30\n",
       "12               까르보네(마포성산점)    서울특별시 마포구 성산제1동 245-15\n",
       "13          에그벅(한신대점_베리타스드림)            서울 마포구 공덕동 463\n",
       "14                  코키펍(홍대점)  서울특별시 마포구 서교동 364-2 태경빌딩\n",
       "15                 돼지게티(홍대점)         서울 마포구 서교동 409-10\n",
       "16                제비파스타(마포점)         서울 마포구 염리동 27-110\n",
       "17             프랭크버거(신촌서강대점)           서울 마포구 신수동 88-9\n",
       "18              프랭크버거(광흥창역점)            서울 마포구 창전동 444\n",
       "19              프랭크버거(마포도화점)          서울 마포구 도화동 179-3\n",
       "20             프랭크버거(마포구청역점)          서울 마포구 성산동 593-1\n",
       "21              프랭크버거(마포연남점)         서울 마포구 연남동 229-34"
      ]
     },
     "execution_count": 208,
     "metadata": {},
     "output_type": "execute_result"
    }
   ],
   "source": [
    "total_west"
   ]
  },
  {
   "cell_type": "code",
   "execution_count": 224,
   "id": "f8cb135b",
   "metadata": {},
   "outputs": [],
   "source": [
    "total_west.loc[6,'주소'] = '서울특별시 마포구 서교동 344-6'\n",
    "total_west.loc[12,'주소'] = '서울특별시 마포구 성산동 245-15'\n",
    "total_west.loc[14,'주소'] = '서울특별시 마포구 서교동 364-2'"
   ]
  },
  {
   "cell_type": "code",
   "execution_count": 225,
   "id": "a404f78d",
   "metadata": {},
   "outputs": [
    {
     "name": "stdout",
     "output_type": "stream",
     "text": [
      "서울특별시 마포구 성산동 245-15\n"
     ]
    },
    {
     "data": {
      "text/plain": [
       "37.56775"
      ]
     },
     "execution_count": 225,
     "metadata": {},
     "output_type": "execute_result"
    }
   ],
   "source": [
    "address_lat('서울특별시 마포구 성산동 245-15')"
   ]
  },
  {
   "cell_type": "markdown",
   "id": "7f73d5a0",
   "metadata": {},
   "source": [
    "# 양식 업체들 위치 지도"
   ]
  },
  {
   "cell_type": "code",
   "execution_count": 243,
   "id": "a5e2211c",
   "metadata": {},
   "outputs": [],
   "source": [
    "#주소 -> 위도 경도 변환\n",
    "from geopy.geocoders import Nominatim\n",
    "import pandas as pd\n",
    "import plotly.express as px\n",
    "\n",
    "def address_lat(address):\n",
    "    #print(address)\n",
    "    geolocoder = Nominatim(user_agent = 'South Korea', timeout=None)\n",
    "    idx = address.find('(')\n",
    "    \n",
    "    address = address[:idx-1]\n",
    "    \n",
    "    geo = geolocoder.geocode(address)\n",
    "    #crd = {\"lat\": str(geo.latitude), \"lng\": str(geo.longitude)}\n",
    "    \n",
    "    lat = geo.latitude\n",
    "    \n",
    "    return lat\n",
    "\n",
    "def address_lng(address):\n",
    "    geolocoder = Nominatim(user_agent = 'South Korea', timeout=None)\n",
    "    idx = address.find('(')\n",
    "    \n",
    "    address = address[:idx-1]\n",
    "    \n",
    "    geo = geolocoder.geocode(address)\n",
    "    #crd = {\"lat\": str(geo.latitude), \"lng\": str(geo.longitude)}\n",
    "    \n",
    "    lng = geo.longitude\n",
    "    \n",
    "\n",
    "    return lng\n",
    "\n",
    "#그림 그리기\n",
    "def plotly_ploting(df):\n",
    "    \n",
    "    \n",
    "\n",
    "    lat =df['주소'].apply(address_lat)\n",
    "    lng =df['주소'].apply(address_lng)\n",
    "\n",
    "    df['lat']=lat\n",
    "    df['lng']=lng\n",
    "    \n",
    "    fig = px.scatter_mapbox(df, lat='lat', lon='lng', hover_name='영업상호')\n",
    "    fig.update_layout(mapbox_style = \"open-street-map\")\n",
    "    fig.show()\n",
    "    \n",
    "    \n"
   ]
  },
  {
   "cell_type": "code",
   "execution_count": 244,
   "id": "9b180acc",
   "metadata": {},
   "outputs": [
    {
     "data": {
      "application/vnd.plotly.v1+json": {
       "config": {
        "plotlyServerURL": "https://plotly.com"
       },
       "data": [
        {
         "hovertemplate": "<b>%{hovertext}</b><br><br>lat=%{lat}<br>lng=%{lon}<extra></extra>",
         "hovertext": [
          "미장플라쎄          [09호_정진구]",
          "이관우파스타 30호_해다미(유현식)",
          "■RS_에일크루(동교동점)",
          "[폐업]■RS_헤즈밀(연남)",
          "■RS_키노키친",
          "□RS_탑클라우드23",
          "쉬즈베이글(서교동)",
          "쉬즈베이글(마포점)",
          "오더플러스 1989버거스탠드",
          "오더플러스 501 파스타",
          "오더플러스 애프터모닝",
          "스푼필라프(홍대점)",
          "까르보네(마포성산점)",
          "에그벅(한신대점_베리타스드림)",
          "코키펍(홍대점)",
          "돼지게티(홍대점)",
          "제비파스타(마포점)",
          "프랭크버거(신촌서강대점)",
          "프랭크버거(광흥창역점)",
          "프랭크버거(마포도화점)",
          "프랭크버거(마포구청역점)",
          "프랭크버거(마포연남점)"
         ],
         "lat": [
          37.5588641,
          37.5622319,
          37.5557567,
          37.5622319,
          37.5554122,
          37.5440308,
          37.5550706,
          37.53842455,
          37.5571419,
          37.5502054,
          37.5571419,
          37.5550706,
          37.56775,
          37.5503577,
          37.5550706,
          37.5550706,
          37.54914,
          37.54620345,
          37.55007,
          37.5386394,
          37.56775,
          37.56258
         ],
         "legendgroup": "",
         "lon": [
          126.9244027,
          126.9261355,
          126.9306874,
          126.9261355,
          126.9280305,
          126.950992,
          126.92382487891514,
          126.94961836310013,
          126.9261901,
          126.915153,
          126.9261901,
          126.92382487891514,
          126.90263,
          126.94980912133417,
          126.92382487891514,
          126.92382487891514,
          126.94915,
          126.9359375116903,
          126.92938,
          126.94924282127039,
          126.90263,
          126.92196
         ],
         "marker": {
          "color": "#636efa"
         },
         "mode": "markers",
         "name": "",
         "showlegend": false,
         "subplot": "mapbox",
         "type": "scattermapbox"
        }
       ],
       "layout": {
        "legend": {
         "tracegroupgap": 0
        },
        "mapbox": {
         "center": {
          "lat": 37.55428246818182,
          "lon": 126.92907155150252
         },
         "domain": {
          "x": [
           0,
           1
          ],
          "y": [
           0,
           1
          ]
         },
         "style": "open-street-map",
         "zoom": 8
        },
        "margin": {
         "t": 60
        },
        "template": {
         "data": {
          "bar": [
           {
            "error_x": {
             "color": "#2a3f5f"
            },
            "error_y": {
             "color": "#2a3f5f"
            },
            "marker": {
             "line": {
              "color": "#E5ECF6",
              "width": 0.5
             },
             "pattern": {
              "fillmode": "overlay",
              "size": 10,
              "solidity": 0.2
             }
            },
            "type": "bar"
           }
          ],
          "barpolar": [
           {
            "marker": {
             "line": {
              "color": "#E5ECF6",
              "width": 0.5
             },
             "pattern": {
              "fillmode": "overlay",
              "size": 10,
              "solidity": 0.2
             }
            },
            "type": "barpolar"
           }
          ],
          "carpet": [
           {
            "aaxis": {
             "endlinecolor": "#2a3f5f",
             "gridcolor": "white",
             "linecolor": "white",
             "minorgridcolor": "white",
             "startlinecolor": "#2a3f5f"
            },
            "baxis": {
             "endlinecolor": "#2a3f5f",
             "gridcolor": "white",
             "linecolor": "white",
             "minorgridcolor": "white",
             "startlinecolor": "#2a3f5f"
            },
            "type": "carpet"
           }
          ],
          "choropleth": [
           {
            "colorbar": {
             "outlinewidth": 0,
             "ticks": ""
            },
            "type": "choropleth"
           }
          ],
          "contour": [
           {
            "colorbar": {
             "outlinewidth": 0,
             "ticks": ""
            },
            "colorscale": [
             [
              0,
              "#0d0887"
             ],
             [
              0.1111111111111111,
              "#46039f"
             ],
             [
              0.2222222222222222,
              "#7201a8"
             ],
             [
              0.3333333333333333,
              "#9c179e"
             ],
             [
              0.4444444444444444,
              "#bd3786"
             ],
             [
              0.5555555555555556,
              "#d8576b"
             ],
             [
              0.6666666666666666,
              "#ed7953"
             ],
             [
              0.7777777777777778,
              "#fb9f3a"
             ],
             [
              0.8888888888888888,
              "#fdca26"
             ],
             [
              1,
              "#f0f921"
             ]
            ],
            "type": "contour"
           }
          ],
          "contourcarpet": [
           {
            "colorbar": {
             "outlinewidth": 0,
             "ticks": ""
            },
            "type": "contourcarpet"
           }
          ],
          "heatmap": [
           {
            "colorbar": {
             "outlinewidth": 0,
             "ticks": ""
            },
            "colorscale": [
             [
              0,
              "#0d0887"
             ],
             [
              0.1111111111111111,
              "#46039f"
             ],
             [
              0.2222222222222222,
              "#7201a8"
             ],
             [
              0.3333333333333333,
              "#9c179e"
             ],
             [
              0.4444444444444444,
              "#bd3786"
             ],
             [
              0.5555555555555556,
              "#d8576b"
             ],
             [
              0.6666666666666666,
              "#ed7953"
             ],
             [
              0.7777777777777778,
              "#fb9f3a"
             ],
             [
              0.8888888888888888,
              "#fdca26"
             ],
             [
              1,
              "#f0f921"
             ]
            ],
            "type": "heatmap"
           }
          ],
          "heatmapgl": [
           {
            "colorbar": {
             "outlinewidth": 0,
             "ticks": ""
            },
            "colorscale": [
             [
              0,
              "#0d0887"
             ],
             [
              0.1111111111111111,
              "#46039f"
             ],
             [
              0.2222222222222222,
              "#7201a8"
             ],
             [
              0.3333333333333333,
              "#9c179e"
             ],
             [
              0.4444444444444444,
              "#bd3786"
             ],
             [
              0.5555555555555556,
              "#d8576b"
             ],
             [
              0.6666666666666666,
              "#ed7953"
             ],
             [
              0.7777777777777778,
              "#fb9f3a"
             ],
             [
              0.8888888888888888,
              "#fdca26"
             ],
             [
              1,
              "#f0f921"
             ]
            ],
            "type": "heatmapgl"
           }
          ],
          "histogram": [
           {
            "marker": {
             "pattern": {
              "fillmode": "overlay",
              "size": 10,
              "solidity": 0.2
             }
            },
            "type": "histogram"
           }
          ],
          "histogram2d": [
           {
            "colorbar": {
             "outlinewidth": 0,
             "ticks": ""
            },
            "colorscale": [
             [
              0,
              "#0d0887"
             ],
             [
              0.1111111111111111,
              "#46039f"
             ],
             [
              0.2222222222222222,
              "#7201a8"
             ],
             [
              0.3333333333333333,
              "#9c179e"
             ],
             [
              0.4444444444444444,
              "#bd3786"
             ],
             [
              0.5555555555555556,
              "#d8576b"
             ],
             [
              0.6666666666666666,
              "#ed7953"
             ],
             [
              0.7777777777777778,
              "#fb9f3a"
             ],
             [
              0.8888888888888888,
              "#fdca26"
             ],
             [
              1,
              "#f0f921"
             ]
            ],
            "type": "histogram2d"
           }
          ],
          "histogram2dcontour": [
           {
            "colorbar": {
             "outlinewidth": 0,
             "ticks": ""
            },
            "colorscale": [
             [
              0,
              "#0d0887"
             ],
             [
              0.1111111111111111,
              "#46039f"
             ],
             [
              0.2222222222222222,
              "#7201a8"
             ],
             [
              0.3333333333333333,
              "#9c179e"
             ],
             [
              0.4444444444444444,
              "#bd3786"
             ],
             [
              0.5555555555555556,
              "#d8576b"
             ],
             [
              0.6666666666666666,
              "#ed7953"
             ],
             [
              0.7777777777777778,
              "#fb9f3a"
             ],
             [
              0.8888888888888888,
              "#fdca26"
             ],
             [
              1,
              "#f0f921"
             ]
            ],
            "type": "histogram2dcontour"
           }
          ],
          "mesh3d": [
           {
            "colorbar": {
             "outlinewidth": 0,
             "ticks": ""
            },
            "type": "mesh3d"
           }
          ],
          "parcoords": [
           {
            "line": {
             "colorbar": {
              "outlinewidth": 0,
              "ticks": ""
             }
            },
            "type": "parcoords"
           }
          ],
          "pie": [
           {
            "automargin": true,
            "type": "pie"
           }
          ],
          "scatter": [
           {
            "fillpattern": {
             "fillmode": "overlay",
             "size": 10,
             "solidity": 0.2
            },
            "type": "scatter"
           }
          ],
          "scatter3d": [
           {
            "line": {
             "colorbar": {
              "outlinewidth": 0,
              "ticks": ""
             }
            },
            "marker": {
             "colorbar": {
              "outlinewidth": 0,
              "ticks": ""
             }
            },
            "type": "scatter3d"
           }
          ],
          "scattercarpet": [
           {
            "marker": {
             "colorbar": {
              "outlinewidth": 0,
              "ticks": ""
             }
            },
            "type": "scattercarpet"
           }
          ],
          "scattergeo": [
           {
            "marker": {
             "colorbar": {
              "outlinewidth": 0,
              "ticks": ""
             }
            },
            "type": "scattergeo"
           }
          ],
          "scattergl": [
           {
            "marker": {
             "colorbar": {
              "outlinewidth": 0,
              "ticks": ""
             }
            },
            "type": "scattergl"
           }
          ],
          "scattermapbox": [
           {
            "marker": {
             "colorbar": {
              "outlinewidth": 0,
              "ticks": ""
             }
            },
            "type": "scattermapbox"
           }
          ],
          "scatterpolar": [
           {
            "marker": {
             "colorbar": {
              "outlinewidth": 0,
              "ticks": ""
             }
            },
            "type": "scatterpolar"
           }
          ],
          "scatterpolargl": [
           {
            "marker": {
             "colorbar": {
              "outlinewidth": 0,
              "ticks": ""
             }
            },
            "type": "scatterpolargl"
           }
          ],
          "scatterternary": [
           {
            "marker": {
             "colorbar": {
              "outlinewidth": 0,
              "ticks": ""
             }
            },
            "type": "scatterternary"
           }
          ],
          "surface": [
           {
            "colorbar": {
             "outlinewidth": 0,
             "ticks": ""
            },
            "colorscale": [
             [
              0,
              "#0d0887"
             ],
             [
              0.1111111111111111,
              "#46039f"
             ],
             [
              0.2222222222222222,
              "#7201a8"
             ],
             [
              0.3333333333333333,
              "#9c179e"
             ],
             [
              0.4444444444444444,
              "#bd3786"
             ],
             [
              0.5555555555555556,
              "#d8576b"
             ],
             [
              0.6666666666666666,
              "#ed7953"
             ],
             [
              0.7777777777777778,
              "#fb9f3a"
             ],
             [
              0.8888888888888888,
              "#fdca26"
             ],
             [
              1,
              "#f0f921"
             ]
            ],
            "type": "surface"
           }
          ],
          "table": [
           {
            "cells": {
             "fill": {
              "color": "#EBF0F8"
             },
             "line": {
              "color": "white"
             }
            },
            "header": {
             "fill": {
              "color": "#C8D4E3"
             },
             "line": {
              "color": "white"
             }
            },
            "type": "table"
           }
          ]
         },
         "layout": {
          "annotationdefaults": {
           "arrowcolor": "#2a3f5f",
           "arrowhead": 0,
           "arrowwidth": 1
          },
          "autotypenumbers": "strict",
          "coloraxis": {
           "colorbar": {
            "outlinewidth": 0,
            "ticks": ""
           }
          },
          "colorscale": {
           "diverging": [
            [
             0,
             "#8e0152"
            ],
            [
             0.1,
             "#c51b7d"
            ],
            [
             0.2,
             "#de77ae"
            ],
            [
             0.3,
             "#f1b6da"
            ],
            [
             0.4,
             "#fde0ef"
            ],
            [
             0.5,
             "#f7f7f7"
            ],
            [
             0.6,
             "#e6f5d0"
            ],
            [
             0.7,
             "#b8e186"
            ],
            [
             0.8,
             "#7fbc41"
            ],
            [
             0.9,
             "#4d9221"
            ],
            [
             1,
             "#276419"
            ]
           ],
           "sequential": [
            [
             0,
             "#0d0887"
            ],
            [
             0.1111111111111111,
             "#46039f"
            ],
            [
             0.2222222222222222,
             "#7201a8"
            ],
            [
             0.3333333333333333,
             "#9c179e"
            ],
            [
             0.4444444444444444,
             "#bd3786"
            ],
            [
             0.5555555555555556,
             "#d8576b"
            ],
            [
             0.6666666666666666,
             "#ed7953"
            ],
            [
             0.7777777777777778,
             "#fb9f3a"
            ],
            [
             0.8888888888888888,
             "#fdca26"
            ],
            [
             1,
             "#f0f921"
            ]
           ],
           "sequentialminus": [
            [
             0,
             "#0d0887"
            ],
            [
             0.1111111111111111,
             "#46039f"
            ],
            [
             0.2222222222222222,
             "#7201a8"
            ],
            [
             0.3333333333333333,
             "#9c179e"
            ],
            [
             0.4444444444444444,
             "#bd3786"
            ],
            [
             0.5555555555555556,
             "#d8576b"
            ],
            [
             0.6666666666666666,
             "#ed7953"
            ],
            [
             0.7777777777777778,
             "#fb9f3a"
            ],
            [
             0.8888888888888888,
             "#fdca26"
            ],
            [
             1,
             "#f0f921"
            ]
           ]
          },
          "colorway": [
           "#636efa",
           "#EF553B",
           "#00cc96",
           "#ab63fa",
           "#FFA15A",
           "#19d3f3",
           "#FF6692",
           "#B6E880",
           "#FF97FF",
           "#FECB52"
          ],
          "font": {
           "color": "#2a3f5f"
          },
          "geo": {
           "bgcolor": "white",
           "lakecolor": "white",
           "landcolor": "#E5ECF6",
           "showlakes": true,
           "showland": true,
           "subunitcolor": "white"
          },
          "hoverlabel": {
           "align": "left"
          },
          "hovermode": "closest",
          "mapbox": {
           "style": "light"
          },
          "paper_bgcolor": "white",
          "plot_bgcolor": "#E5ECF6",
          "polar": {
           "angularaxis": {
            "gridcolor": "white",
            "linecolor": "white",
            "ticks": ""
           },
           "bgcolor": "#E5ECF6",
           "radialaxis": {
            "gridcolor": "white",
            "linecolor": "white",
            "ticks": ""
           }
          },
          "scene": {
           "xaxis": {
            "backgroundcolor": "#E5ECF6",
            "gridcolor": "white",
            "gridwidth": 2,
            "linecolor": "white",
            "showbackground": true,
            "ticks": "",
            "zerolinecolor": "white"
           },
           "yaxis": {
            "backgroundcolor": "#E5ECF6",
            "gridcolor": "white",
            "gridwidth": 2,
            "linecolor": "white",
            "showbackground": true,
            "ticks": "",
            "zerolinecolor": "white"
           },
           "zaxis": {
            "backgroundcolor": "#E5ECF6",
            "gridcolor": "white",
            "gridwidth": 2,
            "linecolor": "white",
            "showbackground": true,
            "ticks": "",
            "zerolinecolor": "white"
           }
          },
          "shapedefaults": {
           "line": {
            "color": "#2a3f5f"
           }
          },
          "ternary": {
           "aaxis": {
            "gridcolor": "white",
            "linecolor": "white",
            "ticks": ""
           },
           "baxis": {
            "gridcolor": "white",
            "linecolor": "white",
            "ticks": ""
           },
           "bgcolor": "#E5ECF6",
           "caxis": {
            "gridcolor": "white",
            "linecolor": "white",
            "ticks": ""
           }
          },
          "title": {
           "x": 0.05
          },
          "xaxis": {
           "automargin": true,
           "gridcolor": "white",
           "linecolor": "white",
           "ticks": "",
           "title": {
            "standoff": 15
           },
           "zerolinecolor": "white",
           "zerolinewidth": 2
          },
          "yaxis": {
           "automargin": true,
           "gridcolor": "white",
           "linecolor": "white",
           "ticks": "",
           "title": {
            "standoff": 15
           },
           "zerolinecolor": "white",
           "zerolinewidth": 2
          }
         }
        }
       }
      },
      "text/html": [
       "<div>                            <div id=\"a6a73a15-074b-45e3-8ee1-1cf14ed460d9\" class=\"plotly-graph-div\" style=\"height:525px; width:100%;\"></div>            <script type=\"text/javascript\">                require([\"plotly\"], function(Plotly) {                    window.PLOTLYENV=window.PLOTLYENV || {};                                    if (document.getElementById(\"a6a73a15-074b-45e3-8ee1-1cf14ed460d9\")) {                    Plotly.newPlot(                        \"a6a73a15-074b-45e3-8ee1-1cf14ed460d9\",                        [{\"hovertemplate\":\"<b>%{hovertext}</b><br><br>lat=%{lat}<br>lng=%{lon}<extra></extra>\",\"hovertext\":[\"\\ubbf8\\uc7a5\\ud50c\\ub77c\\uc384          [09\\ud638_\\uc815\\uc9c4\\uad6c]\",\"\\uc774\\uad00\\uc6b0\\ud30c\\uc2a4\\ud0c0 30\\ud638_\\ud574\\ub2e4\\ubbf8(\\uc720\\ud604\\uc2dd)\",\"\\u25a0RS_\\uc5d0\\uc77c\\ud06c\\ub8e8(\\ub3d9\\uad50\\ub3d9\\uc810)\",\"[\\ud3d0\\uc5c5]\\u25a0RS_\\ud5e4\\uc988\\ubc00(\\uc5f0\\ub0a8)\",\"\\u25a0RS_\\ud0a4\\ub178\\ud0a4\\uce5c\",\"\\u25a1RS_\\ud0d1\\ud074\\ub77c\\uc6b0\\ub4dc23\",\"\\uc26c\\uc988\\ubca0\\uc774\\uae00(\\uc11c\\uad50\\ub3d9)\",\"\\uc26c\\uc988\\ubca0\\uc774\\uae00(\\ub9c8\\ud3ec\\uc810)\",\"\\uc624\\ub354\\ud50c\\ub7ec\\uc2a4 1989\\ubc84\\uac70\\uc2a4\\ud0e0\\ub4dc\",\"\\uc624\\ub354\\ud50c\\ub7ec\\uc2a4 501 \\ud30c\\uc2a4\\ud0c0\",\"\\uc624\\ub354\\ud50c\\ub7ec\\uc2a4 \\uc560\\ud504\\ud130\\ubaa8\\ub2dd\",\"\\uc2a4\\ud47c\\ud544\\ub77c\\ud504(\\ud64d\\ub300\\uc810)\",\"\\uae4c\\ub974\\ubcf4\\ub124(\\ub9c8\\ud3ec\\uc131\\uc0b0\\uc810)\",\"\\uc5d0\\uadf8\\ubc85(\\ud55c\\uc2e0\\ub300\\uc810_\\ubca0\\ub9ac\\ud0c0\\uc2a4\\ub4dc\\ub9bc)\",\"\\ucf54\\ud0a4\\ud38d(\\ud64d\\ub300\\uc810)\",\"\\ub3fc\\uc9c0\\uac8c\\ud2f0(\\ud64d\\ub300\\uc810)\",\"\\uc81c\\ube44\\ud30c\\uc2a4\\ud0c0(\\ub9c8\\ud3ec\\uc810)\",\"\\ud504\\ub7ad\\ud06c\\ubc84\\uac70(\\uc2e0\\ucd0c\\uc11c\\uac15\\ub300\\uc810)\",\"\\ud504\\ub7ad\\ud06c\\ubc84\\uac70(\\uad11\\ud765\\ucc3d\\uc5ed\\uc810)\",\"\\ud504\\ub7ad\\ud06c\\ubc84\\uac70(\\ub9c8\\ud3ec\\ub3c4\\ud654\\uc810)\",\"\\ud504\\ub7ad\\ud06c\\ubc84\\uac70(\\ub9c8\\ud3ec\\uad6c\\uccad\\uc5ed\\uc810)\",\"\\ud504\\ub7ad\\ud06c\\ubc84\\uac70(\\ub9c8\\ud3ec\\uc5f0\\ub0a8\\uc810)\"],\"lat\":[37.5588641,37.5622319,37.5557567,37.5622319,37.5554122,37.5440308,37.5550706,37.53842455,37.5571419,37.5502054,37.5571419,37.5550706,37.56775,37.5503577,37.5550706,37.5550706,37.54914,37.54620345,37.55007,37.5386394,37.56775,37.56258],\"legendgroup\":\"\",\"lon\":[126.9244027,126.9261355,126.9306874,126.9261355,126.9280305,126.950992,126.92382487891514,126.94961836310013,126.9261901,126.915153,126.9261901,126.92382487891514,126.90263,126.94980912133417,126.92382487891514,126.92382487891514,126.94915,126.9359375116903,126.92938,126.94924282127039,126.90263,126.92196],\"marker\":{\"color\":\"#636efa\"},\"mode\":\"markers\",\"name\":\"\",\"showlegend\":false,\"subplot\":\"mapbox\",\"type\":\"scattermapbox\"}],                        {\"template\":{\"data\":{\"histogram2dcontour\":[{\"type\":\"histogram2dcontour\",\"colorbar\":{\"outlinewidth\":0,\"ticks\":\"\"},\"colorscale\":[[0.0,\"#0d0887\"],[0.1111111111111111,\"#46039f\"],[0.2222222222222222,\"#7201a8\"],[0.3333333333333333,\"#9c179e\"],[0.4444444444444444,\"#bd3786\"],[0.5555555555555556,\"#d8576b\"],[0.6666666666666666,\"#ed7953\"],[0.7777777777777778,\"#fb9f3a\"],[0.8888888888888888,\"#fdca26\"],[1.0,\"#f0f921\"]]}],\"choropleth\":[{\"type\":\"choropleth\",\"colorbar\":{\"outlinewidth\":0,\"ticks\":\"\"}}],\"histogram2d\":[{\"type\":\"histogram2d\",\"colorbar\":{\"outlinewidth\":0,\"ticks\":\"\"},\"colorscale\":[[0.0,\"#0d0887\"],[0.1111111111111111,\"#46039f\"],[0.2222222222222222,\"#7201a8\"],[0.3333333333333333,\"#9c179e\"],[0.4444444444444444,\"#bd3786\"],[0.5555555555555556,\"#d8576b\"],[0.6666666666666666,\"#ed7953\"],[0.7777777777777778,\"#fb9f3a\"],[0.8888888888888888,\"#fdca26\"],[1.0,\"#f0f921\"]]}],\"heatmap\":[{\"type\":\"heatmap\",\"colorbar\":{\"outlinewidth\":0,\"ticks\":\"\"},\"colorscale\":[[0.0,\"#0d0887\"],[0.1111111111111111,\"#46039f\"],[0.2222222222222222,\"#7201a8\"],[0.3333333333333333,\"#9c179e\"],[0.4444444444444444,\"#bd3786\"],[0.5555555555555556,\"#d8576b\"],[0.6666666666666666,\"#ed7953\"],[0.7777777777777778,\"#fb9f3a\"],[0.8888888888888888,\"#fdca26\"],[1.0,\"#f0f921\"]]}],\"heatmapgl\":[{\"type\":\"heatmapgl\",\"colorbar\":{\"outlinewidth\":0,\"ticks\":\"\"},\"colorscale\":[[0.0,\"#0d0887\"],[0.1111111111111111,\"#46039f\"],[0.2222222222222222,\"#7201a8\"],[0.3333333333333333,\"#9c179e\"],[0.4444444444444444,\"#bd3786\"],[0.5555555555555556,\"#d8576b\"],[0.6666666666666666,\"#ed7953\"],[0.7777777777777778,\"#fb9f3a\"],[0.8888888888888888,\"#fdca26\"],[1.0,\"#f0f921\"]]}],\"contourcarpet\":[{\"type\":\"contourcarpet\",\"colorbar\":{\"outlinewidth\":0,\"ticks\":\"\"}}],\"contour\":[{\"type\":\"contour\",\"colorbar\":{\"outlinewidth\":0,\"ticks\":\"\"},\"colorscale\":[[0.0,\"#0d0887\"],[0.1111111111111111,\"#46039f\"],[0.2222222222222222,\"#7201a8\"],[0.3333333333333333,\"#9c179e\"],[0.4444444444444444,\"#bd3786\"],[0.5555555555555556,\"#d8576b\"],[0.6666666666666666,\"#ed7953\"],[0.7777777777777778,\"#fb9f3a\"],[0.8888888888888888,\"#fdca26\"],[1.0,\"#f0f921\"]]}],\"surface\":[{\"type\":\"surface\",\"colorbar\":{\"outlinewidth\":0,\"ticks\":\"\"},\"colorscale\":[[0.0,\"#0d0887\"],[0.1111111111111111,\"#46039f\"],[0.2222222222222222,\"#7201a8\"],[0.3333333333333333,\"#9c179e\"],[0.4444444444444444,\"#bd3786\"],[0.5555555555555556,\"#d8576b\"],[0.6666666666666666,\"#ed7953\"],[0.7777777777777778,\"#fb9f3a\"],[0.8888888888888888,\"#fdca26\"],[1.0,\"#f0f921\"]]}],\"mesh3d\":[{\"type\":\"mesh3d\",\"colorbar\":{\"outlinewidth\":0,\"ticks\":\"\"}}],\"scatter\":[{\"fillpattern\":{\"fillmode\":\"overlay\",\"size\":10,\"solidity\":0.2},\"type\":\"scatter\"}],\"parcoords\":[{\"type\":\"parcoords\",\"line\":{\"colorbar\":{\"outlinewidth\":0,\"ticks\":\"\"}}}],\"scatterpolargl\":[{\"type\":\"scatterpolargl\",\"marker\":{\"colorbar\":{\"outlinewidth\":0,\"ticks\":\"\"}}}],\"bar\":[{\"error_x\":{\"color\":\"#2a3f5f\"},\"error_y\":{\"color\":\"#2a3f5f\"},\"marker\":{\"line\":{\"color\":\"#E5ECF6\",\"width\":0.5},\"pattern\":{\"fillmode\":\"overlay\",\"size\":10,\"solidity\":0.2}},\"type\":\"bar\"}],\"scattergeo\":[{\"type\":\"scattergeo\",\"marker\":{\"colorbar\":{\"outlinewidth\":0,\"ticks\":\"\"}}}],\"scatterpolar\":[{\"type\":\"scatterpolar\",\"marker\":{\"colorbar\":{\"outlinewidth\":0,\"ticks\":\"\"}}}],\"histogram\":[{\"marker\":{\"pattern\":{\"fillmode\":\"overlay\",\"size\":10,\"solidity\":0.2}},\"type\":\"histogram\"}],\"scattergl\":[{\"type\":\"scattergl\",\"marker\":{\"colorbar\":{\"outlinewidth\":0,\"ticks\":\"\"}}}],\"scatter3d\":[{\"type\":\"scatter3d\",\"line\":{\"colorbar\":{\"outlinewidth\":0,\"ticks\":\"\"}},\"marker\":{\"colorbar\":{\"outlinewidth\":0,\"ticks\":\"\"}}}],\"scattermapbox\":[{\"type\":\"scattermapbox\",\"marker\":{\"colorbar\":{\"outlinewidth\":0,\"ticks\":\"\"}}}],\"scatterternary\":[{\"type\":\"scatterternary\",\"marker\":{\"colorbar\":{\"outlinewidth\":0,\"ticks\":\"\"}}}],\"scattercarpet\":[{\"type\":\"scattercarpet\",\"marker\":{\"colorbar\":{\"outlinewidth\":0,\"ticks\":\"\"}}}],\"carpet\":[{\"aaxis\":{\"endlinecolor\":\"#2a3f5f\",\"gridcolor\":\"white\",\"linecolor\":\"white\",\"minorgridcolor\":\"white\",\"startlinecolor\":\"#2a3f5f\"},\"baxis\":{\"endlinecolor\":\"#2a3f5f\",\"gridcolor\":\"white\",\"linecolor\":\"white\",\"minorgridcolor\":\"white\",\"startlinecolor\":\"#2a3f5f\"},\"type\":\"carpet\"}],\"table\":[{\"cells\":{\"fill\":{\"color\":\"#EBF0F8\"},\"line\":{\"color\":\"white\"}},\"header\":{\"fill\":{\"color\":\"#C8D4E3\"},\"line\":{\"color\":\"white\"}},\"type\":\"table\"}],\"barpolar\":[{\"marker\":{\"line\":{\"color\":\"#E5ECF6\",\"width\":0.5},\"pattern\":{\"fillmode\":\"overlay\",\"size\":10,\"solidity\":0.2}},\"type\":\"barpolar\"}],\"pie\":[{\"automargin\":true,\"type\":\"pie\"}]},\"layout\":{\"autotypenumbers\":\"strict\",\"colorway\":[\"#636efa\",\"#EF553B\",\"#00cc96\",\"#ab63fa\",\"#FFA15A\",\"#19d3f3\",\"#FF6692\",\"#B6E880\",\"#FF97FF\",\"#FECB52\"],\"font\":{\"color\":\"#2a3f5f\"},\"hovermode\":\"closest\",\"hoverlabel\":{\"align\":\"left\"},\"paper_bgcolor\":\"white\",\"plot_bgcolor\":\"#E5ECF6\",\"polar\":{\"bgcolor\":\"#E5ECF6\",\"angularaxis\":{\"gridcolor\":\"white\",\"linecolor\":\"white\",\"ticks\":\"\"},\"radialaxis\":{\"gridcolor\":\"white\",\"linecolor\":\"white\",\"ticks\":\"\"}},\"ternary\":{\"bgcolor\":\"#E5ECF6\",\"aaxis\":{\"gridcolor\":\"white\",\"linecolor\":\"white\",\"ticks\":\"\"},\"baxis\":{\"gridcolor\":\"white\",\"linecolor\":\"white\",\"ticks\":\"\"},\"caxis\":{\"gridcolor\":\"white\",\"linecolor\":\"white\",\"ticks\":\"\"}},\"coloraxis\":{\"colorbar\":{\"outlinewidth\":0,\"ticks\":\"\"}},\"colorscale\":{\"sequential\":[[0.0,\"#0d0887\"],[0.1111111111111111,\"#46039f\"],[0.2222222222222222,\"#7201a8\"],[0.3333333333333333,\"#9c179e\"],[0.4444444444444444,\"#bd3786\"],[0.5555555555555556,\"#d8576b\"],[0.6666666666666666,\"#ed7953\"],[0.7777777777777778,\"#fb9f3a\"],[0.8888888888888888,\"#fdca26\"],[1.0,\"#f0f921\"]],\"sequentialminus\":[[0.0,\"#0d0887\"],[0.1111111111111111,\"#46039f\"],[0.2222222222222222,\"#7201a8\"],[0.3333333333333333,\"#9c179e\"],[0.4444444444444444,\"#bd3786\"],[0.5555555555555556,\"#d8576b\"],[0.6666666666666666,\"#ed7953\"],[0.7777777777777778,\"#fb9f3a\"],[0.8888888888888888,\"#fdca26\"],[1.0,\"#f0f921\"]],\"diverging\":[[0,\"#8e0152\"],[0.1,\"#c51b7d\"],[0.2,\"#de77ae\"],[0.3,\"#f1b6da\"],[0.4,\"#fde0ef\"],[0.5,\"#f7f7f7\"],[0.6,\"#e6f5d0\"],[0.7,\"#b8e186\"],[0.8,\"#7fbc41\"],[0.9,\"#4d9221\"],[1,\"#276419\"]]},\"xaxis\":{\"gridcolor\":\"white\",\"linecolor\":\"white\",\"ticks\":\"\",\"title\":{\"standoff\":15},\"zerolinecolor\":\"white\",\"automargin\":true,\"zerolinewidth\":2},\"yaxis\":{\"gridcolor\":\"white\",\"linecolor\":\"white\",\"ticks\":\"\",\"title\":{\"standoff\":15},\"zerolinecolor\":\"white\",\"automargin\":true,\"zerolinewidth\":2},\"scene\":{\"xaxis\":{\"backgroundcolor\":\"#E5ECF6\",\"gridcolor\":\"white\",\"linecolor\":\"white\",\"showbackground\":true,\"ticks\":\"\",\"zerolinecolor\":\"white\",\"gridwidth\":2},\"yaxis\":{\"backgroundcolor\":\"#E5ECF6\",\"gridcolor\":\"white\",\"linecolor\":\"white\",\"showbackground\":true,\"ticks\":\"\",\"zerolinecolor\":\"white\",\"gridwidth\":2},\"zaxis\":{\"backgroundcolor\":\"#E5ECF6\",\"gridcolor\":\"white\",\"linecolor\":\"white\",\"showbackground\":true,\"ticks\":\"\",\"zerolinecolor\":\"white\",\"gridwidth\":2}},\"shapedefaults\":{\"line\":{\"color\":\"#2a3f5f\"}},\"annotationdefaults\":{\"arrowcolor\":\"#2a3f5f\",\"arrowhead\":0,\"arrowwidth\":1},\"geo\":{\"bgcolor\":\"white\",\"landcolor\":\"#E5ECF6\",\"subunitcolor\":\"white\",\"showland\":true,\"showlakes\":true,\"lakecolor\":\"white\"},\"title\":{\"x\":0.05},\"mapbox\":{\"style\":\"light\"}}},\"mapbox\":{\"domain\":{\"x\":[0.0,1.0],\"y\":[0.0,1.0]},\"center\":{\"lat\":37.55428246818182,\"lon\":126.92907155150252},\"zoom\":8,\"style\":\"open-street-map\"},\"legend\":{\"tracegroupgap\":0},\"margin\":{\"t\":60}},                        {\"responsive\": true}                    ).then(function(){\n",
       "                            \n",
       "var gd = document.getElementById('a6a73a15-074b-45e3-8ee1-1cf14ed460d9');\n",
       "var x = new MutationObserver(function (mutations, observer) {{\n",
       "        var display = window.getComputedStyle(gd).display;\n",
       "        if (!display || display === 'none') {{\n",
       "            console.log([gd, 'removed!']);\n",
       "            Plotly.purge(gd);\n",
       "            observer.disconnect();\n",
       "        }}\n",
       "}});\n",
       "\n",
       "// Listen for the removal of the full notebook cells\n",
       "var notebookContainer = gd.closest('#notebook-container');\n",
       "if (notebookContainer) {{\n",
       "    x.observe(notebookContainer, {childList: true});\n",
       "}}\n",
       "\n",
       "// Listen for the clearing of the current output cell\n",
       "var outputEl = gd.closest('.output');\n",
       "if (outputEl) {{\n",
       "    x.observe(outputEl, {childList: true});\n",
       "}}\n",
       "\n",
       "                        })                };                });            </script>        </div>"
      ]
     },
     "metadata": {},
     "output_type": "display_data"
    }
   ],
   "source": [
    "ploted_map = plotly_ploting(total_west)"
   ]
  },
  {
   "cell_type": "code",
   "execution_count": null,
   "id": "69458a24",
   "metadata": {},
   "outputs": [],
   "source": [
    "ploted_map"
   ]
  },
  {
   "cell_type": "code",
   "execution_count": null,
   "id": "4a8849c2",
   "metadata": {},
   "outputs": [],
   "source": []
  },
  {
   "cell_type": "code",
   "execution_count": null,
   "id": "d5a29783",
   "metadata": {},
   "outputs": [],
   "source": []
  },
  {
   "cell_type": "code",
   "execution_count": null,
   "id": "54a941d8",
   "metadata": {},
   "outputs": [],
   "source": []
  },
  {
   "cell_type": "code",
   "execution_count": null,
   "id": "99ad2753",
   "metadata": {},
   "outputs": [],
   "source": []
  },
  {
   "cell_type": "code",
   "execution_count": null,
   "id": "4e480517",
   "metadata": {},
   "outputs": [],
   "source": []
  },
  {
   "cell_type": "code",
   "execution_count": null,
   "id": "bb965b40",
   "metadata": {},
   "outputs": [],
   "source": []
  },
  {
   "cell_type": "code",
   "execution_count": null,
   "id": "310cc39d",
   "metadata": {},
   "outputs": [],
   "source": []
  },
  {
   "cell_type": "code",
   "execution_count": null,
   "id": "58339b75",
   "metadata": {},
   "outputs": [],
   "source": []
  },
  {
   "cell_type": "markdown",
   "id": "9f73148d",
   "metadata": {},
   "source": [
    "# 매출 규모 파악"
   ]
  },
  {
   "cell_type": "markdown",
   "id": "3fbf0e1a",
   "metadata": {},
   "source": [
    "# 매출액과 매출 이익 분포"
   ]
  },
  {
   "cell_type": "code",
   "execution_count": 110,
   "id": "7058c761",
   "metadata": {},
   "outputs": [
    {
     "data": {
      "text/html": [
       "<div>\n",
       "<style scoped>\n",
       "    .dataframe tbody tr th:only-of-type {\n",
       "        vertical-align: middle;\n",
       "    }\n",
       "\n",
       "    .dataframe tbody tr th {\n",
       "        vertical-align: top;\n",
       "    }\n",
       "\n",
       "    .dataframe thead th {\n",
       "        text-align: right;\n",
       "    }\n",
       "</style>\n",
       "<table border=\"1\" class=\"dataframe\">\n",
       "  <thead>\n",
       "    <tr style=\"text-align: right;\">\n",
       "      <th></th>\n",
       "      <th>매출액</th>\n",
       "      <th>매출총이익</th>\n",
       "    </tr>\n",
       "    <tr>\n",
       "      <th>영업상호</th>\n",
       "      <th></th>\n",
       "      <th></th>\n",
       "    </tr>\n",
       "  </thead>\n",
       "  <tbody>\n",
       "    <tr>\n",
       "      <th>(HR)미스사이공(신촌역)</th>\n",
       "      <td>7759351</td>\n",
       "      <td>1515391</td>\n",
       "    </tr>\n",
       "    <tr>\n",
       "      <th>(HR)미스포(마포구청)</th>\n",
       "      <td>13923073</td>\n",
       "      <td>2644677</td>\n",
       "    </tr>\n",
       "    <tr>\n",
       "      <th>(HR)포메인 레드(RED) 상암점</th>\n",
       "      <td>6444315</td>\n",
       "      <td>1203164</td>\n",
       "    </tr>\n",
       "    <tr>\n",
       "      <th>(HR)포몬스(홍대점)</th>\n",
       "      <td>4846487</td>\n",
       "      <td>1002796</td>\n",
       "    </tr>\n",
       "    <tr>\n",
       "      <th>(마포공덕역)청춘꼬마김밥앤떡볶이</th>\n",
       "      <td>3589908</td>\n",
       "      <td>762578</td>\n",
       "    </tr>\n",
       "    <tr>\n",
       "      <th>...</th>\n",
       "      <td>...</td>\n",
       "      <td>...</td>\n",
       "    </tr>\n",
       "    <tr>\n",
       "      <th>이관우파스타 30호_해다미(유현식)</th>\n",
       "      <td>211709</td>\n",
       "      <td>44364</td>\n",
       "    </tr>\n",
       "    <tr>\n",
       "      <th>좋은맛 공덕점    [09호_정진구]</th>\n",
       "      <td>4043541</td>\n",
       "      <td>663653</td>\n",
       "    </tr>\n",
       "    <tr>\n",
       "      <th>지후식당      [09호_정진구]</th>\n",
       "      <td>2629530</td>\n",
       "      <td>676909</td>\n",
       "    </tr>\n",
       "    <tr>\n",
       "      <th>카이화</th>\n",
       "      <td>13690535</td>\n",
       "      <td>3191668</td>\n",
       "    </tr>\n",
       "    <tr>\n",
       "      <th>향차이(마포구)</th>\n",
       "      <td>1638274</td>\n",
       "      <td>378760</td>\n",
       "    </tr>\n",
       "  </tbody>\n",
       "</table>\n",
       "<p>67 rows × 2 columns</p>\n",
       "</div>"
      ],
      "text/plain": [
       "                           매출액    매출총이익\n",
       "영업상호                                   \n",
       "(HR)미스사이공(신촌역)         7759351  1515391\n",
       "(HR)미스포(마포구청)         13923073  2644677\n",
       "(HR)포메인 레드(RED) 상암점    6444315  1203164\n",
       "(HR)포몬스(홍대점)           4846487  1002796\n",
       "(마포공덕역)청춘꼬마김밥앤떡볶이      3589908   762578\n",
       "...                        ...      ...\n",
       "이관우파스타 30호_해다미(유현식)     211709    44364\n",
       "좋은맛 공덕점    [09호_정진구]   4043541   663653\n",
       "지후식당      [09호_정진구]    2629530   676909\n",
       "카이화                   13690535  3191668\n",
       "향차이(마포구)               1638274   378760\n",
       "\n",
       "[67 rows x 2 columns]"
      ]
     },
     "execution_count": 110,
     "metadata": {},
     "output_type": "execute_result"
    }
   ],
   "source": [
    "sell_df = df.groupby(by='영업상호').sum()\n",
    "sell_df"
   ]
  },
  {
   "cell_type": "code",
   "execution_count": 111,
   "id": "5de486f4",
   "metadata": {},
   "outputs": [
    {
     "data": {
      "text/plain": [
       "Text(0.5, 1.0, '매출액 분포도(단위:100만원)')"
      ]
     },
     "execution_count": 111,
     "metadata": {},
     "output_type": "execute_result"
    },
    {
     "data": {
      "image/png": "[encoded data removed]",
      "text/plain": [
       "<Figure size 640x480 with 1 Axes>"
      ]
     },
     "metadata": {},
     "output_type": "display_data"
    }
   ],
   "source": [
    "x = sell_df['매출액']\n",
    "sns.histplot(x)\n",
    "plt.title(\"매출액 분포도(단위:100만원)\")"
   ]
  },
  {
   "cell_type": "code",
   "execution_count": 112,
   "id": "6eb124c6",
   "metadata": {},
   "outputs": [
    {
     "data": {
      "text/plain": [
       "Text(0.5, 1.0, '매출 총이익 분포도(단위:10만원)')"
      ]
     },
     "execution_count": 112,
     "metadata": {},
     "output_type": "execute_result"
    },
    {
     "data": {
      "image/png": "[encoded data removed]",
      "text/plain": [
       "<Figure size 640x480 with 1 Axes>"
      ]
     },
     "metadata": {},
     "output_type": "display_data"
    }
   ],
   "source": [
    "x2 = sell_df['매출총이익']\n",
    "sns.histplot(x2)\n",
    "plt.title(\"매출 총이익 분포도(단위:10만원)\")"
   ]
  },
  {
   "cell_type": "markdown",
   "id": "dab91198",
   "metadata": {},
   "source": [
    "# 3달 중 몇번 시켰는지 분포"
   ]
  },
  {
   "cell_type": "code",
   "execution_count": 113,
   "id": "10d37f0d",
   "metadata": {},
   "outputs": [],
   "source": [
    "df = df.fillna(0)"
   ]
  },
  {
   "cell_type": "code",
   "execution_count": 114,
   "id": "59c7a7df",
   "metadata": {},
   "outputs": [
    {
     "data": {
      "text/html": [
       "<div>\n",
       "<style scoped>\n",
       "    .dataframe tbody tr th:only-of-type {\n",
       "        vertical-align: middle;\n",
       "    }\n",
       "\n",
       "    .dataframe tbody tr th {\n",
       "        vertical-align: top;\n",
       "    }\n",
       "\n",
       "    .dataframe thead th {\n",
       "        text-align: right;\n",
       "    }\n",
       "</style>\n",
       "<table border=\"1\" class=\"dataframe\">\n",
       "  <thead>\n",
       "    <tr style=\"text-align: right;\">\n",
       "      <th></th>\n",
       "      <th>영업상호</th>\n",
       "      <th>메뉴</th>\n",
       "      <th>매출액</th>\n",
       "      <th>매출총이익</th>\n",
       "      <th>매출수량1</th>\n",
       "      <th>매출수량2</th>\n",
       "      <th>매출수량3</th>\n",
       "    </tr>\n",
       "  </thead>\n",
       "  <tbody>\n",
       "    <tr>\n",
       "      <th>0</th>\n",
       "      <td>(주)코차이나 유씨에스</td>\n",
       "      <td>청정원 돼지갈비양념(실온 10Kg/EA)</td>\n",
       "      <td>288000</td>\n",
       "      <td>33823</td>\n",
       "      <td>0.0</td>\n",
       "      <td>0.0</td>\n",
       "      <td>10.0</td>\n",
       "    </tr>\n",
       "    <tr>\n",
       "      <th>1</th>\n",
       "      <td>(주)코차이나 유씨에스</td>\n",
       "      <td>새부산 사각어묵(냉동 상천_평 900g*20EA/BOX)</td>\n",
       "      <td>5636</td>\n",
       "      <td>655</td>\n",
       "      <td>0.0</td>\n",
       "      <td>0.0</td>\n",
       "      <td>2.0</td>\n",
       "    </tr>\n",
       "    <tr>\n",
       "      <th>2</th>\n",
       "      <td>그동네떡볶이  [09호_정진구]</td>\n",
       "      <td>동원F&amp;B 빵가루(실온 1Kg*8EA/BOX)</td>\n",
       "      <td>17738</td>\n",
       "      <td>2910</td>\n",
       "      <td>2.0</td>\n",
       "      <td>1.0</td>\n",
       "      <td>2.0</td>\n",
       "    </tr>\n",
       "    <tr>\n",
       "      <th>3</th>\n",
       "      <td>그동네떡볶이  [09호_정진구]</td>\n",
       "      <td>곰표 튀김가루(실온 1Kg*10EA/BOX 미국)</td>\n",
       "      <td>404426</td>\n",
       "      <td>62829</td>\n",
       "      <td>84.0</td>\n",
       "      <td>78.0</td>\n",
       "      <td>66.0</td>\n",
       "    </tr>\n",
       "    <tr>\n",
       "      <th>4</th>\n",
       "      <td>그동네떡볶이  [09호_정진구]</td>\n",
       "      <td>사조해표 마요네즈(실온 스파우트팩 3.2Kg*4EA/BOX)</td>\n",
       "      <td>329109</td>\n",
       "      <td>45424</td>\n",
       "      <td>9.0</td>\n",
       "      <td>12.0</td>\n",
       "      <td>8.0</td>\n",
       "    </tr>\n",
       "  </tbody>\n",
       "</table>\n",
       "</div>"
      ],
      "text/plain": [
       "                영업상호                                 메뉴     매출액  매출총이익  매출수량1  \\\n",
       "0       (주)코차이나 유씨에스             청정원 돼지갈비양념(실온 10Kg/EA)  288000  33823    0.0   \n",
       "1       (주)코차이나 유씨에스    새부산 사각어묵(냉동 상천_평 900g*20EA/BOX)    5636    655    0.0   \n",
       "2  그동네떡볶이  [09호_정진구]          동원F&B 빵가루(실온 1Kg*8EA/BOX)   17738   2910    2.0   \n",
       "3  그동네떡볶이  [09호_정진구]        곰표 튀김가루(실온 1Kg*10EA/BOX 미국)  404426  62829   84.0   \n",
       "4  그동네떡볶이  [09호_정진구]  사조해표 마요네즈(실온 스파우트팩 3.2Kg*4EA/BOX)  329109  45424    9.0   \n",
       "\n",
       "   매출수량2  매출수량3  \n",
       "0    0.0   10.0  \n",
       "1    0.0    2.0  \n",
       "2    1.0    2.0  \n",
       "3   78.0   66.0  \n",
       "4   12.0    8.0  "
      ]
     },
     "execution_count": 114,
     "metadata": {},
     "output_type": "execute_result"
    }
   ],
   "source": [
    "df.head()"
   ]
  },
  {
   "cell_type": "code",
   "execution_count": null,
   "id": "77116434",
   "metadata": {},
   "outputs": [],
   "source": []
  },
  {
   "cell_type": "code",
   "execution_count": null,
   "id": "282f2e0e",
   "metadata": {},
   "outputs": [],
   "source": []
  },
  {
   "cell_type": "code",
   "execution_count": null,
   "id": "57750c08",
   "metadata": {},
   "outputs": [],
   "source": []
  }
 ],
 "metadata": {
  "kernelspec": {
   "display_name": "Python 3 (ipykernel)",
   "language": "python",
   "name": "python3"
  },
  "language_info": {
   "codemirror_mode": {
    "name": "ipython",
    "version": 3
   },
   "file_extension": ".py",
   "mimetype": "text/x-python",
   "name": "python",
   "nbconvert_exporter": "python",
   "pygments_lexer": "ipython3",
   "version": "3.9.13"
  }
 },
 "nbformat": 4,
 "nbformat_minor": 5
}
