{
 "cells": [
  {
   "cell_type": "code",
   "execution_count": 227,
   "id": "eee1f33a",
   "metadata": {},
   "outputs": [],
   "source": [
    "import pandas as pd\n",
    "import numpy as np\n",
    "import matplotlib.pyplot as plt"
   ]
  },
  {
   "cell_type": "code",
   "execution_count": 228,
   "id": "6af9e01a",
   "metadata": {},
   "outputs": [],
   "source": [
    "adr= 'C:/Users/KEARNEY/Desktop'\n",
    "df= pd.read_excel(adr+'/새 폴더/c_project/LDH/data/CJ_master.xlsx')"
   ]
  },
  {
   "cell_type": "code",
   "execution_count": 229,
   "id": "a78f599f",
   "metadata": {},
   "outputs": [
    {
     "data": {
      "text/html": [
       "<div>\n",
       "<style scoped>\n",
       "    .dataframe tbody tr th:only-of-type {\n",
       "        vertical-align: middle;\n",
       "    }\n",
       "\n",
       "    .dataframe tbody tr th {\n",
       "        vertical-align: top;\n",
       "    }\n",
       "\n",
       "    .dataframe thead th {\n",
       "        text-align: right;\n",
       "    }\n",
       "</style>\n",
       "<table border=\"1\" class=\"dataframe\">\n",
       "  <thead>\n",
       "    <tr style=\"text-align: right;\">\n",
       "      <th></th>\n",
       "      <th>name</th>\n",
       "      <th>address</th>\n",
       "      <th>category</th>\n",
       "      <th>d20221201</th>\n",
       "      <th>d20221202</th>\n",
       "      <th>d20221203</th>\n",
       "      <th>d20221204</th>\n",
       "      <th>d20221205</th>\n",
       "      <th>d20221206</th>\n",
       "      <th>d20221207</th>\n",
       "      <th>...</th>\n",
       "      <th>m_카레덮밥</th>\n",
       "      <th>m_고르곤졸라피자</th>\n",
       "      <th>m_로제떡볶이</th>\n",
       "      <th>m_감자튀김</th>\n",
       "      <th>m_으깬감자</th>\n",
       "      <th>m_삼겹살구이</th>\n",
       "      <th>m_차돌박이숙주볶음</th>\n",
       "      <th>m_버섯베이컨알프레도파스타</th>\n",
       "      <th>카카오평점</th>\n",
       "      <th>카카오후기수</th>\n",
       "    </tr>\n",
       "  </thead>\n",
       "  <tbody>\n",
       "    <tr>\n",
       "      <th>0</th>\n",
       "      <td>미장플라쎄</td>\n",
       "      <td>서울특별시 마포구 양화로19길 22-30,2층(동교동)</td>\n",
       "      <td>FO</td>\n",
       "      <td>NaN</td>\n",
       "      <td>NaN</td>\n",
       "      <td>NaN</td>\n",
       "      <td>NaN</td>\n",
       "      <td>NaN</td>\n",
       "      <td>NaN</td>\n",
       "      <td>NaN</td>\n",
       "      <td>...</td>\n",
       "      <td>0</td>\n",
       "      <td>0</td>\n",
       "      <td>0</td>\n",
       "      <td>0</td>\n",
       "      <td>0</td>\n",
       "      <td>0</td>\n",
       "      <td>0</td>\n",
       "      <td>0</td>\n",
       "      <td>4.5</td>\n",
       "      <td>51</td>\n",
       "    </tr>\n",
       "    <tr>\n",
       "      <th>1</th>\n",
       "      <td>이관우파스타</td>\n",
       "      <td>서울특별시 마포구 동교로46길 29,지상 2층</td>\n",
       "      <td>FO</td>\n",
       "      <td>NaN</td>\n",
       "      <td>NaN</td>\n",
       "      <td>NaN</td>\n",
       "      <td>NaN</td>\n",
       "      <td>NaN</td>\n",
       "      <td>NaN</td>\n",
       "      <td>NaN</td>\n",
       "      <td>...</td>\n",
       "      <td>0</td>\n",
       "      <td>0</td>\n",
       "      <td>0</td>\n",
       "      <td>0</td>\n",
       "      <td>0</td>\n",
       "      <td>0</td>\n",
       "      <td>0</td>\n",
       "      <td>1</td>\n",
       "      <td>3.7</td>\n",
       "      <td>35</td>\n",
       "    </tr>\n",
       "    <tr>\n",
       "      <th>2</th>\n",
       "      <td>디트로이트피지스</td>\n",
       "      <td>서울특별시 마포구 동교로46길 34,1층(연남동)</td>\n",
       "      <td>FO</td>\n",
       "      <td>NaN</td>\n",
       "      <td>NaN</td>\n",
       "      <td>NaN</td>\n",
       "      <td>NaN</td>\n",
       "      <td>NaN</td>\n",
       "      <td>NaN</td>\n",
       "      <td>NaN</td>\n",
       "      <td>...</td>\n",
       "      <td>0</td>\n",
       "      <td>0</td>\n",
       "      <td>0</td>\n",
       "      <td>1</td>\n",
       "      <td>0</td>\n",
       "      <td>0</td>\n",
       "      <td>0</td>\n",
       "      <td>0</td>\n",
       "      <td>0.0</td>\n",
       "      <td>0</td>\n",
       "    </tr>\n",
       "    <tr>\n",
       "      <th>3</th>\n",
       "      <td>피크닉마나올라나</td>\n",
       "      <td>서울특별시 마포구 성미산로 153-16 (연남동)1층 안쪽</td>\n",
       "      <td>FO</td>\n",
       "      <td>NaN</td>\n",
       "      <td>NaN</td>\n",
       "      <td>NaN</td>\n",
       "      <td>NaN</td>\n",
       "      <td>NaN</td>\n",
       "      <td>NaN</td>\n",
       "      <td>NaN</td>\n",
       "      <td>...</td>\n",
       "      <td>0</td>\n",
       "      <td>0</td>\n",
       "      <td>0</td>\n",
       "      <td>0</td>\n",
       "      <td>0</td>\n",
       "      <td>0</td>\n",
       "      <td>0</td>\n",
       "      <td>0</td>\n",
       "      <td>3.4</td>\n",
       "      <td>12</td>\n",
       "    </tr>\n",
       "    <tr>\n",
       "      <th>4</th>\n",
       "      <td>키노키친</td>\n",
       "      <td>서울특별시 마포구 와우산로29길 91층 1호 (서교동)</td>\n",
       "      <td>FO</td>\n",
       "      <td>NaN</td>\n",
       "      <td>NaN</td>\n",
       "      <td>NaN</td>\n",
       "      <td>NaN</td>\n",
       "      <td>NaN</td>\n",
       "      <td>NaN</td>\n",
       "      <td>NaN</td>\n",
       "      <td>...</td>\n",
       "      <td>0</td>\n",
       "      <td>0</td>\n",
       "      <td>0</td>\n",
       "      <td>0</td>\n",
       "      <td>0</td>\n",
       "      <td>0</td>\n",
       "      <td>0</td>\n",
       "      <td>0</td>\n",
       "      <td>4.5</td>\n",
       "      <td>30</td>\n",
       "    </tr>\n",
       "  </tbody>\n",
       "</table>\n",
       "<p>5 rows × 765 columns</p>\n",
       "</div>"
      ],
      "text/plain": [
       "       name                           address category  d20221201  d20221202  \\\n",
       "0     미장플라쎄    서울특별시 마포구 양화로19길 22-30,2층(동교동)       FO        NaN        NaN   \n",
       "1    이관우파스타         서울특별시 마포구 동교로46길 29,지상 2층       FO        NaN        NaN   \n",
       "2  디트로이트피지스       서울특별시 마포구 동교로46길 34,1층(연남동)       FO        NaN        NaN   \n",
       "3  피크닉마나올라나  서울특별시 마포구 성미산로 153-16 (연남동)1층 안쪽       FO        NaN        NaN   \n",
       "4      키노키친    서울특별시 마포구 와우산로29길 91층 1호 (서교동)       FO        NaN        NaN   \n",
       "\n",
       "   d20221203  d20221204  d20221205  d20221206  d20221207  ...  m_카레덮밥  \\\n",
       "0        NaN        NaN        NaN        NaN        NaN  ...       0   \n",
       "1        NaN        NaN        NaN        NaN        NaN  ...       0   \n",
       "2        NaN        NaN        NaN        NaN        NaN  ...       0   \n",
       "3        NaN        NaN        NaN        NaN        NaN  ...       0   \n",
       "4        NaN        NaN        NaN        NaN        NaN  ...       0   \n",
       "\n",
       "   m_고르곤졸라피자  m_로제떡볶이  m_감자튀김  m_으깬감자  m_삼겹살구이  m_차돌박이숙주볶음  m_버섯베이컨알프레도파스타  \\\n",
       "0          0        0       0       0        0           0               0   \n",
       "1          0        0       0       0        0           0               1   \n",
       "2          0        0       1       0        0           0               0   \n",
       "3          0        0       0       0        0           0               0   \n",
       "4          0        0       0       0        0           0               0   \n",
       "\n",
       "   카카오평점  카카오후기수  \n",
       "0    4.5      51  \n",
       "1    3.7      35  \n",
       "2    0.0       0  \n",
       "3    3.4      12  \n",
       "4    4.5      30  \n",
       "\n",
       "[5 rows x 765 columns]"
      ]
     },
     "execution_count": 229,
     "metadata": {},
     "output_type": "execute_result"
    }
   ],
   "source": [
    "df.head()"
   ]
  },
  {
   "cell_type": "code",
   "execution_count": 234,
   "id": "d21cfb4e",
   "metadata": {},
   "outputs": [],
   "source": [
    "#sales 12부터 follow까지\n",
    "start_idx = df.columns.get_loc('sales12')\n",
    "end_idx = df.columns.get_loc('follow')+1"
   ]
  },
  {
   "cell_type": "code",
   "execution_count": 235,
   "id": "8eed1a63",
   "metadata": {},
   "outputs": [],
   "source": [
    "row_start_idx = df[df['category']=='POS'].index[0]"
   ]
  },
  {
   "cell_type": "code",
   "execution_count": 236,
   "id": "e1a021fb",
   "metadata": {},
   "outputs": [],
   "source": [
    "#행, 열 앞에 부분 제거\n",
    "tmp_df = df.iloc[row_start_idx:,start_idx:end_idx]"
   ]
  },
  {
   "cell_type": "code",
   "execution_count": 238,
   "id": "acede722",
   "metadata": {},
   "outputs": [
    {
     "data": {
      "text/html": [
       "<div>\n",
       "<style scoped>\n",
       "    .dataframe tbody tr th:only-of-type {\n",
       "        vertical-align: middle;\n",
       "    }\n",
       "\n",
       "    .dataframe tbody tr th {\n",
       "        vertical-align: top;\n",
       "    }\n",
       "\n",
       "    .dataframe thead th {\n",
       "        text-align: right;\n",
       "    }\n",
       "</style>\n",
       "<table border=\"1\" class=\"dataframe\">\n",
       "  <thead>\n",
       "    <tr style=\"text-align: right;\">\n",
       "      <th></th>\n",
       "      <th>카카오평점</th>\n",
       "      <th>카카오후기수</th>\n",
       "    </tr>\n",
       "  </thead>\n",
       "  <tbody>\n",
       "    <tr>\n",
       "      <th>0</th>\n",
       "      <td>4.5</td>\n",
       "      <td>51</td>\n",
       "    </tr>\n",
       "    <tr>\n",
       "      <th>1</th>\n",
       "      <td>3.7</td>\n",
       "      <td>35</td>\n",
       "    </tr>\n",
       "    <tr>\n",
       "      <th>2</th>\n",
       "      <td>0.0</td>\n",
       "      <td>0</td>\n",
       "    </tr>\n",
       "    <tr>\n",
       "      <th>3</th>\n",
       "      <td>3.4</td>\n",
       "      <td>12</td>\n",
       "    </tr>\n",
       "    <tr>\n",
       "      <th>4</th>\n",
       "      <td>4.5</td>\n",
       "      <td>30</td>\n",
       "    </tr>\n",
       "    <tr>\n",
       "      <th>...</th>\n",
       "      <td>...</td>\n",
       "      <td>...</td>\n",
       "    </tr>\n",
       "    <tr>\n",
       "      <th>68</th>\n",
       "      <td>4.8</td>\n",
       "      <td>9</td>\n",
       "    </tr>\n",
       "    <tr>\n",
       "      <th>69</th>\n",
       "      <td>3.2</td>\n",
       "      <td>9</td>\n",
       "    </tr>\n",
       "    <tr>\n",
       "      <th>70</th>\n",
       "      <td>4.5</td>\n",
       "      <td>351</td>\n",
       "    </tr>\n",
       "    <tr>\n",
       "      <th>71</th>\n",
       "      <td>0.0</td>\n",
       "      <td>0</td>\n",
       "    </tr>\n",
       "    <tr>\n",
       "      <th>72</th>\n",
       "      <td>3.9</td>\n",
       "      <td>37</td>\n",
       "    </tr>\n",
       "  </tbody>\n",
       "</table>\n",
       "<p>73 rows × 2 columns</p>\n",
       "</div>"
      ],
      "text/plain": [
       "    카카오평점  카카오후기수\n",
       "0     4.5      51\n",
       "1     3.7      35\n",
       "2     0.0       0\n",
       "3     3.4      12\n",
       "4     4.5      30\n",
       "..    ...     ...\n",
       "68    4.8       9\n",
       "69    3.2       9\n",
       "70    4.5     351\n",
       "71    0.0       0\n",
       "72    3.9      37\n",
       "\n",
       "[73 rows x 2 columns]"
      ]
     },
     "execution_count": 238,
     "metadata": {},
     "output_type": "execute_result"
    }
   ],
   "source": [
    "df[['카카오평점','카카오후기수']]"
   ]
  },
  {
   "cell_type": "code",
   "execution_count": 239,
   "id": "1840c151",
   "metadata": {},
   "outputs": [],
   "source": [
    "tmp_df= pd.concat([tmp_df,df[['카카오평점','카카오후기수']]],axis=1)"
   ]
  },
  {
   "cell_type": "code",
   "execution_count": 240,
   "id": "bc44b0c8",
   "metadata": {},
   "outputs": [
    {
     "data": {
      "text/html": [
       "<div>\n",
       "<style scoped>\n",
       "    .dataframe tbody tr th:only-of-type {\n",
       "        vertical-align: middle;\n",
       "    }\n",
       "\n",
       "    .dataframe tbody tr th {\n",
       "        vertical-align: top;\n",
       "    }\n",
       "\n",
       "    .dataframe thead th {\n",
       "        text-align: right;\n",
       "    }\n",
       "</style>\n",
       "<table border=\"1\" class=\"dataframe\">\n",
       "  <thead>\n",
       "    <tr style=\"text-align: right;\">\n",
       "      <th></th>\n",
       "      <th>sales12</th>\n",
       "      <th>sales1</th>\n",
       "      <th>sales2</th>\n",
       "      <th>buy12</th>\n",
       "      <th>buy1</th>\n",
       "      <th>buy2</th>\n",
       "      <th>visitorReview</th>\n",
       "      <th>blogReview</th>\n",
       "      <th>age1</th>\n",
       "      <th>age2</th>\n",
       "      <th>review1st</th>\n",
       "      <th>review1stComment</th>\n",
       "      <th>review2nd</th>\n",
       "      <th>review2ndComment</th>\n",
       "      <th>follower</th>\n",
       "      <th>follow</th>\n",
       "      <th>카카오평점</th>\n",
       "      <th>카카오후기수</th>\n",
       "    </tr>\n",
       "  </thead>\n",
       "  <tbody>\n",
       "    <tr>\n",
       "      <th>15</th>\n",
       "      <td>25010000</td>\n",
       "      <td>11966553.333333</td>\n",
       "      <td>14326000</td>\n",
       "      <td>N</td>\n",
       "      <td>N</td>\n",
       "      <td>N</td>\n",
       "      <td>888.0</td>\n",
       "      <td>1123.0</td>\n",
       "      <td>20.0</td>\n",
       "      <td>30.0</td>\n",
       "      <td>279.0</td>\n",
       "      <td>음식</td>\n",
       "      <td>156.0</td>\n",
       "      <td>서비스</td>\n",
       "      <td>NaN</td>\n",
       "      <td>NaN</td>\n",
       "      <td>3.4</td>\n",
       "      <td>36</td>\n",
       "    </tr>\n",
       "    <tr>\n",
       "      <th>16</th>\n",
       "      <td>1217333.333333</td>\n",
       "      <td>2800333.333333</td>\n",
       "      <td>3459333.333333</td>\n",
       "      <td>N</td>\n",
       "      <td>N</td>\n",
       "      <td>N</td>\n",
       "      <td>119.0</td>\n",
       "      <td>13.0</td>\n",
       "      <td>NaN</td>\n",
       "      <td>NaN</td>\n",
       "      <td>50.0</td>\n",
       "      <td>음식</td>\n",
       "      <td>31.0</td>\n",
       "      <td>서비스</td>\n",
       "      <td>NaN</td>\n",
       "      <td>NaN</td>\n",
       "      <td>4.0</td>\n",
       "      <td>4</td>\n",
       "    </tr>\n",
       "    <tr>\n",
       "      <th>17</th>\n",
       "      <td>211846700</td>\n",
       "      <td>210647933.333333</td>\n",
       "      <td>241953866.666666</td>\n",
       "      <td>N</td>\n",
       "      <td>N</td>\n",
       "      <td>N</td>\n",
       "      <td>1783.0</td>\n",
       "      <td>2483.0</td>\n",
       "      <td>20.0</td>\n",
       "      <td>10.0</td>\n",
       "      <td>675.0</td>\n",
       "      <td>음식</td>\n",
       "      <td>217.0</td>\n",
       "      <td>서비스</td>\n",
       "      <td>14000.0</td>\n",
       "      <td>2005.0</td>\n",
       "      <td>3.4</td>\n",
       "      <td>104</td>\n",
       "    </tr>\n",
       "    <tr>\n",
       "      <th>18</th>\n",
       "      <td>22836666.666667</td>\n",
       "      <td>21553333.333333</td>\n",
       "      <td>9573333.333333</td>\n",
       "      <td>N</td>\n",
       "      <td>N</td>\n",
       "      <td>N</td>\n",
       "      <td>1184.0</td>\n",
       "      <td>1118.0</td>\n",
       "      <td>20.0</td>\n",
       "      <td>10.0</td>\n",
       "      <td>678.0</td>\n",
       "      <td>음식</td>\n",
       "      <td>331.0</td>\n",
       "      <td>메뉴</td>\n",
       "      <td>1391.0</td>\n",
       "      <td>1.0</td>\n",
       "      <td>3.2</td>\n",
       "      <td>49</td>\n",
       "    </tr>\n",
       "    <tr>\n",
       "      <th>19</th>\n",
       "      <td>3638000</td>\n",
       "      <td>2881333.333333</td>\n",
       "      <td>3778333.333333</td>\n",
       "      <td>N</td>\n",
       "      <td>N</td>\n",
       "      <td>N</td>\n",
       "      <td>62.0</td>\n",
       "      <td>33.0</td>\n",
       "      <td>NaN</td>\n",
       "      <td>NaN</td>\n",
       "      <td>15.0</td>\n",
       "      <td>음식</td>\n",
       "      <td>12.0</td>\n",
       "      <td>메뉴</td>\n",
       "      <td>7143.0</td>\n",
       "      <td>25.0</td>\n",
       "      <td>4.1</td>\n",
       "      <td>9</td>\n",
       "    </tr>\n",
       "  </tbody>\n",
       "</table>\n",
       "</div>"
      ],
      "text/plain": [
       "            sales12            sales1            sales2 buy12 buy1 buy2  \\\n",
       "15         25010000   11966553.333333          14326000     N    N    N   \n",
       "16   1217333.333333    2800333.333333    3459333.333333     N    N    N   \n",
       "17        211846700  210647933.333333  241953866.666666     N    N    N   \n",
       "18  22836666.666667   21553333.333333    9573333.333333     N    N    N   \n",
       "19          3638000    2881333.333333    3778333.333333     N    N    N   \n",
       "\n",
       "    visitorReview  blogReview  age1  age2  review1st review1stComment  \\\n",
       "15          888.0      1123.0  20.0  30.0      279.0               음식   \n",
       "16          119.0        13.0   NaN   NaN       50.0               음식   \n",
       "17         1783.0      2483.0  20.0  10.0      675.0               음식   \n",
       "18         1184.0      1118.0  20.0  10.0      678.0               음식   \n",
       "19           62.0        33.0   NaN   NaN       15.0               음식   \n",
       "\n",
       "    review2nd review2ndComment  follower  follow  카카오평점  카카오후기수  \n",
       "15      156.0              서비스       NaN     NaN    3.4      36  \n",
       "16       31.0              서비스       NaN     NaN    4.0       4  \n",
       "17      217.0              서비스   14000.0  2005.0    3.4     104  \n",
       "18      331.0               메뉴    1391.0     1.0    3.2      49  \n",
       "19       12.0               메뉴    7143.0    25.0    4.1       9  "
      ]
     },
     "execution_count": 240,
     "metadata": {},
     "output_type": "execute_result"
    }
   ],
   "source": [
    "tmp_df.head()"
   ]
  },
  {
   "cell_type": "code",
   "execution_count": 241,
   "id": "fee3bc0b",
   "metadata": {},
   "outputs": [
    {
     "data": {
      "image/png": "[encoded data removed]",
      "text/plain": [
       "<Figure size 640x480 with 1 Axes>"
      ]
     },
     "metadata": {},
     "output_type": "display_data"
    }
   ],
   "source": [
    "#매장명 붙이기\n",
    "tmp_df['매장'] = df.iloc[:,0]\n",
    "\n",
    "#정수형 변환\n",
    "tmp_df[['sales12','sales1','sales2']] = tmp_df[['sales12','sales1','sales2']].astype(float)\n",
    "\n",
    "#평균 매출\n",
    "tmp_df['total_sales'] = (tmp_df['sales12']+tmp_df['sales1']+tmp_df['sales2'])/3\n",
    "\n",
    "#2달치만 있는 것들 보정\n",
    "#sales12가 0인 인덱스들\n",
    "\n",
    "idx1 = tmp_df[tmp_df['sales12'] ==0].index[0]\n",
    "idx2 = tmp_df[tmp_df['sales12'] ==0].index[1]\n",
    "\n",
    "tmp_df.loc[idx1,'total_sales'] = tmp_df.loc[idx1,'total_sales']*3/2\n",
    "tmp_df.loc[idx2,'total_sales'] = tmp_df.loc[idx2,'total_sales']*3/2\n",
    "\n",
    "#vistorrevie 없는것들 삭제(폐업)\n",
    "tmp_df = tmp_df.dropna(subset=[\"visitorReview\"])\n",
    "\n",
    "#시각화 \n",
    "plt.hist(tmp_df['total_sales'], bins=30)\n",
    "plt.show()\n"
   ]
  },
  {
   "cell_type": "code",
   "execution_count": null,
   "id": "3ba6b1e0",
   "metadata": {},
   "outputs": [],
   "source": []
  },
  {
   "cell_type": "code",
   "execution_count": 242,
   "id": "b3d181b7",
   "metadata": {},
   "outputs": [],
   "source": [
    "tmp_ = tmp_df[tmp_df['total_sales']<2*10**8]"
   ]
  },
  {
   "cell_type": "code",
   "execution_count": 243,
   "id": "8829cd8d",
   "metadata": {},
   "outputs": [
    {
     "data": {
      "text/html": [
       "<div>\n",
       "<style scoped>\n",
       "    .dataframe tbody tr th:only-of-type {\n",
       "        vertical-align: middle;\n",
       "    }\n",
       "\n",
       "    .dataframe tbody tr th {\n",
       "        vertical-align: top;\n",
       "    }\n",
       "\n",
       "    .dataframe thead th {\n",
       "        text-align: right;\n",
       "    }\n",
       "</style>\n",
       "<table border=\"1\" class=\"dataframe\">\n",
       "  <thead>\n",
       "    <tr style=\"text-align: right;\">\n",
       "      <th></th>\n",
       "      <th>blogReview</th>\n",
       "      <th>visitorReview</th>\n",
       "      <th>total_sales</th>\n",
       "    </tr>\n",
       "  </thead>\n",
       "  <tbody>\n",
       "    <tr>\n",
       "      <th>blogReview</th>\n",
       "      <td>1.000000</td>\n",
       "      <td>0.469231</td>\n",
       "      <td>0.475620</td>\n",
       "    </tr>\n",
       "    <tr>\n",
       "      <th>visitorReview</th>\n",
       "      <td>0.469231</td>\n",
       "      <td>1.000000</td>\n",
       "      <td>0.538217</td>\n",
       "    </tr>\n",
       "    <tr>\n",
       "      <th>total_sales</th>\n",
       "      <td>0.475620</td>\n",
       "      <td>0.538217</td>\n",
       "      <td>1.000000</td>\n",
       "    </tr>\n",
       "  </tbody>\n",
       "</table>\n",
       "</div>"
      ],
      "text/plain": [
       "               blogReview  visitorReview  total_sales\n",
       "blogReview       1.000000       0.469231     0.475620\n",
       "visitorReview    0.469231       1.000000     0.538217\n",
       "total_sales      0.475620       0.538217     1.000000"
      ]
     },
     "execution_count": 243,
     "metadata": {},
     "output_type": "execute_result"
    }
   ],
   "source": [
    "tmp_[['blogReview','visitorReview','total_sales']].corr()"
   ]
  },
  {
   "cell_type": "code",
   "execution_count": 244,
   "id": "f46fb6ab",
   "metadata": {},
   "outputs": [
    {
     "data": {
      "text/html": [
       "<div>\n",
       "<style scoped>\n",
       "    .dataframe tbody tr th:only-of-type {\n",
       "        vertical-align: middle;\n",
       "    }\n",
       "\n",
       "    .dataframe tbody tr th {\n",
       "        vertical-align: top;\n",
       "    }\n",
       "\n",
       "    .dataframe thead th {\n",
       "        text-align: right;\n",
       "    }\n",
       "</style>\n",
       "<table border=\"1\" class=\"dataframe\">\n",
       "  <thead>\n",
       "    <tr style=\"text-align: right;\">\n",
       "      <th></th>\n",
       "      <th>sales12</th>\n",
       "      <th>sales1</th>\n",
       "      <th>sales2</th>\n",
       "      <th>buy12</th>\n",
       "      <th>buy1</th>\n",
       "      <th>buy2</th>\n",
       "      <th>visitorReview</th>\n",
       "      <th>blogReview</th>\n",
       "      <th>age1</th>\n",
       "      <th>age2</th>\n",
       "      <th>review1st</th>\n",
       "      <th>review1stComment</th>\n",
       "      <th>review2nd</th>\n",
       "      <th>review2ndComment</th>\n",
       "      <th>follower</th>\n",
       "      <th>follow</th>\n",
       "      <th>카카오평점</th>\n",
       "      <th>카카오후기수</th>\n",
       "      <th>매장</th>\n",
       "      <th>total_sales</th>\n",
       "    </tr>\n",
       "  </thead>\n",
       "  <tbody>\n",
       "    <tr>\n",
       "      <th>17</th>\n",
       "      <td>2.118467e+08</td>\n",
       "      <td>2.106479e+08</td>\n",
       "      <td>2.419539e+08</td>\n",
       "      <td>N</td>\n",
       "      <td>N</td>\n",
       "      <td>N</td>\n",
       "      <td>1783.0</td>\n",
       "      <td>2483.0</td>\n",
       "      <td>20.0</td>\n",
       "      <td>10.0</td>\n",
       "      <td>675.0</td>\n",
       "      <td>음식</td>\n",
       "      <td>217.0</td>\n",
       "      <td>서비스</td>\n",
       "      <td>14000.0</td>\n",
       "      <td>2005.0</td>\n",
       "      <td>3.4</td>\n",
       "      <td>104</td>\n",
       "      <td>감성타코(홍대점)</td>\n",
       "      <td>2.214828e+08</td>\n",
       "    </tr>\n",
       "    <tr>\n",
       "      <th>44</th>\n",
       "      <td>9.659667e+07</td>\n",
       "      <td>2.664967e+08</td>\n",
       "      <td>2.925500e+08</td>\n",
       "      <td>N</td>\n",
       "      <td>N</td>\n",
       "      <td>N</td>\n",
       "      <td>174.0</td>\n",
       "      <td>171.0</td>\n",
       "      <td>20.0</td>\n",
       "      <td>30.0</td>\n",
       "      <td>81.0</td>\n",
       "      <td>매장</td>\n",
       "      <td>79.0</td>\n",
       "      <td>음식</td>\n",
       "      <td>520.0</td>\n",
       "      <td>0.0</td>\n",
       "      <td>3.5</td>\n",
       "      <td>17</td>\n",
       "      <td>슬로우야드바비큐</td>\n",
       "      <td>2.185478e+08</td>\n",
       "    </tr>\n",
       "  </tbody>\n",
       "</table>\n",
       "</div>"
      ],
      "text/plain": [
       "         sales12        sales1        sales2 buy12 buy1 buy2  visitorReview  \\\n",
       "17  2.118467e+08  2.106479e+08  2.419539e+08     N    N    N         1783.0   \n",
       "44  9.659667e+07  2.664967e+08  2.925500e+08     N    N    N          174.0   \n",
       "\n",
       "    blogReview  age1  age2  review1st review1stComment  review2nd  \\\n",
       "17      2483.0  20.0  10.0      675.0               음식      217.0   \n",
       "44       171.0  20.0  30.0       81.0               매장       79.0   \n",
       "\n",
       "   review2ndComment  follower  follow  카카오평점  카카오후기수         매장   total_sales  \n",
       "17              서비스   14000.0  2005.0    3.4     104  감성타코(홍대점)  2.214828e+08  \n",
       "44               음식     520.0     0.0    3.5      17   슬로우야드바비큐  2.185478e+08  "
      ]
     },
     "execution_count": 244,
     "metadata": {},
     "output_type": "execute_result"
    }
   ],
   "source": [
    "\n",
    "#이상치들 살펴보기\n",
    "tmp_df[tmp_df['total_sales']>2*10**8]\n"
   ]
  },
  {
   "cell_type": "code",
   "execution_count": 246,
   "id": "f1cd59aa",
   "metadata": {},
   "outputs": [
    {
     "data": {
      "image/png": "[encoded data removed]",
      "text/plain": [
       "<Figure size 640x480 with 1 Axes>"
      ]
     },
     "metadata": {},
     "output_type": "display_data"
    },
    {
     "data": {
      "image/png": "[encoded data removed]",
      "text/plain": [
       "<Figure size 640x480 with 1 Axes>"
      ]
     },
     "metadata": {},
     "output_type": "display_data"
    }
   ],
   "source": [
    "\n",
    "#슬로우바비큐 삭제(최근에 생긴 가게로 급격히 매출 증가)\n",
    "tmp_df = tmp_df[tmp_df['매장'] != '슬로우야드 바비큐']\n",
    "\n",
    "plt.hist(tmp_df['total_sales'], bins=30)\n",
    "plt.show()\n",
    "\n",
    "#6 미만인것들 보고 기준 설정\n",
    "under_2 = tmp_df[tmp_df['total_sales']<2*10**8]\n",
    "\n",
    "plt.hist(under_2['total_sales'],bins=50)\n",
    "plt.vlines(1*10**7, 0 ,7, color='red')\n",
    "plt.vlines(3*10**7, 0 ,7, color='red')\n",
    "plt.show()\n"
   ]
  },
  {
   "cell_type": "code",
   "execution_count": 247,
   "id": "327b1f6e",
   "metadata": {},
   "outputs": [
    {
     "data": {
      "text/plain": [
       "small    28\n",
       "mid      18\n",
       "big       9\n",
       "Name: label, dtype: int64"
      ]
     },
     "execution_count": 247,
     "metadata": {},
     "output_type": "execute_result"
    }
   ],
   "source": [
    "# 0.31, 0.75 기준으로 라벨링\n",
    "tmp_df['label'] = pd.cut(tmp_df['total_sales'], bins=[-float('inf'), 1*10**7, 3*10**7, float('inf')], labels=['small', 'mid', 'big'])\n",
    "\n",
    "# 인스타 여부 변수로 추가\n",
    "tmp_df['instagram'] = np.where(tmp_df['follow'].isnull(), 0, 1)\n",
    "tmp_df['label'].value_counts()"
   ]
  },
  {
   "cell_type": "code",
   "execution_count": 248,
   "id": "bacc57e4",
   "metadata": {},
   "outputs": [
    {
     "data": {
      "text/html": [
       "<div>\n",
       "<style scoped>\n",
       "    .dataframe tbody tr th:only-of-type {\n",
       "        vertical-align: middle;\n",
       "    }\n",
       "\n",
       "    .dataframe tbody tr th {\n",
       "        vertical-align: top;\n",
       "    }\n",
       "\n",
       "    .dataframe thead th {\n",
       "        text-align: right;\n",
       "    }\n",
       "</style>\n",
       "<table border=\"1\" class=\"dataframe\">\n",
       "  <thead>\n",
       "    <tr style=\"text-align: right;\">\n",
       "      <th></th>\n",
       "      <th>blogReview</th>\n",
       "      <th>visitorReview</th>\n",
       "      <th>total_sales</th>\n",
       "    </tr>\n",
       "  </thead>\n",
       "  <tbody>\n",
       "    <tr>\n",
       "      <th>blogReview</th>\n",
       "      <td>1.000000</td>\n",
       "      <td>0.770811</td>\n",
       "      <td>0.554756</td>\n",
       "    </tr>\n",
       "    <tr>\n",
       "      <th>visitorReview</th>\n",
       "      <td>0.770811</td>\n",
       "      <td>1.000000</td>\n",
       "      <td>0.511567</td>\n",
       "    </tr>\n",
       "    <tr>\n",
       "      <th>total_sales</th>\n",
       "      <td>0.554756</td>\n",
       "      <td>0.511567</td>\n",
       "      <td>1.000000</td>\n",
       "    </tr>\n",
       "  </tbody>\n",
       "</table>\n",
       "</div>"
      ],
      "text/plain": [
       "               blogReview  visitorReview  total_sales\n",
       "blogReview       1.000000       0.770811     0.554756\n",
       "visitorReview    0.770811       1.000000     0.511567\n",
       "total_sales      0.554756       0.511567     1.000000"
      ]
     },
     "execution_count": 248,
     "metadata": {},
     "output_type": "execute_result"
    }
   ],
   "source": [
    "tmp_df[tmp_df['label']=='small'][['blogReview','visitorReview','total_sales']].corr()"
   ]
  },
  {
   "cell_type": "code",
   "execution_count": null,
   "id": "f77f55cd",
   "metadata": {},
   "outputs": [],
   "source": []
  },
  {
   "cell_type": "code",
   "execution_count": null,
   "id": "9f225e17",
   "metadata": {},
   "outputs": [],
   "source": []
  },
  {
   "cell_type": "code",
   "execution_count": 249,
   "id": "3b1e6dc8",
   "metadata": {},
   "outputs": [],
   "source": [
    "# 원핫 인코딩 age1,age2\n",
    "import pandas as pd\n",
    "\n",
    "# color 열을 원핫인코딩\n",
    "one_hot_encoded1 = pd.get_dummies(tmp_df['review1stComment'])\n",
    "one_hot_encoded2 = pd.get_dummies(tmp_df['review2ndComment'])\n",
    "\n",
    "new_df = tmp_df.rename(columns={'매장': '식당'})\n",
    "\n",
    "\n",
    "# 원핫인코딩한 결과를 포함한 DataFrame 생성\n",
    "df_encoded = pd.concat([new_df, one_hot_encoded1, one_hot_encoded2], axis=1)\n",
    "\n"
   ]
  },
  {
   "cell_type": "markdown",
   "id": "e1b6adbf",
   "metadata": {},
   "source": [
    "# review1st,2ndComment 인코딩 후"
   ]
  },
  {
   "cell_type": "code",
   "execution_count": 250,
   "id": "7e1fe116",
   "metadata": {},
   "outputs": [
    {
     "data": {
      "text/html": [
       "<div>\n",
       "<style scoped>\n",
       "    .dataframe tbody tr th:only-of-type {\n",
       "        vertical-align: middle;\n",
       "    }\n",
       "\n",
       "    .dataframe tbody tr th {\n",
       "        vertical-align: top;\n",
       "    }\n",
       "\n",
       "    .dataframe thead th {\n",
       "        text-align: right;\n",
       "    }\n",
       "</style>\n",
       "<table border=\"1\" class=\"dataframe\">\n",
       "  <thead>\n",
       "    <tr style=\"text-align: right;\">\n",
       "      <th></th>\n",
       "      <th>sales12</th>\n",
       "      <th>sales1</th>\n",
       "      <th>sales2</th>\n",
       "      <th>buy12</th>\n",
       "      <th>buy1</th>\n",
       "      <th>buy2</th>\n",
       "      <th>visitorReview</th>\n",
       "      <th>blogReview</th>\n",
       "      <th>age1</th>\n",
       "      <th>age2</th>\n",
       "      <th>...</th>\n",
       "      <th>가성비</th>\n",
       "      <th>메뉴</th>\n",
       "      <th>분위기</th>\n",
       "      <th>서비스</th>\n",
       "      <th>술</th>\n",
       "      <th>양</th>\n",
       "      <th>음식</th>\n",
       "      <th>인테리어</th>\n",
       "      <th>재료</th>\n",
       "      <th>혼밥</th>\n",
       "    </tr>\n",
       "  </thead>\n",
       "  <tbody>\n",
       "    <tr>\n",
       "      <th>15</th>\n",
       "      <td>2.501000e+07</td>\n",
       "      <td>1.196655e+07</td>\n",
       "      <td>1.432600e+07</td>\n",
       "      <td>N</td>\n",
       "      <td>N</td>\n",
       "      <td>N</td>\n",
       "      <td>888.0</td>\n",
       "      <td>1123.0</td>\n",
       "      <td>20.0</td>\n",
       "      <td>30.0</td>\n",
       "      <td>...</td>\n",
       "      <td>0</td>\n",
       "      <td>0</td>\n",
       "      <td>0</td>\n",
       "      <td>1</td>\n",
       "      <td>0</td>\n",
       "      <td>0</td>\n",
       "      <td>0</td>\n",
       "      <td>0</td>\n",
       "      <td>0</td>\n",
       "      <td>0</td>\n",
       "    </tr>\n",
       "    <tr>\n",
       "      <th>16</th>\n",
       "      <td>1.217333e+06</td>\n",
       "      <td>2.800333e+06</td>\n",
       "      <td>3.459333e+06</td>\n",
       "      <td>N</td>\n",
       "      <td>N</td>\n",
       "      <td>N</td>\n",
       "      <td>119.0</td>\n",
       "      <td>13.0</td>\n",
       "      <td>NaN</td>\n",
       "      <td>NaN</td>\n",
       "      <td>...</td>\n",
       "      <td>0</td>\n",
       "      <td>0</td>\n",
       "      <td>0</td>\n",
       "      <td>1</td>\n",
       "      <td>0</td>\n",
       "      <td>0</td>\n",
       "      <td>0</td>\n",
       "      <td>0</td>\n",
       "      <td>0</td>\n",
       "      <td>0</td>\n",
       "    </tr>\n",
       "    <tr>\n",
       "      <th>17</th>\n",
       "      <td>2.118467e+08</td>\n",
       "      <td>2.106479e+08</td>\n",
       "      <td>2.419539e+08</td>\n",
       "      <td>N</td>\n",
       "      <td>N</td>\n",
       "      <td>N</td>\n",
       "      <td>1783.0</td>\n",
       "      <td>2483.0</td>\n",
       "      <td>20.0</td>\n",
       "      <td>10.0</td>\n",
       "      <td>...</td>\n",
       "      <td>0</td>\n",
       "      <td>0</td>\n",
       "      <td>0</td>\n",
       "      <td>1</td>\n",
       "      <td>0</td>\n",
       "      <td>0</td>\n",
       "      <td>0</td>\n",
       "      <td>0</td>\n",
       "      <td>0</td>\n",
       "      <td>0</td>\n",
       "    </tr>\n",
       "    <tr>\n",
       "      <th>18</th>\n",
       "      <td>2.283667e+07</td>\n",
       "      <td>2.155333e+07</td>\n",
       "      <td>9.573333e+06</td>\n",
       "      <td>N</td>\n",
       "      <td>N</td>\n",
       "      <td>N</td>\n",
       "      <td>1184.0</td>\n",
       "      <td>1118.0</td>\n",
       "      <td>20.0</td>\n",
       "      <td>10.0</td>\n",
       "      <td>...</td>\n",
       "      <td>0</td>\n",
       "      <td>1</td>\n",
       "      <td>0</td>\n",
       "      <td>0</td>\n",
       "      <td>0</td>\n",
       "      <td>0</td>\n",
       "      <td>0</td>\n",
       "      <td>0</td>\n",
       "      <td>0</td>\n",
       "      <td>0</td>\n",
       "    </tr>\n",
       "    <tr>\n",
       "      <th>19</th>\n",
       "      <td>3.638000e+06</td>\n",
       "      <td>2.881333e+06</td>\n",
       "      <td>3.778333e+06</td>\n",
       "      <td>N</td>\n",
       "      <td>N</td>\n",
       "      <td>N</td>\n",
       "      <td>62.0</td>\n",
       "      <td>33.0</td>\n",
       "      <td>NaN</td>\n",
       "      <td>NaN</td>\n",
       "      <td>...</td>\n",
       "      <td>0</td>\n",
       "      <td>1</td>\n",
       "      <td>0</td>\n",
       "      <td>0</td>\n",
       "      <td>0</td>\n",
       "      <td>0</td>\n",
       "      <td>0</td>\n",
       "      <td>0</td>\n",
       "      <td>0</td>\n",
       "      <td>0</td>\n",
       "    </tr>\n",
       "  </tbody>\n",
       "</table>\n",
       "<p>5 rows × 39 columns</p>\n",
       "</div>"
      ],
      "text/plain": [
       "         sales12        sales1        sales2 buy12 buy1 buy2  visitorReview  \\\n",
       "15  2.501000e+07  1.196655e+07  1.432600e+07     N    N    N          888.0   \n",
       "16  1.217333e+06  2.800333e+06  3.459333e+06     N    N    N          119.0   \n",
       "17  2.118467e+08  2.106479e+08  2.419539e+08     N    N    N         1783.0   \n",
       "18  2.283667e+07  2.155333e+07  9.573333e+06     N    N    N         1184.0   \n",
       "19  3.638000e+06  2.881333e+06  3.778333e+06     N    N    N           62.0   \n",
       "\n",
       "    blogReview  age1  age2  ...  가성비 메뉴  분위기 서비스  술  양  음식  인테리어 재료  혼밥  \n",
       "15      1123.0  20.0  30.0  ...    0  0    0   1  0  0   0     0  0   0  \n",
       "16        13.0   NaN   NaN  ...    0  0    0   1  0  0   0     0  0   0  \n",
       "17      2483.0  20.0  10.0  ...    0  0    0   1  0  0   0     0  0   0  \n",
       "18      1118.0  20.0  10.0  ...    0  1    0   0  0  0   0     0  0   0  \n",
       "19        33.0   NaN   NaN  ...    0  1    0   0  0  0   0     0  0   0  \n",
       "\n",
       "[5 rows x 39 columns]"
      ]
     },
     "execution_count": 250,
     "metadata": {},
     "output_type": "execute_result"
    }
   ],
   "source": [
    "df_encoded.head()"
   ]
  },
  {
   "cell_type": "code",
   "execution_count": 251,
   "id": "d0008991",
   "metadata": {},
   "outputs": [
    {
     "data": {
      "text/plain": [
       "Index(['sales12', 'sales1', 'sales2', 'buy12', 'buy1', 'buy2', 'visitorReview',\n",
       "       'blogReview', 'age1', 'age2', 'review1st', 'review1stComment',\n",
       "       'review2nd', 'review2ndComment', 'follower', 'follow', '카카오평점',\n",
       "       '카카오후기수', '식당', 'total_sales', 'label', 'instagram', '가성비', '매장', '뷰',\n",
       "       '서비스', '음식', '음악', '인테리어', '가성비', '메뉴', '분위기', '서비스', '술', '양', '음식',\n",
       "       '인테리어', '재료', '혼밥'],\n",
       "      dtype='object')"
      ]
     },
     "execution_count": 251,
     "metadata": {},
     "output_type": "execute_result"
    }
   ],
   "source": [
    "df_encoded.columns"
   ]
  },
  {
   "cell_type": "code",
   "execution_count": 252,
   "id": "e049b1d0",
   "metadata": {},
   "outputs": [
    {
     "name": "stdout",
     "output_type": "stream",
     "text": [
      "Test score: 0.9090909090909091\n",
      "Best params: {'max_depth': 5, 'min_samples_leaf': 4, 'min_samples_split': 2, 'n_estimators': 100}\n",
      "Test score: 0.8181818181818182\n",
      "Best params: {'max_depth': 5, 'min_samples_leaf': 1, 'min_samples_split': 5, 'n_estimators': 100}\n",
      "Test score: 0.6363636363636364\n",
      "Best params: {'max_depth': 10, 'min_samples_leaf': 1, 'min_samples_split': 5, 'n_estimators': 100}\n",
      "Test score: 0.7272727272727273\n",
      "Best params: {'max_depth': 10, 'min_samples_leaf': 2, 'min_samples_split': 5, 'n_estimators': 200}\n",
      "Test score: 0.7272727272727273\n",
      "Best params: {'max_depth': 10, 'min_samples_leaf': 2, 'min_samples_split': 5, 'n_estimators': 200}\n",
      "Best params: {'max_depth': 10, 'min_samples_leaf': 2, 'min_samples_split': 5, 'n_estimators': 200}\n"
     ]
    }
   ],
   "source": [
    "from sklearn.model_selection import train_test_split\n",
    "from sklearn.model_selection import GridSearchCV\n",
    "from sklearn.model_selection import StratifiedKFold\n",
    "from sklearn.ensemble import RandomForestClassifier\n",
    "\n",
    "# 데이터를 분할하는 함수\n",
    "def stratified_sampling(X, y, n_splits=5, random_state=42):\n",
    "    skf = StratifiedKFold(n_splits=n_splits, shuffle=True, random_state=random_state)\n",
    "    for train_idx, test_idx in skf.split(X, y):\n",
    "        yield X.iloc[train_idx], X.iloc[test_idx], y.iloc[train_idx], y.iloc[test_idx]\n",
    "\n",
    "# 분할된 데이터에서 RandomForestClassifier의 파라미터를 조정하는 함수\n",
    "def optimize_rf(X_train, y_train):\n",
    "    param_grid = {\n",
    "        'n_estimators': [50, 100, 200],\n",
    "        'max_depth': [5, 10, 15],\n",
    "        'min_samples_split': [2, 5, 10],\n",
    "        'min_samples_leaf': [1, 2, 4]\n",
    "    }\n",
    "    rf = RandomForestClassifier(random_state=42)\n",
    "    grid_search = GridSearchCV(rf, param_grid=param_grid, cv=5, n_jobs=-1)\n",
    "    grid_search.fit(X_train, y_train)\n",
    "    return grid_search #.best_params_\n",
    "\n",
    "# 데이터를 로드하고 StratifiedKFold와 RandomForestClassifier를 사용하여 파라미터를 조정\n",
    "from sklearn.datasets import load_iris\n",
    "import pandas as pd\n",
    "\n",
    "X=df_encoded[['blogReview','visitorReview','review1st','review2nd','instagram','가성비', '매장', '뷰',\n",
    "       '서비스', '음식', '음악', '인테리어', '가성비', '메뉴', '분위기', '서비스', '술', '양', '음식',\n",
    "       '인테리어', '재료', '혼밥']]#\n",
    "y=df_encoded['label']\n",
    "\n",
    "result = pd.DataFrame({'y_pred': [0],'y_true': [0]})\n",
    "best_params = None\n",
    "for X_train, X_test, y_train, y_test in stratified_sampling(X, y, n_splits=5, random_state=42):\n",
    "    params = optimize_rf(X_train, y_train)\n",
    "    if best_params is None or params.best_score_ > best_score:\n",
    "        best_params = params.best_params_\n",
    "        best_score = params.best_score_\n",
    "    rf = RandomForestClassifier(random_state=42, **params.best_params_)\n",
    "    rf.fit(X_train, y_train)\n",
    "    print(f\"Test score: {rf.score(X_test, y_test)}\")\n",
    "    print(f\"Best params: {best_params}\")\n",
    "    \n",
    "    #y_pred_test랑 y_test랑 합치기\n",
    "    tmp_result = pd.DataFrame({'y_pred': rf.predict(X_test),'y_true': np.array(y_test)}, index=y_test.index)\n",
    "    result = pd.concat([result, tmp_result],axis=0)\n",
    "    \n",
    "print(f\"Best params: {best_params}\")\n"
   ]
  },
  {
   "cell_type": "code",
   "execution_count": 361,
   "id": "f672dd13",
   "metadata": {},
   "outputs": [
    {
     "data": {
      "text/plain": [
       "Index(['blogReview', 'visitorReview', 'review1st', 'review2nd', 'instagram',\n",
       "       '가성비', '가성비', '매장', '뷰', '서비스', '서비스', '음식', '음식', '음악', '인테리어', '인테리어',\n",
       "       '가성비', '가성비', '메뉴', '분위기', '서비스', '서비스', '술', '양', '음식', '음식', '인테리어',\n",
       "       '인테리어', '재료', '혼밥'],\n",
       "      dtype='object')"
      ]
     },
     "execution_count": 361,
     "metadata": {},
     "output_type": "execute_result"
    }
   ],
   "source": [
    "X=df_encoded[['blogReview','visitorReview','review1st','review2nd','instagram','가성비', '매장', '뷰',\n",
    "       '서비스', '음식', '음악', '인테리어', '가성비', '메뉴', '분위기', '서비스', '술', '양', '음식',\n",
    "       '인테리어', '재료', '혼밥']]\n",
    "X.columns"
   ]
  },
  {
   "cell_type": "code",
   "execution_count": 184,
   "id": "6d65491d",
   "metadata": {},
   "outputs": [],
   "source": [
    "result = result[1:]"
   ]
  },
  {
   "cell_type": "code",
   "execution_count": 196,
   "id": "0fe07171",
   "metadata": {},
   "outputs": [],
   "source": [
    "result['식당'] = df_encoded.loc[result.index, '식당']\n",
    "result['예측여부']=0\n",
    "result.head()"
   ]
  },
  {
   "cell_type": "code",
   "execution_count": 206,
   "id": "8525fcd3",
   "metadata": {},
   "outputs": [],
   "source": [
    "for i in result.index:\n",
    "    if result.loc[i,'y_pred'] == result.loc[i,'y_true']:\n",
    "        result.loc[i,'예측여부'] = 1\n",
    "    else:\n",
    "        result.loc[i,'예측여부'] = 0"
   ]
  },
  {
   "cell_type": "code",
   "execution_count": 208,
   "id": "811e4007",
   "metadata": {},
   "outputs": [
    {
     "data": {
      "text/html": [
       "<div>\n",
       "<style scoped>\n",
       "    .dataframe tbody tr th:only-of-type {\n",
       "        vertical-align: middle;\n",
       "    }\n",
       "\n",
       "    .dataframe tbody tr th {\n",
       "        vertical-align: top;\n",
       "    }\n",
       "\n",
       "    .dataframe thead th {\n",
       "        text-align: right;\n",
       "    }\n",
       "</style>\n",
       "<table border=\"1\" class=\"dataframe\">\n",
       "  <thead>\n",
       "    <tr style=\"text-align: right;\">\n",
       "      <th></th>\n",
       "      <th>y_pred</th>\n",
       "      <th>y_true</th>\n",
       "      <th>식당</th>\n",
       "      <th>예측여부</th>\n",
       "    </tr>\n",
       "  </thead>\n",
       "  <tbody>\n",
       "    <tr>\n",
       "      <th>15</th>\n",
       "      <td>mid</td>\n",
       "      <td>mid</td>\n",
       "      <td>kitchen485</td>\n",
       "      <td>1</td>\n",
       "    </tr>\n",
       "    <tr>\n",
       "      <th>18</th>\n",
       "      <td>mid</td>\n",
       "      <td>mid</td>\n",
       "      <td>광야</td>\n",
       "      <td>1</td>\n",
       "    </tr>\n",
       "    <tr>\n",
       "      <th>27</th>\n",
       "      <td>mid</td>\n",
       "      <td>mid</td>\n",
       "      <td>몰토베네합정</td>\n",
       "      <td>1</td>\n",
       "    </tr>\n",
       "    <tr>\n",
       "      <th>30</th>\n",
       "      <td>small</td>\n",
       "      <td>small</td>\n",
       "      <td>벨라또띠아</td>\n",
       "      <td>1</td>\n",
       "    </tr>\n",
       "    <tr>\n",
       "      <th>34</th>\n",
       "      <td>small</td>\n",
       "      <td>small</td>\n",
       "      <td>비볼리</td>\n",
       "      <td>1</td>\n",
       "    </tr>\n",
       "  </tbody>\n",
       "</table>\n",
       "</div>"
      ],
      "text/plain": [
       "   y_pred y_true          식당  예측여부\n",
       "15    mid    mid  kitchen485     1\n",
       "18    mid    mid          광야     1\n",
       "27    mid    mid      몰토베네합정     1\n",
       "30  small  small       벨라또띠아     1\n",
       "34  small  small         비볼리     1"
      ]
     },
     "execution_count": 208,
     "metadata": {},
     "output_type": "execute_result"
    }
   ],
   "source": [
    "result.head()"
   ]
  },
  {
   "cell_type": "code",
   "execution_count": 215,
   "id": "7fad8078",
   "metadata": {},
   "outputs": [],
   "source": [
    "result = result[['식당','y_true','y_pred','예측여부']]\n",
    "non_true = result[result['예측여부']==0]"
   ]
  },
  {
   "cell_type": "code",
   "execution_count": 213,
   "id": "5efc4bad",
   "metadata": {},
   "outputs": [
    {
     "data": {
      "text/plain": [
       "42"
      ]
     },
     "execution_count": 213,
     "metadata": {},
     "output_type": "execute_result"
    }
   ],
   "source": [
    "result['예측여부'].sum()"
   ]
  },
  {
   "cell_type": "code",
   "execution_count": 214,
   "id": "042505af",
   "metadata": {},
   "outputs": [
    {
     "data": {
      "text/plain": [
       "76.36363636363637"
      ]
     },
     "execution_count": 214,
     "metadata": {},
     "output_type": "execute_result"
    }
   ],
   "source": [
    "42/55*100"
   ]
  },
  {
   "cell_type": "code",
   "execution_count": 220,
   "id": "64c1edf7",
   "metadata": {},
   "outputs": [],
   "source": [
    "non_true_sales = df_encoded.loc[non_true.index, 'total_sales']"
   ]
  },
  {
   "cell_type": "code",
   "execution_count": 221,
   "id": "120c4914",
   "metadata": {},
   "outputs": [
    {
     "name": "stderr",
     "output_type": "stream",
     "text": [
      "C:\\Users\\KEARNEY\\AppData\\Local\\Temp\\ipykernel_4404\\1973233434.py:1: SettingWithCopyWarning: \n",
      "A value is trying to be set on a copy of a slice from a DataFrame.\n",
      "Try using .loc[row_indexer,col_indexer] = value instead\n",
      "\n",
      "See the caveats in the documentation: https://pandas.pydata.org/pandas-docs/stable/user_guide/indexing.html#returning-a-view-versus-a-copy\n",
      "  non_true['매출평균'] = non_true_sales\n"
     ]
    }
   ],
   "source": [
    "non_true['매출평균'] = non_true_sales"
   ]
  },
  {
   "cell_type": "code",
   "execution_count": 223,
   "id": "d77a8505",
   "metadata": {},
   "outputs": [
    {
     "data": {
      "text/html": [
       "<div>\n",
       "<style scoped>\n",
       "    .dataframe tbody tr th:only-of-type {\n",
       "        vertical-align: middle;\n",
       "    }\n",
       "\n",
       "    .dataframe tbody tr th {\n",
       "        vertical-align: top;\n",
       "    }\n",
       "\n",
       "    .dataframe thead th {\n",
       "        text-align: right;\n",
       "    }\n",
       "</style>\n",
       "<table border=\"1\" class=\"dataframe\">\n",
       "  <thead>\n",
       "    <tr style=\"text-align: right;\">\n",
       "      <th></th>\n",
       "      <th>식당</th>\n",
       "      <th>y_true</th>\n",
       "      <th>y_pred</th>\n",
       "      <th>예측여부</th>\n",
       "      <th>매출평균</th>\n",
       "    </tr>\n",
       "  </thead>\n",
       "  <tbody>\n",
       "    <tr>\n",
       "      <th>64</th>\n",
       "      <td>크레이지카츠</td>\n",
       "      <td>big</td>\n",
       "      <td>mid</td>\n",
       "      <td>0</td>\n",
       "      <td>3.172067e+07</td>\n",
       "    </tr>\n",
       "    <tr>\n",
       "      <th>28</th>\n",
       "      <td>묘한식탁</td>\n",
       "      <td>small</td>\n",
       "      <td>mid</td>\n",
       "      <td>0</td>\n",
       "      <td>4.915111e+06</td>\n",
       "    </tr>\n",
       "    <tr>\n",
       "      <th>36</th>\n",
       "      <td>빌리더다이닝</td>\n",
       "      <td>big</td>\n",
       "      <td>mid</td>\n",
       "      <td>0</td>\n",
       "      <td>5.555952e+07</td>\n",
       "    </tr>\n",
       "    <tr>\n",
       "      <th>35</th>\n",
       "      <td>비스트로에버</td>\n",
       "      <td>big</td>\n",
       "      <td>small</td>\n",
       "      <td>0</td>\n",
       "      <td>3.094286e+07</td>\n",
       "    </tr>\n",
       "    <tr>\n",
       "      <th>47</th>\n",
       "      <td>에트나퓨</td>\n",
       "      <td>small</td>\n",
       "      <td>mid</td>\n",
       "      <td>0</td>\n",
       "      <td>8.853000e+06</td>\n",
       "    </tr>\n",
       "    <tr>\n",
       "      <th>66</th>\n",
       "      <td>토모토카레</td>\n",
       "      <td>big</td>\n",
       "      <td>mid</td>\n",
       "      <td>0</td>\n",
       "      <td>3.866226e+07</td>\n",
       "    </tr>\n",
       "    <tr>\n",
       "      <th>67</th>\n",
       "      <td>토파</td>\n",
       "      <td>mid</td>\n",
       "      <td>small</td>\n",
       "      <td>0</td>\n",
       "      <td>1.382111e+07</td>\n",
       "    </tr>\n",
       "    <tr>\n",
       "      <th>20</th>\n",
       "      <td>덩크트레이</td>\n",
       "      <td>big</td>\n",
       "      <td>small</td>\n",
       "      <td>0</td>\n",
       "      <td>4.666214e+07</td>\n",
       "    </tr>\n",
       "    <tr>\n",
       "      <th>44</th>\n",
       "      <td>슬로우야드바비큐</td>\n",
       "      <td>big</td>\n",
       "      <td>small</td>\n",
       "      <td>0</td>\n",
       "      <td>2.185478e+08</td>\n",
       "    </tr>\n",
       "    <tr>\n",
       "      <th>69</th>\n",
       "      <td>해물기와</td>\n",
       "      <td>mid</td>\n",
       "      <td>small</td>\n",
       "      <td>0</td>\n",
       "      <td>1.765214e+07</td>\n",
       "    </tr>\n",
       "    <tr>\n",
       "      <th>23</th>\n",
       "      <td>루나씨엘로</td>\n",
       "      <td>big</td>\n",
       "      <td>mid</td>\n",
       "      <td>0</td>\n",
       "      <td>3.234798e+07</td>\n",
       "    </tr>\n",
       "    <tr>\n",
       "      <th>49</th>\n",
       "      <td>연남동와이탑</td>\n",
       "      <td>mid</td>\n",
       "      <td>small</td>\n",
       "      <td>0</td>\n",
       "      <td>1.527944e+07</td>\n",
       "    </tr>\n",
       "    <tr>\n",
       "      <th>57</th>\n",
       "      <td>쥬벤쿠바연남점</td>\n",
       "      <td>small</td>\n",
       "      <td>big</td>\n",
       "      <td>0</td>\n",
       "      <td>7.295556e+06</td>\n",
       "    </tr>\n",
       "  </tbody>\n",
       "</table>\n",
       "</div>"
      ],
      "text/plain": [
       "          식당 y_true y_pred  예측여부          매출평균\n",
       "64    크레이지카츠    big    mid     0  3.172067e+07\n",
       "28      묘한식탁  small    mid     0  4.915111e+06\n",
       "36    빌리더다이닝    big    mid     0  5.555952e+07\n",
       "35    비스트로에버    big  small     0  3.094286e+07\n",
       "47      에트나퓨  small    mid     0  8.853000e+06\n",
       "66     토모토카레    big    mid     0  3.866226e+07\n",
       "67        토파    mid  small     0  1.382111e+07\n",
       "20     덩크트레이    big  small     0  4.666214e+07\n",
       "44  슬로우야드바비큐    big  small     0  2.185478e+08\n",
       "69      해물기와    mid  small     0  1.765214e+07\n",
       "23     루나씨엘로    big    mid     0  3.234798e+07\n",
       "49    연남동와이탑    mid  small     0  1.527944e+07\n",
       "57   쥬벤쿠바연남점  small    big     0  7.295556e+06"
      ]
     },
     "execution_count": 223,
     "metadata": {},
     "output_type": "execute_result"
    }
   ],
   "source": [
    "non_true"
   ]
  },
  {
   "cell_type": "code",
   "execution_count": null,
   "id": "3bb7272a",
   "metadata": {},
   "outputs": [],
   "source": []
  },
  {
   "cell_type": "code",
   "execution_count": 264,
   "id": "536f5167",
   "metadata": {},
   "outputs": [],
   "source": [
    "# 추론"
   ]
  },
  {
   "cell_type": "code",
   "execution_count": 272,
   "id": "b0ba0570",
   "metadata": {},
   "outputs": [],
   "source": [
    "#원핫부터"
   ]
  },
  {
   "cell_type": "code",
   "execution_count": null,
   "id": "5f76617d",
   "metadata": {},
   "outputs": [],
   "source": []
  },
  {
   "cell_type": "code",
   "execution_count": null,
   "id": "705fdf50",
   "metadata": {},
   "outputs": [],
   "source": []
  },
  {
   "cell_type": "code",
   "execution_count": null,
   "id": "966f80b5",
   "metadata": {},
   "outputs": [],
   "source": []
  },
  {
   "cell_type": "code",
   "execution_count": 344,
   "id": "1e047600",
   "metadata": {},
   "outputs": [],
   "source": [
    "tt = df.iloc[:row_start_idx,start_idx:end_idx]"
   ]
  },
  {
   "cell_type": "code",
   "execution_count": 345,
   "id": "0e08dfed",
   "metadata": {},
   "outputs": [],
   "source": [
    "tt['매장']=df.loc[:row_start_idx,'name']"
   ]
  },
  {
   "cell_type": "code",
   "execution_count": 346,
   "id": "d20e721e",
   "metadata": {},
   "outputs": [
    {
     "data": {
      "text/plain": [
       "(15, 17)"
      ]
     },
     "execution_count": 346,
     "metadata": {},
     "output_type": "execute_result"
    }
   ],
   "source": [
    "tt.shape"
   ]
  },
  {
   "cell_type": "code",
   "execution_count": 347,
   "id": "f63d77ec",
   "metadata": {
    "scrolled": true
   },
   "outputs": [
    {
     "data": {
      "text/plain": [
       "0             미장플라쎄\n",
       "1            이관우파스타\n",
       "2          디트로이트피지스\n",
       "3          피크닉마나올라나\n",
       "4              키노키친\n",
       "5           탑클라우드23\n",
       "6              브런치가\n",
       "7       최고당돈까스(상암점)\n",
       "8            501파스타\n",
       "9             애프터모닝\n",
       "10    온샐러드&포케마포구청역점\n",
       "11           테이커테이블\n",
       "12         비닐하우스공덕점\n",
       "13      까르보네(마포성산점)\n",
       "14         그리너(연남점)\n",
       "Name: 매장, dtype: object"
      ]
     },
     "execution_count": 347,
     "metadata": {},
     "output_type": "execute_result"
    }
   ],
   "source": [
    "tt['매장']"
   ]
  },
  {
   "cell_type": "code",
   "execution_count": 348,
   "id": "8321c260",
   "metadata": {},
   "outputs": [],
   "source": [
    "tt['instagram'] = np.where(tt['follow'].isnull(), 0, 1)"
   ]
  },
  {
   "cell_type": "code",
   "execution_count": 354,
   "id": "eceabe50",
   "metadata": {},
   "outputs": [],
   "source": [
    "# 원핫 인코딩 age1,age2\n",
    "import pandas as pd\n",
    "\n",
    "# color 열을 원핫인코딩\n",
    "one_hot_encoded_tt1 = pd.get_dummies(tt['review1stComment'])\n",
    "one_hot_encoded_tt2 = pd.get_dummies(tt['review2ndComment'])\n",
    "\n",
    "new_df_tt = tt.rename(columns={'매장': '식당'})\n",
    "\n",
    "\n",
    "# 원핫인코딩한 결과를 포함한 DataFrame 생성\n",
    "df_encoded_tt = pd.concat([new_df_tt, one_hot_encoded_tt1, one_hot_encoded_tt2], axis=1)\n",
    "\n"
   ]
  },
  {
   "cell_type": "code",
   "execution_count": 355,
   "id": "fe8b64ea",
   "metadata": {},
   "outputs": [
    {
     "data": {
      "text/plain": [
       "Index(['sales12', 'sales1', 'sales2', 'buy12', 'buy1', 'buy2', 'visitorReview',\n",
       "       'blogReview', 'age1', 'age2', 'review1st', 'review1stComment',\n",
       "       'review2nd', 'review2ndComment', 'follower', 'follow', '식당',\n",
       "       'instagram', '서비스', '술', '음식', '재료', '가성비', '뷰', '서비스', '음식', '인테리어',\n",
       "       '재료'],\n",
       "      dtype='object')"
      ]
     },
     "execution_count": 355,
     "metadata": {},
     "output_type": "execute_result"
    }
   ],
   "source": [
    "df_encoded_tt.columns"
   ]
  },
  {
   "cell_type": "code",
   "execution_count": 356,
   "id": "b9937607",
   "metadata": {},
   "outputs": [
    {
     "data": {
      "text/plain": [
       "{'매장', '메뉴', '분위기', '양', '음악', '혼밥'}"
      ]
     },
     "execution_count": 356,
     "metadata": {},
     "output_type": "execute_result"
    }
   ],
   "source": [
    "set(tmp_coll)-set(df_encoded_tt.columns)"
   ]
  },
  {
   "cell_type": "code",
   "execution_count": null,
   "id": "18e076d6",
   "metadata": {},
   "outputs": [],
   "source": []
  },
  {
   "cell_type": "code",
   "execution_count": 365,
   "id": "e3523161",
   "metadata": {},
   "outputs": [],
   "source": [
    "for i in ['매장', '음악', '메뉴', '분위기', '양', '혼밥']:\n",
    "    df_encoded_tt[i] = 0"
   ]
  },
  {
   "cell_type": "code",
   "execution_count": 366,
   "id": "7261b8d3",
   "metadata": {},
   "outputs": [
    {
     "data": {
      "text/plain": [
       "Index(['sales12', 'sales1', 'sales2', 'buy12', 'buy1', 'buy2', 'visitorReview',\n",
       "       'blogReview', 'age1', 'age2', 'review1st', 'review1stComment',\n",
       "       'review2nd', 'review2ndComment', 'follower', 'follow', '식당',\n",
       "       'instagram', '서비스', '술', '음식', '재료', '가성비', '뷰', '서비스', '음식', '인테리어',\n",
       "       '재료', '매장', '음악', '메뉴', '분위기', '양', '혼밥'],\n",
       "      dtype='object')"
      ]
     },
     "execution_count": 366,
     "metadata": {},
     "output_type": "execute_result"
    }
   ],
   "source": [
    "df_encoded_tt.columns"
   ]
  },
  {
   "cell_type": "code",
   "execution_count": 367,
   "id": "8a9081ee",
   "metadata": {},
   "outputs": [],
   "source": [
    "X=df_encoded_tt[['blogReview','visitorReview','review1st','review2nd','instagram','가성비', '매장', '뷰',\n",
    "       '서비스', '음식', '음악', '인테리어', '가성비', '메뉴', '분위기', '서비스', '술', '양', '음식',\n",
    "       '인테리어', '재료', '혼밥']]"
   ]
  },
  {
   "cell_type": "code",
   "execution_count": 368,
   "id": "ca319312",
   "metadata": {},
   "outputs": [
    {
     "data": {
      "text/plain": [
       "Index(['blogReview', 'visitorReview', 'review1st', 'review2nd', 'instagram',\n",
       "       '가성비', '매장', '뷰', '서비스', '서비스', '음식', '음식', '음악', '인테리어', '가성비', '메뉴',\n",
       "       '분위기', '서비스', '서비스', '술', '양', '음식', '음식', '인테리어', '재료', '재료', '혼밥'],\n",
       "      dtype='object')"
      ]
     },
     "execution_count": 368,
     "metadata": {},
     "output_type": "execute_result"
    }
   ],
   "source": [
    "X.columns"
   ]
  },
  {
   "cell_type": "code",
   "execution_count": 374,
   "id": "32532415",
   "metadata": {},
   "outputs": [
    {
     "data": {
      "text/plain": [
       "27"
      ]
     },
     "execution_count": 374,
     "metadata": {},
     "output_type": "execute_result"
    }
   ],
   "source": [
    "len(X.columns)"
   ]
  },
  {
   "cell_type": "code",
   "execution_count": 373,
   "id": "060a7aed",
   "metadata": {},
   "outputs": [
    {
     "data": {
      "text/plain": [
       "'재료'"
      ]
     },
     "execution_count": 373,
     "metadata": {},
     "output_type": "execute_result"
    }
   ],
   "source": [
    "X.columns[25]"
   ]
  },
  {
   "cell_type": "code",
   "execution_count": 382,
   "id": "9b2a1d18",
   "metadata": {},
   "outputs": [],
   "source": [
    "X= X.iloc[:,:25]"
   ]
  },
  {
   "cell_type": "code",
   "execution_count": null,
   "id": "2512fe87",
   "metadata": {},
   "outputs": [],
   "source": []
  },
  {
   "cell_type": "code",
   "execution_count": 381,
   "id": "ce212f55",
   "metadata": {},
   "outputs": [
    {
     "data": {
      "text/html": [
       "<div>\n",
       "<style scoped>\n",
       "    .dataframe tbody tr th:only-of-type {\n",
       "        vertical-align: middle;\n",
       "    }\n",
       "\n",
       "    .dataframe tbody tr th {\n",
       "        vertical-align: top;\n",
       "    }\n",
       "\n",
       "    .dataframe thead th {\n",
       "        text-align: right;\n",
       "    }\n",
       "</style>\n",
       "<table border=\"1\" class=\"dataframe\">\n",
       "  <thead>\n",
       "    <tr style=\"text-align: right;\">\n",
       "      <th></th>\n",
       "      <th>혼밥</th>\n",
       "    </tr>\n",
       "  </thead>\n",
       "  <tbody>\n",
       "    <tr>\n",
       "      <th>0</th>\n",
       "      <td>0</td>\n",
       "    </tr>\n",
       "    <tr>\n",
       "      <th>1</th>\n",
       "      <td>0</td>\n",
       "    </tr>\n",
       "    <tr>\n",
       "      <th>2</th>\n",
       "      <td>0</td>\n",
       "    </tr>\n",
       "    <tr>\n",
       "      <th>3</th>\n",
       "      <td>0</td>\n",
       "    </tr>\n",
       "    <tr>\n",
       "      <th>4</th>\n",
       "      <td>0</td>\n",
       "    </tr>\n",
       "    <tr>\n",
       "      <th>5</th>\n",
       "      <td>0</td>\n",
       "    </tr>\n",
       "    <tr>\n",
       "      <th>6</th>\n",
       "      <td>0</td>\n",
       "    </tr>\n",
       "    <tr>\n",
       "      <th>7</th>\n",
       "      <td>0</td>\n",
       "    </tr>\n",
       "    <tr>\n",
       "      <th>8</th>\n",
       "      <td>0</td>\n",
       "    </tr>\n",
       "    <tr>\n",
       "      <th>9</th>\n",
       "      <td>0</td>\n",
       "    </tr>\n",
       "    <tr>\n",
       "      <th>10</th>\n",
       "      <td>0</td>\n",
       "    </tr>\n",
       "    <tr>\n",
       "      <th>11</th>\n",
       "      <td>0</td>\n",
       "    </tr>\n",
       "    <tr>\n",
       "      <th>12</th>\n",
       "      <td>0</td>\n",
       "    </tr>\n",
       "    <tr>\n",
       "      <th>13</th>\n",
       "      <td>0</td>\n",
       "    </tr>\n",
       "    <tr>\n",
       "      <th>14</th>\n",
       "      <td>0</td>\n",
       "    </tr>\n",
       "  </tbody>\n",
       "</table>\n",
       "</div>"
      ],
      "text/plain": [
       "    혼밥\n",
       "0    0\n",
       "1    0\n",
       "2    0\n",
       "3    0\n",
       "4    0\n",
       "5    0\n",
       "6    0\n",
       "7    0\n",
       "8    0\n",
       "9    0\n",
       "10   0\n",
       "11   0\n",
       "12   0\n",
       "13   0\n",
       "14   0"
      ]
     },
     "execution_count": 381,
     "metadata": {},
     "output_type": "execute_result"
    }
   ],
   "source": [
    "X.iloc[:,26:]"
   ]
  },
  {
   "cell_type": "code",
   "execution_count": null,
   "id": "bad6094e",
   "metadata": {},
   "outputs": [],
   "source": [
    "# \n",
    "\n",
    "       '가성비',  '인테리어',\n",
    "       '가성비', ' \n",
    "       '인테리어', ],\n",
    "      dtype='object')"
   ]
  },
  {
   "cell_type": "code",
   "execution_count": null,
   "id": "36a52a44",
   "metadata": {},
   "outputs": [],
   "source": [
    "# \n",
    "Index(['blogReview', 'visitorReview', 'review1st', 'review2nd', 'instagram',\n",
    "       '가성비', '가성비', '매장', '뷰', '서비스', '서비스', '음식', '음식', '음악', '인테리어', '인테리어',\n",
    "       '가성비', '가성비', '메뉴', '분위기', '서비스', '서비스', '술', '양', '음식', '음식', '인테리어',\n",
    "       '인테리어', '재료', '혼밥'],\n",
    "      dtype='object')"
   ]
  },
  {
   "cell_type": "code",
   "execution_count": 383,
   "id": "d37d7766",
   "metadata": {},
   "outputs": [
    {
     "data": {
      "text/plain": [
       "30"
      ]
     },
     "execution_count": 383,
     "metadata": {},
     "output_type": "execute_result"
    }
   ],
   "source": [
    "for i in ['a','b','c','d','e']:\n",
    "    X[i] = 0\n",
    "len(X.columns)"
   ]
  },
  {
   "cell_type": "code",
   "execution_count": 384,
   "id": "1ce365ef",
   "metadata": {},
   "outputs": [],
   "source": [
    "X = X.rename(columns = {'a': '가성비' ,'b':'가성비', 'c':'인테리어' ,'d':'인테리어' ,'e':'혼밥'})"
   ]
  },
  {
   "cell_type": "code",
   "execution_count": 364,
   "id": "4f4eac91",
   "metadata": {},
   "outputs": [
    {
     "data": {
      "text/plain": [
       "34"
      ]
     },
     "execution_count": 364,
     "metadata": {},
     "output_type": "execute_result"
    }
   ],
   "source": [
    "len(X.columns)"
   ]
  },
  {
   "cell_type": "code",
   "execution_count": null,
   "id": "1afc1554",
   "metadata": {},
   "outputs": [],
   "source": [
    "len([,\n",
    "       '가성비', ' '인테리어',\n",
    "       '가성비',    ',\n",
    "       '인테리어', '])"
   ]
  },
  {
   "cell_type": "code",
   "execution_count": 385,
   "id": "16cb9bd7",
   "metadata": {
    "scrolled": true
   },
   "outputs": [
    {
     "name": "stderr",
     "output_type": "stream",
     "text": [
      "C:\\Users\\KEARNEY\\anaconda3\\lib\\site-packages\\sklearn\\base.py:493: FutureWarning: The feature names should match those that were passed during fit. Starting version 1.2, an error will be raised.\n",
      "Feature names must be in the same order as they were in fit.\n",
      "\n",
      "  warnings.warn(message, FutureWarning)\n"
     ]
    }
   ],
   "source": [
    "y_pred = rf.predict(X)"
   ]
  },
  {
   "cell_type": "code",
   "execution_count": 386,
   "id": "f8a87370",
   "metadata": {},
   "outputs": [
    {
     "data": {
      "text/plain": [
       "array(['mid', 'small', 'small', 'small', 'small', 'big', 'mid', 'small',\n",
       "       'small', 'small', 'small', 'small', 'small', 'small', 'mid'],\n",
       "      dtype=object)"
      ]
     },
     "execution_count": 386,
     "metadata": {},
     "output_type": "execute_result"
    }
   ],
   "source": [
    "y_pred"
   ]
  },
  {
   "cell_type": "code",
   "execution_count": 387,
   "id": "bbfc6a4d",
   "metadata": {},
   "outputs": [
    {
     "data": {
      "text/html": [
       "<div>\n",
       "<style scoped>\n",
       "    .dataframe tbody tr th:only-of-type {\n",
       "        vertical-align: middle;\n",
       "    }\n",
       "\n",
       "    .dataframe tbody tr th {\n",
       "        vertical-align: top;\n",
       "    }\n",
       "\n",
       "    .dataframe thead th {\n",
       "        text-align: right;\n",
       "    }\n",
       "</style>\n",
       "<table border=\"1\" class=\"dataframe\">\n",
       "  <thead>\n",
       "    <tr style=\"text-align: right;\">\n",
       "      <th></th>\n",
       "      <th>매장</th>\n",
       "      <th>예측규모</th>\n",
       "    </tr>\n",
       "  </thead>\n",
       "  <tbody>\n",
       "    <tr>\n",
       "      <th>0</th>\n",
       "      <td>미장플라쎄</td>\n",
       "      <td>mid</td>\n",
       "    </tr>\n",
       "    <tr>\n",
       "      <th>1</th>\n",
       "      <td>이관우파스타</td>\n",
       "      <td>small</td>\n",
       "    </tr>\n",
       "    <tr>\n",
       "      <th>2</th>\n",
       "      <td>디트로이트피지스</td>\n",
       "      <td>small</td>\n",
       "    </tr>\n",
       "    <tr>\n",
       "      <th>3</th>\n",
       "      <td>피크닉마나올라나</td>\n",
       "      <td>small</td>\n",
       "    </tr>\n",
       "    <tr>\n",
       "      <th>4</th>\n",
       "      <td>키노키친</td>\n",
       "      <td>small</td>\n",
       "    </tr>\n",
       "    <tr>\n",
       "      <th>5</th>\n",
       "      <td>탑클라우드23</td>\n",
       "      <td>big</td>\n",
       "    </tr>\n",
       "    <tr>\n",
       "      <th>6</th>\n",
       "      <td>브런치가</td>\n",
       "      <td>mid</td>\n",
       "    </tr>\n",
       "    <tr>\n",
       "      <th>7</th>\n",
       "      <td>최고당돈까스(상암점)</td>\n",
       "      <td>small</td>\n",
       "    </tr>\n",
       "    <tr>\n",
       "      <th>8</th>\n",
       "      <td>501파스타</td>\n",
       "      <td>small</td>\n",
       "    </tr>\n",
       "    <tr>\n",
       "      <th>9</th>\n",
       "      <td>애프터모닝</td>\n",
       "      <td>small</td>\n",
       "    </tr>\n",
       "    <tr>\n",
       "      <th>10</th>\n",
       "      <td>온샐러드&amp;포케마포구청역점</td>\n",
       "      <td>small</td>\n",
       "    </tr>\n",
       "    <tr>\n",
       "      <th>11</th>\n",
       "      <td>테이커테이블</td>\n",
       "      <td>small</td>\n",
       "    </tr>\n",
       "    <tr>\n",
       "      <th>12</th>\n",
       "      <td>비닐하우스공덕점</td>\n",
       "      <td>small</td>\n",
       "    </tr>\n",
       "    <tr>\n",
       "      <th>13</th>\n",
       "      <td>까르보네(마포성산점)</td>\n",
       "      <td>small</td>\n",
       "    </tr>\n",
       "    <tr>\n",
       "      <th>14</th>\n",
       "      <td>그리너(연남점)</td>\n",
       "      <td>mid</td>\n",
       "    </tr>\n",
       "  </tbody>\n",
       "</table>\n",
       "</div>"
      ],
      "text/plain": [
       "               매장   예측규모\n",
       "0           미장플라쎄    mid\n",
       "1          이관우파스타  small\n",
       "2        디트로이트피지스  small\n",
       "3        피크닉마나올라나  small\n",
       "4            키노키친  small\n",
       "5         탑클라우드23    big\n",
       "6            브런치가    mid\n",
       "7     최고당돈까스(상암점)  small\n",
       "8          501파스타  small\n",
       "9           애프터모닝  small\n",
       "10  온샐러드&포케마포구청역점  small\n",
       "11         테이커테이블  small\n",
       "12       비닐하우스공덕점  small\n",
       "13    까르보네(마포성산점)  small\n",
       "14       그리너(연남점)    mid"
      ]
     },
     "execution_count": 387,
     "metadata": {},
     "output_type": "execute_result"
    }
   ],
   "source": [
    "pd.DataFrame({'매장': tt['매장'], '예측규모' :y_pred})"
   ]
  },
  {
   "cell_type": "code",
   "execution_count": null,
   "id": "cea9ab35",
   "metadata": {},
   "outputs": [],
   "source": []
  },
  {
   "cell_type": "code",
   "execution_count": null,
   "id": "77b46e0b",
   "metadata": {},
   "outputs": [],
   "source": []
  },
  {
   "cell_type": "code",
   "execution_count": null,
   "id": "d3bc3582",
   "metadata": {},
   "outputs": [],
   "source": []
  },
  {
   "cell_type": "code",
   "execution_count": null,
   "id": "035d90ad",
   "metadata": {},
   "outputs": [],
   "source": []
  },
  {
   "cell_type": "code",
   "execution_count": null,
   "id": "21eff54c",
   "metadata": {},
   "outputs": [],
   "source": []
  },
  {
   "cell_type": "code",
   "execution_count": null,
   "id": "c6941172",
   "metadata": {},
   "outputs": [],
   "source": []
  },
  {
   "cell_type": "code",
   "execution_count": null,
   "id": "95353789",
   "metadata": {},
   "outputs": [],
   "source": []
  },
  {
   "cell_type": "code",
   "execution_count": null,
   "id": "4872d303",
   "metadata": {},
   "outputs": [],
   "source": []
  },
  {
   "cell_type": "code",
   "execution_count": 174,
   "id": "069990dc",
   "metadata": {},
   "outputs": [
    {
     "data": {
      "text/html": [
       "<div>\n",
       "<style scoped>\n",
       "    .dataframe tbody tr th:only-of-type {\n",
       "        vertical-align: middle;\n",
       "    }\n",
       "\n",
       "    .dataframe tbody tr th {\n",
       "        vertical-align: top;\n",
       "    }\n",
       "\n",
       "    .dataframe thead th {\n",
       "        text-align: right;\n",
       "    }\n",
       "</style>\n",
       "<table border=\"1\" class=\"dataframe\">\n",
       "  <thead>\n",
       "    <tr style=\"text-align: right;\">\n",
       "      <th></th>\n",
       "      <th>y_pred</th>\n",
       "      <th>y_true</th>\n",
       "    </tr>\n",
       "  </thead>\n",
       "  <tbody>\n",
       "    <tr>\n",
       "      <th>0</th>\n",
       "      <td>small</td>\n",
       "      <td>small</td>\n",
       "    </tr>\n",
       "    <tr>\n",
       "      <th>1</th>\n",
       "      <td>small</td>\n",
       "      <td>small</td>\n",
       "    </tr>\n",
       "    <tr>\n",
       "      <th>2</th>\n",
       "      <td>mid</td>\n",
       "      <td>big</td>\n",
       "    </tr>\n",
       "    <tr>\n",
       "      <th>3</th>\n",
       "      <td>mid</td>\n",
       "      <td>mid</td>\n",
       "    </tr>\n",
       "    <tr>\n",
       "      <th>4</th>\n",
       "      <td>mid</td>\n",
       "      <td>mid</td>\n",
       "    </tr>\n",
       "    <tr>\n",
       "      <th>5</th>\n",
       "      <td>small</td>\n",
       "      <td>mid</td>\n",
       "    </tr>\n",
       "    <tr>\n",
       "      <th>6</th>\n",
       "      <td>small</td>\n",
       "      <td>small</td>\n",
       "    </tr>\n",
       "    <tr>\n",
       "      <th>7</th>\n",
       "      <td>big</td>\n",
       "      <td>small</td>\n",
       "    </tr>\n",
       "    <tr>\n",
       "      <th>8</th>\n",
       "      <td>small</td>\n",
       "      <td>small</td>\n",
       "    </tr>\n",
       "    <tr>\n",
       "      <th>9</th>\n",
       "      <td>big</td>\n",
       "      <td>big</td>\n",
       "    </tr>\n",
       "    <tr>\n",
       "      <th>10</th>\n",
       "      <td>small</td>\n",
       "      <td>small</td>\n",
       "    </tr>\n",
       "  </tbody>\n",
       "</table>\n",
       "</div>"
      ],
      "text/plain": [
       "   y_pred y_true\n",
       "0   small  small\n",
       "1   small  small\n",
       "2     mid    big\n",
       "3     mid    mid\n",
       "4     mid    mid\n",
       "5   small    mid\n",
       "6   small  small\n",
       "7     big  small\n",
       "8   small  small\n",
       "9     big    big\n",
       "10  small  small"
      ]
     },
     "execution_count": 174,
     "metadata": {},
     "output_type": "execute_result"
    }
   ],
   "source": [
    "pd.DataFrame({'y_pred': rf.predict(X_test),'y_true': np.array(y_test)})"
   ]
  },
  {
   "cell_type": "code",
   "execution_count": 179,
   "id": "68b0a620",
   "metadata": {},
   "outputs": [
    {
     "data": {
      "text/plain": [
       "19"
      ]
     },
     "execution_count": 179,
     "metadata": {},
     "output_type": "execute_result"
    }
   ],
   "source": [
    "y_test.index"
   ]
  },
  {
   "cell_type": "code",
   "execution_count": null,
   "id": "10041eb3",
   "metadata": {},
   "outputs": [],
   "source": []
  },
  {
   "cell_type": "code",
   "execution_count": null,
   "id": "2045c706",
   "metadata": {},
   "outputs": [],
   "source": []
  },
  {
   "cell_type": "code",
   "execution_count": null,
   "id": "9cfd3dee",
   "metadata": {},
   "outputs": [],
   "source": []
  },
  {
   "cell_type": "code",
   "execution_count": null,
   "id": "72519bb2",
   "metadata": {},
   "outputs": [],
   "source": [
    "# 모델 저장\n",
    "import joblib\n",
    "\n",
    "joblib.dump(rf, 'random_forest_model.pkl')\n",
    "\n",
    "#불러오기\n",
    "loaded_model = joblib.load('random_forest_model.pkl')\n",
    "\n",
    "loaded_model.predict(X)"
   ]
  },
  {
   "cell_type": "code",
   "execution_count": null,
   "id": "7df0f5eb",
   "metadata": {},
   "outputs": [],
   "source": [
    "df"
   ]
  },
  {
   "cell_type": "code",
   "execution_count": null,
   "id": "7eb833fd",
   "metadata": {},
   "outputs": [],
   "source": []
  },
  {
   "cell_type": "code",
   "execution_count": null,
   "id": "9e2285c1",
   "metadata": {},
   "outputs": [],
   "source": []
  },
  {
   "cell_type": "code",
   "execution_count": 61,
   "id": "23978897",
   "metadata": {},
   "outputs": [
    {
     "data": {
      "text/plain": [
       "dtype('float64')"
      ]
     },
     "execution_count": 61,
     "metadata": {},
     "output_type": "execute_result"
    }
   ],
   "source": [
    "tmp_df['age1'].dtype"
   ]
  },
  {
   "cell_type": "markdown",
   "id": "8768b6d4",
   "metadata": {},
   "source": [
    "# scaling 전"
   ]
  },
  {
   "cell_type": "code",
   "execution_count": 60,
   "id": "7a9edf5f",
   "metadata": {},
   "outputs": [
    {
     "name": "stdout",
     "output_type": "stream",
     "text": [
      "Test score: 0.9090909090909091\n",
      "Best params: {'max_depth': 5, 'min_samples_leaf': 2, 'min_samples_split': 2, 'n_estimators': 100}\n",
      "Test score: 0.7272727272727273\n",
      "Best params: {'max_depth': 5, 'min_samples_leaf': 2, 'min_samples_split': 2, 'n_estimators': 100}\n",
      "Test score: 0.5454545454545454\n",
      "Best params: {'max_depth': 5, 'min_samples_leaf': 1, 'min_samples_split': 2, 'n_estimators': 50}\n",
      "Test score: 0.6363636363636364\n",
      "Best params: {'max_depth': 5, 'min_samples_leaf': 1, 'min_samples_split': 2, 'n_estimators': 50}\n",
      "Test score: 0.8181818181818182\n",
      "Best params: {'max_depth': 5, 'min_samples_leaf': 1, 'min_samples_split': 2, 'n_estimators': 50}\n",
      "Best params: {'max_depth': 5, 'min_samples_leaf': 1, 'min_samples_split': 2, 'n_estimators': 50}\n"
     ]
    }
   ],
   "source": [
    "from sklearn.model_selection import train_test_split\n",
    "from sklearn.model_selection import GridSearchCV\n",
    "from sklearn.model_selection import StratifiedKFold\n",
    "from sklearn.ensemble import RandomForestClassifier\n",
    "\n",
    "# 데이터를 분할하는 함수\n",
    "def stratified_sampling(X, y, n_splits=5, random_state=42):\n",
    "    skf = StratifiedKFold(n_splits=n_splits, shuffle=True, random_state=random_state)\n",
    "    for train_idx, test_idx in skf.split(X, y):\n",
    "        yield X.iloc[train_idx], X.iloc[test_idx], y.iloc[train_idx], y.iloc[test_idx]\n",
    "\n",
    "# 분할된 데이터에서 RandomForestClassifier의 파라미터를 조정하는 함수\n",
    "def optimize_rf(X_train, y_train):\n",
    "    param_grid = {\n",
    "        'n_estimators': [50, 100, 200],\n",
    "        'max_depth': [5, 10, 15],\n",
    "        'min_samples_split': [2, 5, 10],\n",
    "        'min_samples_leaf': [1, 2, 4]\n",
    "    }\n",
    "    rf = RandomForestClassifier(random_state=42)\n",
    "    grid_search = GridSearchCV(rf, param_grid=param_grid, cv=5, n_jobs=-1)\n",
    "    grid_search.fit(X_train, y_train)\n",
    "    return grid_search #.best_params_\n",
    "\n",
    "# 데이터를 로드하고 StratifiedKFold와 RandomForestClassifier를 사용하여 파라미터를 조정\n",
    "from sklearn.datasets import load_iris\n",
    "import pandas as pd\n",
    "\n",
    "X=tmp_df[['blogReview','visitorReview','review1st','review2nd','instagram']]#\n",
    "X = X.iloc[:,:].astype(int)\n",
    "y= tmp_df['label']\n",
    "\n",
    "best_params = None\n",
    "for X_train, X_test, y_train, y_test in stratified_sampling(X, y, n_splits=5, random_state=42):\n",
    "    params = optimize_rf(X_train, y_train)\n",
    "    if best_params is None or params.best_score_ > best_score:\n",
    "        best_params = params.best_params_\n",
    "        best_score = params.best_score_\n",
    "    rf = RandomForestClassifier(random_state=42, **params.best_params_)\n",
    "    rf.fit(X_train, y_train)\n",
    "    print(f\"Test score: {rf.score(X_test, y_test)}\")\n",
    "    print(f\"Best params: {best_params}\")\n",
    "    \n",
    "print(f\"Best params: {best_params}\")\n"
   ]
  },
  {
   "cell_type": "code",
   "execution_count": null,
   "id": "ab6f6bc1",
   "metadata": {},
   "outputs": [],
   "source": [
    "#'blogReview','visitorReview','review1st','review2nd','instagram' 0.9 0.72,0.54,0.6, 0.8\n",
    "#'blogReview','visitorReview','review1st','instagram' 0.9,0.8,0.54, 0.6,0.72\n",
    "#blog, visit, insta 0.7, 0.6 0.6 0.6 0.6\n",
    "#blog visit 0.9, 0.7 0.6 0.6 0.4\n",
    "#blog 0.4, 0.6,0.4 0.6 0.5"
   ]
  },
  {
   "cell_type": "code",
   "execution_count": 32,
   "id": "c3621689",
   "metadata": {},
   "outputs": [
    {
     "name": "stdout",
     "output_type": "stream",
     "text": [
      "Accuracy on test set: 0.7272727272727273\n"
     ]
    }
   ],
   "source": [
    "#최종 모델\n",
    "rf = RandomForestClassifier(random_state=42, **best_params)\n",
    "rf.fit(X_train, y_train)\n",
    "\n",
    "print(\"Accuracy on test set:\", rf.score(X_test, y_test))"
   ]
  },
  {
   "cell_type": "code",
   "execution_count": null,
   "id": "1c4042e5",
   "metadata": {},
   "outputs": [],
   "source": [
    "# 모델 저장\n",
    "import joblib\n",
    "\n",
    "joblib.dump(rf, 'random_forest_model.pkl')\n",
    "\n",
    "#불러오기\n",
    "loaded_model = joblib.load('random_forest_model.pkl')\n",
    "\n",
    "loaded_model.predict(X)"
   ]
  },
  {
   "cell_type": "code",
   "execution_count": null,
   "id": "59472b3f",
   "metadata": {},
   "outputs": [],
   "source": []
  },
  {
   "cell_type": "code",
   "execution_count": null,
   "id": "6a7c4479",
   "metadata": {},
   "outputs": [],
   "source": []
  },
  {
   "cell_type": "code",
   "execution_count": null,
   "id": "69298d32",
   "metadata": {},
   "outputs": [],
   "source": []
  },
  {
   "cell_type": "code",
   "execution_count": null,
   "id": "3ee3eac7",
   "metadata": {},
   "outputs": [],
   "source": [
    "# DNN\n"
   ]
  },
  {
   "cell_type": "code",
   "execution_count": null,
   "id": "190e4677",
   "metadata": {},
   "outputs": [],
   "source": []
  },
  {
   "cell_type": "code",
   "execution_count": null,
   "id": "c8d98a0a",
   "metadata": {},
   "outputs": [],
   "source": []
  },
  {
   "cell_type": "code",
   "execution_count": null,
   "id": "8f6d1ffc",
   "metadata": {},
   "outputs": [],
   "source": []
  },
  {
   "cell_type": "code",
   "execution_count": null,
   "id": "d3afddb1",
   "metadata": {},
   "outputs": [],
   "source": []
  },
  {
   "cell_type": "code",
   "execution_count": null,
   "id": "b5abdf03",
   "metadata": {},
   "outputs": [],
   "source": []
  },
  {
   "cell_type": "code",
   "execution_count": null,
   "id": "9098fc69",
   "metadata": {},
   "outputs": [],
   "source": []
  },
  {
   "cell_type": "code",
   "execution_count": null,
   "id": "18df2f39",
   "metadata": {},
   "outputs": [],
   "source": []
  },
  {
   "cell_type": "code",
   "execution_count": null,
   "id": "17150d1a",
   "metadata": {},
   "outputs": [],
   "source": []
  }
 ],
 "metadata": {
  "kernelspec": {
   "display_name": "Python 3 (ipykernel)",
   "language": "python",
   "name": "python3"
  },
  "language_info": {
   "codemirror_mode": {
    "name": "ipython",
    "version": 3
   },
   "file_extension": ".py",
   "mimetype": "text/x-python",
   "name": "python",
   "nbconvert_exporter": "python",
   "pygments_lexer": "ipython3",
   "version": "3.9.13"
  }
 },
 "nbformat": 4,
 "nbformat_minor": 5
}
