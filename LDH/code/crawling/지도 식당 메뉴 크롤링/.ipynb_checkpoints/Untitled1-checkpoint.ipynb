{
 "cells": [
  {
   "cell_type": "markdown",
   "id": "52a35ca4",
   "metadata": {},
   "source": [
    "# New naver crawling code"
   ]
  },
  {
   "cell_type": "code",
   "execution_count": 119,
   "id": "38fbf5fc",
   "metadata": {},
   "outputs": [],
   "source": [
    "\n",
    "import openpyxl\n",
    "import os\n",
    "import sys\n",
    "import time\n",
    "import json\n",
    "from selenium import webdriver\n",
    "from selenium.webdriver.common.keys import Keys\n",
    "from selenium.webdriver.common.by import By\n",
    "import pandas as pd\n",
    "import time\n",
    "from bs4 import BeautifulSoup\n",
    "from selenium.webdriver.common.action_chains import ActionChains\n",
    "\n",
    "\n",
    "def naver_map_crawling(address, name):\n",
    "    url = 'https://map.naver.com/v5/search'\n",
    "    driver = webdriver.Chrome()  # 드라이버 경로\n",
    "    # driver = webdriver.Chrome('./chromedriver',chrome_options=options) # 크롬창 숨기기\n",
    "    driver.get(url)\n",
    "    \n",
    "    time.sleep(12)\n",
    "    \n",
    "    search = driver.find_element(By.CSS_SELECTOR,'div.input_box > input.input_search')\n",
    "    search.send_keys(address)  # 검색어 입력\n",
    "    search.send_keys(Keys.ENTER)\n",
    "    \n",
    "    time.sleep(3)\n",
    "    search = driver.find_element(By.CSS_SELECTOR,'div.input_box > input.input_search')\n",
    "    search.send_keys(\" \"+name)  # 검색어 입력\n",
    "    search.send_keys(Keys.ENTER)\n",
    "    time.sleep(5)\n",
    "\n",
    "    #바로 나오는 경우  ex 서울 동대문구 경희대로6길 3-2 에잇올리\n",
    "    try:\n",
    "        driver.switch_to.frame(\"entryIframe\")\n",
    "        print('1')\n",
    "    \n",
    "    except:\n",
    "        print('2')\n",
    "        #바로 안나오는경우 ex) 여기로\n",
    "        driver.switch_to.frame(\"searchIframe\")\n",
    "        #첫번째 목록 클릭\n",
    "        time.sleep(2)\n",
    "        find_store_click = driver.find_element(By.CSS_SELECTOR,\"#_pcmap_list_scroll_container > ul > li:nth-child(1) > div.qbGlu > div.ouxiq.icT4K > a:nth-child(1)\")\n",
    "        find_store_click.click()\n",
    "    \n",
    "        print('3')\n",
    "\n",
    "        time.sleep(2)\n",
    "        driver.switch_to.default_content()\n",
    "        driver.switch_to.frame(\"entryIframe\")\n",
    "    #메뉴 클릭\n",
    "    find_menu_click = driver.find_element(By.XPATH, \"//span[text()='메뉴']/parent::a\")\n",
    "    find_menu_click.click()\n",
    "\n",
    "    time.sleep(3)\n",
    "    html = driver.page_source\n",
    "    soup = BeautifulSoup(html,'html.parser')\n",
    "\n",
    "    menu_list = []\n",
    "\n",
    "    menus = soup.find_all('div',class_ = 'tit')\n",
    "    for menu in menus:\n",
    "        menu_list.append(menu.text)\n",
    "    \n",
    "    menus = soup.find_all('span',class_ = 'Sqg65')\n",
    "    for menu in menus:\n",
    "        menu_list.append(menu.text)\n",
    "    \n",
    "    return menu_list\n",
    "    "
   ]
  },
  {
   "cell_type": "code",
   "execution_count": 120,
   "id": "60ed21a4",
   "metadata": {},
   "outputs": [],
   "source": [
    "adress = \"서울 마포구 월드컵북로6길 12-13\"  # 검색어\n",
    "name= \"다운타우너\""
   ]
  },
  {
   "cell_type": "code",
   "execution_count": 122,
   "id": "4776fd88",
   "metadata": {},
   "outputs": [
    {
     "name": "stdout",
     "output_type": "stream",
     "text": [
      "2\n",
      "3\n"
     ]
    },
    {
     "data": {
      "text/plain": [
       "['스파이시 슈림프 버거N',\n",
       " '화이트 버거N',\n",
       " '아보카도 버거인기',\n",
       " '베이컨치즈 버거인기',\n",
       " '갈릭버터 프라이즈인기',\n",
       " '치즈 버거인기',\n",
       " '슈림프 버거인기',\n",
       " '치즈 버거인기',\n",
       " '더블치즈 버거',\n",
       " '베이컨치즈 버거인기',\n",
       " '더블베이컨 버거',\n",
       " '트러플 버거',\n",
       " '더블트러플 버거',\n",
       " '아보카도 버거인기',\n",
       " '슈림프 버거인기',\n",
       " '스파이시 슈림프 버거N',\n",
       " '해쉬브라운 버거',\n",
       " '크리스피치킨 버거매운맛1단계',\n",
       " '화이트 버거N',\n",
       " '오리지널 프라이즈',\n",
       " '치즈 프라이즈',\n",
       " '트러플 파마산 프라이즈',\n",
       " '갈릭버터 프라이즈인기',\n",
       " '스파이시 치폴레 프라이즈',\n",
       " '스윗포테이토 프라이즈',\n",
       " '오리지널 치킨',\n",
       " '제네럴 쏘 치킨',\n",
       " '핫 앤 스파이시 치킨',\n",
       " '오리지널 핫도그',\n",
       " '코카콜라(355ml)',\n",
       " '제로콜라(355ml)',\n",
       " '펩시(355ml)',\n",
       " '제로펩시(355ml)',\n",
       " '스프라이트(355ml)',\n",
       " '제로 스프라이트(355ml)',\n",
       " '닥터페퍼(355ml)',\n",
       " '웰치스 포도(355ml)',\n",
       " '보일란 루트비어(355ml)',\n",
       " '보일란 크림소다(355ml)',\n",
       " '페리에 플레인(330ml)',\n",
       " '페리에 라임(330ml)',\n",
       " '분다버그 핑크자몽',\n",
       " '분다버그 트로피칼 망고',\n",
       " '스내플 피치',\n",
       " '스내플 키위&스트로베리',\n",
       " '노아 키위&피치&망고',\n",
       " '노아 바나나&리치&망고']"
      ]
     },
     "execution_count": 122,
     "metadata": {},
     "output_type": "execute_result"
    }
   ],
   "source": [
    "naver_map_crawling(adress, name)"
   ]
  },
  {
   "cell_type": "code",
   "execution_count": null,
   "id": "6ee613ca",
   "metadata": {},
   "outputs": [],
   "source": []
  }
 ],
 "metadata": {
  "kernelspec": {
   "display_name": "Python 3 (ipykernel)",
   "language": "python",
   "name": "python3"
  },
  "language_info": {
   "codemirror_mode": {
    "name": "ipython",
    "version": 3
   },
   "file_extension": ".py",
   "mimetype": "text/x-python",
   "name": "python",
   "nbconvert_exporter": "python",
   "pygments_lexer": "ipython3",
   "version": "3.9.13"
  }
 },
 "nbformat": 4,
 "nbformat_minor": 5
}
