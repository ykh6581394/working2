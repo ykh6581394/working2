{
 "cells": [
  {
   "cell_type": "code",
   "execution_count": 1,
   "id": "37ec267c",
   "metadata": {},
   "outputs": [],
   "source": [
    "#사전 합치기\n",
    "import pandas as pd\n",
    "import re\n",
    "import numpy as np\n",
    "menupan = pd.read_csv(\"메뉴판레시피정리.csv\",encoding='euc-kr')\n",
    "mangae = pd.read_csv(\"만개의레시피정리_final.csv\", encoding='euc-kr')"
   ]
  },
  {
   "cell_type": "code",
   "execution_count": 2,
   "id": "6d4d4798",
   "metadata": {},
   "outputs": [
    {
     "data": {
      "text/html": [
       "<div>\n",
       "<style scoped>\n",
       "    .dataframe tbody tr th:only-of-type {\n",
       "        vertical-align: middle;\n",
       "    }\n",
       "\n",
       "    .dataframe tbody tr th {\n",
       "        vertical-align: top;\n",
       "    }\n",
       "\n",
       "    .dataframe thead th {\n",
       "        text-align: right;\n",
       "    }\n",
       "</style>\n",
       "<table border=\"1\" class=\"dataframe\">\n",
       "  <thead>\n",
       "    <tr style=\"text-align: right;\">\n",
       "      <th></th>\n",
       "      <th>음식</th>\n",
       "      <th>재료</th>\n",
       "    </tr>\n",
       "  </thead>\n",
       "  <tbody>\n",
       "    <tr>\n",
       "      <th>0</th>\n",
       "      <td>어묵김말이</td>\n",
       "      <td>['어묵', '당면', '양파', '당근', '깻잎', '튀김가루', '올리브유',...</td>\n",
       "    </tr>\n",
       "    <tr>\n",
       "      <th>1</th>\n",
       "      <td>현미호두죽</td>\n",
       "      <td>['현미', '찹쌀', '호두', '물', '소금']</td>\n",
       "    </tr>\n",
       "    <tr>\n",
       "      <th>2</th>\n",
       "      <td>북어갈비</td>\n",
       "      <td>['찹쌀가루', '간장', '설탕', '물', '다진마늘', '참기름', '깨소금']</td>\n",
       "    </tr>\n",
       "    <tr>\n",
       "      <th>3</th>\n",
       "      <td>토마토스파게티</td>\n",
       "      <td>['토마토', '토마토', '양파', '다진마늘', '피망', '올리브유']</td>\n",
       "    </tr>\n",
       "    <tr>\n",
       "      <th>4</th>\n",
       "      <td>표고버섯탕수</td>\n",
       "      <td>['건표고버섯', '오이', '당근', '양파', '사과', '과일', '물', '...</td>\n",
       "    </tr>\n",
       "    <tr>\n",
       "      <th>...</th>\n",
       "      <td>...</td>\n",
       "      <td>...</td>\n",
       "    </tr>\n",
       "    <tr>\n",
       "      <th>125384</th>\n",
       "      <td>양배추스프커리</td>\n",
       "      <td>['양배추', '양파', '편마늘', '물', '소금']</td>\n",
       "    </tr>\n",
       "    <tr>\n",
       "      <th>125385</th>\n",
       "      <td>크림치즈버터쿠키</td>\n",
       "      <td>['버터', '크림치즈', '설탕', '계란', '소금', '바닐라향']</td>\n",
       "    </tr>\n",
       "    <tr>\n",
       "      <th>125386</th>\n",
       "      <td>시금치미소된장국</td>\n",
       "      <td>['건다시마', '홍고추', '대파', '새송이버섯', '다진마늘']</td>\n",
       "    </tr>\n",
       "    <tr>\n",
       "      <th>125387</th>\n",
       "      <td>에그감자샌드위치</td>\n",
       "      <td>['식빵', '감자', '양파', '피망', '계란', '치즈', '게맛살', '머...</td>\n",
       "    </tr>\n",
       "    <tr>\n",
       "      <th>125388</th>\n",
       "      <td>메밀배추전</td>\n",
       "      <td>['홍고추', '계란', '소금', '해바라기유']</td>\n",
       "    </tr>\n",
       "  </tbody>\n",
       "</table>\n",
       "<p>125389 rows × 2 columns</p>\n",
       "</div>"
      ],
      "text/plain": [
       "              음식                                                 재료\n",
       "0          어묵김말이  ['어묵', '당면', '양파', '당근', '깻잎', '튀김가루', '올리브유',...\n",
       "1          현미호두죽                      ['현미', '찹쌀', '호두', '물', '소금']\n",
       "2           북어갈비    ['찹쌀가루', '간장', '설탕', '물', '다진마늘', '참기름', '깨소금']\n",
       "3        토마토스파게티         ['토마토', '토마토', '양파', '다진마늘', '피망', '올리브유']\n",
       "4         표고버섯탕수  ['건표고버섯', '오이', '당근', '양파', '사과', '과일', '물', '...\n",
       "...          ...                                                ...\n",
       "125384   양배추스프커리                    ['양배추', '양파', '편마늘', '물', '소금']\n",
       "125385  크림치즈버터쿠키           ['버터', '크림치즈', '설탕', '계란', '소금', '바닐라향']\n",
       "125386  시금치미소된장국             ['건다시마', '홍고추', '대파', '새송이버섯', '다진마늘']\n",
       "125387  에그감자샌드위치  ['식빵', '감자', '양파', '피망', '계란', '치즈', '게맛살', '머...\n",
       "125388     메밀배추전                       ['홍고추', '계란', '소금', '해바라기유']\n",
       "\n",
       "[125389 rows x 2 columns]"
      ]
     },
     "execution_count": 2,
     "metadata": {},
     "output_type": "execute_result"
    }
   ],
   "source": [
    "mangae"
   ]
  },
  {
   "cell_type": "code",
   "execution_count": 3,
   "id": "68b04124",
   "metadata": {},
   "outputs": [
    {
     "data": {
      "text/html": [
       "<div>\n",
       "<style scoped>\n",
       "    .dataframe tbody tr th:only-of-type {\n",
       "        vertical-align: middle;\n",
       "    }\n",
       "\n",
       "    .dataframe tbody tr th {\n",
       "        vertical-align: top;\n",
       "    }\n",
       "\n",
       "    .dataframe thead th {\n",
       "        text-align: right;\n",
       "    }\n",
       "</style>\n",
       "<table border=\"1\" class=\"dataframe\">\n",
       "  <thead>\n",
       "    <tr style=\"text-align: right;\">\n",
       "      <th></th>\n",
       "      <th>음식</th>\n",
       "      <th>재료</th>\n",
       "    </tr>\n",
       "  </thead>\n",
       "  <tbody>\n",
       "  </tbody>\n",
       "</table>\n",
       "</div>"
      ],
      "text/plain": [
       "Empty DataFrame\n",
       "Columns: [음식, 재료]\n",
       "Index: []"
      ]
     },
     "execution_count": 3,
     "metadata": {},
     "output_type": "execute_result"
    }
   ],
   "source": [
    "menupan[menupan['음식']==\"치즈\"]"
   ]
  },
  {
   "cell_type": "code",
   "execution_count": 4,
   "id": "de3e2645",
   "metadata": {},
   "outputs": [
    {
     "data": {
      "text/html": [
       "<div>\n",
       "<style scoped>\n",
       "    .dataframe tbody tr th:only-of-type {\n",
       "        vertical-align: middle;\n",
       "    }\n",
       "\n",
       "    .dataframe tbody tr th {\n",
       "        vertical-align: top;\n",
       "    }\n",
       "\n",
       "    .dataframe thead th {\n",
       "        text-align: right;\n",
       "    }\n",
       "</style>\n",
       "<table border=\"1\" class=\"dataframe\">\n",
       "  <thead>\n",
       "    <tr style=\"text-align: right;\">\n",
       "      <th></th>\n",
       "      <th>음식</th>\n",
       "      <th>재료</th>\n",
       "    </tr>\n",
       "  </thead>\n",
       "  <tbody>\n",
       "    <tr>\n",
       "      <th>4807</th>\n",
       "      <td>치즈</td>\n",
       "      <td>['휘핑크림', '흰우유', '레몬', '소금']</td>\n",
       "    </tr>\n",
       "    <tr>\n",
       "      <th>32006</th>\n",
       "      <td>치즈</td>\n",
       "      <td>['우유', '레몬', '식초', '소금']</td>\n",
       "    </tr>\n",
       "    <tr>\n",
       "      <th>34626</th>\n",
       "      <td>치즈</td>\n",
       "      <td>['저지방우유', '레몬식초레몬즙강추', '소금']</td>\n",
       "    </tr>\n",
       "    <tr>\n",
       "      <th>36794</th>\n",
       "      <td>치즈</td>\n",
       "      <td>['우유', '식초레몬즙']</td>\n",
       "    </tr>\n",
       "    <tr>\n",
       "      <th>65321</th>\n",
       "      <td>치즈</td>\n",
       "      <td>['슈페츨레', '파', '양파', '치즈종류무관', '버터', '소금', '후추']</td>\n",
       "    </tr>\n",
       "    <tr>\n",
       "      <th>83666</th>\n",
       "      <td>치즈</td>\n",
       "      <td>['잭', '스모크치즈', '과일치즈', '스트링치즈', '참크래커', '제크', ...</td>\n",
       "    </tr>\n",
       "    <tr>\n",
       "      <th>85778</th>\n",
       "      <td>치즈</td>\n",
       "      <td>['구워먹는', '베이컨', '아스파라거스', '올리브오일', '다진마늘', '후추...</td>\n",
       "    </tr>\n",
       "    <tr>\n",
       "      <th>92280</th>\n",
       "      <td>치즈</td>\n",
       "      <td>['3층', '식빵', '블루베리', '원당', '파프리카', '청양고춧가루', '...</td>\n",
       "    </tr>\n",
       "  </tbody>\n",
       "</table>\n",
       "</div>"
      ],
      "text/plain": [
       "       음식                                                 재료\n",
       "4807   치즈                        ['휘핑크림', '흰우유', '레몬', '소금']\n",
       "32006  치즈                           ['우유', '레몬', '식초', '소금']\n",
       "34626  치즈                       ['저지방우유', '레몬식초레몬즙강추', '소금']\n",
       "36794  치즈                                    ['우유', '식초레몬즙']\n",
       "65321  치즈    ['슈페츨레', '파', '양파', '치즈종류무관', '버터', '소금', '후추']\n",
       "83666  치즈  ['잭', '스모크치즈', '과일치즈', '스트링치즈', '참크래커', '제크', ...\n",
       "85778  치즈  ['구워먹는', '베이컨', '아스파라거스', '올리브오일', '다진마늘', '후추...\n",
       "92280  치즈  ['3층', '식빵', '블루베리', '원당', '파프리카', '청양고춧가루', '..."
      ]
     },
     "execution_count": 4,
     "metadata": {},
     "output_type": "execute_result"
    }
   ],
   "source": [
    "mangae[mangae['음식']==\"치즈\"]"
   ]
  },
  {
   "cell_type": "code",
   "execution_count": 3,
   "id": "4c415e9d",
   "metadata": {},
   "outputs": [],
   "source": [
    "#new_recipe = pd.concat([mangae, menupan])\n",
    "##\n",
    "new_recipe = mangae\n",
    "new_recipe = new_recipe.set_index(np.array(range(len(new_recipe))))"
   ]
  },
  {
   "cell_type": "code",
   "execution_count": 4,
   "id": "6d66c1d3",
   "metadata": {},
   "outputs": [],
   "source": [
    "def remain_word(dt):\n",
    "    hangul = re.compile('[^ ㄱ-ㅣ가-힣]+')\n",
    "    result = hangul.sub('',dt)\n",
    "    result = result.split()\n",
    "    \n",
    "    ing_list=[]\n",
    "    for i in result:\n",
    "        ing_list.append(i)\n",
    "    \n",
    "    return ing_list"
   ]
  },
  {
   "cell_type": "code",
   "execution_count": 5,
   "id": "6db24654",
   "metadata": {},
   "outputs": [],
   "source": [
    "ingred = new_recipe['재료'].apply(remain_word)"
   ]
  },
  {
   "cell_type": "code",
   "execution_count": 6,
   "id": "6438dbf9",
   "metadata": {},
   "outputs": [
    {
     "data": {
      "text/plain": [
       "'어묵'"
      ]
     },
     "execution_count": 6,
     "metadata": {},
     "output_type": "execute_result"
    }
   ],
   "source": [
    "ingred[0][0]"
   ]
  },
  {
   "cell_type": "code",
   "execution_count": 7,
   "id": "37430291",
   "metadata": {},
   "outputs": [],
   "source": [
    "new_recipe = pd.concat([new_recipe['음식'],ingred],axis=1)"
   ]
  },
  {
   "cell_type": "code",
   "execution_count": 8,
   "id": "574ad321",
   "metadata": {},
   "outputs": [
    {
     "data": {
      "text/html": [
       "<div>\n",
       "<style scoped>\n",
       "    .dataframe tbody tr th:only-of-type {\n",
       "        vertical-align: middle;\n",
       "    }\n",
       "\n",
       "    .dataframe tbody tr th {\n",
       "        vertical-align: top;\n",
       "    }\n",
       "\n",
       "    .dataframe thead th {\n",
       "        text-align: right;\n",
       "    }\n",
       "</style>\n",
       "<table border=\"1\" class=\"dataframe\">\n",
       "  <thead>\n",
       "    <tr style=\"text-align: right;\">\n",
       "      <th></th>\n",
       "      <th>음식</th>\n",
       "      <th>재료</th>\n",
       "    </tr>\n",
       "  </thead>\n",
       "  <tbody>\n",
       "    <tr>\n",
       "      <th>3514</th>\n",
       "      <td>낙지볶음</td>\n",
       "      <td>[낙지, 당근, 양파, 대파, 당면, 떡, 고춧가루, 고추장, 물엿, 다진마늘, 맛...</td>\n",
       "    </tr>\n",
       "    <tr>\n",
       "      <th>3652</th>\n",
       "      <td>낙지볶음</td>\n",
       "      <td>[낙지, 양파, 대파, 고추장, 고춧가루, 참기름, 올리고당, 다진마늘]</td>\n",
       "    </tr>\n",
       "    <tr>\n",
       "      <th>3778</th>\n",
       "      <td>낙지볶음</td>\n",
       "      <td>[낙지, 대파, 매운고추, 배추, 당근, 양파, 새송이버섯, 참기름, 배추, 다시마...</td>\n",
       "    </tr>\n",
       "    <tr>\n",
       "      <th>3791</th>\n",
       "      <td>낙지볶음</td>\n",
       "      <td>[낙지, 양파, 대파, 청고추, 홍고추, 양배추, 당근, 고춧가루, 고추장, 매실엑...</td>\n",
       "    </tr>\n",
       "    <tr>\n",
       "      <th>4205</th>\n",
       "      <td>낙지볶음</td>\n",
       "      <td>[낙지, 양파, 대파, 당근, 고춧가루, 고추장, 고추, 간장, 설탕, 조청, 다진...</td>\n",
       "    </tr>\n",
       "    <tr>\n",
       "      <th>...</th>\n",
       "      <td>...</td>\n",
       "      <td>...</td>\n",
       "    </tr>\n",
       "    <tr>\n",
       "      <th>122942</th>\n",
       "      <td>낙지볶음</td>\n",
       "      <td>[낙지, 양파, 당근, 대파, 청양고추, 굵은소금, 설탕, 고춧가루, 고추장, 깨소...</td>\n",
       "    </tr>\n",
       "    <tr>\n",
       "      <th>123771</th>\n",
       "      <td>낙지볶음</td>\n",
       "      <td>[낙지, 대파, 양파, 당근, 양배추, 청양고추, 홍고추, 밀가루, 굵은소금, 고추...</td>\n",
       "    </tr>\n",
       "    <tr>\n",
       "      <th>124246</th>\n",
       "      <td>낙지볶음</td>\n",
       "      <td>[낙지, 간장, 술, 올리고당, 다진, 고춧가루, 대파, 양파, 청양고추, 참기름,...</td>\n",
       "    </tr>\n",
       "    <tr>\n",
       "      <th>124568</th>\n",
       "      <td>낙지볶음</td>\n",
       "      <td>[냉동낙지, 대파, 다진마늘, 고춧가루, 청주, 콩나물, 양조간장, 다진마늘, 다진...</td>\n",
       "    </tr>\n",
       "    <tr>\n",
       "      <th>124893</th>\n",
       "      <td>낙지볶음</td>\n",
       "      <td>[낙지, 대파, 양파, 간장, 미림, 설탕, 다진마늘]</td>\n",
       "    </tr>\n",
       "  </tbody>\n",
       "</table>\n",
       "<p>96 rows × 2 columns</p>\n",
       "</div>"
      ],
      "text/plain": [
       "          음식                                                 재료\n",
       "3514    낙지볶음  [낙지, 당근, 양파, 대파, 당면, 떡, 고춧가루, 고추장, 물엿, 다진마늘, 맛...\n",
       "3652    낙지볶음           [낙지, 양파, 대파, 고추장, 고춧가루, 참기름, 올리고당, 다진마늘]\n",
       "3778    낙지볶음  [낙지, 대파, 매운고추, 배추, 당근, 양파, 새송이버섯, 참기름, 배추, 다시마...\n",
       "3791    낙지볶음  [낙지, 양파, 대파, 청고추, 홍고추, 양배추, 당근, 고춧가루, 고추장, 매실엑...\n",
       "4205    낙지볶음  [낙지, 양파, 대파, 당근, 고춧가루, 고추장, 고추, 간장, 설탕, 조청, 다진...\n",
       "...      ...                                                ...\n",
       "122942  낙지볶음  [낙지, 양파, 당근, 대파, 청양고추, 굵은소금, 설탕, 고춧가루, 고추장, 깨소...\n",
       "123771  낙지볶음  [낙지, 대파, 양파, 당근, 양배추, 청양고추, 홍고추, 밀가루, 굵은소금, 고추...\n",
       "124246  낙지볶음  [낙지, 간장, 술, 올리고당, 다진, 고춧가루, 대파, 양파, 청양고추, 참기름,...\n",
       "124568  낙지볶음  [냉동낙지, 대파, 다진마늘, 고춧가루, 청주, 콩나물, 양조간장, 다진마늘, 다진...\n",
       "124893  낙지볶음                     [낙지, 대파, 양파, 간장, 미림, 설탕, 다진마늘]\n",
       "\n",
       "[96 rows x 2 columns]"
      ]
     },
     "execution_count": 8,
     "metadata": {},
     "output_type": "execute_result"
    }
   ],
   "source": [
    "new_recipe[new_recipe['음식']=='낙지볶음']"
   ]
  },
  {
   "cell_type": "code",
   "execution_count": 45,
   "id": "2afed698",
   "metadata": {},
   "outputs": [],
   "source": [
    "new_recipe.to_csv(\"통합레시피.csv\", encoding='euc-kr',index=False)"
   ]
  },
  {
   "cell_type": "code",
   "execution_count": 31,
   "id": "8f6506db",
   "metadata": {},
   "outputs": [
    {
     "data": {
      "text/html": [
       "<div>\n",
       "<style scoped>\n",
       "    .dataframe tbody tr th:only-of-type {\n",
       "        vertical-align: middle;\n",
       "    }\n",
       "\n",
       "    .dataframe tbody tr th {\n",
       "        vertical-align: top;\n",
       "    }\n",
       "\n",
       "    .dataframe thead th {\n",
       "        text-align: right;\n",
       "    }\n",
       "</style>\n",
       "<table border=\"1\" class=\"dataframe\">\n",
       "  <thead>\n",
       "    <tr style=\"text-align: right;\">\n",
       "      <th></th>\n",
       "      <th>음식</th>\n",
       "      <th>재료</th>\n",
       "    </tr>\n",
       "  </thead>\n",
       "  <tbody>\n",
       "    <tr>\n",
       "      <th>0</th>\n",
       "      <td>어묵김말이</td>\n",
       "      <td>[어묵, 김밥용김, 당면, 양파, 당근, 깻잎, 튀김가루, 올리브유, 간장, 참기름]</td>\n",
       "    </tr>\n",
       "    <tr>\n",
       "      <th>1</th>\n",
       "      <td>현미호두죽</td>\n",
       "      <td>[현미, 찹쌀, 호두, 물, 소금, 약간]</td>\n",
       "    </tr>\n",
       "    <tr>\n",
       "      <th>2</th>\n",
       "      <td>북어갈비</td>\n",
       "      <td>[북어포, 찹쌀가루, 간장, 설탕, 물, 다진파, 다진마늘, 참기름, 깨소금, 후춧...</td>\n",
       "    </tr>\n",
       "    <tr>\n",
       "      <th>3</th>\n",
       "      <td>토마토스파게티</td>\n",
       "      <td>[파스타면, 토마토, 토마토, 페이스트, 양파, 다진마늘, 피망, 올리브유]</td>\n",
       "    </tr>\n",
       "    <tr>\n",
       "      <th>4</th>\n",
       "      <td>표고버섯탕수</td>\n",
       "      <td>[건표고버섯, 오이, 당근, 양파, 사과, 그외의, 과일, 녹말가루, 물, 계란, ...</td>\n",
       "    </tr>\n",
       "    <tr>\n",
       "      <th>...</th>\n",
       "      <td>...</td>\n",
       "      <td>...</td>\n",
       "    </tr>\n",
       "    <tr>\n",
       "      <th>125815</th>\n",
       "      <td>비프스트로가노프</td>\n",
       "      <td>[쇠고기, 식용유, 양파, 양송이, 버터, 밀가루, 파프리카, 스톡, 밥, 브로콜리]</td>\n",
       "    </tr>\n",
       "    <tr>\n",
       "      <th>125816</th>\n",
       "      <td>소시지채소케첩볶음</td>\n",
       "      <td>[소시지, 양파, 양송이버섯, 피망, 당근, 식용유]</td>\n",
       "    </tr>\n",
       "    <tr>\n",
       "      <th>125817</th>\n",
       "      <td>아스파라거스새우볶음</td>\n",
       "      <td>[아스파라거스, 새우, 샐러리]</td>\n",
       "    </tr>\n",
       "    <tr>\n",
       "      <th>125818</th>\n",
       "      <td>와인소스미트볼</td>\n",
       "      <td>[다진쇠고기, 다진돼지고기, 소금, 다진마늘, 계란, 밀가루, 식용유, 후춧가루]</td>\n",
       "    </tr>\n",
       "    <tr>\n",
       "      <th>125819</th>\n",
       "      <td>퓨전찹스테이크</td>\n",
       "      <td>[육수, 피망, 양송이, 양파, 통마늘, 쇠고기, 밀가루, 쇠고기]</td>\n",
       "    </tr>\n",
       "  </tbody>\n",
       "</table>\n",
       "<p>125820 rows × 2 columns</p>\n",
       "</div>"
      ],
      "text/plain": [
       "                음식                                                 재료\n",
       "0            어묵김말이    [어묵, 김밥용김, 당면, 양파, 당근, 깻잎, 튀김가루, 올리브유, 간장, 참기름]\n",
       "1            현미호두죽                            [현미, 찹쌀, 호두, 물, 소금, 약간]\n",
       "2             북어갈비  [북어포, 찹쌀가루, 간장, 설탕, 물, 다진파, 다진마늘, 참기름, 깨소금, 후춧...\n",
       "3          토마토스파게티         [파스타면, 토마토, 토마토, 페이스트, 양파, 다진마늘, 피망, 올리브유]\n",
       "4           표고버섯탕수  [건표고버섯, 오이, 당근, 양파, 사과, 그외의, 과일, 녹말가루, 물, 계란, ...\n",
       "...            ...                                                ...\n",
       "125815    비프스트로가노프    [쇠고기, 식용유, 양파, 양송이, 버터, 밀가루, 파프리카, 스톡, 밥, 브로콜리]\n",
       "125816   소시지채소케첩볶음                      [소시지, 양파, 양송이버섯, 피망, 당근, 식용유]\n",
       "125817  아스파라거스새우볶음                                  [아스파라거스, 새우, 샐러리]\n",
       "125818     와인소스미트볼      [다진쇠고기, 다진돼지고기, 소금, 다진마늘, 계란, 밀가루, 식용유, 후춧가루]\n",
       "125819     퓨전찹스테이크              [육수, 피망, 양송이, 양파, 통마늘, 쇠고기, 밀가루, 쇠고기]\n",
       "\n",
       "[125820 rows x 2 columns]"
      ]
     },
     "execution_count": 31,
     "metadata": {},
     "output_type": "execute_result"
    }
   ],
   "source": [
    "new_recipe"
   ]
  },
  {
   "cell_type": "code",
   "execution_count": 9,
   "id": "c5241979",
   "metadata": {},
   "outputs": [],
   "source": [
    "recipe = new_recipe"
   ]
  },
  {
   "cell_type": "code",
   "execution_count": 10,
   "id": "0aa0de9b",
   "metadata": {},
   "outputs": [
    {
     "data": {
      "text/html": [
       "<div>\n",
       "<style scoped>\n",
       "    .dataframe tbody tr th:only-of-type {\n",
       "        vertical-align: middle;\n",
       "    }\n",
       "\n",
       "    .dataframe tbody tr th {\n",
       "        vertical-align: top;\n",
       "    }\n",
       "\n",
       "    .dataframe thead th {\n",
       "        text-align: right;\n",
       "    }\n",
       "</style>\n",
       "<table border=\"1\" class=\"dataframe\">\n",
       "  <thead>\n",
       "    <tr style=\"text-align: right;\">\n",
       "      <th></th>\n",
       "      <th>음식</th>\n",
       "      <th>재료</th>\n",
       "    </tr>\n",
       "  </thead>\n",
       "  <tbody>\n",
       "    <tr>\n",
       "      <th>0</th>\n",
       "      <td>어묵김말이</td>\n",
       "      <td>[어묵, 당면, 양파, 당근, 깻잎, 튀김가루, 올리브유, 간장, 참기름]</td>\n",
       "    </tr>\n",
       "    <tr>\n",
       "      <th>1</th>\n",
       "      <td>현미호두죽</td>\n",
       "      <td>[현미, 찹쌀, 호두, 물, 소금]</td>\n",
       "    </tr>\n",
       "    <tr>\n",
       "      <th>2</th>\n",
       "      <td>북어갈비</td>\n",
       "      <td>[찹쌀가루, 간장, 설탕, 물, 다진마늘, 참기름, 깨소금]</td>\n",
       "    </tr>\n",
       "    <tr>\n",
       "      <th>3</th>\n",
       "      <td>토마토스파게티</td>\n",
       "      <td>[토마토, 토마토, 양파, 다진마늘, 피망, 올리브유]</td>\n",
       "    </tr>\n",
       "    <tr>\n",
       "      <th>4</th>\n",
       "      <td>표고버섯탕수</td>\n",
       "      <td>[건표고버섯, 오이, 당근, 양파, 사과, 과일, 물, 계란, 물, 설탕, 식초, 간장]</td>\n",
       "    </tr>\n",
       "    <tr>\n",
       "      <th>...</th>\n",
       "      <td>...</td>\n",
       "      <td>...</td>\n",
       "    </tr>\n",
       "    <tr>\n",
       "      <th>125384</th>\n",
       "      <td>양배추스프커리</td>\n",
       "      <td>[양배추, 양파, 편마늘, 물, 소금]</td>\n",
       "    </tr>\n",
       "    <tr>\n",
       "      <th>125385</th>\n",
       "      <td>크림치즈버터쿠키</td>\n",
       "      <td>[버터, 크림치즈, 설탕, 계란, 소금, 바닐라향]</td>\n",
       "    </tr>\n",
       "    <tr>\n",
       "      <th>125386</th>\n",
       "      <td>시금치미소된장국</td>\n",
       "      <td>[건다시마, 홍고추, 대파, 새송이버섯, 다진마늘]</td>\n",
       "    </tr>\n",
       "    <tr>\n",
       "      <th>125387</th>\n",
       "      <td>에그감자샌드위치</td>\n",
       "      <td>[식빵, 감자, 양파, 피망, 계란, 치즈, 게맛살, 머스타드, 사우전아일랜드, 생수]</td>\n",
       "    </tr>\n",
       "    <tr>\n",
       "      <th>125388</th>\n",
       "      <td>메밀배추전</td>\n",
       "      <td>[홍고추, 계란, 소금, 해바라기유]</td>\n",
       "    </tr>\n",
       "  </tbody>\n",
       "</table>\n",
       "<p>125389 rows × 2 columns</p>\n",
       "</div>"
      ],
      "text/plain": [
       "              음식                                                 재료\n",
       "0          어묵김말이          [어묵, 당면, 양파, 당근, 깻잎, 튀김가루, 올리브유, 간장, 참기름]\n",
       "1          현미호두죽                                [현미, 찹쌀, 호두, 물, 소금]\n",
       "2           북어갈비                  [찹쌀가루, 간장, 설탕, 물, 다진마늘, 참기름, 깨소금]\n",
       "3        토마토스파게티                     [토마토, 토마토, 양파, 다진마늘, 피망, 올리브유]\n",
       "4         표고버섯탕수  [건표고버섯, 오이, 당근, 양파, 사과, 과일, 물, 계란, 물, 설탕, 식초, 간장]\n",
       "...          ...                                                ...\n",
       "125384   양배추스프커리                              [양배추, 양파, 편마늘, 물, 소금]\n",
       "125385  크림치즈버터쿠키                       [버터, 크림치즈, 설탕, 계란, 소금, 바닐라향]\n",
       "125386  시금치미소된장국                       [건다시마, 홍고추, 대파, 새송이버섯, 다진마늘]\n",
       "125387  에그감자샌드위치   [식빵, 감자, 양파, 피망, 계란, 치즈, 게맛살, 머스타드, 사우전아일랜드, 생수]\n",
       "125388     메밀배추전                               [홍고추, 계란, 소금, 해바라기유]\n",
       "\n",
       "[125389 rows x 2 columns]"
      ]
     },
     "execution_count": 10,
     "metadata": {},
     "output_type": "execute_result"
    }
   ],
   "source": [
    "recipe"
   ]
  },
  {
   "cell_type": "code",
   "execution_count": 63,
   "id": "0b857c10",
   "metadata": {},
   "outputs": [],
   "source": [
    "adr = 'C:/Users/KEARNEY/Desktop/새 폴더/c_project/LDH/code/crawling/'\n",
    "recipe = pd.read_csv(adr+\"통합레시피.csv\",encoding='euc-kr')"
   ]
  },
  {
   "cell_type": "code",
   "execution_count": 73,
   "id": "2d0ad997",
   "metadata": {},
   "outputs": [
    {
     "data": {
      "text/plain": [
       "Int64Index([ 10891,  16798,  17418,  19781,  23750,  24505,  27411,  27706,\n",
       "             29510,  32927,  36461,  37719,  50688,  59481,  78884,  81829,\n",
       "             81917,  84476,  87898,  88622,  96698, 108550, 121806, 124489],\n",
       "           dtype='int64')"
      ]
     },
     "execution_count": 73,
     "metadata": {},
     "output_type": "execute_result"
    }
   ],
   "source": [
    "recipe[recipe['음식']=='고르곤졸라피자'].index"
   ]
  },
  {
   "cell_type": "code",
   "execution_count": 84,
   "id": "9d2ca44f",
   "metadata": {},
   "outputs": [
    {
     "data": {
      "text/plain": [
       "\"['고르곤졸라치즈피칸테', '피자치즈', '또띠아', '꿀']\""
      ]
     },
     "execution_count": 84,
     "metadata": {},
     "output_type": "execute_result"
    }
   ],
   "source": [
    "recipe[recipe['음식']=='고르곤졸라피자'].loc[50688,'재료']"
   ]
  },
  {
   "cell_type": "code",
   "execution_count": 49,
   "id": "0f1874d8",
   "metadata": {},
   "outputs": [
    {
     "ename": "TypeError",
     "evalue": "expected string or bytes-like object",
     "output_type": "error",
     "traceback": [
      "\u001b[1;31m---------------------------------------------------------------------------\u001b[0m",
      "\u001b[1;31mTypeError\u001b[0m                                 Traceback (most recent call last)",
      "\u001b[1;32m~\\AppData\\Local\\Temp\\ipykernel_18504\\576889183.py\u001b[0m in \u001b[0;36m<module>\u001b[1;34m\u001b[0m\n\u001b[0;32m     21\u001b[0m     \u001b[0mfinal_set\u001b[0m \u001b[1;33m=\u001b[0m \u001b[0mset\u001b[0m\u001b[1;33m(\u001b[0m\u001b[1;33m)\u001b[0m\u001b[1;33m\u001b[0m\u001b[1;33m\u001b[0m\u001b[0m\n\u001b[0;32m     22\u001b[0m     \u001b[1;32mfor\u001b[0m \u001b[0mi\u001b[0m \u001b[1;32min\u001b[0m \u001b[0midxs\u001b[0m\u001b[1;33m:\u001b[0m\u001b[1;33m\u001b[0m\u001b[1;33m\u001b[0m\u001b[0m\n\u001b[1;32m---> 23\u001b[1;33m         \u001b[0mtmp_set\u001b[0m \u001b[1;33m=\u001b[0m \u001b[0mremain_word\u001b[0m\u001b[1;33m(\u001b[0m\u001b[0mtmp_menu\u001b[0m\u001b[1;33m.\u001b[0m\u001b[0mloc\u001b[0m\u001b[1;33m[\u001b[0m\u001b[0mi\u001b[0m\u001b[1;33m,\u001b[0m\u001b[1;34m'재료'\u001b[0m\u001b[1;33m]\u001b[0m\u001b[1;33m)\u001b[0m\u001b[1;33m\u001b[0m\u001b[1;33m\u001b[0m\u001b[0m\n\u001b[0m\u001b[0;32m     24\u001b[0m         \u001b[0mtmp_set\u001b[0m \u001b[1;33m=\u001b[0m \u001b[0mset\u001b[0m\u001b[1;33m(\u001b[0m\u001b[0mtmp_set\u001b[0m\u001b[1;33m)\u001b[0m\u001b[1;33m\u001b[0m\u001b[1;33m\u001b[0m\u001b[0m\n\u001b[0;32m     25\u001b[0m         \u001b[0mfinal_set\u001b[0m \u001b[1;33m=\u001b[0m \u001b[0mfinal_set\u001b[0m\u001b[1;33m.\u001b[0m\u001b[0munion\u001b[0m\u001b[1;33m(\u001b[0m\u001b[0mtmp_set\u001b[0m\u001b[1;33m)\u001b[0m\u001b[1;33m\u001b[0m\u001b[1;33m\u001b[0m\u001b[0m\n",
      "\u001b[1;32m~\\AppData\\Local\\Temp\\ipykernel_18504\\576889183.py\u001b[0m in \u001b[0;36mremain_word\u001b[1;34m(dt)\u001b[0m\n\u001b[0;32m      3\u001b[0m \u001b[1;32mdef\u001b[0m \u001b[0mremain_word\u001b[0m\u001b[1;33m(\u001b[0m\u001b[0mdt\u001b[0m\u001b[1;33m)\u001b[0m\u001b[1;33m:\u001b[0m\u001b[1;33m\u001b[0m\u001b[1;33m\u001b[0m\u001b[0m\n\u001b[0;32m      4\u001b[0m     \u001b[0mhangul\u001b[0m \u001b[1;33m=\u001b[0m \u001b[0mre\u001b[0m\u001b[1;33m.\u001b[0m\u001b[0mcompile\u001b[0m\u001b[1;33m(\u001b[0m\u001b[1;34m'[^ ㄱ-ㅣ가-힣]+'\u001b[0m\u001b[1;33m)\u001b[0m\u001b[1;33m\u001b[0m\u001b[1;33m\u001b[0m\u001b[0m\n\u001b[1;32m----> 5\u001b[1;33m     \u001b[0mresult\u001b[0m \u001b[1;33m=\u001b[0m \u001b[0mhangul\u001b[0m\u001b[1;33m.\u001b[0m\u001b[0msub\u001b[0m\u001b[1;33m(\u001b[0m\u001b[1;34m''\u001b[0m\u001b[1;33m,\u001b[0m\u001b[0mdt\u001b[0m\u001b[1;33m)\u001b[0m\u001b[1;33m\u001b[0m\u001b[1;33m\u001b[0m\u001b[0m\n\u001b[0m\u001b[0;32m      6\u001b[0m     \u001b[0mresult\u001b[0m \u001b[1;33m=\u001b[0m \u001b[0mresult\u001b[0m\u001b[1;33m.\u001b[0m\u001b[0msplit\u001b[0m\u001b[1;33m(\u001b[0m\u001b[1;33m)\u001b[0m\u001b[1;33m\u001b[0m\u001b[1;33m\u001b[0m\u001b[0m\n\u001b[0;32m      7\u001b[0m \u001b[1;33m\u001b[0m\u001b[0m\n",
      "\u001b[1;31mTypeError\u001b[0m: expected string or bytes-like object"
     ]
    }
   ],
   "source": [
    "import re\n",
    "import numpy as np\n",
    "def remain_word(dt):\n",
    "    hangul = re.compile('[^ ㄱ-ㅣ가-힣]+')\n",
    "    result = hangul.sub('',dt)\n",
    "    result = result.split()\n",
    "    \n",
    "    ing_list=[]\n",
    "    for i in result:\n",
    "        ing_list.append(i)\n",
    "    \n",
    "    return ing_list\n",
    "\n",
    "final_recipe = pd.DataFrame({'음식':[1],'재료':[1]})\n",
    "unique_menu = recipe['음식'].unique()\n",
    "\n",
    "for u_menu in unique_menu:\n",
    "    tmp_menu = recipe[recipe['음식'] == u_menu]\n",
    "    idxs= tmp_menu.index\n",
    "    #tmp_menu 돌면서 재료 set으로 정리\n",
    "    final_set = set()\n",
    "    for i in idxs:\n",
    "        tmp_set = remain_word(tmp_menu.loc[i,'재료'])\n",
    "        tmp_set = set(tmp_set)\n",
    "        final_set = final_set.union(tmp_set)\n",
    "        \n",
    "    final_recipe.loc[i,['음식','재료']] = [u_menu, final_set]\n",
    "        \n",
    "\n",
    "final_recipe = final_recipe.set_index(np.array(range(len(final_recipe))))\n",
    "final_recipe.to_csv(\"통합레시피_유니크.csv\", encoding='euc-kr',index=False)"
   ]
  },
  {
   "cell_type": "code",
   "execution_count": null,
   "id": "20df6638",
   "metadata": {},
   "outputs": [],
   "source": []
  },
  {
   "cell_type": "code",
   "execution_count": 54,
   "id": "2b19ee29",
   "metadata": {},
   "outputs": [
    {
     "ename": "TypeError",
     "evalue": "expected string or bytes-like object",
     "output_type": "error",
     "traceback": [
      "\u001b[1;31m---------------------------------------------------------------------------\u001b[0m",
      "\u001b[1;31mTypeError\u001b[0m                                 Traceback (most recent call last)",
      "\u001b[1;32m~\\AppData\\Local\\Temp\\ipykernel_18504\\1507406199.py\u001b[0m in \u001b[0;36m<module>\u001b[1;34m\u001b[0m\n\u001b[0;32m      4\u001b[0m \u001b[0mfinal_set\u001b[0m \u001b[1;33m=\u001b[0m \u001b[0mset\u001b[0m\u001b[1;33m(\u001b[0m\u001b[1;33m)\u001b[0m\u001b[1;33m\u001b[0m\u001b[1;33m\u001b[0m\u001b[0m\n\u001b[0;32m      5\u001b[0m \u001b[1;33m\u001b[0m\u001b[0m\n\u001b[1;32m----> 6\u001b[1;33m \u001b[0mtmp_set\u001b[0m \u001b[1;33m=\u001b[0m \u001b[0mremain_word\u001b[0m\u001b[1;33m(\u001b[0m\u001b[0mtmp_menu\u001b[0m\u001b[1;33m.\u001b[0m\u001b[0mloc\u001b[0m\u001b[1;33m[\u001b[0m\u001b[1;36m805\u001b[0m\u001b[1;33m,\u001b[0m\u001b[1;34m'재료'\u001b[0m\u001b[1;33m]\u001b[0m\u001b[1;33m)\u001b[0m\u001b[1;33m\u001b[0m\u001b[1;33m\u001b[0m\u001b[0m\n\u001b[0m",
      "\u001b[1;32m~\\AppData\\Local\\Temp\\ipykernel_18504\\576889183.py\u001b[0m in \u001b[0;36mremain_word\u001b[1;34m(dt)\u001b[0m\n\u001b[0;32m      3\u001b[0m \u001b[1;32mdef\u001b[0m \u001b[0mremain_word\u001b[0m\u001b[1;33m(\u001b[0m\u001b[0mdt\u001b[0m\u001b[1;33m)\u001b[0m\u001b[1;33m:\u001b[0m\u001b[1;33m\u001b[0m\u001b[1;33m\u001b[0m\u001b[0m\n\u001b[0;32m      4\u001b[0m     \u001b[0mhangul\u001b[0m \u001b[1;33m=\u001b[0m \u001b[0mre\u001b[0m\u001b[1;33m.\u001b[0m\u001b[0mcompile\u001b[0m\u001b[1;33m(\u001b[0m\u001b[1;34m'[^ ㄱ-ㅣ가-힣]+'\u001b[0m\u001b[1;33m)\u001b[0m\u001b[1;33m\u001b[0m\u001b[1;33m\u001b[0m\u001b[0m\n\u001b[1;32m----> 5\u001b[1;33m     \u001b[0mresult\u001b[0m \u001b[1;33m=\u001b[0m \u001b[0mhangul\u001b[0m\u001b[1;33m.\u001b[0m\u001b[0msub\u001b[0m\u001b[1;33m(\u001b[0m\u001b[1;34m''\u001b[0m\u001b[1;33m,\u001b[0m\u001b[0mdt\u001b[0m\u001b[1;33m)\u001b[0m\u001b[1;33m\u001b[0m\u001b[1;33m\u001b[0m\u001b[0m\n\u001b[0m\u001b[0;32m      6\u001b[0m     \u001b[0mresult\u001b[0m \u001b[1;33m=\u001b[0m \u001b[0mresult\u001b[0m\u001b[1;33m.\u001b[0m\u001b[0msplit\u001b[0m\u001b[1;33m(\u001b[0m\u001b[1;33m)\u001b[0m\u001b[1;33m\u001b[0m\u001b[1;33m\u001b[0m\u001b[0m\n\u001b[0;32m      7\u001b[0m \u001b[1;33m\u001b[0m\u001b[0m\n",
      "\u001b[1;31mTypeError\u001b[0m: expected string or bytes-like object"
     ]
    }
   ],
   "source": [
    "tmp_menu = recipe[recipe['음식'] == \"까르보나라\"]\n",
    "idxs= tmp_menu.index\n",
    "    #tmp_menu 돌면서 재료 set으로 정리\n",
    "final_set = set()\n",
    "\n",
    "tmp_set = remain_word(tmp_menu.loc[805,'재료'])"
   ]
  },
  {
   "cell_type": "code",
   "execution_count": 56,
   "id": "3adb860e",
   "metadata": {},
   "outputs": [
    {
     "data": {
      "text/plain": [
       "'스파게티면'"
      ]
     },
     "execution_count": 56,
     "metadata": {},
     "output_type": "execute_result"
    }
   ],
   "source": [
    "tmp_menu.loc[805,'재료']"
   ]
  },
  {
   "cell_type": "code",
   "execution_count": 11,
   "id": "f8362f14",
   "metadata": {},
   "outputs": [],
   "source": [
    "import re\n",
    "import numpy as np\n",
    "def remain_word(dt):\n",
    "    \n",
    "    ing_list=[]\n",
    "    for i in dt:\n",
    "        ing_list.append(i)\n",
    "    \n",
    "    return ing_list\n",
    "\n",
    "final_recipe = pd.DataFrame({'음식':[1],'재료':[1]})\n",
    "unique_menu = recipe['음식'].unique()\n",
    "\n",
    "for u_menu in unique_menu:\n",
    "    tmp_menu = recipe[recipe['음식'] == u_menu]\n",
    "    idxs= tmp_menu.index\n",
    "    #tmp_menu 돌면서 재료 set으로 정리\n",
    "    final_set = set()\n",
    "    for i in idxs:\n",
    "        tmp_set = remain_word(tmp_menu.loc[i,'재료'])\n",
    "        tmp_set = set(tmp_set)\n",
    "        final_set = final_set.union(tmp_set)\n",
    "        \n",
    "    final_recipe.loc[i,['음식','재료']] = [u_menu, final_set]\n",
    "        \n",
    "\n",
    "final_recipe = final_recipe.set_index(np.array(range(len(final_recipe))))\n"
   ]
  },
  {
   "cell_type": "code",
   "execution_count": 13,
   "id": "7310bdf4",
   "metadata": {},
   "outputs": [
    {
     "data": {
      "text/html": [
       "<div>\n",
       "<style scoped>\n",
       "    .dataframe tbody tr th:only-of-type {\n",
       "        vertical-align: middle;\n",
       "    }\n",
       "\n",
       "    .dataframe tbody tr th {\n",
       "        vertical-align: top;\n",
       "    }\n",
       "\n",
       "    .dataframe thead th {\n",
       "        text-align: right;\n",
       "    }\n",
       "</style>\n",
       "<table border=\"1\" class=\"dataframe\">\n",
       "  <thead>\n",
       "    <tr style=\"text-align: right;\">\n",
       "      <th></th>\n",
       "      <th>음식</th>\n",
       "      <th>재료</th>\n",
       "    </tr>\n",
       "  </thead>\n",
       "  <tbody>\n",
       "    <tr>\n",
       "      <th>38375</th>\n",
       "      <td>들깨버섯탕</td>\n",
       "      <td>{팽이버섯, 느타리버섯, 청양고추, 들기름, 대파, 홍고추, 표고버섯, 들깨가루, ...</td>\n",
       "    </tr>\n",
       "    <tr>\n",
       "      <th>38376</th>\n",
       "      <td>상추치커리무침</td>\n",
       "      <td>{다진마늘, 참기름, 상추, 설탕, 치커리}</td>\n",
       "    </tr>\n",
       "    <tr>\n",
       "      <th>38377</th>\n",
       "      <td>계란순대전</td>\n",
       "      <td>{청양고추, 올리브유, 소금, 계란, 순대}</td>\n",
       "    </tr>\n",
       "    <tr>\n",
       "      <th>38378</th>\n",
       "      <td>만두피디저트</td>\n",
       "      <td>{딸기, 우유, 크림치즈, 만두피}</td>\n",
       "    </tr>\n",
       "    <tr>\n",
       "      <th>38379</th>\n",
       "      <td>양배추스프커리</td>\n",
       "      <td>{편마늘, 양파, 소금, 양배추, 물}</td>\n",
       "    </tr>\n",
       "  </tbody>\n",
       "</table>\n",
       "</div>"
      ],
      "text/plain": [
       "            음식                                                 재료\n",
       "38375    들깨버섯탕  {팽이버섯, 느타리버섯, 청양고추, 들기름, 대파, 홍고추, 표고버섯, 들깨가루, ...\n",
       "38376  상추치커리무침                           {다진마늘, 참기름, 상추, 설탕, 치커리}\n",
       "38377    계란순대전                           {청양고추, 올리브유, 소금, 계란, 순대}\n",
       "38378   만두피디저트                                {딸기, 우유, 크림치즈, 만두피}\n",
       "38379  양배추스프커리                              {편마늘, 양파, 소금, 양배추, 물}"
      ]
     },
     "execution_count": 13,
     "metadata": {},
     "output_type": "execute_result"
    }
   ],
   "source": [
    "final_recipe.tail()"
   ]
  },
  {
   "cell_type": "code",
   "execution_count": 16,
   "id": "f751d9ac",
   "metadata": {},
   "outputs": [
    {
     "ename": "TypeError",
     "evalue": "unsupported operand type(s) for +: 'set' and 'set'",
     "output_type": "error",
     "traceback": [
      "\u001b[1;31m---------------------------------------------------------------------------\u001b[0m",
      "\u001b[1;31mTypeError\u001b[0m                                 Traceback (most recent call last)",
      "\u001b[1;32m~\\AppData\\Local\\Temp\\ipykernel_14616\\4232594383.py\u001b[0m in \u001b[0;36m<module>\u001b[1;34m\u001b[0m\n\u001b[1;32m----> 1\u001b[1;33m \u001b[0mfinal_recipe\u001b[0m\u001b[1;33m[\u001b[0m\u001b[1;34m'재료'\u001b[0m\u001b[1;33m]\u001b[0m\u001b[1;33m[\u001b[0m\u001b[1;36m0\u001b[0m\u001b[1;33m]\u001b[0m \u001b[1;33m+\u001b[0m\u001b[0mfinal_recipe\u001b[0m\u001b[1;33m[\u001b[0m\u001b[1;34m'재료'\u001b[0m\u001b[1;33m]\u001b[0m\u001b[1;33m[\u001b[0m\u001b[1;36m1\u001b[0m\u001b[1;33m]\u001b[0m\u001b[1;33m\u001b[0m\u001b[1;33m\u001b[0m\u001b[0m\n\u001b[0m",
      "\u001b[1;31mTypeError\u001b[0m: unsupported operand type(s) for +: 'set' and 'set'"
     ]
    }
   ],
   "source": [
    "str(final_recipe['재료'][0]) +final_recipe['재료'][1]"
   ]
  },
  {
   "cell_type": "code",
   "execution_count": null,
   "id": "a417f12f",
   "metadata": {},
   "outputs": [],
   "source": [
    "\n",
    "for i in range(len(final_recipe)):\n",
    "    final_recipe['재료'][i]"
   ]
  },
  {
   "cell_type": "code",
   "execution_count": 14,
   "id": "e9fd79a6",
   "metadata": {},
   "outputs": [],
   "source": [
    "final_recipe.to_csv(\"통합레시피_final.csv\", encoding='euc-kr',index=False)"
   ]
  },
  {
   "cell_type": "code",
   "execution_count": 29,
   "id": "3e23d164",
   "metadata": {},
   "outputs": [],
   "source": [
    "df = pd.read_csv('통합레시피_유니크.csv',encoding='euc-kr')"
   ]
  },
  {
   "cell_type": "code",
   "execution_count": 37,
   "id": "8665d74d",
   "metadata": {},
   "outputs": [
    {
     "data": {
      "text/plain": [
       "'{'"
      ]
     },
     "execution_count": 37,
     "metadata": {},
     "output_type": "execute_result"
    }
   ],
   "source": []
  },
  {
   "cell_type": "code",
   "execution_count": null,
   "id": "651dbc0f",
   "metadata": {},
   "outputs": [],
   "source": []
  }
 ],
 "metadata": {
  "kernelspec": {
   "display_name": "Python 3 (ipykernel)",
   "language": "python",
   "name": "python3"
  },
  "language_info": {
   "codemirror_mode": {
    "name": "ipython",
    "version": 3
   },
   "file_extension": ".py",
   "mimetype": "text/x-python",
   "name": "python",
   "nbconvert_exporter": "python",
   "pygments_lexer": "ipython3",
   "version": "3.9.13"
  }
 },
 "nbformat": 4,
 "nbformat_minor": 5
}
