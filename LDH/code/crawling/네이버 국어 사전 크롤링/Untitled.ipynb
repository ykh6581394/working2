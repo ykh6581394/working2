{
 "cells": [
  {
   "cell_type": "code",
   "execution_count": 1,
   "id": "37e2886a",
   "metadata": {},
   "outputs": [
    {
     "data": {
      "text/plain": [
       "['크랩트리 효과']"
      ]
     },
     "execution_count": 1,
     "metadata": {},
     "output_type": "execute_result"
    }
   ],
   "source": [
    "\n",
    "import time\n",
    "from selenium import webdriver\n",
    "from selenium.webdriver.common.keys import Keys\n",
    "from selenium.webdriver.common.by import By\n",
    "from selenium.webdriver.support.ui import WebDriverWait\n",
    "from selenium.webdriver.support import expected_conditions as EC\n",
    "from time import sleep\n",
    "from bs4 import BeautifulSoup\n",
    "import re\n",
    "import json\n",
    "\n",
    "\n",
    "# In[8]:\n",
    "\n",
    "\n",
    "def naver_dict_crawling(text):\n",
    "    \n",
    "    url = 'https://ko.dict.naver.com/#/main'\n",
    "    driver = webdriver.Chrome() \n",
    "    driver.get(url)\n",
    "    \n",
    "    #스파게티 입력하고 엔터\n",
    "    search = driver.find_element(By.CSS_SELECTOR,'div.keyword_wrap > input.keyword')\n",
    "    search.send_keys(text)  # 검색어 입력\n",
    "    search.send_keys(Keys.ENTER)  # 엔터버튼 누르기\n",
    "    \n",
    "    sleep(3)\n",
    "    link = driver.find_element(By.CSS_SELECTOR, 'div.option_area > div.sort_option > div > div > a:nth-child(4)')\n",
    "    link.send_keys(Keys.ENTER)\n",
    "    \n",
    "    sleep(1)\n",
    "    html = driver.page_source\n",
    "    soup = BeautifulSoup(html,'html.parser')\n",
    "    buttons = soup.find_all('button',class_ = ['unit_add_wordbook', '_btn_add_wordbook'])\n",
    "    \n",
    "    similar_list= []\n",
    "    for button in buttons:\n",
    "        similar_list.append(button['entryname'])\n",
    "        \n",
    "    return similar_list\n",
    "\n",
    "\n",
    "# In[9]:\n",
    "\n",
    "\n",
    "text = '크랩'\n",
    "sim_words = naver_dict_crawling(text)\n",
    "sim_words\n"
   ]
  },
  {
   "cell_type": "code",
   "execution_count": null,
   "id": "c1beaad0",
   "metadata": {},
   "outputs": [],
   "source": []
  },
  {
   "cell_type": "code",
   "execution_count": null,
   "id": "c6b20345",
   "metadata": {},
   "outputs": [],
   "source": []
  }
 ],
 "metadata": {
  "kernelspec": {
   "display_name": "Python 3 (ipykernel)",
   "language": "python",
   "name": "python3"
  },
  "language_info": {
   "codemirror_mode": {
    "name": "ipython",
    "version": 3
   },
   "file_extension": ".py",
   "mimetype": "text/x-python",
   "name": "python",
   "nbconvert_exporter": "python",
   "pygments_lexer": "ipython3",
   "version": "3.9.13"
  }
 },
 "nbformat": 4,
 "nbformat_minor": 5
}
