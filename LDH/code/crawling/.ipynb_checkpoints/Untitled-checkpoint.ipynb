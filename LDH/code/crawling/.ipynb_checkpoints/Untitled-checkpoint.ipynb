{
 "cells": [
  {
   "cell_type": "code",
   "execution_count": 49,
   "id": "37ec267c",
   "metadata": {},
   "outputs": [],
   "source": [
    "#사전 합치기\n",
    "import pandas as pd\n",
    "import re\n",
    "menupan = pd.read_csv(\"메뉴판레시피정리.csv\",encoding='euc-kr')"
   ]
  },
  {
   "cell_type": "code",
   "execution_count": 50,
   "id": "4c415e9d",
   "metadata": {},
   "outputs": [],
   "source": [
    "mangae = pd.read_csv(\"만개의레시피정리.csv\", encoding='euc-kr')"
   ]
  },
  {
   "cell_type": "code",
   "execution_count": 51,
   "id": "d481a18f",
   "metadata": {},
   "outputs": [],
   "source": [
    "new_recipe = pd.concat([mangae, menupan])"
   ]
  },
  {
   "cell_type": "code",
   "execution_count": 53,
   "id": "f8bd2dae",
   "metadata": {},
   "outputs": [],
   "source": [
    "import numpy as np\n",
    "new_recipe = new_recipe.set_index(np.array(range(len(new_recipe))))"
   ]
  },
  {
   "cell_type": "code",
   "execution_count": 68,
   "id": "c2239e27",
   "metadata": {},
   "outputs": [
    {
     "data": {
      "text/plain": [
       "\"['어묵', '김밥용김', '당면', '양파', '당근', '깻잎', '튀김가루', '올리브유', '간장', '참기름']\""
      ]
     },
     "execution_count": 68,
     "metadata": {},
     "output_type": "execute_result"
    }
   ],
   "source": [
    "new_recipe['재료'][0]"
   ]
  },
  {
   "cell_type": "code",
   "execution_count": 86,
   "id": "6d66c1d3",
   "metadata": {},
   "outputs": [],
   "source": [
    "def remain_word(dt):\n",
    "    hangul = re.compile('[^ ㄱ-ㅣ가-힣]+')\n",
    "    result = hangul.sub('',dt)\n",
    "    result = result.split()\n",
    "    \n",
    "    ing_list=[]\n",
    "    for i in result:\n",
    "        ing_list.append(i)\n",
    "    \n",
    "    return ing_list"
   ]
  },
  {
   "cell_type": "code",
   "execution_count": 90,
   "id": "6db24654",
   "metadata": {},
   "outputs": [],
   "source": [
    "ingred = new_recipe['재료'].apply(remain_word)"
   ]
  },
  {
   "cell_type": "code",
   "execution_count": 91,
   "id": "6438dbf9",
   "metadata": {},
   "outputs": [
    {
     "data": {
      "text/plain": [
       "0           [어묵, 김밥용김, 당면, 양파, 당근, 깻잎, 튀김가루, 올리브유, 간장, 참기름]\n",
       "1                                   [현미, 찹쌀, 호두, 물, 소금, 약간]\n",
       "2         [북어포, 찹쌀가루, 간장, 설탕, 물, 다진파, 다진마늘, 참기름, 깨소금, 후춧...\n",
       "3                [파스타면, 토마토, 토마토, 페이스트, 양파, 다진마늘, 피망, 올리브유]\n",
       "4         [건표고버섯, 오이, 당근, 양파, 사과, 그외의, 과일, 녹말가루, 물, 계란, ...\n",
       "                                ...                        \n",
       "125815      [쇠고기, 식용유, 양파, 양송이, 버터, 밀가루, 파프리카, 스톡, 밥, 브로콜리]\n",
       "125816                        [소시지, 양파, 양송이버섯, 피망, 당근, 식용유]\n",
       "125817                                    [아스파라거스, 새우, 샐러리]\n",
       "125818        [다진쇠고기, 다진돼지고기, 소금, 다진마늘, 계란, 밀가루, 식용유, 후춧가루]\n",
       "125819                [육수, 피망, 양송이, 양파, 통마늘, 쇠고기, 밀가루, 쇠고기]\n",
       "Name: 재료, Length: 125820, dtype: object"
      ]
     },
     "execution_count": 91,
     "metadata": {},
     "output_type": "execute_result"
    }
   ],
   "source": [
    "ingred"
   ]
  },
  {
   "cell_type": "code",
   "execution_count": 93,
   "id": "37430291",
   "metadata": {},
   "outputs": [],
   "source": [
    "new_recipe = pd.concat([new_recipe['음식'],ingred],axis=1)"
   ]
  },
  {
   "cell_type": "code",
   "execution_count": 94,
   "id": "574ad321",
   "metadata": {},
   "outputs": [
    {
     "data": {
      "text/html": [
       "<div>\n",
       "<style scoped>\n",
       "    .dataframe tbody tr th:only-of-type {\n",
       "        vertical-align: middle;\n",
       "    }\n",
       "\n",
       "    .dataframe tbody tr th {\n",
       "        vertical-align: top;\n",
       "    }\n",
       "\n",
       "    .dataframe thead th {\n",
       "        text-align: right;\n",
       "    }\n",
       "</style>\n",
       "<table border=\"1\" class=\"dataframe\">\n",
       "  <thead>\n",
       "    <tr style=\"text-align: right;\">\n",
       "      <th></th>\n",
       "      <th>음식</th>\n",
       "      <th>재료</th>\n",
       "    </tr>\n",
       "  </thead>\n",
       "  <tbody>\n",
       "    <tr>\n",
       "      <th>0</th>\n",
       "      <td>어묵김말이</td>\n",
       "      <td>[어묵, 김밥용김, 당면, 양파, 당근, 깻잎, 튀김가루, 올리브유, 간장, 참기름]</td>\n",
       "    </tr>\n",
       "    <tr>\n",
       "      <th>1</th>\n",
       "      <td>현미호두죽</td>\n",
       "      <td>[현미, 찹쌀, 호두, 물, 소금, 약간]</td>\n",
       "    </tr>\n",
       "    <tr>\n",
       "      <th>2</th>\n",
       "      <td>북어갈비</td>\n",
       "      <td>[북어포, 찹쌀가루, 간장, 설탕, 물, 다진파, 다진마늘, 참기름, 깨소금, 후춧...</td>\n",
       "    </tr>\n",
       "    <tr>\n",
       "      <th>3</th>\n",
       "      <td>토마토스파게티</td>\n",
       "      <td>[파스타면, 토마토, 토마토, 페이스트, 양파, 다진마늘, 피망, 올리브유]</td>\n",
       "    </tr>\n",
       "    <tr>\n",
       "      <th>4</th>\n",
       "      <td>표고버섯탕수</td>\n",
       "      <td>[건표고버섯, 오이, 당근, 양파, 사과, 그외의, 과일, 녹말가루, 물, 계란, ...</td>\n",
       "    </tr>\n",
       "    <tr>\n",
       "      <th>...</th>\n",
       "      <td>...</td>\n",
       "      <td>...</td>\n",
       "    </tr>\n",
       "    <tr>\n",
       "      <th>125815</th>\n",
       "      <td>비프스트로가노프</td>\n",
       "      <td>[쇠고기, 식용유, 양파, 양송이, 버터, 밀가루, 파프리카, 스톡, 밥, 브로콜리]</td>\n",
       "    </tr>\n",
       "    <tr>\n",
       "      <th>125816</th>\n",
       "      <td>소시지채소케첩볶음</td>\n",
       "      <td>[소시지, 양파, 양송이버섯, 피망, 당근, 식용유]</td>\n",
       "    </tr>\n",
       "    <tr>\n",
       "      <th>125817</th>\n",
       "      <td>아스파라거스새우볶음</td>\n",
       "      <td>[아스파라거스, 새우, 샐러리]</td>\n",
       "    </tr>\n",
       "    <tr>\n",
       "      <th>125818</th>\n",
       "      <td>와인소스미트볼</td>\n",
       "      <td>[다진쇠고기, 다진돼지고기, 소금, 다진마늘, 계란, 밀가루, 식용유, 후춧가루]</td>\n",
       "    </tr>\n",
       "    <tr>\n",
       "      <th>125819</th>\n",
       "      <td>퓨전찹스테이크</td>\n",
       "      <td>[육수, 피망, 양송이, 양파, 통마늘, 쇠고기, 밀가루, 쇠고기]</td>\n",
       "    </tr>\n",
       "  </tbody>\n",
       "</table>\n",
       "<p>125820 rows × 2 columns</p>\n",
       "</div>"
      ],
      "text/plain": [
       "                음식                                                 재료\n",
       "0            어묵김말이    [어묵, 김밥용김, 당면, 양파, 당근, 깻잎, 튀김가루, 올리브유, 간장, 참기름]\n",
       "1            현미호두죽                            [현미, 찹쌀, 호두, 물, 소금, 약간]\n",
       "2             북어갈비  [북어포, 찹쌀가루, 간장, 설탕, 물, 다진파, 다진마늘, 참기름, 깨소금, 후춧...\n",
       "3          토마토스파게티         [파스타면, 토마토, 토마토, 페이스트, 양파, 다진마늘, 피망, 올리브유]\n",
       "4           표고버섯탕수  [건표고버섯, 오이, 당근, 양파, 사과, 그외의, 과일, 녹말가루, 물, 계란, ...\n",
       "...            ...                                                ...\n",
       "125815    비프스트로가노프    [쇠고기, 식용유, 양파, 양송이, 버터, 밀가루, 파프리카, 스톡, 밥, 브로콜리]\n",
       "125816   소시지채소케첩볶음                      [소시지, 양파, 양송이버섯, 피망, 당근, 식용유]\n",
       "125817  아스파라거스새우볶음                                  [아스파라거스, 새우, 샐러리]\n",
       "125818     와인소스미트볼      [다진쇠고기, 다진돼지고기, 소금, 다진마늘, 계란, 밀가루, 식용유, 후춧가루]\n",
       "125819     퓨전찹스테이크              [육수, 피망, 양송이, 양파, 통마늘, 쇠고기, 밀가루, 쇠고기]\n",
       "\n",
       "[125820 rows x 2 columns]"
      ]
     },
     "execution_count": 94,
     "metadata": {},
     "output_type": "execute_result"
    }
   ],
   "source": [
    "new_recipe"
   ]
  },
  {
   "cell_type": "code",
   "execution_count": 95,
   "id": "2afed698",
   "metadata": {},
   "outputs": [],
   "source": [
    "new_recipe.to_csv(\"통합레시피.csv\", encoding='euc-kr',index=False)"
   ]
  },
  {
   "cell_type": "code",
   "execution_count": null,
   "id": "8f6506db",
   "metadata": {},
   "outputs": [],
   "source": []
  }
 ],
 "metadata": {
  "kernelspec": {
   "display_name": "Python 3 (ipykernel)",
   "language": "python",
   "name": "python3"
  },
  "language_info": {
   "codemirror_mode": {
    "name": "ipython",
    "version": 3
   },
   "file_extension": ".py",
   "mimetype": "text/x-python",
   "name": "python",
   "nbconvert_exporter": "python",
   "pygments_lexer": "ipython3",
   "version": "3.9.13"
  }
 },
 "nbformat": 4,
 "nbformat_minor": 5
}
