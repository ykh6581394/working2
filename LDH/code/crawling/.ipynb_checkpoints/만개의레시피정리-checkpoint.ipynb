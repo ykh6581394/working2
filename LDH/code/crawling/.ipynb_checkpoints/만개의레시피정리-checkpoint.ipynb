{
 "cells": [
  {
   "cell_type": "markdown",
   "id": "4ba0b6ef",
   "metadata": {},
   "source": [
    "# 만개의 레시피"
   ]
  },
  {
   "cell_type": "code",
   "execution_count": 1,
   "id": "7ed389f1",
   "metadata": {},
   "outputs": [
    {
     "data": {
      "text/plain": [
       "'C:\\\\Users\\\\KEARNEY\\\\Desktop\\\\새 폴더\\\\c_project\\\\LDH\\\\code\\\\crawling'"
      ]
     },
     "execution_count": 1,
     "metadata": {},
     "output_type": "execute_result"
    }
   ],
   "source": [
    "import os\n",
    "os.getcwd()"
   ]
  },
  {
   "cell_type": "code",
   "execution_count": 2,
   "id": "114cc7a9",
   "metadata": {},
   "outputs": [],
   "source": [
    "import numpy as np"
   ]
  },
  {
   "cell_type": "code",
   "execution_count": 3,
   "id": "30f88f68",
   "metadata": {},
   "outputs": [],
   "source": [
    "import pandas as pd\n",
    "import numpy as np\n",
    "adr = 'C:/Users/KEARNEY/Desktop/새 폴더/c_project/LDH/data/'\n",
    "df = pd.read_csv(adr+'만개의레시피.csv', encoding='euc-kr')"
   ]
  },
  {
   "cell_type": "code",
   "execution_count": 4,
   "id": "d9a9b9f8",
   "metadata": {},
   "outputs": [],
   "source": [
    "df = df.dropna(axis=0)\n",
    "df = df.set_index(np.array(range(len(df))))\n",
    "df.columns = ['음식','재료']"
   ]
  },
  {
   "cell_type": "code",
   "execution_count": 5,
   "id": "0e798c8f",
   "metadata": {},
   "outputs": [
    {
     "data": {
      "text/html": [
       "<div>\n",
       "<style scoped>\n",
       "    .dataframe tbody tr th:only-of-type {\n",
       "        vertical-align: middle;\n",
       "    }\n",
       "\n",
       "    .dataframe tbody tr th {\n",
       "        vertical-align: top;\n",
       "    }\n",
       "\n",
       "    .dataframe thead th {\n",
       "        text-align: right;\n",
       "    }\n",
       "</style>\n",
       "<table border=\"1\" class=\"dataframe\">\n",
       "  <thead>\n",
       "    <tr style=\"text-align: right;\">\n",
       "      <th></th>\n",
       "      <th>음식</th>\n",
       "      <th>재료</th>\n",
       "    </tr>\n",
       "  </thead>\n",
       "  <tbody>\n",
       "    <tr>\n",
       "      <th>0</th>\n",
       "      <td>어묵김말이</td>\n",
       "      <td>[재료] 어묵 2개| 김밥용김 3장| 당면 1움큼| 양파 1/2개| 당근 1/2개|...</td>\n",
       "    </tr>\n",
       "    <tr>\n",
       "      <th>1</th>\n",
       "      <td>현미호두죽</td>\n",
       "      <td>[재료] 현미 4컵| 찹쌀 2컵| 호두 50g| 물 1/2컵| 소금 약간</td>\n",
       "    </tr>\n",
       "    <tr>\n",
       "      <th>2</th>\n",
       "      <td>북어갈비</td>\n",
       "      <td>[재료] 북어포 1마리| 찹쌀가루 1C [양념] 간장 2T| 설탕 1T| 물 1T|...</td>\n",
       "    </tr>\n",
       "    <tr>\n",
       "      <th>3</th>\n",
       "      <td>토마토스파게티</td>\n",
       "      <td>[재료] 파스타면 [양념] 토마토 1개| 토마토 페이스트 3T| 양파 1/2개| 다...</td>\n",
       "    </tr>\n",
       "    <tr>\n",
       "      <th>4</th>\n",
       "      <td>표고버섯탕수</td>\n",
       "      <td>[재료] 건표고버섯 9개| 오이 1/2개| 당근 1/2개| 양파 1/2개| 사과 1...</td>\n",
       "    </tr>\n",
       "  </tbody>\n",
       "</table>\n",
       "</div>"
      ],
      "text/plain": [
       "        음식                                                 재료\n",
       "0    어묵김말이  [재료] 어묵 2개| 김밥용김 3장| 당면 1움큼| 양파 1/2개| 당근 1/2개|...\n",
       "1    현미호두죽           [재료] 현미 4컵| 찹쌀 2컵| 호두 50g| 물 1/2컵| 소금 약간\n",
       "2     북어갈비  [재료] 북어포 1마리| 찹쌀가루 1C [양념] 간장 2T| 설탕 1T| 물 1T|...\n",
       "3  토마토스파게티  [재료] 파스타면 [양념] 토마토 1개| 토마토 페이스트 3T| 양파 1/2개| 다...\n",
       "4   표고버섯탕수  [재료] 건표고버섯 9개| 오이 1/2개| 당근 1/2개| 양파 1/2개| 사과 1..."
      ]
     },
     "execution_count": 5,
     "metadata": {},
     "output_type": "execute_result"
    }
   ],
   "source": [
    "df.head()"
   ]
  },
  {
   "cell_type": "code",
   "execution_count": 6,
   "id": "5f6d527d",
   "metadata": {},
   "outputs": [],
   "source": [
    "def make_ingred(dt):\n",
    "    idx = dt.find(']')\n",
    "    dt = dt[idx+1:]\n",
    "    \n",
    "    tmp_ingred = dt.split()\n",
    "    ingred_list=[]\n",
    "    \n",
    "    for i in tmp_ingred:\n",
    "        if ord('가') <= ord(i[0]) <= ord('힣') and ord('가') <= ord(i[-1]) <= ord('힣'):\n",
    "            ingred_list.append(i)\n",
    "            \n",
    "            \n",
    "    return ingred_list"
   ]
  },
  {
   "cell_type": "code",
   "execution_count": 7,
   "id": "db6f9767",
   "metadata": {},
   "outputs": [],
   "source": [
    "ingred_col = df['재료'].apply(make_ingred)\n",
    "recipe = pd.concat([df['음식'], ingred_col], axis=1)"
   ]
  },
  {
   "cell_type": "code",
   "execution_count": 8,
   "id": "9db1a18c",
   "metadata": {},
   "outputs": [],
   "source": [
    "recipe.to_csv(\"만개의레시피정리.csv\", encoding='euc-kr',index=False)"
   ]
  }
 ],
 "metadata": {
  "kernelspec": {
   "display_name": "Python 3 (ipykernel)",
   "language": "python",
   "name": "python3"
  },
  "language_info": {
   "codemirror_mode": {
    "name": "ipython",
    "version": 3
   },
   "file_extension": ".py",
   "mimetype": "text/x-python",
   "name": "python",
   "nbconvert_exporter": "python",
   "pygments_lexer": "ipython3",
   "version": "3.9.13"
  }
 },
 "nbformat": 4,
 "nbformat_minor": 5
}
