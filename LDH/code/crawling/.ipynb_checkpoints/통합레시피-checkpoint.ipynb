{
 "cells": [
  {
   "cell_type": "code",
   "execution_count": 15,
   "id": "37ec267c",
   "metadata": {},
   "outputs": [],
   "source": [
    "#사전 합치기\n",
    "import pandas as pd\n",
    "import re\n",
    "import numpy as np\n",
    "menupan = pd.read_csv(\"메뉴판레시피정리.csv\",encoding='euc-kr')\n",
    "mangae = pd.read_csv(\"만개의레시피정리.csv\", encoding='euc-kr')"
   ]
  },
  {
   "cell_type": "code",
   "execution_count": 16,
   "id": "4c415e9d",
   "metadata": {},
   "outputs": [],
   "source": [
    "new_recipe = pd.concat([mangae, menupan])\n",
    "new_recipe = new_recipe.set_index(np.array(range(len(new_recipe))))"
   ]
  },
  {
   "cell_type": "code",
   "execution_count": 17,
   "id": "6d66c1d3",
   "metadata": {},
   "outputs": [],
   "source": [
    "def remain_word(dt):\n",
    "    hangul = re.compile('[^ ㄱ-ㅣ가-힣]+')\n",
    "    result = hangul.sub('',dt)\n",
    "    result = result.split()\n",
    "    \n",
    "    ing_list=[]\n",
    "    for i in result:\n",
    "        ing_list.append(i)\n",
    "    \n",
    "    return ing_list"
   ]
  },
  {
   "cell_type": "code",
   "execution_count": 18,
   "id": "6db24654",
   "metadata": {},
   "outputs": [],
   "source": [
    "ingred = new_recipe['재료'].apply(remain_word)"
   ]
  },
  {
   "cell_type": "code",
   "execution_count": 22,
   "id": "6438dbf9",
   "metadata": {},
   "outputs": [
    {
     "data": {
      "text/plain": [
       "'어묵'"
      ]
     },
     "execution_count": 22,
     "metadata": {},
     "output_type": "execute_result"
    }
   ],
   "source": [
    "ingred[0][0]"
   ]
  },
  {
   "cell_type": "code",
   "execution_count": 23,
   "id": "37430291",
   "metadata": {},
   "outputs": [],
   "source": [
    "new_recipe = pd.concat([new_recipe['음식'],ingred],axis=1)"
   ]
  },
  {
   "cell_type": "code",
   "execution_count": 28,
   "id": "574ad321",
   "metadata": {},
   "outputs": [
    {
     "data": {
      "text/html": [
       "<div>\n",
       "<style scoped>\n",
       "    .dataframe tbody tr th:only-of-type {\n",
       "        vertical-align: middle;\n",
       "    }\n",
       "\n",
       "    .dataframe tbody tr th {\n",
       "        vertical-align: top;\n",
       "    }\n",
       "\n",
       "    .dataframe thead th {\n",
       "        text-align: right;\n",
       "    }\n",
       "</style>\n",
       "<table border=\"1\" class=\"dataframe\">\n",
       "  <thead>\n",
       "    <tr style=\"text-align: right;\">\n",
       "      <th></th>\n",
       "      <th>음식</th>\n",
       "      <th>재료</th>\n",
       "    </tr>\n",
       "  </thead>\n",
       "  <tbody>\n",
       "    <tr>\n",
       "      <th>3514</th>\n",
       "      <td>낙지볶음</td>\n",
       "      <td>[떡, 고춧가루, 고추장, 물엿, 다진마늘, 맛술, 후추가루, 소금, 약간]</td>\n",
       "    </tr>\n",
       "    <tr>\n",
       "      <th>3652</th>\n",
       "      <td>낙지볶음</td>\n",
       "      <td>[낙지, 양파, 대파, 진간장, 미림화이트와인청하, 노른자, 고추장, 고춧가루, 참...</td>\n",
       "    </tr>\n",
       "    <tr>\n",
       "      <th>3778</th>\n",
       "      <td>낙지볶음</td>\n",
       "      <td>[낙지, 대파, 매운고추, 배추, 당근, 양파, 새송이버섯, 참기름, 삶은계란, 청...</td>\n",
       "    </tr>\n",
       "    <tr>\n",
       "      <th>3791</th>\n",
       "      <td>낙지볶음</td>\n",
       "      <td>[낙지, 당근, 낙지삶은물, 고춧가루, 고추장, 매실엑기스, 미림, 물엿, 간장, ...</td>\n",
       "    </tr>\n",
       "    <tr>\n",
       "      <th>4205</th>\n",
       "      <td>낙지볶음</td>\n",
       "      <td>[낙지, 양파, 대파, 당근, 고춧가루, 고추장, 고추, 간장, 굴소스, 설탕, 조...</td>\n",
       "    </tr>\n",
       "    <tr>\n",
       "      <th>...</th>\n",
       "      <td>...</td>\n",
       "      <td>...</td>\n",
       "    </tr>\n",
       "    <tr>\n",
       "      <th>122942</th>\n",
       "      <td>낙지볶음</td>\n",
       "      <td>[낙지, 양파, 당근, 대파, 청양고추, 굵은소금, 밀가루숟가락, 설탕, 고춧가루,...</td>\n",
       "    </tr>\n",
       "    <tr>\n",
       "      <th>123771</th>\n",
       "      <td>낙지볶음</td>\n",
       "      <td>[낙지, 대파, 양파, 당근, 양배추, 청양고추, 홍고추, 밀가루, 굵은소금, 고추...</td>\n",
       "    </tr>\n",
       "    <tr>\n",
       "      <th>124246</th>\n",
       "      <td>낙지볶음</td>\n",
       "      <td>[낙지, 간장, 술, 올리고당, 다진, 마늘, 고춧가루, 대파, 양파, 청양고추, ...</td>\n",
       "    </tr>\n",
       "    <tr>\n",
       "      <th>124568</th>\n",
       "      <td>낙지볶음</td>\n",
       "      <td>[대파, 다진마늘, 만능양념장, 고춧가루, 찹쌀전분, 청주, 콩나물, 천연조미료해물...</td>\n",
       "    </tr>\n",
       "    <tr>\n",
       "      <th>124893</th>\n",
       "      <td>낙지볶음</td>\n",
       "      <td>[낙지, 대파, 양파, 고추가루, 간장, 미림, 설탕, 다진마늘]</td>\n",
       "    </tr>\n",
       "  </tbody>\n",
       "</table>\n",
       "<p>96 rows × 2 columns</p>\n",
       "</div>"
      ],
      "text/plain": [
       "          음식                                                 재료\n",
       "3514    낙지볶음         [떡, 고춧가루, 고추장, 물엿, 다진마늘, 맛술, 후추가루, 소금, 약간]\n",
       "3652    낙지볶음  [낙지, 양파, 대파, 진간장, 미림화이트와인청하, 노른자, 고추장, 고춧가루, 참...\n",
       "3778    낙지볶음  [낙지, 대파, 매운고추, 배추, 당근, 양파, 새송이버섯, 참기름, 삶은계란, 청...\n",
       "3791    낙지볶음  [낙지, 당근, 낙지삶은물, 고춧가루, 고추장, 매실엑기스, 미림, 물엿, 간장, ...\n",
       "4205    낙지볶음  [낙지, 양파, 대파, 당근, 고춧가루, 고추장, 고추, 간장, 굴소스, 설탕, 조...\n",
       "...      ...                                                ...\n",
       "122942  낙지볶음  [낙지, 양파, 당근, 대파, 청양고추, 굵은소금, 밀가루숟가락, 설탕, 고춧가루,...\n",
       "123771  낙지볶음  [낙지, 대파, 양파, 당근, 양배추, 청양고추, 홍고추, 밀가루, 굵은소금, 고추...\n",
       "124246  낙지볶음  [낙지, 간장, 술, 올리고당, 다진, 마늘, 고춧가루, 대파, 양파, 청양고추, ...\n",
       "124568  낙지볶음  [대파, 다진마늘, 만능양념장, 고춧가루, 찹쌀전분, 청주, 콩나물, 천연조미료해물...\n",
       "124893  낙지볶음               [낙지, 대파, 양파, 고추가루, 간장, 미림, 설탕, 다진마늘]\n",
       "\n",
       "[96 rows x 2 columns]"
      ]
     },
     "execution_count": 28,
     "metadata": {},
     "output_type": "execute_result"
    }
   ],
   "source": [
    "new_recipe[new_recipe['음식']=='낙지볶음']"
   ]
  },
  {
   "cell_type": "code",
   "execution_count": 95,
   "id": "2afed698",
   "metadata": {},
   "outputs": [],
   "source": [
    "new_recipe.to_csv(\"통합레시피.csv\", encoding='euc-kr',index=False)"
   ]
  },
  {
   "cell_type": "code",
   "execution_count": 31,
   "id": "8f6506db",
   "metadata": {},
   "outputs": [
    {
     "data": {
      "text/html": [
       "<div>\n",
       "<style scoped>\n",
       "    .dataframe tbody tr th:only-of-type {\n",
       "        vertical-align: middle;\n",
       "    }\n",
       "\n",
       "    .dataframe tbody tr th {\n",
       "        vertical-align: top;\n",
       "    }\n",
       "\n",
       "    .dataframe thead th {\n",
       "        text-align: right;\n",
       "    }\n",
       "</style>\n",
       "<table border=\"1\" class=\"dataframe\">\n",
       "  <thead>\n",
       "    <tr style=\"text-align: right;\">\n",
       "      <th></th>\n",
       "      <th>음식</th>\n",
       "      <th>재료</th>\n",
       "    </tr>\n",
       "  </thead>\n",
       "  <tbody>\n",
       "    <tr>\n",
       "      <th>0</th>\n",
       "      <td>어묵김말이</td>\n",
       "      <td>[어묵, 김밥용김, 당면, 양파, 당근, 깻잎, 튀김가루, 올리브유, 간장, 참기름]</td>\n",
       "    </tr>\n",
       "    <tr>\n",
       "      <th>1</th>\n",
       "      <td>현미호두죽</td>\n",
       "      <td>[현미, 찹쌀, 호두, 물, 소금, 약간]</td>\n",
       "    </tr>\n",
       "    <tr>\n",
       "      <th>2</th>\n",
       "      <td>북어갈비</td>\n",
       "      <td>[북어포, 찹쌀가루, 간장, 설탕, 물, 다진파, 다진마늘, 참기름, 깨소금, 후춧...</td>\n",
       "    </tr>\n",
       "    <tr>\n",
       "      <th>3</th>\n",
       "      <td>토마토스파게티</td>\n",
       "      <td>[파스타면, 토마토, 토마토, 페이스트, 양파, 다진마늘, 피망, 올리브유]</td>\n",
       "    </tr>\n",
       "    <tr>\n",
       "      <th>4</th>\n",
       "      <td>표고버섯탕수</td>\n",
       "      <td>[건표고버섯, 오이, 당근, 양파, 사과, 그외의, 과일, 녹말가루, 물, 계란, ...</td>\n",
       "    </tr>\n",
       "    <tr>\n",
       "      <th>...</th>\n",
       "      <td>...</td>\n",
       "      <td>...</td>\n",
       "    </tr>\n",
       "    <tr>\n",
       "      <th>125815</th>\n",
       "      <td>비프스트로가노프</td>\n",
       "      <td>[쇠고기, 식용유, 양파, 양송이, 버터, 밀가루, 파프리카, 스톡, 밥, 브로콜리]</td>\n",
       "    </tr>\n",
       "    <tr>\n",
       "      <th>125816</th>\n",
       "      <td>소시지채소케첩볶음</td>\n",
       "      <td>[소시지, 양파, 양송이버섯, 피망, 당근, 식용유]</td>\n",
       "    </tr>\n",
       "    <tr>\n",
       "      <th>125817</th>\n",
       "      <td>아스파라거스새우볶음</td>\n",
       "      <td>[아스파라거스, 새우, 샐러리]</td>\n",
       "    </tr>\n",
       "    <tr>\n",
       "      <th>125818</th>\n",
       "      <td>와인소스미트볼</td>\n",
       "      <td>[다진쇠고기, 다진돼지고기, 소금, 다진마늘, 계란, 밀가루, 식용유, 후춧가루]</td>\n",
       "    </tr>\n",
       "    <tr>\n",
       "      <th>125819</th>\n",
       "      <td>퓨전찹스테이크</td>\n",
       "      <td>[육수, 피망, 양송이, 양파, 통마늘, 쇠고기, 밀가루, 쇠고기]</td>\n",
       "    </tr>\n",
       "  </tbody>\n",
       "</table>\n",
       "<p>125820 rows × 2 columns</p>\n",
       "</div>"
      ],
      "text/plain": [
       "                음식                                                 재료\n",
       "0            어묵김말이    [어묵, 김밥용김, 당면, 양파, 당근, 깻잎, 튀김가루, 올리브유, 간장, 참기름]\n",
       "1            현미호두죽                            [현미, 찹쌀, 호두, 물, 소금, 약간]\n",
       "2             북어갈비  [북어포, 찹쌀가루, 간장, 설탕, 물, 다진파, 다진마늘, 참기름, 깨소금, 후춧...\n",
       "3          토마토스파게티         [파스타면, 토마토, 토마토, 페이스트, 양파, 다진마늘, 피망, 올리브유]\n",
       "4           표고버섯탕수  [건표고버섯, 오이, 당근, 양파, 사과, 그외의, 과일, 녹말가루, 물, 계란, ...\n",
       "...            ...                                                ...\n",
       "125815    비프스트로가노프    [쇠고기, 식용유, 양파, 양송이, 버터, 밀가루, 파프리카, 스톡, 밥, 브로콜리]\n",
       "125816   소시지채소케첩볶음                      [소시지, 양파, 양송이버섯, 피망, 당근, 식용유]\n",
       "125817  아스파라거스새우볶음                                  [아스파라거스, 새우, 샐러리]\n",
       "125818     와인소스미트볼      [다진쇠고기, 다진돼지고기, 소금, 다진마늘, 계란, 밀가루, 식용유, 후춧가루]\n",
       "125819     퓨전찹스테이크              [육수, 피망, 양송이, 양파, 통마늘, 쇠고기, 밀가루, 쇠고기]\n",
       "\n",
       "[125820 rows x 2 columns]"
      ]
     },
     "execution_count": 31,
     "metadata": {},
     "output_type": "execute_result"
    }
   ],
   "source": [
    "new_recipe"
   ]
  },
  {
   "cell_type": "code",
   "execution_count": null,
   "id": "c5241979",
   "metadata": {},
   "outputs": [],
   "source": []
  },
  {
   "cell_type": "code",
   "execution_count": null,
   "id": "0b857c10",
   "metadata": {},
   "outputs": [],
   "source": [
    "adr = 'C:/Users/KEARNEY/Desktop/새 폴더/c_project/LDH/code/crawling/'\n",
    "recipe = pd.read_csv(adr+\"통합레시피.csv\",encoding='euc-kr')"
   ]
  },
  {
   "cell_type": "code",
   "execution_count": null,
   "id": "0f1874d8",
   "metadata": {},
   "outputs": [],
   "source": [
    "import re\n",
    "import numpy as np\n",
    "def remain_word(dt):\n",
    "    hangul = re.compile('[^ ㄱ-ㅣ가-힣]+')\n",
    "    result = hangul.sub('',dt)\n",
    "    result = result.split()\n",
    "    \n",
    "    ing_list=[]\n",
    "    for i in result:\n",
    "        ing_list.append(i)\n",
    "    \n",
    "    return ing_list\n",
    "\n",
    "final_recipe = pd.DataFrame({'음식':[1],'재료':[1]})\n",
    "unique_menu = recipe['음식'].unique()\n",
    "\n",
    "for u_menu in unique_menu:\n",
    "    tmp_menu = recipe[recipe['음식'] == u_menu]\n",
    "    idxs= tmp_menu.index\n",
    "    #tmp_menu 돌면서 재료 set으로 정리\n",
    "    final_set = set()\n",
    "    for i in idxs:\n",
    "        tmp_set = remain_word(tmp_menu.loc[i,'재료'])\n",
    "        tmp_set = set(tmp_set)\n",
    "        final_set = final_set.union(tmp_set)\n",
    "        \n",
    "    final_recipe.loc[i,['음식','재료']] = [u_menu, final_set]\n",
    "        \n",
    "\n",
    "final_recipe = final_recipe.set_index(np.array(range(len(final_recipe))))\n",
    "final_recipe.to_csv(\"통합레시피_유니크.csv\", encoding='euc-kr',index=False)"
   ]
  },
  {
   "cell_type": "code",
   "execution_count": 29,
   "id": "3e23d164",
   "metadata": {},
   "outputs": [],
   "source": [
    "df = pd.read_csv('통합레시피_유니크.csv',encoding='euc-kr')"
   ]
  },
  {
   "cell_type": "code",
   "execution_count": 37,
   "id": "8665d74d",
   "metadata": {},
   "outputs": [
    {
     "data": {
      "text/plain": [
       "'{'"
      ]
     },
     "execution_count": 37,
     "metadata": {},
     "output_type": "execute_result"
    }
   ],
   "source": [
    "df['재료'][0]"
   ]
  },
  {
   "cell_type": "code",
   "execution_count": null,
   "id": "651dbc0f",
   "metadata": {},
   "outputs": [],
   "source": []
  }
 ],
 "metadata": {
  "kernelspec": {
   "display_name": "Python 3 (ipykernel)",
   "language": "python",
   "name": "python3"
  },
  "language_info": {
   "codemirror_mode": {
    "name": "ipython",
    "version": 3
   },
   "file_extension": ".py",
   "mimetype": "text/x-python",
   "name": "python",
   "nbconvert_exporter": "python",
   "pygments_lexer": "ipython3",
   "version": "3.9.13"
  }
 },
 "nbformat": 4,
 "nbformat_minor": 5
}
