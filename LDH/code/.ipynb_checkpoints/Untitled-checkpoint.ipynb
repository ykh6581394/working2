{
 "cells": [
  {
   "cell_type": "code",
   "execution_count": 5,
   "id": "feaed251",
   "metadata": {},
   "outputs": [],
   "source": [
    "import pandas as pd\n",
    "import numpy as np\n",
    "\n",
    "adr = \"C:/Users/KEARNEY\\Desktop/c_project/LDH/data/\"\n",
    "df= pd.read_excel(adr+'급식 외식 dt.xlsx')"
   ]
  },
  {
   "cell_type": "code",
   "execution_count": 8,
   "id": "23e50ecd",
   "metadata": {},
   "outputs": [],
   "source": [
    "#비식품 제거\n",
    "df = df[df['상품범주(대)'] != '비식품']\n",
    "df = df.set_index(np.array(range(len(df))))"
   ]
  },
  {
   "cell_type": "code",
   "execution_count": 31,
   "id": "da42a5a0",
   "metadata": {},
   "outputs": [],
   "source": [
    "def preprocess(df):\n",
    "    \n",
    "    idx = df.find('(')\n",
    "    \n",
    "    result = df[:idx]\n",
    "    \n",
    "    result = result.split()\n",
    "    \n",
    "    result = result[-1]\n",
    "    \n",
    "    return result\n",
    "   "
   ]
  },
  {
   "cell_type": "code",
   "execution_count": 32,
   "id": "f8a9f0cc",
   "metadata": {},
   "outputs": [],
   "source": [
    "df['상품명 전처리'] = df['상품명'].apply(preprocess)"
   ]
  },
  {
   "cell_type": "code",
   "execution_count": 65,
   "id": "9a374734",
   "metadata": {
    "collapsed": true
   },
   "outputs": [
    {
     "data": {
      "text/html": [
       "<div>\n",
       "<style scoped>\n",
       "    .dataframe tbody tr th:only-of-type {\n",
       "        vertical-align: middle;\n",
       "    }\n",
       "\n",
       "    .dataframe tbody tr th {\n",
       "        vertical-align: top;\n",
       "    }\n",
       "\n",
       "    .dataframe thead th {\n",
       "        text-align: right;\n",
       "    }\n",
       "</style>\n",
       "<table border=\"1\" class=\"dataframe\">\n",
       "  <thead>\n",
       "    <tr style=\"text-align: right;\">\n",
       "      <th></th>\n",
       "      <th>상품명</th>\n",
       "      <th>상품명 전처리</th>\n",
       "    </tr>\n",
       "  </thead>\n",
       "  <tbody>\n",
       "    <tr>\n",
       "      <th>0</th>\n",
       "      <td>CK 오징어초무침(R 1Kg/EA)</td>\n",
       "      <td>오징어초무침</td>\n",
       "    </tr>\n",
       "    <tr>\n",
       "      <th>1</th>\n",
       "      <td>CK 오징어초무침(R 5Kg/EA)</td>\n",
       "      <td>오징어초무침</td>\n",
       "    </tr>\n",
       "    <tr>\n",
       "      <th>2</th>\n",
       "      <td>CK 표고버섯볶음(R 1Kg/EA)</td>\n",
       "      <td>표고버섯볶음</td>\n",
       "    </tr>\n",
       "    <tr>\n",
       "      <th>3</th>\n",
       "      <td>CK 새송이들깨볶음(R 1Kg/EA)</td>\n",
       "      <td>새송이들깨볶음</td>\n",
       "    </tr>\n",
       "    <tr>\n",
       "      <th>4</th>\n",
       "      <td>CK 총알새송이볶음(R 1Kg/EA)</td>\n",
       "      <td>총알새송이볶음</td>\n",
       "    </tr>\n",
       "    <tr>\n",
       "      <th>5</th>\n",
       "      <td>CK 총알새송이볶음(R 5Kg/EA)</td>\n",
       "      <td>총알새송이볶음</td>\n",
       "    </tr>\n",
       "    <tr>\n",
       "      <th>6</th>\n",
       "      <td>CK 미역줄기볶음(R 1Kg/EA)</td>\n",
       "      <td>미역줄기볶음</td>\n",
       "    </tr>\n",
       "    <tr>\n",
       "      <th>7</th>\n",
       "      <td>CK 미역줄기볶음(R 5Kg/EA)</td>\n",
       "      <td>미역줄기볶음</td>\n",
       "    </tr>\n",
       "    <tr>\n",
       "      <th>8</th>\n",
       "      <td>CK NEW닭갈비(R 1Kg/EA)</td>\n",
       "      <td>NEW닭갈비</td>\n",
       "    </tr>\n",
       "    <tr>\n",
       "      <th>9</th>\n",
       "      <td>CK NEW닭갈비(R 5Kg/EA)</td>\n",
       "      <td>NEW닭갈비</td>\n",
       "    </tr>\n",
       "    <tr>\n",
       "      <th>10</th>\n",
       "      <td>CK NEW닭갈비(_국내산닭_R 1Kg/EA)</td>\n",
       "      <td>NEW닭갈비</td>\n",
       "    </tr>\n",
       "    <tr>\n",
       "      <th>11</th>\n",
       "      <td>CK NEW닭갈비(국내산닭_R 5Kg/EA)</td>\n",
       "      <td>NEW닭갈비</td>\n",
       "    </tr>\n",
       "    <tr>\n",
       "      <th>12</th>\n",
       "      <td>CK NEW간장닭볶음(브라질닭_R 1Kg/EA)</td>\n",
       "      <td>NEW간장닭볶음</td>\n",
       "    </tr>\n",
       "    <tr>\n",
       "      <th>13</th>\n",
       "      <td>CK NEW간장닭볶음(브라질닭_R 5Kg/EA)</td>\n",
       "      <td>NEW간장닭볶음</td>\n",
       "    </tr>\n",
       "    <tr>\n",
       "      <th>14</th>\n",
       "      <td>CK NEW간장닭볶음(국내산닭_R 1Kg/EA)</td>\n",
       "      <td>NEW간장닭볶음</td>\n",
       "    </tr>\n",
       "    <tr>\n",
       "      <th>15</th>\n",
       "      <td>CK NEW간장닭볶음(국내산닭_R 5Kg/EA)</td>\n",
       "      <td>NEW간장닭볶음</td>\n",
       "    </tr>\n",
       "    <tr>\n",
       "      <th>16</th>\n",
       "      <td>CK 탄두리치킨(R 5Kg/EA)</td>\n",
       "      <td>탄두리치킨</td>\n",
       "    </tr>\n",
       "    <tr>\n",
       "      <th>17</th>\n",
       "      <td>CK 토마토치킨스튜(R 1Kg/EA)</td>\n",
       "      <td>토마토치킨스튜</td>\n",
       "    </tr>\n",
       "    <tr>\n",
       "      <th>18</th>\n",
       "      <td>CK 돈육김치볶음(R 1Kg/EA)</td>\n",
       "      <td>돈육김치볶음</td>\n",
       "    </tr>\n",
       "    <tr>\n",
       "      <th>19</th>\n",
       "      <td>CK 돈육김치찜(R 5Kg/EA)</td>\n",
       "      <td>돈육김치찜</td>\n",
       "    </tr>\n",
       "    <tr>\n",
       "      <th>20</th>\n",
       "      <td>CK 중화풍돈육볶음(_R 1Kg/EA)</td>\n",
       "      <td>중화풍돈육볶음</td>\n",
       "    </tr>\n",
       "    <tr>\n",
       "      <th>21</th>\n",
       "      <td>CK 중화풍돈육볶음(R 5Kg/EA)</td>\n",
       "      <td>중화풍돈육볶음</td>\n",
       "    </tr>\n",
       "    <tr>\n",
       "      <th>22</th>\n",
       "      <td>CK 매운갈비찜(R 1Kg/EA)</td>\n",
       "      <td>매운갈비찜</td>\n",
       "    </tr>\n",
       "    <tr>\n",
       "      <th>23</th>\n",
       "      <td>CK 매운갈비찜(R 5Kg/EA)</td>\n",
       "      <td>매운갈비찜</td>\n",
       "    </tr>\n",
       "    <tr>\n",
       "      <th>24</th>\n",
       "      <td>CK 바베큐폭찹(R 1Kg/EA)</td>\n",
       "      <td>바베큐폭찹</td>\n",
       "    </tr>\n",
       "    <tr>\n",
       "      <th>25</th>\n",
       "      <td>CK 바베큐폭찹(R 5Kg/EA)</td>\n",
       "      <td>바베큐폭찹</td>\n",
       "    </tr>\n",
       "    <tr>\n",
       "      <th>26</th>\n",
       "      <td>CK 돼지갈비찜(R 1Kg/EA)</td>\n",
       "      <td>돼지갈비찜</td>\n",
       "    </tr>\n",
       "    <tr>\n",
       "      <th>27</th>\n",
       "      <td>CK 돼지갈비찜(R 5Kg/EA)</td>\n",
       "      <td>돼지갈비찜</td>\n",
       "    </tr>\n",
       "    <tr>\n",
       "      <th>28</th>\n",
       "      <td>CK 오삼불고기(R 1Kg/EA)</td>\n",
       "      <td>오삼불고기</td>\n",
       "    </tr>\n",
       "    <tr>\n",
       "      <th>29</th>\n",
       "      <td>CK 오삼불고기(R 5Kg/EA)</td>\n",
       "      <td>오삼불고기</td>\n",
       "    </tr>\n",
       "  </tbody>\n",
       "</table>\n",
       "</div>"
      ],
      "text/plain": [
       "                           상품명   상품명 전처리\n",
       "0          CK 오징어초무침(R 1Kg/EA)    오징어초무침\n",
       "1          CK 오징어초무침(R 5Kg/EA)    오징어초무침\n",
       "2          CK 표고버섯볶음(R 1Kg/EA)    표고버섯볶음\n",
       "3         CK 새송이들깨볶음(R 1Kg/EA)   새송이들깨볶음\n",
       "4         CK 총알새송이볶음(R 1Kg/EA)   총알새송이볶음\n",
       "5         CK 총알새송이볶음(R 5Kg/EA)   총알새송이볶음\n",
       "6          CK 미역줄기볶음(R 1Kg/EA)    미역줄기볶음\n",
       "7          CK 미역줄기볶음(R 5Kg/EA)    미역줄기볶음\n",
       "8          CK NEW닭갈비(R 1Kg/EA)    NEW닭갈비\n",
       "9          CK NEW닭갈비(R 5Kg/EA)    NEW닭갈비\n",
       "10   CK NEW닭갈비(_국내산닭_R 1Kg/EA)    NEW닭갈비\n",
       "11    CK NEW닭갈비(국내산닭_R 5Kg/EA)    NEW닭갈비\n",
       "12  CK NEW간장닭볶음(브라질닭_R 1Kg/EA)  NEW간장닭볶음\n",
       "13  CK NEW간장닭볶음(브라질닭_R 5Kg/EA)  NEW간장닭볶음\n",
       "14  CK NEW간장닭볶음(국내산닭_R 1Kg/EA)  NEW간장닭볶음\n",
       "15  CK NEW간장닭볶음(국내산닭_R 5Kg/EA)  NEW간장닭볶음\n",
       "16          CK 탄두리치킨(R 5Kg/EA)     탄두리치킨\n",
       "17        CK 토마토치킨스튜(R 1Kg/EA)   토마토치킨스튜\n",
       "18         CK 돈육김치볶음(R 1Kg/EA)    돈육김치볶음\n",
       "19          CK 돈육김치찜(R 5Kg/EA)     돈육김치찜\n",
       "20       CK 중화풍돈육볶음(_R 1Kg/EA)   중화풍돈육볶음\n",
       "21        CK 중화풍돈육볶음(R 5Kg/EA)   중화풍돈육볶음\n",
       "22          CK 매운갈비찜(R 1Kg/EA)     매운갈비찜\n",
       "23          CK 매운갈비찜(R 5Kg/EA)     매운갈비찜\n",
       "24          CK 바베큐폭찹(R 1Kg/EA)     바베큐폭찹\n",
       "25          CK 바베큐폭찹(R 5Kg/EA)     바베큐폭찹\n",
       "26          CK 돼지갈비찜(R 1Kg/EA)     돼지갈비찜\n",
       "27          CK 돼지갈비찜(R 5Kg/EA)     돼지갈비찜\n",
       "28          CK 오삼불고기(R 1Kg/EA)     오삼불고기\n",
       "29          CK 오삼불고기(R 5Kg/EA)     오삼불고기"
      ]
     },
     "execution_count": 65,
     "metadata": {},
     "output_type": "execute_result"
    }
   ],
   "source": [
    "df[['상품명','상품명 전처리']].head(30)"
   ]
  },
  {
   "cell_type": "code",
   "execution_count": 149,
   "id": "17b15f3b",
   "metadata": {},
   "outputs": [
    {
     "name": "stdout",
     "output_type": "stream",
     "text": [
      "백김치\n",
      "백김치\n",
      "백김치\n",
      "백김치\n",
      "백김치\n",
      "백김치\n",
      "백김치\n",
      "백김치\n",
      "백김치\n",
      "백김치\n",
      "백김치\n",
      "백김치\n",
      "백김치\n",
      "백김치\n",
      "백김치\n",
      "백김치\n",
      "백김치\n",
      "백김치\n",
      "백초생강\n",
      "백명란젓\n",
      "백명란젓\n",
      "피담백한왕찐만두\n",
      "백설기\n",
      "콩단백\n",
      "쌀콩단백\n",
      "쌍백설탕\n",
      "백설탕\n",
      "백설탕\n",
      "백후추분말\n",
      "백후추분말\n",
      "백후추\n",
      "백후추분말\n",
      "백후추분말\n",
      "백후추분말\n",
      "백된장\n",
      "백된장\n",
      "백된장\n",
      "고단백두유\n",
      "티백차\n",
      "백앙금\n",
      "백아몬드\n",
      "바단백질바\n",
      "고단백누띠칩\n",
      "백순대볶음\n",
      "백미누룽지\n",
      "백세카레\n",
      "백세카레\n",
      "백세카레\n",
      "누룽지닭백숙\n",
      "백짬뽕\n",
      "백태\n",
      "백태\n",
      "유기농백미\n",
      "백목버섯\n",
      "백목버섯\n",
      "삼계탕재료세트티백형\n",
      "백로즈\n",
      "백로즈\n",
      "백로즈\n",
      "백진미\n",
      "백진미\n",
      "백진미오채\n",
      "백진미오채\n",
      "백진미오채\n",
      "백조\n",
      "백조\n",
      "백조\n",
      "백조\n",
      "백합조개\n",
      "백합조개\n",
      "백합조개\n",
      "백합조개\n",
      "백합조개\n",
      "백립\n",
      "백립\n"
     ]
    }
   ],
   "source": [
    "for i in range(len(df)):\n",
    "    if \"백\" in df['상품명 전처리'][i]:\n",
    "        print(df['상품명 전처리'][i])"
   ]
  },
  {
   "cell_type": "code",
   "execution_count": 38,
   "id": "44f912c2",
   "metadata": {},
   "outputs": [
    {
     "data": {
      "text/plain": [
       "상품명        한성 해물경단(15±2g*60±3입 1Kg/EA)\n",
       "상품명 전처리                           해물경단\n",
       "Name: 1420, dtype: object"
      ]
     },
     "execution_count": 38,
     "metadata": {},
     "output_type": "execute_result"
    }
   ],
   "source": [
    "df[['상품명','상품명 전처리']].iloc[1420]"
   ]
  },
  {
   "cell_type": "markdown",
   "id": "d5f226e9",
   "metadata": {},
   "source": [
    "# kkma 이용해서 이름 정리 \n",
    "# ex) 구운계란 -> 계란, 신선한계란 -> 계란"
   ]
  },
  {
   "cell_type": "code",
   "execution_count": 53,
   "id": "14b890a2",
   "metadata": {},
   "outputs": [],
   "source": []
  },
  {
   "cell_type": "code",
   "execution_count": 107,
   "id": "a3d12556",
   "metadata": {},
   "outputs": [],
   "source": [
    "from konlpy.tag import Kkma\n",
    "kk=Kkma()\n",
    "\n",
    "def simpler(word):\n",
    "    \n",
    "    #if 사전안에 있으면 바로 리턴\n",
    "    \n",
    "    \n",
    "    tmp = kk.pos(word)\n",
    "    result =\"\"\n",
    "    for i in range(len(tmp)):\n",
    "        if tmp[i][1] ==\"NNG\" and #사전에 있으면 리턴:\n",
    "            result = result + tmp[i][0]\n",
    "        \n",
    "    \n",
    "    if \"LA\" in word:\n",
    "        result= \"LA\"+result\n",
    "        \n",
    "    return result"
   ]
  },
  {
   "cell_type": "code",
   "execution_count": 137,
   "id": "90507879",
   "metadata": {},
   "outputs": [
    {
     "data": {
      "text/plain": [
       "'재래장'"
      ]
     },
     "execution_count": 137,
     "metadata": {},
     "output_type": "execute_result"
    }
   ],
   "source": [
    "text = '재래된장'\n",
    "\n",
    "simpler(text)"
   ]
  },
  {
   "cell_type": "code",
   "execution_count": 135,
   "id": "b1f73bfd",
   "metadata": {},
   "outputs": [
    {
     "data": {
      "text/plain": [
       "[('재래', 'NNG'), ('되', 'XSV'), ('ㄴ', 'ETD'), ('장', 'NNG')]"
      ]
     },
     "execution_count": 135,
     "metadata": {},
     "output_type": "execute_result"
    }
   ],
   "source": [
    "kk.pos(text)"
   ]
  },
  {
   "cell_type": "code",
   "execution_count": 109,
   "id": "f7e10dca",
   "metadata": {},
   "outputs": [],
   "source": [
    "tmp_nm = df['상품명 전처리'].apply(simpler)"
   ]
  },
  {
   "cell_type": "code",
   "execution_count": 111,
   "id": "d75203d0",
   "metadata": {},
   "outputs": [],
   "source": [
    "df['상품명 전처리'] = tmp_nm"
   ]
  },
  {
   "cell_type": "code",
   "execution_count": 120,
   "id": "40217a2d",
   "metadata": {},
   "outputs": [
    {
     "data": {
      "text/plain": [
       "100                     종가집 보쌈김치(5Kg/BOX)\n",
       "101                    종가집 배추겉절이(5Kg/BOX)\n",
       "102                     종가집 묵은지(10Kg/BOX)\n",
       "103                      비비고 김치볶음(80g/EA)\n",
       "104               예소담 김치속(일반 직송용 8Kg/BOX)\n",
       "                      ...                \n",
       "195                 선농 백나박김치(약숙 10Kg/BOX)\n",
       "196    동심 나박김치(아라마크용 물류대행_초숙_일반 10Kg/BOX)\n",
       "197                  선농 백나박김치(약숙 5Kg/BOX)\n",
       "198                 예소담 백나박김치(적숙 1Kg/BOX)\n",
       "199                  예소담 나박김치(적숙 1Kg/BOX)\n",
       "Name: 상품명, Length: 100, dtype: object"
      ]
     },
     "execution_count": 120,
     "metadata": {},
     "output_type": "execute_result"
    }
   ],
   "source": [
    "df['상품명'][100:200]"
   ]
  },
  {
   "cell_type": "code",
   "execution_count": 121,
   "id": "cbdc79e1",
   "metadata": {},
   "outputs": [
    {
     "data": {
      "text/plain": [
       "100     보쌈김치\n",
       "101    배추겉절이\n",
       "102         \n",
       "103     김치볶음\n",
       "104      김치속\n",
       "       ...  \n",
       "195     나박김치\n",
       "196      박김치\n",
       "197     나박김치\n",
       "198     나박김치\n",
       "199      박김치\n",
       "Name: 상품명 전처리, Length: 100, dtype: object"
      ]
     },
     "execution_count": 121,
     "metadata": {},
     "output_type": "execute_result"
    }
   ],
   "source": [
    "df['상품명 전처리'][100:200]"
   ]
  },
  {
   "cell_type": "code",
   "execution_count": 119,
   "id": "487e01c3",
   "metadata": {},
   "outputs": [
    {
     "data": {
      "text/plain": [
       "500        무말랭이무침\n",
       "501          연근조림\n",
       "502          우엉조림\n",
       "503           콩자반\n",
       "504        양념깻잎무침\n",
       "          ...    \n",
       "595         강낭콩조림\n",
       "596         마늘쫑무침\n",
       "597    메추리닭가슴살장조림\n",
       "598       메추리알장조림\n",
       "599          우엉조림\n",
       "Name: 상품명 전처리, Length: 100, dtype: object"
      ]
     },
     "execution_count": 119,
     "metadata": {},
     "output_type": "execute_result"
    }
   ],
   "source": [
    "df['상품명 전처리'][500:600]"
   ]
  },
  {
   "cell_type": "code",
   "execution_count": 138,
   "id": "6723be66",
   "metadata": {},
   "outputs": [
    {
     "data": {
      "text/plain": [
       "0            CK 오징어초무침(R 1Kg/EA)\n",
       "1            CK 오징어초무침(R 5Kg/EA)\n",
       "2            CK 표고버섯볶음(R 1Kg/EA)\n",
       "3           CK 새송이들깨볶음(R 1Kg/EA)\n",
       "4           CK 총알새송이볶음(R 1Kg/EA)\n",
       "5           CK 총알새송이볶음(R 5Kg/EA)\n",
       "6            CK 미역줄기볶음(R 1Kg/EA)\n",
       "7            CK 미역줄기볶음(R 5Kg/EA)\n",
       "8            CK NEW닭갈비(R 1Kg/EA)\n",
       "9            CK NEW닭갈비(R 5Kg/EA)\n",
       "10     CK NEW닭갈비(_국내산닭_R 1Kg/EA)\n",
       "11      CK NEW닭갈비(국내산닭_R 5Kg/EA)\n",
       "12    CK NEW간장닭볶음(브라질닭_R 1Kg/EA)\n",
       "13    CK NEW간장닭볶음(브라질닭_R 5Kg/EA)\n",
       "14    CK NEW간장닭볶음(국내산닭_R 1Kg/EA)\n",
       "15    CK NEW간장닭볶음(국내산닭_R 5Kg/EA)\n",
       "16            CK 탄두리치킨(R 5Kg/EA)\n",
       "17          CK 토마토치킨스튜(R 1Kg/EA)\n",
       "18           CK 돈육김치볶음(R 1Kg/EA)\n",
       "19            CK 돈육김치찜(R 5Kg/EA)\n",
       "20         CK 중화풍돈육볶음(_R 1Kg/EA)\n",
       "21          CK 중화풍돈육볶음(R 5Kg/EA)\n",
       "22            CK 매운갈비찜(R 1Kg/EA)\n",
       "23            CK 매운갈비찜(R 5Kg/EA)\n",
       "24            CK 바베큐폭찹(R 1Kg/EA)\n",
       "25            CK 바베큐폭찹(R 5Kg/EA)\n",
       "26            CK 돼지갈비찜(R 1Kg/EA)\n",
       "27            CK 돼지갈비찜(R 5Kg/EA)\n",
       "28            CK 오삼불고기(R 1Kg/EA)\n",
       "29            CK 오삼불고기(R 5Kg/EA)\n",
       "Name: 상품명, dtype: object"
      ]
     },
     "execution_count": 138,
     "metadata": {},
     "output_type": "execute_result"
    }
   ],
   "source": [
    "df['상품명'][:30]"
   ]
  },
  {
   "cell_type": "code",
   "execution_count": 147,
   "id": "f6380289",
   "metadata": {},
   "outputs": [],
   "source": [
    "# 바베큐 폭립\n",
    "fd_dict = pd.read_csv(\"fd_dict\")"
   ]
  },
  {
   "cell_type": "code",
   "execution_count": 151,
   "id": "e5b49b1a",
   "metadata": {},
   "outputs": [],
   "source": [
    "fd_dict = pd.DataFrame(fd_dict['사전'])"
   ]
  },
  {
   "cell_type": "code",
   "execution_count": 153,
   "id": "09cb848a",
   "metadata": {},
   "outputs": [],
   "source": [
    "fd_dict = set(fd_dict['사전'])"
   ]
  },
  {
   "cell_type": "code",
   "execution_count": 160,
   "id": "c9ce5c5a",
   "metadata": {},
   "outputs": [
    {
     "data": {
      "text/plain": [
       "True"
      ]
     },
     "execution_count": 160,
     "metadata": {},
     "output_type": "execute_result"
    }
   ],
   "source": [
    "\"바지락\" in fd_dict"
   ]
  },
  {
   "cell_type": "code",
   "execution_count": 161,
   "id": "e7af97f9",
   "metadata": {},
   "outputs": [
    {
     "data": {
      "text/plain": [
       "2905"
      ]
     },
     "execution_count": 161,
     "metadata": {},
     "output_type": "execute_result"
    }
   ],
   "source": [
    "len(fd_dict)"
   ]
  },
  {
   "cell_type": "code",
   "execution_count": 162,
   "id": "f4b711fc",
   "metadata": {},
   "outputs": [],
   "source": [
    "# 그냥 다 돌면서 유사도 높은거 있으면 맞다 치는데\n",
    "# 예를들어 냉동참치 면 참치로 분류해야되는데 "
   ]
  },
  {
   "cell_type": "code",
   "execution_count": null,
   "id": "22620191",
   "metadata": {},
   "outputs": [],
   "source": [
    "#백나박김치 -> 나박김치 되야함\n",
    "#유사도 높여서 어느정도 이상이면 그냥 분류 해버리고 ex) 백나박김치 랑 나박김치 \n",
    "\n",
    "#냉동참치"
   ]
  }
 ],
 "metadata": {
  "kernelspec": {
   "display_name": "Python 3 (ipykernel)",
   "language": "python",
   "name": "python3"
  },
  "language_info": {
   "codemirror_mode": {
    "name": "ipython",
    "version": 3
   },
   "file_extension": ".py",
   "mimetype": "text/x-python",
   "name": "python",
   "nbconvert_exporter": "python",
   "pygments_lexer": "ipython3",
   "version": "3.9.13"
  }
 },
 "nbformat": 4,
 "nbformat_minor": 5
}
