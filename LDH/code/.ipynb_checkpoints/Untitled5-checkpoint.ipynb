{
 "cells": [
  {
   "cell_type": "code",
   "execution_count": 1,
   "id": "eee1f33a",
   "metadata": {},
   "outputs": [],
   "source": [
    "import pandas as pd\n",
    "import numpy as np\n",
    "import matplotlib.pyplot as plt"
   ]
  },
  {
   "cell_type": "code",
   "execution_count": 27,
   "id": "6af9e01a",
   "metadata": {},
   "outputs": [],
   "source": [
    "adr= 'C:/Users/KEARNEY/Desktop'\n",
    "df= pd.read_csv(adr+'/새 폴더/c_project/LDH/data/CJmaster.csv')"
   ]
  },
  {
   "cell_type": "code",
   "execution_count": 28,
   "id": "e1a021fb",
   "metadata": {},
   "outputs": [],
   "source": [
    "#행, 열 앞에 부분 제거\n",
    "tmp_df = df.iloc[15:,185:]"
   ]
  },
  {
   "cell_type": "code",
   "execution_count": 5,
   "id": "fee3bc0b",
   "metadata": {},
   "outputs": [],
   "source": [
    "#매장명 붙이기\n",
    "tmp_df['매장'] = df.iloc[:,0]\n",
    "\n",
    "#정수형 변환\n",
    "tmp_df.iloc[:, 0:3] = tmp_df.iloc[:, 0:3].astype(int)\n",
    "\n",
    "#평균 매출\n",
    "tmp_df['total_sales'] = (tmp_df['sales12']+tmp_df['sales1']+tmp_df['sales2'])/3\n",
    "\n",
    "#2달치만 있는 것들 보정\n",
    "tmp_df.loc[45,'total_sales'] = tmp_df.loc[45,'total_sales']*3/2\n",
    "tmp_df.loc[69,'total_sales'] = tmp_df.loc[69,'total_sales']*3/2\n",
    "\n",
    "#vistorrevie 없는것들 삭제(폐업)\n",
    "tmp_df = tmp_df.dropna(subset=[\"visitorReview\"])\n",
    "\n",
    "#시각화 \n",
    "plt.hist(tmp_df['total_sales'], bins=30)\n",
    "plt.show()\n",
    "\n",
    "#이상치들 살펴보기\n",
    "tmp_df[tmp_df['total_sales']>6*10**7]\n",
    "\n",
    "#슬로우바비큐 삭제(최근에 생긴 가게로 급격히 매출 증가)\n",
    "tmp_df = tmp_df[tmp_df['매장'] != '슬로우야드 바비큐']\n",
    "\n",
    "plt.hist(tmp_df['total_sales'], bins=30)\n",
    "plt.show()\n",
    "\n",
    "#6 미만인것들 보고 기준 설정\n",
    "under_6000 = tmp_df[tmp_df['total_sales']<6*10**7]\n",
    "\n",
    "plt.hist(under_6000['total_sales'],bins=50)\n",
    "plt.vlines(0.31*10**7, 0 ,7, color='red')\n",
    "plt.vlines(0.75*10**7, 0 ,7, color='red')\n",
    "plt.show()\n",
    "\n",
    "# 0.31, 0.75 기준으로 라벨링\n",
    "tmp_df['label'] = pd.cut(tmp_df['total_sales'], bins=[-float('inf'), 0.31*10**7, 0.75*10**7, float('inf')], labels=['small', 'mid', 'big'])\n",
    "tmp_df['label'].value_counts()\n",
    "\n",
    "# 인스타 여부 변수로 추가\n",
    "tmp_df['instagram'] = np.where(tmp_df['follow'].isnull(), 0, 1)"
   ]
  },
  {
   "cell_type": "code",
   "execution_count": 20,
   "id": "7a9edf5f",
   "metadata": {},
   "outputs": [
    {
     "name": "stdout",
     "output_type": "stream",
     "text": [
      "Test score: 0.7272727272727273\n",
      "Best params: {'max_depth': 5, 'min_samples_leaf': 1, 'min_samples_split': 2, 'n_estimators': 200}\n",
      "Test score: 0.8181818181818182\n",
      "Best params: {'max_depth': 5, 'min_samples_leaf': 1, 'min_samples_split': 2, 'n_estimators': 50}\n",
      "Test score: 0.9090909090909091\n",
      "Best params: {'max_depth': 5, 'min_samples_leaf': 1, 'min_samples_split': 2, 'n_estimators': 50}\n",
      "Test score: 0.7272727272727273\n",
      "Best params: {'max_depth': 5, 'min_samples_leaf': 1, 'min_samples_split': 10, 'n_estimators': 200}\n",
      "Test score: 0.7\n",
      "Best params: {'max_depth': 5, 'min_samples_leaf': 1, 'min_samples_split': 10, 'n_estimators': 200}\n",
      "Best params: {'max_depth': 5, 'min_samples_leaf': 1, 'min_samples_split': 10, 'n_estimators': 200}\n"
     ]
    }
   ],
   "source": [
    "from sklearn.model_selection import train_test_split\n",
    "from sklearn.model_selection import GridSearchCV\n",
    "from sklearn.model_selection import StratifiedKFold\n",
    "from sklearn.ensemble import RandomForestClassifier\n",
    "\n",
    "# 데이터를 분할하는 함수\n",
    "def stratified_sampling(X, y, n_splits=5, random_state=42):\n",
    "    skf = StratifiedKFold(n_splits=n_splits, shuffle=True, random_state=random_state)\n",
    "    for train_idx, test_idx in skf.split(X, y):\n",
    "        yield X.iloc[train_idx], X.iloc[test_idx], y.iloc[train_idx], y.iloc[test_idx]\n",
    "\n",
    "# 분할된 데이터에서 RandomForestClassifier의 파라미터를 조정하는 함수\n",
    "def optimize_rf(X_train, y_train):\n",
    "    param_grid = {\n",
    "        'n_estimators': [50, 100, 200],\n",
    "        'max_depth': [5, 10, 15],\n",
    "        'min_samples_split': [2, 5, 10],\n",
    "        'min_samples_leaf': [1, 2, 4]\n",
    "    }\n",
    "    rf = RandomForestClassifier(random_state=42)\n",
    "    grid_search = GridSearchCV(rf, param_grid=param_grid, cv=5, n_jobs=-1)\n",
    "    grid_search.fit(X_train, y_train)\n",
    "    return grid_search #.best_params_\n",
    "\n",
    "# 데이터를 로드하고 StratifiedKFold와 RandomForestClassifier를 사용하여 파라미터를 조정\n",
    "from sklearn.datasets import load_iris\n",
    "import pandas as pd\n",
    "\n",
    "X=tmp_df[['blogReview','visitorReview','instagram']]\n",
    "X = X.iloc[:,:].astype(int)\n",
    "y= tmp_df['label']\n",
    "\n",
    "best_params = None\n",
    "for X_train, X_test, y_train, y_test in stratified_sampling(X, y, n_splits=5, random_state=42):\n",
    "    params = optimize_rf(X_train, y_train)\n",
    "    if best_params is None or params.best_score_ > best_score:\n",
    "        best_params = params.best_params_\n",
    "        best_score = params.best_score_\n",
    "    rf = RandomForestClassifier(random_state=42, **params.best_params_)\n",
    "    rf.fit(X_train, y_train)\n",
    "    print(f\"Test score: {rf.score(X_test, y_test)}\")\n",
    "    print(f\"Best params: {best_params}\")\n",
    "    \n",
    "print(f\"Best params: {best_params}\")\n"
   ]
  },
  {
   "cell_type": "code",
   "execution_count": 21,
   "id": "c3621689",
   "metadata": {},
   "outputs": [
    {
     "data": {
      "text/plain": [
       "RandomForestClassifier(max_depth=5, min_samples_split=10, n_estimators=200,\n",
       "                       random_state=42)"
      ]
     },
     "execution_count": 21,
     "metadata": {},
     "output_type": "execute_result"
    }
   ],
   "source": [
    "#최종 모델\n",
    "rf = RandomForestClassifier(random_state=42, **best_params)\n",
    "rf.fit(X_train, y_train)\n",
    "\n",
    "print(\"Accuracy on test set:\", rf.score(X, y))"
   ]
  },
  {
   "cell_type": "code",
   "execution_count": 23,
   "id": "1c4042e5",
   "metadata": {},
   "outputs": [
    {
     "data": {
      "text/plain": [
       "['random_forest_model.pkl']"
      ]
     },
     "execution_count": 23,
     "metadata": {},
     "output_type": "execute_result"
    }
   ],
   "source": [
    "# 모델 저장\n",
    "import joblib\n",
    "\n",
    "joblib.dump(rf, 'random_forest_model.pkl')\n",
    "\n",
    "#불러오기\n",
    "loaded_model = joblib.load('random_forest_model.pkl')\n",
    "\n",
    "loaded_model.predict(X)"
   ]
  }
 ],
 "metadata": {
  "kernelspec": {
   "display_name": "Python 3 (ipykernel)",
   "language": "python",
   "name": "python3"
  },
  "language_info": {
   "codemirror_mode": {
    "name": "ipython",
    "version": 3
   },
   "file_extension": ".py",
   "mimetype": "text/x-python",
   "name": "python",
   "nbconvert_exporter": "python",
   "pygments_lexer": "ipython3",
   "version": "3.9.13"
  }
 },
 "nbformat": 4,
 "nbformat_minor": 5
}
