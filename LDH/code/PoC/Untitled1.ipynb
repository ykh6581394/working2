{
 "cells": [
  {
   "cell_type": "code",
   "execution_count": 20,
   "id": "425cc831",
   "metadata": {},
   "outputs": [],
   "source": [
    "import pandas as pd"
   ]
  },
  {
   "cell_type": "code",
   "execution_count": 21,
   "id": "95dcceff",
   "metadata": {},
   "outputs": [],
   "source": [
    "df1= pd.read_excel(\"C:/Users/KEARNEY/Desktop/새 폴더/c_project/LDH/data/FO_FW_메뉴정리.xlsx\")"
   ]
  },
  {
   "cell_type": "code",
   "execution_count": 22,
   "id": "462d98fd",
   "metadata": {},
   "outputs": [
    {
     "data": {
      "text/html": [
       "<div>\n",
       "<style scoped>\n",
       "    .dataframe tbody tr th:only-of-type {\n",
       "        vertical-align: middle;\n",
       "    }\n",
       "\n",
       "    .dataframe tbody tr th {\n",
       "        vertical-align: top;\n",
       "    }\n",
       "\n",
       "    .dataframe thead th {\n",
       "        text-align: right;\n",
       "    }\n",
       "</style>\n",
       "<table border=\"1\" class=\"dataframe\">\n",
       "  <thead>\n",
       "    <tr style=\"text-align: right;\">\n",
       "      <th></th>\n",
       "      <th>매장</th>\n",
       "      <th>메뉴</th>\n",
       "      <th>수정메뉴</th>\n",
       "    </tr>\n",
       "  </thead>\n",
       "  <tbody>\n",
       "    <tr>\n",
       "      <th>0</th>\n",
       "      <td>미장플라쎄</td>\n",
       "      <td>라구 프로슈토 라자냐 롤N</td>\n",
       "      <td>라구 라자냐</td>\n",
       "    </tr>\n",
       "    <tr>\n",
       "      <th>1</th>\n",
       "      <td>미장플라쎄</td>\n",
       "      <td>화이트와인 토마토 해산물 스튜매운맛2단계N</td>\n",
       "      <td>토마토 해산물 스튜</td>\n",
       "    </tr>\n",
       "    <tr>\n",
       "      <th>2</th>\n",
       "      <td>미장플라쎄</td>\n",
       "      <td>링귀네 알라 까르보나라N</td>\n",
       "      <td>까르보나라</td>\n",
       "    </tr>\n",
       "    <tr>\n",
       "      <th>3</th>\n",
       "      <td>미장플라쎄</td>\n",
       "      <td>샤프란 해산물 리조또N</td>\n",
       "      <td>해산물리조또</td>\n",
       "    </tr>\n",
       "    <tr>\n",
       "      <th>4</th>\n",
       "      <td>미장플라쎄</td>\n",
       "      <td>쇠고기 포르치니 크림 뇨끼대표</td>\n",
       "      <td>소고기크림뇨끼</td>\n",
       "    </tr>\n",
       "    <tr>\n",
       "      <th>...</th>\n",
       "      <td>...</td>\n",
       "      <td>...</td>\n",
       "      <td>...</td>\n",
       "    </tr>\n",
       "    <tr>\n",
       "      <th>262</th>\n",
       "      <td>그리너(연남점)</td>\n",
       "      <td>수제 청 음료</td>\n",
       "      <td>NaN</td>\n",
       "    </tr>\n",
       "    <tr>\n",
       "      <th>263</th>\n",
       "      <td>그리너(연남점)</td>\n",
       "      <td>그릭요거트 + 커스텀볼</td>\n",
       "      <td>NaN</td>\n",
       "    </tr>\n",
       "    <tr>\n",
       "      <th>264</th>\n",
       "      <td>그리너(연남점)</td>\n",
       "      <td>그릭요거트 + 믹스베리볼</td>\n",
       "      <td>NaN</td>\n",
       "    </tr>\n",
       "    <tr>\n",
       "      <th>265</th>\n",
       "      <td>그리너(연남점)</td>\n",
       "      <td>그릭요거트 + 그래놀라볼</td>\n",
       "      <td>NaN</td>\n",
       "    </tr>\n",
       "    <tr>\n",
       "      <th>266</th>\n",
       "      <td>그리너(연남점)</td>\n",
       "      <td>Only topping Bowl</td>\n",
       "      <td>NaN</td>\n",
       "    </tr>\n",
       "  </tbody>\n",
       "</table>\n",
       "<p>267 rows × 3 columns</p>\n",
       "</div>"
      ],
      "text/plain": [
       "           매장                       메뉴        수정메뉴\n",
       "0       미장플라쎄           라구 프로슈토 라자냐 롤N      라구 라자냐\n",
       "1       미장플라쎄  화이트와인 토마토 해산물 스튜매운맛2단계N  토마토 해산물 스튜\n",
       "2       미장플라쎄            링귀네 알라 까르보나라N       까르보나라\n",
       "3       미장플라쎄             샤프란 해산물 리조또N      해산물리조또\n",
       "4       미장플라쎄         쇠고기 포르치니 크림 뇨끼대표     소고기크림뇨끼\n",
       "..        ...                      ...         ...\n",
       "262  그리너(연남점)                  수제 청 음료         NaN\n",
       "263  그리너(연남점)             그릭요거트 + 커스텀볼         NaN\n",
       "264  그리너(연남점)            그릭요거트 + 믹스베리볼         NaN\n",
       "265  그리너(연남점)            그릭요거트 + 그래놀라볼         NaN\n",
       "266  그리너(연남점)        Only topping Bowl         NaN\n",
       "\n",
       "[267 rows x 3 columns]"
      ]
     },
     "execution_count": 22,
     "metadata": {},
     "output_type": "execute_result"
    }
   ],
   "source": [
    "df1"
   ]
  },
  {
   "cell_type": "code",
   "execution_count": 28,
   "id": "3c29f640",
   "metadata": {},
   "outputs": [],
   "source": [
    "df2 = pd.read_excel(\"C:/Users/KEARNEY/Desktop/새 폴더/c_project/LDH/data/POS_230328.xlsx\",sheet_name=\"메뉴정리\")"
   ]
  },
  {
   "cell_type": "code",
   "execution_count": 32,
   "id": "15498618",
   "metadata": {},
   "outputs": [],
   "source": [
    "df2.columns = ['메뉴','수정메뉴']"
   ]
  },
  {
   "cell_type": "code",
   "execution_count": 45,
   "id": "f35bf63f",
   "metadata": {},
   "outputs": [
    {
     "data": {
      "text/plain": [
       "150"
      ]
     },
     "execution_count": 45,
     "metadata": {},
     "output_type": "execute_result"
    }
   ],
   "source": [
    "df1_ = set(df1['수정메뉴'].unique())\n",
    "len(df1_)"
   ]
  },
  {
   "cell_type": "code",
   "execution_count": 46,
   "id": "6870ca3f",
   "metadata": {},
   "outputs": [
    {
     "data": {
      "text/plain": [
       "1079"
      ]
     },
     "execution_count": 46,
     "metadata": {},
     "output_type": "execute_result"
    }
   ],
   "source": [
    "df2_ = set(df2['수정메뉴'].unique())\n",
    "len(df2_)"
   ]
  },
  {
   "cell_type": "code",
   "execution_count": 48,
   "id": "a246e549",
   "metadata": {},
   "outputs": [
    {
     "data": {
      "text/plain": [
       "42"
      ]
     },
     "execution_count": 48,
     "metadata": {},
     "output_type": "execute_result"
    }
   ],
   "source": [
    "len(df1_ & df2_)"
   ]
  },
  {
   "cell_type": "markdown",
   "id": "a6249ad5",
   "metadata": {},
   "source": [
    "# NA 없애기"
   ]
  },
  {
   "cell_type": "code",
   "execution_count": 51,
   "id": "1b54fe26",
   "metadata": {},
   "outputs": [],
   "source": [
    "df1 = df1.dropna(subset=[\"수정메뉴\"])\n",
    "df2 = df2.dropna(subset=[\"수정메뉴\"])"
   ]
  },
  {
   "cell_type": "markdown",
   "id": "6f72f6cb",
   "metadata": {},
   "source": [
    "# 띄어쓰기 없애기"
   ]
  },
  {
   "cell_type": "code",
   "execution_count": 52,
   "id": "6116ebfb",
   "metadata": {},
   "outputs": [
    {
     "name": "stderr",
     "output_type": "stream",
     "text": [
      "C:\\Users\\KEARNEY\\AppData\\Local\\Temp\\ipykernel_17384\\1062171903.py:4: SettingWithCopyWarning: \n",
      "A value is trying to be set on a copy of a slice from a DataFrame.\n",
      "Try using .loc[row_indexer,col_indexer] = value instead\n",
      "\n",
      "See the caveats in the documentation: https://pandas.pydata.org/pandas-docs/stable/user_guide/indexing.html#returning-a-view-versus-a-copy\n",
      "  df1['수정메뉴'] = df1['수정메뉴'].apply(remove_blank)\n",
      "C:\\Users\\KEARNEY\\AppData\\Local\\Temp\\ipykernel_17384\\1062171903.py:5: SettingWithCopyWarning: \n",
      "A value is trying to be set on a copy of a slice from a DataFrame.\n",
      "Try using .loc[row_indexer,col_indexer] = value instead\n",
      "\n",
      "See the caveats in the documentation: https://pandas.pydata.org/pandas-docs/stable/user_guide/indexing.html#returning-a-view-versus-a-copy\n",
      "  df2['수정메뉴'] = df2['수정메뉴'].apply(remove_blank)\n"
     ]
    }
   ],
   "source": [
    "def remove_blank(s):\n",
    "    return ''.join(s.split())\n",
    "\n",
    "df1['수정메뉴'] = df1['수정메뉴'].apply(remove_blank)\n",
    "df2['수정메뉴'] = df2['수정메뉴'].apply(remove_blank)\n",
    "\n"
   ]
  },
  {
   "cell_type": "code",
   "execution_count": 53,
   "id": "624061e0",
   "metadata": {},
   "outputs": [
    {
     "data": {
      "text/plain": [
       "149"
      ]
     },
     "execution_count": 53,
     "metadata": {},
     "output_type": "execute_result"
    }
   ],
   "source": [
    "df1_ = set(df1['수정메뉴'].unique())\n",
    "len(df1_)"
   ]
  },
  {
   "cell_type": "code",
   "execution_count": 54,
   "id": "145200a6",
   "metadata": {},
   "outputs": [
    {
     "data": {
      "text/plain": [
       "1019"
      ]
     },
     "execution_count": 54,
     "metadata": {},
     "output_type": "execute_result"
    }
   ],
   "source": [
    "df2_ = set(df2['수정메뉴'].unique())\n",
    "len(df2_)"
   ]
  },
  {
   "cell_type": "code",
   "execution_count": 55,
   "id": "d1e00ec2",
   "metadata": {},
   "outputs": [
    {
     "data": {
      "text/plain": [
       "50"
      ]
     },
     "execution_count": 55,
     "metadata": {},
     "output_type": "execute_result"
    }
   ],
   "source": [
    "len(df1_ & df2_)"
   ]
  },
  {
   "cell_type": "code",
   "execution_count": null,
   "id": "5c22f0d6",
   "metadata": {},
   "outputs": [],
   "source": []
  }
 ],
 "metadata": {
  "kernelspec": {
   "display_name": "Python 3 (ipykernel)",
   "language": "python",
   "name": "python3"
  },
  "language_info": {
   "codemirror_mode": {
    "name": "ipython",
    "version": 3
   },
   "file_extension": ".py",
   "mimetype": "text/x-python",
   "name": "python",
   "nbconvert_exporter": "python",
   "pygments_lexer": "ipython3",
   "version": "3.9.13"
  }
 },
 "nbformat": 4,
 "nbformat_minor": 5
}
