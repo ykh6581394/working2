{
 "cells": [
  {
   "cell_type": "code",
   "execution_count": 30,
   "id": "6b995a0e",
   "metadata": {},
   "outputs": [],
   "source": [
    "import pandas as pd\n",
    "import numpy as np\n"
   ]
  },
  {
   "cell_type": "code",
   "execution_count": 255,
   "id": "97da07f5",
   "metadata": {},
   "outputs": [
    {
     "ename": "FileNotFoundError",
     "evalue": "[Errno 2] No such file or directory: './새 폴더/c_project/YKH/data/PoC/POS_230328.xlsx'",
     "output_type": "error",
     "traceback": [
      "\u001b[1;31m---------------------------------------------------------------------------\u001b[0m",
      "\u001b[1;31mFileNotFoundError\u001b[0m                         Traceback (most recent call last)",
      "\u001b[1;32m~\\AppData\\Local\\Temp\\ipykernel_21876\\4232632125.py\u001b[0m in \u001b[0;36m<module>\u001b[1;34m\u001b[0m\n\u001b[0;32m      1\u001b[0m \u001b[0mfilepath\u001b[0m \u001b[1;33m=\u001b[0m \u001b[1;34m\"./새 폴더/c_project/YKH/data/PoC/POS_230328.xlsx\"\u001b[0m\u001b[1;33m\u001b[0m\u001b[1;33m\u001b[0m\u001b[0m\n\u001b[1;32m----> 2\u001b[1;33m \u001b[0mdf\u001b[0m \u001b[1;33m=\u001b[0m \u001b[0mpd\u001b[0m\u001b[1;33m.\u001b[0m\u001b[0mread_csv\u001b[0m\u001b[1;33m(\u001b[0m\u001b[0mfilepath\u001b[0m\u001b[1;33m)\u001b[0m\u001b[1;33m\u001b[0m\u001b[1;33m\u001b[0m\u001b[0m\n\u001b[0m",
      "\u001b[1;32m~\\anaconda3\\lib\\site-packages\\pandas\\util\\_decorators.py\u001b[0m in \u001b[0;36mwrapper\u001b[1;34m(*args, **kwargs)\u001b[0m\n\u001b[0;32m    309\u001b[0m                     \u001b[0mstacklevel\u001b[0m\u001b[1;33m=\u001b[0m\u001b[0mstacklevel\u001b[0m\u001b[1;33m,\u001b[0m\u001b[1;33m\u001b[0m\u001b[1;33m\u001b[0m\u001b[0m\n\u001b[0;32m    310\u001b[0m                 )\n\u001b[1;32m--> 311\u001b[1;33m             \u001b[1;32mreturn\u001b[0m \u001b[0mfunc\u001b[0m\u001b[1;33m(\u001b[0m\u001b[1;33m*\u001b[0m\u001b[0margs\u001b[0m\u001b[1;33m,\u001b[0m \u001b[1;33m**\u001b[0m\u001b[0mkwargs\u001b[0m\u001b[1;33m)\u001b[0m\u001b[1;33m\u001b[0m\u001b[1;33m\u001b[0m\u001b[0m\n\u001b[0m\u001b[0;32m    312\u001b[0m \u001b[1;33m\u001b[0m\u001b[0m\n\u001b[0;32m    313\u001b[0m         \u001b[1;32mreturn\u001b[0m \u001b[0mwrapper\u001b[0m\u001b[1;33m\u001b[0m\u001b[1;33m\u001b[0m\u001b[0m\n",
      "\u001b[1;32m~\\anaconda3\\lib\\site-packages\\pandas\\io\\parsers\\readers.py\u001b[0m in \u001b[0;36mread_csv\u001b[1;34m(filepath_or_buffer, sep, delimiter, header, names, index_col, usecols, squeeze, prefix, mangle_dupe_cols, dtype, engine, converters, true_values, false_values, skipinitialspace, skiprows, skipfooter, nrows, na_values, keep_default_na, na_filter, verbose, skip_blank_lines, parse_dates, infer_datetime_format, keep_date_col, date_parser, dayfirst, cache_dates, iterator, chunksize, compression, thousands, decimal, lineterminator, quotechar, quoting, doublequote, escapechar, comment, encoding, encoding_errors, dialect, error_bad_lines, warn_bad_lines, on_bad_lines, delim_whitespace, low_memory, memory_map, float_precision, storage_options)\u001b[0m\n\u001b[0;32m    676\u001b[0m     \u001b[0mkwds\u001b[0m\u001b[1;33m.\u001b[0m\u001b[0mupdate\u001b[0m\u001b[1;33m(\u001b[0m\u001b[0mkwds_defaults\u001b[0m\u001b[1;33m)\u001b[0m\u001b[1;33m\u001b[0m\u001b[1;33m\u001b[0m\u001b[0m\n\u001b[0;32m    677\u001b[0m \u001b[1;33m\u001b[0m\u001b[0m\n\u001b[1;32m--> 678\u001b[1;33m     \u001b[1;32mreturn\u001b[0m \u001b[0m_read\u001b[0m\u001b[1;33m(\u001b[0m\u001b[0mfilepath_or_buffer\u001b[0m\u001b[1;33m,\u001b[0m \u001b[0mkwds\u001b[0m\u001b[1;33m)\u001b[0m\u001b[1;33m\u001b[0m\u001b[1;33m\u001b[0m\u001b[0m\n\u001b[0m\u001b[0;32m    679\u001b[0m \u001b[1;33m\u001b[0m\u001b[0m\n\u001b[0;32m    680\u001b[0m \u001b[1;33m\u001b[0m\u001b[0m\n",
      "\u001b[1;32m~\\anaconda3\\lib\\site-packages\\pandas\\io\\parsers\\readers.py\u001b[0m in \u001b[0;36m_read\u001b[1;34m(filepath_or_buffer, kwds)\u001b[0m\n\u001b[0;32m    573\u001b[0m \u001b[1;33m\u001b[0m\u001b[0m\n\u001b[0;32m    574\u001b[0m     \u001b[1;31m# Create the parser.\u001b[0m\u001b[1;33m\u001b[0m\u001b[1;33m\u001b[0m\u001b[0m\n\u001b[1;32m--> 575\u001b[1;33m     \u001b[0mparser\u001b[0m \u001b[1;33m=\u001b[0m \u001b[0mTextFileReader\u001b[0m\u001b[1;33m(\u001b[0m\u001b[0mfilepath_or_buffer\u001b[0m\u001b[1;33m,\u001b[0m \u001b[1;33m**\u001b[0m\u001b[0mkwds\u001b[0m\u001b[1;33m)\u001b[0m\u001b[1;33m\u001b[0m\u001b[1;33m\u001b[0m\u001b[0m\n\u001b[0m\u001b[0;32m    576\u001b[0m \u001b[1;33m\u001b[0m\u001b[0m\n\u001b[0;32m    577\u001b[0m     \u001b[1;32mif\u001b[0m \u001b[0mchunksize\u001b[0m \u001b[1;32mor\u001b[0m \u001b[0miterator\u001b[0m\u001b[1;33m:\u001b[0m\u001b[1;33m\u001b[0m\u001b[1;33m\u001b[0m\u001b[0m\n",
      "\u001b[1;32m~\\anaconda3\\lib\\site-packages\\pandas\\io\\parsers\\readers.py\u001b[0m in \u001b[0;36m__init__\u001b[1;34m(self, f, engine, **kwds)\u001b[0m\n\u001b[0;32m    930\u001b[0m \u001b[1;33m\u001b[0m\u001b[0m\n\u001b[0;32m    931\u001b[0m         \u001b[0mself\u001b[0m\u001b[1;33m.\u001b[0m\u001b[0mhandles\u001b[0m\u001b[1;33m:\u001b[0m \u001b[0mIOHandles\u001b[0m \u001b[1;33m|\u001b[0m \u001b[1;32mNone\u001b[0m \u001b[1;33m=\u001b[0m \u001b[1;32mNone\u001b[0m\u001b[1;33m\u001b[0m\u001b[1;33m\u001b[0m\u001b[0m\n\u001b[1;32m--> 932\u001b[1;33m         \u001b[0mself\u001b[0m\u001b[1;33m.\u001b[0m\u001b[0m_engine\u001b[0m \u001b[1;33m=\u001b[0m \u001b[0mself\u001b[0m\u001b[1;33m.\u001b[0m\u001b[0m_make_engine\u001b[0m\u001b[1;33m(\u001b[0m\u001b[0mf\u001b[0m\u001b[1;33m,\u001b[0m \u001b[0mself\u001b[0m\u001b[1;33m.\u001b[0m\u001b[0mengine\u001b[0m\u001b[1;33m)\u001b[0m\u001b[1;33m\u001b[0m\u001b[1;33m\u001b[0m\u001b[0m\n\u001b[0m\u001b[0;32m    933\u001b[0m \u001b[1;33m\u001b[0m\u001b[0m\n\u001b[0;32m    934\u001b[0m     \u001b[1;32mdef\u001b[0m \u001b[0mclose\u001b[0m\u001b[1;33m(\u001b[0m\u001b[0mself\u001b[0m\u001b[1;33m)\u001b[0m\u001b[1;33m:\u001b[0m\u001b[1;33m\u001b[0m\u001b[1;33m\u001b[0m\u001b[0m\n",
      "\u001b[1;32m~\\anaconda3\\lib\\site-packages\\pandas\\io\\parsers\\readers.py\u001b[0m in \u001b[0;36m_make_engine\u001b[1;34m(self, f, engine)\u001b[0m\n\u001b[0;32m   1214\u001b[0m             \u001b[1;31m# \"Union[str, PathLike[str], ReadCsvBuffer[bytes], ReadCsvBuffer[str]]\"\u001b[0m\u001b[1;33m\u001b[0m\u001b[1;33m\u001b[0m\u001b[0m\n\u001b[0;32m   1215\u001b[0m             \u001b[1;31m# , \"str\", \"bool\", \"Any\", \"Any\", \"Any\", \"Any\", \"Any\"\u001b[0m\u001b[1;33m\u001b[0m\u001b[1;33m\u001b[0m\u001b[0m\n\u001b[1;32m-> 1216\u001b[1;33m             self.handles = get_handle(  # type: ignore[call-overload]\n\u001b[0m\u001b[0;32m   1217\u001b[0m                 \u001b[0mf\u001b[0m\u001b[1;33m,\u001b[0m\u001b[1;33m\u001b[0m\u001b[1;33m\u001b[0m\u001b[0m\n\u001b[0;32m   1218\u001b[0m                 \u001b[0mmode\u001b[0m\u001b[1;33m,\u001b[0m\u001b[1;33m\u001b[0m\u001b[1;33m\u001b[0m\u001b[0m\n",
      "\u001b[1;32m~\\anaconda3\\lib\\site-packages\\pandas\\io\\common.py\u001b[0m in \u001b[0;36mget_handle\u001b[1;34m(path_or_buf, mode, encoding, compression, memory_map, is_text, errors, storage_options)\u001b[0m\n\u001b[0;32m    784\u001b[0m         \u001b[1;32mif\u001b[0m \u001b[0mioargs\u001b[0m\u001b[1;33m.\u001b[0m\u001b[0mencoding\u001b[0m \u001b[1;32mand\u001b[0m \u001b[1;34m\"b\"\u001b[0m \u001b[1;32mnot\u001b[0m \u001b[1;32min\u001b[0m \u001b[0mioargs\u001b[0m\u001b[1;33m.\u001b[0m\u001b[0mmode\u001b[0m\u001b[1;33m:\u001b[0m\u001b[1;33m\u001b[0m\u001b[1;33m\u001b[0m\u001b[0m\n\u001b[0;32m    785\u001b[0m             \u001b[1;31m# Encoding\u001b[0m\u001b[1;33m\u001b[0m\u001b[1;33m\u001b[0m\u001b[0m\n\u001b[1;32m--> 786\u001b[1;33m             handle = open(\n\u001b[0m\u001b[0;32m    787\u001b[0m                 \u001b[0mhandle\u001b[0m\u001b[1;33m,\u001b[0m\u001b[1;33m\u001b[0m\u001b[1;33m\u001b[0m\u001b[0m\n\u001b[0;32m    788\u001b[0m                 \u001b[0mioargs\u001b[0m\u001b[1;33m.\u001b[0m\u001b[0mmode\u001b[0m\u001b[1;33m,\u001b[0m\u001b[1;33m\u001b[0m\u001b[1;33m\u001b[0m\u001b[0m\n",
      "\u001b[1;31mFileNotFoundError\u001b[0m: [Errno 2] No such file or directory: './새 폴더/c_project/YKH/data/PoC/POS_230328.xlsx'"
     ]
    }
   ],
   "source": [
    "\n",
    "\n",
    "filepath = \"./새 폴더/c_project/YKH/data/PoC/POS_230328.xlsx\"\n",
    "df = pd.read_csv(filepath)\n"
   ]
  },
  {
   "cell_type": "code",
   "execution_count": 256,
   "id": "45be2aa1",
   "metadata": {},
   "outputs": [],
   "source": [
    "df= pd.read_excel(\"C:/Users/KEARNEY/Desktop/새 폴더/c_project/YKH/data/PoC/POS_230328.xlsx\",sheet_name='RESULT')"
   ]
  },
  {
   "cell_type": "code",
   "execution_count": 7,
   "id": "18b24fe0",
   "metadata": {},
   "outputs": [
    {
     "data": {
      "text/html": [
       "<div>\n",
       "<style scoped>\n",
       "    .dataframe tbody tr th:only-of-type {\n",
       "        vertical-align: middle;\n",
       "    }\n",
       "\n",
       "    .dataframe tbody tr th {\n",
       "        vertical-align: top;\n",
       "    }\n",
       "\n",
       "    .dataframe thead th {\n",
       "        text-align: right;\n",
       "    }\n",
       "</style>\n",
       "<table border=\"1\" class=\"dataframe\">\n",
       "  <thead>\n",
       "    <tr style=\"text-align: right;\">\n",
       "      <th></th>\n",
       "      <th>STORE_CD</th>\n",
       "      <th>POS_NO</th>\n",
       "      <th>STORE_NM</th>\n",
       "      <th>상호명</th>\n",
       "      <th>ADDR</th>\n",
       "      <th>ADDR_K</th>\n",
       "      <th>TRAN_YMD</th>\n",
       "      <th>ZIP_K</th>\n",
       "      <th>TRAN_NO</th>\n",
       "      <th>PHONE_K</th>\n",
       "      <th>PRODUCT_NM</th>\n",
       "      <th>QTY</th>\n",
       "      <th>PRICE</th>\n",
       "      <th>TOTAL_AMT</th>\n",
       "      <th>TOTAL_SALES</th>\n",
       "      <th>TRAN_YMDTIME</th>\n",
       "      <th>YEAR</th>\n",
       "      <th>END_MONTH</th>\n",
       "    </tr>\n",
       "  </thead>\n",
       "  <tbody>\n",
       "    <tr>\n",
       "      <th>0</th>\n",
       "      <td>230129</td>\n",
       "      <td>1</td>\n",
       "      <td>앨*스바이미니멜츠</td>\n",
       "      <td>앨리스 바이 미니멜츠</td>\n",
       "      <td>서울특별시 마포구 성산동 ***-*번지 마포중앙도서관 B*층 *호</td>\n",
       "      <td>서울시 마포구 성산로 128 마포중앙도서관 지하1층</td>\n",
       "      <td>20221201</td>\n",
       "      <td>3965</td>\n",
       "      <td>5</td>\n",
       "      <td>02-336-7254</td>\n",
       "      <td>아메리카노(HOT)</td>\n",
       "      <td>1</td>\n",
       "      <td>4000</td>\n",
       "      <td>4000</td>\n",
       "      <td>4000</td>\n",
       "      <td>20221201104005</td>\n",
       "      <td>2022</td>\n",
       "      <td>12</td>\n",
       "    </tr>\n",
       "    <tr>\n",
       "      <th>1</th>\n",
       "      <td>230129</td>\n",
       "      <td>1</td>\n",
       "      <td>앨*스바이미니멜츠</td>\n",
       "      <td>앨리스 바이 미니멜츠</td>\n",
       "      <td>서울특별시 마포구 성산동 ***-*번지 마포중앙도서관 B*층 *호</td>\n",
       "      <td>서울시 마포구 성산로 128 마포중앙도서관 지하1층</td>\n",
       "      <td>20221201</td>\n",
       "      <td>3965</td>\n",
       "      <td>10</td>\n",
       "      <td>02-336-7254</td>\n",
       "      <td>샐러드피자</td>\n",
       "      <td>1</td>\n",
       "      <td>15000</td>\n",
       "      <td>15000</td>\n",
       "      <td>15000</td>\n",
       "      <td>20221201120243</td>\n",
       "      <td>2022</td>\n",
       "      <td>12</td>\n",
       "    </tr>\n",
       "    <tr>\n",
       "      <th>2</th>\n",
       "      <td>230129</td>\n",
       "      <td>1</td>\n",
       "      <td>앨*스바이미니멜츠</td>\n",
       "      <td>앨리스 바이 미니멜츠</td>\n",
       "      <td>서울특별시 마포구 성산동 ***-*번지 마포중앙도서관 B*층 *호</td>\n",
       "      <td>서울시 마포구 성산로 128 마포중앙도서관 지하1층</td>\n",
       "      <td>20221201</td>\n",
       "      <td>3965</td>\n",
       "      <td>16</td>\n",
       "      <td>02-336-7254</td>\n",
       "      <td>에그마요브런치</td>\n",
       "      <td>1</td>\n",
       "      <td>7500</td>\n",
       "      <td>7500</td>\n",
       "      <td>7500</td>\n",
       "      <td>20221201123055</td>\n",
       "      <td>2022</td>\n",
       "      <td>12</td>\n",
       "    </tr>\n",
       "    <tr>\n",
       "      <th>3</th>\n",
       "      <td>230129</td>\n",
       "      <td>1</td>\n",
       "      <td>앨*스바이미니멜츠</td>\n",
       "      <td>앨리스 바이 미니멜츠</td>\n",
       "      <td>서울특별시 마포구 성산동 ***-*번지 마포중앙도서관 B*층 *호</td>\n",
       "      <td>서울시 마포구 성산로 128 마포중앙도서관 지하1층</td>\n",
       "      <td>20221201</td>\n",
       "      <td>3965</td>\n",
       "      <td>24</td>\n",
       "      <td>02-336-7254</td>\n",
       "      <td>소세지추가</td>\n",
       "      <td>1</td>\n",
       "      <td>2000</td>\n",
       "      <td>2000</td>\n",
       "      <td>2000</td>\n",
       "      <td>20221201132133</td>\n",
       "      <td>2022</td>\n",
       "      <td>12</td>\n",
       "    </tr>\n",
       "    <tr>\n",
       "      <th>4</th>\n",
       "      <td>230129</td>\n",
       "      <td>1</td>\n",
       "      <td>앨*스바이미니멜츠</td>\n",
       "      <td>앨리스 바이 미니멜츠</td>\n",
       "      <td>서울특별시 마포구 성산동 ***-*번지 마포중앙도서관 B*층 *호</td>\n",
       "      <td>서울시 마포구 성산로 128 마포중앙도서관 지하1층</td>\n",
       "      <td>20221201</td>\n",
       "      <td>3965</td>\n",
       "      <td>25</td>\n",
       "      <td>02-336-7254</td>\n",
       "      <td>아메리카노(ICE)</td>\n",
       "      <td>1</td>\n",
       "      <td>4000</td>\n",
       "      <td>4000</td>\n",
       "      <td>4000</td>\n",
       "      <td>20221201141231</td>\n",
       "      <td>2022</td>\n",
       "      <td>12</td>\n",
       "    </tr>\n",
       "  </tbody>\n",
       "</table>\n",
       "</div>"
      ],
      "text/plain": [
       "   STORE_CD  POS_NO   STORE_NM          상호명  \\\n",
       "0    230129       1  앨*스바이미니멜츠  앨리스 바이 미니멜츠   \n",
       "1    230129       1  앨*스바이미니멜츠  앨리스 바이 미니멜츠   \n",
       "2    230129       1  앨*스바이미니멜츠  앨리스 바이 미니멜츠   \n",
       "3    230129       1  앨*스바이미니멜츠  앨리스 바이 미니멜츠   \n",
       "4    230129       1  앨*스바이미니멜츠  앨리스 바이 미니멜츠   \n",
       "\n",
       "                                   ADDR                        ADDR_K  \\\n",
       "0  서울특별시 마포구 성산동 ***-*번지 마포중앙도서관 B*층 *호  서울시 마포구 성산로 128 마포중앙도서관 지하1층   \n",
       "1  서울특별시 마포구 성산동 ***-*번지 마포중앙도서관 B*층 *호  서울시 마포구 성산로 128 마포중앙도서관 지하1층   \n",
       "2  서울특별시 마포구 성산동 ***-*번지 마포중앙도서관 B*층 *호  서울시 마포구 성산로 128 마포중앙도서관 지하1층   \n",
       "3  서울특별시 마포구 성산동 ***-*번지 마포중앙도서관 B*층 *호  서울시 마포구 성산로 128 마포중앙도서관 지하1층   \n",
       "4  서울특별시 마포구 성산동 ***-*번지 마포중앙도서관 B*층 *호  서울시 마포구 성산로 128 마포중앙도서관 지하1층   \n",
       "\n",
       "   TRAN_YMD  ZIP_K  TRAN_NO      PHONE_K  PRODUCT_NM  QTY  PRICE  TOTAL_AMT  \\\n",
       "0  20221201   3965        5  02-336-7254  아메리카노(HOT)    1   4000       4000   \n",
       "1  20221201   3965       10  02-336-7254       샐러드피자    1  15000      15000   \n",
       "2  20221201   3965       16  02-336-7254     에그마요브런치    1   7500       7500   \n",
       "3  20221201   3965       24  02-336-7254       소세지추가    1   2000       2000   \n",
       "4  20221201   3965       25  02-336-7254  아메리카노(ICE)    1   4000       4000   \n",
       "\n",
       "   TOTAL_SALES    TRAN_YMDTIME  YEAR  END_MONTH  \n",
       "0         4000  20221201104005  2022         12  \n",
       "1        15000  20221201120243  2022         12  \n",
       "2         7500  20221201123055  2022         12  \n",
       "3         2000  20221201132133  2022         12  \n",
       "4         4000  20221201141231  2022         12  "
      ]
     },
     "execution_count": 7,
     "metadata": {},
     "output_type": "execute_result"
    }
   ],
   "source": [
    "df.head()"
   ]
  },
  {
   "cell_type": "code",
   "execution_count": 9,
   "id": "da41b0f9",
   "metadata": {},
   "outputs": [
    {
     "data": {
      "text/plain": [
       "Index(['STORE_CD', 'POS_NO', 'STORE_NM', '상호명', 'ADDR', 'ADDR_K', 'TRAN_YMD',\n",
       "       'ZIP_K', 'TRAN_NO', 'PHONE_K', 'PRODUCT_NM', 'QTY', 'PRICE',\n",
       "       'TOTAL_AMT', 'TOTAL_SALES', 'TRAN_YMDTIME', 'YEAR', 'END_MONTH'],\n",
       "      dtype='object')"
      ]
     },
     "execution_count": 9,
     "metadata": {},
     "output_type": "execute_result"
    }
   ],
   "source": [
    "df.columns"
   ]
  },
  {
   "cell_type": "code",
   "execution_count": 13,
   "id": "c7974c8c",
   "metadata": {},
   "outputs": [
    {
     "data": {
      "text/html": [
       "<div>\n",
       "<style scoped>\n",
       "    .dataframe tbody tr th:only-of-type {\n",
       "        vertical-align: middle;\n",
       "    }\n",
       "\n",
       "    .dataframe tbody tr th {\n",
       "        vertical-align: top;\n",
       "    }\n",
       "\n",
       "    .dataframe thead th {\n",
       "        text-align: right;\n",
       "    }\n",
       "</style>\n",
       "<table border=\"1\" class=\"dataframe\">\n",
       "  <thead>\n",
       "    <tr style=\"text-align: right;\">\n",
       "      <th></th>\n",
       "      <th>STORE_CD</th>\n",
       "      <th>POS_NO</th>\n",
       "      <th>STORE_NM</th>\n",
       "      <th>상호명</th>\n",
       "      <th>ADDR</th>\n",
       "      <th>ADDR_K</th>\n",
       "      <th>TRAN_YMD</th>\n",
       "      <th>ZIP_K</th>\n",
       "      <th>TRAN_NO</th>\n",
       "      <th>PHONE_K</th>\n",
       "      <th>PRODUCT_NM</th>\n",
       "      <th>QTY</th>\n",
       "      <th>PRICE</th>\n",
       "      <th>TOTAL_AMT</th>\n",
       "      <th>TOTAL_SALES</th>\n",
       "      <th>TRAN_YMDTIME</th>\n",
       "      <th>YEAR</th>\n",
       "      <th>END_MONTH</th>\n",
       "    </tr>\n",
       "  </thead>\n",
       "  <tbody>\n",
       "    <tr>\n",
       "      <th>674</th>\n",
       "      <td>230386</td>\n",
       "      <td>1</td>\n",
       "      <td>빠*돌체(Pane Dolce)</td>\n",
       "      <td>빠네돌체</td>\n",
       "      <td>서울특별시 마포구 마포동 ***-*번지 빌딩 *층</td>\n",
       "      <td>서울시 마포구 마포동 388-5</td>\n",
       "      <td>20221203</td>\n",
       "      <td>4178</td>\n",
       "      <td>10</td>\n",
       "      <td>0507-1422-2559</td>\n",
       "      <td>제로콜라</td>\n",
       "      <td>1</td>\n",
       "      <td>4000</td>\n",
       "      <td>4000</td>\n",
       "      <td>1000</td>\n",
       "      <td>20221203145707</td>\n",
       "      <td>2022</td>\n",
       "      <td>12</td>\n",
       "    </tr>\n",
       "    <tr>\n",
       "      <th>800</th>\n",
       "      <td>230386</td>\n",
       "      <td>1</td>\n",
       "      <td>빠*돌체(Pane Dolce)</td>\n",
       "      <td>빠네돌체</td>\n",
       "      <td>서울특별시 마포구 마포동 ***-*번지 빌딩 *층</td>\n",
       "      <td>서울시 마포구 마포동 388-5</td>\n",
       "      <td>20230104</td>\n",
       "      <td>4178</td>\n",
       "      <td>5</td>\n",
       "      <td>0507-1422-2559</td>\n",
       "      <td>쉬림프샐러드 파스타</td>\n",
       "      <td>1</td>\n",
       "      <td>22000</td>\n",
       "      <td>22000</td>\n",
       "      <td>15400</td>\n",
       "      <td>20230104135140</td>\n",
       "      <td>2023</td>\n",
       "      <td>1</td>\n",
       "    </tr>\n",
       "    <tr>\n",
       "      <th>822</th>\n",
       "      <td>230386</td>\n",
       "      <td>1</td>\n",
       "      <td>빠*돌체(Pane Dolce)</td>\n",
       "      <td>빠네돌체</td>\n",
       "      <td>서울특별시 마포구 마포동 ***-*번지 빌딩 *층</td>\n",
       "      <td>서울시 마포구 마포동 388-5</td>\n",
       "      <td>20230107</td>\n",
       "      <td>4178</td>\n",
       "      <td>18</td>\n",
       "      <td>0507-1422-2559</td>\n",
       "      <td>베이컨로제</td>\n",
       "      <td>1</td>\n",
       "      <td>18000</td>\n",
       "      <td>18000</td>\n",
       "      <td>6850</td>\n",
       "      <td>20230107153801</td>\n",
       "      <td>2023</td>\n",
       "      <td>1</td>\n",
       "    </tr>\n",
       "    <tr>\n",
       "      <th>882</th>\n",
       "      <td>230386</td>\n",
       "      <td>1</td>\n",
       "      <td>빠*돌체(Pane Dolce)</td>\n",
       "      <td>빠네돌체</td>\n",
       "      <td>서울특별시 마포구 마포동 ***-*번지 빌딩 *층</td>\n",
       "      <td>서울시 마포구 마포동 388-5</td>\n",
       "      <td>20230120</td>\n",
       "      <td>4178</td>\n",
       "      <td>10</td>\n",
       "      <td>0507-1422-2559</td>\n",
       "      <td>새우크림  리조또</td>\n",
       "      <td>1</td>\n",
       "      <td>18000</td>\n",
       "      <td>18000</td>\n",
       "      <td>1846</td>\n",
       "      <td>20230120185929</td>\n",
       "      <td>2023</td>\n",
       "      <td>1</td>\n",
       "    </tr>\n",
       "    <tr>\n",
       "      <th>911</th>\n",
       "      <td>230386</td>\n",
       "      <td>1</td>\n",
       "      <td>빠*돌체(Pane Dolce)</td>\n",
       "      <td>빠네돌체</td>\n",
       "      <td>서울특별시 마포구 마포동 ***-*번지 빌딩 *층</td>\n",
       "      <td>서울시 마포구 마포동 388-5</td>\n",
       "      <td>20230127</td>\n",
       "      <td>4178</td>\n",
       "      <td>8</td>\n",
       "      <td>0507-1422-2559</td>\n",
       "      <td>새우크림</td>\n",
       "      <td>1</td>\n",
       "      <td>18000</td>\n",
       "      <td>18000</td>\n",
       "      <td>10000</td>\n",
       "      <td>20230127195950</td>\n",
       "      <td>2023</td>\n",
       "      <td>1</td>\n",
       "    </tr>\n",
       "    <tr>\n",
       "      <th>...</th>\n",
       "      <td>...</td>\n",
       "      <td>...</td>\n",
       "      <td>...</td>\n",
       "      <td>...</td>\n",
       "      <td>...</td>\n",
       "      <td>...</td>\n",
       "      <td>...</td>\n",
       "      <td>...</td>\n",
       "      <td>...</td>\n",
       "      <td>...</td>\n",
       "      <td>...</td>\n",
       "      <td>...</td>\n",
       "      <td>...</td>\n",
       "      <td>...</td>\n",
       "      <td>...</td>\n",
       "      <td>...</td>\n",
       "      <td>...</td>\n",
       "      <td>...</td>\n",
       "    </tr>\n",
       "    <tr>\n",
       "      <th>60263</th>\n",
       "      <td>238937</td>\n",
       "      <td>1</td>\n",
       "      <td>k*tchen 485</td>\n",
       "      <td>kitchen 485</td>\n",
       "      <td>서울특별시 마포구 서교동 ***-**번지 키친 ***호</td>\n",
       "      <td>서울시 마포구 서교동 399-24</td>\n",
       "      <td>20230115</td>\n",
       "      <td>4047</td>\n",
       "      <td>6</td>\n",
       "      <td>0507-1406-0485</td>\n",
       "      <td>제로콜라</td>\n",
       "      <td>1</td>\n",
       "      <td>3500</td>\n",
       "      <td>3500</td>\n",
       "      <td>129</td>\n",
       "      <td>20230115140003</td>\n",
       "      <td>2023</td>\n",
       "      <td>1</td>\n",
       "    </tr>\n",
       "    <tr>\n",
       "      <th>60282</th>\n",
       "      <td>238937</td>\n",
       "      <td>1</td>\n",
       "      <td>k*tchen 485</td>\n",
       "      <td>kitchen 485</td>\n",
       "      <td>서울특별시 마포구 서교동 ***-**번지 키친 ***호</td>\n",
       "      <td>서울시 마포구 서교동 399-24</td>\n",
       "      <td>20230119</td>\n",
       "      <td>4047</td>\n",
       "      <td>13</td>\n",
       "      <td>0507-1406-0485</td>\n",
       "      <td>TERRA/테라</td>\n",
       "      <td>2</td>\n",
       "      <td>5000</td>\n",
       "      <td>10000</td>\n",
       "      <td>1650</td>\n",
       "      <td>20230119205555</td>\n",
       "      <td>2023</td>\n",
       "      <td>1</td>\n",
       "    </tr>\n",
       "    <tr>\n",
       "      <th>60283</th>\n",
       "      <td>238937</td>\n",
       "      <td>1</td>\n",
       "      <td>k*tchen 485</td>\n",
       "      <td>kitchen 485</td>\n",
       "      <td>서울특별시 마포구 서교동 ***-**번지 키친 ***호</td>\n",
       "      <td>서울시 마포구 서교동 399-24</td>\n",
       "      <td>20230119</td>\n",
       "      <td>4047</td>\n",
       "      <td>13</td>\n",
       "      <td>0507-1406-0485</td>\n",
       "      <td>Prosciutto Crudo burata/부라타</td>\n",
       "      <td>1</td>\n",
       "      <td>27800</td>\n",
       "      <td>27800</td>\n",
       "      <td>4587</td>\n",
       "      <td>20230119205555</td>\n",
       "      <td>2023</td>\n",
       "      <td>1</td>\n",
       "    </tr>\n",
       "    <tr>\n",
       "      <th>61808</th>\n",
       "      <td>239153</td>\n",
       "      <td>1</td>\n",
       "      <td>크*이지카츠</td>\n",
       "      <td>크레이지카츠</td>\n",
       "      <td>서울특별시 마포구 합정동 ***-*번지</td>\n",
       "      <td>서울시 마포구 합정동 391-5 2층</td>\n",
       "      <td>20230106</td>\n",
       "      <td>4026</td>\n",
       "      <td>18</td>\n",
       "      <td>0507-1404-7219</td>\n",
       "      <td>퐁듀추가(커리)</td>\n",
       "      <td>2</td>\n",
       "      <td>4000</td>\n",
       "      <td>8000</td>\n",
       "      <td>5600</td>\n",
       "      <td>20230106132406</td>\n",
       "      <td>2023</td>\n",
       "      <td>1</td>\n",
       "    </tr>\n",
       "    <tr>\n",
       "      <th>62850</th>\n",
       "      <td>239153</td>\n",
       "      <td>1</td>\n",
       "      <td>크*이지카츠</td>\n",
       "      <td>크레이지카츠</td>\n",
       "      <td>서울특별시 마포구 합정동 ***-*번지</td>\n",
       "      <td>서울시 마포구 합정동 391-5 2층</td>\n",
       "      <td>20230225</td>\n",
       "      <td>4026</td>\n",
       "      <td>4</td>\n",
       "      <td>0507-1404-7219</td>\n",
       "      <td>반반 정식</td>\n",
       "      <td>1</td>\n",
       "      <td>15000</td>\n",
       "      <td>15000</td>\n",
       "      <td>10500</td>\n",
       "      <td>20230225122259</td>\n",
       "      <td>2023</td>\n",
       "      <td>2</td>\n",
       "    </tr>\n",
       "  </tbody>\n",
       "</table>\n",
       "<p>690 rows × 18 columns</p>\n",
       "</div>"
      ],
      "text/plain": [
       "       STORE_CD  POS_NO          STORE_NM          상호명  \\\n",
       "674      230386       1  빠*돌체(Pane Dolce)         빠네돌체   \n",
       "800      230386       1  빠*돌체(Pane Dolce)         빠네돌체   \n",
       "822      230386       1  빠*돌체(Pane Dolce)         빠네돌체   \n",
       "882      230386       1  빠*돌체(Pane Dolce)         빠네돌체   \n",
       "911      230386       1  빠*돌체(Pane Dolce)         빠네돌체   \n",
       "...         ...     ...               ...          ...   \n",
       "60263    238937       1       k*tchen 485  kitchen 485   \n",
       "60282    238937       1       k*tchen 485  kitchen 485   \n",
       "60283    238937       1       k*tchen 485  kitchen 485   \n",
       "61808    239153       1            크*이지카츠       크레이지카츠   \n",
       "62850    239153       1            크*이지카츠       크레이지카츠   \n",
       "\n",
       "                                 ADDR                ADDR_K  TRAN_YMD  ZIP_K  \\\n",
       "674       서울특별시 마포구 마포동 ***-*번지 빌딩 *층     서울시 마포구 마포동 388-5  20221203   4178   \n",
       "800       서울특별시 마포구 마포동 ***-*번지 빌딩 *층     서울시 마포구 마포동 388-5  20230104   4178   \n",
       "822       서울특별시 마포구 마포동 ***-*번지 빌딩 *층     서울시 마포구 마포동 388-5  20230107   4178   \n",
       "882       서울특별시 마포구 마포동 ***-*번지 빌딩 *층     서울시 마포구 마포동 388-5  20230120   4178   \n",
       "911       서울특별시 마포구 마포동 ***-*번지 빌딩 *층     서울시 마포구 마포동 388-5  20230127   4178   \n",
       "...                               ...                   ...       ...    ...   \n",
       "60263  서울특별시 마포구 서교동 ***-**번지 키친 ***호    서울시 마포구 서교동 399-24  20230115   4047   \n",
       "60282  서울특별시 마포구 서교동 ***-**번지 키친 ***호    서울시 마포구 서교동 399-24  20230119   4047   \n",
       "60283  서울특별시 마포구 서교동 ***-**번지 키친 ***호    서울시 마포구 서교동 399-24  20230119   4047   \n",
       "61808           서울특별시 마포구 합정동 ***-*번지  서울시 마포구 합정동 391-5 2층  20230106   4026   \n",
       "62850           서울특별시 마포구 합정동 ***-*번지  서울시 마포구 합정동 391-5 2층  20230225   4026   \n",
       "\n",
       "       TRAN_NO         PHONE_K                   PRODUCT_NM  QTY  PRICE  \\\n",
       "674         10  0507-1422-2559                         제로콜라    1   4000   \n",
       "800          5  0507-1422-2559                   쉬림프샐러드 파스타    1  22000   \n",
       "822         18  0507-1422-2559                        베이컨로제    1  18000   \n",
       "882         10  0507-1422-2559                    새우크림  리조또    1  18000   \n",
       "911          8  0507-1422-2559                         새우크림    1  18000   \n",
       "...        ...             ...                          ...  ...    ...   \n",
       "60263        6  0507-1406-0485                         제로콜라    1   3500   \n",
       "60282       13  0507-1406-0485                     TERRA/테라    2   5000   \n",
       "60283       13  0507-1406-0485  Prosciutto Crudo burata/부라타    1  27800   \n",
       "61808       18  0507-1404-7219                     퐁듀추가(커리)    2   4000   \n",
       "62850        4  0507-1404-7219                        반반 정식    1  15000   \n",
       "\n",
       "       TOTAL_AMT  TOTAL_SALES    TRAN_YMDTIME  YEAR  END_MONTH  \n",
       "674         4000         1000  20221203145707  2022         12  \n",
       "800        22000        15400  20230104135140  2023          1  \n",
       "822        18000         6850  20230107153801  2023          1  \n",
       "882        18000         1846  20230120185929  2023          1  \n",
       "911        18000        10000  20230127195950  2023          1  \n",
       "...          ...          ...             ...   ...        ...  \n",
       "60263       3500          129  20230115140003  2023          1  \n",
       "60282      10000         1650  20230119205555  2023          1  \n",
       "60283      27800         4587  20230119205555  2023          1  \n",
       "61808       8000         5600  20230106132406  2023          1  \n",
       "62850      15000        10500  20230225122259  2023          2  \n",
       "\n",
       "[690 rows x 18 columns]"
      ]
     },
     "execution_count": 13,
     "metadata": {},
     "output_type": "execute_result"
    }
   ],
   "source": [
    "df[df['TOTAL_AMT'] != df['TOTAL_SALES']]"
   ]
  },
  {
   "cell_type": "code",
   "execution_count": null,
   "id": "8f463aa1",
   "metadata": {},
   "outputs": [],
   "source": []
  },
  {
   "cell_type": "markdown",
   "id": "84fbc24a",
   "metadata": {},
   "source": [
    "# 매장별 월별 매출 계산하고 top5메뉴 정리한 데이터 정리 \n",
    "\n",
    "## 예시\n",
    "\n",
    "### 매장1 | 주소 | 12월 매출액 | 1월 매출액 | 2월 매출액 | 12월 top5 |1월 top5 | 2월 top5 | 메뉴로 유추한 필요 식재료"
   ]
  },
  {
   "cell_type": "code",
   "execution_count": 24,
   "id": "b36e533f",
   "metadata": {},
   "outputs": [],
   "source": [
    "# 상호명 ADDR_K, TRAN_YMD, PRODUCT_NM,TOTAL_AMT\n",
    "tmp_df = df[['상호명','ADDR_K','TRAN_YMD','PRODUCT_NM','TOTAL_AMT','YEAR','END_MONTH']]"
   ]
  },
  {
   "cell_type": "code",
   "execution_count": 26,
   "id": "33f8366d",
   "metadata": {},
   "outputs": [
    {
     "data": {
      "text/html": [
       "<div>\n",
       "<style scoped>\n",
       "    .dataframe tbody tr th:only-of-type {\n",
       "        vertical-align: middle;\n",
       "    }\n",
       "\n",
       "    .dataframe tbody tr th {\n",
       "        vertical-align: top;\n",
       "    }\n",
       "\n",
       "    .dataframe thead th {\n",
       "        text-align: right;\n",
       "    }\n",
       "</style>\n",
       "<table border=\"1\" class=\"dataframe\">\n",
       "  <thead>\n",
       "    <tr style=\"text-align: right;\">\n",
       "      <th></th>\n",
       "      <th>상호명</th>\n",
       "      <th>주소</th>\n",
       "      <th>날짜</th>\n",
       "      <th>메뉴</th>\n",
       "      <th>매출</th>\n",
       "      <th>연</th>\n",
       "      <th>월</th>\n",
       "    </tr>\n",
       "  </thead>\n",
       "  <tbody>\n",
       "    <tr>\n",
       "      <th>0</th>\n",
       "      <td>앨리스 바이 미니멜츠</td>\n",
       "      <td>서울시 마포구 성산로 128 마포중앙도서관 지하1층</td>\n",
       "      <td>20221201</td>\n",
       "      <td>아메리카노(HOT)</td>\n",
       "      <td>4000</td>\n",
       "      <td>2022</td>\n",
       "      <td>12</td>\n",
       "    </tr>\n",
       "    <tr>\n",
       "      <th>1</th>\n",
       "      <td>앨리스 바이 미니멜츠</td>\n",
       "      <td>서울시 마포구 성산로 128 마포중앙도서관 지하1층</td>\n",
       "      <td>20221201</td>\n",
       "      <td>샐러드피자</td>\n",
       "      <td>15000</td>\n",
       "      <td>2022</td>\n",
       "      <td>12</td>\n",
       "    </tr>\n",
       "    <tr>\n",
       "      <th>2</th>\n",
       "      <td>앨리스 바이 미니멜츠</td>\n",
       "      <td>서울시 마포구 성산로 128 마포중앙도서관 지하1층</td>\n",
       "      <td>20221201</td>\n",
       "      <td>에그마요브런치</td>\n",
       "      <td>7500</td>\n",
       "      <td>2022</td>\n",
       "      <td>12</td>\n",
       "    </tr>\n",
       "    <tr>\n",
       "      <th>3</th>\n",
       "      <td>앨리스 바이 미니멜츠</td>\n",
       "      <td>서울시 마포구 성산로 128 마포중앙도서관 지하1층</td>\n",
       "      <td>20221201</td>\n",
       "      <td>소세지추가</td>\n",
       "      <td>2000</td>\n",
       "      <td>2022</td>\n",
       "      <td>12</td>\n",
       "    </tr>\n",
       "    <tr>\n",
       "      <th>4</th>\n",
       "      <td>앨리스 바이 미니멜츠</td>\n",
       "      <td>서울시 마포구 성산로 128 마포중앙도서관 지하1층</td>\n",
       "      <td>20221201</td>\n",
       "      <td>아메리카노(ICE)</td>\n",
       "      <td>4000</td>\n",
       "      <td>2022</td>\n",
       "      <td>12</td>\n",
       "    </tr>\n",
       "  </tbody>\n",
       "</table>\n",
       "</div>"
      ],
      "text/plain": [
       "           상호명                            주소        날짜          메뉴     매출  \\\n",
       "0  앨리스 바이 미니멜츠  서울시 마포구 성산로 128 마포중앙도서관 지하1층  20221201  아메리카노(HOT)   4000   \n",
       "1  앨리스 바이 미니멜츠  서울시 마포구 성산로 128 마포중앙도서관 지하1층  20221201       샐러드피자  15000   \n",
       "2  앨리스 바이 미니멜츠  서울시 마포구 성산로 128 마포중앙도서관 지하1층  20221201     에그마요브런치   7500   \n",
       "3  앨리스 바이 미니멜츠  서울시 마포구 성산로 128 마포중앙도서관 지하1층  20221201       소세지추가   2000   \n",
       "4  앨리스 바이 미니멜츠  서울시 마포구 성산로 128 마포중앙도서관 지하1층  20221201  아메리카노(ICE)   4000   \n",
       "\n",
       "      연   월  \n",
       "0  2022  12  \n",
       "1  2022  12  \n",
       "2  2022  12  \n",
       "3  2022  12  \n",
       "4  2022  12  "
      ]
     },
     "execution_count": 26,
     "metadata": {},
     "output_type": "execute_result"
    }
   ],
   "source": [
    "tmp_df.head()"
   ]
  },
  {
   "cell_type": "code",
   "execution_count": 27,
   "id": "8ae41db4",
   "metadata": {},
   "outputs": [],
   "source": [
    "tmp_df.columns = ['상호명','주소','날짜','메뉴','매출','연','월']"
   ]
  },
  {
   "cell_type": "code",
   "execution_count": 38,
   "id": "38ae62eb",
   "metadata": {},
   "outputs": [],
   "source": [
    "# 전체 상호명\n",
    "total_store = tmp_df['상호명'].unique()\n",
    "# column들\n",
    "column_nm = ['주소','12월 매출액','1월 매출액','2월 매출액','전체 매출액','12월 top5','1월 top5','2월 top5']"
   ]
  },
  {
   "cell_type": "code",
   "execution_count": 41,
   "id": "223d605a",
   "metadata": {},
   "outputs": [],
   "source": [
    "result_df = pd.DataFrame(index= total_store, columns=column_nm ).reset_index()"
   ]
  },
  {
   "cell_type": "code",
   "execution_count": 80,
   "id": "17ff8f1e",
   "metadata": {},
   "outputs": [],
   "source": [
    "result_df.columns = ['상호명', '주소', '12월 매출액', '1월 매출액', '2월 매출액', '전체 매출액', '12월 top5',\n",
    "       '1월 top5', '2월 top5']\n",
    "result_df['주소'] = df['ADDR_K'].unique()"
   ]
  },
  {
   "cell_type": "code",
   "execution_count": 81,
   "id": "c0c3bde7",
   "metadata": {
    "scrolled": true
   },
   "outputs": [
    {
     "data": {
      "text/html": [
       "<div>\n",
       "<style scoped>\n",
       "    .dataframe tbody tr th:only-of-type {\n",
       "        vertical-align: middle;\n",
       "    }\n",
       "\n",
       "    .dataframe tbody tr th {\n",
       "        vertical-align: top;\n",
       "    }\n",
       "\n",
       "    .dataframe thead th {\n",
       "        text-align: right;\n",
       "    }\n",
       "</style>\n",
       "<table border=\"1\" class=\"dataframe\">\n",
       "  <thead>\n",
       "    <tr style=\"text-align: right;\">\n",
       "      <th></th>\n",
       "      <th>상호명</th>\n",
       "      <th>주소</th>\n",
       "      <th>12월 매출액</th>\n",
       "      <th>1월 매출액</th>\n",
       "      <th>2월 매출액</th>\n",
       "      <th>전체 매출액</th>\n",
       "      <th>12월 top5</th>\n",
       "      <th>1월 top5</th>\n",
       "      <th>2월 top5</th>\n",
       "    </tr>\n",
       "  </thead>\n",
       "  <tbody>\n",
       "    <tr>\n",
       "      <th>0</th>\n",
       "      <td>앨리스 바이 미니멜츠</td>\n",
       "      <td>서울시 마포구 성산로 128 마포중앙도서관 지하1층</td>\n",
       "      <td>936400</td>\n",
       "      <td>662900</td>\n",
       "      <td>687800</td>\n",
       "      <td>NaN</td>\n",
       "      <td>NaN</td>\n",
       "      <td>NaN</td>\n",
       "      <td>NaN</td>\n",
       "    </tr>\n",
       "    <tr>\n",
       "      <th>1</th>\n",
       "      <td>블루쿠치나</td>\n",
       "      <td>서울시 마포구 망원동 57-41</td>\n",
       "      <td>2019000</td>\n",
       "      <td>1444500</td>\n",
       "      <td>1258500</td>\n",
       "      <td>NaN</td>\n",
       "      <td>NaN</td>\n",
       "      <td>NaN</td>\n",
       "      <td>NaN</td>\n",
       "    </tr>\n",
       "    <tr>\n",
       "      <th>2</th>\n",
       "      <td>빠네돌체</td>\n",
       "      <td>서울시 마포구 마포동 388-5</td>\n",
       "      <td>2388000</td>\n",
       "      <td>2667500</td>\n",
       "      <td>2490000</td>\n",
       "      <td>NaN</td>\n",
       "      <td>NaN</td>\n",
       "      <td>NaN</td>\n",
       "      <td>NaN</td>\n",
       "    </tr>\n",
       "    <tr>\n",
       "      <th>3</th>\n",
       "      <td>덩크트레이</td>\n",
       "      <td>서울시 마포구 공덕동 234-8 1층</td>\n",
       "      <td>14242400</td>\n",
       "      <td>12530600</td>\n",
       "      <td>15468700</td>\n",
       "      <td>NaN</td>\n",
       "      <td>NaN</td>\n",
       "      <td>NaN</td>\n",
       "      <td>NaN</td>\n",
       "    </tr>\n",
       "    <tr>\n",
       "      <th>4</th>\n",
       "      <td>살롱드마르잔</td>\n",
       "      <td>서울시 마포구 동교동 148-12</td>\n",
       "      <td>9392000</td>\n",
       "      <td>3684000</td>\n",
       "      <td>3741500</td>\n",
       "      <td>NaN</td>\n",
       "      <td>NaN</td>\n",
       "      <td>NaN</td>\n",
       "      <td>NaN</td>\n",
       "    </tr>\n",
       "  </tbody>\n",
       "</table>\n",
       "</div>"
      ],
      "text/plain": [
       "           상호명                            주소   12월 매출액    1월 매출액    2월 매출액  \\\n",
       "0  앨리스 바이 미니멜츠  서울시 마포구 성산로 128 마포중앙도서관 지하1층    936400    662900    687800   \n",
       "1        블루쿠치나             서울시 마포구 망원동 57-41   2019000   1444500   1258500   \n",
       "2         빠네돌체             서울시 마포구 마포동 388-5   2388000   2667500   2490000   \n",
       "3        덩크트레이          서울시 마포구 공덕동 234-8 1층  14242400  12530600  15468700   \n",
       "4       살롱드마르잔            서울시 마포구 동교동 148-12   9392000   3684000   3741500   \n",
       "\n",
       "  전체 매출액 12월 top5 1월 top5 2월 top5  \n",
       "0    NaN      NaN     NaN     NaN  \n",
       "1    NaN      NaN     NaN     NaN  \n",
       "2    NaN      NaN     NaN     NaN  \n",
       "3    NaN      NaN     NaN     NaN  \n",
       "4    NaN      NaN     NaN     NaN  "
      ]
     },
     "execution_count": 81,
     "metadata": {},
     "output_type": "execute_result"
    }
   ],
   "source": [
    "result_df.head()"
   ]
  },
  {
   "cell_type": "code",
   "execution_count": 31,
   "id": "5a331493",
   "metadata": {},
   "outputs": [],
   "source": [
    "month_12_df = tmp_df[tmp_df['월']==12]\n",
    "month_1_df = tmp_df[tmp_df['월']==1]\n",
    "month_2_df = tmp_df[tmp_df['월']==2]\n",
    "\n",
    "month_12_df = month_12_df.set_index(np.array(range(len(month_12_df))))\n",
    "month_1_df = month_1_df.set_index(np.array(range(len(month_1_df))))\n",
    "month_2_df = month_2_df.set_index(np.array(range(len(month_2_df))))"
   ]
  },
  {
   "cell_type": "code",
   "execution_count": 49,
   "id": "50bccd07",
   "metadata": {},
   "outputs": [
    {
     "data": {
      "text/html": [
       "<div>\n",
       "<style scoped>\n",
       "    .dataframe tbody tr th:only-of-type {\n",
       "        vertical-align: middle;\n",
       "    }\n",
       "\n",
       "    .dataframe tbody tr th {\n",
       "        vertical-align: top;\n",
       "    }\n",
       "\n",
       "    .dataframe thead th {\n",
       "        text-align: right;\n",
       "    }\n",
       "</style>\n",
       "<table border=\"1\" class=\"dataframe\">\n",
       "  <thead>\n",
       "    <tr style=\"text-align: right;\">\n",
       "      <th></th>\n",
       "      <th>상호명</th>\n",
       "      <th>주소</th>\n",
       "      <th>날짜</th>\n",
       "      <th>메뉴</th>\n",
       "      <th>매출</th>\n",
       "      <th>연</th>\n",
       "      <th>월</th>\n",
       "    </tr>\n",
       "  </thead>\n",
       "  <tbody>\n",
       "    <tr>\n",
       "      <th>0</th>\n",
       "      <td>앨리스 바이 미니멜츠</td>\n",
       "      <td>서울시 마포구 성산로 128 마포중앙도서관 지하1층</td>\n",
       "      <td>20221201</td>\n",
       "      <td>아메리카노(HOT)</td>\n",
       "      <td>4000</td>\n",
       "      <td>2022</td>\n",
       "      <td>12</td>\n",
       "    </tr>\n",
       "    <tr>\n",
       "      <th>1</th>\n",
       "      <td>앨리스 바이 미니멜츠</td>\n",
       "      <td>서울시 마포구 성산로 128 마포중앙도서관 지하1층</td>\n",
       "      <td>20221201</td>\n",
       "      <td>샐러드피자</td>\n",
       "      <td>15000</td>\n",
       "      <td>2022</td>\n",
       "      <td>12</td>\n",
       "    </tr>\n",
       "    <tr>\n",
       "      <th>2</th>\n",
       "      <td>앨리스 바이 미니멜츠</td>\n",
       "      <td>서울시 마포구 성산로 128 마포중앙도서관 지하1층</td>\n",
       "      <td>20221201</td>\n",
       "      <td>에그마요브런치</td>\n",
       "      <td>7500</td>\n",
       "      <td>2022</td>\n",
       "      <td>12</td>\n",
       "    </tr>\n",
       "    <tr>\n",
       "      <th>3</th>\n",
       "      <td>앨리스 바이 미니멜츠</td>\n",
       "      <td>서울시 마포구 성산로 128 마포중앙도서관 지하1층</td>\n",
       "      <td>20221201</td>\n",
       "      <td>소세지추가</td>\n",
       "      <td>2000</td>\n",
       "      <td>2022</td>\n",
       "      <td>12</td>\n",
       "    </tr>\n",
       "    <tr>\n",
       "      <th>4</th>\n",
       "      <td>앨리스 바이 미니멜츠</td>\n",
       "      <td>서울시 마포구 성산로 128 마포중앙도서관 지하1층</td>\n",
       "      <td>20221201</td>\n",
       "      <td>아메리카노(ICE)</td>\n",
       "      <td>4000</td>\n",
       "      <td>2022</td>\n",
       "      <td>12</td>\n",
       "    </tr>\n",
       "  </tbody>\n",
       "</table>\n",
       "</div>"
      ],
      "text/plain": [
       "           상호명                            주소        날짜          메뉴     매출  \\\n",
       "0  앨리스 바이 미니멜츠  서울시 마포구 성산로 128 마포중앙도서관 지하1층  20221201  아메리카노(HOT)   4000   \n",
       "1  앨리스 바이 미니멜츠  서울시 마포구 성산로 128 마포중앙도서관 지하1층  20221201       샐러드피자  15000   \n",
       "2  앨리스 바이 미니멜츠  서울시 마포구 성산로 128 마포중앙도서관 지하1층  20221201     에그마요브런치   7500   \n",
       "3  앨리스 바이 미니멜츠  서울시 마포구 성산로 128 마포중앙도서관 지하1층  20221201       소세지추가   2000   \n",
       "4  앨리스 바이 미니멜츠  서울시 마포구 성산로 128 마포중앙도서관 지하1층  20221201  아메리카노(ICE)   4000   \n",
       "\n",
       "      연   월  \n",
       "0  2022  12  \n",
       "1  2022  12  \n",
       "2  2022  12  \n",
       "3  2022  12  \n",
       "4  2022  12  "
      ]
     },
     "execution_count": 49,
     "metadata": {},
     "output_type": "execute_result"
    }
   ],
   "source": [
    "month_12_df.head()"
   ]
  },
  {
   "cell_type": "code",
   "execution_count": 72,
   "id": "dc45e25a",
   "metadata": {},
   "outputs": [],
   "source": [
    "# 매출부터 \n",
    "sell_12 = month_12_df.groupby('상호명')['매출'].sum()\n",
    "sell_1 = month_1_df.groupby('상호명')['매출'].sum()\n",
    "sell_2 = month_2_df.groupby('상호명')['매출'].sum()\n",
    "\n",
    "for i in sell_12.index:\n",
    "    result_df.loc[result_df['상호명']==i, '12월 매출액'] = sell_12[i]\n",
    "    \n",
    "for i in sell_1.index:\n",
    "    result_df.loc[result_df['상호명']==i, '1월 매출액'] = sell_1[i]\n",
    "    \n",
    "for i in sell_2.index:\n",
    "    result_df.loc[result_df['상호명']==i, '2월 매출액'] = sell_2[i]\n",
    "    \n",
    "result_df['전체 매출액'] = result_df['12월 매출액']+result_df['1월 매출액']+result_df['2월 매출액']\n",
    "\n",
    "result_df.head()"
   ]
  },
  {
   "cell_type": "code",
   "execution_count": 101,
   "id": "9d649273",
   "metadata": {},
   "outputs": [],
   "source": [
    "#메뉴 빈도 조사\n",
    "#top5 기준 매출액 기준"
   ]
  },
  {
   "cell_type": "code",
   "execution_count": 179,
   "id": "7411e1ff",
   "metadata": {},
   "outputs": [
    {
     "data": {
      "text/html": [
       "<div>\n",
       "<style scoped>\n",
       "    .dataframe tbody tr th:only-of-type {\n",
       "        vertical-align: middle;\n",
       "    }\n",
       "\n",
       "    .dataframe tbody tr th {\n",
       "        vertical-align: top;\n",
       "    }\n",
       "\n",
       "    .dataframe thead th {\n",
       "        text-align: right;\n",
       "    }\n",
       "</style>\n",
       "<table border=\"1\" class=\"dataframe\">\n",
       "  <thead>\n",
       "    <tr style=\"text-align: right;\">\n",
       "      <th></th>\n",
       "      <th>상호명</th>\n",
       "      <th>주소</th>\n",
       "      <th>12월 매출액</th>\n",
       "      <th>1월 매출액</th>\n",
       "      <th>2월 매출액</th>\n",
       "      <th>전체 매출액</th>\n",
       "      <th>12월 top5</th>\n",
       "      <th>1월 top5</th>\n",
       "      <th>2월 top5</th>\n",
       "    </tr>\n",
       "  </thead>\n",
       "  <tbody>\n",
       "    <tr>\n",
       "      <th>0</th>\n",
       "      <td>앨리스 바이 미니멜츠</td>\n",
       "      <td>서울시 마포구 성산로 128 마포중앙도서관 지하1층</td>\n",
       "      <td>936400</td>\n",
       "      <td>662900</td>\n",
       "      <td>687800</td>\n",
       "      <td>2287100</td>\n",
       "      <td>[아메리카노(ICE), 아메리카노(HOT), 카페라떼(HOT), 샐러드피자, 앨리스...</td>\n",
       "      <td>NaN</td>\n",
       "      <td>NaN</td>\n",
       "    </tr>\n",
       "    <tr>\n",
       "      <th>1</th>\n",
       "      <td>블루쿠치나</td>\n",
       "      <td>서울시 마포구 망원동 57-41</td>\n",
       "      <td>2019000</td>\n",
       "      <td>1444500</td>\n",
       "      <td>1258500</td>\n",
       "      <td>4722000</td>\n",
       "      <td>[통오징어 먹물 리조또, 스테이크크림파스타, 라자냐, 명란크림 파스타, 알리오올리오...</td>\n",
       "      <td>NaN</td>\n",
       "      <td>NaN</td>\n",
       "    </tr>\n",
       "    <tr>\n",
       "      <th>2</th>\n",
       "      <td>빠네돌체</td>\n",
       "      <td>서울시 마포구 마포동 388-5</td>\n",
       "      <td>2388000</td>\n",
       "      <td>2667500</td>\n",
       "      <td>2490000</td>\n",
       "      <td>7545500</td>\n",
       "      <td>[P)마르게리타, 인세트, 브리스킷 스뫼레브뢰, P)BBQ 피자, 베이컨로제]</td>\n",
       "      <td>NaN</td>\n",
       "      <td>NaN</td>\n",
       "    </tr>\n",
       "    <tr>\n",
       "      <th>3</th>\n",
       "      <td>덩크트레이</td>\n",
       "      <td>서울시 마포구 공덕동 234-8 1층</td>\n",
       "      <td>14242400</td>\n",
       "      <td>12530600</td>\n",
       "      <td>15468700</td>\n",
       "      <td>42241700</td>\n",
       "      <td>[스텔라, 테라, 디트로이트 (페퍼로니), 버드와이저, 덩크 치킨]</td>\n",
       "      <td>NaN</td>\n",
       "      <td>NaN</td>\n",
       "    </tr>\n",
       "    <tr>\n",
       "      <th>4</th>\n",
       "      <td>살롱드마르잔</td>\n",
       "      <td>서울시 마포구 동교동 148-12</td>\n",
       "      <td>9392000</td>\n",
       "      <td>3684000</td>\n",
       "      <td>3741500</td>\n",
       "      <td>16817500</td>\n",
       "      <td>[쉬림프오일파스타, 마르게리따피자, 로제파스타, 비프스테이크, 버팔로윙]</td>\n",
       "      <td>NaN</td>\n",
       "      <td>NaN</td>\n",
       "    </tr>\n",
       "  </tbody>\n",
       "</table>\n",
       "</div>"
      ],
      "text/plain": [
       "           상호명                            주소   12월 매출액    1월 매출액    2월 매출액  \\\n",
       "0  앨리스 바이 미니멜츠  서울시 마포구 성산로 128 마포중앙도서관 지하1층    936400    662900    687800   \n",
       "1        블루쿠치나             서울시 마포구 망원동 57-41   2019000   1444500   1258500   \n",
       "2         빠네돌체             서울시 마포구 마포동 388-5   2388000   2667500   2490000   \n",
       "3        덩크트레이          서울시 마포구 공덕동 234-8 1층  14242400  12530600  15468700   \n",
       "4       살롱드마르잔            서울시 마포구 동교동 148-12   9392000   3684000   3741500   \n",
       "\n",
       "     전체 매출액                                           12월 top5 1월 top5 2월 top5  \n",
       "0   2287100  [아메리카노(ICE), 아메리카노(HOT), 카페라떼(HOT), 샐러드피자, 앨리스...     NaN     NaN  \n",
       "1   4722000  [통오징어 먹물 리조또, 스테이크크림파스타, 라자냐, 명란크림 파스타, 알리오올리오...     NaN     NaN  \n",
       "2   7545500        [P)마르게리타, 인세트, 브리스킷 스뫼레브뢰, P)BBQ 피자, 베이컨로제]     NaN     NaN  \n",
       "3  42241700              [스텔라, 테라, 디트로이트 (페퍼로니), 버드와이저, 덩크 치킨]     NaN     NaN  \n",
       "4  16817500           [쉬림프오일파스타, 마르게리따피자, 로제파스타, 비프스테이크, 버팔로윙]     NaN     NaN  "
      ]
     },
     "execution_count": 179,
     "metadata": {},
     "output_type": "execute_result"
    }
   ],
   "source": [
    "result_df.head()"
   ]
  },
  {
   "cell_type": "code",
   "execution_count": 183,
   "id": "50554c2a",
   "metadata": {
    "scrolled": true
   },
   "outputs": [],
   "source": [
    "sales_12 = month_12_df.groupby(['상호명','메뉴']).sum()\n",
    "\n",
    "# 식당별 매출이 높은 상위 3개의 메뉴 선택\n",
    "sales_12_top5 = sales_12.groupby('상호명').apply(lambda x: x.nlargest(5, '매출'))\n",
    "\n",
    "\n",
    "sales_12_top5.index.names = ['상호명','상호명1','메뉴']\n",
    "\n",
    "sales_12_top5 = sales_12_top5.reset_index()\n",
    "\n",
    "top_5_12_df = sales_12_top5.groupby('상호명')['메뉴'].apply(list).reset_index(name='top 5 메뉴')\n",
    "\n",
    "for i in top_5_12_df['상호명']:\n",
    "    top5= top_5_12_df.loc[top_5_12_df['상호명']==i,'top 5 메뉴']\n",
    "    result_df.loc[result_df['상호명']==i, '12월 top5'] = np.array(top5)\n",
    "\n",
    "###########################################################################\n",
    "\n",
    "sales_1 = month_1_df.groupby(['상호명','메뉴']).sum()\n",
    "\n",
    "# 식당별 매출이 높은 상위 3개의 메뉴 선택\n",
    "sales_1_top5 = sales_1.groupby('상호명').apply(lambda x: x.nlargest(5, '매출'))\n",
    "\n",
    "\n",
    "sales_1_top5.index.names = ['상호명','상호명1','메뉴']\n",
    "\n",
    "sales_1_top5 = sales_1_top5.reset_index()\n",
    "\n",
    "top_5_1_df = sales_1_top5.groupby('상호명')['메뉴'].apply(list).reset_index(name='top 5 메뉴')\n",
    "\n",
    "for i in top_5_1_df['상호명']:\n",
    "    top5= top_5_1_df.loc[top_5_1_df['상호명']==i,'top 5 메뉴']\n",
    "    result_df.loc[result_df['상호명']==i, '1월 top5'] = np.array(top5)\n",
    "    \n",
    "###########################################################################\n",
    "\n",
    "sales_2 = month_2_df.groupby(['상호명','메뉴']).sum()\n",
    "\n",
    "# 식당별 매출이 높은 상위 3개의 메뉴 선택\n",
    "sales_2_top5 = sales_2.groupby('상호명').apply(lambda x: x.nlargest(5, '매출'))\n",
    "\n",
    "\n",
    "sales_2_top5.index.names = ['상호명','상호명1','메뉴']\n",
    "\n",
    "sales_2_top5 = sales_2_top5.reset_index()\n",
    "\n",
    "top_5_2_df = sales_2_top5.groupby('상호명')['메뉴'].apply(list).reset_index(name='top 5 메뉴')\n",
    "\n",
    "for i in top_5_2_df['상호명']:\n",
    "    top5= top_5_2_df.loc[top_5_2_df['상호명']==i,'top 5 메뉴']\n",
    "    result_df.loc[result_df['상호명']==i, '2월 top5'] = np.array(top5)\n",
    "    "
   ]
  },
  {
   "cell_type": "code",
   "execution_count": 184,
   "id": "b13536bc",
   "metadata": {
    "scrolled": true
   },
   "outputs": [
    {
     "data": {
      "text/html": [
       "<div>\n",
       "<style scoped>\n",
       "    .dataframe tbody tr th:only-of-type {\n",
       "        vertical-align: middle;\n",
       "    }\n",
       "\n",
       "    .dataframe tbody tr th {\n",
       "        vertical-align: top;\n",
       "    }\n",
       "\n",
       "    .dataframe thead th {\n",
       "        text-align: right;\n",
       "    }\n",
       "</style>\n",
       "<table border=\"1\" class=\"dataframe\">\n",
       "  <thead>\n",
       "    <tr style=\"text-align: right;\">\n",
       "      <th></th>\n",
       "      <th>상호명</th>\n",
       "      <th>주소</th>\n",
       "      <th>12월 매출액</th>\n",
       "      <th>1월 매출액</th>\n",
       "      <th>2월 매출액</th>\n",
       "      <th>전체 매출액</th>\n",
       "      <th>12월 top5</th>\n",
       "      <th>1월 top5</th>\n",
       "      <th>2월 top5</th>\n",
       "    </tr>\n",
       "  </thead>\n",
       "  <tbody>\n",
       "    <tr>\n",
       "      <th>0</th>\n",
       "      <td>앨리스 바이 미니멜츠</td>\n",
       "      <td>서울시 마포구 성산로 128 마포중앙도서관 지하1층</td>\n",
       "      <td>936400</td>\n",
       "      <td>662900</td>\n",
       "      <td>687800</td>\n",
       "      <td>2287100</td>\n",
       "      <td>[아메리카노(ICE), 아메리카노(HOT), 카페라떼(HOT), 샐러드피자, 앨리스...</td>\n",
       "      <td>[파니니브런치, 아메리카노(HOT), 쉬림프로제파스타, 바닐라라떼(HOT), 스프링...</td>\n",
       "      <td>[앨리스브런치, 스프링어니언 크림파스타, 그릴드치킨시저샐러드, 아메리카노(ICE),...</td>\n",
       "    </tr>\n",
       "    <tr>\n",
       "      <th>1</th>\n",
       "      <td>블루쿠치나</td>\n",
       "      <td>서울시 마포구 망원동 57-41</td>\n",
       "      <td>2019000</td>\n",
       "      <td>1444500</td>\n",
       "      <td>1258500</td>\n",
       "      <td>4722000</td>\n",
       "      <td>[통오징어 먹물 리조또, 스테이크크림파스타, 라자냐, 명란크림 파스타, 알리오올리오...</td>\n",
       "      <td>[통오징어 먹물 리조또, 명란크림 파스타, 알리오올리오루꼴라, 스테이크크림 리조또,...</td>\n",
       "      <td>[통오징어 먹물 리조또, 스테이크크림파스타, 해산물 매운 국물 파스타, 알리오올리오...</td>\n",
       "    </tr>\n",
       "    <tr>\n",
       "      <th>2</th>\n",
       "      <td>빠네돌체</td>\n",
       "      <td>서울시 마포구 마포동 388-5</td>\n",
       "      <td>2388000</td>\n",
       "      <td>2667500</td>\n",
       "      <td>2490000</td>\n",
       "      <td>7545500</td>\n",
       "      <td>[P)마르게리타, 인세트, 브리스킷 스뫼레브뢰, P)BBQ 피자, 베이컨로제]</td>\n",
       "      <td>[기타, 새우로제, 브리스킷 스뫼레브뢰, 새우크림, P)마르게리타]</td>\n",
       "      <td>[P)마르게리타, 연어샐러드, 새우로제, 연어큐브 스뫼레브뢰, P)BBQ 피자]</td>\n",
       "    </tr>\n",
       "    <tr>\n",
       "      <th>3</th>\n",
       "      <td>덩크트레이</td>\n",
       "      <td>서울시 마포구 공덕동 234-8 1층</td>\n",
       "      <td>14242400</td>\n",
       "      <td>12530600</td>\n",
       "      <td>15468700</td>\n",
       "      <td>42241700</td>\n",
       "      <td>[스텔라, 테라, 디트로이트 (페퍼로니), 버드와이저, 덩크 치킨]</td>\n",
       "      <td>[테라, 덩크 치킨, 덩크 얼그레이 하이볼, 디트로이트 (루꼴라), 디트로이트 (페...</td>\n",
       "      <td>[대관 및 예약, 스텔라, 디트로이트 (페퍼로니), 디트로이트 (루꼴라), 테라]</td>\n",
       "    </tr>\n",
       "    <tr>\n",
       "      <th>4</th>\n",
       "      <td>살롱드마르잔</td>\n",
       "      <td>서울시 마포구 동교동 148-12</td>\n",
       "      <td>9392000</td>\n",
       "      <td>3684000</td>\n",
       "      <td>3741500</td>\n",
       "      <td>16817500</td>\n",
       "      <td>[쉬림프오일파스타, 마르게리따피자, 로제파스타, 비프스테이크, 버팔로윙]</td>\n",
       "      <td>[마르게리따피자, 치킨, 라구파이, 커피Ice, 레드 글라스와인]</td>\n",
       "      <td>[커피Ice, 라구파이, 마르게리따피자, 페페로니피자, 더치베이비]</td>\n",
       "    </tr>\n",
       "  </tbody>\n",
       "</table>\n",
       "</div>"
      ],
      "text/plain": [
       "           상호명                            주소   12월 매출액    1월 매출액    2월 매출액  \\\n",
       "0  앨리스 바이 미니멜츠  서울시 마포구 성산로 128 마포중앙도서관 지하1층    936400    662900    687800   \n",
       "1        블루쿠치나             서울시 마포구 망원동 57-41   2019000   1444500   1258500   \n",
       "2         빠네돌체             서울시 마포구 마포동 388-5   2388000   2667500   2490000   \n",
       "3        덩크트레이          서울시 마포구 공덕동 234-8 1층  14242400  12530600  15468700   \n",
       "4       살롱드마르잔            서울시 마포구 동교동 148-12   9392000   3684000   3741500   \n",
       "\n",
       "     전체 매출액                                           12월 top5  \\\n",
       "0   2287100  [아메리카노(ICE), 아메리카노(HOT), 카페라떼(HOT), 샐러드피자, 앨리스...   \n",
       "1   4722000  [통오징어 먹물 리조또, 스테이크크림파스타, 라자냐, 명란크림 파스타, 알리오올리오...   \n",
       "2   7545500        [P)마르게리타, 인세트, 브리스킷 스뫼레브뢰, P)BBQ 피자, 베이컨로제]   \n",
       "3  42241700              [스텔라, 테라, 디트로이트 (페퍼로니), 버드와이저, 덩크 치킨]   \n",
       "4  16817500           [쉬림프오일파스타, 마르게리따피자, 로제파스타, 비프스테이크, 버팔로윙]   \n",
       "\n",
       "                                             1월 top5  \\\n",
       "0  [파니니브런치, 아메리카노(HOT), 쉬림프로제파스타, 바닐라라떼(HOT), 스프링...   \n",
       "1  [통오징어 먹물 리조또, 명란크림 파스타, 알리오올리오루꼴라, 스테이크크림 리조또,...   \n",
       "2              [기타, 새우로제, 브리스킷 스뫼레브뢰, 새우크림, P)마르게리타]   \n",
       "3  [테라, 덩크 치킨, 덩크 얼그레이 하이볼, 디트로이트 (루꼴라), 디트로이트 (페...   \n",
       "4               [마르게리따피자, 치킨, 라구파이, 커피Ice, 레드 글라스와인]   \n",
       "\n",
       "                                             2월 top5  \n",
       "0  [앨리스브런치, 스프링어니언 크림파스타, 그릴드치킨시저샐러드, 아메리카노(ICE),...  \n",
       "1  [통오징어 먹물 리조또, 스테이크크림파스타, 해산물 매운 국물 파스타, 알리오올리오...  \n",
       "2       [P)마르게리타, 연어샐러드, 새우로제, 연어큐브 스뫼레브뢰, P)BBQ 피자]  \n",
       "3      [대관 및 예약, 스텔라, 디트로이트 (페퍼로니), 디트로이트 (루꼴라), 테라]  \n",
       "4              [커피Ice, 라구파이, 마르게리따피자, 페페로니피자, 더치베이비]  "
      ]
     },
     "execution_count": 184,
     "metadata": {},
     "output_type": "execute_result"
    }
   ],
   "source": [
    "result_df.head()"
   ]
  },
  {
   "cell_type": "code",
   "execution_count": 220,
   "id": "f55894bf",
   "metadata": {},
   "outputs": [],
   "source": [
    "result_df['사이즈'] = 10"
   ]
  },
  {
   "cell_type": "markdown",
   "id": "053ec11d",
   "metadata": {},
   "source": [
    "# 시각화"
   ]
  },
  {
   "cell_type": "code",
   "execution_count": 221,
   "id": "de7a6c5b",
   "metadata": {},
   "outputs": [],
   "source": [
    "#주소 -> 위도 경도 변환\n",
    "from geopy.geocoders import Nominatim\n",
    "import pandas as pd\n",
    "import plotly.express as px\n",
    "\n",
    "def address_lat(address):\n",
    "\n",
    "    geolocoder = Nominatim(user_agent = 'South Korea', timeout=None)\n",
    "    idx = address.find('(')\n",
    "    \n",
    "    address = address[:idx-1]\n",
    "    \n",
    "    geo = geolocoder.geocode(address)\n",
    "    #crd = {\"lat\": str(geo.latitude), \"lng\": str(geo.longitude)}\n",
    "    \n",
    "    lat = geo.latitude\n",
    "    \n",
    "    return lat\n",
    "\n",
    "def address_lng(address):\n",
    "    geolocoder = Nominatim(user_agent = 'South Korea', timeout=None)\n",
    "    idx = address.find('(')\n",
    "    \n",
    "    address = address[:idx-1]\n",
    "    \n",
    "    geo = geolocoder.geocode(address)\n",
    "    #crd = {\"lat\": str(geo.latitude), \"lng\": str(geo.longitude)}\n",
    "    \n",
    "    lng = geo.longitude\n",
    "    \n",
    "\n",
    "    return lng\n",
    "\n",
    "#그림 그리기\n",
    "def plotly_ploting(df):\n",
    "    \n",
    "\n",
    "    lat =df['주소'].apply(address_lat)\n",
    "    lng =df['주소'].apply(address_lng)\n",
    "\n",
    "    df['lat']=lat\n",
    "    df['lng']=lng\n",
    "    \n",
    "    fig = px.scatter_mapbox(df, lat='lat', lon='lng', hover_name='상호명',\n",
    "                            hover_data=['12월 매출액','1월 매출액','2월 매출액','12월 top5','1월 top5','2월 top5'],\n",
    "                           size='사이즈')\n",
    "    fig.update_layout(mapbox_style = \"open-street-map\")\n",
    "    fig.show()\n",
    "    \n",
    "def make_plot_complete(df):\n",
    "    \n",
    "    ploted_map = plotly_ploting(df)\n",
    "    \n",
    "    return ploted_map"
   ]
  },
  {
   "cell_type": "code",
   "execution_count": 222,
   "id": "08e263c8",
   "metadata": {},
   "outputs": [],
   "source": [
    "import re\n",
    "\n",
    "def extract_address(text):\n",
    "    pattern = re.compile(r'서울시\\s마포구\\s\\w+\\s\\d+(-\\d+)?')\n",
    "    match = pattern.search(text)\n",
    "    if match:\n",
    "        return match.group()"
   ]
  },
  {
   "cell_type": "code",
   "execution_count": 223,
   "id": "d573d2c2",
   "metadata": {},
   "outputs": [],
   "source": [
    "result_df['주소'] = result_df['주소'].apply(extract_address)"
   ]
  },
  {
   "cell_type": "code",
   "execution_count": 224,
   "id": "32e30c66",
   "metadata": {},
   "outputs": [
    {
     "data": {
      "application/vnd.plotly.v1+json": {
       "config": {
        "plotlyServerURL": "https://plotly.com"
       },
       "data": [
        {
         "customdata": [
          [
           936400,
           662900,
           687800,
           [
            "아메리카노(ICE)",
            "아메리카노(HOT)",
            "카페라떼(HOT)",
            "샐러드피자",
            "앨리스브런치"
           ],
           [
            "파니니브런치",
            "아메리카노(HOT)",
            "쉬림프로제파스타",
            "바닐라라떼(HOT)",
            "스프링어니언 크림파스타"
           ],
           [
            "앨리스브런치",
            "스프링어니언 크림파스타",
            "그릴드치킨시저샐러드",
            "아메리카노(ICE)",
            "아메리카노(HOT)"
           ]
          ],
          [
           2019000,
           1444500,
           1258500,
           [
            "통오징어 먹물 리조또",
            "스테이크크림파스타",
            "라자냐",
            "명란크림 파스타",
            "알리오올리오루꼴라"
           ],
           [
            "통오징어 먹물 리조또",
            "명란크림 파스타",
            "알리오올리오루꼴라",
            "스테이크크림 리조또",
            "감바스 알 아히요"
           ],
           [
            "통오징어 먹물 리조또",
            "스테이크크림파스타",
            "해산물 매운 국물 파스타",
            "알리오올리오루꼴라",
            "라자냐"
           ]
          ],
          [
           2388000,
           2667500,
           2490000,
           [
            "P)마르게리타",
            "인세트",
            "브리스킷 스뫼레브뢰",
            "P)BBQ 피자",
            "베이컨로제"
           ],
           [
            "기타",
            "새우로제",
            "브리스킷 스뫼레브뢰",
            "새우크림",
            "P)마르게리타"
           ],
           [
            "P)마르게리타",
            "연어샐러드",
            "새우로제",
            "연어큐브 스뫼레브뢰",
            "P)BBQ 피자"
           ]
          ],
          [
           14242400,
           12530600,
           15468700,
           [
            "스텔라",
            "테라",
            "디트로이트 (페퍼로니)",
            "버드와이저",
            "덩크 치킨"
           ],
           [
            "테라",
            "덩크 치킨",
            "덩크 얼그레이 하이볼",
            "디트로이트 (루꼴라)",
            "디트로이트 (페퍼로니)"
           ],
           [
            "대관 및 예약",
            "스텔라",
            "디트로이트 (페퍼로니)",
            "디트로이트 (루꼴라)",
            "테라"
           ]
          ],
          [
           9392000,
           3684000,
           3741500,
           [
            "쉬림프오일파스타",
            "마르게리따피자",
            "로제파스타",
            "비프스테이크",
            "버팔로윙"
           ],
           [
            "마르게리따피자",
            "치킨",
            "라구파이",
            "커피Ice",
            "레드 글라스와인"
           ],
           [
            "커피Ice",
            "라구파이",
            "마르게리따피자",
            "페페로니피자",
            "더치베이비"
           ]
          ],
          [
           365700,
           840100,
           1037800,
           [
            "치즈돈카츠(정식)",
            "감성카츠(정식)",
            "히레카츠(정식)",
            "생맥주",
            "김치나베우동정식"
           ],
           [
            "히레카츠(정식)",
            "모듬카츠(정식)",
            "김치나베우동정식",
            "히레카츠",
            "감성카츠(정식)"
           ],
           [
            "김치나베우동정식",
            "히레카츠(정식)",
            "모듬카츠(정식)",
            "얼큰오뎅우동정식",
            "레이디카츠(정식)"
           ]
          ],
          [
           6282900,
           6162400,
           5259300,
           [
            "소코아카레",
            "반반카레",
            "아보카도 연어냉우동",
            "에비카레",
            "소코동"
           ],
           [
            "소코아카레",
            "반반카레",
            "아보카도 연어냉우동",
            "소코동",
            "토리카레"
           ],
           [
            "소코아카레",
            "반반카레",
            "아보카도 연어냉우동",
            "에비카레",
            "마제카레우동"
           ]
          ],
          [
           936400,
           4943000,
           5705500,
           null,
           [
            "회산물모둠",
            "알마니 산오징어",
            "바지락술찜",
            "미나리새우전",
            "새로"
           ],
           [
            "회산물모둠",
            "참이슬",
            "광어+우럭+해산물세트",
            "알마니 산오징어",
            "새로"
           ]
          ],
          [
           1138800,
           728100,
           838700,
           [
            "아이스 아메리카노",
            "아메리카노",
            "하이볼",
            "카모마일",
            "얼그레이"
           ],
           [
            "아메리카노",
            "아이스 아메리카노",
            "카페라떼",
            "레몬에이드",
            "아이스 초코라떼"
           ],
           [
            "아이스 아메리카노",
            "아메리카노",
            "밀크크레이프",
            "카페라떼",
            "딸기주스"
           ]
          ],
          [
           10030000,
           5438000,
           5812500,
           [
            "인 코스 A",
            "트러플 뇨끼",
            "슈림프 잠발라야",
            "인 코스 B",
            "세트 A 잠발"
           ],
           [
            "슈림프 잠발라야",
            "트러플 뇨끼",
            "스탭밀 파스타",
            "세트B 로제 750",
            "벌꿀 단호박 파스타"
           ],
           [
            "슈림프 잠발라야",
            "스탭밀 파스타",
            "트러플 뇨끼",
            "쉬림프와루골라로제파스타",
            "세트B 로제 750"
           ]
          ],
          [
           1895000,
           1228500,
           1108000,
           [
            "코코가츠",
            "돈까스김치찌개(1인)",
            "치즈가츠",
            "카레가츠",
            "모듬가츠"
           ],
           [
            "코코가츠(대)",
            "코코가츠",
            "치즈가츠",
            "가츠동",
            "우동,돈까스"
           ],
           [
            "코코가츠",
            "카레가츠",
            "돈까스김치찌개(1인)",
            "치즈가츠",
            "코코가츠(대)"
           ]
          ],
          [
           5944500,
           7180000,
           6360500,
           [
            "얼큰돈카츠",
            "베이직카츠",
            "베이직25정식",
            "떡볶이돈까스",
            "치즈25정식"
           ],
           [
            "얼큰돈카츠",
            "베이직카츠",
            "치즈25정식",
            "베이직25정식",
            "치즈카츠"
           ],
           [
            "얼큰돈카츠",
            "베이직카츠",
            "베이직25정식",
            "치즈25정식",
            "치즈카츠"
           ]
          ],
          [
           11587600,
           11420400,
           11803300,
           [
            "오므카레(중)",
            "오므카레(소)",
            "치킨가라아게",
            "토모토카레(중)",
            "우리돈생돈카츠"
           ],
           [
            "오므카레(중)",
            "오므카레(소)",
            "치킨가라아게",
            "우리돈생돈카츠",
            "토모토카레(중)"
           ],
           [
            "오므카레(중)",
            "오므카레(소)",
            "치킨가라아게",
            "토모토카레(중)",
            "우리돈생돈카츠"
           ]
          ],
          [
           936400,
           701700,
           825100,
           null,
           [
            "노스트랄레(화이트)",
            "D투움바파스타",
            "ice 라떼",
            "D나폴리탄 파스타",
            "hot 아메리카노"
           ],
           [
            "ice 아메리카노",
            "hot 아메리카노",
            "버터카야",
            "투움바 set",
            "D바질크림 파스타"
           ]
          ],
          [
           63581700,
           63212500,
           72623000,
           [
            "감성그릴드파히타",
            "얼티메이트그릴드플래터",
            "트리플미트파히타",
            "쉬림프콤보파히타",
            "베르데숏립퀘사디아"
           ],
           [
            "감성그릴드파히타",
            "얼티메이트그릴드플래터",
            "트리플미트파히타",
            "감성세션IPA(이벤트)",
            "쉬림프콤보파히타"
           ],
           [
            "감성그릴드파히타",
            "얼티메이트그릴드플래터",
            "트리플미트파히타",
            "치킨콤보파히타",
            "감성세션IPA(생)"
           ]
          ],
          [
           4174000,
           3762000,
           5815500,
           [
            "W 비프웰링턴",
            "글렌피딕15년",
            "풍기크림파스타",
            "탑스타파스타",
            "로제쉬림프파스타"
           ],
           [
            "W 비프웰링턴",
            "풍기크림파스타",
            "로제쉬림프파스타",
            "봉골레파스타",
            "비프리소토"
           ],
           [
            "W 비프웰링턴",
            "풍기크림파스타",
            "로제쉬림프파스타",
            "비프리소토",
            "토마토연어샐러드"
           ]
          ],
          [
           1704500,
           1435000,
           1713500,
           [
            "안",
            "안(대)",
            "모",
            "모(대)",
            "치"
           ],
           [
            "안",
            "모",
            "안(대)",
            "모(대)",
            "치"
           ],
           [
            "안",
            "모(대)",
            "모",
            "데미",
            "치"
           ]
          ],
          [
           6851000,
           6466000,
           2872000,
           [
            "뇨끼",
            "성게알",
            "빠에야",
            "바질페스토",
            "베이컨크림"
           ],
           [
            "뇨끼",
            "빠에야",
            "성게알",
            "바질페스토",
            "베이컨크림"
           ],
           [
            "뇨끼",
            "빠에야",
            "성게알",
            "바질페스토",
            "부채살"
           ]
          ],
          [
           4688000,
           4456000,
           4755500,
           [
            "히레카츠",
            "\\특\\\"히레카츠\"",
            "상로스카츠",
            "제로",
            "맥주"
           ],
           [
            "히레카츠",
            "\\특\\\"히레카츠\"",
            "상로스카츠",
            "제로",
            "맥주"
           ],
           [
            "히레카츠",
            "\\특\\\"히레카츠\"",
            "상로스카츠",
            "맥주",
            "제로"
           ]
          ],
          [
           16419500,
           15867100,
           14799900,
           [
            "치킨All플레터",
            "짬뽕탕",
            "파마산치킨",
            "테라[500cc]",
            "후라이드 치킨"
           ],
           [
            "치킨All플레터",
            "후라이드 치킨",
            "파마산치킨",
            "짬뽕탕",
            "테라[500cc]"
           ],
           [
            "치킨All플레터",
            "후라이드 치킨",
            "파마산치킨",
            "짬뽕탕",
            "테라[500cc]"
           ]
          ],
          [
           1904000,
           1601500,
           1589000,
           [
            "로스카츠정식",
            "모듬카츠정식",
            "히레카츠정식",
            "(특상)로스카츠정식",
            "콜라"
           ],
           [
            "히레카츠정식",
            "모듬카츠정식",
            "로스카츠정식",
            "(특상)로스카츠정식",
            "진저하이볼"
           ],
           [
            "히레카츠정식",
            "모듬카츠정식",
            "(특상)로스카츠정식",
            "로스카츠정식",
            "콜라"
           ]
          ],
          [
           7776200,
           7122000,
           7969800,
           [
            "목살스테이크+샐러드",
            "치킨 바베큐 플레이트",
            "감바스 알 하이요",
            "목살 필라프",
            "차돌 알리오올리오"
           ],
           [
            "목살스테이크+샐러드",
            "치킨 바베큐 플레이트",
            "목살 필라프",
            "차돌박이 필라프",
            "새우로제파스타"
           ],
           [
            "목살스테이크+샐러드",
            "치킨 바베큐 플레이트",
            "목살 필라프",
            "차돌 알리오올리오",
            "새우로제파스타"
           ]
          ],
          [
           2989800,
           2523200,
           2454700,
           [
            "LASAGNA",
            "CARBONARA",
            "MARGHERITA",
            "TENDERLOIN STEAK",
            "ETNA SET 2"
           ],
           [
            "ETNA SET 2",
            "LASAGNA",
            "CARBONARA",
            "TENDERLOIN STEAK",
            "MARGHERITA"
           ],
           [
            "LASAGNA",
            "ETNA SET 2",
            "DE STEFANI PROSECCO",
            "CARBONARA",
            "VONGOLE"
           ]
          ],
          [
           4163000,
           2950000,
           3165000,
           [
            "클래식라구파스타",
            "치킨라이스",
            "딱새우비스큐파스타",
            "스테이크_MR",
            "토레브루나 끼안티"
           ],
           [
            "클래식라구파스타",
            "치킨라이스",
            "스테이크_MR",
            "명란알리오올리오",
            "스테이크_M"
           ],
           [
            "클래식라구파스타",
            "치킨라이스",
            "명란알리오올리오",
            "딱새우비스큐파스타",
            "스테이크_M"
           ]
          ],
          [
           3290000,
           1252000,
           797000,
           [
            "바베큐",
            "판티니,까살레 베끼오",
            "팬스테이크",
            "치즈 플래터",
            "크림새우리조또"
           ],
           [
            "바베큐",
            "그랑까스틸로 파밀리아 까쇼",
            "롱반 샤도네이",
            "스테이크",
            "큐말벡"
           ],
           [
            "바베큐",
            "루이자도 샤블리",
            "칼레라 샤도네이",
            "킴 크로포드",
            "그랑까스틸로 파밀리아 까쇼"
           ]
          ],
          [
           6869500,
           6398000,
           5839000,
           [
            "년 크리스마스 코스 메리크리스마스",
            "(피자)라구",
            "(Pasta)봉골레",
            "(Pasta)푸타네스카비앙코",
            "(피자)뽈뽀에빠따떼"
           ],
           [
            "(피자)마르게리따 프레스카",
            "(피자)라구",
            "(피자)루꼴라프로",
            "(피자)뽈뽀에빠따떼",
            "(Pasta)푸타네스카비앙코"
           ],
           [
            "(피자)루꼴라프로",
            "(Pasta)푸타네스카비앙코",
            "(피자)풍기",
            "(Pasta)시칠리아나",
            "(피자)마르게리따 프레스카"
           ]
          ],
          [
           1190500,
           812000,
           1463000,
           [
            "SWEET POTATO WEDGES",
            "CARNITAS TACOS",
            "Shrimp TACOS",
            "STEAK QUESADILLAS",
            "SAN MIGUEL 300"
           ],
           [
            "Shrimp TACOS",
            "SWEET POTATO WEDGES",
            "CARNITAS TACOS",
            "CHICKEN QUESADILLAS",
            "SAN MIGUEL 300"
           ],
           [
            "SAN MIGUEL 300",
            "Shrimp TACOS",
            "STEAK QUESADILLAS",
            "CARNITAS TACOS",
            "벨라또띠아 나초칩"
           ]
          ],
          [
           705000,
           862000,
           472000,
           [
            "등심수제돈까스",
            "철판치즈돈까스",
            "제육",
            "김치우동",
            "등심카레돈까스"
           ],
           [
            "김치우동",
            "철판치즈돈까스",
            "등심수제돈까스",
            "제육",
            "황태해장국"
           ],
           [
            "등심수제돈까스",
            "김치우동",
            "철판치즈돈까스",
            "오징어",
            "오징어+제육"
           ]
          ],
          [
           1519300,
           1124800,
           1789800,
           [
            "히레카츠",
            "특로스카츠",
            "모듬카츠",
            "로스카츠",
            "준 정식"
           ],
           [
            "히레카츠",
            "로스카츠",
            "모듬카츠",
            "준 정식",
            "멘치치즈카츠"
           ],
           [
            "준 정식",
            "모듬카츠",
            "히레카츠",
            "로스카츠",
            "우동세트 C(로스카츠+미니우동)"
           ]
          ],
          [
           15824000,
           6208000,
           7405000,
           [
            "루나씨엘로 스테이크",
            "D스테이크+파스타",
            "화이트 라구 파스타",
            "미션서드",
            "새우간장크림리조또"
           ],
           [
            "D스테이크+파스타 같이",
            "서브미션, 까쇼",
            "새우간장크림리조또",
            "C찹스테이크+파스타",
            "감바스"
           ],
           [
            "루나씨엘로 스테이크 같이",
            "화이트 라구 파스타",
            "첸토리 모스카토",
            "새우간장크림리조또",
            "A파스타+파스타"
           ]
          ],
          [
           2132700,
           602800,
           1688100,
           [
            "굴라쉬",
            "깻잎 파스타",
            "참나물 파스타",
            "돼지찜",
            "까르보나라"
           ],
           [
            "굴라쉬",
            "깻잎 파스타",
            "참나물 파스타",
            "김치 볶음밥",
            "갈릭 토마토"
           ],
           [
            "굴라쉬",
            "깻잎 파스타",
            "참나물 파스타",
            "돼지찜",
            "까르보나라"
           ]
          ],
          [
           26958000,
           11635000,
           11733000,
           [
            "디너 예약",
            "디너 65",
            "와인",
            "채끝 세트",
            "디너 48"
           ],
           [
            "디너 68",
            "채끝 세트",
            "와인",
            "안심 스페셜 세트 118",
            "디너 48"
           ],
           [
            "디너 68",
            "안심 스페셜 세트 118",
            "채끝 세트",
            "안심 세트",
            "디너 48"
           ]
          ],
          [
           6679400,
           7789100,
           8614900,
           [
            "아이스크림(바닐라)",
            "아이스크림(초코)",
            "등심돈까스",
            "왕등심돈까스",
            "통모짜렐라치즈롤까스"
           ],
           [
            "아이스크림(바닐라)",
            "아이스크림(초코)",
            "등심돈까스",
            "통모짜렐라치즈롤까스",
            "왕등심돈까스"
           ],
           [
            "아이스크림(바닐라)",
            "아이스크림(초코)",
            "등심돈까스",
            "통모짜렐라치즈롤까스",
            "왕등심돈까스"
           ]
          ],
          [
           5464000,
           2989000,
           3986000,
           [
            "special course",
            "Gnocchi",
            "Christmas",
            "Bottarga",
            "Contro_100g"
           ],
           [
            "Gnocchi",
            "Bottarga",
            "Lunch",
            "Green polpo",
            "special course"
           ],
           [
            "Bottarga",
            "Gnocchi",
            "Contro_100g",
            "special course",
            "Barolo, Serralunga Schiavenza"
           ]
          ],
          [
           28979000,
           79949000,
           87765000,
           [
            "슬로우야드플래터",
            "파티 플래터",
            "BBQ플레이트",
            "비프립플래터",
            "알리오올리오"
           ],
           [
            "슬로우야드플래터",
            "파티 플래터",
            "BBQ플레이트",
            "비프립플래터",
            "밀러(Draft)"
           ],
           [
            "슬로우야드플래터",
            "파티 플래터",
            "라구",
            "밀러(Draft)",
            "BBQ플레이트"
           ]
          ],
          [
           1091400,
           864400,
           1133500,
           [
            "BANDERA POLLO",
            "MILANESA NAPO PAPAS FRITAS",
            "SET EMPANADAS NEW",
            "EMPA POLLO",
            "BANDERA RES"
           ],
           [
            "SET EMPANADAS NEW",
            "PICADA MIXTA",
            "BANDERA CERDO",
            "BANDERA POLLO",
            "BANDERA RES"
           ],
           [
            "BANDERA POLLO",
            "BANDERA CERDO",
            "SET EMPANADAS NEW",
            "PICADA MIXTA",
            "Churrasco EC"
           ]
          ],
          [
           2584500,
           2216000,
           2397000,
           [
            "통삼겹김치칼제비",
            "한우타다끼",
            "참이슬",
            "테라",
            "홍게오뎅탕"
           ],
           [
            "통삼겹김치칼제비",
            "한우타다끼",
            "새로",
            "복숭아하이볼",
            "참이슬"
           ],
           [
            "통삼겹김치칼제비",
            "한우타다끼",
            "복숭아하이볼",
            "테라",
            "한우육회"
           ]
          ],
          [
           3164500,
           3483800,
           3577500,
           [
            "등심",
            "정식A(기본)",
            "정식B(홍치+안)",
            "홍수치즈돈까스",
            "정식C(통새우+안)"
           ],
           [
            "등심",
            "정식A(기본)",
            "정식B(홍치+안)",
            "눈꽃치즈돈까스",
            "홍수치즈돈까스"
           ],
           [
            "등심",
            "정식A(기본)",
            "눈꽃치즈돈까스",
            "정식B(홍치+안)",
            "콤보돈까스"
           ]
          ],
          [
           1036000,
           838000,
           638000,
           [
            "etc",
            "Beer",
            "juice",
            "밥말리오징어",
            "PP Beer"
           ],
           [
            "Beer",
            "juice",
            "CubaSozu",
            "Poutine",
            "Nacho"
           ],
           [
            "Beer",
            "허니먹태",
            "요자바이슈",
            "juice",
            "밥말리오징어"
           ]
          ],
          [
           435000,
           807000,
           415000,
           [
            "크리스마스 코스A",
            "프로메사 모스카토",
            "포르토 타우니 포트",
            "얼그레이(평일)",
            "수비드항정살"
           ],
           [
            "오키나와생",
            "라구떡볶이",
            "라구 파스타",
            "뢰스티",
            "헨드릭스(평일)"
           ],
           [
            "포트앤나달",
            "라구떡볶이",
            "수비드항정살",
            "청어알파스타",
            "(S)콥케 루비"
           ]
          ],
          [
           309000,
           311000,
           437000,
           [
            "볼로네제",
            "아라비아타",
            "빼쉐 파스타",
            "봉골레",
            "감베로니피자"
           ],
           [
            "감베로니피자",
            "빼쉐 파스타",
            "봉골레",
            "까르보나라",
            "바질크림리조또"
           ],
           [
            "아라비아타",
            "볼로네즈로제",
            "알리오명란",
            "해산물리소토(토마토)",
            "고르곤졸라피자"
           ]
          ],
          [
           1003900,
           463500,
           780000,
           [
            "엽전스페셜한상",
            "소주",
            "매운오징어보쌈한상",
            "매운음식과찰떡감자전",
            "서해안꽃게무침보쌈한상"
           ],
           [
            "소주",
            "매운오징어보쌈한상",
            "명인김치와엽전보쌈한상(중)",
            "명인김치와엽전보쌈한상(소)",
            "신림대표제육볶음정식"
           ],
           [
            "엽전스페셜한상",
            "소주",
            "고기듬뿍김치찌개",
            "아궁이삼겹구이한판",
            "울릉도오징어볶음백반식"
           ]
          ],
          [
           1106750,
           1278500,
           1004500,
           [
            "로스카츠(등심)",
            "히레카츠(안심)",
            "모듬카츠",
            "가쓰오우동",
            "특상 로스카츠"
           ],
           [
            "로스카츠(등심)",
            "히레카츠(안심)",
            "모듬카츠",
            "특상 로스카츠",
            "가쓰오우동"
           ],
           [
            "히레카츠(안심)",
            "모듬카츠",
            "로스카츠(등심)",
            "치즈카츠",
            "특상 로스카츠"
           ]
          ],
          [
           2244000,
           1770000,
           2552000,
           [
            "파운드 폭립",
            "투움바",
            "쿠바노런치    세트",
            "하나바의      커플세트",
            "맥주와함께    폭립파티"
           ],
           [
            "파운드 폭립",
            "투움바",
            "맥주와함께    폭립파티",
            "하나바의      커플세트",
            "라구 파스타"
           ],
           [
            "파운드 폭립",
            "맥주와함께    폭립파티",
            "쿠바노런치    세트",
            "하나바의      커플세트",
            "잠발라야"
           ]
          ],
          [
           1070300,
           933600,
           1027200,
           [
            "dinner-C (FRIEND SET)",
            "dinner-D (COUPLE SET)",
            "dinner-B (FAMILY SET)",
            "Chicken tikka butter masala",
            "Butter chicken makhani"
           ],
           [
            "dinner-B (FAMILY SET)",
            "dinner-D (COUPLE SET)",
            "dinner-C (FRIEND SET)",
            "nepali thali set",
            "Chicken curry"
           ],
           [
            "dinner-C (FRIEND SET)",
            "A-set",
            "dinner-A (GROUP SET)",
            "dinner-D (COUPLE SET)",
            "JOHNNIE WALKER Red Label 700ml"
           ]
          ],
          [
           6315500,
           4134000,
           5246000,
           [
            "블랙트러플크림뇨끼",
            "성게알어란파스타",
            "살시챠 피자",
            "마르게리타",
            "아마트리치아나"
           ],
           [
            "블랙트러플크림뇨끼",
            "성게알어란파스타",
            "라자냐",
            "소안심버섯리조또",
            "푸타네스카"
           ],
           [
            "성게알어란파스타",
            "블랙트러플크림뇨끼",
            "마르게리타",
            "소안심버섯리조또",
            "푸타네스카"
           ]
          ],
          [
           4429400,
           5655900,
           6582300,
           [
            "치미창가",
            "멕시칸블랙페퍼치킨",
            "엔칠라다(비프)",
            "파울러너생맥주",
            "퀘사디아(치킨)"
           ],
           [
            "치미창가",
            "멕시칸블랙페퍼치킨",
            "엔칠라다(비프)",
            "파울러너생맥주",
            "아보카도치킨샐러드"
           ],
           [
            "치미창가",
            "멕시칸블랙페퍼치킨",
            "파울러너생맥주",
            "엔칠라다(비프)",
            "엔칠라다(치킨)"
           ]
          ],
          [
           6246500,
           6411500,
           6228000,
           [
            "스테이크 크림뇨끼",
            "채끝 스테이크",
            "클래식 라자냐",
            "이베리코 꽃목살 스테이크",
            "브레이즈드 포크 라자냐"
           ],
           [
            "스테이크 크림뇨끼",
            "클래식 라자냐",
            "채끝 스테이크",
            "비스큐크림뇨끼",
            "이베리코 꽃목살 스테이크"
           ],
           [
            "스테이크 크림뇨끼",
            "클래식 라자냐",
            "채끝 스테이크",
            "이베리코 꽃목살 스테이크",
            "비스큐크림뇨끼"
           ]
          ],
          [
           1514000,
           1530000,
           1971000,
           [
            "로스카츠",
            "히레카츠",
            "상로스카츠",
            "냉소바 세트",
            "온소바 세트"
           ],
           [
            "로스카츠",
            "온소바 세트",
            "히레카츠",
            "온소바 히레 세트",
            "상로츠카츠(미니메밀)"
           ],
           [
            "로스카츠",
            "히레카츠",
            "냉소바 세트",
            "온소바 세트",
            "온소바 히레 세트"
           ]
          ],
          [
           730000,
           337000,
           574000,
           [
            "라자냐",
            "컬리플라워",
            "비건 유린기",
            "피시앤칩스",
            "카스"
           ],
           [
            "라자냐",
            "컬리플라워",
            "딸기,망고 하이볼",
            "피시앤칩스",
            "카스"
           ],
           [
            "라자냐",
            "컬리플라워",
            "피시앤칩스",
            "딸기,망고 하이볼",
            "비건 유린기"
           ]
          ],
          [
           1743000,
           1430500,
           1639500,
           [
            "안심가츠",
            "등심가츠",
            "김치가츠동",
            "특등심가츠",
            "모듬가츠"
           ],
           [
            "안심가츠",
            "등심가츠",
            "치즈가츠",
            "모듬가츠",
            "가츠동"
           ],
           [
            "안심가츠",
            "등심가츠",
            "특등심가츠",
            "모듬가츠",
            "치즈가츠"
           ]
          ],
          [
           397500,
           373700,
           354000,
           [
            "오늘의파스타",
            "토마토해물파스타",
            "토마토참치파스타",
            "올리브오일파새우파스타"
           ],
           [
            "오늘의파스타",
            "올리브오일파새우파스타",
            "토마토해물파스타",
            "치즈피자",
            "토마토참치파스타"
           ],
           [
            "오늘의파스타",
            "토마토참치파스타",
            "크림베이컨리조또",
            "토마토해물파스타",
            "올리브오일파새우파스타"
           ]
          ],
          [
           4090000,
           4136000,
           4446000,
           [
            "치즈돈까스",
            "안심",
            "안심우동",
            "등심+안심",
            "치즈+안심"
           ],
           [
            "안심",
            "안심우동",
            "안심정식",
            "등심+안심",
            "치즈+안심"
           ],
           [
            "안심",
            "치즈돈까스",
            "등심+안심",
            "치즈+안심",
            "안심우동"
           ]
          ],
          [
           11839500,
           7445000,
           8591500,
           [
            "후안길 골드",
            "참치피자",
            "해산물파스타",
            "라구파스타",
            "통감자 피자"
           ],
           [
            "라구파스타",
            "채끝스테이크",
            "페퍼로니피자",
            "모짜렐라샐러드",
            "참치피자"
           ],
           [
            "*라구파스타",
            "풍기피자",
            "루꼴라피자",
            "*해산물파스타",
            "참치피자"
           ]
          ],
          [
           2053000,
           2024500,
           1742500,
           [
            "블랙트러플크림뇨끼",
            "아마트리치아나",
            "새우비스큐링귀네",
            "카치오페페",
            "글라스"
           ],
           [
            "블랙트러플크림뇨끼",
            "새우비스큐링귀네",
            "글라스",
            "아마트리치아나",
            "샤르데냐식 봉골레 비골리 파스타"
           ],
           [
            "블랙트러플크림뇨끼",
            "새우비스큐링귀네",
            "아마트리치아나",
            "샤르데냐식 봉골레 비골리 파스타",
            "글라스"
           ]
          ],
          [
           7503000,
           3624900,
           4297800,
           [
            "SPECIAL",
            "Qyattro Stag/스따찌오니",
            "Lasagnaalla/라쟈냐",
            "Papadelle / 빠빠델레",
            "Spallottodi/항정살"
           ],
           [
            "Qyattro Stag/스따찌오니",
            "Papadelle / 빠빠델레",
            "Lasagnaalla/라쟈냐",
            "Margherita/마르게리따",
            "Spallottodi/항정살"
           ],
           [
            "Qyattro Stag/스따찌오니",
            "Papadelle / 빠빠델레",
            "Lasagnaalla/라쟈냐",
            "Margherita/마르게리따",
            "Filletto di/스테이크"
           ]
          ],
          [
           2889500,
           2034500,
           1883500,
           [
            "X-MAS// B 세트",
            "B Set",
            "A set",
            "하프앤하프[반반] 피자",
            "패밀리 Set"
           ],
           [
            "B Set",
            "패밀리 Set",
            "A set",
            "하프앤하프[반반] 피자",
            "로제 비볼리"
           ],
           [
            "B Set",
            "A set",
            "라구 딸리아뗄레",
            "로제 비볼리",
            "꽈뜨로 치즈 피자[단품]"
           ]
          ],
          [
           1140500,
           736500,
           1059500,
           [
            "레드락",
            "소세지",
            "먹태",
            "앱솔루트",
            "피자"
           ],
           [
            "레드락",
            "짐진저",
            "피자",
            "먹태",
            "잭진저"
           ],
           [
            "레드락",
            "발디비에소",
            "제임슨진저",
            "기네스",
            "블루문"
           ]
          ],
          [
           10057500,
           9436000,
           9062000,
           [
            "반반 정식",
            "히레카츠",
            "모둠정식",
            "특로스카츠",
            "로스카츠"
           ],
           [
            "반반 정식",
            "히레카츠",
            "모둠정식",
            "로스카츠",
            "특로스카츠"
           ],
           [
            "반반 정식",
            "히레카츠",
            "모둠정식",
            "특로스카츠",
            "로스카츠"
           ]
          ]
         ],
         "hovertemplate": "<b>%{hovertext}</b><br><br>사이즈=%{marker.size}<br>lat=%{lat}<br>lng=%{lon}<br>12월 매출액=%{customdata[0]}<br>1월 매출액=%{customdata[1]}<br>2월 매출액=%{customdata[2]}<br>12월 top5=%{customdata[3]}<br>1월 top5=%{customdata[4]}<br>2월 top5=%{customdata[5]}<extra></extra>",
         "hovertext": [
          "앨리스 바이 미니멜츠",
          "블루쿠치나",
          "빠네돌체",
          "덩크트레이",
          "살롱드마르잔",
          "감성카츠",
          "소코아",
          "해물기와",
          "카페루치아",
          "이응이응이응이응-table",
          "코코가츠",
          "이오카츠공덕점",
          "토모토카페",
          "아르고보니",
          "감성타코(홍대점)",
          "연남동와이탑",
          "명동왕돈까스 직영점",
          "광야",
          "헤키",
          "치킨앤카레군",
          "흑심",
          "스푼필라프 홍대점",
          "에트나퓨",
          "스프링비스트로",
          "홍대클라쓰",
          "몰토베네 합정",
          "벨라또띠아",
          "요나끼",
          "돈카츠 준",
          "루나씨엘로",
          "묘한식탁",
          "빌리더다이닝",
          "바삭마차(망원시장점)",
          "토파",
          "슬로우야드 바비큐",
          "까사라티나",
          "붉은낙타",
          "브라운돈까스 상암MBC몰",
          "쿠바킹",
          "포트 앤 나달",
          "배아또",
          "엽전식당 연남점",
          "우애돈카츠 연남점",
          "쥬벤쿠바 연남점",
          "수엠부",
          "엘리스리틀이태리",
          "멕시코다이너",
          "테이커테이블",
          "소나무연남",
          "드렁큰비건",
          "진돈",
          "인더썬",
          "마루돈까스",
          "비스트로에버",
          "지알로파스타바",
          "kitchen 485",
          "비볼리",
          "오이도",
          "크레이지카츠"
         ],
         "lat": [
          37.5642305,
          37.55586,
          37.53672,
          37.549927049999994,
          37.5571419,
          37.56775,
          37.5550706,
          37.549927049999994,
          37.5550706,
          37.54743,
          37.5431443,
          37.5431151,
          37.5550706,
          37.5550706,
          37.5550706,
          37.56258,
          37.5571419,
          37.5571419,
          37.55586,
          37.5571419,
          37.56258,
          37.5550706,
          37.56258,
          37.54678,
          37.5571419,
          37.54678,
          37.55586,
          37.5384174,
          37.5522937,
          37.5609691,
          37.54678,
          37.5605738,
          37.5550093,
          37.54678,
          37.54678,
          37.5550706,
          37.5550706,
          37.5687031,
          37.5550706,
          37.5560921,
          37.5650941,
          37.5644525,
          37.561733,
          37.5645946,
          37.54620345,
          37.5503577,
          37.54678,
          37.5605738,
          37.5575485,
          37.5501325,
          37.5765171,
          37.56903495,
          37.5487566,
          37.5668778,
          37.5477785,
          37.5550706,
          37.54678,
          37.56258,
          37.54678
         ],
         "legendgroup": "",
         "lon": [
          126.9078263,
          126.90087,
          126.94288,
          126.95928971994923,
          126.9261901,
          126.90263,
          126.92382487891514,
          126.95928971994923,
          126.92382487891514,
          126.92473,
          126.9303715,
          126.9503557,
          126.92382487891514,
          126.92382487891514,
          126.92382487891514,
          126.92196,
          126.9261901,
          126.9261901,
          126.90087,
          126.9261901,
          126.92196,
          126.92382487891514,
          126.92196,
          126.9084,
          126.9261901,
          126.9084,
          126.90087,
          126.9489663,
          126.9374454,
          126.9250382,
          126.9084,
          126.9246308,
          126.9092717,
          126.9084,
          126.9084,
          126.92382487891514,
          126.92382487891514,
          126.91499118773584,
          126.92382487891514,
          126.907328,
          126.9034629,
          126.9234939,
          126.9254562,
          126.9226626,
          126.9359375116903,
          126.94980912133417,
          126.9084,
          126.9246308,
          126.9211368,
          126.9273209,
          126.897222,
          126.90683567298643,
          126.9170802,
          126.9103413,
          126.9393065,
          126.92382487891514,
          126.9084,
          126.92196,
          126.9084
         ],
         "marker": {
          "color": "#636efa",
          "size": [
           10,
           10,
           10,
           10,
           10,
           10,
           10,
           10,
           10,
           10,
           10,
           10,
           10,
           10,
           10,
           10,
           10,
           10,
           10,
           10,
           10,
           10,
           10,
           10,
           10,
           10,
           10,
           10,
           10,
           10,
           10,
           10,
           10,
           10,
           10,
           10,
           10,
           10,
           10,
           10,
           10,
           10,
           10,
           10,
           10,
           10,
           10,
           10,
           10,
           10,
           10,
           10,
           10,
           10,
           10,
           10,
           10,
           10,
           10
          ],
          "sizemode": "area",
          "sizeref": 0.025
         },
         "mode": "markers",
         "name": "",
         "showlegend": false,
         "subplot": "mapbox",
         "type": "scattermapbox"
        }
       ],
       "layout": {
        "legend": {
         "itemsizing": "constant",
         "tracegroupgap": 0
        },
        "mapbox": {
         "center": {
          "lat": 37.555127340677956,
          "lon": 126.92163712242031
         },
         "domain": {
          "x": [
           0,
           1
          ],
          "y": [
           0,
           1
          ]
         },
         "style": "open-street-map",
         "zoom": 8
        },
        "margin": {
         "t": 60
        },
        "template": {
         "data": {
          "bar": [
           {
            "error_x": {
             "color": "#2a3f5f"
            },
            "error_y": {
             "color": "#2a3f5f"
            },
            "marker": {
             "line": {
              "color": "#E5ECF6",
              "width": 0.5
             },
             "pattern": {
              "fillmode": "overlay",
              "size": 10,
              "solidity": 0.2
             }
            },
            "type": "bar"
           }
          ],
          "barpolar": [
           {
            "marker": {
             "line": {
              "color": "#E5ECF6",
              "width": 0.5
             },
             "pattern": {
              "fillmode": "overlay",
              "size": 10,
              "solidity": 0.2
             }
            },
            "type": "barpolar"
           }
          ],
          "carpet": [
           {
            "aaxis": {
             "endlinecolor": "#2a3f5f",
             "gridcolor": "white",
             "linecolor": "white",
             "minorgridcolor": "white",
             "startlinecolor": "#2a3f5f"
            },
            "baxis": {
             "endlinecolor": "#2a3f5f",
             "gridcolor": "white",
             "linecolor": "white",
             "minorgridcolor": "white",
             "startlinecolor": "#2a3f5f"
            },
            "type": "carpet"
           }
          ],
          "choropleth": [
           {
            "colorbar": {
             "outlinewidth": 0,
             "ticks": ""
            },
            "type": "choropleth"
           }
          ],
          "contour": [
           {
            "colorbar": {
             "outlinewidth": 0,
             "ticks": ""
            },
            "colorscale": [
             [
              0,
              "#0d0887"
             ],
             [
              0.1111111111111111,
              "#46039f"
             ],
             [
              0.2222222222222222,
              "#7201a8"
             ],
             [
              0.3333333333333333,
              "#9c179e"
             ],
             [
              0.4444444444444444,
              "#bd3786"
             ],
             [
              0.5555555555555556,
              "#d8576b"
             ],
             [
              0.6666666666666666,
              "#ed7953"
             ],
             [
              0.7777777777777778,
              "#fb9f3a"
             ],
             [
              0.8888888888888888,
              "#fdca26"
             ],
             [
              1,
              "#f0f921"
             ]
            ],
            "type": "contour"
           }
          ],
          "contourcarpet": [
           {
            "colorbar": {
             "outlinewidth": 0,
             "ticks": ""
            },
            "type": "contourcarpet"
           }
          ],
          "heatmap": [
           {
            "colorbar": {
             "outlinewidth": 0,
             "ticks": ""
            },
            "colorscale": [
             [
              0,
              "#0d0887"
             ],
             [
              0.1111111111111111,
              "#46039f"
             ],
             [
              0.2222222222222222,
              "#7201a8"
             ],
             [
              0.3333333333333333,
              "#9c179e"
             ],
             [
              0.4444444444444444,
              "#bd3786"
             ],
             [
              0.5555555555555556,
              "#d8576b"
             ],
             [
              0.6666666666666666,
              "#ed7953"
             ],
             [
              0.7777777777777778,
              "#fb9f3a"
             ],
             [
              0.8888888888888888,
              "#fdca26"
             ],
             [
              1,
              "#f0f921"
             ]
            ],
            "type": "heatmap"
           }
          ],
          "heatmapgl": [
           {
            "colorbar": {
             "outlinewidth": 0,
             "ticks": ""
            },
            "colorscale": [
             [
              0,
              "#0d0887"
             ],
             [
              0.1111111111111111,
              "#46039f"
             ],
             [
              0.2222222222222222,
              "#7201a8"
             ],
             [
              0.3333333333333333,
              "#9c179e"
             ],
             [
              0.4444444444444444,
              "#bd3786"
             ],
             [
              0.5555555555555556,
              "#d8576b"
             ],
             [
              0.6666666666666666,
              "#ed7953"
             ],
             [
              0.7777777777777778,
              "#fb9f3a"
             ],
             [
              0.8888888888888888,
              "#fdca26"
             ],
             [
              1,
              "#f0f921"
             ]
            ],
            "type": "heatmapgl"
           }
          ],
          "histogram": [
           {
            "marker": {
             "pattern": {
              "fillmode": "overlay",
              "size": 10,
              "solidity": 0.2
             }
            },
            "type": "histogram"
           }
          ],
          "histogram2d": [
           {
            "colorbar": {
             "outlinewidth": 0,
             "ticks": ""
            },
            "colorscale": [
             [
              0,
              "#0d0887"
             ],
             [
              0.1111111111111111,
              "#46039f"
             ],
             [
              0.2222222222222222,
              "#7201a8"
             ],
             [
              0.3333333333333333,
              "#9c179e"
             ],
             [
              0.4444444444444444,
              "#bd3786"
             ],
             [
              0.5555555555555556,
              "#d8576b"
             ],
             [
              0.6666666666666666,
              "#ed7953"
             ],
             [
              0.7777777777777778,
              "#fb9f3a"
             ],
             [
              0.8888888888888888,
              "#fdca26"
             ],
             [
              1,
              "#f0f921"
             ]
            ],
            "type": "histogram2d"
           }
          ],
          "histogram2dcontour": [
           {
            "colorbar": {
             "outlinewidth": 0,
             "ticks": ""
            },
            "colorscale": [
             [
              0,
              "#0d0887"
             ],
             [
              0.1111111111111111,
              "#46039f"
             ],
             [
              0.2222222222222222,
              "#7201a8"
             ],
             [
              0.3333333333333333,
              "#9c179e"
             ],
             [
              0.4444444444444444,
              "#bd3786"
             ],
             [
              0.5555555555555556,
              "#d8576b"
             ],
             [
              0.6666666666666666,
              "#ed7953"
             ],
             [
              0.7777777777777778,
              "#fb9f3a"
             ],
             [
              0.8888888888888888,
              "#fdca26"
             ],
             [
              1,
              "#f0f921"
             ]
            ],
            "type": "histogram2dcontour"
           }
          ],
          "mesh3d": [
           {
            "colorbar": {
             "outlinewidth": 0,
             "ticks": ""
            },
            "type": "mesh3d"
           }
          ],
          "parcoords": [
           {
            "line": {
             "colorbar": {
              "outlinewidth": 0,
              "ticks": ""
             }
            },
            "type": "parcoords"
           }
          ],
          "pie": [
           {
            "automargin": true,
            "type": "pie"
           }
          ],
          "scatter": [
           {
            "fillpattern": {
             "fillmode": "overlay",
             "size": 10,
             "solidity": 0.2
            },
            "type": "scatter"
           }
          ],
          "scatter3d": [
           {
            "line": {
             "colorbar": {
              "outlinewidth": 0,
              "ticks": ""
             }
            },
            "marker": {
             "colorbar": {
              "outlinewidth": 0,
              "ticks": ""
             }
            },
            "type": "scatter3d"
           }
          ],
          "scattercarpet": [
           {
            "marker": {
             "colorbar": {
              "outlinewidth": 0,
              "ticks": ""
             }
            },
            "type": "scattercarpet"
           }
          ],
          "scattergeo": [
           {
            "marker": {
             "colorbar": {
              "outlinewidth": 0,
              "ticks": ""
             }
            },
            "type": "scattergeo"
           }
          ],
          "scattergl": [
           {
            "marker": {
             "colorbar": {
              "outlinewidth": 0,
              "ticks": ""
             }
            },
            "type": "scattergl"
           }
          ],
          "scattermapbox": [
           {
            "marker": {
             "colorbar": {
              "outlinewidth": 0,
              "ticks": ""
             }
            },
            "type": "scattermapbox"
           }
          ],
          "scatterpolar": [
           {
            "marker": {
             "colorbar": {
              "outlinewidth": 0,
              "ticks": ""
             }
            },
            "type": "scatterpolar"
           }
          ],
          "scatterpolargl": [
           {
            "marker": {
             "colorbar": {
              "outlinewidth": 0,
              "ticks": ""
             }
            },
            "type": "scatterpolargl"
           }
          ],
          "scatterternary": [
           {
            "marker": {
             "colorbar": {
              "outlinewidth": 0,
              "ticks": ""
             }
            },
            "type": "scatterternary"
           }
          ],
          "surface": [
           {
            "colorbar": {
             "outlinewidth": 0,
             "ticks": ""
            },
            "colorscale": [
             [
              0,
              "#0d0887"
             ],
             [
              0.1111111111111111,
              "#46039f"
             ],
             [
              0.2222222222222222,
              "#7201a8"
             ],
             [
              0.3333333333333333,
              "#9c179e"
             ],
             [
              0.4444444444444444,
              "#bd3786"
             ],
             [
              0.5555555555555556,
              "#d8576b"
             ],
             [
              0.6666666666666666,
              "#ed7953"
             ],
             [
              0.7777777777777778,
              "#fb9f3a"
             ],
             [
              0.8888888888888888,
              "#fdca26"
             ],
             [
              1,
              "#f0f921"
             ]
            ],
            "type": "surface"
           }
          ],
          "table": [
           {
            "cells": {
             "fill": {
              "color": "#EBF0F8"
             },
             "line": {
              "color": "white"
             }
            },
            "header": {
             "fill": {
              "color": "#C8D4E3"
             },
             "line": {
              "color": "white"
             }
            },
            "type": "table"
           }
          ]
         },
         "layout": {
          "annotationdefaults": {
           "arrowcolor": "#2a3f5f",
           "arrowhead": 0,
           "arrowwidth": 1
          },
          "autotypenumbers": "strict",
          "coloraxis": {
           "colorbar": {
            "outlinewidth": 0,
            "ticks": ""
           }
          },
          "colorscale": {
           "diverging": [
            [
             0,
             "#8e0152"
            ],
            [
             0.1,
             "#c51b7d"
            ],
            [
             0.2,
             "#de77ae"
            ],
            [
             0.3,
             "#f1b6da"
            ],
            [
             0.4,
             "#fde0ef"
            ],
            [
             0.5,
             "#f7f7f7"
            ],
            [
             0.6,
             "#e6f5d0"
            ],
            [
             0.7,
             "#b8e186"
            ],
            [
             0.8,
             "#7fbc41"
            ],
            [
             0.9,
             "#4d9221"
            ],
            [
             1,
             "#276419"
            ]
           ],
           "sequential": [
            [
             0,
             "#0d0887"
            ],
            [
             0.1111111111111111,
             "#46039f"
            ],
            [
             0.2222222222222222,
             "#7201a8"
            ],
            [
             0.3333333333333333,
             "#9c179e"
            ],
            [
             0.4444444444444444,
             "#bd3786"
            ],
            [
             0.5555555555555556,
             "#d8576b"
            ],
            [
             0.6666666666666666,
             "#ed7953"
            ],
            [
             0.7777777777777778,
             "#fb9f3a"
            ],
            [
             0.8888888888888888,
             "#fdca26"
            ],
            [
             1,
             "#f0f921"
            ]
           ],
           "sequentialminus": [
            [
             0,
             "#0d0887"
            ],
            [
             0.1111111111111111,
             "#46039f"
            ],
            [
             0.2222222222222222,
             "#7201a8"
            ],
            [
             0.3333333333333333,
             "#9c179e"
            ],
            [
             0.4444444444444444,
             "#bd3786"
            ],
            [
             0.5555555555555556,
             "#d8576b"
            ],
            [
             0.6666666666666666,
             "#ed7953"
            ],
            [
             0.7777777777777778,
             "#fb9f3a"
            ],
            [
             0.8888888888888888,
             "#fdca26"
            ],
            [
             1,
             "#f0f921"
            ]
           ]
          },
          "colorway": [
           "#636efa",
           "#EF553B",
           "#00cc96",
           "#ab63fa",
           "#FFA15A",
           "#19d3f3",
           "#FF6692",
           "#B6E880",
           "#FF97FF",
           "#FECB52"
          ],
          "font": {
           "color": "#2a3f5f"
          },
          "geo": {
           "bgcolor": "white",
           "lakecolor": "white",
           "landcolor": "#E5ECF6",
           "showlakes": true,
           "showland": true,
           "subunitcolor": "white"
          },
          "hoverlabel": {
           "align": "left"
          },
          "hovermode": "closest",
          "mapbox": {
           "style": "light"
          },
          "paper_bgcolor": "white",
          "plot_bgcolor": "#E5ECF6",
          "polar": {
           "angularaxis": {
            "gridcolor": "white",
            "linecolor": "white",
            "ticks": ""
           },
           "bgcolor": "#E5ECF6",
           "radialaxis": {
            "gridcolor": "white",
            "linecolor": "white",
            "ticks": ""
           }
          },
          "scene": {
           "xaxis": {
            "backgroundcolor": "#E5ECF6",
            "gridcolor": "white",
            "gridwidth": 2,
            "linecolor": "white",
            "showbackground": true,
            "ticks": "",
            "zerolinecolor": "white"
           },
           "yaxis": {
            "backgroundcolor": "#E5ECF6",
            "gridcolor": "white",
            "gridwidth": 2,
            "linecolor": "white",
            "showbackground": true,
            "ticks": "",
            "zerolinecolor": "white"
           },
           "zaxis": {
            "backgroundcolor": "#E5ECF6",
            "gridcolor": "white",
            "gridwidth": 2,
            "linecolor": "white",
            "showbackground": true,
            "ticks": "",
            "zerolinecolor": "white"
           }
          },
          "shapedefaults": {
           "line": {
            "color": "#2a3f5f"
           }
          },
          "ternary": {
           "aaxis": {
            "gridcolor": "white",
            "linecolor": "white",
            "ticks": ""
           },
           "baxis": {
            "gridcolor": "white",
            "linecolor": "white",
            "ticks": ""
           },
           "bgcolor": "#E5ECF6",
           "caxis": {
            "gridcolor": "white",
            "linecolor": "white",
            "ticks": ""
           }
          },
          "title": {
           "x": 0.05
          },
          "xaxis": {
           "automargin": true,
           "gridcolor": "white",
           "linecolor": "white",
           "ticks": "",
           "title": {
            "standoff": 15
           },
           "zerolinecolor": "white",
           "zerolinewidth": 2
          },
          "yaxis": {
           "automargin": true,
           "gridcolor": "white",
           "linecolor": "white",
           "ticks": "",
           "title": {
            "standoff": 15
           },
           "zerolinecolor": "white",
           "zerolinewidth": 2
          }
         }
        }
       }
      },
      "text/html": [
       "<div>                            <div id=\"d70e59ae-6d2a-4085-ab42-35f2d91fd308\" class=\"plotly-graph-div\" style=\"height:525px; width:100%;\"></div>            <script type=\"text/javascript\">                require([\"plotly\"], function(Plotly) {                    window.PLOTLYENV=window.PLOTLYENV || {};                                    if (document.getElementById(\"d70e59ae-6d2a-4085-ab42-35f2d91fd308\")) {                    Plotly.newPlot(                        \"d70e59ae-6d2a-4085-ab42-35f2d91fd308\",                        [{\"customdata\":[[936400,662900,687800,[\"\\uc544\\uba54\\ub9ac\\uce74\\ub178(ICE)\",\"\\uc544\\uba54\\ub9ac\\uce74\\ub178(HOT)\",\"\\uce74\\ud398\\ub77c\\ub5bc(HOT)\",\"\\uc0d0\\ub7ec\\ub4dc\\ud53c\\uc790\",\"\\uc568\\ub9ac\\uc2a4\\ube0c\\ub7f0\\uce58\"],[\"\\ud30c\\ub2c8\\ub2c8\\ube0c\\ub7f0\\uce58\",\"\\uc544\\uba54\\ub9ac\\uce74\\ub178(HOT)\",\"\\uc26c\\ub9bc\\ud504\\ub85c\\uc81c\\ud30c\\uc2a4\\ud0c0\",\"\\ubc14\\ub2d0\\ub77c\\ub77c\\ub5bc(HOT)\",\"\\uc2a4\\ud504\\ub9c1\\uc5b4\\ub2c8\\uc5b8 \\ud06c\\ub9bc\\ud30c\\uc2a4\\ud0c0\"],[\"\\uc568\\ub9ac\\uc2a4\\ube0c\\ub7f0\\uce58\",\"\\uc2a4\\ud504\\ub9c1\\uc5b4\\ub2c8\\uc5b8 \\ud06c\\ub9bc\\ud30c\\uc2a4\\ud0c0\",\"\\uadf8\\ub9b4\\ub4dc\\uce58\\ud0a8\\uc2dc\\uc800\\uc0d0\\ub7ec\\ub4dc\",\"\\uc544\\uba54\\ub9ac\\uce74\\ub178(ICE)\",\"\\uc544\\uba54\\ub9ac\\uce74\\ub178(HOT)\"]],[2019000,1444500,1258500,[\"\\ud1b5\\uc624\\uc9d5\\uc5b4 \\uba39\\ubb3c \\ub9ac\\uc870\\ub610\",\"\\uc2a4\\ud14c\\uc774\\ud06c\\ud06c\\ub9bc\\ud30c\\uc2a4\\ud0c0\",\"\\ub77c\\uc790\\ub0d0\",\"\\uba85\\ub780\\ud06c\\ub9bc \\ud30c\\uc2a4\\ud0c0\",\"\\uc54c\\ub9ac\\uc624\\uc62c\\ub9ac\\uc624\\ub8e8\\uaf34\\ub77c\"],[\"\\ud1b5\\uc624\\uc9d5\\uc5b4 \\uba39\\ubb3c \\ub9ac\\uc870\\ub610\",\"\\uba85\\ub780\\ud06c\\ub9bc \\ud30c\\uc2a4\\ud0c0\",\"\\uc54c\\ub9ac\\uc624\\uc62c\\ub9ac\\uc624\\ub8e8\\uaf34\\ub77c\",\"\\uc2a4\\ud14c\\uc774\\ud06c\\ud06c\\ub9bc \\ub9ac\\uc870\\ub610\",\"\\uac10\\ubc14\\uc2a4 \\uc54c \\uc544\\ud788\\uc694\"],[\"\\ud1b5\\uc624\\uc9d5\\uc5b4 \\uba39\\ubb3c \\ub9ac\\uc870\\ub610\",\"\\uc2a4\\ud14c\\uc774\\ud06c\\ud06c\\ub9bc\\ud30c\\uc2a4\\ud0c0\",\"\\ud574\\uc0b0\\ubb3c \\ub9e4\\uc6b4 \\uad6d\\ubb3c \\ud30c\\uc2a4\\ud0c0\",\"\\uc54c\\ub9ac\\uc624\\uc62c\\ub9ac\\uc624\\ub8e8\\uaf34\\ub77c\",\"\\ub77c\\uc790\\ub0d0\"]],[2388000,2667500,2490000,[\"P)\\ub9c8\\ub974\\uac8c\\ub9ac\\ud0c0\",\"\\uc778\\uc138\\ud2b8\",\"\\ube0c\\ub9ac\\uc2a4\\ud0b7 \\uc2a4\\ubafc\\ub808\\ube0c\\ub8b0\",\"P)BBQ \\ud53c\\uc790\",\"\\ubca0\\uc774\\ucee8\\ub85c\\uc81c\"],[\"\\uae30\\ud0c0\",\"\\uc0c8\\uc6b0\\ub85c\\uc81c\",\"\\ube0c\\ub9ac\\uc2a4\\ud0b7 \\uc2a4\\ubafc\\ub808\\ube0c\\ub8b0\",\"\\uc0c8\\uc6b0\\ud06c\\ub9bc\",\"P)\\ub9c8\\ub974\\uac8c\\ub9ac\\ud0c0\"],[\"P)\\ub9c8\\ub974\\uac8c\\ub9ac\\ud0c0\",\"\\uc5f0\\uc5b4\\uc0d0\\ub7ec\\ub4dc\",\"\\uc0c8\\uc6b0\\ub85c\\uc81c\",\"\\uc5f0\\uc5b4\\ud050\\ube0c \\uc2a4\\ubafc\\ub808\\ube0c\\ub8b0\",\"P)BBQ \\ud53c\\uc790\"]],[14242400,12530600,15468700,[\"\\uc2a4\\ud154\\ub77c\",\"\\ud14c\\ub77c\",\"\\ub514\\ud2b8\\ub85c\\uc774\\ud2b8 (\\ud398\\ud37c\\ub85c\\ub2c8)\",\"\\ubc84\\ub4dc\\uc640\\uc774\\uc800\",\"\\ub369\\ud06c \\uce58\\ud0a8\"],[\"\\ud14c\\ub77c\",\"\\ub369\\ud06c \\uce58\\ud0a8\",\"\\ub369\\ud06c \\uc5bc\\uadf8\\ub808\\uc774 \\ud558\\uc774\\ubcfc\",\"\\ub514\\ud2b8\\ub85c\\uc774\\ud2b8 (\\ub8e8\\uaf34\\ub77c)\",\"\\ub514\\ud2b8\\ub85c\\uc774\\ud2b8 (\\ud398\\ud37c\\ub85c\\ub2c8)\"],[\"\\ub300\\uad00 \\ubc0f \\uc608\\uc57d\",\"\\uc2a4\\ud154\\ub77c\",\"\\ub514\\ud2b8\\ub85c\\uc774\\ud2b8 (\\ud398\\ud37c\\ub85c\\ub2c8)\",\"\\ub514\\ud2b8\\ub85c\\uc774\\ud2b8 (\\ub8e8\\uaf34\\ub77c)\",\"\\ud14c\\ub77c\"]],[9392000,3684000,3741500,[\"\\uc26c\\ub9bc\\ud504\\uc624\\uc77c\\ud30c\\uc2a4\\ud0c0\",\"\\ub9c8\\ub974\\uac8c\\ub9ac\\ub530\\ud53c\\uc790\",\"\\ub85c\\uc81c\\ud30c\\uc2a4\\ud0c0\",\"\\ube44\\ud504\\uc2a4\\ud14c\\uc774\\ud06c\",\"\\ubc84\\ud314\\ub85c\\uc719\"],[\"\\ub9c8\\ub974\\uac8c\\ub9ac\\ub530\\ud53c\\uc790\",\"\\uce58\\ud0a8\",\"\\ub77c\\uad6c\\ud30c\\uc774\",\"\\ucee4\\ud53cIce\",\"\\ub808\\ub4dc \\uae00\\ub77c\\uc2a4\\uc640\\uc778\"],[\"\\ucee4\\ud53cIce\",\"\\ub77c\\uad6c\\ud30c\\uc774\",\"\\ub9c8\\ub974\\uac8c\\ub9ac\\ub530\\ud53c\\uc790\",\"\\ud398\\ud398\\ub85c\\ub2c8\\ud53c\\uc790\",\"\\ub354\\uce58\\ubca0\\uc774\\ube44\"]],[365700,840100,1037800,[\"\\uce58\\uc988\\ub3c8\\uce74\\uce20(\\uc815\\uc2dd)\",\"\\uac10\\uc131\\uce74\\uce20(\\uc815\\uc2dd)\",\"\\ud788\\ub808\\uce74\\uce20(\\uc815\\uc2dd)\",\"\\uc0dd\\ub9e5\\uc8fc\",\"\\uae40\\uce58\\ub098\\ubca0\\uc6b0\\ub3d9\\uc815\\uc2dd\"],[\"\\ud788\\ub808\\uce74\\uce20(\\uc815\\uc2dd)\",\"\\ubaa8\\ub4ec\\uce74\\uce20(\\uc815\\uc2dd)\",\"\\uae40\\uce58\\ub098\\ubca0\\uc6b0\\ub3d9\\uc815\\uc2dd\",\"\\ud788\\ub808\\uce74\\uce20\",\"\\uac10\\uc131\\uce74\\uce20(\\uc815\\uc2dd)\"],[\"\\uae40\\uce58\\ub098\\ubca0\\uc6b0\\ub3d9\\uc815\\uc2dd\",\"\\ud788\\ub808\\uce74\\uce20(\\uc815\\uc2dd)\",\"\\ubaa8\\ub4ec\\uce74\\uce20(\\uc815\\uc2dd)\",\"\\uc5bc\\ud070\\uc624\\ub385\\uc6b0\\ub3d9\\uc815\\uc2dd\",\"\\ub808\\uc774\\ub514\\uce74\\uce20(\\uc815\\uc2dd)\"]],[6282900,6162400,5259300,[\"\\uc18c\\ucf54\\uc544\\uce74\\ub808\",\"\\ubc18\\ubc18\\uce74\\ub808\",\"\\uc544\\ubcf4\\uce74\\ub3c4 \\uc5f0\\uc5b4\\ub0c9\\uc6b0\\ub3d9\",\"\\uc5d0\\ube44\\uce74\\ub808\",\"\\uc18c\\ucf54\\ub3d9\"],[\"\\uc18c\\ucf54\\uc544\\uce74\\ub808\",\"\\ubc18\\ubc18\\uce74\\ub808\",\"\\uc544\\ubcf4\\uce74\\ub3c4 \\uc5f0\\uc5b4\\ub0c9\\uc6b0\\ub3d9\",\"\\uc18c\\ucf54\\ub3d9\",\"\\ud1a0\\ub9ac\\uce74\\ub808\"],[\"\\uc18c\\ucf54\\uc544\\uce74\\ub808\",\"\\ubc18\\ubc18\\uce74\\ub808\",\"\\uc544\\ubcf4\\uce74\\ub3c4 \\uc5f0\\uc5b4\\ub0c9\\uc6b0\\ub3d9\",\"\\uc5d0\\ube44\\uce74\\ub808\",\"\\ub9c8\\uc81c\\uce74\\ub808\\uc6b0\\ub3d9\"]],[936400,4943000,5705500,null,[\"\\ud68c\\uc0b0\\ubb3c\\ubaa8\\ub460\",\"\\uc54c\\ub9c8\\ub2c8 \\uc0b0\\uc624\\uc9d5\\uc5b4\",\"\\ubc14\\uc9c0\\ub77d\\uc220\\ucc1c\",\"\\ubbf8\\ub098\\ub9ac\\uc0c8\\uc6b0\\uc804\",\"\\uc0c8\\ub85c\"],[\"\\ud68c\\uc0b0\\ubb3c\\ubaa8\\ub460\",\"\\ucc38\\uc774\\uc2ac\",\"\\uad11\\uc5b4+\\uc6b0\\ub7ed+\\ud574\\uc0b0\\ubb3c\\uc138\\ud2b8\",\"\\uc54c\\ub9c8\\ub2c8 \\uc0b0\\uc624\\uc9d5\\uc5b4\",\"\\uc0c8\\ub85c\"]],[1138800,728100,838700,[\"\\uc544\\uc774\\uc2a4 \\uc544\\uba54\\ub9ac\\uce74\\ub178\",\"\\uc544\\uba54\\ub9ac\\uce74\\ub178\",\"\\ud558\\uc774\\ubcfc\",\"\\uce74\\ubaa8\\ub9c8\\uc77c\",\"\\uc5bc\\uadf8\\ub808\\uc774\"],[\"\\uc544\\uba54\\ub9ac\\uce74\\ub178\",\"\\uc544\\uc774\\uc2a4 \\uc544\\uba54\\ub9ac\\uce74\\ub178\",\"\\uce74\\ud398\\ub77c\\ub5bc\",\"\\ub808\\ubaac\\uc5d0\\uc774\\ub4dc\",\"\\uc544\\uc774\\uc2a4 \\ucd08\\ucf54\\ub77c\\ub5bc\"],[\"\\uc544\\uc774\\uc2a4 \\uc544\\uba54\\ub9ac\\uce74\\ub178\",\"\\uc544\\uba54\\ub9ac\\uce74\\ub178\",\"\\ubc00\\ud06c\\ud06c\\ub808\\uc774\\ud504\",\"\\uce74\\ud398\\ub77c\\ub5bc\",\"\\ub538\\uae30\\uc8fc\\uc2a4\"]],[10030000,5438000,5812500,[\"\\uc778 \\ucf54\\uc2a4 A\",\"\\ud2b8\\ub7ec\\ud50c \\ub1e8\\ub07c\",\"\\uc288\\ub9bc\\ud504 \\uc7a0\\ubc1c\\ub77c\\uc57c\",\"\\uc778 \\ucf54\\uc2a4 B\",\"\\uc138\\ud2b8 A \\uc7a0\\ubc1c\"],[\"\\uc288\\ub9bc\\ud504 \\uc7a0\\ubc1c\\ub77c\\uc57c\",\"\\ud2b8\\ub7ec\\ud50c \\ub1e8\\ub07c\",\"\\uc2a4\\ud0ed\\ubc00 \\ud30c\\uc2a4\\ud0c0\",\"\\uc138\\ud2b8B \\ub85c\\uc81c 750\",\"\\ubc8c\\uafc0 \\ub2e8\\ud638\\ubc15 \\ud30c\\uc2a4\\ud0c0\"],[\"\\uc288\\ub9bc\\ud504 \\uc7a0\\ubc1c\\ub77c\\uc57c\",\"\\uc2a4\\ud0ed\\ubc00 \\ud30c\\uc2a4\\ud0c0\",\"\\ud2b8\\ub7ec\\ud50c \\ub1e8\\ub07c\",\"\\uc26c\\ub9bc\\ud504\\uc640\\ub8e8\\uace8\\ub77c\\ub85c\\uc81c\\ud30c\\uc2a4\\ud0c0\",\"\\uc138\\ud2b8B \\ub85c\\uc81c 750\"]],[1895000,1228500,1108000,[\"\\ucf54\\ucf54\\uac00\\uce20\",\"\\ub3c8\\uae4c\\uc2a4\\uae40\\uce58\\ucc0c\\uac1c(1\\uc778)\",\"\\uce58\\uc988\\uac00\\uce20\",\"\\uce74\\ub808\\uac00\\uce20\",\"\\ubaa8\\ub4ec\\uac00\\uce20\"],[\"\\ucf54\\ucf54\\uac00\\uce20(\\ub300)\",\"\\ucf54\\ucf54\\uac00\\uce20\",\"\\uce58\\uc988\\uac00\\uce20\",\"\\uac00\\uce20\\ub3d9\",\"\\uc6b0\\ub3d9,\\ub3c8\\uae4c\\uc2a4\"],[\"\\ucf54\\ucf54\\uac00\\uce20\",\"\\uce74\\ub808\\uac00\\uce20\",\"\\ub3c8\\uae4c\\uc2a4\\uae40\\uce58\\ucc0c\\uac1c(1\\uc778)\",\"\\uce58\\uc988\\uac00\\uce20\",\"\\ucf54\\ucf54\\uac00\\uce20(\\ub300)\"]],[5944500,7180000,6360500,[\"\\uc5bc\\ud070\\ub3c8\\uce74\\uce20\",\"\\ubca0\\uc774\\uc9c1\\uce74\\uce20\",\"\\ubca0\\uc774\\uc9c125\\uc815\\uc2dd\",\"\\ub5a1\\ubcf6\\uc774\\ub3c8\\uae4c\\uc2a4\",\"\\uce58\\uc98825\\uc815\\uc2dd\"],[\"\\uc5bc\\ud070\\ub3c8\\uce74\\uce20\",\"\\ubca0\\uc774\\uc9c1\\uce74\\uce20\",\"\\uce58\\uc98825\\uc815\\uc2dd\",\"\\ubca0\\uc774\\uc9c125\\uc815\\uc2dd\",\"\\uce58\\uc988\\uce74\\uce20\"],[\"\\uc5bc\\ud070\\ub3c8\\uce74\\uce20\",\"\\ubca0\\uc774\\uc9c1\\uce74\\uce20\",\"\\ubca0\\uc774\\uc9c125\\uc815\\uc2dd\",\"\\uce58\\uc98825\\uc815\\uc2dd\",\"\\uce58\\uc988\\uce74\\uce20\"]],[11587600,11420400,11803300,[\"\\uc624\\ubbc0\\uce74\\ub808(\\uc911)\",\"\\uc624\\ubbc0\\uce74\\ub808(\\uc18c)\",\"\\uce58\\ud0a8\\uac00\\ub77c\\uc544\\uac8c\",\"\\ud1a0\\ubaa8\\ud1a0\\uce74\\ub808(\\uc911)\",\"\\uc6b0\\ub9ac\\ub3c8\\uc0dd\\ub3c8\\uce74\\uce20\"],[\"\\uc624\\ubbc0\\uce74\\ub808(\\uc911)\",\"\\uc624\\ubbc0\\uce74\\ub808(\\uc18c)\",\"\\uce58\\ud0a8\\uac00\\ub77c\\uc544\\uac8c\",\"\\uc6b0\\ub9ac\\ub3c8\\uc0dd\\ub3c8\\uce74\\uce20\",\"\\ud1a0\\ubaa8\\ud1a0\\uce74\\ub808(\\uc911)\"],[\"\\uc624\\ubbc0\\uce74\\ub808(\\uc911)\",\"\\uc624\\ubbc0\\uce74\\ub808(\\uc18c)\",\"\\uce58\\ud0a8\\uac00\\ub77c\\uc544\\uac8c\",\"\\ud1a0\\ubaa8\\ud1a0\\uce74\\ub808(\\uc911)\",\"\\uc6b0\\ub9ac\\ub3c8\\uc0dd\\ub3c8\\uce74\\uce20\"]],[936400,701700,825100,null,[\"\\ub178\\uc2a4\\ud2b8\\ub784\\ub808(\\ud654\\uc774\\ud2b8)\",\"D\\ud22c\\uc6c0\\ubc14\\ud30c\\uc2a4\\ud0c0\",\"ice \\ub77c\\ub5bc\",\"D\\ub098\\ud3f4\\ub9ac\\ud0c4 \\ud30c\\uc2a4\\ud0c0\",\"hot \\uc544\\uba54\\ub9ac\\uce74\\ub178\"],[\"ice \\uc544\\uba54\\ub9ac\\uce74\\ub178\",\"hot \\uc544\\uba54\\ub9ac\\uce74\\ub178\",\"\\ubc84\\ud130\\uce74\\uc57c\",\"\\ud22c\\uc6c0\\ubc14 set\",\"D\\ubc14\\uc9c8\\ud06c\\ub9bc \\ud30c\\uc2a4\\ud0c0\"]],[63581700,63212500,72623000,[\"\\uac10\\uc131\\uadf8\\ub9b4\\ub4dc\\ud30c\\ud788\\ud0c0\",\"\\uc5bc\\ud2f0\\uba54\\uc774\\ud2b8\\uadf8\\ub9b4\\ub4dc\\ud50c\\ub798\\ud130\",\"\\ud2b8\\ub9ac\\ud50c\\ubbf8\\ud2b8\\ud30c\\ud788\\ud0c0\",\"\\uc26c\\ub9bc\\ud504\\ucf64\\ubcf4\\ud30c\\ud788\\ud0c0\",\"\\ubca0\\ub974\\ub370\\uc20f\\ub9bd\\ud018\\uc0ac\\ub514\\uc544\"],[\"\\uac10\\uc131\\uadf8\\ub9b4\\ub4dc\\ud30c\\ud788\\ud0c0\",\"\\uc5bc\\ud2f0\\uba54\\uc774\\ud2b8\\uadf8\\ub9b4\\ub4dc\\ud50c\\ub798\\ud130\",\"\\ud2b8\\ub9ac\\ud50c\\ubbf8\\ud2b8\\ud30c\\ud788\\ud0c0\",\"\\uac10\\uc131\\uc138\\uc158IPA(\\uc774\\ubca4\\ud2b8)\",\"\\uc26c\\ub9bc\\ud504\\ucf64\\ubcf4\\ud30c\\ud788\\ud0c0\"],[\"\\uac10\\uc131\\uadf8\\ub9b4\\ub4dc\\ud30c\\ud788\\ud0c0\",\"\\uc5bc\\ud2f0\\uba54\\uc774\\ud2b8\\uadf8\\ub9b4\\ub4dc\\ud50c\\ub798\\ud130\",\"\\ud2b8\\ub9ac\\ud50c\\ubbf8\\ud2b8\\ud30c\\ud788\\ud0c0\",\"\\uce58\\ud0a8\\ucf64\\ubcf4\\ud30c\\ud788\\ud0c0\",\"\\uac10\\uc131\\uc138\\uc158IPA(\\uc0dd)\"]],[4174000,3762000,5815500,[\"W \\ube44\\ud504\\uc6f0\\ub9c1\\ud134\",\"\\uae00\\ub80c\\ud53c\\ub51515\\ub144\",\"\\ud48d\\uae30\\ud06c\\ub9bc\\ud30c\\uc2a4\\ud0c0\",\"\\ud0d1\\uc2a4\\ud0c0\\ud30c\\uc2a4\\ud0c0\",\"\\ub85c\\uc81c\\uc26c\\ub9bc\\ud504\\ud30c\\uc2a4\\ud0c0\"],[\"W \\ube44\\ud504\\uc6f0\\ub9c1\\ud134\",\"\\ud48d\\uae30\\ud06c\\ub9bc\\ud30c\\uc2a4\\ud0c0\",\"\\ub85c\\uc81c\\uc26c\\ub9bc\\ud504\\ud30c\\uc2a4\\ud0c0\",\"\\ubd09\\uace8\\ub808\\ud30c\\uc2a4\\ud0c0\",\"\\ube44\\ud504\\ub9ac\\uc18c\\ud1a0\"],[\"W \\ube44\\ud504\\uc6f0\\ub9c1\\ud134\",\"\\ud48d\\uae30\\ud06c\\ub9bc\\ud30c\\uc2a4\\ud0c0\",\"\\ub85c\\uc81c\\uc26c\\ub9bc\\ud504\\ud30c\\uc2a4\\ud0c0\",\"\\ube44\\ud504\\ub9ac\\uc18c\\ud1a0\",\"\\ud1a0\\ub9c8\\ud1a0\\uc5f0\\uc5b4\\uc0d0\\ub7ec\\ub4dc\"]],[1704500,1435000,1713500,[\"\\uc548\",\"\\uc548(\\ub300)\",\"\\ubaa8\",\"\\ubaa8(\\ub300)\",\"\\uce58\"],[\"\\uc548\",\"\\ubaa8\",\"\\uc548(\\ub300)\",\"\\ubaa8(\\ub300)\",\"\\uce58\"],[\"\\uc548\",\"\\ubaa8(\\ub300)\",\"\\ubaa8\",\"\\ub370\\ubbf8\",\"\\uce58\"]],[6851000,6466000,2872000,[\"\\ub1e8\\ub07c\",\"\\uc131\\uac8c\\uc54c\",\"\\ube60\\uc5d0\\uc57c\",\"\\ubc14\\uc9c8\\ud398\\uc2a4\\ud1a0\",\"\\ubca0\\uc774\\ucee8\\ud06c\\ub9bc\"],[\"\\ub1e8\\ub07c\",\"\\ube60\\uc5d0\\uc57c\",\"\\uc131\\uac8c\\uc54c\",\"\\ubc14\\uc9c8\\ud398\\uc2a4\\ud1a0\",\"\\ubca0\\uc774\\ucee8\\ud06c\\ub9bc\"],[\"\\ub1e8\\ub07c\",\"\\ube60\\uc5d0\\uc57c\",\"\\uc131\\uac8c\\uc54c\",\"\\ubc14\\uc9c8\\ud398\\uc2a4\\ud1a0\",\"\\ubd80\\ucc44\\uc0b4\"]],[4688000,4456000,4755500,[\"\\ud788\\ub808\\uce74\\uce20\",\"\\\\\\ud2b9\\\\\\\"\\ud788\\ub808\\uce74\\uce20\\\"\",\"\\uc0c1\\ub85c\\uc2a4\\uce74\\uce20\",\"\\uc81c\\ub85c\",\"\\ub9e5\\uc8fc\"],[\"\\ud788\\ub808\\uce74\\uce20\",\"\\\\\\ud2b9\\\\\\\"\\ud788\\ub808\\uce74\\uce20\\\"\",\"\\uc0c1\\ub85c\\uc2a4\\uce74\\uce20\",\"\\uc81c\\ub85c\",\"\\ub9e5\\uc8fc\"],[\"\\ud788\\ub808\\uce74\\uce20\",\"\\\\\\ud2b9\\\\\\\"\\ud788\\ub808\\uce74\\uce20\\\"\",\"\\uc0c1\\ub85c\\uc2a4\\uce74\\uce20\",\"\\ub9e5\\uc8fc\",\"\\uc81c\\ub85c\"]],[16419500,15867100,14799900,[\"\\uce58\\ud0a8All\\ud50c\\ub808\\ud130\",\"\\uc9ec\\ubf55\\ud0d5\",\"\\ud30c\\ub9c8\\uc0b0\\uce58\\ud0a8\",\"\\ud14c\\ub77c[500cc]\",\"\\ud6c4\\ub77c\\uc774\\ub4dc \\uce58\\ud0a8\"],[\"\\uce58\\ud0a8All\\ud50c\\ub808\\ud130\",\"\\ud6c4\\ub77c\\uc774\\ub4dc \\uce58\\ud0a8\",\"\\ud30c\\ub9c8\\uc0b0\\uce58\\ud0a8\",\"\\uc9ec\\ubf55\\ud0d5\",\"\\ud14c\\ub77c[500cc]\"],[\"\\uce58\\ud0a8All\\ud50c\\ub808\\ud130\",\"\\ud6c4\\ub77c\\uc774\\ub4dc \\uce58\\ud0a8\",\"\\ud30c\\ub9c8\\uc0b0\\uce58\\ud0a8\",\"\\uc9ec\\ubf55\\ud0d5\",\"\\ud14c\\ub77c[500cc]\"]],[1904000,1601500,1589000,[\"\\ub85c\\uc2a4\\uce74\\uce20\\uc815\\uc2dd\",\"\\ubaa8\\ub4ec\\uce74\\uce20\\uc815\\uc2dd\",\"\\ud788\\ub808\\uce74\\uce20\\uc815\\uc2dd\",\"(\\ud2b9\\uc0c1)\\ub85c\\uc2a4\\uce74\\uce20\\uc815\\uc2dd\",\"\\ucf5c\\ub77c\"],[\"\\ud788\\ub808\\uce74\\uce20\\uc815\\uc2dd\",\"\\ubaa8\\ub4ec\\uce74\\uce20\\uc815\\uc2dd\",\"\\ub85c\\uc2a4\\uce74\\uce20\\uc815\\uc2dd\",\"(\\ud2b9\\uc0c1)\\ub85c\\uc2a4\\uce74\\uce20\\uc815\\uc2dd\",\"\\uc9c4\\uc800\\ud558\\uc774\\ubcfc\"],[\"\\ud788\\ub808\\uce74\\uce20\\uc815\\uc2dd\",\"\\ubaa8\\ub4ec\\uce74\\uce20\\uc815\\uc2dd\",\"(\\ud2b9\\uc0c1)\\ub85c\\uc2a4\\uce74\\uce20\\uc815\\uc2dd\",\"\\ub85c\\uc2a4\\uce74\\uce20\\uc815\\uc2dd\",\"\\ucf5c\\ub77c\"]],[7776200,7122000,7969800,[\"\\ubaa9\\uc0b4\\uc2a4\\ud14c\\uc774\\ud06c+\\uc0d0\\ub7ec\\ub4dc\",\"\\uce58\\ud0a8 \\ubc14\\ubca0\\ud050 \\ud50c\\ub808\\uc774\\ud2b8\",\"\\uac10\\ubc14\\uc2a4 \\uc54c \\ud558\\uc774\\uc694\",\"\\ubaa9\\uc0b4 \\ud544\\ub77c\\ud504\",\"\\ucc28\\ub3cc \\uc54c\\ub9ac\\uc624\\uc62c\\ub9ac\\uc624\"],[\"\\ubaa9\\uc0b4\\uc2a4\\ud14c\\uc774\\ud06c+\\uc0d0\\ub7ec\\ub4dc\",\"\\uce58\\ud0a8 \\ubc14\\ubca0\\ud050 \\ud50c\\ub808\\uc774\\ud2b8\",\"\\ubaa9\\uc0b4 \\ud544\\ub77c\\ud504\",\"\\ucc28\\ub3cc\\ubc15\\uc774 \\ud544\\ub77c\\ud504\",\"\\uc0c8\\uc6b0\\ub85c\\uc81c\\ud30c\\uc2a4\\ud0c0\"],[\"\\ubaa9\\uc0b4\\uc2a4\\ud14c\\uc774\\ud06c+\\uc0d0\\ub7ec\\ub4dc\",\"\\uce58\\ud0a8 \\ubc14\\ubca0\\ud050 \\ud50c\\ub808\\uc774\\ud2b8\",\"\\ubaa9\\uc0b4 \\ud544\\ub77c\\ud504\",\"\\ucc28\\ub3cc \\uc54c\\ub9ac\\uc624\\uc62c\\ub9ac\\uc624\",\"\\uc0c8\\uc6b0\\ub85c\\uc81c\\ud30c\\uc2a4\\ud0c0\"]],[2989800,2523200,2454700,[\"LASAGNA\",\"CARBONARA\",\"MARGHERITA\",\"TENDERLOIN STEAK\",\"ETNA SET 2\"],[\"ETNA SET 2\",\"LASAGNA\",\"CARBONARA\",\"TENDERLOIN STEAK\",\"MARGHERITA\"],[\"LASAGNA\",\"ETNA SET 2\",\"DE STEFANI PROSECCO\",\"CARBONARA\",\"VONGOLE\"]],[4163000,2950000,3165000,[\"\\ud074\\ub798\\uc2dd\\ub77c\\uad6c\\ud30c\\uc2a4\\ud0c0\",\"\\uce58\\ud0a8\\ub77c\\uc774\\uc2a4\",\"\\ub531\\uc0c8\\uc6b0\\ube44\\uc2a4\\ud050\\ud30c\\uc2a4\\ud0c0\",\"\\uc2a4\\ud14c\\uc774\\ud06c_MR\",\"\\ud1a0\\ub808\\ube0c\\ub8e8\\ub098 \\ub07c\\uc548\\ud2f0\"],[\"\\ud074\\ub798\\uc2dd\\ub77c\\uad6c\\ud30c\\uc2a4\\ud0c0\",\"\\uce58\\ud0a8\\ub77c\\uc774\\uc2a4\",\"\\uc2a4\\ud14c\\uc774\\ud06c_MR\",\"\\uba85\\ub780\\uc54c\\ub9ac\\uc624\\uc62c\\ub9ac\\uc624\",\"\\uc2a4\\ud14c\\uc774\\ud06c_M\"],[\"\\ud074\\ub798\\uc2dd\\ub77c\\uad6c\\ud30c\\uc2a4\\ud0c0\",\"\\uce58\\ud0a8\\ub77c\\uc774\\uc2a4\",\"\\uba85\\ub780\\uc54c\\ub9ac\\uc624\\uc62c\\ub9ac\\uc624\",\"\\ub531\\uc0c8\\uc6b0\\ube44\\uc2a4\\ud050\\ud30c\\uc2a4\\ud0c0\",\"\\uc2a4\\ud14c\\uc774\\ud06c_M\"]],[3290000,1252000,797000,[\"\\ubc14\\ubca0\\ud050\",\"\\ud310\\ud2f0\\ub2c8,\\uae4c\\uc0b4\\ub808 \\ubca0\\ub07c\\uc624\",\"\\ud32c\\uc2a4\\ud14c\\uc774\\ud06c\",\"\\uce58\\uc988 \\ud50c\\ub798\\ud130\",\"\\ud06c\\ub9bc\\uc0c8\\uc6b0\\ub9ac\\uc870\\ub610\"],[\"\\ubc14\\ubca0\\ud050\",\"\\uadf8\\ub791\\uae4c\\uc2a4\\ud2f8\\ub85c \\ud30c\\ubc00\\ub9ac\\uc544 \\uae4c\\uc1fc\",\"\\ub871\\ubc18 \\uc0e4\\ub3c4\\ub124\\uc774\",\"\\uc2a4\\ud14c\\uc774\\ud06c\",\"\\ud050\\ub9d0\\ubca1\"],[\"\\ubc14\\ubca0\\ud050\",\"\\ub8e8\\uc774\\uc790\\ub3c4 \\uc0e4\\ube14\\ub9ac\",\"\\uce7c\\ub808\\ub77c \\uc0e4\\ub3c4\\ub124\\uc774\",\"\\ud0b4 \\ud06c\\ub85c\\ud3ec\\ub4dc\",\"\\uadf8\\ub791\\uae4c\\uc2a4\\ud2f8\\ub85c \\ud30c\\ubc00\\ub9ac\\uc544 \\uae4c\\uc1fc\"]],[6869500,6398000,5839000,[\"\\ub144 \\ud06c\\ub9ac\\uc2a4\\ub9c8\\uc2a4 \\ucf54\\uc2a4 \\uba54\\ub9ac\\ud06c\\ub9ac\\uc2a4\\ub9c8\\uc2a4\",\"(\\ud53c\\uc790)\\ub77c\\uad6c\",\"(Pasta)\\ubd09\\uace8\\ub808\",\"(Pasta)\\ud478\\ud0c0\\ub124\\uc2a4\\uce74\\ube44\\uc559\\ucf54\",\"(\\ud53c\\uc790)\\ubf48\\ubf40\\uc5d0\\ube60\\ub530\\ub5bc\"],[\"(\\ud53c\\uc790)\\ub9c8\\ub974\\uac8c\\ub9ac\\ub530 \\ud504\\ub808\\uc2a4\\uce74\",\"(\\ud53c\\uc790)\\ub77c\\uad6c\",\"(\\ud53c\\uc790)\\ub8e8\\uaf34\\ub77c\\ud504\\ub85c\",\"(\\ud53c\\uc790)\\ubf48\\ubf40\\uc5d0\\ube60\\ub530\\ub5bc\",\"(Pasta)\\ud478\\ud0c0\\ub124\\uc2a4\\uce74\\ube44\\uc559\\ucf54\"],[\"(\\ud53c\\uc790)\\ub8e8\\uaf34\\ub77c\\ud504\\ub85c\",\"(Pasta)\\ud478\\ud0c0\\ub124\\uc2a4\\uce74\\ube44\\uc559\\ucf54\",\"(\\ud53c\\uc790)\\ud48d\\uae30\",\"(Pasta)\\uc2dc\\uce60\\ub9ac\\uc544\\ub098\",\"(\\ud53c\\uc790)\\ub9c8\\ub974\\uac8c\\ub9ac\\ub530 \\ud504\\ub808\\uc2a4\\uce74\"]],[1190500,812000,1463000,[\"SWEET POTATO WEDGES\",\"CARNITAS TACOS\",\"Shrimp TACOS\",\"STEAK QUESADILLAS\",\"SAN MIGUEL 300\"],[\"Shrimp TACOS\",\"SWEET POTATO WEDGES\",\"CARNITAS TACOS\",\"CHICKEN QUESADILLAS\",\"SAN MIGUEL 300\"],[\"SAN MIGUEL 300\",\"Shrimp TACOS\",\"STEAK QUESADILLAS\",\"CARNITAS TACOS\",\"\\ubca8\\ub77c\\ub610\\ub760\\uc544 \\ub098\\ucd08\\uce69\"]],[705000,862000,472000,[\"\\ub4f1\\uc2ec\\uc218\\uc81c\\ub3c8\\uae4c\\uc2a4\",\"\\ucca0\\ud310\\uce58\\uc988\\ub3c8\\uae4c\\uc2a4\",\"\\uc81c\\uc721\",\"\\uae40\\uce58\\uc6b0\\ub3d9\",\"\\ub4f1\\uc2ec\\uce74\\ub808\\ub3c8\\uae4c\\uc2a4\"],[\"\\uae40\\uce58\\uc6b0\\ub3d9\",\"\\ucca0\\ud310\\uce58\\uc988\\ub3c8\\uae4c\\uc2a4\",\"\\ub4f1\\uc2ec\\uc218\\uc81c\\ub3c8\\uae4c\\uc2a4\",\"\\uc81c\\uc721\",\"\\ud669\\ud0dc\\ud574\\uc7a5\\uad6d\"],[\"\\ub4f1\\uc2ec\\uc218\\uc81c\\ub3c8\\uae4c\\uc2a4\",\"\\uae40\\uce58\\uc6b0\\ub3d9\",\"\\ucca0\\ud310\\uce58\\uc988\\ub3c8\\uae4c\\uc2a4\",\"\\uc624\\uc9d5\\uc5b4\",\"\\uc624\\uc9d5\\uc5b4+\\uc81c\\uc721\"]],[1519300,1124800,1789800,[\"\\ud788\\ub808\\uce74\\uce20\",\"\\ud2b9\\ub85c\\uc2a4\\uce74\\uce20\",\"\\ubaa8\\ub4ec\\uce74\\uce20\",\"\\ub85c\\uc2a4\\uce74\\uce20\",\"\\uc900 \\uc815\\uc2dd\"],[\"\\ud788\\ub808\\uce74\\uce20\",\"\\ub85c\\uc2a4\\uce74\\uce20\",\"\\ubaa8\\ub4ec\\uce74\\uce20\",\"\\uc900 \\uc815\\uc2dd\",\"\\uba58\\uce58\\uce58\\uc988\\uce74\\uce20\"],[\"\\uc900 \\uc815\\uc2dd\",\"\\ubaa8\\ub4ec\\uce74\\uce20\",\"\\ud788\\ub808\\uce74\\uce20\",\"\\ub85c\\uc2a4\\uce74\\uce20\",\"\\uc6b0\\ub3d9\\uc138\\ud2b8 C(\\ub85c\\uc2a4\\uce74\\uce20+\\ubbf8\\ub2c8\\uc6b0\\ub3d9)\"]],[15824000,6208000,7405000,[\"\\ub8e8\\ub098\\uc528\\uc5d8\\ub85c \\uc2a4\\ud14c\\uc774\\ud06c\",\"D\\uc2a4\\ud14c\\uc774\\ud06c+\\ud30c\\uc2a4\\ud0c0\",\"\\ud654\\uc774\\ud2b8 \\ub77c\\uad6c \\ud30c\\uc2a4\\ud0c0\",\"\\ubbf8\\uc158\\uc11c\\ub4dc\",\"\\uc0c8\\uc6b0\\uac04\\uc7a5\\ud06c\\ub9bc\\ub9ac\\uc870\\ub610\"],[\"D\\uc2a4\\ud14c\\uc774\\ud06c+\\ud30c\\uc2a4\\ud0c0 \\uac19\\uc774\",\"\\uc11c\\ube0c\\ubbf8\\uc158, \\uae4c\\uc1fc\",\"\\uc0c8\\uc6b0\\uac04\\uc7a5\\ud06c\\ub9bc\\ub9ac\\uc870\\ub610\",\"C\\ucc39\\uc2a4\\ud14c\\uc774\\ud06c+\\ud30c\\uc2a4\\ud0c0\",\"\\uac10\\ubc14\\uc2a4\"],[\"\\ub8e8\\ub098\\uc528\\uc5d8\\ub85c \\uc2a4\\ud14c\\uc774\\ud06c \\uac19\\uc774\",\"\\ud654\\uc774\\ud2b8 \\ub77c\\uad6c \\ud30c\\uc2a4\\ud0c0\",\"\\uccb8\\ud1a0\\ub9ac \\ubaa8\\uc2a4\\uce74\\ud1a0\",\"\\uc0c8\\uc6b0\\uac04\\uc7a5\\ud06c\\ub9bc\\ub9ac\\uc870\\ub610\",\"A\\ud30c\\uc2a4\\ud0c0+\\ud30c\\uc2a4\\ud0c0\"]],[2132700,602800,1688100,[\"\\uad74\\ub77c\\uc26c\",\"\\uae7b\\uc78e \\ud30c\\uc2a4\\ud0c0\",\"\\ucc38\\ub098\\ubb3c \\ud30c\\uc2a4\\ud0c0\",\"\\ub3fc\\uc9c0\\ucc1c\",\"\\uae4c\\ub974\\ubcf4\\ub098\\ub77c\"],[\"\\uad74\\ub77c\\uc26c\",\"\\uae7b\\uc78e \\ud30c\\uc2a4\\ud0c0\",\"\\ucc38\\ub098\\ubb3c \\ud30c\\uc2a4\\ud0c0\",\"\\uae40\\uce58 \\ubcf6\\uc74c\\ubc25\",\"\\uac08\\ub9ad \\ud1a0\\ub9c8\\ud1a0\"],[\"\\uad74\\ub77c\\uc26c\",\"\\uae7b\\uc78e \\ud30c\\uc2a4\\ud0c0\",\"\\ucc38\\ub098\\ubb3c \\ud30c\\uc2a4\\ud0c0\",\"\\ub3fc\\uc9c0\\ucc1c\",\"\\uae4c\\ub974\\ubcf4\\ub098\\ub77c\"]],[26958000,11635000,11733000,[\"\\ub514\\ub108 \\uc608\\uc57d\",\"\\ub514\\ub108 65\",\"\\uc640\\uc778\",\"\\ucc44\\ub05d \\uc138\\ud2b8\",\"\\ub514\\ub108 48\"],[\"\\ub514\\ub108 68\",\"\\ucc44\\ub05d \\uc138\\ud2b8\",\"\\uc640\\uc778\",\"\\uc548\\uc2ec \\uc2a4\\ud398\\uc15c \\uc138\\ud2b8 118\",\"\\ub514\\ub108 48\"],[\"\\ub514\\ub108 68\",\"\\uc548\\uc2ec \\uc2a4\\ud398\\uc15c \\uc138\\ud2b8 118\",\"\\ucc44\\ub05d \\uc138\\ud2b8\",\"\\uc548\\uc2ec \\uc138\\ud2b8\",\"\\ub514\\ub108 48\"]],[6679400,7789100,8614900,[\"\\uc544\\uc774\\uc2a4\\ud06c\\ub9bc(\\ubc14\\ub2d0\\ub77c)\",\"\\uc544\\uc774\\uc2a4\\ud06c\\ub9bc(\\ucd08\\ucf54)\",\"\\ub4f1\\uc2ec\\ub3c8\\uae4c\\uc2a4\",\"\\uc655\\ub4f1\\uc2ec\\ub3c8\\uae4c\\uc2a4\",\"\\ud1b5\\ubaa8\\uc9dc\\ub810\\ub77c\\uce58\\uc988\\ub864\\uae4c\\uc2a4\"],[\"\\uc544\\uc774\\uc2a4\\ud06c\\ub9bc(\\ubc14\\ub2d0\\ub77c)\",\"\\uc544\\uc774\\uc2a4\\ud06c\\ub9bc(\\ucd08\\ucf54)\",\"\\ub4f1\\uc2ec\\ub3c8\\uae4c\\uc2a4\",\"\\ud1b5\\ubaa8\\uc9dc\\ub810\\ub77c\\uce58\\uc988\\ub864\\uae4c\\uc2a4\",\"\\uc655\\ub4f1\\uc2ec\\ub3c8\\uae4c\\uc2a4\"],[\"\\uc544\\uc774\\uc2a4\\ud06c\\ub9bc(\\ubc14\\ub2d0\\ub77c)\",\"\\uc544\\uc774\\uc2a4\\ud06c\\ub9bc(\\ucd08\\ucf54)\",\"\\ub4f1\\uc2ec\\ub3c8\\uae4c\\uc2a4\",\"\\ud1b5\\ubaa8\\uc9dc\\ub810\\ub77c\\uce58\\uc988\\ub864\\uae4c\\uc2a4\",\"\\uc655\\ub4f1\\uc2ec\\ub3c8\\uae4c\\uc2a4\"]],[5464000,2989000,3986000,[\"special course\",\"Gnocchi\",\"Christmas\",\"Bottarga\",\"Contro_100g\"],[\"Gnocchi\",\"Bottarga\",\"Lunch\",\"Green polpo\",\"special course\"],[\"Bottarga\",\"Gnocchi\",\"Contro_100g\",\"special course\",\"Barolo, Serralunga Schiavenza\"]],[28979000,79949000,87765000,[\"\\uc2ac\\ub85c\\uc6b0\\uc57c\\ub4dc\\ud50c\\ub798\\ud130\",\"\\ud30c\\ud2f0 \\ud50c\\ub798\\ud130\",\"BBQ\\ud50c\\ub808\\uc774\\ud2b8\",\"\\ube44\\ud504\\ub9bd\\ud50c\\ub798\\ud130\",\"\\uc54c\\ub9ac\\uc624\\uc62c\\ub9ac\\uc624\"],[\"\\uc2ac\\ub85c\\uc6b0\\uc57c\\ub4dc\\ud50c\\ub798\\ud130\",\"\\ud30c\\ud2f0 \\ud50c\\ub798\\ud130\",\"BBQ\\ud50c\\ub808\\uc774\\ud2b8\",\"\\ube44\\ud504\\ub9bd\\ud50c\\ub798\\ud130\",\"\\ubc00\\ub7ec(Draft)\"],[\"\\uc2ac\\ub85c\\uc6b0\\uc57c\\ub4dc\\ud50c\\ub798\\ud130\",\"\\ud30c\\ud2f0 \\ud50c\\ub798\\ud130\",\"\\ub77c\\uad6c\",\"\\ubc00\\ub7ec(Draft)\",\"BBQ\\ud50c\\ub808\\uc774\\ud2b8\"]],[1091400,864400,1133500,[\"BANDERA POLLO\",\"MILANESA NAPO PAPAS FRITAS\",\"SET EMPANADAS NEW\",\"EMPA POLLO\",\"BANDERA RES\"],[\"SET EMPANADAS NEW\",\"PICADA MIXTA\",\"BANDERA CERDO\",\"BANDERA POLLO\",\"BANDERA RES\"],[\"BANDERA POLLO\",\"BANDERA CERDO\",\"SET EMPANADAS NEW\",\"PICADA MIXTA\",\"Churrasco EC\"]],[2584500,2216000,2397000,[\"\\ud1b5\\uc0bc\\uacb9\\uae40\\uce58\\uce7c\\uc81c\\ube44\",\"\\ud55c\\uc6b0\\ud0c0\\ub2e4\\ub07c\",\"\\ucc38\\uc774\\uc2ac\",\"\\ud14c\\ub77c\",\"\\ud64d\\uac8c\\uc624\\ub385\\ud0d5\"],[\"\\ud1b5\\uc0bc\\uacb9\\uae40\\uce58\\uce7c\\uc81c\\ube44\",\"\\ud55c\\uc6b0\\ud0c0\\ub2e4\\ub07c\",\"\\uc0c8\\ub85c\",\"\\ubcf5\\uc22d\\uc544\\ud558\\uc774\\ubcfc\",\"\\ucc38\\uc774\\uc2ac\"],[\"\\ud1b5\\uc0bc\\uacb9\\uae40\\uce58\\uce7c\\uc81c\\ube44\",\"\\ud55c\\uc6b0\\ud0c0\\ub2e4\\ub07c\",\"\\ubcf5\\uc22d\\uc544\\ud558\\uc774\\ubcfc\",\"\\ud14c\\ub77c\",\"\\ud55c\\uc6b0\\uc721\\ud68c\"]],[3164500,3483800,3577500,[\"\\ub4f1\\uc2ec\",\"\\uc815\\uc2ddA(\\uae30\\ubcf8)\",\"\\uc815\\uc2ddB(\\ud64d\\uce58+\\uc548)\",\"\\ud64d\\uc218\\uce58\\uc988\\ub3c8\\uae4c\\uc2a4\",\"\\uc815\\uc2ddC(\\ud1b5\\uc0c8\\uc6b0+\\uc548)\"],[\"\\ub4f1\\uc2ec\",\"\\uc815\\uc2ddA(\\uae30\\ubcf8)\",\"\\uc815\\uc2ddB(\\ud64d\\uce58+\\uc548)\",\"\\ub208\\uaf43\\uce58\\uc988\\ub3c8\\uae4c\\uc2a4\",\"\\ud64d\\uc218\\uce58\\uc988\\ub3c8\\uae4c\\uc2a4\"],[\"\\ub4f1\\uc2ec\",\"\\uc815\\uc2ddA(\\uae30\\ubcf8)\",\"\\ub208\\uaf43\\uce58\\uc988\\ub3c8\\uae4c\\uc2a4\",\"\\uc815\\uc2ddB(\\ud64d\\uce58+\\uc548)\",\"\\ucf64\\ubcf4\\ub3c8\\uae4c\\uc2a4\"]],[1036000,838000,638000,[\"etc\",\"Beer\",\"juice\",\"\\ubc25\\ub9d0\\ub9ac\\uc624\\uc9d5\\uc5b4\",\"PP Beer\"],[\"Beer\",\"juice\",\"CubaSozu\",\"Poutine\",\"Nacho\"],[\"Beer\",\"\\ud5c8\\ub2c8\\uba39\\ud0dc\",\"\\uc694\\uc790\\ubc14\\uc774\\uc288\",\"juice\",\"\\ubc25\\ub9d0\\ub9ac\\uc624\\uc9d5\\uc5b4\"]],[435000,807000,415000,[\"\\ud06c\\ub9ac\\uc2a4\\ub9c8\\uc2a4 \\ucf54\\uc2a4A\",\"\\ud504\\ub85c\\uba54\\uc0ac \\ubaa8\\uc2a4\\uce74\\ud1a0\",\"\\ud3ec\\ub974\\ud1a0 \\ud0c0\\uc6b0\\ub2c8 \\ud3ec\\ud2b8\",\"\\uc5bc\\uadf8\\ub808\\uc774(\\ud3c9\\uc77c)\",\"\\uc218\\ube44\\ub4dc\\ud56d\\uc815\\uc0b4\"],[\"\\uc624\\ud0a4\\ub098\\uc640\\uc0dd\",\"\\ub77c\\uad6c\\ub5a1\\ubcf6\\uc774\",\"\\ub77c\\uad6c \\ud30c\\uc2a4\\ud0c0\",\"\\ub8b0\\uc2a4\\ud2f0\",\"\\ud5e8\\ub4dc\\ub9ad\\uc2a4(\\ud3c9\\uc77c)\"],[\"\\ud3ec\\ud2b8\\uc564\\ub098\\ub2ec\",\"\\ub77c\\uad6c\\ub5a1\\ubcf6\\uc774\",\"\\uc218\\ube44\\ub4dc\\ud56d\\uc815\\uc0b4\",\"\\uccad\\uc5b4\\uc54c\\ud30c\\uc2a4\\ud0c0\",\"(S)\\ucf65\\ucf00 \\ub8e8\\ube44\"]],[309000,311000,437000,[\"\\ubcfc\\ub85c\\ub124\\uc81c\",\"\\uc544\\ub77c\\ube44\\uc544\\ud0c0\",\"\\ube7c\\uc250 \\ud30c\\uc2a4\\ud0c0\",\"\\ubd09\\uace8\\ub808\",\"\\uac10\\ubca0\\ub85c\\ub2c8\\ud53c\\uc790\"],[\"\\uac10\\ubca0\\ub85c\\ub2c8\\ud53c\\uc790\",\"\\ube7c\\uc250 \\ud30c\\uc2a4\\ud0c0\",\"\\ubd09\\uace8\\ub808\",\"\\uae4c\\ub974\\ubcf4\\ub098\\ub77c\",\"\\ubc14\\uc9c8\\ud06c\\ub9bc\\ub9ac\\uc870\\ub610\"],[\"\\uc544\\ub77c\\ube44\\uc544\\ud0c0\",\"\\ubcfc\\ub85c\\ub124\\uc988\\ub85c\\uc81c\",\"\\uc54c\\ub9ac\\uc624\\uba85\\ub780\",\"\\ud574\\uc0b0\\ubb3c\\ub9ac\\uc18c\\ud1a0(\\ud1a0\\ub9c8\\ud1a0)\",\"\\uace0\\ub974\\uace4\\uc878\\ub77c\\ud53c\\uc790\"]],[1003900,463500,780000,[\"\\uc5fd\\uc804\\uc2a4\\ud398\\uc15c\\ud55c\\uc0c1\",\"\\uc18c\\uc8fc\",\"\\ub9e4\\uc6b4\\uc624\\uc9d5\\uc5b4\\ubcf4\\uc308\\ud55c\\uc0c1\",\"\\ub9e4\\uc6b4\\uc74c\\uc2dd\\uacfc\\ucc30\\ub5a1\\uac10\\uc790\\uc804\",\"\\uc11c\\ud574\\uc548\\uaf43\\uac8c\\ubb34\\uce68\\ubcf4\\uc308\\ud55c\\uc0c1\"],[\"\\uc18c\\uc8fc\",\"\\ub9e4\\uc6b4\\uc624\\uc9d5\\uc5b4\\ubcf4\\uc308\\ud55c\\uc0c1\",\"\\uba85\\uc778\\uae40\\uce58\\uc640\\uc5fd\\uc804\\ubcf4\\uc308\\ud55c\\uc0c1(\\uc911)\",\"\\uba85\\uc778\\uae40\\uce58\\uc640\\uc5fd\\uc804\\ubcf4\\uc308\\ud55c\\uc0c1(\\uc18c)\",\"\\uc2e0\\ub9bc\\ub300\\ud45c\\uc81c\\uc721\\ubcf6\\uc74c\\uc815\\uc2dd\"],[\"\\uc5fd\\uc804\\uc2a4\\ud398\\uc15c\\ud55c\\uc0c1\",\"\\uc18c\\uc8fc\",\"\\uace0\\uae30\\ub4ec\\ubfcd\\uae40\\uce58\\ucc0c\\uac1c\",\"\\uc544\\uad81\\uc774\\uc0bc\\uacb9\\uad6c\\uc774\\ud55c\\ud310\",\"\\uc6b8\\ub989\\ub3c4\\uc624\\uc9d5\\uc5b4\\ubcf6\\uc74c\\ubc31\\ubc18\\uc2dd\"]],[1106750,1278500,1004500,[\"\\ub85c\\uc2a4\\uce74\\uce20(\\ub4f1\\uc2ec)\",\"\\ud788\\ub808\\uce74\\uce20(\\uc548\\uc2ec)\",\"\\ubaa8\\ub4ec\\uce74\\uce20\",\"\\uac00\\uc4f0\\uc624\\uc6b0\\ub3d9\",\"\\ud2b9\\uc0c1 \\ub85c\\uc2a4\\uce74\\uce20\"],[\"\\ub85c\\uc2a4\\uce74\\uce20(\\ub4f1\\uc2ec)\",\"\\ud788\\ub808\\uce74\\uce20(\\uc548\\uc2ec)\",\"\\ubaa8\\ub4ec\\uce74\\uce20\",\"\\ud2b9\\uc0c1 \\ub85c\\uc2a4\\uce74\\uce20\",\"\\uac00\\uc4f0\\uc624\\uc6b0\\ub3d9\"],[\"\\ud788\\ub808\\uce74\\uce20(\\uc548\\uc2ec)\",\"\\ubaa8\\ub4ec\\uce74\\uce20\",\"\\ub85c\\uc2a4\\uce74\\uce20(\\ub4f1\\uc2ec)\",\"\\uce58\\uc988\\uce74\\uce20\",\"\\ud2b9\\uc0c1 \\ub85c\\uc2a4\\uce74\\uce20\"]],[2244000,1770000,2552000,[\"\\ud30c\\uc6b4\\ub4dc \\ud3ed\\ub9bd\",\"\\ud22c\\uc6c0\\ubc14\",\"\\ucfe0\\ubc14\\ub178\\ub7f0\\uce58    \\uc138\\ud2b8\",\"\\ud558\\ub098\\ubc14\\uc758      \\ucee4\\ud50c\\uc138\\ud2b8\",\"\\ub9e5\\uc8fc\\uc640\\ud568\\uaed8    \\ud3ed\\ub9bd\\ud30c\\ud2f0\"],[\"\\ud30c\\uc6b4\\ub4dc \\ud3ed\\ub9bd\",\"\\ud22c\\uc6c0\\ubc14\",\"\\ub9e5\\uc8fc\\uc640\\ud568\\uaed8    \\ud3ed\\ub9bd\\ud30c\\ud2f0\",\"\\ud558\\ub098\\ubc14\\uc758      \\ucee4\\ud50c\\uc138\\ud2b8\",\"\\ub77c\\uad6c \\ud30c\\uc2a4\\ud0c0\"],[\"\\ud30c\\uc6b4\\ub4dc \\ud3ed\\ub9bd\",\"\\ub9e5\\uc8fc\\uc640\\ud568\\uaed8    \\ud3ed\\ub9bd\\ud30c\\ud2f0\",\"\\ucfe0\\ubc14\\ub178\\ub7f0\\uce58    \\uc138\\ud2b8\",\"\\ud558\\ub098\\ubc14\\uc758      \\ucee4\\ud50c\\uc138\\ud2b8\",\"\\uc7a0\\ubc1c\\ub77c\\uc57c\"]],[1070300,933600,1027200,[\"dinner-C (FRIEND SET)\",\"dinner-D (COUPLE SET)\",\"dinner-B (FAMILY SET)\",\"Chicken tikka butter masala\",\"Butter chicken makhani\"],[\"dinner-B (FAMILY SET)\",\"dinner-D (COUPLE SET)\",\"dinner-C (FRIEND SET)\",\"nepali thali set\",\"Chicken curry\"],[\"dinner-C (FRIEND SET)\",\"A-set\",\"dinner-A (GROUP SET)\",\"dinner-D (COUPLE SET)\",\"JOHNNIE WALKER Red Label 700ml\"]],[6315500,4134000,5246000,[\"\\ube14\\ub799\\ud2b8\\ub7ec\\ud50c\\ud06c\\ub9bc\\ub1e8\\ub07c\",\"\\uc131\\uac8c\\uc54c\\uc5b4\\ub780\\ud30c\\uc2a4\\ud0c0\",\"\\uc0b4\\uc2dc\\ucc60 \\ud53c\\uc790\",\"\\ub9c8\\ub974\\uac8c\\ub9ac\\ud0c0\",\"\\uc544\\ub9c8\\ud2b8\\ub9ac\\uce58\\uc544\\ub098\"],[\"\\ube14\\ub799\\ud2b8\\ub7ec\\ud50c\\ud06c\\ub9bc\\ub1e8\\ub07c\",\"\\uc131\\uac8c\\uc54c\\uc5b4\\ub780\\ud30c\\uc2a4\\ud0c0\",\"\\ub77c\\uc790\\ub0d0\",\"\\uc18c\\uc548\\uc2ec\\ubc84\\uc12f\\ub9ac\\uc870\\ub610\",\"\\ud478\\ud0c0\\ub124\\uc2a4\\uce74\"],[\"\\uc131\\uac8c\\uc54c\\uc5b4\\ub780\\ud30c\\uc2a4\\ud0c0\",\"\\ube14\\ub799\\ud2b8\\ub7ec\\ud50c\\ud06c\\ub9bc\\ub1e8\\ub07c\",\"\\ub9c8\\ub974\\uac8c\\ub9ac\\ud0c0\",\"\\uc18c\\uc548\\uc2ec\\ubc84\\uc12f\\ub9ac\\uc870\\ub610\",\"\\ud478\\ud0c0\\ub124\\uc2a4\\uce74\"]],[4429400,5655900,6582300,[\"\\uce58\\ubbf8\\ucc3d\\uac00\",\"\\uba55\\uc2dc\\uce78\\ube14\\ub799\\ud398\\ud37c\\uce58\\ud0a8\",\"\\uc5d4\\uce60\\ub77c\\ub2e4(\\ube44\\ud504)\",\"\\ud30c\\uc6b8\\ub7ec\\ub108\\uc0dd\\ub9e5\\uc8fc\",\"\\ud018\\uc0ac\\ub514\\uc544(\\uce58\\ud0a8)\"],[\"\\uce58\\ubbf8\\ucc3d\\uac00\",\"\\uba55\\uc2dc\\uce78\\ube14\\ub799\\ud398\\ud37c\\uce58\\ud0a8\",\"\\uc5d4\\uce60\\ub77c\\ub2e4(\\ube44\\ud504)\",\"\\ud30c\\uc6b8\\ub7ec\\ub108\\uc0dd\\ub9e5\\uc8fc\",\"\\uc544\\ubcf4\\uce74\\ub3c4\\uce58\\ud0a8\\uc0d0\\ub7ec\\ub4dc\"],[\"\\uce58\\ubbf8\\ucc3d\\uac00\",\"\\uba55\\uc2dc\\uce78\\ube14\\ub799\\ud398\\ud37c\\uce58\\ud0a8\",\"\\ud30c\\uc6b8\\ub7ec\\ub108\\uc0dd\\ub9e5\\uc8fc\",\"\\uc5d4\\uce60\\ub77c\\ub2e4(\\ube44\\ud504)\",\"\\uc5d4\\uce60\\ub77c\\ub2e4(\\uce58\\ud0a8)\"]],[6246500,6411500,6228000,[\"\\uc2a4\\ud14c\\uc774\\ud06c \\ud06c\\ub9bc\\ub1e8\\ub07c\",\"\\ucc44\\ub05d \\uc2a4\\ud14c\\uc774\\ud06c\",\"\\ud074\\ub798\\uc2dd \\ub77c\\uc790\\ub0d0\",\"\\uc774\\ubca0\\ub9ac\\ucf54 \\uaf43\\ubaa9\\uc0b4 \\uc2a4\\ud14c\\uc774\\ud06c\",\"\\ube0c\\ub808\\uc774\\uc988\\ub4dc \\ud3ec\\ud06c \\ub77c\\uc790\\ub0d0\"],[\"\\uc2a4\\ud14c\\uc774\\ud06c \\ud06c\\ub9bc\\ub1e8\\ub07c\",\"\\ud074\\ub798\\uc2dd \\ub77c\\uc790\\ub0d0\",\"\\ucc44\\ub05d \\uc2a4\\ud14c\\uc774\\ud06c\",\"\\ube44\\uc2a4\\ud050\\ud06c\\ub9bc\\ub1e8\\ub07c\",\"\\uc774\\ubca0\\ub9ac\\ucf54 \\uaf43\\ubaa9\\uc0b4 \\uc2a4\\ud14c\\uc774\\ud06c\"],[\"\\uc2a4\\ud14c\\uc774\\ud06c \\ud06c\\ub9bc\\ub1e8\\ub07c\",\"\\ud074\\ub798\\uc2dd \\ub77c\\uc790\\ub0d0\",\"\\ucc44\\ub05d \\uc2a4\\ud14c\\uc774\\ud06c\",\"\\uc774\\ubca0\\ub9ac\\ucf54 \\uaf43\\ubaa9\\uc0b4 \\uc2a4\\ud14c\\uc774\\ud06c\",\"\\ube44\\uc2a4\\ud050\\ud06c\\ub9bc\\ub1e8\\ub07c\"]],[1514000,1530000,1971000,[\"\\ub85c\\uc2a4\\uce74\\uce20\",\"\\ud788\\ub808\\uce74\\uce20\",\"\\uc0c1\\ub85c\\uc2a4\\uce74\\uce20\",\"\\ub0c9\\uc18c\\ubc14 \\uc138\\ud2b8\",\"\\uc628\\uc18c\\ubc14 \\uc138\\ud2b8\"],[\"\\ub85c\\uc2a4\\uce74\\uce20\",\"\\uc628\\uc18c\\ubc14 \\uc138\\ud2b8\",\"\\ud788\\ub808\\uce74\\uce20\",\"\\uc628\\uc18c\\ubc14 \\ud788\\ub808 \\uc138\\ud2b8\",\"\\uc0c1\\ub85c\\uce20\\uce74\\uce20(\\ubbf8\\ub2c8\\uba54\\ubc00)\"],[\"\\ub85c\\uc2a4\\uce74\\uce20\",\"\\ud788\\ub808\\uce74\\uce20\",\"\\ub0c9\\uc18c\\ubc14 \\uc138\\ud2b8\",\"\\uc628\\uc18c\\ubc14 \\uc138\\ud2b8\",\"\\uc628\\uc18c\\ubc14 \\ud788\\ub808 \\uc138\\ud2b8\"]],[730000,337000,574000,[\"\\ub77c\\uc790\\ub0d0\",\"\\uceec\\ub9ac\\ud50c\\ub77c\\uc6cc\",\"\\ube44\\uac74 \\uc720\\ub9b0\\uae30\",\"\\ud53c\\uc2dc\\uc564\\uce69\\uc2a4\",\"\\uce74\\uc2a4\"],[\"\\ub77c\\uc790\\ub0d0\",\"\\uceec\\ub9ac\\ud50c\\ub77c\\uc6cc\",\"\\ub538\\uae30,\\ub9dd\\uace0 \\ud558\\uc774\\ubcfc\",\"\\ud53c\\uc2dc\\uc564\\uce69\\uc2a4\",\"\\uce74\\uc2a4\"],[\"\\ub77c\\uc790\\ub0d0\",\"\\uceec\\ub9ac\\ud50c\\ub77c\\uc6cc\",\"\\ud53c\\uc2dc\\uc564\\uce69\\uc2a4\",\"\\ub538\\uae30,\\ub9dd\\uace0 \\ud558\\uc774\\ubcfc\",\"\\ube44\\uac74 \\uc720\\ub9b0\\uae30\"]],[1743000,1430500,1639500,[\"\\uc548\\uc2ec\\uac00\\uce20\",\"\\ub4f1\\uc2ec\\uac00\\uce20\",\"\\uae40\\uce58\\uac00\\uce20\\ub3d9\",\"\\ud2b9\\ub4f1\\uc2ec\\uac00\\uce20\",\"\\ubaa8\\ub4ec\\uac00\\uce20\"],[\"\\uc548\\uc2ec\\uac00\\uce20\",\"\\ub4f1\\uc2ec\\uac00\\uce20\",\"\\uce58\\uc988\\uac00\\uce20\",\"\\ubaa8\\ub4ec\\uac00\\uce20\",\"\\uac00\\uce20\\ub3d9\"],[\"\\uc548\\uc2ec\\uac00\\uce20\",\"\\ub4f1\\uc2ec\\uac00\\uce20\",\"\\ud2b9\\ub4f1\\uc2ec\\uac00\\uce20\",\"\\ubaa8\\ub4ec\\uac00\\uce20\",\"\\uce58\\uc988\\uac00\\uce20\"]],[397500,373700,354000,[\"\\uc624\\ub298\\uc758\\ud30c\\uc2a4\\ud0c0\",\"\\ud1a0\\ub9c8\\ud1a0\\ud574\\ubb3c\\ud30c\\uc2a4\\ud0c0\",\"\\ud1a0\\ub9c8\\ud1a0\\ucc38\\uce58\\ud30c\\uc2a4\\ud0c0\",\"\\uc62c\\ub9ac\\ube0c\\uc624\\uc77c\\ud30c\\uc0c8\\uc6b0\\ud30c\\uc2a4\\ud0c0\"],[\"\\uc624\\ub298\\uc758\\ud30c\\uc2a4\\ud0c0\",\"\\uc62c\\ub9ac\\ube0c\\uc624\\uc77c\\ud30c\\uc0c8\\uc6b0\\ud30c\\uc2a4\\ud0c0\",\"\\ud1a0\\ub9c8\\ud1a0\\ud574\\ubb3c\\ud30c\\uc2a4\\ud0c0\",\"\\uce58\\uc988\\ud53c\\uc790\",\"\\ud1a0\\ub9c8\\ud1a0\\ucc38\\uce58\\ud30c\\uc2a4\\ud0c0\"],[\"\\uc624\\ub298\\uc758\\ud30c\\uc2a4\\ud0c0\",\"\\ud1a0\\ub9c8\\ud1a0\\ucc38\\uce58\\ud30c\\uc2a4\\ud0c0\",\"\\ud06c\\ub9bc\\ubca0\\uc774\\ucee8\\ub9ac\\uc870\\ub610\",\"\\ud1a0\\ub9c8\\ud1a0\\ud574\\ubb3c\\ud30c\\uc2a4\\ud0c0\",\"\\uc62c\\ub9ac\\ube0c\\uc624\\uc77c\\ud30c\\uc0c8\\uc6b0\\ud30c\\uc2a4\\ud0c0\"]],[4090000,4136000,4446000,[\"\\uce58\\uc988\\ub3c8\\uae4c\\uc2a4\",\"\\uc548\\uc2ec\",\"\\uc548\\uc2ec\\uc6b0\\ub3d9\",\"\\ub4f1\\uc2ec+\\uc548\\uc2ec\",\"\\uce58\\uc988+\\uc548\\uc2ec\"],[\"\\uc548\\uc2ec\",\"\\uc548\\uc2ec\\uc6b0\\ub3d9\",\"\\uc548\\uc2ec\\uc815\\uc2dd\",\"\\ub4f1\\uc2ec+\\uc548\\uc2ec\",\"\\uce58\\uc988+\\uc548\\uc2ec\"],[\"\\uc548\\uc2ec\",\"\\uce58\\uc988\\ub3c8\\uae4c\\uc2a4\",\"\\ub4f1\\uc2ec+\\uc548\\uc2ec\",\"\\uce58\\uc988+\\uc548\\uc2ec\",\"\\uc548\\uc2ec\\uc6b0\\ub3d9\"]],[11839500,7445000,8591500,[\"\\ud6c4\\uc548\\uae38 \\uace8\\ub4dc\",\"\\ucc38\\uce58\\ud53c\\uc790\",\"\\ud574\\uc0b0\\ubb3c\\ud30c\\uc2a4\\ud0c0\",\"\\ub77c\\uad6c\\ud30c\\uc2a4\\ud0c0\",\"\\ud1b5\\uac10\\uc790 \\ud53c\\uc790\"],[\"\\ub77c\\uad6c\\ud30c\\uc2a4\\ud0c0\",\"\\ucc44\\ub05d\\uc2a4\\ud14c\\uc774\\ud06c\",\"\\ud398\\ud37c\\ub85c\\ub2c8\\ud53c\\uc790\",\"\\ubaa8\\uc9dc\\ub810\\ub77c\\uc0d0\\ub7ec\\ub4dc\",\"\\ucc38\\uce58\\ud53c\\uc790\"],[\"*\\ub77c\\uad6c\\ud30c\\uc2a4\\ud0c0\",\"\\ud48d\\uae30\\ud53c\\uc790\",\"\\ub8e8\\uaf34\\ub77c\\ud53c\\uc790\",\"*\\ud574\\uc0b0\\ubb3c\\ud30c\\uc2a4\\ud0c0\",\"\\ucc38\\uce58\\ud53c\\uc790\"]],[2053000,2024500,1742500,[\"\\ube14\\ub799\\ud2b8\\ub7ec\\ud50c\\ud06c\\ub9bc\\ub1e8\\ub07c\",\"\\uc544\\ub9c8\\ud2b8\\ub9ac\\uce58\\uc544\\ub098\",\"\\uc0c8\\uc6b0\\ube44\\uc2a4\\ud050\\ub9c1\\uadc0\\ub124\",\"\\uce74\\uce58\\uc624\\ud398\\ud398\",\"\\uae00\\ub77c\\uc2a4\"],[\"\\ube14\\ub799\\ud2b8\\ub7ec\\ud50c\\ud06c\\ub9bc\\ub1e8\\ub07c\",\"\\uc0c8\\uc6b0\\ube44\\uc2a4\\ud050\\ub9c1\\uadc0\\ub124\",\"\\uae00\\ub77c\\uc2a4\",\"\\uc544\\ub9c8\\ud2b8\\ub9ac\\uce58\\uc544\\ub098\",\"\\uc0e4\\ub974\\ub370\\ub0d0\\uc2dd \\ubd09\\uace8\\ub808 \\ube44\\uace8\\ub9ac \\ud30c\\uc2a4\\ud0c0\"],[\"\\ube14\\ub799\\ud2b8\\ub7ec\\ud50c\\ud06c\\ub9bc\\ub1e8\\ub07c\",\"\\uc0c8\\uc6b0\\ube44\\uc2a4\\ud050\\ub9c1\\uadc0\\ub124\",\"\\uc544\\ub9c8\\ud2b8\\ub9ac\\uce58\\uc544\\ub098\",\"\\uc0e4\\ub974\\ub370\\ub0d0\\uc2dd \\ubd09\\uace8\\ub808 \\ube44\\uace8\\ub9ac \\ud30c\\uc2a4\\ud0c0\",\"\\uae00\\ub77c\\uc2a4\"]],[7503000,3624900,4297800,[\"SPECIAL\",\"Qyattro Stag/\\uc2a4\\ub530\\ucc0c\\uc624\\ub2c8\",\"Lasagnaalla/\\ub77c\\uc7c8\\ub0d0\",\"Papadelle / \\ube60\\ube60\\ub378\\ub808\",\"Spallottodi/\\ud56d\\uc815\\uc0b4\"],[\"Qyattro Stag/\\uc2a4\\ub530\\ucc0c\\uc624\\ub2c8\",\"Papadelle / \\ube60\\ube60\\ub378\\ub808\",\"Lasagnaalla/\\ub77c\\uc7c8\\ub0d0\",\"Margherita/\\ub9c8\\ub974\\uac8c\\ub9ac\\ub530\",\"Spallottodi/\\ud56d\\uc815\\uc0b4\"],[\"Qyattro Stag/\\uc2a4\\ub530\\ucc0c\\uc624\\ub2c8\",\"Papadelle / \\ube60\\ube60\\ub378\\ub808\",\"Lasagnaalla/\\ub77c\\uc7c8\\ub0d0\",\"Margherita/\\ub9c8\\ub974\\uac8c\\ub9ac\\ub530\",\"Filletto di/\\uc2a4\\ud14c\\uc774\\ud06c\"]],[2889500,2034500,1883500,[\"X-MAS// B \\uc138\\ud2b8\",\"B Set\",\"A set\",\"\\ud558\\ud504\\uc564\\ud558\\ud504[\\ubc18\\ubc18] \\ud53c\\uc790\",\"\\ud328\\ubc00\\ub9ac Set\"],[\"B Set\",\"\\ud328\\ubc00\\ub9ac Set\",\"A set\",\"\\ud558\\ud504\\uc564\\ud558\\ud504[\\ubc18\\ubc18] \\ud53c\\uc790\",\"\\ub85c\\uc81c \\ube44\\ubcfc\\ub9ac\"],[\"B Set\",\"A set\",\"\\ub77c\\uad6c \\ub538\\ub9ac\\uc544\\ub5c4\\ub808\",\"\\ub85c\\uc81c \\ube44\\ubcfc\\ub9ac\",\"\\uaf48\\ub728\\ub85c \\uce58\\uc988 \\ud53c\\uc790[\\ub2e8\\ud488]\"]],[1140500,736500,1059500,[\"\\ub808\\ub4dc\\ub77d\",\"\\uc18c\\uc138\\uc9c0\",\"\\uba39\\ud0dc\",\"\\uc571\\uc194\\ub8e8\\ud2b8\",\"\\ud53c\\uc790\"],[\"\\ub808\\ub4dc\\ub77d\",\"\\uc9d0\\uc9c4\\uc800\",\"\\ud53c\\uc790\",\"\\uba39\\ud0dc\",\"\\uc7ad\\uc9c4\\uc800\"],[\"\\ub808\\ub4dc\\ub77d\",\"\\ubc1c\\ub514\\ube44\\uc5d0\\uc18c\",\"\\uc81c\\uc784\\uc2a8\\uc9c4\\uc800\",\"\\uae30\\ub124\\uc2a4\",\"\\ube14\\ub8e8\\ubb38\"]],[10057500,9436000,9062000,[\"\\ubc18\\ubc18 \\uc815\\uc2dd\",\"\\ud788\\ub808\\uce74\\uce20\",\"\\ubaa8\\ub460\\uc815\\uc2dd\",\"\\ud2b9\\ub85c\\uc2a4\\uce74\\uce20\",\"\\ub85c\\uc2a4\\uce74\\uce20\"],[\"\\ubc18\\ubc18 \\uc815\\uc2dd\",\"\\ud788\\ub808\\uce74\\uce20\",\"\\ubaa8\\ub460\\uc815\\uc2dd\",\"\\ub85c\\uc2a4\\uce74\\uce20\",\"\\ud2b9\\ub85c\\uc2a4\\uce74\\uce20\"],[\"\\ubc18\\ubc18 \\uc815\\uc2dd\",\"\\ud788\\ub808\\uce74\\uce20\",\"\\ubaa8\\ub460\\uc815\\uc2dd\",\"\\ud2b9\\ub85c\\uc2a4\\uce74\\uce20\",\"\\ub85c\\uc2a4\\uce74\\uce20\"]]],\"hovertemplate\":\"<b>%{hovertext}</b><br><br>\\uc0ac\\uc774\\uc988=%{marker.size}<br>lat=%{lat}<br>lng=%{lon}<br>12\\uc6d4 \\ub9e4\\ucd9c\\uc561=%{customdata[0]}<br>1\\uc6d4 \\ub9e4\\ucd9c\\uc561=%{customdata[1]}<br>2\\uc6d4 \\ub9e4\\ucd9c\\uc561=%{customdata[2]}<br>12\\uc6d4 top5=%{customdata[3]}<br>1\\uc6d4 top5=%{customdata[4]}<br>2\\uc6d4 top5=%{customdata[5]}<extra></extra>\",\"hovertext\":[\"\\uc568\\ub9ac\\uc2a4 \\ubc14\\uc774 \\ubbf8\\ub2c8\\uba5c\\uce20\",\"\\ube14\\ub8e8\\ucfe0\\uce58\\ub098\",\"\\ube60\\ub124\\ub3cc\\uccb4\",\"\\ub369\\ud06c\\ud2b8\\ub808\\uc774\",\"\\uc0b4\\ub871\\ub4dc\\ub9c8\\ub974\\uc794\",\"\\uac10\\uc131\\uce74\\uce20\",\"\\uc18c\\ucf54\\uc544\",\"\\ud574\\ubb3c\\uae30\\uc640\",\"\\uce74\\ud398\\ub8e8\\uce58\\uc544\",\"\\uc774\\uc751\\uc774\\uc751\\uc774\\uc751\\uc774\\uc751-table\",\"\\ucf54\\ucf54\\uac00\\uce20\",\"\\uc774\\uc624\\uce74\\uce20\\uacf5\\ub355\\uc810\",\"\\ud1a0\\ubaa8\\ud1a0\\uce74\\ud398\",\"\\uc544\\ub974\\uace0\\ubcf4\\ub2c8\",\"\\uac10\\uc131\\ud0c0\\ucf54(\\ud64d\\ub300\\uc810)\",\"\\uc5f0\\ub0a8\\ub3d9\\uc640\\uc774\\ud0d1\",\"\\uba85\\ub3d9\\uc655\\ub3c8\\uae4c\\uc2a4 \\uc9c1\\uc601\\uc810\",\"\\uad11\\uc57c\",\"\\ud5e4\\ud0a4\",\"\\uce58\\ud0a8\\uc564\\uce74\\ub808\\uad70\",\"\\ud751\\uc2ec\",\"\\uc2a4\\ud47c\\ud544\\ub77c\\ud504 \\ud64d\\ub300\\uc810\",\"\\uc5d0\\ud2b8\\ub098\\ud4e8\",\"\\uc2a4\\ud504\\ub9c1\\ube44\\uc2a4\\ud2b8\\ub85c\",\"\\ud64d\\ub300\\ud074\\ub77c\\uc4f0\",\"\\ubab0\\ud1a0\\ubca0\\ub124 \\ud569\\uc815\",\"\\ubca8\\ub77c\\ub610\\ub760\\uc544\",\"\\uc694\\ub098\\ub07c\",\"\\ub3c8\\uce74\\uce20 \\uc900\",\"\\ub8e8\\ub098\\uc528\\uc5d8\\ub85c\",\"\\ubb18\\ud55c\\uc2dd\\ud0c1\",\"\\ube4c\\ub9ac\\ub354\\ub2e4\\uc774\\ub2dd\",\"\\ubc14\\uc0ad\\ub9c8\\ucc28(\\ub9dd\\uc6d0\\uc2dc\\uc7a5\\uc810)\",\"\\ud1a0\\ud30c\",\"\\uc2ac\\ub85c\\uc6b0\\uc57c\\ub4dc \\ubc14\\ube44\\ud050\",\"\\uae4c\\uc0ac\\ub77c\\ud2f0\\ub098\",\"\\ubd89\\uc740\\ub099\\ud0c0\",\"\\ube0c\\ub77c\\uc6b4\\ub3c8\\uae4c\\uc2a4 \\uc0c1\\uc554MBC\\ubab0\",\"\\ucfe0\\ubc14\\ud0b9\",\"\\ud3ec\\ud2b8 \\uc564 \\ub098\\ub2ec\",\"\\ubc30\\uc544\\ub610\",\"\\uc5fd\\uc804\\uc2dd\\ub2f9 \\uc5f0\\ub0a8\\uc810\",\"\\uc6b0\\uc560\\ub3c8\\uce74\\uce20 \\uc5f0\\ub0a8\\uc810\",\"\\uc96c\\ubca4\\ucfe0\\ubc14 \\uc5f0\\ub0a8\\uc810\",\"\\uc218\\uc5e0\\ubd80\",\"\\uc5d8\\ub9ac\\uc2a4\\ub9ac\\ud2c0\\uc774\\ud0dc\\ub9ac\",\"\\uba55\\uc2dc\\ucf54\\ub2e4\\uc774\\ub108\",\"\\ud14c\\uc774\\ucee4\\ud14c\\uc774\\ube14\",\"\\uc18c\\ub098\\ubb34\\uc5f0\\ub0a8\",\"\\ub4dc\\ub801\\ud070\\ube44\\uac74\",\"\\uc9c4\\ub3c8\",\"\\uc778\\ub354\\uc36c\",\"\\ub9c8\\ub8e8\\ub3c8\\uae4c\\uc2a4\",\"\\ube44\\uc2a4\\ud2b8\\ub85c\\uc5d0\\ubc84\",\"\\uc9c0\\uc54c\\ub85c\\ud30c\\uc2a4\\ud0c0\\ubc14\",\"kitchen 485\",\"\\ube44\\ubcfc\\ub9ac\",\"\\uc624\\uc774\\ub3c4\",\"\\ud06c\\ub808\\uc774\\uc9c0\\uce74\\uce20\"],\"lat\":[37.5642305,37.55586,37.53672,37.549927049999994,37.5571419,37.56775,37.5550706,37.549927049999994,37.5550706,37.54743,37.5431443,37.5431151,37.5550706,37.5550706,37.5550706,37.56258,37.5571419,37.5571419,37.55586,37.5571419,37.56258,37.5550706,37.56258,37.54678,37.5571419,37.54678,37.55586,37.5384174,37.5522937,37.5609691,37.54678,37.5605738,37.5550093,37.54678,37.54678,37.5550706,37.5550706,37.5687031,37.5550706,37.5560921,37.5650941,37.5644525,37.561733,37.5645946,37.54620345,37.5503577,37.54678,37.5605738,37.5575485,37.5501325,37.5765171,37.56903495,37.5487566,37.5668778,37.5477785,37.5550706,37.54678,37.56258,37.54678],\"legendgroup\":\"\",\"lon\":[126.9078263,126.90087,126.94288,126.95928971994923,126.9261901,126.90263,126.92382487891514,126.95928971994923,126.92382487891514,126.92473,126.9303715,126.9503557,126.92382487891514,126.92382487891514,126.92382487891514,126.92196,126.9261901,126.9261901,126.90087,126.9261901,126.92196,126.92382487891514,126.92196,126.9084,126.9261901,126.9084,126.90087,126.9489663,126.9374454,126.9250382,126.9084,126.9246308,126.9092717,126.9084,126.9084,126.92382487891514,126.92382487891514,126.91499118773584,126.92382487891514,126.907328,126.9034629,126.9234939,126.9254562,126.9226626,126.9359375116903,126.94980912133417,126.9084,126.9246308,126.9211368,126.9273209,126.897222,126.90683567298643,126.9170802,126.9103413,126.9393065,126.92382487891514,126.9084,126.92196,126.9084],\"marker\":{\"color\":\"#636efa\",\"size\":[10,10,10,10,10,10,10,10,10,10,10,10,10,10,10,10,10,10,10,10,10,10,10,10,10,10,10,10,10,10,10,10,10,10,10,10,10,10,10,10,10,10,10,10,10,10,10,10,10,10,10,10,10,10,10,10,10,10,10],\"sizemode\":\"area\",\"sizeref\":0.025},\"mode\":\"markers\",\"name\":\"\",\"showlegend\":false,\"subplot\":\"mapbox\",\"type\":\"scattermapbox\"}],                        {\"template\":{\"data\":{\"histogram2dcontour\":[{\"type\":\"histogram2dcontour\",\"colorbar\":{\"outlinewidth\":0,\"ticks\":\"\"},\"colorscale\":[[0.0,\"#0d0887\"],[0.1111111111111111,\"#46039f\"],[0.2222222222222222,\"#7201a8\"],[0.3333333333333333,\"#9c179e\"],[0.4444444444444444,\"#bd3786\"],[0.5555555555555556,\"#d8576b\"],[0.6666666666666666,\"#ed7953\"],[0.7777777777777778,\"#fb9f3a\"],[0.8888888888888888,\"#fdca26\"],[1.0,\"#f0f921\"]]}],\"choropleth\":[{\"type\":\"choropleth\",\"colorbar\":{\"outlinewidth\":0,\"ticks\":\"\"}}],\"histogram2d\":[{\"type\":\"histogram2d\",\"colorbar\":{\"outlinewidth\":0,\"ticks\":\"\"},\"colorscale\":[[0.0,\"#0d0887\"],[0.1111111111111111,\"#46039f\"],[0.2222222222222222,\"#7201a8\"],[0.3333333333333333,\"#9c179e\"],[0.4444444444444444,\"#bd3786\"],[0.5555555555555556,\"#d8576b\"],[0.6666666666666666,\"#ed7953\"],[0.7777777777777778,\"#fb9f3a\"],[0.8888888888888888,\"#fdca26\"],[1.0,\"#f0f921\"]]}],\"heatmap\":[{\"type\":\"heatmap\",\"colorbar\":{\"outlinewidth\":0,\"ticks\":\"\"},\"colorscale\":[[0.0,\"#0d0887\"],[0.1111111111111111,\"#46039f\"],[0.2222222222222222,\"#7201a8\"],[0.3333333333333333,\"#9c179e\"],[0.4444444444444444,\"#bd3786\"],[0.5555555555555556,\"#d8576b\"],[0.6666666666666666,\"#ed7953\"],[0.7777777777777778,\"#fb9f3a\"],[0.8888888888888888,\"#fdca26\"],[1.0,\"#f0f921\"]]}],\"heatmapgl\":[{\"type\":\"heatmapgl\",\"colorbar\":{\"outlinewidth\":0,\"ticks\":\"\"},\"colorscale\":[[0.0,\"#0d0887\"],[0.1111111111111111,\"#46039f\"],[0.2222222222222222,\"#7201a8\"],[0.3333333333333333,\"#9c179e\"],[0.4444444444444444,\"#bd3786\"],[0.5555555555555556,\"#d8576b\"],[0.6666666666666666,\"#ed7953\"],[0.7777777777777778,\"#fb9f3a\"],[0.8888888888888888,\"#fdca26\"],[1.0,\"#f0f921\"]]}],\"contourcarpet\":[{\"type\":\"contourcarpet\",\"colorbar\":{\"outlinewidth\":0,\"ticks\":\"\"}}],\"contour\":[{\"type\":\"contour\",\"colorbar\":{\"outlinewidth\":0,\"ticks\":\"\"},\"colorscale\":[[0.0,\"#0d0887\"],[0.1111111111111111,\"#46039f\"],[0.2222222222222222,\"#7201a8\"],[0.3333333333333333,\"#9c179e\"],[0.4444444444444444,\"#bd3786\"],[0.5555555555555556,\"#d8576b\"],[0.6666666666666666,\"#ed7953\"],[0.7777777777777778,\"#fb9f3a\"],[0.8888888888888888,\"#fdca26\"],[1.0,\"#f0f921\"]]}],\"surface\":[{\"type\":\"surface\",\"colorbar\":{\"outlinewidth\":0,\"ticks\":\"\"},\"colorscale\":[[0.0,\"#0d0887\"],[0.1111111111111111,\"#46039f\"],[0.2222222222222222,\"#7201a8\"],[0.3333333333333333,\"#9c179e\"],[0.4444444444444444,\"#bd3786\"],[0.5555555555555556,\"#d8576b\"],[0.6666666666666666,\"#ed7953\"],[0.7777777777777778,\"#fb9f3a\"],[0.8888888888888888,\"#fdca26\"],[1.0,\"#f0f921\"]]}],\"mesh3d\":[{\"type\":\"mesh3d\",\"colorbar\":{\"outlinewidth\":0,\"ticks\":\"\"}}],\"scatter\":[{\"fillpattern\":{\"fillmode\":\"overlay\",\"size\":10,\"solidity\":0.2},\"type\":\"scatter\"}],\"parcoords\":[{\"type\":\"parcoords\",\"line\":{\"colorbar\":{\"outlinewidth\":0,\"ticks\":\"\"}}}],\"scatterpolargl\":[{\"type\":\"scatterpolargl\",\"marker\":{\"colorbar\":{\"outlinewidth\":0,\"ticks\":\"\"}}}],\"bar\":[{\"error_x\":{\"color\":\"#2a3f5f\"},\"error_y\":{\"color\":\"#2a3f5f\"},\"marker\":{\"line\":{\"color\":\"#E5ECF6\",\"width\":0.5},\"pattern\":{\"fillmode\":\"overlay\",\"size\":10,\"solidity\":0.2}},\"type\":\"bar\"}],\"scattergeo\":[{\"type\":\"scattergeo\",\"marker\":{\"colorbar\":{\"outlinewidth\":0,\"ticks\":\"\"}}}],\"scatterpolar\":[{\"type\":\"scatterpolar\",\"marker\":{\"colorbar\":{\"outlinewidth\":0,\"ticks\":\"\"}}}],\"histogram\":[{\"marker\":{\"pattern\":{\"fillmode\":\"overlay\",\"size\":10,\"solidity\":0.2}},\"type\":\"histogram\"}],\"scattergl\":[{\"type\":\"scattergl\",\"marker\":{\"colorbar\":{\"outlinewidth\":0,\"ticks\":\"\"}}}],\"scatter3d\":[{\"type\":\"scatter3d\",\"line\":{\"colorbar\":{\"outlinewidth\":0,\"ticks\":\"\"}},\"marker\":{\"colorbar\":{\"outlinewidth\":0,\"ticks\":\"\"}}}],\"scattermapbox\":[{\"type\":\"scattermapbox\",\"marker\":{\"colorbar\":{\"outlinewidth\":0,\"ticks\":\"\"}}}],\"scatterternary\":[{\"type\":\"scatterternary\",\"marker\":{\"colorbar\":{\"outlinewidth\":0,\"ticks\":\"\"}}}],\"scattercarpet\":[{\"type\":\"scattercarpet\",\"marker\":{\"colorbar\":{\"outlinewidth\":0,\"ticks\":\"\"}}}],\"carpet\":[{\"aaxis\":{\"endlinecolor\":\"#2a3f5f\",\"gridcolor\":\"white\",\"linecolor\":\"white\",\"minorgridcolor\":\"white\",\"startlinecolor\":\"#2a3f5f\"},\"baxis\":{\"endlinecolor\":\"#2a3f5f\",\"gridcolor\":\"white\",\"linecolor\":\"white\",\"minorgridcolor\":\"white\",\"startlinecolor\":\"#2a3f5f\"},\"type\":\"carpet\"}],\"table\":[{\"cells\":{\"fill\":{\"color\":\"#EBF0F8\"},\"line\":{\"color\":\"white\"}},\"header\":{\"fill\":{\"color\":\"#C8D4E3\"},\"line\":{\"color\":\"white\"}},\"type\":\"table\"}],\"barpolar\":[{\"marker\":{\"line\":{\"color\":\"#E5ECF6\",\"width\":0.5},\"pattern\":{\"fillmode\":\"overlay\",\"size\":10,\"solidity\":0.2}},\"type\":\"barpolar\"}],\"pie\":[{\"automargin\":true,\"type\":\"pie\"}]},\"layout\":{\"autotypenumbers\":\"strict\",\"colorway\":[\"#636efa\",\"#EF553B\",\"#00cc96\",\"#ab63fa\",\"#FFA15A\",\"#19d3f3\",\"#FF6692\",\"#B6E880\",\"#FF97FF\",\"#FECB52\"],\"font\":{\"color\":\"#2a3f5f\"},\"hovermode\":\"closest\",\"hoverlabel\":{\"align\":\"left\"},\"paper_bgcolor\":\"white\",\"plot_bgcolor\":\"#E5ECF6\",\"polar\":{\"bgcolor\":\"#E5ECF6\",\"angularaxis\":{\"gridcolor\":\"white\",\"linecolor\":\"white\",\"ticks\":\"\"},\"radialaxis\":{\"gridcolor\":\"white\",\"linecolor\":\"white\",\"ticks\":\"\"}},\"ternary\":{\"bgcolor\":\"#E5ECF6\",\"aaxis\":{\"gridcolor\":\"white\",\"linecolor\":\"white\",\"ticks\":\"\"},\"baxis\":{\"gridcolor\":\"white\",\"linecolor\":\"white\",\"ticks\":\"\"},\"caxis\":{\"gridcolor\":\"white\",\"linecolor\":\"white\",\"ticks\":\"\"}},\"coloraxis\":{\"colorbar\":{\"outlinewidth\":0,\"ticks\":\"\"}},\"colorscale\":{\"sequential\":[[0.0,\"#0d0887\"],[0.1111111111111111,\"#46039f\"],[0.2222222222222222,\"#7201a8\"],[0.3333333333333333,\"#9c179e\"],[0.4444444444444444,\"#bd3786\"],[0.5555555555555556,\"#d8576b\"],[0.6666666666666666,\"#ed7953\"],[0.7777777777777778,\"#fb9f3a\"],[0.8888888888888888,\"#fdca26\"],[1.0,\"#f0f921\"]],\"sequentialminus\":[[0.0,\"#0d0887\"],[0.1111111111111111,\"#46039f\"],[0.2222222222222222,\"#7201a8\"],[0.3333333333333333,\"#9c179e\"],[0.4444444444444444,\"#bd3786\"],[0.5555555555555556,\"#d8576b\"],[0.6666666666666666,\"#ed7953\"],[0.7777777777777778,\"#fb9f3a\"],[0.8888888888888888,\"#fdca26\"],[1.0,\"#f0f921\"]],\"diverging\":[[0,\"#8e0152\"],[0.1,\"#c51b7d\"],[0.2,\"#de77ae\"],[0.3,\"#f1b6da\"],[0.4,\"#fde0ef\"],[0.5,\"#f7f7f7\"],[0.6,\"#e6f5d0\"],[0.7,\"#b8e186\"],[0.8,\"#7fbc41\"],[0.9,\"#4d9221\"],[1,\"#276419\"]]},\"xaxis\":{\"gridcolor\":\"white\",\"linecolor\":\"white\",\"ticks\":\"\",\"title\":{\"standoff\":15},\"zerolinecolor\":\"white\",\"automargin\":true,\"zerolinewidth\":2},\"yaxis\":{\"gridcolor\":\"white\",\"linecolor\":\"white\",\"ticks\":\"\",\"title\":{\"standoff\":15},\"zerolinecolor\":\"white\",\"automargin\":true,\"zerolinewidth\":2},\"scene\":{\"xaxis\":{\"backgroundcolor\":\"#E5ECF6\",\"gridcolor\":\"white\",\"linecolor\":\"white\",\"showbackground\":true,\"ticks\":\"\",\"zerolinecolor\":\"white\",\"gridwidth\":2},\"yaxis\":{\"backgroundcolor\":\"#E5ECF6\",\"gridcolor\":\"white\",\"linecolor\":\"white\",\"showbackground\":true,\"ticks\":\"\",\"zerolinecolor\":\"white\",\"gridwidth\":2},\"zaxis\":{\"backgroundcolor\":\"#E5ECF6\",\"gridcolor\":\"white\",\"linecolor\":\"white\",\"showbackground\":true,\"ticks\":\"\",\"zerolinecolor\":\"white\",\"gridwidth\":2}},\"shapedefaults\":{\"line\":{\"color\":\"#2a3f5f\"}},\"annotationdefaults\":{\"arrowcolor\":\"#2a3f5f\",\"arrowhead\":0,\"arrowwidth\":1},\"geo\":{\"bgcolor\":\"white\",\"landcolor\":\"#E5ECF6\",\"subunitcolor\":\"white\",\"showland\":true,\"showlakes\":true,\"lakecolor\":\"white\"},\"title\":{\"x\":0.05},\"mapbox\":{\"style\":\"light\"}}},\"mapbox\":{\"domain\":{\"x\":[0.0,1.0],\"y\":[0.0,1.0]},\"center\":{\"lat\":37.555127340677956,\"lon\":126.92163712242031},\"zoom\":8,\"style\":\"open-street-map\"},\"legend\":{\"tracegroupgap\":0,\"itemsizing\":\"constant\"},\"margin\":{\"t\":60}},                        {\"responsive\": true}                    ).then(function(){\n",
       "                            \n",
       "var gd = document.getElementById('d70e59ae-6d2a-4085-ab42-35f2d91fd308');\n",
       "var x = new MutationObserver(function (mutations, observer) {{\n",
       "        var display = window.getComputedStyle(gd).display;\n",
       "        if (!display || display === 'none') {{\n",
       "            console.log([gd, 'removed!']);\n",
       "            Plotly.purge(gd);\n",
       "            observer.disconnect();\n",
       "        }}\n",
       "}});\n",
       "\n",
       "// Listen for the removal of the full notebook cells\n",
       "var notebookContainer = gd.closest('#notebook-container');\n",
       "if (notebookContainer) {{\n",
       "    x.observe(notebookContainer, {childList: true});\n",
       "}}\n",
       "\n",
       "// Listen for the clearing of the current output cell\n",
       "var outputEl = gd.closest('.output');\n",
       "if (outputEl) {{\n",
       "    x.observe(outputEl, {childList: true});\n",
       "}}\n",
       "\n",
       "                        })                };                });            </script>        </div>"
      ]
     },
     "metadata": {},
     "output_type": "display_data"
    }
   ],
   "source": [
    "map1 = make_plot_complete(result_df)"
   ]
  },
  {
   "cell_type": "code",
   "execution_count": null,
   "id": "a50842c5",
   "metadata": {},
   "outputs": [],
   "source": [
    "import chart_studio\n",
    "import chart_studio.plotly as py\n",
    "import chart_studio.tools as tls\n",
    " \n",
    "username = 'LDH_KN'\n",
    "api_key = 'Lh1bR4Bj4yHVLeMZ7tzk'\n",
    "chart_studio.tools.set_credentials_file(username=username, api_key=api_key)\n",
    " \n",
    "https://zephyrus1111.tistory.com/154"
   ]
  },
  {
   "cell_type": "code",
   "execution_count": 234,
   "id": "c0e515e7",
   "metadata": {},
   "outputs": [
    {
     "data": {
      "text/html": [
       "<div>\n",
       "<style scoped>\n",
       "    .dataframe tbody tr th:only-of-type {\n",
       "        vertical-align: middle;\n",
       "    }\n",
       "\n",
       "    .dataframe tbody tr th {\n",
       "        vertical-align: top;\n",
       "    }\n",
       "\n",
       "    .dataframe thead th {\n",
       "        text-align: right;\n",
       "    }\n",
       "</style>\n",
       "<table border=\"1\" class=\"dataframe\">\n",
       "  <thead>\n",
       "    <tr style=\"text-align: right;\">\n",
       "      <th></th>\n",
       "      <th>상호명</th>\n",
       "      <th>주소</th>\n",
       "      <th>12월 매출액</th>\n",
       "      <th>1월 매출액</th>\n",
       "      <th>2월 매출액</th>\n",
       "      <th>전체 매출액</th>\n",
       "      <th>12월 top5</th>\n",
       "      <th>1월 top5</th>\n",
       "      <th>2월 top5</th>\n",
       "      <th>lat</th>\n",
       "      <th>lng</th>\n",
       "      <th>사이즈</th>\n",
       "    </tr>\n",
       "  </thead>\n",
       "  <tbody>\n",
       "    <tr>\n",
       "      <th>0</th>\n",
       "      <td>앨리스 바이 미니멜츠</td>\n",
       "      <td>서울시 마포구 성산로 128</td>\n",
       "      <td>936400</td>\n",
       "      <td>662900</td>\n",
       "      <td>687800</td>\n",
       "      <td>2287100</td>\n",
       "      <td>[아메리카노(ICE), 아메리카노(HOT), 카페라떼(HOT), 샐러드피자, 앨리스...</td>\n",
       "      <td>[파니니브런치, 아메리카노(HOT), 쉬림프로제파스타, 바닐라라떼(HOT), 스프링...</td>\n",
       "      <td>[앨리스브런치, 스프링어니언 크림파스타, 그릴드치킨시저샐러드, 아메리카노(ICE),...</td>\n",
       "      <td>37.564231</td>\n",
       "      <td>126.907826</td>\n",
       "      <td>10</td>\n",
       "    </tr>\n",
       "    <tr>\n",
       "      <th>1</th>\n",
       "      <td>블루쿠치나</td>\n",
       "      <td>서울시 마포구 망원동 57-41</td>\n",
       "      <td>2019000</td>\n",
       "      <td>1444500</td>\n",
       "      <td>1258500</td>\n",
       "      <td>4722000</td>\n",
       "      <td>[통오징어 먹물 리조또, 스테이크크림파스타, 라자냐, 명란크림 파스타, 알리오올리오...</td>\n",
       "      <td>[통오징어 먹물 리조또, 명란크림 파스타, 알리오올리오루꼴라, 스테이크크림 리조또,...</td>\n",
       "      <td>[통오징어 먹물 리조또, 스테이크크림파스타, 해산물 매운 국물 파스타, 알리오올리오...</td>\n",
       "      <td>37.555860</td>\n",
       "      <td>126.900870</td>\n",
       "      <td>10</td>\n",
       "    </tr>\n",
       "    <tr>\n",
       "      <th>2</th>\n",
       "      <td>빠네돌체</td>\n",
       "      <td>서울시 마포구 마포동 388-5</td>\n",
       "      <td>2388000</td>\n",
       "      <td>2667500</td>\n",
       "      <td>2490000</td>\n",
       "      <td>7545500</td>\n",
       "      <td>[P)마르게리타, 인세트, 브리스킷 스뫼레브뢰, P)BBQ 피자, 베이컨로제]</td>\n",
       "      <td>[기타, 새우로제, 브리스킷 스뫼레브뢰, 새우크림, P)마르게리타]</td>\n",
       "      <td>[P)마르게리타, 연어샐러드, 새우로제, 연어큐브 스뫼레브뢰, P)BBQ 피자]</td>\n",
       "      <td>37.536720</td>\n",
       "      <td>126.942880</td>\n",
       "      <td>10</td>\n",
       "    </tr>\n",
       "    <tr>\n",
       "      <th>3</th>\n",
       "      <td>덩크트레이</td>\n",
       "      <td>서울시 마포구 공덕동 234-8</td>\n",
       "      <td>14242400</td>\n",
       "      <td>12530600</td>\n",
       "      <td>15468700</td>\n",
       "      <td>42241700</td>\n",
       "      <td>[스텔라, 테라, 디트로이트 (페퍼로니), 버드와이저, 덩크 치킨]</td>\n",
       "      <td>[테라, 덩크 치킨, 덩크 얼그레이 하이볼, 디트로이트 (루꼴라), 디트로이트 (페...</td>\n",
       "      <td>[대관 및 예약, 스텔라, 디트로이트 (페퍼로니), 디트로이트 (루꼴라), 테라]</td>\n",
       "      <td>37.549927</td>\n",
       "      <td>126.959290</td>\n",
       "      <td>10</td>\n",
       "    </tr>\n",
       "    <tr>\n",
       "      <th>4</th>\n",
       "      <td>살롱드마르잔</td>\n",
       "      <td>서울시 마포구 동교동 148-12</td>\n",
       "      <td>9392000</td>\n",
       "      <td>3684000</td>\n",
       "      <td>3741500</td>\n",
       "      <td>16817500</td>\n",
       "      <td>[쉬림프오일파스타, 마르게리따피자, 로제파스타, 비프스테이크, 버팔로윙]</td>\n",
       "      <td>[마르게리따피자, 치킨, 라구파이, 커피Ice, 레드 글라스와인]</td>\n",
       "      <td>[커피Ice, 라구파이, 마르게리따피자, 페페로니피자, 더치베이비]</td>\n",
       "      <td>37.557142</td>\n",
       "      <td>126.926190</td>\n",
       "      <td>10</td>\n",
       "    </tr>\n",
       "  </tbody>\n",
       "</table>\n",
       "</div>"
      ],
      "text/plain": [
       "           상호명                  주소   12월 매출액    1월 매출액    2월 매출액    전체 매출액  \\\n",
       "0  앨리스 바이 미니멜츠     서울시 마포구 성산로 128    936400    662900    687800   2287100   \n",
       "1        블루쿠치나   서울시 마포구 망원동 57-41   2019000   1444500   1258500   4722000   \n",
       "2         빠네돌체   서울시 마포구 마포동 388-5   2388000   2667500   2490000   7545500   \n",
       "3        덩크트레이   서울시 마포구 공덕동 234-8  14242400  12530600  15468700  42241700   \n",
       "4       살롱드마르잔  서울시 마포구 동교동 148-12   9392000   3684000   3741500  16817500   \n",
       "\n",
       "                                            12월 top5  \\\n",
       "0  [아메리카노(ICE), 아메리카노(HOT), 카페라떼(HOT), 샐러드피자, 앨리스...   \n",
       "1  [통오징어 먹물 리조또, 스테이크크림파스타, 라자냐, 명란크림 파스타, 알리오올리오...   \n",
       "2        [P)마르게리타, 인세트, 브리스킷 스뫼레브뢰, P)BBQ 피자, 베이컨로제]   \n",
       "3              [스텔라, 테라, 디트로이트 (페퍼로니), 버드와이저, 덩크 치킨]   \n",
       "4           [쉬림프오일파스타, 마르게리따피자, 로제파스타, 비프스테이크, 버팔로윙]   \n",
       "\n",
       "                                             1월 top5  \\\n",
       "0  [파니니브런치, 아메리카노(HOT), 쉬림프로제파스타, 바닐라라떼(HOT), 스프링...   \n",
       "1  [통오징어 먹물 리조또, 명란크림 파스타, 알리오올리오루꼴라, 스테이크크림 리조또,...   \n",
       "2              [기타, 새우로제, 브리스킷 스뫼레브뢰, 새우크림, P)마르게리타]   \n",
       "3  [테라, 덩크 치킨, 덩크 얼그레이 하이볼, 디트로이트 (루꼴라), 디트로이트 (페...   \n",
       "4               [마르게리따피자, 치킨, 라구파이, 커피Ice, 레드 글라스와인]   \n",
       "\n",
       "                                             2월 top5        lat         lng  \\\n",
       "0  [앨리스브런치, 스프링어니언 크림파스타, 그릴드치킨시저샐러드, 아메리카노(ICE),...  37.564231  126.907826   \n",
       "1  [통오징어 먹물 리조또, 스테이크크림파스타, 해산물 매운 국물 파스타, 알리오올리오...  37.555860  126.900870   \n",
       "2       [P)마르게리타, 연어샐러드, 새우로제, 연어큐브 스뫼레브뢰, P)BBQ 피자]  37.536720  126.942880   \n",
       "3      [대관 및 예약, 스텔라, 디트로이트 (페퍼로니), 디트로이트 (루꼴라), 테라]  37.549927  126.959290   \n",
       "4              [커피Ice, 라구파이, 마르게리따피자, 페페로니피자, 더치베이비]  37.557142  126.926190   \n",
       "\n",
       "   사이즈  \n",
       "0   10  \n",
       "1   10  \n",
       "2   10  \n",
       "3   10  \n",
       "4   10  "
      ]
     },
     "execution_count": 234,
     "metadata": {},
     "output_type": "execute_result"
    }
   ],
   "source": [
    "result_df.head()"
   ]
  },
  {
   "cell_type": "code",
   "execution_count": null,
   "id": "be3dfe6a",
   "metadata": {},
   "outputs": [],
   "source": []
  },
  {
   "cell_type": "code",
   "execution_count": null,
   "id": "9a131c29",
   "metadata": {},
   "outputs": [],
   "source": []
  },
  {
   "cell_type": "markdown",
   "id": "054ffed7",
   "metadata": {},
   "source": [
    "# 시각화\n",
    "### 매출 그래프"
   ]
  },
  {
   "cell_type": "code",
   "execution_count": 237,
   "id": "12eb1fde",
   "metadata": {},
   "outputs": [
    {
     "data": {
      "application/vnd.plotly.v1+json": {
       "config": {
        "plotlyServerURL": "https://plotly.com"
       },
       "data": [
        {
         "alignmentgroup": "True",
         "hovertemplate": "상호명=%{x}<br>12월 매출액=%{y}<extra></extra>",
         "legendgroup": "",
         "marker": {
          "color": "#636efa",
          "pattern": {
           "shape": ""
          }
         },
         "name": "",
         "offsetgroup": "",
         "orientation": "v",
         "showlegend": false,
         "textposition": "auto",
         "type": "bar",
         "x": [
          "감성타코(홍대점)",
          "슬로우야드 바비큐",
          "빌리더다이닝",
          "치킨앤카레군",
          "루나씨엘로",
          "덩크트레이",
          "비스트로에버",
          "토모토카페",
          "크레이지카츠",
          "이응이응이응이응-table",
          "살롱드마르잔",
          "스푼필라프 홍대점",
          "kitchen 485",
          "몰토베네 합정",
          "광야",
          "바삭마차(망원시장점)",
          "엘리스리틀이태리",
          "소코아",
          "테이커테이블",
          "이오카츠공덕점",
          "토파",
          "헤키",
          "멕시코다이너",
          "연남동와이탑",
          "스프링비스트로",
          "마루돈까스",
          "홍대클라쓰",
          "브라운돈까스 상암MBC몰",
          "에트나퓨",
          "비볼리",
          "붉은낙타",
          "빠네돌체",
          "쥬벤쿠바 연남점",
          "묘한식탁",
          "지알로파스타바",
          "블루쿠치나",
          "흑심",
          "코코가츠",
          "진돈",
          "명동왕돈까스 직영점",
          "돈카츠 준",
          "소나무연남",
          "벨라또띠아",
          "오이도",
          "카페루치아",
          "우애돈카츠 연남점",
          "까사라티나",
          "수엠부",
          "쿠바킹",
          "엽전식당 연남점",
          "해물기와",
          "아르고보니",
          "앨리스 바이 미니멜츠",
          "드렁큰비건",
          "요나끼",
          "포트 앤 나달",
          "인더썬",
          "감성카츠",
          "배아또"
         ],
         "xaxis": "x",
         "y": [
          63581700,
          28979000,
          26958000,
          16419500,
          15824000,
          14242400,
          11839500,
          11587600,
          10057500,
          10030000,
          9392000,
          7776200,
          7503000,
          6869500,
          6851000,
          6679400,
          6315500,
          6282900,
          6246500,
          5944500,
          5464000,
          4688000,
          4429400,
          4174000,
          4163000,
          4090000,
          3290000,
          3164500,
          2989800,
          2889500,
          2584500,
          2388000,
          2244000,
          2132700,
          2053000,
          2019000,
          1904000,
          1895000,
          1743000,
          1704500,
          1519300,
          1514000,
          1190500,
          1140500,
          1138800,
          1106750,
          1091400,
          1070300,
          1036000,
          1003900,
          936400,
          936400,
          936400,
          730000,
          705000,
          435000,
          397500,
          365700,
          309000
         ],
         "yaxis": "y"
        }
       ],
       "layout": {
        "barmode": "relative",
        "legend": {
         "tracegroupgap": 0
        },
        "margin": {
         "t": 60
        },
        "template": {
         "data": {
          "bar": [
           {
            "error_x": {
             "color": "#2a3f5f"
            },
            "error_y": {
             "color": "#2a3f5f"
            },
            "marker": {
             "line": {
              "color": "#E5ECF6",
              "width": 0.5
             },
             "pattern": {
              "fillmode": "overlay",
              "size": 10,
              "solidity": 0.2
             }
            },
            "type": "bar"
           }
          ],
          "barpolar": [
           {
            "marker": {
             "line": {
              "color": "#E5ECF6",
              "width": 0.5
             },
             "pattern": {
              "fillmode": "overlay",
              "size": 10,
              "solidity": 0.2
             }
            },
            "type": "barpolar"
           }
          ],
          "carpet": [
           {
            "aaxis": {
             "endlinecolor": "#2a3f5f",
             "gridcolor": "white",
             "linecolor": "white",
             "minorgridcolor": "white",
             "startlinecolor": "#2a3f5f"
            },
            "baxis": {
             "endlinecolor": "#2a3f5f",
             "gridcolor": "white",
             "linecolor": "white",
             "minorgridcolor": "white",
             "startlinecolor": "#2a3f5f"
            },
            "type": "carpet"
           }
          ],
          "choropleth": [
           {
            "colorbar": {
             "outlinewidth": 0,
             "ticks": ""
            },
            "type": "choropleth"
           }
          ],
          "contour": [
           {
            "colorbar": {
             "outlinewidth": 0,
             "ticks": ""
            },
            "colorscale": [
             [
              0,
              "#0d0887"
             ],
             [
              0.1111111111111111,
              "#46039f"
             ],
             [
              0.2222222222222222,
              "#7201a8"
             ],
             [
              0.3333333333333333,
              "#9c179e"
             ],
             [
              0.4444444444444444,
              "#bd3786"
             ],
             [
              0.5555555555555556,
              "#d8576b"
             ],
             [
              0.6666666666666666,
              "#ed7953"
             ],
             [
              0.7777777777777778,
              "#fb9f3a"
             ],
             [
              0.8888888888888888,
              "#fdca26"
             ],
             [
              1,
              "#f0f921"
             ]
            ],
            "type": "contour"
           }
          ],
          "contourcarpet": [
           {
            "colorbar": {
             "outlinewidth": 0,
             "ticks": ""
            },
            "type": "contourcarpet"
           }
          ],
          "heatmap": [
           {
            "colorbar": {
             "outlinewidth": 0,
             "ticks": ""
            },
            "colorscale": [
             [
              0,
              "#0d0887"
             ],
             [
              0.1111111111111111,
              "#46039f"
             ],
             [
              0.2222222222222222,
              "#7201a8"
             ],
             [
              0.3333333333333333,
              "#9c179e"
             ],
             [
              0.4444444444444444,
              "#bd3786"
             ],
             [
              0.5555555555555556,
              "#d8576b"
             ],
             [
              0.6666666666666666,
              "#ed7953"
             ],
             [
              0.7777777777777778,
              "#fb9f3a"
             ],
             [
              0.8888888888888888,
              "#fdca26"
             ],
             [
              1,
              "#f0f921"
             ]
            ],
            "type": "heatmap"
           }
          ],
          "heatmapgl": [
           {
            "colorbar": {
             "outlinewidth": 0,
             "ticks": ""
            },
            "colorscale": [
             [
              0,
              "#0d0887"
             ],
             [
              0.1111111111111111,
              "#46039f"
             ],
             [
              0.2222222222222222,
              "#7201a8"
             ],
             [
              0.3333333333333333,
              "#9c179e"
             ],
             [
              0.4444444444444444,
              "#bd3786"
             ],
             [
              0.5555555555555556,
              "#d8576b"
             ],
             [
              0.6666666666666666,
              "#ed7953"
             ],
             [
              0.7777777777777778,
              "#fb9f3a"
             ],
             [
              0.8888888888888888,
              "#fdca26"
             ],
             [
              1,
              "#f0f921"
             ]
            ],
            "type": "heatmapgl"
           }
          ],
          "histogram": [
           {
            "marker": {
             "pattern": {
              "fillmode": "overlay",
              "size": 10,
              "solidity": 0.2
             }
            },
            "type": "histogram"
           }
          ],
          "histogram2d": [
           {
            "colorbar": {
             "outlinewidth": 0,
             "ticks": ""
            },
            "colorscale": [
             [
              0,
              "#0d0887"
             ],
             [
              0.1111111111111111,
              "#46039f"
             ],
             [
              0.2222222222222222,
              "#7201a8"
             ],
             [
              0.3333333333333333,
              "#9c179e"
             ],
             [
              0.4444444444444444,
              "#bd3786"
             ],
             [
              0.5555555555555556,
              "#d8576b"
             ],
             [
              0.6666666666666666,
              "#ed7953"
             ],
             [
              0.7777777777777778,
              "#fb9f3a"
             ],
             [
              0.8888888888888888,
              "#fdca26"
             ],
             [
              1,
              "#f0f921"
             ]
            ],
            "type": "histogram2d"
           }
          ],
          "histogram2dcontour": [
           {
            "colorbar": {
             "outlinewidth": 0,
             "ticks": ""
            },
            "colorscale": [
             [
              0,
              "#0d0887"
             ],
             [
              0.1111111111111111,
              "#46039f"
             ],
             [
              0.2222222222222222,
              "#7201a8"
             ],
             [
              0.3333333333333333,
              "#9c179e"
             ],
             [
              0.4444444444444444,
              "#bd3786"
             ],
             [
              0.5555555555555556,
              "#d8576b"
             ],
             [
              0.6666666666666666,
              "#ed7953"
             ],
             [
              0.7777777777777778,
              "#fb9f3a"
             ],
             [
              0.8888888888888888,
              "#fdca26"
             ],
             [
              1,
              "#f0f921"
             ]
            ],
            "type": "histogram2dcontour"
           }
          ],
          "mesh3d": [
           {
            "colorbar": {
             "outlinewidth": 0,
             "ticks": ""
            },
            "type": "mesh3d"
           }
          ],
          "parcoords": [
           {
            "line": {
             "colorbar": {
              "outlinewidth": 0,
              "ticks": ""
             }
            },
            "type": "parcoords"
           }
          ],
          "pie": [
           {
            "automargin": true,
            "type": "pie"
           }
          ],
          "scatter": [
           {
            "fillpattern": {
             "fillmode": "overlay",
             "size": 10,
             "solidity": 0.2
            },
            "type": "scatter"
           }
          ],
          "scatter3d": [
           {
            "line": {
             "colorbar": {
              "outlinewidth": 0,
              "ticks": ""
             }
            },
            "marker": {
             "colorbar": {
              "outlinewidth": 0,
              "ticks": ""
             }
            },
            "type": "scatter3d"
           }
          ],
          "scattercarpet": [
           {
            "marker": {
             "colorbar": {
              "outlinewidth": 0,
              "ticks": ""
             }
            },
            "type": "scattercarpet"
           }
          ],
          "scattergeo": [
           {
            "marker": {
             "colorbar": {
              "outlinewidth": 0,
              "ticks": ""
             }
            },
            "type": "scattergeo"
           }
          ],
          "scattergl": [
           {
            "marker": {
             "colorbar": {
              "outlinewidth": 0,
              "ticks": ""
             }
            },
            "type": "scattergl"
           }
          ],
          "scattermapbox": [
           {
            "marker": {
             "colorbar": {
              "outlinewidth": 0,
              "ticks": ""
             }
            },
            "type": "scattermapbox"
           }
          ],
          "scatterpolar": [
           {
            "marker": {
             "colorbar": {
              "outlinewidth": 0,
              "ticks": ""
             }
            },
            "type": "scatterpolar"
           }
          ],
          "scatterpolargl": [
           {
            "marker": {
             "colorbar": {
              "outlinewidth": 0,
              "ticks": ""
             }
            },
            "type": "scatterpolargl"
           }
          ],
          "scatterternary": [
           {
            "marker": {
             "colorbar": {
              "outlinewidth": 0,
              "ticks": ""
             }
            },
            "type": "scatterternary"
           }
          ],
          "surface": [
           {
            "colorbar": {
             "outlinewidth": 0,
             "ticks": ""
            },
            "colorscale": [
             [
              0,
              "#0d0887"
             ],
             [
              0.1111111111111111,
              "#46039f"
             ],
             [
              0.2222222222222222,
              "#7201a8"
             ],
             [
              0.3333333333333333,
              "#9c179e"
             ],
             [
              0.4444444444444444,
              "#bd3786"
             ],
             [
              0.5555555555555556,
              "#d8576b"
             ],
             [
              0.6666666666666666,
              "#ed7953"
             ],
             [
              0.7777777777777778,
              "#fb9f3a"
             ],
             [
              0.8888888888888888,
              "#fdca26"
             ],
             [
              1,
              "#f0f921"
             ]
            ],
            "type": "surface"
           }
          ],
          "table": [
           {
            "cells": {
             "fill": {
              "color": "#EBF0F8"
             },
             "line": {
              "color": "white"
             }
            },
            "header": {
             "fill": {
              "color": "#C8D4E3"
             },
             "line": {
              "color": "white"
             }
            },
            "type": "table"
           }
          ]
         },
         "layout": {
          "annotationdefaults": {
           "arrowcolor": "#2a3f5f",
           "arrowhead": 0,
           "arrowwidth": 1
          },
          "autotypenumbers": "strict",
          "coloraxis": {
           "colorbar": {
            "outlinewidth": 0,
            "ticks": ""
           }
          },
          "colorscale": {
           "diverging": [
            [
             0,
             "#8e0152"
            ],
            [
             0.1,
             "#c51b7d"
            ],
            [
             0.2,
             "#de77ae"
            ],
            [
             0.3,
             "#f1b6da"
            ],
            [
             0.4,
             "#fde0ef"
            ],
            [
             0.5,
             "#f7f7f7"
            ],
            [
             0.6,
             "#e6f5d0"
            ],
            [
             0.7,
             "#b8e186"
            ],
            [
             0.8,
             "#7fbc41"
            ],
            [
             0.9,
             "#4d9221"
            ],
            [
             1,
             "#276419"
            ]
           ],
           "sequential": [
            [
             0,
             "#0d0887"
            ],
            [
             0.1111111111111111,
             "#46039f"
            ],
            [
             0.2222222222222222,
             "#7201a8"
            ],
            [
             0.3333333333333333,
             "#9c179e"
            ],
            [
             0.4444444444444444,
             "#bd3786"
            ],
            [
             0.5555555555555556,
             "#d8576b"
            ],
            [
             0.6666666666666666,
             "#ed7953"
            ],
            [
             0.7777777777777778,
             "#fb9f3a"
            ],
            [
             0.8888888888888888,
             "#fdca26"
            ],
            [
             1,
             "#f0f921"
            ]
           ],
           "sequentialminus": [
            [
             0,
             "#0d0887"
            ],
            [
             0.1111111111111111,
             "#46039f"
            ],
            [
             0.2222222222222222,
             "#7201a8"
            ],
            [
             0.3333333333333333,
             "#9c179e"
            ],
            [
             0.4444444444444444,
             "#bd3786"
            ],
            [
             0.5555555555555556,
             "#d8576b"
            ],
            [
             0.6666666666666666,
             "#ed7953"
            ],
            [
             0.7777777777777778,
             "#fb9f3a"
            ],
            [
             0.8888888888888888,
             "#fdca26"
            ],
            [
             1,
             "#f0f921"
            ]
           ]
          },
          "colorway": [
           "#636efa",
           "#EF553B",
           "#00cc96",
           "#ab63fa",
           "#FFA15A",
           "#19d3f3",
           "#FF6692",
           "#B6E880",
           "#FF97FF",
           "#FECB52"
          ],
          "font": {
           "color": "#2a3f5f"
          },
          "geo": {
           "bgcolor": "white",
           "lakecolor": "white",
           "landcolor": "#E5ECF6",
           "showlakes": true,
           "showland": true,
           "subunitcolor": "white"
          },
          "hoverlabel": {
           "align": "left"
          },
          "hovermode": "closest",
          "mapbox": {
           "style": "light"
          },
          "paper_bgcolor": "white",
          "plot_bgcolor": "#E5ECF6",
          "polar": {
           "angularaxis": {
            "gridcolor": "white",
            "linecolor": "white",
            "ticks": ""
           },
           "bgcolor": "#E5ECF6",
           "radialaxis": {
            "gridcolor": "white",
            "linecolor": "white",
            "ticks": ""
           }
          },
          "scene": {
           "xaxis": {
            "backgroundcolor": "#E5ECF6",
            "gridcolor": "white",
            "gridwidth": 2,
            "linecolor": "white",
            "showbackground": true,
            "ticks": "",
            "zerolinecolor": "white"
           },
           "yaxis": {
            "backgroundcolor": "#E5ECF6",
            "gridcolor": "white",
            "gridwidth": 2,
            "linecolor": "white",
            "showbackground": true,
            "ticks": "",
            "zerolinecolor": "white"
           },
           "zaxis": {
            "backgroundcolor": "#E5ECF6",
            "gridcolor": "white",
            "gridwidth": 2,
            "linecolor": "white",
            "showbackground": true,
            "ticks": "",
            "zerolinecolor": "white"
           }
          },
          "shapedefaults": {
           "line": {
            "color": "#2a3f5f"
           }
          },
          "ternary": {
           "aaxis": {
            "gridcolor": "white",
            "linecolor": "white",
            "ticks": ""
           },
           "baxis": {
            "gridcolor": "white",
            "linecolor": "white",
            "ticks": ""
           },
           "bgcolor": "#E5ECF6",
           "caxis": {
            "gridcolor": "white",
            "linecolor": "white",
            "ticks": ""
           }
          },
          "title": {
           "x": 0.05
          },
          "xaxis": {
           "automargin": true,
           "gridcolor": "white",
           "linecolor": "white",
           "ticks": "",
           "title": {
            "standoff": 15
           },
           "zerolinecolor": "white",
           "zerolinewidth": 2
          },
          "yaxis": {
           "automargin": true,
           "gridcolor": "white",
           "linecolor": "white",
           "ticks": "",
           "title": {
            "standoff": 15
           },
           "zerolinecolor": "white",
           "zerolinewidth": 2
          }
         }
        },
        "xaxis": {
         "anchor": "y",
         "domain": [
          0,
          1
         ],
         "title": {
          "text": "상호명"
         }
        },
        "yaxis": {
         "anchor": "x",
         "domain": [
          0,
          1
         ],
         "title": {
          "text": "12월 매출액"
         }
        }
       }
      },
      "text/html": [
       "<div>                            <div id=\"b5f1317b-ba83-4266-a60e-ddb0457a7ff8\" class=\"plotly-graph-div\" style=\"height:525px; width:100%;\"></div>            <script type=\"text/javascript\">                require([\"plotly\"], function(Plotly) {                    window.PLOTLYENV=window.PLOTLYENV || {};                                    if (document.getElementById(\"b5f1317b-ba83-4266-a60e-ddb0457a7ff8\")) {                    Plotly.newPlot(                        \"b5f1317b-ba83-4266-a60e-ddb0457a7ff8\",                        [{\"alignmentgroup\":\"True\",\"hovertemplate\":\"\\uc0c1\\ud638\\uba85=%{x}<br>12\\uc6d4 \\ub9e4\\ucd9c\\uc561=%{y}<extra></extra>\",\"legendgroup\":\"\",\"marker\":{\"color\":\"#636efa\",\"pattern\":{\"shape\":\"\"}},\"name\":\"\",\"offsetgroup\":\"\",\"orientation\":\"v\",\"showlegend\":false,\"textposition\":\"auto\",\"x\":[\"\\uac10\\uc131\\ud0c0\\ucf54(\\ud64d\\ub300\\uc810)\",\"\\uc2ac\\ub85c\\uc6b0\\uc57c\\ub4dc \\ubc14\\ube44\\ud050\",\"\\ube4c\\ub9ac\\ub354\\ub2e4\\uc774\\ub2dd\",\"\\uce58\\ud0a8\\uc564\\uce74\\ub808\\uad70\",\"\\ub8e8\\ub098\\uc528\\uc5d8\\ub85c\",\"\\ub369\\ud06c\\ud2b8\\ub808\\uc774\",\"\\ube44\\uc2a4\\ud2b8\\ub85c\\uc5d0\\ubc84\",\"\\ud1a0\\ubaa8\\ud1a0\\uce74\\ud398\",\"\\ud06c\\ub808\\uc774\\uc9c0\\uce74\\uce20\",\"\\uc774\\uc751\\uc774\\uc751\\uc774\\uc751\\uc774\\uc751-table\",\"\\uc0b4\\ub871\\ub4dc\\ub9c8\\ub974\\uc794\",\"\\uc2a4\\ud47c\\ud544\\ub77c\\ud504 \\ud64d\\ub300\\uc810\",\"kitchen 485\",\"\\ubab0\\ud1a0\\ubca0\\ub124 \\ud569\\uc815\",\"\\uad11\\uc57c\",\"\\ubc14\\uc0ad\\ub9c8\\ucc28(\\ub9dd\\uc6d0\\uc2dc\\uc7a5\\uc810)\",\"\\uc5d8\\ub9ac\\uc2a4\\ub9ac\\ud2c0\\uc774\\ud0dc\\ub9ac\",\"\\uc18c\\ucf54\\uc544\",\"\\ud14c\\uc774\\ucee4\\ud14c\\uc774\\ube14\",\"\\uc774\\uc624\\uce74\\uce20\\uacf5\\ub355\\uc810\",\"\\ud1a0\\ud30c\",\"\\ud5e4\\ud0a4\",\"\\uba55\\uc2dc\\ucf54\\ub2e4\\uc774\\ub108\",\"\\uc5f0\\ub0a8\\ub3d9\\uc640\\uc774\\ud0d1\",\"\\uc2a4\\ud504\\ub9c1\\ube44\\uc2a4\\ud2b8\\ub85c\",\"\\ub9c8\\ub8e8\\ub3c8\\uae4c\\uc2a4\",\"\\ud64d\\ub300\\ud074\\ub77c\\uc4f0\",\"\\ube0c\\ub77c\\uc6b4\\ub3c8\\uae4c\\uc2a4 \\uc0c1\\uc554MBC\\ubab0\",\"\\uc5d0\\ud2b8\\ub098\\ud4e8\",\"\\ube44\\ubcfc\\ub9ac\",\"\\ubd89\\uc740\\ub099\\ud0c0\",\"\\ube60\\ub124\\ub3cc\\uccb4\",\"\\uc96c\\ubca4\\ucfe0\\ubc14 \\uc5f0\\ub0a8\\uc810\",\"\\ubb18\\ud55c\\uc2dd\\ud0c1\",\"\\uc9c0\\uc54c\\ub85c\\ud30c\\uc2a4\\ud0c0\\ubc14\",\"\\ube14\\ub8e8\\ucfe0\\uce58\\ub098\",\"\\ud751\\uc2ec\",\"\\ucf54\\ucf54\\uac00\\uce20\",\"\\uc9c4\\ub3c8\",\"\\uba85\\ub3d9\\uc655\\ub3c8\\uae4c\\uc2a4 \\uc9c1\\uc601\\uc810\",\"\\ub3c8\\uce74\\uce20 \\uc900\",\"\\uc18c\\ub098\\ubb34\\uc5f0\\ub0a8\",\"\\ubca8\\ub77c\\ub610\\ub760\\uc544\",\"\\uc624\\uc774\\ub3c4\",\"\\uce74\\ud398\\ub8e8\\uce58\\uc544\",\"\\uc6b0\\uc560\\ub3c8\\uce74\\uce20 \\uc5f0\\ub0a8\\uc810\",\"\\uae4c\\uc0ac\\ub77c\\ud2f0\\ub098\",\"\\uc218\\uc5e0\\ubd80\",\"\\ucfe0\\ubc14\\ud0b9\",\"\\uc5fd\\uc804\\uc2dd\\ub2f9 \\uc5f0\\ub0a8\\uc810\",\"\\ud574\\ubb3c\\uae30\\uc640\",\"\\uc544\\ub974\\uace0\\ubcf4\\ub2c8\",\"\\uc568\\ub9ac\\uc2a4 \\ubc14\\uc774 \\ubbf8\\ub2c8\\uba5c\\uce20\",\"\\ub4dc\\ub801\\ud070\\ube44\\uac74\",\"\\uc694\\ub098\\ub07c\",\"\\ud3ec\\ud2b8 \\uc564 \\ub098\\ub2ec\",\"\\uc778\\ub354\\uc36c\",\"\\uac10\\uc131\\uce74\\uce20\",\"\\ubc30\\uc544\\ub610\"],\"xaxis\":\"x\",\"y\":[63581700,28979000,26958000,16419500,15824000,14242400,11839500,11587600,10057500,10030000,9392000,7776200,7503000,6869500,6851000,6679400,6315500,6282900,6246500,5944500,5464000,4688000,4429400,4174000,4163000,4090000,3290000,3164500,2989800,2889500,2584500,2388000,2244000,2132700,2053000,2019000,1904000,1895000,1743000,1704500,1519300,1514000,1190500,1140500,1138800,1106750,1091400,1070300,1036000,1003900,936400,936400,936400,730000,705000,435000,397500,365700,309000],\"yaxis\":\"y\",\"type\":\"bar\"}],                        {\"template\":{\"data\":{\"histogram2dcontour\":[{\"type\":\"histogram2dcontour\",\"colorbar\":{\"outlinewidth\":0,\"ticks\":\"\"},\"colorscale\":[[0.0,\"#0d0887\"],[0.1111111111111111,\"#46039f\"],[0.2222222222222222,\"#7201a8\"],[0.3333333333333333,\"#9c179e\"],[0.4444444444444444,\"#bd3786\"],[0.5555555555555556,\"#d8576b\"],[0.6666666666666666,\"#ed7953\"],[0.7777777777777778,\"#fb9f3a\"],[0.8888888888888888,\"#fdca26\"],[1.0,\"#f0f921\"]]}],\"choropleth\":[{\"type\":\"choropleth\",\"colorbar\":{\"outlinewidth\":0,\"ticks\":\"\"}}],\"histogram2d\":[{\"type\":\"histogram2d\",\"colorbar\":{\"outlinewidth\":0,\"ticks\":\"\"},\"colorscale\":[[0.0,\"#0d0887\"],[0.1111111111111111,\"#46039f\"],[0.2222222222222222,\"#7201a8\"],[0.3333333333333333,\"#9c179e\"],[0.4444444444444444,\"#bd3786\"],[0.5555555555555556,\"#d8576b\"],[0.6666666666666666,\"#ed7953\"],[0.7777777777777778,\"#fb9f3a\"],[0.8888888888888888,\"#fdca26\"],[1.0,\"#f0f921\"]]}],\"heatmap\":[{\"type\":\"heatmap\",\"colorbar\":{\"outlinewidth\":0,\"ticks\":\"\"},\"colorscale\":[[0.0,\"#0d0887\"],[0.1111111111111111,\"#46039f\"],[0.2222222222222222,\"#7201a8\"],[0.3333333333333333,\"#9c179e\"],[0.4444444444444444,\"#bd3786\"],[0.5555555555555556,\"#d8576b\"],[0.6666666666666666,\"#ed7953\"],[0.7777777777777778,\"#fb9f3a\"],[0.8888888888888888,\"#fdca26\"],[1.0,\"#f0f921\"]]}],\"heatmapgl\":[{\"type\":\"heatmapgl\",\"colorbar\":{\"outlinewidth\":0,\"ticks\":\"\"},\"colorscale\":[[0.0,\"#0d0887\"],[0.1111111111111111,\"#46039f\"],[0.2222222222222222,\"#7201a8\"],[0.3333333333333333,\"#9c179e\"],[0.4444444444444444,\"#bd3786\"],[0.5555555555555556,\"#d8576b\"],[0.6666666666666666,\"#ed7953\"],[0.7777777777777778,\"#fb9f3a\"],[0.8888888888888888,\"#fdca26\"],[1.0,\"#f0f921\"]]}],\"contourcarpet\":[{\"type\":\"contourcarpet\",\"colorbar\":{\"outlinewidth\":0,\"ticks\":\"\"}}],\"contour\":[{\"type\":\"contour\",\"colorbar\":{\"outlinewidth\":0,\"ticks\":\"\"},\"colorscale\":[[0.0,\"#0d0887\"],[0.1111111111111111,\"#46039f\"],[0.2222222222222222,\"#7201a8\"],[0.3333333333333333,\"#9c179e\"],[0.4444444444444444,\"#bd3786\"],[0.5555555555555556,\"#d8576b\"],[0.6666666666666666,\"#ed7953\"],[0.7777777777777778,\"#fb9f3a\"],[0.8888888888888888,\"#fdca26\"],[1.0,\"#f0f921\"]]}],\"surface\":[{\"type\":\"surface\",\"colorbar\":{\"outlinewidth\":0,\"ticks\":\"\"},\"colorscale\":[[0.0,\"#0d0887\"],[0.1111111111111111,\"#46039f\"],[0.2222222222222222,\"#7201a8\"],[0.3333333333333333,\"#9c179e\"],[0.4444444444444444,\"#bd3786\"],[0.5555555555555556,\"#d8576b\"],[0.6666666666666666,\"#ed7953\"],[0.7777777777777778,\"#fb9f3a\"],[0.8888888888888888,\"#fdca26\"],[1.0,\"#f0f921\"]]}],\"mesh3d\":[{\"type\":\"mesh3d\",\"colorbar\":{\"outlinewidth\":0,\"ticks\":\"\"}}],\"scatter\":[{\"fillpattern\":{\"fillmode\":\"overlay\",\"size\":10,\"solidity\":0.2},\"type\":\"scatter\"}],\"parcoords\":[{\"type\":\"parcoords\",\"line\":{\"colorbar\":{\"outlinewidth\":0,\"ticks\":\"\"}}}],\"scatterpolargl\":[{\"type\":\"scatterpolargl\",\"marker\":{\"colorbar\":{\"outlinewidth\":0,\"ticks\":\"\"}}}],\"bar\":[{\"error_x\":{\"color\":\"#2a3f5f\"},\"error_y\":{\"color\":\"#2a3f5f\"},\"marker\":{\"line\":{\"color\":\"#E5ECF6\",\"width\":0.5},\"pattern\":{\"fillmode\":\"overlay\",\"size\":10,\"solidity\":0.2}},\"type\":\"bar\"}],\"scattergeo\":[{\"type\":\"scattergeo\",\"marker\":{\"colorbar\":{\"outlinewidth\":0,\"ticks\":\"\"}}}],\"scatterpolar\":[{\"type\":\"scatterpolar\",\"marker\":{\"colorbar\":{\"outlinewidth\":0,\"ticks\":\"\"}}}],\"histogram\":[{\"marker\":{\"pattern\":{\"fillmode\":\"overlay\",\"size\":10,\"solidity\":0.2}},\"type\":\"histogram\"}],\"scattergl\":[{\"type\":\"scattergl\",\"marker\":{\"colorbar\":{\"outlinewidth\":0,\"ticks\":\"\"}}}],\"scatter3d\":[{\"type\":\"scatter3d\",\"line\":{\"colorbar\":{\"outlinewidth\":0,\"ticks\":\"\"}},\"marker\":{\"colorbar\":{\"outlinewidth\":0,\"ticks\":\"\"}}}],\"scattermapbox\":[{\"type\":\"scattermapbox\",\"marker\":{\"colorbar\":{\"outlinewidth\":0,\"ticks\":\"\"}}}],\"scatterternary\":[{\"type\":\"scatterternary\",\"marker\":{\"colorbar\":{\"outlinewidth\":0,\"ticks\":\"\"}}}],\"scattercarpet\":[{\"type\":\"scattercarpet\",\"marker\":{\"colorbar\":{\"outlinewidth\":0,\"ticks\":\"\"}}}],\"carpet\":[{\"aaxis\":{\"endlinecolor\":\"#2a3f5f\",\"gridcolor\":\"white\",\"linecolor\":\"white\",\"minorgridcolor\":\"white\",\"startlinecolor\":\"#2a3f5f\"},\"baxis\":{\"endlinecolor\":\"#2a3f5f\",\"gridcolor\":\"white\",\"linecolor\":\"white\",\"minorgridcolor\":\"white\",\"startlinecolor\":\"#2a3f5f\"},\"type\":\"carpet\"}],\"table\":[{\"cells\":{\"fill\":{\"color\":\"#EBF0F8\"},\"line\":{\"color\":\"white\"}},\"header\":{\"fill\":{\"color\":\"#C8D4E3\"},\"line\":{\"color\":\"white\"}},\"type\":\"table\"}],\"barpolar\":[{\"marker\":{\"line\":{\"color\":\"#E5ECF6\",\"width\":0.5},\"pattern\":{\"fillmode\":\"overlay\",\"size\":10,\"solidity\":0.2}},\"type\":\"barpolar\"}],\"pie\":[{\"automargin\":true,\"type\":\"pie\"}]},\"layout\":{\"autotypenumbers\":\"strict\",\"colorway\":[\"#636efa\",\"#EF553B\",\"#00cc96\",\"#ab63fa\",\"#FFA15A\",\"#19d3f3\",\"#FF6692\",\"#B6E880\",\"#FF97FF\",\"#FECB52\"],\"font\":{\"color\":\"#2a3f5f\"},\"hovermode\":\"closest\",\"hoverlabel\":{\"align\":\"left\"},\"paper_bgcolor\":\"white\",\"plot_bgcolor\":\"#E5ECF6\",\"polar\":{\"bgcolor\":\"#E5ECF6\",\"angularaxis\":{\"gridcolor\":\"white\",\"linecolor\":\"white\",\"ticks\":\"\"},\"radialaxis\":{\"gridcolor\":\"white\",\"linecolor\":\"white\",\"ticks\":\"\"}},\"ternary\":{\"bgcolor\":\"#E5ECF6\",\"aaxis\":{\"gridcolor\":\"white\",\"linecolor\":\"white\",\"ticks\":\"\"},\"baxis\":{\"gridcolor\":\"white\",\"linecolor\":\"white\",\"ticks\":\"\"},\"caxis\":{\"gridcolor\":\"white\",\"linecolor\":\"white\",\"ticks\":\"\"}},\"coloraxis\":{\"colorbar\":{\"outlinewidth\":0,\"ticks\":\"\"}},\"colorscale\":{\"sequential\":[[0.0,\"#0d0887\"],[0.1111111111111111,\"#46039f\"],[0.2222222222222222,\"#7201a8\"],[0.3333333333333333,\"#9c179e\"],[0.4444444444444444,\"#bd3786\"],[0.5555555555555556,\"#d8576b\"],[0.6666666666666666,\"#ed7953\"],[0.7777777777777778,\"#fb9f3a\"],[0.8888888888888888,\"#fdca26\"],[1.0,\"#f0f921\"]],\"sequentialminus\":[[0.0,\"#0d0887\"],[0.1111111111111111,\"#46039f\"],[0.2222222222222222,\"#7201a8\"],[0.3333333333333333,\"#9c179e\"],[0.4444444444444444,\"#bd3786\"],[0.5555555555555556,\"#d8576b\"],[0.6666666666666666,\"#ed7953\"],[0.7777777777777778,\"#fb9f3a\"],[0.8888888888888888,\"#fdca26\"],[1.0,\"#f0f921\"]],\"diverging\":[[0,\"#8e0152\"],[0.1,\"#c51b7d\"],[0.2,\"#de77ae\"],[0.3,\"#f1b6da\"],[0.4,\"#fde0ef\"],[0.5,\"#f7f7f7\"],[0.6,\"#e6f5d0\"],[0.7,\"#b8e186\"],[0.8,\"#7fbc41\"],[0.9,\"#4d9221\"],[1,\"#276419\"]]},\"xaxis\":{\"gridcolor\":\"white\",\"linecolor\":\"white\",\"ticks\":\"\",\"title\":{\"standoff\":15},\"zerolinecolor\":\"white\",\"automargin\":true,\"zerolinewidth\":2},\"yaxis\":{\"gridcolor\":\"white\",\"linecolor\":\"white\",\"ticks\":\"\",\"title\":{\"standoff\":15},\"zerolinecolor\":\"white\",\"automargin\":true,\"zerolinewidth\":2},\"scene\":{\"xaxis\":{\"backgroundcolor\":\"#E5ECF6\",\"gridcolor\":\"white\",\"linecolor\":\"white\",\"showbackground\":true,\"ticks\":\"\",\"zerolinecolor\":\"white\",\"gridwidth\":2},\"yaxis\":{\"backgroundcolor\":\"#E5ECF6\",\"gridcolor\":\"white\",\"linecolor\":\"white\",\"showbackground\":true,\"ticks\":\"\",\"zerolinecolor\":\"white\",\"gridwidth\":2},\"zaxis\":{\"backgroundcolor\":\"#E5ECF6\",\"gridcolor\":\"white\",\"linecolor\":\"white\",\"showbackground\":true,\"ticks\":\"\",\"zerolinecolor\":\"white\",\"gridwidth\":2}},\"shapedefaults\":{\"line\":{\"color\":\"#2a3f5f\"}},\"annotationdefaults\":{\"arrowcolor\":\"#2a3f5f\",\"arrowhead\":0,\"arrowwidth\":1},\"geo\":{\"bgcolor\":\"white\",\"landcolor\":\"#E5ECF6\",\"subunitcolor\":\"white\",\"showland\":true,\"showlakes\":true,\"lakecolor\":\"white\"},\"title\":{\"x\":0.05},\"mapbox\":{\"style\":\"light\"}}},\"xaxis\":{\"anchor\":\"y\",\"domain\":[0.0,1.0],\"title\":{\"text\":\"\\uc0c1\\ud638\\uba85\"}},\"yaxis\":{\"anchor\":\"x\",\"domain\":[0.0,1.0],\"title\":{\"text\":\"12\\uc6d4 \\ub9e4\\ucd9c\\uc561\"}},\"legend\":{\"tracegroupgap\":0},\"margin\":{\"t\":60},\"barmode\":\"relative\"},                        {\"responsive\": true}                    ).then(function(){\n",
       "                            \n",
       "var gd = document.getElementById('b5f1317b-ba83-4266-a60e-ddb0457a7ff8');\n",
       "var x = new MutationObserver(function (mutations, observer) {{\n",
       "        var display = window.getComputedStyle(gd).display;\n",
       "        if (!display || display === 'none') {{\n",
       "            console.log([gd, 'removed!']);\n",
       "            Plotly.purge(gd);\n",
       "            observer.disconnect();\n",
       "        }}\n",
       "}});\n",
       "\n",
       "// Listen for the removal of the full notebook cells\n",
       "var notebookContainer = gd.closest('#notebook-container');\n",
       "if (notebookContainer) {{\n",
       "    x.observe(notebookContainer, {childList: true});\n",
       "}}\n",
       "\n",
       "// Listen for the clearing of the current output cell\n",
       "var outputEl = gd.closest('.output');\n",
       "if (outputEl) {{\n",
       "    x.observe(outputEl, {childList: true});\n",
       "}}\n",
       "\n",
       "                        })                };                });            </script>        </div>"
      ]
     },
     "metadata": {},
     "output_type": "display_data"
    }
   ],
   "source": [
    "bar_12_df = result_df.sort_values('12월 매출액', ascending=False)\n",
    "px.bar(bar_12_df, x='상호명', y=\"12월 매출액\")"
   ]
  },
  {
   "cell_type": "code",
   "execution_count": 238,
   "id": "827716d5",
   "metadata": {},
   "outputs": [
    {
     "data": {
      "application/vnd.plotly.v1+json": {
       "config": {
        "plotlyServerURL": "https://plotly.com"
       },
       "data": [
        {
         "alignmentgroup": "True",
         "hovertemplate": "상호명=%{x}<br>1월 매출액=%{y}<extra></extra>",
         "legendgroup": "",
         "marker": {
          "color": "#636efa",
          "pattern": {
           "shape": ""
          }
         },
         "name": "",
         "offsetgroup": "",
         "orientation": "v",
         "showlegend": false,
         "textposition": "auto",
         "type": "bar",
         "x": [
          "슬로우야드 바비큐",
          "감성타코(홍대점)",
          "치킨앤카레군",
          "덩크트레이",
          "빌리더다이닝",
          "토모토카페",
          "크레이지카츠",
          "바삭마차(망원시장점)",
          "비스트로에버",
          "이오카츠공덕점",
          "스푼필라프 홍대점",
          "광야",
          "테이커테이블",
          "몰토베네 합정",
          "루나씨엘로",
          "소코아",
          "멕시코다이너",
          "이응이응이응이응-table",
          "해물기와",
          "헤키",
          "마루돈까스",
          "엘리스리틀이태리",
          "연남동와이탑",
          "살롱드마르잔",
          "kitchen 485",
          "브라운돈까스 상암MBC몰",
          "토파",
          "스프링비스트로",
          "빠네돌체",
          "에트나퓨",
          "붉은낙타",
          "비볼리",
          "지알로파스타바",
          "쥬벤쿠바 연남점",
          "흑심",
          "소나무연남",
          "블루쿠치나",
          "명동왕돈까스 직영점",
          "진돈",
          "우애돈카츠 연남점",
          "홍대클라쓰",
          "코코가츠",
          "돈카츠 준",
          "수엠부",
          "까사라티나",
          "요나끼",
          "감성카츠",
          "쿠바킹",
          "벨라또띠아",
          "포트 앤 나달",
          "오이도",
          "카페루치아",
          "아르고보니",
          "앨리스 바이 미니멜츠",
          "묘한식탁",
          "엽전식당 연남점",
          "인더썬",
          "드렁큰비건",
          "배아또"
         ],
         "xaxis": "x",
         "y": [
          79949000,
          63212500,
          15867100,
          12530600,
          11635000,
          11420400,
          9436000,
          7789100,
          7445000,
          7180000,
          7122000,
          6466000,
          6411500,
          6398000,
          6208000,
          6162400,
          5655900,
          5438000,
          4943000,
          4456000,
          4136000,
          4134000,
          3762000,
          3684000,
          3624900,
          3483800,
          2989000,
          2950000,
          2667500,
          2523200,
          2216000,
          2034500,
          2024500,
          1770000,
          1601500,
          1530000,
          1444500,
          1435000,
          1430500,
          1278500,
          1252000,
          1228500,
          1124800,
          933600,
          864400,
          862000,
          840100,
          838000,
          812000,
          807000,
          736500,
          728100,
          701700,
          662900,
          602800,
          463500,
          373700,
          337000,
          311000
         ],
         "yaxis": "y"
        }
       ],
       "layout": {
        "barmode": "relative",
        "legend": {
         "tracegroupgap": 0
        },
        "margin": {
         "t": 60
        },
        "template": {
         "data": {
          "bar": [
           {
            "error_x": {
             "color": "#2a3f5f"
            },
            "error_y": {
             "color": "#2a3f5f"
            },
            "marker": {
             "line": {
              "color": "#E5ECF6",
              "width": 0.5
             },
             "pattern": {
              "fillmode": "overlay",
              "size": 10,
              "solidity": 0.2
             }
            },
            "type": "bar"
           }
          ],
          "barpolar": [
           {
            "marker": {
             "line": {
              "color": "#E5ECF6",
              "width": 0.5
             },
             "pattern": {
              "fillmode": "overlay",
              "size": 10,
              "solidity": 0.2
             }
            },
            "type": "barpolar"
           }
          ],
          "carpet": [
           {
            "aaxis": {
             "endlinecolor": "#2a3f5f",
             "gridcolor": "white",
             "linecolor": "white",
             "minorgridcolor": "white",
             "startlinecolor": "#2a3f5f"
            },
            "baxis": {
             "endlinecolor": "#2a3f5f",
             "gridcolor": "white",
             "linecolor": "white",
             "minorgridcolor": "white",
             "startlinecolor": "#2a3f5f"
            },
            "type": "carpet"
           }
          ],
          "choropleth": [
           {
            "colorbar": {
             "outlinewidth": 0,
             "ticks": ""
            },
            "type": "choropleth"
           }
          ],
          "contour": [
           {
            "colorbar": {
             "outlinewidth": 0,
             "ticks": ""
            },
            "colorscale": [
             [
              0,
              "#0d0887"
             ],
             [
              0.1111111111111111,
              "#46039f"
             ],
             [
              0.2222222222222222,
              "#7201a8"
             ],
             [
              0.3333333333333333,
              "#9c179e"
             ],
             [
              0.4444444444444444,
              "#bd3786"
             ],
             [
              0.5555555555555556,
              "#d8576b"
             ],
             [
              0.6666666666666666,
              "#ed7953"
             ],
             [
              0.7777777777777778,
              "#fb9f3a"
             ],
             [
              0.8888888888888888,
              "#fdca26"
             ],
             [
              1,
              "#f0f921"
             ]
            ],
            "type": "contour"
           }
          ],
          "contourcarpet": [
           {
            "colorbar": {
             "outlinewidth": 0,
             "ticks": ""
            },
            "type": "contourcarpet"
           }
          ],
          "heatmap": [
           {
            "colorbar": {
             "outlinewidth": 0,
             "ticks": ""
            },
            "colorscale": [
             [
              0,
              "#0d0887"
             ],
             [
              0.1111111111111111,
              "#46039f"
             ],
             [
              0.2222222222222222,
              "#7201a8"
             ],
             [
              0.3333333333333333,
              "#9c179e"
             ],
             [
              0.4444444444444444,
              "#bd3786"
             ],
             [
              0.5555555555555556,
              "#d8576b"
             ],
             [
              0.6666666666666666,
              "#ed7953"
             ],
             [
              0.7777777777777778,
              "#fb9f3a"
             ],
             [
              0.8888888888888888,
              "#fdca26"
             ],
             [
              1,
              "#f0f921"
             ]
            ],
            "type": "heatmap"
           }
          ],
          "heatmapgl": [
           {
            "colorbar": {
             "outlinewidth": 0,
             "ticks": ""
            },
            "colorscale": [
             [
              0,
              "#0d0887"
             ],
             [
              0.1111111111111111,
              "#46039f"
             ],
             [
              0.2222222222222222,
              "#7201a8"
             ],
             [
              0.3333333333333333,
              "#9c179e"
             ],
             [
              0.4444444444444444,
              "#bd3786"
             ],
             [
              0.5555555555555556,
              "#d8576b"
             ],
             [
              0.6666666666666666,
              "#ed7953"
             ],
             [
              0.7777777777777778,
              "#fb9f3a"
             ],
             [
              0.8888888888888888,
              "#fdca26"
             ],
             [
              1,
              "#f0f921"
             ]
            ],
            "type": "heatmapgl"
           }
          ],
          "histogram": [
           {
            "marker": {
             "pattern": {
              "fillmode": "overlay",
              "size": 10,
              "solidity": 0.2
             }
            },
            "type": "histogram"
           }
          ],
          "histogram2d": [
           {
            "colorbar": {
             "outlinewidth": 0,
             "ticks": ""
            },
            "colorscale": [
             [
              0,
              "#0d0887"
             ],
             [
              0.1111111111111111,
              "#46039f"
             ],
             [
              0.2222222222222222,
              "#7201a8"
             ],
             [
              0.3333333333333333,
              "#9c179e"
             ],
             [
              0.4444444444444444,
              "#bd3786"
             ],
             [
              0.5555555555555556,
              "#d8576b"
             ],
             [
              0.6666666666666666,
              "#ed7953"
             ],
             [
              0.7777777777777778,
              "#fb9f3a"
             ],
             [
              0.8888888888888888,
              "#fdca26"
             ],
             [
              1,
              "#f0f921"
             ]
            ],
            "type": "histogram2d"
           }
          ],
          "histogram2dcontour": [
           {
            "colorbar": {
             "outlinewidth": 0,
             "ticks": ""
            },
            "colorscale": [
             [
              0,
              "#0d0887"
             ],
             [
              0.1111111111111111,
              "#46039f"
             ],
             [
              0.2222222222222222,
              "#7201a8"
             ],
             [
              0.3333333333333333,
              "#9c179e"
             ],
             [
              0.4444444444444444,
              "#bd3786"
             ],
             [
              0.5555555555555556,
              "#d8576b"
             ],
             [
              0.6666666666666666,
              "#ed7953"
             ],
             [
              0.7777777777777778,
              "#fb9f3a"
             ],
             [
              0.8888888888888888,
              "#fdca26"
             ],
             [
              1,
              "#f0f921"
             ]
            ],
            "type": "histogram2dcontour"
           }
          ],
          "mesh3d": [
           {
            "colorbar": {
             "outlinewidth": 0,
             "ticks": ""
            },
            "type": "mesh3d"
           }
          ],
          "parcoords": [
           {
            "line": {
             "colorbar": {
              "outlinewidth": 0,
              "ticks": ""
             }
            },
            "type": "parcoords"
           }
          ],
          "pie": [
           {
            "automargin": true,
            "type": "pie"
           }
          ],
          "scatter": [
           {
            "fillpattern": {
             "fillmode": "overlay",
             "size": 10,
             "solidity": 0.2
            },
            "type": "scatter"
           }
          ],
          "scatter3d": [
           {
            "line": {
             "colorbar": {
              "outlinewidth": 0,
              "ticks": ""
             }
            },
            "marker": {
             "colorbar": {
              "outlinewidth": 0,
              "ticks": ""
             }
            },
            "type": "scatter3d"
           }
          ],
          "scattercarpet": [
           {
            "marker": {
             "colorbar": {
              "outlinewidth": 0,
              "ticks": ""
             }
            },
            "type": "scattercarpet"
           }
          ],
          "scattergeo": [
           {
            "marker": {
             "colorbar": {
              "outlinewidth": 0,
              "ticks": ""
             }
            },
            "type": "scattergeo"
           }
          ],
          "scattergl": [
           {
            "marker": {
             "colorbar": {
              "outlinewidth": 0,
              "ticks": ""
             }
            },
            "type": "scattergl"
           }
          ],
          "scattermapbox": [
           {
            "marker": {
             "colorbar": {
              "outlinewidth": 0,
              "ticks": ""
             }
            },
            "type": "scattermapbox"
           }
          ],
          "scatterpolar": [
           {
            "marker": {
             "colorbar": {
              "outlinewidth": 0,
              "ticks": ""
             }
            },
            "type": "scatterpolar"
           }
          ],
          "scatterpolargl": [
           {
            "marker": {
             "colorbar": {
              "outlinewidth": 0,
              "ticks": ""
             }
            },
            "type": "scatterpolargl"
           }
          ],
          "scatterternary": [
           {
            "marker": {
             "colorbar": {
              "outlinewidth": 0,
              "ticks": ""
             }
            },
            "type": "scatterternary"
           }
          ],
          "surface": [
           {
            "colorbar": {
             "outlinewidth": 0,
             "ticks": ""
            },
            "colorscale": [
             [
              0,
              "#0d0887"
             ],
             [
              0.1111111111111111,
              "#46039f"
             ],
             [
              0.2222222222222222,
              "#7201a8"
             ],
             [
              0.3333333333333333,
              "#9c179e"
             ],
             [
              0.4444444444444444,
              "#bd3786"
             ],
             [
              0.5555555555555556,
              "#d8576b"
             ],
             [
              0.6666666666666666,
              "#ed7953"
             ],
             [
              0.7777777777777778,
              "#fb9f3a"
             ],
             [
              0.8888888888888888,
              "#fdca26"
             ],
             [
              1,
              "#f0f921"
             ]
            ],
            "type": "surface"
           }
          ],
          "table": [
           {
            "cells": {
             "fill": {
              "color": "#EBF0F8"
             },
             "line": {
              "color": "white"
             }
            },
            "header": {
             "fill": {
              "color": "#C8D4E3"
             },
             "line": {
              "color": "white"
             }
            },
            "type": "table"
           }
          ]
         },
         "layout": {
          "annotationdefaults": {
           "arrowcolor": "#2a3f5f",
           "arrowhead": 0,
           "arrowwidth": 1
          },
          "autotypenumbers": "strict",
          "coloraxis": {
           "colorbar": {
            "outlinewidth": 0,
            "ticks": ""
           }
          },
          "colorscale": {
           "diverging": [
            [
             0,
             "#8e0152"
            ],
            [
             0.1,
             "#c51b7d"
            ],
            [
             0.2,
             "#de77ae"
            ],
            [
             0.3,
             "#f1b6da"
            ],
            [
             0.4,
             "#fde0ef"
            ],
            [
             0.5,
             "#f7f7f7"
            ],
            [
             0.6,
             "#e6f5d0"
            ],
            [
             0.7,
             "#b8e186"
            ],
            [
             0.8,
             "#7fbc41"
            ],
            [
             0.9,
             "#4d9221"
            ],
            [
             1,
             "#276419"
            ]
           ],
           "sequential": [
            [
             0,
             "#0d0887"
            ],
            [
             0.1111111111111111,
             "#46039f"
            ],
            [
             0.2222222222222222,
             "#7201a8"
            ],
            [
             0.3333333333333333,
             "#9c179e"
            ],
            [
             0.4444444444444444,
             "#bd3786"
            ],
            [
             0.5555555555555556,
             "#d8576b"
            ],
            [
             0.6666666666666666,
             "#ed7953"
            ],
            [
             0.7777777777777778,
             "#fb9f3a"
            ],
            [
             0.8888888888888888,
             "#fdca26"
            ],
            [
             1,
             "#f0f921"
            ]
           ],
           "sequentialminus": [
            [
             0,
             "#0d0887"
            ],
            [
             0.1111111111111111,
             "#46039f"
            ],
            [
             0.2222222222222222,
             "#7201a8"
            ],
            [
             0.3333333333333333,
             "#9c179e"
            ],
            [
             0.4444444444444444,
             "#bd3786"
            ],
            [
             0.5555555555555556,
             "#d8576b"
            ],
            [
             0.6666666666666666,
             "#ed7953"
            ],
            [
             0.7777777777777778,
             "#fb9f3a"
            ],
            [
             0.8888888888888888,
             "#fdca26"
            ],
            [
             1,
             "#f0f921"
            ]
           ]
          },
          "colorway": [
           "#636efa",
           "#EF553B",
           "#00cc96",
           "#ab63fa",
           "#FFA15A",
           "#19d3f3",
           "#FF6692",
           "#B6E880",
           "#FF97FF",
           "#FECB52"
          ],
          "font": {
           "color": "#2a3f5f"
          },
          "geo": {
           "bgcolor": "white",
           "lakecolor": "white",
           "landcolor": "#E5ECF6",
           "showlakes": true,
           "showland": true,
           "subunitcolor": "white"
          },
          "hoverlabel": {
           "align": "left"
          },
          "hovermode": "closest",
          "mapbox": {
           "style": "light"
          },
          "paper_bgcolor": "white",
          "plot_bgcolor": "#E5ECF6",
          "polar": {
           "angularaxis": {
            "gridcolor": "white",
            "linecolor": "white",
            "ticks": ""
           },
           "bgcolor": "#E5ECF6",
           "radialaxis": {
            "gridcolor": "white",
            "linecolor": "white",
            "ticks": ""
           }
          },
          "scene": {
           "xaxis": {
            "backgroundcolor": "#E5ECF6",
            "gridcolor": "white",
            "gridwidth": 2,
            "linecolor": "white",
            "showbackground": true,
            "ticks": "",
            "zerolinecolor": "white"
           },
           "yaxis": {
            "backgroundcolor": "#E5ECF6",
            "gridcolor": "white",
            "gridwidth": 2,
            "linecolor": "white",
            "showbackground": true,
            "ticks": "",
            "zerolinecolor": "white"
           },
           "zaxis": {
            "backgroundcolor": "#E5ECF6",
            "gridcolor": "white",
            "gridwidth": 2,
            "linecolor": "white",
            "showbackground": true,
            "ticks": "",
            "zerolinecolor": "white"
           }
          },
          "shapedefaults": {
           "line": {
            "color": "#2a3f5f"
           }
          },
          "ternary": {
           "aaxis": {
            "gridcolor": "white",
            "linecolor": "white",
            "ticks": ""
           },
           "baxis": {
            "gridcolor": "white",
            "linecolor": "white",
            "ticks": ""
           },
           "bgcolor": "#E5ECF6",
           "caxis": {
            "gridcolor": "white",
            "linecolor": "white",
            "ticks": ""
           }
          },
          "title": {
           "x": 0.05
          },
          "xaxis": {
           "automargin": true,
           "gridcolor": "white",
           "linecolor": "white",
           "ticks": "",
           "title": {
            "standoff": 15
           },
           "zerolinecolor": "white",
           "zerolinewidth": 2
          },
          "yaxis": {
           "automargin": true,
           "gridcolor": "white",
           "linecolor": "white",
           "ticks": "",
           "title": {
            "standoff": 15
           },
           "zerolinecolor": "white",
           "zerolinewidth": 2
          }
         }
        },
        "xaxis": {
         "anchor": "y",
         "domain": [
          0,
          1
         ],
         "title": {
          "text": "상호명"
         }
        },
        "yaxis": {
         "anchor": "x",
         "domain": [
          0,
          1
         ],
         "title": {
          "text": "1월 매출액"
         }
        }
       }
      },
      "text/html": [
       "<div>                            <div id=\"8aea6f4f-6dce-48ec-a5a9-d8052d2c3f98\" class=\"plotly-graph-div\" style=\"height:525px; width:100%;\"></div>            <script type=\"text/javascript\">                require([\"plotly\"], function(Plotly) {                    window.PLOTLYENV=window.PLOTLYENV || {};                                    if (document.getElementById(\"8aea6f4f-6dce-48ec-a5a9-d8052d2c3f98\")) {                    Plotly.newPlot(                        \"8aea6f4f-6dce-48ec-a5a9-d8052d2c3f98\",                        [{\"alignmentgroup\":\"True\",\"hovertemplate\":\"\\uc0c1\\ud638\\uba85=%{x}<br>1\\uc6d4 \\ub9e4\\ucd9c\\uc561=%{y}<extra></extra>\",\"legendgroup\":\"\",\"marker\":{\"color\":\"#636efa\",\"pattern\":{\"shape\":\"\"}},\"name\":\"\",\"offsetgroup\":\"\",\"orientation\":\"v\",\"showlegend\":false,\"textposition\":\"auto\",\"x\":[\"\\uc2ac\\ub85c\\uc6b0\\uc57c\\ub4dc \\ubc14\\ube44\\ud050\",\"\\uac10\\uc131\\ud0c0\\ucf54(\\ud64d\\ub300\\uc810)\",\"\\uce58\\ud0a8\\uc564\\uce74\\ub808\\uad70\",\"\\ub369\\ud06c\\ud2b8\\ub808\\uc774\",\"\\ube4c\\ub9ac\\ub354\\ub2e4\\uc774\\ub2dd\",\"\\ud1a0\\ubaa8\\ud1a0\\uce74\\ud398\",\"\\ud06c\\ub808\\uc774\\uc9c0\\uce74\\uce20\",\"\\ubc14\\uc0ad\\ub9c8\\ucc28(\\ub9dd\\uc6d0\\uc2dc\\uc7a5\\uc810)\",\"\\ube44\\uc2a4\\ud2b8\\ub85c\\uc5d0\\ubc84\",\"\\uc774\\uc624\\uce74\\uce20\\uacf5\\ub355\\uc810\",\"\\uc2a4\\ud47c\\ud544\\ub77c\\ud504 \\ud64d\\ub300\\uc810\",\"\\uad11\\uc57c\",\"\\ud14c\\uc774\\ucee4\\ud14c\\uc774\\ube14\",\"\\ubab0\\ud1a0\\ubca0\\ub124 \\ud569\\uc815\",\"\\ub8e8\\ub098\\uc528\\uc5d8\\ub85c\",\"\\uc18c\\ucf54\\uc544\",\"\\uba55\\uc2dc\\ucf54\\ub2e4\\uc774\\ub108\",\"\\uc774\\uc751\\uc774\\uc751\\uc774\\uc751\\uc774\\uc751-table\",\"\\ud574\\ubb3c\\uae30\\uc640\",\"\\ud5e4\\ud0a4\",\"\\ub9c8\\ub8e8\\ub3c8\\uae4c\\uc2a4\",\"\\uc5d8\\ub9ac\\uc2a4\\ub9ac\\ud2c0\\uc774\\ud0dc\\ub9ac\",\"\\uc5f0\\ub0a8\\ub3d9\\uc640\\uc774\\ud0d1\",\"\\uc0b4\\ub871\\ub4dc\\ub9c8\\ub974\\uc794\",\"kitchen 485\",\"\\ube0c\\ub77c\\uc6b4\\ub3c8\\uae4c\\uc2a4 \\uc0c1\\uc554MBC\\ubab0\",\"\\ud1a0\\ud30c\",\"\\uc2a4\\ud504\\ub9c1\\ube44\\uc2a4\\ud2b8\\ub85c\",\"\\ube60\\ub124\\ub3cc\\uccb4\",\"\\uc5d0\\ud2b8\\ub098\\ud4e8\",\"\\ubd89\\uc740\\ub099\\ud0c0\",\"\\ube44\\ubcfc\\ub9ac\",\"\\uc9c0\\uc54c\\ub85c\\ud30c\\uc2a4\\ud0c0\\ubc14\",\"\\uc96c\\ubca4\\ucfe0\\ubc14 \\uc5f0\\ub0a8\\uc810\",\"\\ud751\\uc2ec\",\"\\uc18c\\ub098\\ubb34\\uc5f0\\ub0a8\",\"\\ube14\\ub8e8\\ucfe0\\uce58\\ub098\",\"\\uba85\\ub3d9\\uc655\\ub3c8\\uae4c\\uc2a4 \\uc9c1\\uc601\\uc810\",\"\\uc9c4\\ub3c8\",\"\\uc6b0\\uc560\\ub3c8\\uce74\\uce20 \\uc5f0\\ub0a8\\uc810\",\"\\ud64d\\ub300\\ud074\\ub77c\\uc4f0\",\"\\ucf54\\ucf54\\uac00\\uce20\",\"\\ub3c8\\uce74\\uce20 \\uc900\",\"\\uc218\\uc5e0\\ubd80\",\"\\uae4c\\uc0ac\\ub77c\\ud2f0\\ub098\",\"\\uc694\\ub098\\ub07c\",\"\\uac10\\uc131\\uce74\\uce20\",\"\\ucfe0\\ubc14\\ud0b9\",\"\\ubca8\\ub77c\\ub610\\ub760\\uc544\",\"\\ud3ec\\ud2b8 \\uc564 \\ub098\\ub2ec\",\"\\uc624\\uc774\\ub3c4\",\"\\uce74\\ud398\\ub8e8\\uce58\\uc544\",\"\\uc544\\ub974\\uace0\\ubcf4\\ub2c8\",\"\\uc568\\ub9ac\\uc2a4 \\ubc14\\uc774 \\ubbf8\\ub2c8\\uba5c\\uce20\",\"\\ubb18\\ud55c\\uc2dd\\ud0c1\",\"\\uc5fd\\uc804\\uc2dd\\ub2f9 \\uc5f0\\ub0a8\\uc810\",\"\\uc778\\ub354\\uc36c\",\"\\ub4dc\\ub801\\ud070\\ube44\\uac74\",\"\\ubc30\\uc544\\ub610\"],\"xaxis\":\"x\",\"y\":[79949000,63212500,15867100,12530600,11635000,11420400,9436000,7789100,7445000,7180000,7122000,6466000,6411500,6398000,6208000,6162400,5655900,5438000,4943000,4456000,4136000,4134000,3762000,3684000,3624900,3483800,2989000,2950000,2667500,2523200,2216000,2034500,2024500,1770000,1601500,1530000,1444500,1435000,1430500,1278500,1252000,1228500,1124800,933600,864400,862000,840100,838000,812000,807000,736500,728100,701700,662900,602800,463500,373700,337000,311000],\"yaxis\":\"y\",\"type\":\"bar\"}],                        {\"template\":{\"data\":{\"histogram2dcontour\":[{\"type\":\"histogram2dcontour\",\"colorbar\":{\"outlinewidth\":0,\"ticks\":\"\"},\"colorscale\":[[0.0,\"#0d0887\"],[0.1111111111111111,\"#46039f\"],[0.2222222222222222,\"#7201a8\"],[0.3333333333333333,\"#9c179e\"],[0.4444444444444444,\"#bd3786\"],[0.5555555555555556,\"#d8576b\"],[0.6666666666666666,\"#ed7953\"],[0.7777777777777778,\"#fb9f3a\"],[0.8888888888888888,\"#fdca26\"],[1.0,\"#f0f921\"]]}],\"choropleth\":[{\"type\":\"choropleth\",\"colorbar\":{\"outlinewidth\":0,\"ticks\":\"\"}}],\"histogram2d\":[{\"type\":\"histogram2d\",\"colorbar\":{\"outlinewidth\":0,\"ticks\":\"\"},\"colorscale\":[[0.0,\"#0d0887\"],[0.1111111111111111,\"#46039f\"],[0.2222222222222222,\"#7201a8\"],[0.3333333333333333,\"#9c179e\"],[0.4444444444444444,\"#bd3786\"],[0.5555555555555556,\"#d8576b\"],[0.6666666666666666,\"#ed7953\"],[0.7777777777777778,\"#fb9f3a\"],[0.8888888888888888,\"#fdca26\"],[1.0,\"#f0f921\"]]}],\"heatmap\":[{\"type\":\"heatmap\",\"colorbar\":{\"outlinewidth\":0,\"ticks\":\"\"},\"colorscale\":[[0.0,\"#0d0887\"],[0.1111111111111111,\"#46039f\"],[0.2222222222222222,\"#7201a8\"],[0.3333333333333333,\"#9c179e\"],[0.4444444444444444,\"#bd3786\"],[0.5555555555555556,\"#d8576b\"],[0.6666666666666666,\"#ed7953\"],[0.7777777777777778,\"#fb9f3a\"],[0.8888888888888888,\"#fdca26\"],[1.0,\"#f0f921\"]]}],\"heatmapgl\":[{\"type\":\"heatmapgl\",\"colorbar\":{\"outlinewidth\":0,\"ticks\":\"\"},\"colorscale\":[[0.0,\"#0d0887\"],[0.1111111111111111,\"#46039f\"],[0.2222222222222222,\"#7201a8\"],[0.3333333333333333,\"#9c179e\"],[0.4444444444444444,\"#bd3786\"],[0.5555555555555556,\"#d8576b\"],[0.6666666666666666,\"#ed7953\"],[0.7777777777777778,\"#fb9f3a\"],[0.8888888888888888,\"#fdca26\"],[1.0,\"#f0f921\"]]}],\"contourcarpet\":[{\"type\":\"contourcarpet\",\"colorbar\":{\"outlinewidth\":0,\"ticks\":\"\"}}],\"contour\":[{\"type\":\"contour\",\"colorbar\":{\"outlinewidth\":0,\"ticks\":\"\"},\"colorscale\":[[0.0,\"#0d0887\"],[0.1111111111111111,\"#46039f\"],[0.2222222222222222,\"#7201a8\"],[0.3333333333333333,\"#9c179e\"],[0.4444444444444444,\"#bd3786\"],[0.5555555555555556,\"#d8576b\"],[0.6666666666666666,\"#ed7953\"],[0.7777777777777778,\"#fb9f3a\"],[0.8888888888888888,\"#fdca26\"],[1.0,\"#f0f921\"]]}],\"surface\":[{\"type\":\"surface\",\"colorbar\":{\"outlinewidth\":0,\"ticks\":\"\"},\"colorscale\":[[0.0,\"#0d0887\"],[0.1111111111111111,\"#46039f\"],[0.2222222222222222,\"#7201a8\"],[0.3333333333333333,\"#9c179e\"],[0.4444444444444444,\"#bd3786\"],[0.5555555555555556,\"#d8576b\"],[0.6666666666666666,\"#ed7953\"],[0.7777777777777778,\"#fb9f3a\"],[0.8888888888888888,\"#fdca26\"],[1.0,\"#f0f921\"]]}],\"mesh3d\":[{\"type\":\"mesh3d\",\"colorbar\":{\"outlinewidth\":0,\"ticks\":\"\"}}],\"scatter\":[{\"fillpattern\":{\"fillmode\":\"overlay\",\"size\":10,\"solidity\":0.2},\"type\":\"scatter\"}],\"parcoords\":[{\"type\":\"parcoords\",\"line\":{\"colorbar\":{\"outlinewidth\":0,\"ticks\":\"\"}}}],\"scatterpolargl\":[{\"type\":\"scatterpolargl\",\"marker\":{\"colorbar\":{\"outlinewidth\":0,\"ticks\":\"\"}}}],\"bar\":[{\"error_x\":{\"color\":\"#2a3f5f\"},\"error_y\":{\"color\":\"#2a3f5f\"},\"marker\":{\"line\":{\"color\":\"#E5ECF6\",\"width\":0.5},\"pattern\":{\"fillmode\":\"overlay\",\"size\":10,\"solidity\":0.2}},\"type\":\"bar\"}],\"scattergeo\":[{\"type\":\"scattergeo\",\"marker\":{\"colorbar\":{\"outlinewidth\":0,\"ticks\":\"\"}}}],\"scatterpolar\":[{\"type\":\"scatterpolar\",\"marker\":{\"colorbar\":{\"outlinewidth\":0,\"ticks\":\"\"}}}],\"histogram\":[{\"marker\":{\"pattern\":{\"fillmode\":\"overlay\",\"size\":10,\"solidity\":0.2}},\"type\":\"histogram\"}],\"scattergl\":[{\"type\":\"scattergl\",\"marker\":{\"colorbar\":{\"outlinewidth\":0,\"ticks\":\"\"}}}],\"scatter3d\":[{\"type\":\"scatter3d\",\"line\":{\"colorbar\":{\"outlinewidth\":0,\"ticks\":\"\"}},\"marker\":{\"colorbar\":{\"outlinewidth\":0,\"ticks\":\"\"}}}],\"scattermapbox\":[{\"type\":\"scattermapbox\",\"marker\":{\"colorbar\":{\"outlinewidth\":0,\"ticks\":\"\"}}}],\"scatterternary\":[{\"type\":\"scatterternary\",\"marker\":{\"colorbar\":{\"outlinewidth\":0,\"ticks\":\"\"}}}],\"scattercarpet\":[{\"type\":\"scattercarpet\",\"marker\":{\"colorbar\":{\"outlinewidth\":0,\"ticks\":\"\"}}}],\"carpet\":[{\"aaxis\":{\"endlinecolor\":\"#2a3f5f\",\"gridcolor\":\"white\",\"linecolor\":\"white\",\"minorgridcolor\":\"white\",\"startlinecolor\":\"#2a3f5f\"},\"baxis\":{\"endlinecolor\":\"#2a3f5f\",\"gridcolor\":\"white\",\"linecolor\":\"white\",\"minorgridcolor\":\"white\",\"startlinecolor\":\"#2a3f5f\"},\"type\":\"carpet\"}],\"table\":[{\"cells\":{\"fill\":{\"color\":\"#EBF0F8\"},\"line\":{\"color\":\"white\"}},\"header\":{\"fill\":{\"color\":\"#C8D4E3\"},\"line\":{\"color\":\"white\"}},\"type\":\"table\"}],\"barpolar\":[{\"marker\":{\"line\":{\"color\":\"#E5ECF6\",\"width\":0.5},\"pattern\":{\"fillmode\":\"overlay\",\"size\":10,\"solidity\":0.2}},\"type\":\"barpolar\"}],\"pie\":[{\"automargin\":true,\"type\":\"pie\"}]},\"layout\":{\"autotypenumbers\":\"strict\",\"colorway\":[\"#636efa\",\"#EF553B\",\"#00cc96\",\"#ab63fa\",\"#FFA15A\",\"#19d3f3\",\"#FF6692\",\"#B6E880\",\"#FF97FF\",\"#FECB52\"],\"font\":{\"color\":\"#2a3f5f\"},\"hovermode\":\"closest\",\"hoverlabel\":{\"align\":\"left\"},\"paper_bgcolor\":\"white\",\"plot_bgcolor\":\"#E5ECF6\",\"polar\":{\"bgcolor\":\"#E5ECF6\",\"angularaxis\":{\"gridcolor\":\"white\",\"linecolor\":\"white\",\"ticks\":\"\"},\"radialaxis\":{\"gridcolor\":\"white\",\"linecolor\":\"white\",\"ticks\":\"\"}},\"ternary\":{\"bgcolor\":\"#E5ECF6\",\"aaxis\":{\"gridcolor\":\"white\",\"linecolor\":\"white\",\"ticks\":\"\"},\"baxis\":{\"gridcolor\":\"white\",\"linecolor\":\"white\",\"ticks\":\"\"},\"caxis\":{\"gridcolor\":\"white\",\"linecolor\":\"white\",\"ticks\":\"\"}},\"coloraxis\":{\"colorbar\":{\"outlinewidth\":0,\"ticks\":\"\"}},\"colorscale\":{\"sequential\":[[0.0,\"#0d0887\"],[0.1111111111111111,\"#46039f\"],[0.2222222222222222,\"#7201a8\"],[0.3333333333333333,\"#9c179e\"],[0.4444444444444444,\"#bd3786\"],[0.5555555555555556,\"#d8576b\"],[0.6666666666666666,\"#ed7953\"],[0.7777777777777778,\"#fb9f3a\"],[0.8888888888888888,\"#fdca26\"],[1.0,\"#f0f921\"]],\"sequentialminus\":[[0.0,\"#0d0887\"],[0.1111111111111111,\"#46039f\"],[0.2222222222222222,\"#7201a8\"],[0.3333333333333333,\"#9c179e\"],[0.4444444444444444,\"#bd3786\"],[0.5555555555555556,\"#d8576b\"],[0.6666666666666666,\"#ed7953\"],[0.7777777777777778,\"#fb9f3a\"],[0.8888888888888888,\"#fdca26\"],[1.0,\"#f0f921\"]],\"diverging\":[[0,\"#8e0152\"],[0.1,\"#c51b7d\"],[0.2,\"#de77ae\"],[0.3,\"#f1b6da\"],[0.4,\"#fde0ef\"],[0.5,\"#f7f7f7\"],[0.6,\"#e6f5d0\"],[0.7,\"#b8e186\"],[0.8,\"#7fbc41\"],[0.9,\"#4d9221\"],[1,\"#276419\"]]},\"xaxis\":{\"gridcolor\":\"white\",\"linecolor\":\"white\",\"ticks\":\"\",\"title\":{\"standoff\":15},\"zerolinecolor\":\"white\",\"automargin\":true,\"zerolinewidth\":2},\"yaxis\":{\"gridcolor\":\"white\",\"linecolor\":\"white\",\"ticks\":\"\",\"title\":{\"standoff\":15},\"zerolinecolor\":\"white\",\"automargin\":true,\"zerolinewidth\":2},\"scene\":{\"xaxis\":{\"backgroundcolor\":\"#E5ECF6\",\"gridcolor\":\"white\",\"linecolor\":\"white\",\"showbackground\":true,\"ticks\":\"\",\"zerolinecolor\":\"white\",\"gridwidth\":2},\"yaxis\":{\"backgroundcolor\":\"#E5ECF6\",\"gridcolor\":\"white\",\"linecolor\":\"white\",\"showbackground\":true,\"ticks\":\"\",\"zerolinecolor\":\"white\",\"gridwidth\":2},\"zaxis\":{\"backgroundcolor\":\"#E5ECF6\",\"gridcolor\":\"white\",\"linecolor\":\"white\",\"showbackground\":true,\"ticks\":\"\",\"zerolinecolor\":\"white\",\"gridwidth\":2}},\"shapedefaults\":{\"line\":{\"color\":\"#2a3f5f\"}},\"annotationdefaults\":{\"arrowcolor\":\"#2a3f5f\",\"arrowhead\":0,\"arrowwidth\":1},\"geo\":{\"bgcolor\":\"white\",\"landcolor\":\"#E5ECF6\",\"subunitcolor\":\"white\",\"showland\":true,\"showlakes\":true,\"lakecolor\":\"white\"},\"title\":{\"x\":0.05},\"mapbox\":{\"style\":\"light\"}}},\"xaxis\":{\"anchor\":\"y\",\"domain\":[0.0,1.0],\"title\":{\"text\":\"\\uc0c1\\ud638\\uba85\"}},\"yaxis\":{\"anchor\":\"x\",\"domain\":[0.0,1.0],\"title\":{\"text\":\"1\\uc6d4 \\ub9e4\\ucd9c\\uc561\"}},\"legend\":{\"tracegroupgap\":0},\"margin\":{\"t\":60},\"barmode\":\"relative\"},                        {\"responsive\": true}                    ).then(function(){\n",
       "                            \n",
       "var gd = document.getElementById('8aea6f4f-6dce-48ec-a5a9-d8052d2c3f98');\n",
       "var x = new MutationObserver(function (mutations, observer) {{\n",
       "        var display = window.getComputedStyle(gd).display;\n",
       "        if (!display || display === 'none') {{\n",
       "            console.log([gd, 'removed!']);\n",
       "            Plotly.purge(gd);\n",
       "            observer.disconnect();\n",
       "        }}\n",
       "}});\n",
       "\n",
       "// Listen for the removal of the full notebook cells\n",
       "var notebookContainer = gd.closest('#notebook-container');\n",
       "if (notebookContainer) {{\n",
       "    x.observe(notebookContainer, {childList: true});\n",
       "}}\n",
       "\n",
       "// Listen for the clearing of the current output cell\n",
       "var outputEl = gd.closest('.output');\n",
       "if (outputEl) {{\n",
       "    x.observe(outputEl, {childList: true});\n",
       "}}\n",
       "\n",
       "                        })                };                });            </script>        </div>"
      ]
     },
     "metadata": {},
     "output_type": "display_data"
    }
   ],
   "source": [
    "bar_1_df = result_df.sort_values('1월 매출액', ascending=False)\n",
    "px.bar(bar_1_df, x='상호명', y=\"1월 매출액\")"
   ]
  },
  {
   "cell_type": "code",
   "execution_count": 239,
   "id": "6ec10e64",
   "metadata": {},
   "outputs": [
    {
     "data": {
      "application/vnd.plotly.v1+json": {
       "config": {
        "plotlyServerURL": "https://plotly.com"
       },
       "data": [
        {
         "alignmentgroup": "True",
         "hovertemplate": "상호명=%{x}<br>2월 매출액=%{y}<extra></extra>",
         "legendgroup": "",
         "marker": {
          "color": "#636efa",
          "pattern": {
           "shape": ""
          }
         },
         "name": "",
         "offsetgroup": "",
         "orientation": "v",
         "showlegend": false,
         "textposition": "auto",
         "type": "bar",
         "x": [
          "슬로우야드 바비큐",
          "감성타코(홍대점)",
          "덩크트레이",
          "치킨앤카레군",
          "토모토카페",
          "빌리더다이닝",
          "크레이지카츠",
          "바삭마차(망원시장점)",
          "비스트로에버",
          "스푼필라프 홍대점",
          "루나씨엘로",
          "멕시코다이너",
          "이오카츠공덕점",
          "테이커테이블",
          "몰토베네 합정",
          "연남동와이탑",
          "이응이응이응이응-table",
          "해물기와",
          "소코아",
          "엘리스리틀이태리",
          "헤키",
          "마루돈까스",
          "kitchen 485",
          "토파",
          "살롱드마르잔",
          "브라운돈까스 상암MBC몰",
          "스프링비스트로",
          "광야",
          "쥬벤쿠바 연남점",
          "빠네돌체",
          "에트나퓨",
          "붉은낙타",
          "소나무연남",
          "비볼리",
          "돈카츠 준",
          "지알로파스타바",
          "명동왕돈까스 직영점",
          "묘한식탁",
          "진돈",
          "흑심",
          "벨라또띠아",
          "블루쿠치나",
          "까사라티나",
          "코코가츠",
          "오이도",
          "감성카츠",
          "수엠부",
          "우애돈카츠 연남점",
          "카페루치아",
          "아르고보니",
          "홍대클라쓰",
          "엽전식당 연남점",
          "앨리스 바이 미니멜츠",
          "쿠바킹",
          "드렁큰비건",
          "요나끼",
          "배아또",
          "포트 앤 나달",
          "인더썬"
         ],
         "xaxis": "x",
         "y": [
          87765000,
          72623000,
          15468700,
          14799900,
          11803300,
          11733000,
          9062000,
          8614900,
          8591500,
          7969800,
          7405000,
          6582300,
          6360500,
          6228000,
          5839000,
          5815500,
          5812500,
          5705500,
          5259300,
          5246000,
          4755500,
          4446000,
          4297800,
          3986000,
          3741500,
          3577500,
          3165000,
          2872000,
          2552000,
          2490000,
          2454700,
          2397000,
          1971000,
          1883500,
          1789800,
          1742500,
          1713500,
          1688100,
          1639500,
          1589000,
          1463000,
          1258500,
          1133500,
          1108000,
          1059500,
          1037800,
          1027200,
          1004500,
          838700,
          825100,
          797000,
          780000,
          687800,
          638000,
          574000,
          472000,
          437000,
          415000,
          354000
         ],
         "yaxis": "y"
        }
       ],
       "layout": {
        "barmode": "relative",
        "legend": {
         "tracegroupgap": 0
        },
        "margin": {
         "t": 60
        },
        "template": {
         "data": {
          "bar": [
           {
            "error_x": {
             "color": "#2a3f5f"
            },
            "error_y": {
             "color": "#2a3f5f"
            },
            "marker": {
             "line": {
              "color": "#E5ECF6",
              "width": 0.5
             },
             "pattern": {
              "fillmode": "overlay",
              "size": 10,
              "solidity": 0.2
             }
            },
            "type": "bar"
           }
          ],
          "barpolar": [
           {
            "marker": {
             "line": {
              "color": "#E5ECF6",
              "width": 0.5
             },
             "pattern": {
              "fillmode": "overlay",
              "size": 10,
              "solidity": 0.2
             }
            },
            "type": "barpolar"
           }
          ],
          "carpet": [
           {
            "aaxis": {
             "endlinecolor": "#2a3f5f",
             "gridcolor": "white",
             "linecolor": "white",
             "minorgridcolor": "white",
             "startlinecolor": "#2a3f5f"
            },
            "baxis": {
             "endlinecolor": "#2a3f5f",
             "gridcolor": "white",
             "linecolor": "white",
             "minorgridcolor": "white",
             "startlinecolor": "#2a3f5f"
            },
            "type": "carpet"
           }
          ],
          "choropleth": [
           {
            "colorbar": {
             "outlinewidth": 0,
             "ticks": ""
            },
            "type": "choropleth"
           }
          ],
          "contour": [
           {
            "colorbar": {
             "outlinewidth": 0,
             "ticks": ""
            },
            "colorscale": [
             [
              0,
              "#0d0887"
             ],
             [
              0.1111111111111111,
              "#46039f"
             ],
             [
              0.2222222222222222,
              "#7201a8"
             ],
             [
              0.3333333333333333,
              "#9c179e"
             ],
             [
              0.4444444444444444,
              "#bd3786"
             ],
             [
              0.5555555555555556,
              "#d8576b"
             ],
             [
              0.6666666666666666,
              "#ed7953"
             ],
             [
              0.7777777777777778,
              "#fb9f3a"
             ],
             [
              0.8888888888888888,
              "#fdca26"
             ],
             [
              1,
              "#f0f921"
             ]
            ],
            "type": "contour"
           }
          ],
          "contourcarpet": [
           {
            "colorbar": {
             "outlinewidth": 0,
             "ticks": ""
            },
            "type": "contourcarpet"
           }
          ],
          "heatmap": [
           {
            "colorbar": {
             "outlinewidth": 0,
             "ticks": ""
            },
            "colorscale": [
             [
              0,
              "#0d0887"
             ],
             [
              0.1111111111111111,
              "#46039f"
             ],
             [
              0.2222222222222222,
              "#7201a8"
             ],
             [
              0.3333333333333333,
              "#9c179e"
             ],
             [
              0.4444444444444444,
              "#bd3786"
             ],
             [
              0.5555555555555556,
              "#d8576b"
             ],
             [
              0.6666666666666666,
              "#ed7953"
             ],
             [
              0.7777777777777778,
              "#fb9f3a"
             ],
             [
              0.8888888888888888,
              "#fdca26"
             ],
             [
              1,
              "#f0f921"
             ]
            ],
            "type": "heatmap"
           }
          ],
          "heatmapgl": [
           {
            "colorbar": {
             "outlinewidth": 0,
             "ticks": ""
            },
            "colorscale": [
             [
              0,
              "#0d0887"
             ],
             [
              0.1111111111111111,
              "#46039f"
             ],
             [
              0.2222222222222222,
              "#7201a8"
             ],
             [
              0.3333333333333333,
              "#9c179e"
             ],
             [
              0.4444444444444444,
              "#bd3786"
             ],
             [
              0.5555555555555556,
              "#d8576b"
             ],
             [
              0.6666666666666666,
              "#ed7953"
             ],
             [
              0.7777777777777778,
              "#fb9f3a"
             ],
             [
              0.8888888888888888,
              "#fdca26"
             ],
             [
              1,
              "#f0f921"
             ]
            ],
            "type": "heatmapgl"
           }
          ],
          "histogram": [
           {
            "marker": {
             "pattern": {
              "fillmode": "overlay",
              "size": 10,
              "solidity": 0.2
             }
            },
            "type": "histogram"
           }
          ],
          "histogram2d": [
           {
            "colorbar": {
             "outlinewidth": 0,
             "ticks": ""
            },
            "colorscale": [
             [
              0,
              "#0d0887"
             ],
             [
              0.1111111111111111,
              "#46039f"
             ],
             [
              0.2222222222222222,
              "#7201a8"
             ],
             [
              0.3333333333333333,
              "#9c179e"
             ],
             [
              0.4444444444444444,
              "#bd3786"
             ],
             [
              0.5555555555555556,
              "#d8576b"
             ],
             [
              0.6666666666666666,
              "#ed7953"
             ],
             [
              0.7777777777777778,
              "#fb9f3a"
             ],
             [
              0.8888888888888888,
              "#fdca26"
             ],
             [
              1,
              "#f0f921"
             ]
            ],
            "type": "histogram2d"
           }
          ],
          "histogram2dcontour": [
           {
            "colorbar": {
             "outlinewidth": 0,
             "ticks": ""
            },
            "colorscale": [
             [
              0,
              "#0d0887"
             ],
             [
              0.1111111111111111,
              "#46039f"
             ],
             [
              0.2222222222222222,
              "#7201a8"
             ],
             [
              0.3333333333333333,
              "#9c179e"
             ],
             [
              0.4444444444444444,
              "#bd3786"
             ],
             [
              0.5555555555555556,
              "#d8576b"
             ],
             [
              0.6666666666666666,
              "#ed7953"
             ],
             [
              0.7777777777777778,
              "#fb9f3a"
             ],
             [
              0.8888888888888888,
              "#fdca26"
             ],
             [
              1,
              "#f0f921"
             ]
            ],
            "type": "histogram2dcontour"
           }
          ],
          "mesh3d": [
           {
            "colorbar": {
             "outlinewidth": 0,
             "ticks": ""
            },
            "type": "mesh3d"
           }
          ],
          "parcoords": [
           {
            "line": {
             "colorbar": {
              "outlinewidth": 0,
              "ticks": ""
             }
            },
            "type": "parcoords"
           }
          ],
          "pie": [
           {
            "automargin": true,
            "type": "pie"
           }
          ],
          "scatter": [
           {
            "fillpattern": {
             "fillmode": "overlay",
             "size": 10,
             "solidity": 0.2
            },
            "type": "scatter"
           }
          ],
          "scatter3d": [
           {
            "line": {
             "colorbar": {
              "outlinewidth": 0,
              "ticks": ""
             }
            },
            "marker": {
             "colorbar": {
              "outlinewidth": 0,
              "ticks": ""
             }
            },
            "type": "scatter3d"
           }
          ],
          "scattercarpet": [
           {
            "marker": {
             "colorbar": {
              "outlinewidth": 0,
              "ticks": ""
             }
            },
            "type": "scattercarpet"
           }
          ],
          "scattergeo": [
           {
            "marker": {
             "colorbar": {
              "outlinewidth": 0,
              "ticks": ""
             }
            },
            "type": "scattergeo"
           }
          ],
          "scattergl": [
           {
            "marker": {
             "colorbar": {
              "outlinewidth": 0,
              "ticks": ""
             }
            },
            "type": "scattergl"
           }
          ],
          "scattermapbox": [
           {
            "marker": {
             "colorbar": {
              "outlinewidth": 0,
              "ticks": ""
             }
            },
            "type": "scattermapbox"
           }
          ],
          "scatterpolar": [
           {
            "marker": {
             "colorbar": {
              "outlinewidth": 0,
              "ticks": ""
             }
            },
            "type": "scatterpolar"
           }
          ],
          "scatterpolargl": [
           {
            "marker": {
             "colorbar": {
              "outlinewidth": 0,
              "ticks": ""
             }
            },
            "type": "scatterpolargl"
           }
          ],
          "scatterternary": [
           {
            "marker": {
             "colorbar": {
              "outlinewidth": 0,
              "ticks": ""
             }
            },
            "type": "scatterternary"
           }
          ],
          "surface": [
           {
            "colorbar": {
             "outlinewidth": 0,
             "ticks": ""
            },
            "colorscale": [
             [
              0,
              "#0d0887"
             ],
             [
              0.1111111111111111,
              "#46039f"
             ],
             [
              0.2222222222222222,
              "#7201a8"
             ],
             [
              0.3333333333333333,
              "#9c179e"
             ],
             [
              0.4444444444444444,
              "#bd3786"
             ],
             [
              0.5555555555555556,
              "#d8576b"
             ],
             [
              0.6666666666666666,
              "#ed7953"
             ],
             [
              0.7777777777777778,
              "#fb9f3a"
             ],
             [
              0.8888888888888888,
              "#fdca26"
             ],
             [
              1,
              "#f0f921"
             ]
            ],
            "type": "surface"
           }
          ],
          "table": [
           {
            "cells": {
             "fill": {
              "color": "#EBF0F8"
             },
             "line": {
              "color": "white"
             }
            },
            "header": {
             "fill": {
              "color": "#C8D4E3"
             },
             "line": {
              "color": "white"
             }
            },
            "type": "table"
           }
          ]
         },
         "layout": {
          "annotationdefaults": {
           "arrowcolor": "#2a3f5f",
           "arrowhead": 0,
           "arrowwidth": 1
          },
          "autotypenumbers": "strict",
          "coloraxis": {
           "colorbar": {
            "outlinewidth": 0,
            "ticks": ""
           }
          },
          "colorscale": {
           "diverging": [
            [
             0,
             "#8e0152"
            ],
            [
             0.1,
             "#c51b7d"
            ],
            [
             0.2,
             "#de77ae"
            ],
            [
             0.3,
             "#f1b6da"
            ],
            [
             0.4,
             "#fde0ef"
            ],
            [
             0.5,
             "#f7f7f7"
            ],
            [
             0.6,
             "#e6f5d0"
            ],
            [
             0.7,
             "#b8e186"
            ],
            [
             0.8,
             "#7fbc41"
            ],
            [
             0.9,
             "#4d9221"
            ],
            [
             1,
             "#276419"
            ]
           ],
           "sequential": [
            [
             0,
             "#0d0887"
            ],
            [
             0.1111111111111111,
             "#46039f"
            ],
            [
             0.2222222222222222,
             "#7201a8"
            ],
            [
             0.3333333333333333,
             "#9c179e"
            ],
            [
             0.4444444444444444,
             "#bd3786"
            ],
            [
             0.5555555555555556,
             "#d8576b"
            ],
            [
             0.6666666666666666,
             "#ed7953"
            ],
            [
             0.7777777777777778,
             "#fb9f3a"
            ],
            [
             0.8888888888888888,
             "#fdca26"
            ],
            [
             1,
             "#f0f921"
            ]
           ],
           "sequentialminus": [
            [
             0,
             "#0d0887"
            ],
            [
             0.1111111111111111,
             "#46039f"
            ],
            [
             0.2222222222222222,
             "#7201a8"
            ],
            [
             0.3333333333333333,
             "#9c179e"
            ],
            [
             0.4444444444444444,
             "#bd3786"
            ],
            [
             0.5555555555555556,
             "#d8576b"
            ],
            [
             0.6666666666666666,
             "#ed7953"
            ],
            [
             0.7777777777777778,
             "#fb9f3a"
            ],
            [
             0.8888888888888888,
             "#fdca26"
            ],
            [
             1,
             "#f0f921"
            ]
           ]
          },
          "colorway": [
           "#636efa",
           "#EF553B",
           "#00cc96",
           "#ab63fa",
           "#FFA15A",
           "#19d3f3",
           "#FF6692",
           "#B6E880",
           "#FF97FF",
           "#FECB52"
          ],
          "font": {
           "color": "#2a3f5f"
          },
          "geo": {
           "bgcolor": "white",
           "lakecolor": "white",
           "landcolor": "#E5ECF6",
           "showlakes": true,
           "showland": true,
           "subunitcolor": "white"
          },
          "hoverlabel": {
           "align": "left"
          },
          "hovermode": "closest",
          "mapbox": {
           "style": "light"
          },
          "paper_bgcolor": "white",
          "plot_bgcolor": "#E5ECF6",
          "polar": {
           "angularaxis": {
            "gridcolor": "white",
            "linecolor": "white",
            "ticks": ""
           },
           "bgcolor": "#E5ECF6",
           "radialaxis": {
            "gridcolor": "white",
            "linecolor": "white",
            "ticks": ""
           }
          },
          "scene": {
           "xaxis": {
            "backgroundcolor": "#E5ECF6",
            "gridcolor": "white",
            "gridwidth": 2,
            "linecolor": "white",
            "showbackground": true,
            "ticks": "",
            "zerolinecolor": "white"
           },
           "yaxis": {
            "backgroundcolor": "#E5ECF6",
            "gridcolor": "white",
            "gridwidth": 2,
            "linecolor": "white",
            "showbackground": true,
            "ticks": "",
            "zerolinecolor": "white"
           },
           "zaxis": {
            "backgroundcolor": "#E5ECF6",
            "gridcolor": "white",
            "gridwidth": 2,
            "linecolor": "white",
            "showbackground": true,
            "ticks": "",
            "zerolinecolor": "white"
           }
          },
          "shapedefaults": {
           "line": {
            "color": "#2a3f5f"
           }
          },
          "ternary": {
           "aaxis": {
            "gridcolor": "white",
            "linecolor": "white",
            "ticks": ""
           },
           "baxis": {
            "gridcolor": "white",
            "linecolor": "white",
            "ticks": ""
           },
           "bgcolor": "#E5ECF6",
           "caxis": {
            "gridcolor": "white",
            "linecolor": "white",
            "ticks": ""
           }
          },
          "title": {
           "x": 0.05
          },
          "xaxis": {
           "automargin": true,
           "gridcolor": "white",
           "linecolor": "white",
           "ticks": "",
           "title": {
            "standoff": 15
           },
           "zerolinecolor": "white",
           "zerolinewidth": 2
          },
          "yaxis": {
           "automargin": true,
           "gridcolor": "white",
           "linecolor": "white",
           "ticks": "",
           "title": {
            "standoff": 15
           },
           "zerolinecolor": "white",
           "zerolinewidth": 2
          }
         }
        },
        "xaxis": {
         "anchor": "y",
         "domain": [
          0,
          1
         ],
         "title": {
          "text": "상호명"
         }
        },
        "yaxis": {
         "anchor": "x",
         "domain": [
          0,
          1
         ],
         "title": {
          "text": "2월 매출액"
         }
        }
       }
      },
      "text/html": [
       "<div>                            <div id=\"512af008-3aa3-41b6-bc02-1532045b8e79\" class=\"plotly-graph-div\" style=\"height:525px; width:100%;\"></div>            <script type=\"text/javascript\">                require([\"plotly\"], function(Plotly) {                    window.PLOTLYENV=window.PLOTLYENV || {};                                    if (document.getElementById(\"512af008-3aa3-41b6-bc02-1532045b8e79\")) {                    Plotly.newPlot(                        \"512af008-3aa3-41b6-bc02-1532045b8e79\",                        [{\"alignmentgroup\":\"True\",\"hovertemplate\":\"\\uc0c1\\ud638\\uba85=%{x}<br>2\\uc6d4 \\ub9e4\\ucd9c\\uc561=%{y}<extra></extra>\",\"legendgroup\":\"\",\"marker\":{\"color\":\"#636efa\",\"pattern\":{\"shape\":\"\"}},\"name\":\"\",\"offsetgroup\":\"\",\"orientation\":\"v\",\"showlegend\":false,\"textposition\":\"auto\",\"x\":[\"\\uc2ac\\ub85c\\uc6b0\\uc57c\\ub4dc \\ubc14\\ube44\\ud050\",\"\\uac10\\uc131\\ud0c0\\ucf54(\\ud64d\\ub300\\uc810)\",\"\\ub369\\ud06c\\ud2b8\\ub808\\uc774\",\"\\uce58\\ud0a8\\uc564\\uce74\\ub808\\uad70\",\"\\ud1a0\\ubaa8\\ud1a0\\uce74\\ud398\",\"\\ube4c\\ub9ac\\ub354\\ub2e4\\uc774\\ub2dd\",\"\\ud06c\\ub808\\uc774\\uc9c0\\uce74\\uce20\",\"\\ubc14\\uc0ad\\ub9c8\\ucc28(\\ub9dd\\uc6d0\\uc2dc\\uc7a5\\uc810)\",\"\\ube44\\uc2a4\\ud2b8\\ub85c\\uc5d0\\ubc84\",\"\\uc2a4\\ud47c\\ud544\\ub77c\\ud504 \\ud64d\\ub300\\uc810\",\"\\ub8e8\\ub098\\uc528\\uc5d8\\ub85c\",\"\\uba55\\uc2dc\\ucf54\\ub2e4\\uc774\\ub108\",\"\\uc774\\uc624\\uce74\\uce20\\uacf5\\ub355\\uc810\",\"\\ud14c\\uc774\\ucee4\\ud14c\\uc774\\ube14\",\"\\ubab0\\ud1a0\\ubca0\\ub124 \\ud569\\uc815\",\"\\uc5f0\\ub0a8\\ub3d9\\uc640\\uc774\\ud0d1\",\"\\uc774\\uc751\\uc774\\uc751\\uc774\\uc751\\uc774\\uc751-table\",\"\\ud574\\ubb3c\\uae30\\uc640\",\"\\uc18c\\ucf54\\uc544\",\"\\uc5d8\\ub9ac\\uc2a4\\ub9ac\\ud2c0\\uc774\\ud0dc\\ub9ac\",\"\\ud5e4\\ud0a4\",\"\\ub9c8\\ub8e8\\ub3c8\\uae4c\\uc2a4\",\"kitchen 485\",\"\\ud1a0\\ud30c\",\"\\uc0b4\\ub871\\ub4dc\\ub9c8\\ub974\\uc794\",\"\\ube0c\\ub77c\\uc6b4\\ub3c8\\uae4c\\uc2a4 \\uc0c1\\uc554MBC\\ubab0\",\"\\uc2a4\\ud504\\ub9c1\\ube44\\uc2a4\\ud2b8\\ub85c\",\"\\uad11\\uc57c\",\"\\uc96c\\ubca4\\ucfe0\\ubc14 \\uc5f0\\ub0a8\\uc810\",\"\\ube60\\ub124\\ub3cc\\uccb4\",\"\\uc5d0\\ud2b8\\ub098\\ud4e8\",\"\\ubd89\\uc740\\ub099\\ud0c0\",\"\\uc18c\\ub098\\ubb34\\uc5f0\\ub0a8\",\"\\ube44\\ubcfc\\ub9ac\",\"\\ub3c8\\uce74\\uce20 \\uc900\",\"\\uc9c0\\uc54c\\ub85c\\ud30c\\uc2a4\\ud0c0\\ubc14\",\"\\uba85\\ub3d9\\uc655\\ub3c8\\uae4c\\uc2a4 \\uc9c1\\uc601\\uc810\",\"\\ubb18\\ud55c\\uc2dd\\ud0c1\",\"\\uc9c4\\ub3c8\",\"\\ud751\\uc2ec\",\"\\ubca8\\ub77c\\ub610\\ub760\\uc544\",\"\\ube14\\ub8e8\\ucfe0\\uce58\\ub098\",\"\\uae4c\\uc0ac\\ub77c\\ud2f0\\ub098\",\"\\ucf54\\ucf54\\uac00\\uce20\",\"\\uc624\\uc774\\ub3c4\",\"\\uac10\\uc131\\uce74\\uce20\",\"\\uc218\\uc5e0\\ubd80\",\"\\uc6b0\\uc560\\ub3c8\\uce74\\uce20 \\uc5f0\\ub0a8\\uc810\",\"\\uce74\\ud398\\ub8e8\\uce58\\uc544\",\"\\uc544\\ub974\\uace0\\ubcf4\\ub2c8\",\"\\ud64d\\ub300\\ud074\\ub77c\\uc4f0\",\"\\uc5fd\\uc804\\uc2dd\\ub2f9 \\uc5f0\\ub0a8\\uc810\",\"\\uc568\\ub9ac\\uc2a4 \\ubc14\\uc774 \\ubbf8\\ub2c8\\uba5c\\uce20\",\"\\ucfe0\\ubc14\\ud0b9\",\"\\ub4dc\\ub801\\ud070\\ube44\\uac74\",\"\\uc694\\ub098\\ub07c\",\"\\ubc30\\uc544\\ub610\",\"\\ud3ec\\ud2b8 \\uc564 \\ub098\\ub2ec\",\"\\uc778\\ub354\\uc36c\"],\"xaxis\":\"x\",\"y\":[87765000,72623000,15468700,14799900,11803300,11733000,9062000,8614900,8591500,7969800,7405000,6582300,6360500,6228000,5839000,5815500,5812500,5705500,5259300,5246000,4755500,4446000,4297800,3986000,3741500,3577500,3165000,2872000,2552000,2490000,2454700,2397000,1971000,1883500,1789800,1742500,1713500,1688100,1639500,1589000,1463000,1258500,1133500,1108000,1059500,1037800,1027200,1004500,838700,825100,797000,780000,687800,638000,574000,472000,437000,415000,354000],\"yaxis\":\"y\",\"type\":\"bar\"}],                        {\"template\":{\"data\":{\"histogram2dcontour\":[{\"type\":\"histogram2dcontour\",\"colorbar\":{\"outlinewidth\":0,\"ticks\":\"\"},\"colorscale\":[[0.0,\"#0d0887\"],[0.1111111111111111,\"#46039f\"],[0.2222222222222222,\"#7201a8\"],[0.3333333333333333,\"#9c179e\"],[0.4444444444444444,\"#bd3786\"],[0.5555555555555556,\"#d8576b\"],[0.6666666666666666,\"#ed7953\"],[0.7777777777777778,\"#fb9f3a\"],[0.8888888888888888,\"#fdca26\"],[1.0,\"#f0f921\"]]}],\"choropleth\":[{\"type\":\"choropleth\",\"colorbar\":{\"outlinewidth\":0,\"ticks\":\"\"}}],\"histogram2d\":[{\"type\":\"histogram2d\",\"colorbar\":{\"outlinewidth\":0,\"ticks\":\"\"},\"colorscale\":[[0.0,\"#0d0887\"],[0.1111111111111111,\"#46039f\"],[0.2222222222222222,\"#7201a8\"],[0.3333333333333333,\"#9c179e\"],[0.4444444444444444,\"#bd3786\"],[0.5555555555555556,\"#d8576b\"],[0.6666666666666666,\"#ed7953\"],[0.7777777777777778,\"#fb9f3a\"],[0.8888888888888888,\"#fdca26\"],[1.0,\"#f0f921\"]]}],\"heatmap\":[{\"type\":\"heatmap\",\"colorbar\":{\"outlinewidth\":0,\"ticks\":\"\"},\"colorscale\":[[0.0,\"#0d0887\"],[0.1111111111111111,\"#46039f\"],[0.2222222222222222,\"#7201a8\"],[0.3333333333333333,\"#9c179e\"],[0.4444444444444444,\"#bd3786\"],[0.5555555555555556,\"#d8576b\"],[0.6666666666666666,\"#ed7953\"],[0.7777777777777778,\"#fb9f3a\"],[0.8888888888888888,\"#fdca26\"],[1.0,\"#f0f921\"]]}],\"heatmapgl\":[{\"type\":\"heatmapgl\",\"colorbar\":{\"outlinewidth\":0,\"ticks\":\"\"},\"colorscale\":[[0.0,\"#0d0887\"],[0.1111111111111111,\"#46039f\"],[0.2222222222222222,\"#7201a8\"],[0.3333333333333333,\"#9c179e\"],[0.4444444444444444,\"#bd3786\"],[0.5555555555555556,\"#d8576b\"],[0.6666666666666666,\"#ed7953\"],[0.7777777777777778,\"#fb9f3a\"],[0.8888888888888888,\"#fdca26\"],[1.0,\"#f0f921\"]]}],\"contourcarpet\":[{\"type\":\"contourcarpet\",\"colorbar\":{\"outlinewidth\":0,\"ticks\":\"\"}}],\"contour\":[{\"type\":\"contour\",\"colorbar\":{\"outlinewidth\":0,\"ticks\":\"\"},\"colorscale\":[[0.0,\"#0d0887\"],[0.1111111111111111,\"#46039f\"],[0.2222222222222222,\"#7201a8\"],[0.3333333333333333,\"#9c179e\"],[0.4444444444444444,\"#bd3786\"],[0.5555555555555556,\"#d8576b\"],[0.6666666666666666,\"#ed7953\"],[0.7777777777777778,\"#fb9f3a\"],[0.8888888888888888,\"#fdca26\"],[1.0,\"#f0f921\"]]}],\"surface\":[{\"type\":\"surface\",\"colorbar\":{\"outlinewidth\":0,\"ticks\":\"\"},\"colorscale\":[[0.0,\"#0d0887\"],[0.1111111111111111,\"#46039f\"],[0.2222222222222222,\"#7201a8\"],[0.3333333333333333,\"#9c179e\"],[0.4444444444444444,\"#bd3786\"],[0.5555555555555556,\"#d8576b\"],[0.6666666666666666,\"#ed7953\"],[0.7777777777777778,\"#fb9f3a\"],[0.8888888888888888,\"#fdca26\"],[1.0,\"#f0f921\"]]}],\"mesh3d\":[{\"type\":\"mesh3d\",\"colorbar\":{\"outlinewidth\":0,\"ticks\":\"\"}}],\"scatter\":[{\"fillpattern\":{\"fillmode\":\"overlay\",\"size\":10,\"solidity\":0.2},\"type\":\"scatter\"}],\"parcoords\":[{\"type\":\"parcoords\",\"line\":{\"colorbar\":{\"outlinewidth\":0,\"ticks\":\"\"}}}],\"scatterpolargl\":[{\"type\":\"scatterpolargl\",\"marker\":{\"colorbar\":{\"outlinewidth\":0,\"ticks\":\"\"}}}],\"bar\":[{\"error_x\":{\"color\":\"#2a3f5f\"},\"error_y\":{\"color\":\"#2a3f5f\"},\"marker\":{\"line\":{\"color\":\"#E5ECF6\",\"width\":0.5},\"pattern\":{\"fillmode\":\"overlay\",\"size\":10,\"solidity\":0.2}},\"type\":\"bar\"}],\"scattergeo\":[{\"type\":\"scattergeo\",\"marker\":{\"colorbar\":{\"outlinewidth\":0,\"ticks\":\"\"}}}],\"scatterpolar\":[{\"type\":\"scatterpolar\",\"marker\":{\"colorbar\":{\"outlinewidth\":0,\"ticks\":\"\"}}}],\"histogram\":[{\"marker\":{\"pattern\":{\"fillmode\":\"overlay\",\"size\":10,\"solidity\":0.2}},\"type\":\"histogram\"}],\"scattergl\":[{\"type\":\"scattergl\",\"marker\":{\"colorbar\":{\"outlinewidth\":0,\"ticks\":\"\"}}}],\"scatter3d\":[{\"type\":\"scatter3d\",\"line\":{\"colorbar\":{\"outlinewidth\":0,\"ticks\":\"\"}},\"marker\":{\"colorbar\":{\"outlinewidth\":0,\"ticks\":\"\"}}}],\"scattermapbox\":[{\"type\":\"scattermapbox\",\"marker\":{\"colorbar\":{\"outlinewidth\":0,\"ticks\":\"\"}}}],\"scatterternary\":[{\"type\":\"scatterternary\",\"marker\":{\"colorbar\":{\"outlinewidth\":0,\"ticks\":\"\"}}}],\"scattercarpet\":[{\"type\":\"scattercarpet\",\"marker\":{\"colorbar\":{\"outlinewidth\":0,\"ticks\":\"\"}}}],\"carpet\":[{\"aaxis\":{\"endlinecolor\":\"#2a3f5f\",\"gridcolor\":\"white\",\"linecolor\":\"white\",\"minorgridcolor\":\"white\",\"startlinecolor\":\"#2a3f5f\"},\"baxis\":{\"endlinecolor\":\"#2a3f5f\",\"gridcolor\":\"white\",\"linecolor\":\"white\",\"minorgridcolor\":\"white\",\"startlinecolor\":\"#2a3f5f\"},\"type\":\"carpet\"}],\"table\":[{\"cells\":{\"fill\":{\"color\":\"#EBF0F8\"},\"line\":{\"color\":\"white\"}},\"header\":{\"fill\":{\"color\":\"#C8D4E3\"},\"line\":{\"color\":\"white\"}},\"type\":\"table\"}],\"barpolar\":[{\"marker\":{\"line\":{\"color\":\"#E5ECF6\",\"width\":0.5},\"pattern\":{\"fillmode\":\"overlay\",\"size\":10,\"solidity\":0.2}},\"type\":\"barpolar\"}],\"pie\":[{\"automargin\":true,\"type\":\"pie\"}]},\"layout\":{\"autotypenumbers\":\"strict\",\"colorway\":[\"#636efa\",\"#EF553B\",\"#00cc96\",\"#ab63fa\",\"#FFA15A\",\"#19d3f3\",\"#FF6692\",\"#B6E880\",\"#FF97FF\",\"#FECB52\"],\"font\":{\"color\":\"#2a3f5f\"},\"hovermode\":\"closest\",\"hoverlabel\":{\"align\":\"left\"},\"paper_bgcolor\":\"white\",\"plot_bgcolor\":\"#E5ECF6\",\"polar\":{\"bgcolor\":\"#E5ECF6\",\"angularaxis\":{\"gridcolor\":\"white\",\"linecolor\":\"white\",\"ticks\":\"\"},\"radialaxis\":{\"gridcolor\":\"white\",\"linecolor\":\"white\",\"ticks\":\"\"}},\"ternary\":{\"bgcolor\":\"#E5ECF6\",\"aaxis\":{\"gridcolor\":\"white\",\"linecolor\":\"white\",\"ticks\":\"\"},\"baxis\":{\"gridcolor\":\"white\",\"linecolor\":\"white\",\"ticks\":\"\"},\"caxis\":{\"gridcolor\":\"white\",\"linecolor\":\"white\",\"ticks\":\"\"}},\"coloraxis\":{\"colorbar\":{\"outlinewidth\":0,\"ticks\":\"\"}},\"colorscale\":{\"sequential\":[[0.0,\"#0d0887\"],[0.1111111111111111,\"#46039f\"],[0.2222222222222222,\"#7201a8\"],[0.3333333333333333,\"#9c179e\"],[0.4444444444444444,\"#bd3786\"],[0.5555555555555556,\"#d8576b\"],[0.6666666666666666,\"#ed7953\"],[0.7777777777777778,\"#fb9f3a\"],[0.8888888888888888,\"#fdca26\"],[1.0,\"#f0f921\"]],\"sequentialminus\":[[0.0,\"#0d0887\"],[0.1111111111111111,\"#46039f\"],[0.2222222222222222,\"#7201a8\"],[0.3333333333333333,\"#9c179e\"],[0.4444444444444444,\"#bd3786\"],[0.5555555555555556,\"#d8576b\"],[0.6666666666666666,\"#ed7953\"],[0.7777777777777778,\"#fb9f3a\"],[0.8888888888888888,\"#fdca26\"],[1.0,\"#f0f921\"]],\"diverging\":[[0,\"#8e0152\"],[0.1,\"#c51b7d\"],[0.2,\"#de77ae\"],[0.3,\"#f1b6da\"],[0.4,\"#fde0ef\"],[0.5,\"#f7f7f7\"],[0.6,\"#e6f5d0\"],[0.7,\"#b8e186\"],[0.8,\"#7fbc41\"],[0.9,\"#4d9221\"],[1,\"#276419\"]]},\"xaxis\":{\"gridcolor\":\"white\",\"linecolor\":\"white\",\"ticks\":\"\",\"title\":{\"standoff\":15},\"zerolinecolor\":\"white\",\"automargin\":true,\"zerolinewidth\":2},\"yaxis\":{\"gridcolor\":\"white\",\"linecolor\":\"white\",\"ticks\":\"\",\"title\":{\"standoff\":15},\"zerolinecolor\":\"white\",\"automargin\":true,\"zerolinewidth\":2},\"scene\":{\"xaxis\":{\"backgroundcolor\":\"#E5ECF6\",\"gridcolor\":\"white\",\"linecolor\":\"white\",\"showbackground\":true,\"ticks\":\"\",\"zerolinecolor\":\"white\",\"gridwidth\":2},\"yaxis\":{\"backgroundcolor\":\"#E5ECF6\",\"gridcolor\":\"white\",\"linecolor\":\"white\",\"showbackground\":true,\"ticks\":\"\",\"zerolinecolor\":\"white\",\"gridwidth\":2},\"zaxis\":{\"backgroundcolor\":\"#E5ECF6\",\"gridcolor\":\"white\",\"linecolor\":\"white\",\"showbackground\":true,\"ticks\":\"\",\"zerolinecolor\":\"white\",\"gridwidth\":2}},\"shapedefaults\":{\"line\":{\"color\":\"#2a3f5f\"}},\"annotationdefaults\":{\"arrowcolor\":\"#2a3f5f\",\"arrowhead\":0,\"arrowwidth\":1},\"geo\":{\"bgcolor\":\"white\",\"landcolor\":\"#E5ECF6\",\"subunitcolor\":\"white\",\"showland\":true,\"showlakes\":true,\"lakecolor\":\"white\"},\"title\":{\"x\":0.05},\"mapbox\":{\"style\":\"light\"}}},\"xaxis\":{\"anchor\":\"y\",\"domain\":[0.0,1.0],\"title\":{\"text\":\"\\uc0c1\\ud638\\uba85\"}},\"yaxis\":{\"anchor\":\"x\",\"domain\":[0.0,1.0],\"title\":{\"text\":\"2\\uc6d4 \\ub9e4\\ucd9c\\uc561\"}},\"legend\":{\"tracegroupgap\":0},\"margin\":{\"t\":60},\"barmode\":\"relative\"},                        {\"responsive\": true}                    ).then(function(){\n",
       "                            \n",
       "var gd = document.getElementById('512af008-3aa3-41b6-bc02-1532045b8e79');\n",
       "var x = new MutationObserver(function (mutations, observer) {{\n",
       "        var display = window.getComputedStyle(gd).display;\n",
       "        if (!display || display === 'none') {{\n",
       "            console.log([gd, 'removed!']);\n",
       "            Plotly.purge(gd);\n",
       "            observer.disconnect();\n",
       "        }}\n",
       "}});\n",
       "\n",
       "// Listen for the removal of the full notebook cells\n",
       "var notebookContainer = gd.closest('#notebook-container');\n",
       "if (notebookContainer) {{\n",
       "    x.observe(notebookContainer, {childList: true});\n",
       "}}\n",
       "\n",
       "// Listen for the clearing of the current output cell\n",
       "var outputEl = gd.closest('.output');\n",
       "if (outputEl) {{\n",
       "    x.observe(outputEl, {childList: true});\n",
       "}}\n",
       "\n",
       "                        })                };                });            </script>        </div>"
      ]
     },
     "metadata": {},
     "output_type": "display_data"
    }
   ],
   "source": [
    "bar_2_df = result_df.sort_values('2월 매출액', ascending=False)\n",
    "px.bar(bar_2_df, x='상호명', y=\"2월 매출액\")"
   ]
  },
  {
   "cell_type": "markdown",
   "id": "aebf4795",
   "metadata": {},
   "source": [
    "# 건수 그래프"
   ]
  },
  {
   "cell_type": "code",
   "execution_count": 245,
   "id": "c8a22461",
   "metadata": {},
   "outputs": [],
   "source": [
    "result_df['12월 거래량']= 0\n",
    "result_df['1월 거래량']= 0\n",
    "result_df['2월 거래량']= 0\n",
    "\n",
    "count_12 = month_12_df.groupby('상호명').count()['주소']\n",
    "count_1 = month_1_df.groupby('상호명').count()['주소']\n",
    "count_2 = month_2_df.groupby('상호명').count()['주소']\n",
    "\n",
    "for i in count_12.index:\n",
    "    result_df.loc[result_df['상호명']==i, '12월 거래량'] = count_12[i]\n",
    "    \n",
    "for i in count_1.index:\n",
    "    result_df.loc[result_df['상호명']==i, '1월 거래량'] = count_1[i]\n",
    "\n",
    "for i in count_2.index:\n",
    "    result_df.loc[result_df['상호명']==i, '2월 거래량'] = count_2[i]"
   ]
  },
  {
   "cell_type": "code",
   "execution_count": 250,
   "id": "dc6a2a2d",
   "metadata": {},
   "outputs": [
    {
     "data": {
      "application/vnd.plotly.v1+json": {
       "config": {
        "plotlyServerURL": "https://plotly.com"
       },
       "data": [
        {
         "alignmentgroup": "True",
         "hovertemplate": "상호명=%{x}<br>12월 매출액=%{y}<extra></extra>",
         "legendgroup": "",
         "marker": {
          "color": "#636efa",
          "pattern": {
           "shape": ""
          }
         },
         "name": "",
         "offsetgroup": "",
         "orientation": "v",
         "showlegend": false,
         "textposition": "auto",
         "type": "bar",
         "x": [
          "감성타코(홍대점)",
          "슬로우야드 바비큐",
          "빌리더다이닝",
          "치킨앤카레군",
          "루나씨엘로",
          "덩크트레이",
          "비스트로에버",
          "토모토카페",
          "크레이지카츠",
          "이응이응이응이응-table",
          "살롱드마르잔",
          "스푼필라프 홍대점",
          "kitchen 485",
          "몰토베네 합정",
          "광야",
          "바삭마차(망원시장점)",
          "엘리스리틀이태리",
          "소코아",
          "테이커테이블",
          "이오카츠공덕점",
          "토파",
          "헤키",
          "멕시코다이너",
          "연남동와이탑",
          "스프링비스트로",
          "마루돈까스",
          "홍대클라쓰",
          "브라운돈까스 상암MBC몰",
          "에트나퓨",
          "비볼리",
          "붉은낙타",
          "빠네돌체",
          "쥬벤쿠바 연남점",
          "묘한식탁",
          "지알로파스타바",
          "블루쿠치나",
          "흑심",
          "코코가츠",
          "진돈",
          "명동왕돈까스 직영점",
          "돈카츠 준",
          "소나무연남",
          "벨라또띠아",
          "오이도",
          "카페루치아",
          "우애돈카츠 연남점",
          "까사라티나",
          "수엠부",
          "쿠바킹",
          "엽전식당 연남점",
          "해물기와",
          "아르고보니",
          "앨리스 바이 미니멜츠",
          "드렁큰비건",
          "요나끼",
          "포트 앤 나달",
          "인더썬",
          "감성카츠",
          "배아또"
         ],
         "xaxis": "x",
         "y": [
          63581700,
          28979000,
          26958000,
          16419500,
          15824000,
          14242400,
          11839500,
          11587600,
          10057500,
          10030000,
          9392000,
          7776200,
          7503000,
          6869500,
          6851000,
          6679400,
          6315500,
          6282900,
          6246500,
          5944500,
          5464000,
          4688000,
          4429400,
          4174000,
          4163000,
          4090000,
          3290000,
          3164500,
          2989800,
          2889500,
          2584500,
          2388000,
          2244000,
          2132700,
          2053000,
          2019000,
          1904000,
          1895000,
          1743000,
          1704500,
          1519300,
          1514000,
          1190500,
          1140500,
          1138800,
          1106750,
          1091400,
          1070300,
          1036000,
          1003900,
          936400,
          936400,
          936400,
          730000,
          705000,
          435000,
          397500,
          365700,
          309000
         ],
         "yaxis": "y"
        }
       ],
       "layout": {
        "barmode": "relative",
        "legend": {
         "tracegroupgap": 0
        },
        "margin": {
         "t": 60
        },
        "template": {
         "data": {
          "bar": [
           {
            "error_x": {
             "color": "#2a3f5f"
            },
            "error_y": {
             "color": "#2a3f5f"
            },
            "marker": {
             "line": {
              "color": "#E5ECF6",
              "width": 0.5
             },
             "pattern": {
              "fillmode": "overlay",
              "size": 10,
              "solidity": 0.2
             }
            },
            "type": "bar"
           }
          ],
          "barpolar": [
           {
            "marker": {
             "line": {
              "color": "#E5ECF6",
              "width": 0.5
             },
             "pattern": {
              "fillmode": "overlay",
              "size": 10,
              "solidity": 0.2
             }
            },
            "type": "barpolar"
           }
          ],
          "carpet": [
           {
            "aaxis": {
             "endlinecolor": "#2a3f5f",
             "gridcolor": "white",
             "linecolor": "white",
             "minorgridcolor": "white",
             "startlinecolor": "#2a3f5f"
            },
            "baxis": {
             "endlinecolor": "#2a3f5f",
             "gridcolor": "white",
             "linecolor": "white",
             "minorgridcolor": "white",
             "startlinecolor": "#2a3f5f"
            },
            "type": "carpet"
           }
          ],
          "choropleth": [
           {
            "colorbar": {
             "outlinewidth": 0,
             "ticks": ""
            },
            "type": "choropleth"
           }
          ],
          "contour": [
           {
            "colorbar": {
             "outlinewidth": 0,
             "ticks": ""
            },
            "colorscale": [
             [
              0,
              "#0d0887"
             ],
             [
              0.1111111111111111,
              "#46039f"
             ],
             [
              0.2222222222222222,
              "#7201a8"
             ],
             [
              0.3333333333333333,
              "#9c179e"
             ],
             [
              0.4444444444444444,
              "#bd3786"
             ],
             [
              0.5555555555555556,
              "#d8576b"
             ],
             [
              0.6666666666666666,
              "#ed7953"
             ],
             [
              0.7777777777777778,
              "#fb9f3a"
             ],
             [
              0.8888888888888888,
              "#fdca26"
             ],
             [
              1,
              "#f0f921"
             ]
            ],
            "type": "contour"
           }
          ],
          "contourcarpet": [
           {
            "colorbar": {
             "outlinewidth": 0,
             "ticks": ""
            },
            "type": "contourcarpet"
           }
          ],
          "heatmap": [
           {
            "colorbar": {
             "outlinewidth": 0,
             "ticks": ""
            },
            "colorscale": [
             [
              0,
              "#0d0887"
             ],
             [
              0.1111111111111111,
              "#46039f"
             ],
             [
              0.2222222222222222,
              "#7201a8"
             ],
             [
              0.3333333333333333,
              "#9c179e"
             ],
             [
              0.4444444444444444,
              "#bd3786"
             ],
             [
              0.5555555555555556,
              "#d8576b"
             ],
             [
              0.6666666666666666,
              "#ed7953"
             ],
             [
              0.7777777777777778,
              "#fb9f3a"
             ],
             [
              0.8888888888888888,
              "#fdca26"
             ],
             [
              1,
              "#f0f921"
             ]
            ],
            "type": "heatmap"
           }
          ],
          "heatmapgl": [
           {
            "colorbar": {
             "outlinewidth": 0,
             "ticks": ""
            },
            "colorscale": [
             [
              0,
              "#0d0887"
             ],
             [
              0.1111111111111111,
              "#46039f"
             ],
             [
              0.2222222222222222,
              "#7201a8"
             ],
             [
              0.3333333333333333,
              "#9c179e"
             ],
             [
              0.4444444444444444,
              "#bd3786"
             ],
             [
              0.5555555555555556,
              "#d8576b"
             ],
             [
              0.6666666666666666,
              "#ed7953"
             ],
             [
              0.7777777777777778,
              "#fb9f3a"
             ],
             [
              0.8888888888888888,
              "#fdca26"
             ],
             [
              1,
              "#f0f921"
             ]
            ],
            "type": "heatmapgl"
           }
          ],
          "histogram": [
           {
            "marker": {
             "pattern": {
              "fillmode": "overlay",
              "size": 10,
              "solidity": 0.2
             }
            },
            "type": "histogram"
           }
          ],
          "histogram2d": [
           {
            "colorbar": {
             "outlinewidth": 0,
             "ticks": ""
            },
            "colorscale": [
             [
              0,
              "#0d0887"
             ],
             [
              0.1111111111111111,
              "#46039f"
             ],
             [
              0.2222222222222222,
              "#7201a8"
             ],
             [
              0.3333333333333333,
              "#9c179e"
             ],
             [
              0.4444444444444444,
              "#bd3786"
             ],
             [
              0.5555555555555556,
              "#d8576b"
             ],
             [
              0.6666666666666666,
              "#ed7953"
             ],
             [
              0.7777777777777778,
              "#fb9f3a"
             ],
             [
              0.8888888888888888,
              "#fdca26"
             ],
             [
              1,
              "#f0f921"
             ]
            ],
            "type": "histogram2d"
           }
          ],
          "histogram2dcontour": [
           {
            "colorbar": {
             "outlinewidth": 0,
             "ticks": ""
            },
            "colorscale": [
             [
              0,
              "#0d0887"
             ],
             [
              0.1111111111111111,
              "#46039f"
             ],
             [
              0.2222222222222222,
              "#7201a8"
             ],
             [
              0.3333333333333333,
              "#9c179e"
             ],
             [
              0.4444444444444444,
              "#bd3786"
             ],
             [
              0.5555555555555556,
              "#d8576b"
             ],
             [
              0.6666666666666666,
              "#ed7953"
             ],
             [
              0.7777777777777778,
              "#fb9f3a"
             ],
             [
              0.8888888888888888,
              "#fdca26"
             ],
             [
              1,
              "#f0f921"
             ]
            ],
            "type": "histogram2dcontour"
           }
          ],
          "mesh3d": [
           {
            "colorbar": {
             "outlinewidth": 0,
             "ticks": ""
            },
            "type": "mesh3d"
           }
          ],
          "parcoords": [
           {
            "line": {
             "colorbar": {
              "outlinewidth": 0,
              "ticks": ""
             }
            },
            "type": "parcoords"
           }
          ],
          "pie": [
           {
            "automargin": true,
            "type": "pie"
           }
          ],
          "scatter": [
           {
            "fillpattern": {
             "fillmode": "overlay",
             "size": 10,
             "solidity": 0.2
            },
            "type": "scatter"
           }
          ],
          "scatter3d": [
           {
            "line": {
             "colorbar": {
              "outlinewidth": 0,
              "ticks": ""
             }
            },
            "marker": {
             "colorbar": {
              "outlinewidth": 0,
              "ticks": ""
             }
            },
            "type": "scatter3d"
           }
          ],
          "scattercarpet": [
           {
            "marker": {
             "colorbar": {
              "outlinewidth": 0,
              "ticks": ""
             }
            },
            "type": "scattercarpet"
           }
          ],
          "scattergeo": [
           {
            "marker": {
             "colorbar": {
              "outlinewidth": 0,
              "ticks": ""
             }
            },
            "type": "scattergeo"
           }
          ],
          "scattergl": [
           {
            "marker": {
             "colorbar": {
              "outlinewidth": 0,
              "ticks": ""
             }
            },
            "type": "scattergl"
           }
          ],
          "scattermapbox": [
           {
            "marker": {
             "colorbar": {
              "outlinewidth": 0,
              "ticks": ""
             }
            },
            "type": "scattermapbox"
           }
          ],
          "scatterpolar": [
           {
            "marker": {
             "colorbar": {
              "outlinewidth": 0,
              "ticks": ""
             }
            },
            "type": "scatterpolar"
           }
          ],
          "scatterpolargl": [
           {
            "marker": {
             "colorbar": {
              "outlinewidth": 0,
              "ticks": ""
             }
            },
            "type": "scatterpolargl"
           }
          ],
          "scatterternary": [
           {
            "marker": {
             "colorbar": {
              "outlinewidth": 0,
              "ticks": ""
             }
            },
            "type": "scatterternary"
           }
          ],
          "surface": [
           {
            "colorbar": {
             "outlinewidth": 0,
             "ticks": ""
            },
            "colorscale": [
             [
              0,
              "#0d0887"
             ],
             [
              0.1111111111111111,
              "#46039f"
             ],
             [
              0.2222222222222222,
              "#7201a8"
             ],
             [
              0.3333333333333333,
              "#9c179e"
             ],
             [
              0.4444444444444444,
              "#bd3786"
             ],
             [
              0.5555555555555556,
              "#d8576b"
             ],
             [
              0.6666666666666666,
              "#ed7953"
             ],
             [
              0.7777777777777778,
              "#fb9f3a"
             ],
             [
              0.8888888888888888,
              "#fdca26"
             ],
             [
              1,
              "#f0f921"
             ]
            ],
            "type": "surface"
           }
          ],
          "table": [
           {
            "cells": {
             "fill": {
              "color": "#EBF0F8"
             },
             "line": {
              "color": "white"
             }
            },
            "header": {
             "fill": {
              "color": "#C8D4E3"
             },
             "line": {
              "color": "white"
             }
            },
            "type": "table"
           }
          ]
         },
         "layout": {
          "annotationdefaults": {
           "arrowcolor": "#2a3f5f",
           "arrowhead": 0,
           "arrowwidth": 1
          },
          "autotypenumbers": "strict",
          "coloraxis": {
           "colorbar": {
            "outlinewidth": 0,
            "ticks": ""
           }
          },
          "colorscale": {
           "diverging": [
            [
             0,
             "#8e0152"
            ],
            [
             0.1,
             "#c51b7d"
            ],
            [
             0.2,
             "#de77ae"
            ],
            [
             0.3,
             "#f1b6da"
            ],
            [
             0.4,
             "#fde0ef"
            ],
            [
             0.5,
             "#f7f7f7"
            ],
            [
             0.6,
             "#e6f5d0"
            ],
            [
             0.7,
             "#b8e186"
            ],
            [
             0.8,
             "#7fbc41"
            ],
            [
             0.9,
             "#4d9221"
            ],
            [
             1,
             "#276419"
            ]
           ],
           "sequential": [
            [
             0,
             "#0d0887"
            ],
            [
             0.1111111111111111,
             "#46039f"
            ],
            [
             0.2222222222222222,
             "#7201a8"
            ],
            [
             0.3333333333333333,
             "#9c179e"
            ],
            [
             0.4444444444444444,
             "#bd3786"
            ],
            [
             0.5555555555555556,
             "#d8576b"
            ],
            [
             0.6666666666666666,
             "#ed7953"
            ],
            [
             0.7777777777777778,
             "#fb9f3a"
            ],
            [
             0.8888888888888888,
             "#fdca26"
            ],
            [
             1,
             "#f0f921"
            ]
           ],
           "sequentialminus": [
            [
             0,
             "#0d0887"
            ],
            [
             0.1111111111111111,
             "#46039f"
            ],
            [
             0.2222222222222222,
             "#7201a8"
            ],
            [
             0.3333333333333333,
             "#9c179e"
            ],
            [
             0.4444444444444444,
             "#bd3786"
            ],
            [
             0.5555555555555556,
             "#d8576b"
            ],
            [
             0.6666666666666666,
             "#ed7953"
            ],
            [
             0.7777777777777778,
             "#fb9f3a"
            ],
            [
             0.8888888888888888,
             "#fdca26"
            ],
            [
             1,
             "#f0f921"
            ]
           ]
          },
          "colorway": [
           "#636efa",
           "#EF553B",
           "#00cc96",
           "#ab63fa",
           "#FFA15A",
           "#19d3f3",
           "#FF6692",
           "#B6E880",
           "#FF97FF",
           "#FECB52"
          ],
          "font": {
           "color": "#2a3f5f"
          },
          "geo": {
           "bgcolor": "white",
           "lakecolor": "white",
           "landcolor": "#E5ECF6",
           "showlakes": true,
           "showland": true,
           "subunitcolor": "white"
          },
          "hoverlabel": {
           "align": "left"
          },
          "hovermode": "closest",
          "mapbox": {
           "style": "light"
          },
          "paper_bgcolor": "white",
          "plot_bgcolor": "#E5ECF6",
          "polar": {
           "angularaxis": {
            "gridcolor": "white",
            "linecolor": "white",
            "ticks": ""
           },
           "bgcolor": "#E5ECF6",
           "radialaxis": {
            "gridcolor": "white",
            "linecolor": "white",
            "ticks": ""
           }
          },
          "scene": {
           "xaxis": {
            "backgroundcolor": "#E5ECF6",
            "gridcolor": "white",
            "gridwidth": 2,
            "linecolor": "white",
            "showbackground": true,
            "ticks": "",
            "zerolinecolor": "white"
           },
           "yaxis": {
            "backgroundcolor": "#E5ECF6",
            "gridcolor": "white",
            "gridwidth": 2,
            "linecolor": "white",
            "showbackground": true,
            "ticks": "",
            "zerolinecolor": "white"
           },
           "zaxis": {
            "backgroundcolor": "#E5ECF6",
            "gridcolor": "white",
            "gridwidth": 2,
            "linecolor": "white",
            "showbackground": true,
            "ticks": "",
            "zerolinecolor": "white"
           }
          },
          "shapedefaults": {
           "line": {
            "color": "#2a3f5f"
           }
          },
          "ternary": {
           "aaxis": {
            "gridcolor": "white",
            "linecolor": "white",
            "ticks": ""
           },
           "baxis": {
            "gridcolor": "white",
            "linecolor": "white",
            "ticks": ""
           },
           "bgcolor": "#E5ECF6",
           "caxis": {
            "gridcolor": "white",
            "linecolor": "white",
            "ticks": ""
           }
          },
          "title": {
           "x": 0.05
          },
          "xaxis": {
           "automargin": true,
           "gridcolor": "white",
           "linecolor": "white",
           "ticks": "",
           "title": {
            "standoff": 15
           },
           "zerolinecolor": "white",
           "zerolinewidth": 2
          },
          "yaxis": {
           "automargin": true,
           "gridcolor": "white",
           "linecolor": "white",
           "ticks": "",
           "title": {
            "standoff": 15
           },
           "zerolinecolor": "white",
           "zerolinewidth": 2
          }
         }
        },
        "xaxis": {
         "anchor": "y",
         "domain": [
          0,
          1
         ],
         "title": {
          "text": "상호명"
         }
        },
        "yaxis": {
         "anchor": "x",
         "domain": [
          0,
          1
         ],
         "title": {
          "text": "12월 매출액"
         }
        }
       }
      },
      "text/html": [
       "<div>                            <div id=\"3fa584ce-dec7-4727-a60c-41b05ea64b39\" class=\"plotly-graph-div\" style=\"height:525px; width:100%;\"></div>            <script type=\"text/javascript\">                require([\"plotly\"], function(Plotly) {                    window.PLOTLYENV=window.PLOTLYENV || {};                                    if (document.getElementById(\"3fa584ce-dec7-4727-a60c-41b05ea64b39\")) {                    Plotly.newPlot(                        \"3fa584ce-dec7-4727-a60c-41b05ea64b39\",                        [{\"alignmentgroup\":\"True\",\"hovertemplate\":\"\\uc0c1\\ud638\\uba85=%{x}<br>12\\uc6d4 \\ub9e4\\ucd9c\\uc561=%{y}<extra></extra>\",\"legendgroup\":\"\",\"marker\":{\"color\":\"#636efa\",\"pattern\":{\"shape\":\"\"}},\"name\":\"\",\"offsetgroup\":\"\",\"orientation\":\"v\",\"showlegend\":false,\"textposition\":\"auto\",\"x\":[\"\\uac10\\uc131\\ud0c0\\ucf54(\\ud64d\\ub300\\uc810)\",\"\\uc2ac\\ub85c\\uc6b0\\uc57c\\ub4dc \\ubc14\\ube44\\ud050\",\"\\ube4c\\ub9ac\\ub354\\ub2e4\\uc774\\ub2dd\",\"\\uce58\\ud0a8\\uc564\\uce74\\ub808\\uad70\",\"\\ub8e8\\ub098\\uc528\\uc5d8\\ub85c\",\"\\ub369\\ud06c\\ud2b8\\ub808\\uc774\",\"\\ube44\\uc2a4\\ud2b8\\ub85c\\uc5d0\\ubc84\",\"\\ud1a0\\ubaa8\\ud1a0\\uce74\\ud398\",\"\\ud06c\\ub808\\uc774\\uc9c0\\uce74\\uce20\",\"\\uc774\\uc751\\uc774\\uc751\\uc774\\uc751\\uc774\\uc751-table\",\"\\uc0b4\\ub871\\ub4dc\\ub9c8\\ub974\\uc794\",\"\\uc2a4\\ud47c\\ud544\\ub77c\\ud504 \\ud64d\\ub300\\uc810\",\"kitchen 485\",\"\\ubab0\\ud1a0\\ubca0\\ub124 \\ud569\\uc815\",\"\\uad11\\uc57c\",\"\\ubc14\\uc0ad\\ub9c8\\ucc28(\\ub9dd\\uc6d0\\uc2dc\\uc7a5\\uc810)\",\"\\uc5d8\\ub9ac\\uc2a4\\ub9ac\\ud2c0\\uc774\\ud0dc\\ub9ac\",\"\\uc18c\\ucf54\\uc544\",\"\\ud14c\\uc774\\ucee4\\ud14c\\uc774\\ube14\",\"\\uc774\\uc624\\uce74\\uce20\\uacf5\\ub355\\uc810\",\"\\ud1a0\\ud30c\",\"\\ud5e4\\ud0a4\",\"\\uba55\\uc2dc\\ucf54\\ub2e4\\uc774\\ub108\",\"\\uc5f0\\ub0a8\\ub3d9\\uc640\\uc774\\ud0d1\",\"\\uc2a4\\ud504\\ub9c1\\ube44\\uc2a4\\ud2b8\\ub85c\",\"\\ub9c8\\ub8e8\\ub3c8\\uae4c\\uc2a4\",\"\\ud64d\\ub300\\ud074\\ub77c\\uc4f0\",\"\\ube0c\\ub77c\\uc6b4\\ub3c8\\uae4c\\uc2a4 \\uc0c1\\uc554MBC\\ubab0\",\"\\uc5d0\\ud2b8\\ub098\\ud4e8\",\"\\ube44\\ubcfc\\ub9ac\",\"\\ubd89\\uc740\\ub099\\ud0c0\",\"\\ube60\\ub124\\ub3cc\\uccb4\",\"\\uc96c\\ubca4\\ucfe0\\ubc14 \\uc5f0\\ub0a8\\uc810\",\"\\ubb18\\ud55c\\uc2dd\\ud0c1\",\"\\uc9c0\\uc54c\\ub85c\\ud30c\\uc2a4\\ud0c0\\ubc14\",\"\\ube14\\ub8e8\\ucfe0\\uce58\\ub098\",\"\\ud751\\uc2ec\",\"\\ucf54\\ucf54\\uac00\\uce20\",\"\\uc9c4\\ub3c8\",\"\\uba85\\ub3d9\\uc655\\ub3c8\\uae4c\\uc2a4 \\uc9c1\\uc601\\uc810\",\"\\ub3c8\\uce74\\uce20 \\uc900\",\"\\uc18c\\ub098\\ubb34\\uc5f0\\ub0a8\",\"\\ubca8\\ub77c\\ub610\\ub760\\uc544\",\"\\uc624\\uc774\\ub3c4\",\"\\uce74\\ud398\\ub8e8\\uce58\\uc544\",\"\\uc6b0\\uc560\\ub3c8\\uce74\\uce20 \\uc5f0\\ub0a8\\uc810\",\"\\uae4c\\uc0ac\\ub77c\\ud2f0\\ub098\",\"\\uc218\\uc5e0\\ubd80\",\"\\ucfe0\\ubc14\\ud0b9\",\"\\uc5fd\\uc804\\uc2dd\\ub2f9 \\uc5f0\\ub0a8\\uc810\",\"\\ud574\\ubb3c\\uae30\\uc640\",\"\\uc544\\ub974\\uace0\\ubcf4\\ub2c8\",\"\\uc568\\ub9ac\\uc2a4 \\ubc14\\uc774 \\ubbf8\\ub2c8\\uba5c\\uce20\",\"\\ub4dc\\ub801\\ud070\\ube44\\uac74\",\"\\uc694\\ub098\\ub07c\",\"\\ud3ec\\ud2b8 \\uc564 \\ub098\\ub2ec\",\"\\uc778\\ub354\\uc36c\",\"\\uac10\\uc131\\uce74\\uce20\",\"\\ubc30\\uc544\\ub610\"],\"xaxis\":\"x\",\"y\":[63581700,28979000,26958000,16419500,15824000,14242400,11839500,11587600,10057500,10030000,9392000,7776200,7503000,6869500,6851000,6679400,6315500,6282900,6246500,5944500,5464000,4688000,4429400,4174000,4163000,4090000,3290000,3164500,2989800,2889500,2584500,2388000,2244000,2132700,2053000,2019000,1904000,1895000,1743000,1704500,1519300,1514000,1190500,1140500,1138800,1106750,1091400,1070300,1036000,1003900,936400,936400,936400,730000,705000,435000,397500,365700,309000],\"yaxis\":\"y\",\"type\":\"bar\"}],                        {\"template\":{\"data\":{\"histogram2dcontour\":[{\"type\":\"histogram2dcontour\",\"colorbar\":{\"outlinewidth\":0,\"ticks\":\"\"},\"colorscale\":[[0.0,\"#0d0887\"],[0.1111111111111111,\"#46039f\"],[0.2222222222222222,\"#7201a8\"],[0.3333333333333333,\"#9c179e\"],[0.4444444444444444,\"#bd3786\"],[0.5555555555555556,\"#d8576b\"],[0.6666666666666666,\"#ed7953\"],[0.7777777777777778,\"#fb9f3a\"],[0.8888888888888888,\"#fdca26\"],[1.0,\"#f0f921\"]]}],\"choropleth\":[{\"type\":\"choropleth\",\"colorbar\":{\"outlinewidth\":0,\"ticks\":\"\"}}],\"histogram2d\":[{\"type\":\"histogram2d\",\"colorbar\":{\"outlinewidth\":0,\"ticks\":\"\"},\"colorscale\":[[0.0,\"#0d0887\"],[0.1111111111111111,\"#46039f\"],[0.2222222222222222,\"#7201a8\"],[0.3333333333333333,\"#9c179e\"],[0.4444444444444444,\"#bd3786\"],[0.5555555555555556,\"#d8576b\"],[0.6666666666666666,\"#ed7953\"],[0.7777777777777778,\"#fb9f3a\"],[0.8888888888888888,\"#fdca26\"],[1.0,\"#f0f921\"]]}],\"heatmap\":[{\"type\":\"heatmap\",\"colorbar\":{\"outlinewidth\":0,\"ticks\":\"\"},\"colorscale\":[[0.0,\"#0d0887\"],[0.1111111111111111,\"#46039f\"],[0.2222222222222222,\"#7201a8\"],[0.3333333333333333,\"#9c179e\"],[0.4444444444444444,\"#bd3786\"],[0.5555555555555556,\"#d8576b\"],[0.6666666666666666,\"#ed7953\"],[0.7777777777777778,\"#fb9f3a\"],[0.8888888888888888,\"#fdca26\"],[1.0,\"#f0f921\"]]}],\"heatmapgl\":[{\"type\":\"heatmapgl\",\"colorbar\":{\"outlinewidth\":0,\"ticks\":\"\"},\"colorscale\":[[0.0,\"#0d0887\"],[0.1111111111111111,\"#46039f\"],[0.2222222222222222,\"#7201a8\"],[0.3333333333333333,\"#9c179e\"],[0.4444444444444444,\"#bd3786\"],[0.5555555555555556,\"#d8576b\"],[0.6666666666666666,\"#ed7953\"],[0.7777777777777778,\"#fb9f3a\"],[0.8888888888888888,\"#fdca26\"],[1.0,\"#f0f921\"]]}],\"contourcarpet\":[{\"type\":\"contourcarpet\",\"colorbar\":{\"outlinewidth\":0,\"ticks\":\"\"}}],\"contour\":[{\"type\":\"contour\",\"colorbar\":{\"outlinewidth\":0,\"ticks\":\"\"},\"colorscale\":[[0.0,\"#0d0887\"],[0.1111111111111111,\"#46039f\"],[0.2222222222222222,\"#7201a8\"],[0.3333333333333333,\"#9c179e\"],[0.4444444444444444,\"#bd3786\"],[0.5555555555555556,\"#d8576b\"],[0.6666666666666666,\"#ed7953\"],[0.7777777777777778,\"#fb9f3a\"],[0.8888888888888888,\"#fdca26\"],[1.0,\"#f0f921\"]]}],\"surface\":[{\"type\":\"surface\",\"colorbar\":{\"outlinewidth\":0,\"ticks\":\"\"},\"colorscale\":[[0.0,\"#0d0887\"],[0.1111111111111111,\"#46039f\"],[0.2222222222222222,\"#7201a8\"],[0.3333333333333333,\"#9c179e\"],[0.4444444444444444,\"#bd3786\"],[0.5555555555555556,\"#d8576b\"],[0.6666666666666666,\"#ed7953\"],[0.7777777777777778,\"#fb9f3a\"],[0.8888888888888888,\"#fdca26\"],[1.0,\"#f0f921\"]]}],\"mesh3d\":[{\"type\":\"mesh3d\",\"colorbar\":{\"outlinewidth\":0,\"ticks\":\"\"}}],\"scatter\":[{\"fillpattern\":{\"fillmode\":\"overlay\",\"size\":10,\"solidity\":0.2},\"type\":\"scatter\"}],\"parcoords\":[{\"type\":\"parcoords\",\"line\":{\"colorbar\":{\"outlinewidth\":0,\"ticks\":\"\"}}}],\"scatterpolargl\":[{\"type\":\"scatterpolargl\",\"marker\":{\"colorbar\":{\"outlinewidth\":0,\"ticks\":\"\"}}}],\"bar\":[{\"error_x\":{\"color\":\"#2a3f5f\"},\"error_y\":{\"color\":\"#2a3f5f\"},\"marker\":{\"line\":{\"color\":\"#E5ECF6\",\"width\":0.5},\"pattern\":{\"fillmode\":\"overlay\",\"size\":10,\"solidity\":0.2}},\"type\":\"bar\"}],\"scattergeo\":[{\"type\":\"scattergeo\",\"marker\":{\"colorbar\":{\"outlinewidth\":0,\"ticks\":\"\"}}}],\"scatterpolar\":[{\"type\":\"scatterpolar\",\"marker\":{\"colorbar\":{\"outlinewidth\":0,\"ticks\":\"\"}}}],\"histogram\":[{\"marker\":{\"pattern\":{\"fillmode\":\"overlay\",\"size\":10,\"solidity\":0.2}},\"type\":\"histogram\"}],\"scattergl\":[{\"type\":\"scattergl\",\"marker\":{\"colorbar\":{\"outlinewidth\":0,\"ticks\":\"\"}}}],\"scatter3d\":[{\"type\":\"scatter3d\",\"line\":{\"colorbar\":{\"outlinewidth\":0,\"ticks\":\"\"}},\"marker\":{\"colorbar\":{\"outlinewidth\":0,\"ticks\":\"\"}}}],\"scattermapbox\":[{\"type\":\"scattermapbox\",\"marker\":{\"colorbar\":{\"outlinewidth\":0,\"ticks\":\"\"}}}],\"scatterternary\":[{\"type\":\"scatterternary\",\"marker\":{\"colorbar\":{\"outlinewidth\":0,\"ticks\":\"\"}}}],\"scattercarpet\":[{\"type\":\"scattercarpet\",\"marker\":{\"colorbar\":{\"outlinewidth\":0,\"ticks\":\"\"}}}],\"carpet\":[{\"aaxis\":{\"endlinecolor\":\"#2a3f5f\",\"gridcolor\":\"white\",\"linecolor\":\"white\",\"minorgridcolor\":\"white\",\"startlinecolor\":\"#2a3f5f\"},\"baxis\":{\"endlinecolor\":\"#2a3f5f\",\"gridcolor\":\"white\",\"linecolor\":\"white\",\"minorgridcolor\":\"white\",\"startlinecolor\":\"#2a3f5f\"},\"type\":\"carpet\"}],\"table\":[{\"cells\":{\"fill\":{\"color\":\"#EBF0F8\"},\"line\":{\"color\":\"white\"}},\"header\":{\"fill\":{\"color\":\"#C8D4E3\"},\"line\":{\"color\":\"white\"}},\"type\":\"table\"}],\"barpolar\":[{\"marker\":{\"line\":{\"color\":\"#E5ECF6\",\"width\":0.5},\"pattern\":{\"fillmode\":\"overlay\",\"size\":10,\"solidity\":0.2}},\"type\":\"barpolar\"}],\"pie\":[{\"automargin\":true,\"type\":\"pie\"}]},\"layout\":{\"autotypenumbers\":\"strict\",\"colorway\":[\"#636efa\",\"#EF553B\",\"#00cc96\",\"#ab63fa\",\"#FFA15A\",\"#19d3f3\",\"#FF6692\",\"#B6E880\",\"#FF97FF\",\"#FECB52\"],\"font\":{\"color\":\"#2a3f5f\"},\"hovermode\":\"closest\",\"hoverlabel\":{\"align\":\"left\"},\"paper_bgcolor\":\"white\",\"plot_bgcolor\":\"#E5ECF6\",\"polar\":{\"bgcolor\":\"#E5ECF6\",\"angularaxis\":{\"gridcolor\":\"white\",\"linecolor\":\"white\",\"ticks\":\"\"},\"radialaxis\":{\"gridcolor\":\"white\",\"linecolor\":\"white\",\"ticks\":\"\"}},\"ternary\":{\"bgcolor\":\"#E5ECF6\",\"aaxis\":{\"gridcolor\":\"white\",\"linecolor\":\"white\",\"ticks\":\"\"},\"baxis\":{\"gridcolor\":\"white\",\"linecolor\":\"white\",\"ticks\":\"\"},\"caxis\":{\"gridcolor\":\"white\",\"linecolor\":\"white\",\"ticks\":\"\"}},\"coloraxis\":{\"colorbar\":{\"outlinewidth\":0,\"ticks\":\"\"}},\"colorscale\":{\"sequential\":[[0.0,\"#0d0887\"],[0.1111111111111111,\"#46039f\"],[0.2222222222222222,\"#7201a8\"],[0.3333333333333333,\"#9c179e\"],[0.4444444444444444,\"#bd3786\"],[0.5555555555555556,\"#d8576b\"],[0.6666666666666666,\"#ed7953\"],[0.7777777777777778,\"#fb9f3a\"],[0.8888888888888888,\"#fdca26\"],[1.0,\"#f0f921\"]],\"sequentialminus\":[[0.0,\"#0d0887\"],[0.1111111111111111,\"#46039f\"],[0.2222222222222222,\"#7201a8\"],[0.3333333333333333,\"#9c179e\"],[0.4444444444444444,\"#bd3786\"],[0.5555555555555556,\"#d8576b\"],[0.6666666666666666,\"#ed7953\"],[0.7777777777777778,\"#fb9f3a\"],[0.8888888888888888,\"#fdca26\"],[1.0,\"#f0f921\"]],\"diverging\":[[0,\"#8e0152\"],[0.1,\"#c51b7d\"],[0.2,\"#de77ae\"],[0.3,\"#f1b6da\"],[0.4,\"#fde0ef\"],[0.5,\"#f7f7f7\"],[0.6,\"#e6f5d0\"],[0.7,\"#b8e186\"],[0.8,\"#7fbc41\"],[0.9,\"#4d9221\"],[1,\"#276419\"]]},\"xaxis\":{\"gridcolor\":\"white\",\"linecolor\":\"white\",\"ticks\":\"\",\"title\":{\"standoff\":15},\"zerolinecolor\":\"white\",\"automargin\":true,\"zerolinewidth\":2},\"yaxis\":{\"gridcolor\":\"white\",\"linecolor\":\"white\",\"ticks\":\"\",\"title\":{\"standoff\":15},\"zerolinecolor\":\"white\",\"automargin\":true,\"zerolinewidth\":2},\"scene\":{\"xaxis\":{\"backgroundcolor\":\"#E5ECF6\",\"gridcolor\":\"white\",\"linecolor\":\"white\",\"showbackground\":true,\"ticks\":\"\",\"zerolinecolor\":\"white\",\"gridwidth\":2},\"yaxis\":{\"backgroundcolor\":\"#E5ECF6\",\"gridcolor\":\"white\",\"linecolor\":\"white\",\"showbackground\":true,\"ticks\":\"\",\"zerolinecolor\":\"white\",\"gridwidth\":2},\"zaxis\":{\"backgroundcolor\":\"#E5ECF6\",\"gridcolor\":\"white\",\"linecolor\":\"white\",\"showbackground\":true,\"ticks\":\"\",\"zerolinecolor\":\"white\",\"gridwidth\":2}},\"shapedefaults\":{\"line\":{\"color\":\"#2a3f5f\"}},\"annotationdefaults\":{\"arrowcolor\":\"#2a3f5f\",\"arrowhead\":0,\"arrowwidth\":1},\"geo\":{\"bgcolor\":\"white\",\"landcolor\":\"#E5ECF6\",\"subunitcolor\":\"white\",\"showland\":true,\"showlakes\":true,\"lakecolor\":\"white\"},\"title\":{\"x\":0.05},\"mapbox\":{\"style\":\"light\"}}},\"xaxis\":{\"anchor\":\"y\",\"domain\":[0.0,1.0],\"title\":{\"text\":\"\\uc0c1\\ud638\\uba85\"}},\"yaxis\":{\"anchor\":\"x\",\"domain\":[0.0,1.0],\"title\":{\"text\":\"12\\uc6d4 \\ub9e4\\ucd9c\\uc561\"}},\"legend\":{\"tracegroupgap\":0},\"margin\":{\"t\":60},\"barmode\":\"relative\"},                        {\"responsive\": true}                    ).then(function(){\n",
       "                            \n",
       "var gd = document.getElementById('3fa584ce-dec7-4727-a60c-41b05ea64b39');\n",
       "var x = new MutationObserver(function (mutations, observer) {{\n",
       "        var display = window.getComputedStyle(gd).display;\n",
       "        if (!display || display === 'none') {{\n",
       "            console.log([gd, 'removed!']);\n",
       "            Plotly.purge(gd);\n",
       "            observer.disconnect();\n",
       "        }}\n",
       "}});\n",
       "\n",
       "// Listen for the removal of the full notebook cells\n",
       "var notebookContainer = gd.closest('#notebook-container');\n",
       "if (notebookContainer) {{\n",
       "    x.observe(notebookContainer, {childList: true});\n",
       "}}\n",
       "\n",
       "// Listen for the clearing of the current output cell\n",
       "var outputEl = gd.closest('.output');\n",
       "if (outputEl) {{\n",
       "    x.observe(outputEl, {childList: true});\n",
       "}}\n",
       "\n",
       "                        })                };                });            </script>        </div>"
      ]
     },
     "metadata": {},
     "output_type": "display_data"
    }
   ],
   "source": [
    "bar_12_df = result_df.sort_values('12월 매출액', ascending=False)\n",
    "px.bar(bar_12_df, x='상호명', y=\"12월 매출액\")"
   ]
  },
  {
   "cell_type": "code",
   "execution_count": 251,
   "id": "a3963d0c",
   "metadata": {},
   "outputs": [
    {
     "data": {
      "application/vnd.plotly.v1+json": {
       "config": {
        "plotlyServerURL": "https://plotly.com"
       },
       "data": [
        {
         "alignmentgroup": "True",
         "hovertemplate": "상호명=%{x}<br>1월 매출액=%{y}<extra></extra>",
         "legendgroup": "",
         "marker": {
          "color": "#636efa",
          "pattern": {
           "shape": ""
          }
         },
         "name": "",
         "offsetgroup": "",
         "orientation": "v",
         "showlegend": false,
         "textposition": "auto",
         "type": "bar",
         "x": [
          "슬로우야드 바비큐",
          "감성타코(홍대점)",
          "치킨앤카레군",
          "덩크트레이",
          "빌리더다이닝",
          "토모토카페",
          "크레이지카츠",
          "바삭마차(망원시장점)",
          "비스트로에버",
          "이오카츠공덕점",
          "스푼필라프 홍대점",
          "광야",
          "테이커테이블",
          "몰토베네 합정",
          "루나씨엘로",
          "소코아",
          "멕시코다이너",
          "이응이응이응이응-table",
          "해물기와",
          "헤키",
          "마루돈까스",
          "엘리스리틀이태리",
          "연남동와이탑",
          "살롱드마르잔",
          "kitchen 485",
          "브라운돈까스 상암MBC몰",
          "토파",
          "스프링비스트로",
          "빠네돌체",
          "에트나퓨",
          "붉은낙타",
          "비볼리",
          "지알로파스타바",
          "쥬벤쿠바 연남점",
          "흑심",
          "소나무연남",
          "블루쿠치나",
          "명동왕돈까스 직영점",
          "진돈",
          "우애돈카츠 연남점",
          "홍대클라쓰",
          "코코가츠",
          "돈카츠 준",
          "수엠부",
          "까사라티나",
          "요나끼",
          "감성카츠",
          "쿠바킹",
          "벨라또띠아",
          "포트 앤 나달",
          "오이도",
          "카페루치아",
          "아르고보니",
          "앨리스 바이 미니멜츠",
          "묘한식탁",
          "엽전식당 연남점",
          "인더썬",
          "드렁큰비건",
          "배아또"
         ],
         "xaxis": "x",
         "y": [
          79949000,
          63212500,
          15867100,
          12530600,
          11635000,
          11420400,
          9436000,
          7789100,
          7445000,
          7180000,
          7122000,
          6466000,
          6411500,
          6398000,
          6208000,
          6162400,
          5655900,
          5438000,
          4943000,
          4456000,
          4136000,
          4134000,
          3762000,
          3684000,
          3624900,
          3483800,
          2989000,
          2950000,
          2667500,
          2523200,
          2216000,
          2034500,
          2024500,
          1770000,
          1601500,
          1530000,
          1444500,
          1435000,
          1430500,
          1278500,
          1252000,
          1228500,
          1124800,
          933600,
          864400,
          862000,
          840100,
          838000,
          812000,
          807000,
          736500,
          728100,
          701700,
          662900,
          602800,
          463500,
          373700,
          337000,
          311000
         ],
         "yaxis": "y"
        }
       ],
       "layout": {
        "barmode": "relative",
        "legend": {
         "tracegroupgap": 0
        },
        "margin": {
         "t": 60
        },
        "template": {
         "data": {
          "bar": [
           {
            "error_x": {
             "color": "#2a3f5f"
            },
            "error_y": {
             "color": "#2a3f5f"
            },
            "marker": {
             "line": {
              "color": "#E5ECF6",
              "width": 0.5
             },
             "pattern": {
              "fillmode": "overlay",
              "size": 10,
              "solidity": 0.2
             }
            },
            "type": "bar"
           }
          ],
          "barpolar": [
           {
            "marker": {
             "line": {
              "color": "#E5ECF6",
              "width": 0.5
             },
             "pattern": {
              "fillmode": "overlay",
              "size": 10,
              "solidity": 0.2
             }
            },
            "type": "barpolar"
           }
          ],
          "carpet": [
           {
            "aaxis": {
             "endlinecolor": "#2a3f5f",
             "gridcolor": "white",
             "linecolor": "white",
             "minorgridcolor": "white",
             "startlinecolor": "#2a3f5f"
            },
            "baxis": {
             "endlinecolor": "#2a3f5f",
             "gridcolor": "white",
             "linecolor": "white",
             "minorgridcolor": "white",
             "startlinecolor": "#2a3f5f"
            },
            "type": "carpet"
           }
          ],
          "choropleth": [
           {
            "colorbar": {
             "outlinewidth": 0,
             "ticks": ""
            },
            "type": "choropleth"
           }
          ],
          "contour": [
           {
            "colorbar": {
             "outlinewidth": 0,
             "ticks": ""
            },
            "colorscale": [
             [
              0,
              "#0d0887"
             ],
             [
              0.1111111111111111,
              "#46039f"
             ],
             [
              0.2222222222222222,
              "#7201a8"
             ],
             [
              0.3333333333333333,
              "#9c179e"
             ],
             [
              0.4444444444444444,
              "#bd3786"
             ],
             [
              0.5555555555555556,
              "#d8576b"
             ],
             [
              0.6666666666666666,
              "#ed7953"
             ],
             [
              0.7777777777777778,
              "#fb9f3a"
             ],
             [
              0.8888888888888888,
              "#fdca26"
             ],
             [
              1,
              "#f0f921"
             ]
            ],
            "type": "contour"
           }
          ],
          "contourcarpet": [
           {
            "colorbar": {
             "outlinewidth": 0,
             "ticks": ""
            },
            "type": "contourcarpet"
           }
          ],
          "heatmap": [
           {
            "colorbar": {
             "outlinewidth": 0,
             "ticks": ""
            },
            "colorscale": [
             [
              0,
              "#0d0887"
             ],
             [
              0.1111111111111111,
              "#46039f"
             ],
             [
              0.2222222222222222,
              "#7201a8"
             ],
             [
              0.3333333333333333,
              "#9c179e"
             ],
             [
              0.4444444444444444,
              "#bd3786"
             ],
             [
              0.5555555555555556,
              "#d8576b"
             ],
             [
              0.6666666666666666,
              "#ed7953"
             ],
             [
              0.7777777777777778,
              "#fb9f3a"
             ],
             [
              0.8888888888888888,
              "#fdca26"
             ],
             [
              1,
              "#f0f921"
             ]
            ],
            "type": "heatmap"
           }
          ],
          "heatmapgl": [
           {
            "colorbar": {
             "outlinewidth": 0,
             "ticks": ""
            },
            "colorscale": [
             [
              0,
              "#0d0887"
             ],
             [
              0.1111111111111111,
              "#46039f"
             ],
             [
              0.2222222222222222,
              "#7201a8"
             ],
             [
              0.3333333333333333,
              "#9c179e"
             ],
             [
              0.4444444444444444,
              "#bd3786"
             ],
             [
              0.5555555555555556,
              "#d8576b"
             ],
             [
              0.6666666666666666,
              "#ed7953"
             ],
             [
              0.7777777777777778,
              "#fb9f3a"
             ],
             [
              0.8888888888888888,
              "#fdca26"
             ],
             [
              1,
              "#f0f921"
             ]
            ],
            "type": "heatmapgl"
           }
          ],
          "histogram": [
           {
            "marker": {
             "pattern": {
              "fillmode": "overlay",
              "size": 10,
              "solidity": 0.2
             }
            },
            "type": "histogram"
           }
          ],
          "histogram2d": [
           {
            "colorbar": {
             "outlinewidth": 0,
             "ticks": ""
            },
            "colorscale": [
             [
              0,
              "#0d0887"
             ],
             [
              0.1111111111111111,
              "#46039f"
             ],
             [
              0.2222222222222222,
              "#7201a8"
             ],
             [
              0.3333333333333333,
              "#9c179e"
             ],
             [
              0.4444444444444444,
              "#bd3786"
             ],
             [
              0.5555555555555556,
              "#d8576b"
             ],
             [
              0.6666666666666666,
              "#ed7953"
             ],
             [
              0.7777777777777778,
              "#fb9f3a"
             ],
             [
              0.8888888888888888,
              "#fdca26"
             ],
             [
              1,
              "#f0f921"
             ]
            ],
            "type": "histogram2d"
           }
          ],
          "histogram2dcontour": [
           {
            "colorbar": {
             "outlinewidth": 0,
             "ticks": ""
            },
            "colorscale": [
             [
              0,
              "#0d0887"
             ],
             [
              0.1111111111111111,
              "#46039f"
             ],
             [
              0.2222222222222222,
              "#7201a8"
             ],
             [
              0.3333333333333333,
              "#9c179e"
             ],
             [
              0.4444444444444444,
              "#bd3786"
             ],
             [
              0.5555555555555556,
              "#d8576b"
             ],
             [
              0.6666666666666666,
              "#ed7953"
             ],
             [
              0.7777777777777778,
              "#fb9f3a"
             ],
             [
              0.8888888888888888,
              "#fdca26"
             ],
             [
              1,
              "#f0f921"
             ]
            ],
            "type": "histogram2dcontour"
           }
          ],
          "mesh3d": [
           {
            "colorbar": {
             "outlinewidth": 0,
             "ticks": ""
            },
            "type": "mesh3d"
           }
          ],
          "parcoords": [
           {
            "line": {
             "colorbar": {
              "outlinewidth": 0,
              "ticks": ""
             }
            },
            "type": "parcoords"
           }
          ],
          "pie": [
           {
            "automargin": true,
            "type": "pie"
           }
          ],
          "scatter": [
           {
            "fillpattern": {
             "fillmode": "overlay",
             "size": 10,
             "solidity": 0.2
            },
            "type": "scatter"
           }
          ],
          "scatter3d": [
           {
            "line": {
             "colorbar": {
              "outlinewidth": 0,
              "ticks": ""
             }
            },
            "marker": {
             "colorbar": {
              "outlinewidth": 0,
              "ticks": ""
             }
            },
            "type": "scatter3d"
           }
          ],
          "scattercarpet": [
           {
            "marker": {
             "colorbar": {
              "outlinewidth": 0,
              "ticks": ""
             }
            },
            "type": "scattercarpet"
           }
          ],
          "scattergeo": [
           {
            "marker": {
             "colorbar": {
              "outlinewidth": 0,
              "ticks": ""
             }
            },
            "type": "scattergeo"
           }
          ],
          "scattergl": [
           {
            "marker": {
             "colorbar": {
              "outlinewidth": 0,
              "ticks": ""
             }
            },
            "type": "scattergl"
           }
          ],
          "scattermapbox": [
           {
            "marker": {
             "colorbar": {
              "outlinewidth": 0,
              "ticks": ""
             }
            },
            "type": "scattermapbox"
           }
          ],
          "scatterpolar": [
           {
            "marker": {
             "colorbar": {
              "outlinewidth": 0,
              "ticks": ""
             }
            },
            "type": "scatterpolar"
           }
          ],
          "scatterpolargl": [
           {
            "marker": {
             "colorbar": {
              "outlinewidth": 0,
              "ticks": ""
             }
            },
            "type": "scatterpolargl"
           }
          ],
          "scatterternary": [
           {
            "marker": {
             "colorbar": {
              "outlinewidth": 0,
              "ticks": ""
             }
            },
            "type": "scatterternary"
           }
          ],
          "surface": [
           {
            "colorbar": {
             "outlinewidth": 0,
             "ticks": ""
            },
            "colorscale": [
             [
              0,
              "#0d0887"
             ],
             [
              0.1111111111111111,
              "#46039f"
             ],
             [
              0.2222222222222222,
              "#7201a8"
             ],
             [
              0.3333333333333333,
              "#9c179e"
             ],
             [
              0.4444444444444444,
              "#bd3786"
             ],
             [
              0.5555555555555556,
              "#d8576b"
             ],
             [
              0.6666666666666666,
              "#ed7953"
             ],
             [
              0.7777777777777778,
              "#fb9f3a"
             ],
             [
              0.8888888888888888,
              "#fdca26"
             ],
             [
              1,
              "#f0f921"
             ]
            ],
            "type": "surface"
           }
          ],
          "table": [
           {
            "cells": {
             "fill": {
              "color": "#EBF0F8"
             },
             "line": {
              "color": "white"
             }
            },
            "header": {
             "fill": {
              "color": "#C8D4E3"
             },
             "line": {
              "color": "white"
             }
            },
            "type": "table"
           }
          ]
         },
         "layout": {
          "annotationdefaults": {
           "arrowcolor": "#2a3f5f",
           "arrowhead": 0,
           "arrowwidth": 1
          },
          "autotypenumbers": "strict",
          "coloraxis": {
           "colorbar": {
            "outlinewidth": 0,
            "ticks": ""
           }
          },
          "colorscale": {
           "diverging": [
            [
             0,
             "#8e0152"
            ],
            [
             0.1,
             "#c51b7d"
            ],
            [
             0.2,
             "#de77ae"
            ],
            [
             0.3,
             "#f1b6da"
            ],
            [
             0.4,
             "#fde0ef"
            ],
            [
             0.5,
             "#f7f7f7"
            ],
            [
             0.6,
             "#e6f5d0"
            ],
            [
             0.7,
             "#b8e186"
            ],
            [
             0.8,
             "#7fbc41"
            ],
            [
             0.9,
             "#4d9221"
            ],
            [
             1,
             "#276419"
            ]
           ],
           "sequential": [
            [
             0,
             "#0d0887"
            ],
            [
             0.1111111111111111,
             "#46039f"
            ],
            [
             0.2222222222222222,
             "#7201a8"
            ],
            [
             0.3333333333333333,
             "#9c179e"
            ],
            [
             0.4444444444444444,
             "#bd3786"
            ],
            [
             0.5555555555555556,
             "#d8576b"
            ],
            [
             0.6666666666666666,
             "#ed7953"
            ],
            [
             0.7777777777777778,
             "#fb9f3a"
            ],
            [
             0.8888888888888888,
             "#fdca26"
            ],
            [
             1,
             "#f0f921"
            ]
           ],
           "sequentialminus": [
            [
             0,
             "#0d0887"
            ],
            [
             0.1111111111111111,
             "#46039f"
            ],
            [
             0.2222222222222222,
             "#7201a8"
            ],
            [
             0.3333333333333333,
             "#9c179e"
            ],
            [
             0.4444444444444444,
             "#bd3786"
            ],
            [
             0.5555555555555556,
             "#d8576b"
            ],
            [
             0.6666666666666666,
             "#ed7953"
            ],
            [
             0.7777777777777778,
             "#fb9f3a"
            ],
            [
             0.8888888888888888,
             "#fdca26"
            ],
            [
             1,
             "#f0f921"
            ]
           ]
          },
          "colorway": [
           "#636efa",
           "#EF553B",
           "#00cc96",
           "#ab63fa",
           "#FFA15A",
           "#19d3f3",
           "#FF6692",
           "#B6E880",
           "#FF97FF",
           "#FECB52"
          ],
          "font": {
           "color": "#2a3f5f"
          },
          "geo": {
           "bgcolor": "white",
           "lakecolor": "white",
           "landcolor": "#E5ECF6",
           "showlakes": true,
           "showland": true,
           "subunitcolor": "white"
          },
          "hoverlabel": {
           "align": "left"
          },
          "hovermode": "closest",
          "mapbox": {
           "style": "light"
          },
          "paper_bgcolor": "white",
          "plot_bgcolor": "#E5ECF6",
          "polar": {
           "angularaxis": {
            "gridcolor": "white",
            "linecolor": "white",
            "ticks": ""
           },
           "bgcolor": "#E5ECF6",
           "radialaxis": {
            "gridcolor": "white",
            "linecolor": "white",
            "ticks": ""
           }
          },
          "scene": {
           "xaxis": {
            "backgroundcolor": "#E5ECF6",
            "gridcolor": "white",
            "gridwidth": 2,
            "linecolor": "white",
            "showbackground": true,
            "ticks": "",
            "zerolinecolor": "white"
           },
           "yaxis": {
            "backgroundcolor": "#E5ECF6",
            "gridcolor": "white",
            "gridwidth": 2,
            "linecolor": "white",
            "showbackground": true,
            "ticks": "",
            "zerolinecolor": "white"
           },
           "zaxis": {
            "backgroundcolor": "#E5ECF6",
            "gridcolor": "white",
            "gridwidth": 2,
            "linecolor": "white",
            "showbackground": true,
            "ticks": "",
            "zerolinecolor": "white"
           }
          },
          "shapedefaults": {
           "line": {
            "color": "#2a3f5f"
           }
          },
          "ternary": {
           "aaxis": {
            "gridcolor": "white",
            "linecolor": "white",
            "ticks": ""
           },
           "baxis": {
            "gridcolor": "white",
            "linecolor": "white",
            "ticks": ""
           },
           "bgcolor": "#E5ECF6",
           "caxis": {
            "gridcolor": "white",
            "linecolor": "white",
            "ticks": ""
           }
          },
          "title": {
           "x": 0.05
          },
          "xaxis": {
           "automargin": true,
           "gridcolor": "white",
           "linecolor": "white",
           "ticks": "",
           "title": {
            "standoff": 15
           },
           "zerolinecolor": "white",
           "zerolinewidth": 2
          },
          "yaxis": {
           "automargin": true,
           "gridcolor": "white",
           "linecolor": "white",
           "ticks": "",
           "title": {
            "standoff": 15
           },
           "zerolinecolor": "white",
           "zerolinewidth": 2
          }
         }
        },
        "xaxis": {
         "anchor": "y",
         "domain": [
          0,
          1
         ],
         "title": {
          "text": "상호명"
         }
        },
        "yaxis": {
         "anchor": "x",
         "domain": [
          0,
          1
         ],
         "title": {
          "text": "1월 매출액"
         }
        }
       }
      },
      "text/html": [
       "<div>                            <div id=\"18db6498-775a-40de-8c64-e7adbce2c1a8\" class=\"plotly-graph-div\" style=\"height:525px; width:100%;\"></div>            <script type=\"text/javascript\">                require([\"plotly\"], function(Plotly) {                    window.PLOTLYENV=window.PLOTLYENV || {};                                    if (document.getElementById(\"18db6498-775a-40de-8c64-e7adbce2c1a8\")) {                    Plotly.newPlot(                        \"18db6498-775a-40de-8c64-e7adbce2c1a8\",                        [{\"alignmentgroup\":\"True\",\"hovertemplate\":\"\\uc0c1\\ud638\\uba85=%{x}<br>1\\uc6d4 \\ub9e4\\ucd9c\\uc561=%{y}<extra></extra>\",\"legendgroup\":\"\",\"marker\":{\"color\":\"#636efa\",\"pattern\":{\"shape\":\"\"}},\"name\":\"\",\"offsetgroup\":\"\",\"orientation\":\"v\",\"showlegend\":false,\"textposition\":\"auto\",\"x\":[\"\\uc2ac\\ub85c\\uc6b0\\uc57c\\ub4dc \\ubc14\\ube44\\ud050\",\"\\uac10\\uc131\\ud0c0\\ucf54(\\ud64d\\ub300\\uc810)\",\"\\uce58\\ud0a8\\uc564\\uce74\\ub808\\uad70\",\"\\ub369\\ud06c\\ud2b8\\ub808\\uc774\",\"\\ube4c\\ub9ac\\ub354\\ub2e4\\uc774\\ub2dd\",\"\\ud1a0\\ubaa8\\ud1a0\\uce74\\ud398\",\"\\ud06c\\ub808\\uc774\\uc9c0\\uce74\\uce20\",\"\\ubc14\\uc0ad\\ub9c8\\ucc28(\\ub9dd\\uc6d0\\uc2dc\\uc7a5\\uc810)\",\"\\ube44\\uc2a4\\ud2b8\\ub85c\\uc5d0\\ubc84\",\"\\uc774\\uc624\\uce74\\uce20\\uacf5\\ub355\\uc810\",\"\\uc2a4\\ud47c\\ud544\\ub77c\\ud504 \\ud64d\\ub300\\uc810\",\"\\uad11\\uc57c\",\"\\ud14c\\uc774\\ucee4\\ud14c\\uc774\\ube14\",\"\\ubab0\\ud1a0\\ubca0\\ub124 \\ud569\\uc815\",\"\\ub8e8\\ub098\\uc528\\uc5d8\\ub85c\",\"\\uc18c\\ucf54\\uc544\",\"\\uba55\\uc2dc\\ucf54\\ub2e4\\uc774\\ub108\",\"\\uc774\\uc751\\uc774\\uc751\\uc774\\uc751\\uc774\\uc751-table\",\"\\ud574\\ubb3c\\uae30\\uc640\",\"\\ud5e4\\ud0a4\",\"\\ub9c8\\ub8e8\\ub3c8\\uae4c\\uc2a4\",\"\\uc5d8\\ub9ac\\uc2a4\\ub9ac\\ud2c0\\uc774\\ud0dc\\ub9ac\",\"\\uc5f0\\ub0a8\\ub3d9\\uc640\\uc774\\ud0d1\",\"\\uc0b4\\ub871\\ub4dc\\ub9c8\\ub974\\uc794\",\"kitchen 485\",\"\\ube0c\\ub77c\\uc6b4\\ub3c8\\uae4c\\uc2a4 \\uc0c1\\uc554MBC\\ubab0\",\"\\ud1a0\\ud30c\",\"\\uc2a4\\ud504\\ub9c1\\ube44\\uc2a4\\ud2b8\\ub85c\",\"\\ube60\\ub124\\ub3cc\\uccb4\",\"\\uc5d0\\ud2b8\\ub098\\ud4e8\",\"\\ubd89\\uc740\\ub099\\ud0c0\",\"\\ube44\\ubcfc\\ub9ac\",\"\\uc9c0\\uc54c\\ub85c\\ud30c\\uc2a4\\ud0c0\\ubc14\",\"\\uc96c\\ubca4\\ucfe0\\ubc14 \\uc5f0\\ub0a8\\uc810\",\"\\ud751\\uc2ec\",\"\\uc18c\\ub098\\ubb34\\uc5f0\\ub0a8\",\"\\ube14\\ub8e8\\ucfe0\\uce58\\ub098\",\"\\uba85\\ub3d9\\uc655\\ub3c8\\uae4c\\uc2a4 \\uc9c1\\uc601\\uc810\",\"\\uc9c4\\ub3c8\",\"\\uc6b0\\uc560\\ub3c8\\uce74\\uce20 \\uc5f0\\ub0a8\\uc810\",\"\\ud64d\\ub300\\ud074\\ub77c\\uc4f0\",\"\\ucf54\\ucf54\\uac00\\uce20\",\"\\ub3c8\\uce74\\uce20 \\uc900\",\"\\uc218\\uc5e0\\ubd80\",\"\\uae4c\\uc0ac\\ub77c\\ud2f0\\ub098\",\"\\uc694\\ub098\\ub07c\",\"\\uac10\\uc131\\uce74\\uce20\",\"\\ucfe0\\ubc14\\ud0b9\",\"\\ubca8\\ub77c\\ub610\\ub760\\uc544\",\"\\ud3ec\\ud2b8 \\uc564 \\ub098\\ub2ec\",\"\\uc624\\uc774\\ub3c4\",\"\\uce74\\ud398\\ub8e8\\uce58\\uc544\",\"\\uc544\\ub974\\uace0\\ubcf4\\ub2c8\",\"\\uc568\\ub9ac\\uc2a4 \\ubc14\\uc774 \\ubbf8\\ub2c8\\uba5c\\uce20\",\"\\ubb18\\ud55c\\uc2dd\\ud0c1\",\"\\uc5fd\\uc804\\uc2dd\\ub2f9 \\uc5f0\\ub0a8\\uc810\",\"\\uc778\\ub354\\uc36c\",\"\\ub4dc\\ub801\\ud070\\ube44\\uac74\",\"\\ubc30\\uc544\\ub610\"],\"xaxis\":\"x\",\"y\":[79949000,63212500,15867100,12530600,11635000,11420400,9436000,7789100,7445000,7180000,7122000,6466000,6411500,6398000,6208000,6162400,5655900,5438000,4943000,4456000,4136000,4134000,3762000,3684000,3624900,3483800,2989000,2950000,2667500,2523200,2216000,2034500,2024500,1770000,1601500,1530000,1444500,1435000,1430500,1278500,1252000,1228500,1124800,933600,864400,862000,840100,838000,812000,807000,736500,728100,701700,662900,602800,463500,373700,337000,311000],\"yaxis\":\"y\",\"type\":\"bar\"}],                        {\"template\":{\"data\":{\"histogram2dcontour\":[{\"type\":\"histogram2dcontour\",\"colorbar\":{\"outlinewidth\":0,\"ticks\":\"\"},\"colorscale\":[[0.0,\"#0d0887\"],[0.1111111111111111,\"#46039f\"],[0.2222222222222222,\"#7201a8\"],[0.3333333333333333,\"#9c179e\"],[0.4444444444444444,\"#bd3786\"],[0.5555555555555556,\"#d8576b\"],[0.6666666666666666,\"#ed7953\"],[0.7777777777777778,\"#fb9f3a\"],[0.8888888888888888,\"#fdca26\"],[1.0,\"#f0f921\"]]}],\"choropleth\":[{\"type\":\"choropleth\",\"colorbar\":{\"outlinewidth\":0,\"ticks\":\"\"}}],\"histogram2d\":[{\"type\":\"histogram2d\",\"colorbar\":{\"outlinewidth\":0,\"ticks\":\"\"},\"colorscale\":[[0.0,\"#0d0887\"],[0.1111111111111111,\"#46039f\"],[0.2222222222222222,\"#7201a8\"],[0.3333333333333333,\"#9c179e\"],[0.4444444444444444,\"#bd3786\"],[0.5555555555555556,\"#d8576b\"],[0.6666666666666666,\"#ed7953\"],[0.7777777777777778,\"#fb9f3a\"],[0.8888888888888888,\"#fdca26\"],[1.0,\"#f0f921\"]]}],\"heatmap\":[{\"type\":\"heatmap\",\"colorbar\":{\"outlinewidth\":0,\"ticks\":\"\"},\"colorscale\":[[0.0,\"#0d0887\"],[0.1111111111111111,\"#46039f\"],[0.2222222222222222,\"#7201a8\"],[0.3333333333333333,\"#9c179e\"],[0.4444444444444444,\"#bd3786\"],[0.5555555555555556,\"#d8576b\"],[0.6666666666666666,\"#ed7953\"],[0.7777777777777778,\"#fb9f3a\"],[0.8888888888888888,\"#fdca26\"],[1.0,\"#f0f921\"]]}],\"heatmapgl\":[{\"type\":\"heatmapgl\",\"colorbar\":{\"outlinewidth\":0,\"ticks\":\"\"},\"colorscale\":[[0.0,\"#0d0887\"],[0.1111111111111111,\"#46039f\"],[0.2222222222222222,\"#7201a8\"],[0.3333333333333333,\"#9c179e\"],[0.4444444444444444,\"#bd3786\"],[0.5555555555555556,\"#d8576b\"],[0.6666666666666666,\"#ed7953\"],[0.7777777777777778,\"#fb9f3a\"],[0.8888888888888888,\"#fdca26\"],[1.0,\"#f0f921\"]]}],\"contourcarpet\":[{\"type\":\"contourcarpet\",\"colorbar\":{\"outlinewidth\":0,\"ticks\":\"\"}}],\"contour\":[{\"type\":\"contour\",\"colorbar\":{\"outlinewidth\":0,\"ticks\":\"\"},\"colorscale\":[[0.0,\"#0d0887\"],[0.1111111111111111,\"#46039f\"],[0.2222222222222222,\"#7201a8\"],[0.3333333333333333,\"#9c179e\"],[0.4444444444444444,\"#bd3786\"],[0.5555555555555556,\"#d8576b\"],[0.6666666666666666,\"#ed7953\"],[0.7777777777777778,\"#fb9f3a\"],[0.8888888888888888,\"#fdca26\"],[1.0,\"#f0f921\"]]}],\"surface\":[{\"type\":\"surface\",\"colorbar\":{\"outlinewidth\":0,\"ticks\":\"\"},\"colorscale\":[[0.0,\"#0d0887\"],[0.1111111111111111,\"#46039f\"],[0.2222222222222222,\"#7201a8\"],[0.3333333333333333,\"#9c179e\"],[0.4444444444444444,\"#bd3786\"],[0.5555555555555556,\"#d8576b\"],[0.6666666666666666,\"#ed7953\"],[0.7777777777777778,\"#fb9f3a\"],[0.8888888888888888,\"#fdca26\"],[1.0,\"#f0f921\"]]}],\"mesh3d\":[{\"type\":\"mesh3d\",\"colorbar\":{\"outlinewidth\":0,\"ticks\":\"\"}}],\"scatter\":[{\"fillpattern\":{\"fillmode\":\"overlay\",\"size\":10,\"solidity\":0.2},\"type\":\"scatter\"}],\"parcoords\":[{\"type\":\"parcoords\",\"line\":{\"colorbar\":{\"outlinewidth\":0,\"ticks\":\"\"}}}],\"scatterpolargl\":[{\"type\":\"scatterpolargl\",\"marker\":{\"colorbar\":{\"outlinewidth\":0,\"ticks\":\"\"}}}],\"bar\":[{\"error_x\":{\"color\":\"#2a3f5f\"},\"error_y\":{\"color\":\"#2a3f5f\"},\"marker\":{\"line\":{\"color\":\"#E5ECF6\",\"width\":0.5},\"pattern\":{\"fillmode\":\"overlay\",\"size\":10,\"solidity\":0.2}},\"type\":\"bar\"}],\"scattergeo\":[{\"type\":\"scattergeo\",\"marker\":{\"colorbar\":{\"outlinewidth\":0,\"ticks\":\"\"}}}],\"scatterpolar\":[{\"type\":\"scatterpolar\",\"marker\":{\"colorbar\":{\"outlinewidth\":0,\"ticks\":\"\"}}}],\"histogram\":[{\"marker\":{\"pattern\":{\"fillmode\":\"overlay\",\"size\":10,\"solidity\":0.2}},\"type\":\"histogram\"}],\"scattergl\":[{\"type\":\"scattergl\",\"marker\":{\"colorbar\":{\"outlinewidth\":0,\"ticks\":\"\"}}}],\"scatter3d\":[{\"type\":\"scatter3d\",\"line\":{\"colorbar\":{\"outlinewidth\":0,\"ticks\":\"\"}},\"marker\":{\"colorbar\":{\"outlinewidth\":0,\"ticks\":\"\"}}}],\"scattermapbox\":[{\"type\":\"scattermapbox\",\"marker\":{\"colorbar\":{\"outlinewidth\":0,\"ticks\":\"\"}}}],\"scatterternary\":[{\"type\":\"scatterternary\",\"marker\":{\"colorbar\":{\"outlinewidth\":0,\"ticks\":\"\"}}}],\"scattercarpet\":[{\"type\":\"scattercarpet\",\"marker\":{\"colorbar\":{\"outlinewidth\":0,\"ticks\":\"\"}}}],\"carpet\":[{\"aaxis\":{\"endlinecolor\":\"#2a3f5f\",\"gridcolor\":\"white\",\"linecolor\":\"white\",\"minorgridcolor\":\"white\",\"startlinecolor\":\"#2a3f5f\"},\"baxis\":{\"endlinecolor\":\"#2a3f5f\",\"gridcolor\":\"white\",\"linecolor\":\"white\",\"minorgridcolor\":\"white\",\"startlinecolor\":\"#2a3f5f\"},\"type\":\"carpet\"}],\"table\":[{\"cells\":{\"fill\":{\"color\":\"#EBF0F8\"},\"line\":{\"color\":\"white\"}},\"header\":{\"fill\":{\"color\":\"#C8D4E3\"},\"line\":{\"color\":\"white\"}},\"type\":\"table\"}],\"barpolar\":[{\"marker\":{\"line\":{\"color\":\"#E5ECF6\",\"width\":0.5},\"pattern\":{\"fillmode\":\"overlay\",\"size\":10,\"solidity\":0.2}},\"type\":\"barpolar\"}],\"pie\":[{\"automargin\":true,\"type\":\"pie\"}]},\"layout\":{\"autotypenumbers\":\"strict\",\"colorway\":[\"#636efa\",\"#EF553B\",\"#00cc96\",\"#ab63fa\",\"#FFA15A\",\"#19d3f3\",\"#FF6692\",\"#B6E880\",\"#FF97FF\",\"#FECB52\"],\"font\":{\"color\":\"#2a3f5f\"},\"hovermode\":\"closest\",\"hoverlabel\":{\"align\":\"left\"},\"paper_bgcolor\":\"white\",\"plot_bgcolor\":\"#E5ECF6\",\"polar\":{\"bgcolor\":\"#E5ECF6\",\"angularaxis\":{\"gridcolor\":\"white\",\"linecolor\":\"white\",\"ticks\":\"\"},\"radialaxis\":{\"gridcolor\":\"white\",\"linecolor\":\"white\",\"ticks\":\"\"}},\"ternary\":{\"bgcolor\":\"#E5ECF6\",\"aaxis\":{\"gridcolor\":\"white\",\"linecolor\":\"white\",\"ticks\":\"\"},\"baxis\":{\"gridcolor\":\"white\",\"linecolor\":\"white\",\"ticks\":\"\"},\"caxis\":{\"gridcolor\":\"white\",\"linecolor\":\"white\",\"ticks\":\"\"}},\"coloraxis\":{\"colorbar\":{\"outlinewidth\":0,\"ticks\":\"\"}},\"colorscale\":{\"sequential\":[[0.0,\"#0d0887\"],[0.1111111111111111,\"#46039f\"],[0.2222222222222222,\"#7201a8\"],[0.3333333333333333,\"#9c179e\"],[0.4444444444444444,\"#bd3786\"],[0.5555555555555556,\"#d8576b\"],[0.6666666666666666,\"#ed7953\"],[0.7777777777777778,\"#fb9f3a\"],[0.8888888888888888,\"#fdca26\"],[1.0,\"#f0f921\"]],\"sequentialminus\":[[0.0,\"#0d0887\"],[0.1111111111111111,\"#46039f\"],[0.2222222222222222,\"#7201a8\"],[0.3333333333333333,\"#9c179e\"],[0.4444444444444444,\"#bd3786\"],[0.5555555555555556,\"#d8576b\"],[0.6666666666666666,\"#ed7953\"],[0.7777777777777778,\"#fb9f3a\"],[0.8888888888888888,\"#fdca26\"],[1.0,\"#f0f921\"]],\"diverging\":[[0,\"#8e0152\"],[0.1,\"#c51b7d\"],[0.2,\"#de77ae\"],[0.3,\"#f1b6da\"],[0.4,\"#fde0ef\"],[0.5,\"#f7f7f7\"],[0.6,\"#e6f5d0\"],[0.7,\"#b8e186\"],[0.8,\"#7fbc41\"],[0.9,\"#4d9221\"],[1,\"#276419\"]]},\"xaxis\":{\"gridcolor\":\"white\",\"linecolor\":\"white\",\"ticks\":\"\",\"title\":{\"standoff\":15},\"zerolinecolor\":\"white\",\"automargin\":true,\"zerolinewidth\":2},\"yaxis\":{\"gridcolor\":\"white\",\"linecolor\":\"white\",\"ticks\":\"\",\"title\":{\"standoff\":15},\"zerolinecolor\":\"white\",\"automargin\":true,\"zerolinewidth\":2},\"scene\":{\"xaxis\":{\"backgroundcolor\":\"#E5ECF6\",\"gridcolor\":\"white\",\"linecolor\":\"white\",\"showbackground\":true,\"ticks\":\"\",\"zerolinecolor\":\"white\",\"gridwidth\":2},\"yaxis\":{\"backgroundcolor\":\"#E5ECF6\",\"gridcolor\":\"white\",\"linecolor\":\"white\",\"showbackground\":true,\"ticks\":\"\",\"zerolinecolor\":\"white\",\"gridwidth\":2},\"zaxis\":{\"backgroundcolor\":\"#E5ECF6\",\"gridcolor\":\"white\",\"linecolor\":\"white\",\"showbackground\":true,\"ticks\":\"\",\"zerolinecolor\":\"white\",\"gridwidth\":2}},\"shapedefaults\":{\"line\":{\"color\":\"#2a3f5f\"}},\"annotationdefaults\":{\"arrowcolor\":\"#2a3f5f\",\"arrowhead\":0,\"arrowwidth\":1},\"geo\":{\"bgcolor\":\"white\",\"landcolor\":\"#E5ECF6\",\"subunitcolor\":\"white\",\"showland\":true,\"showlakes\":true,\"lakecolor\":\"white\"},\"title\":{\"x\":0.05},\"mapbox\":{\"style\":\"light\"}}},\"xaxis\":{\"anchor\":\"y\",\"domain\":[0.0,1.0],\"title\":{\"text\":\"\\uc0c1\\ud638\\uba85\"}},\"yaxis\":{\"anchor\":\"x\",\"domain\":[0.0,1.0],\"title\":{\"text\":\"1\\uc6d4 \\ub9e4\\ucd9c\\uc561\"}},\"legend\":{\"tracegroupgap\":0},\"margin\":{\"t\":60},\"barmode\":\"relative\"},                        {\"responsive\": true}                    ).then(function(){\n",
       "                            \n",
       "var gd = document.getElementById('18db6498-775a-40de-8c64-e7adbce2c1a8');\n",
       "var x = new MutationObserver(function (mutations, observer) {{\n",
       "        var display = window.getComputedStyle(gd).display;\n",
       "        if (!display || display === 'none') {{\n",
       "            console.log([gd, 'removed!']);\n",
       "            Plotly.purge(gd);\n",
       "            observer.disconnect();\n",
       "        }}\n",
       "}});\n",
       "\n",
       "// Listen for the removal of the full notebook cells\n",
       "var notebookContainer = gd.closest('#notebook-container');\n",
       "if (notebookContainer) {{\n",
       "    x.observe(notebookContainer, {childList: true});\n",
       "}}\n",
       "\n",
       "// Listen for the clearing of the current output cell\n",
       "var outputEl = gd.closest('.output');\n",
       "if (outputEl) {{\n",
       "    x.observe(outputEl, {childList: true});\n",
       "}}\n",
       "\n",
       "                        })                };                });            </script>        </div>"
      ]
     },
     "metadata": {},
     "output_type": "display_data"
    }
   ],
   "source": [
    "bar_1_df = result_df.sort_values('1월 매출액', ascending=False)\n",
    "px.bar(bar_1_df, x='상호명', y=\"1월 매출액\")"
   ]
  },
  {
   "cell_type": "code",
   "execution_count": 252,
   "id": "ebfd9caa",
   "metadata": {},
   "outputs": [
    {
     "data": {
      "application/vnd.plotly.v1+json": {
       "config": {
        "plotlyServerURL": "https://plotly.com"
       },
       "data": [
        {
         "alignmentgroup": "True",
         "hovertemplate": "상호명=%{x}<br>2월 매출액=%{y}<extra></extra>",
         "legendgroup": "",
         "marker": {
          "color": "#636efa",
          "pattern": {
           "shape": ""
          }
         },
         "name": "",
         "offsetgroup": "",
         "orientation": "v",
         "showlegend": false,
         "textposition": "auto",
         "type": "bar",
         "x": [
          "슬로우야드 바비큐",
          "감성타코(홍대점)",
          "덩크트레이",
          "치킨앤카레군",
          "토모토카페",
          "빌리더다이닝",
          "크레이지카츠",
          "바삭마차(망원시장점)",
          "비스트로에버",
          "스푼필라프 홍대점",
          "루나씨엘로",
          "멕시코다이너",
          "이오카츠공덕점",
          "테이커테이블",
          "몰토베네 합정",
          "연남동와이탑",
          "이응이응이응이응-table",
          "해물기와",
          "소코아",
          "엘리스리틀이태리",
          "헤키",
          "마루돈까스",
          "kitchen 485",
          "토파",
          "살롱드마르잔",
          "브라운돈까스 상암MBC몰",
          "스프링비스트로",
          "광야",
          "쥬벤쿠바 연남점",
          "빠네돌체",
          "에트나퓨",
          "붉은낙타",
          "소나무연남",
          "비볼리",
          "돈카츠 준",
          "지알로파스타바",
          "명동왕돈까스 직영점",
          "묘한식탁",
          "진돈",
          "흑심",
          "벨라또띠아",
          "블루쿠치나",
          "까사라티나",
          "코코가츠",
          "오이도",
          "감성카츠",
          "수엠부",
          "우애돈카츠 연남점",
          "카페루치아",
          "아르고보니",
          "홍대클라쓰",
          "엽전식당 연남점",
          "앨리스 바이 미니멜츠",
          "쿠바킹",
          "드렁큰비건",
          "요나끼",
          "배아또",
          "포트 앤 나달",
          "인더썬"
         ],
         "xaxis": "x",
         "y": [
          87765000,
          72623000,
          15468700,
          14799900,
          11803300,
          11733000,
          9062000,
          8614900,
          8591500,
          7969800,
          7405000,
          6582300,
          6360500,
          6228000,
          5839000,
          5815500,
          5812500,
          5705500,
          5259300,
          5246000,
          4755500,
          4446000,
          4297800,
          3986000,
          3741500,
          3577500,
          3165000,
          2872000,
          2552000,
          2490000,
          2454700,
          2397000,
          1971000,
          1883500,
          1789800,
          1742500,
          1713500,
          1688100,
          1639500,
          1589000,
          1463000,
          1258500,
          1133500,
          1108000,
          1059500,
          1037800,
          1027200,
          1004500,
          838700,
          825100,
          797000,
          780000,
          687800,
          638000,
          574000,
          472000,
          437000,
          415000,
          354000
         ],
         "yaxis": "y"
        }
       ],
       "layout": {
        "barmode": "relative",
        "legend": {
         "tracegroupgap": 0
        },
        "margin": {
         "t": 60
        },
        "template": {
         "data": {
          "bar": [
           {
            "error_x": {
             "color": "#2a3f5f"
            },
            "error_y": {
             "color": "#2a3f5f"
            },
            "marker": {
             "line": {
              "color": "#E5ECF6",
              "width": 0.5
             },
             "pattern": {
              "fillmode": "overlay",
              "size": 10,
              "solidity": 0.2
             }
            },
            "type": "bar"
           }
          ],
          "barpolar": [
           {
            "marker": {
             "line": {
              "color": "#E5ECF6",
              "width": 0.5
             },
             "pattern": {
              "fillmode": "overlay",
              "size": 10,
              "solidity": 0.2
             }
            },
            "type": "barpolar"
           }
          ],
          "carpet": [
           {
            "aaxis": {
             "endlinecolor": "#2a3f5f",
             "gridcolor": "white",
             "linecolor": "white",
             "minorgridcolor": "white",
             "startlinecolor": "#2a3f5f"
            },
            "baxis": {
             "endlinecolor": "#2a3f5f",
             "gridcolor": "white",
             "linecolor": "white",
             "minorgridcolor": "white",
             "startlinecolor": "#2a3f5f"
            },
            "type": "carpet"
           }
          ],
          "choropleth": [
           {
            "colorbar": {
             "outlinewidth": 0,
             "ticks": ""
            },
            "type": "choropleth"
           }
          ],
          "contour": [
           {
            "colorbar": {
             "outlinewidth": 0,
             "ticks": ""
            },
            "colorscale": [
             [
              0,
              "#0d0887"
             ],
             [
              0.1111111111111111,
              "#46039f"
             ],
             [
              0.2222222222222222,
              "#7201a8"
             ],
             [
              0.3333333333333333,
              "#9c179e"
             ],
             [
              0.4444444444444444,
              "#bd3786"
             ],
             [
              0.5555555555555556,
              "#d8576b"
             ],
             [
              0.6666666666666666,
              "#ed7953"
             ],
             [
              0.7777777777777778,
              "#fb9f3a"
             ],
             [
              0.8888888888888888,
              "#fdca26"
             ],
             [
              1,
              "#f0f921"
             ]
            ],
            "type": "contour"
           }
          ],
          "contourcarpet": [
           {
            "colorbar": {
             "outlinewidth": 0,
             "ticks": ""
            },
            "type": "contourcarpet"
           }
          ],
          "heatmap": [
           {
            "colorbar": {
             "outlinewidth": 0,
             "ticks": ""
            },
            "colorscale": [
             [
              0,
              "#0d0887"
             ],
             [
              0.1111111111111111,
              "#46039f"
             ],
             [
              0.2222222222222222,
              "#7201a8"
             ],
             [
              0.3333333333333333,
              "#9c179e"
             ],
             [
              0.4444444444444444,
              "#bd3786"
             ],
             [
              0.5555555555555556,
              "#d8576b"
             ],
             [
              0.6666666666666666,
              "#ed7953"
             ],
             [
              0.7777777777777778,
              "#fb9f3a"
             ],
             [
              0.8888888888888888,
              "#fdca26"
             ],
             [
              1,
              "#f0f921"
             ]
            ],
            "type": "heatmap"
           }
          ],
          "heatmapgl": [
           {
            "colorbar": {
             "outlinewidth": 0,
             "ticks": ""
            },
            "colorscale": [
             [
              0,
              "#0d0887"
             ],
             [
              0.1111111111111111,
              "#46039f"
             ],
             [
              0.2222222222222222,
              "#7201a8"
             ],
             [
              0.3333333333333333,
              "#9c179e"
             ],
             [
              0.4444444444444444,
              "#bd3786"
             ],
             [
              0.5555555555555556,
              "#d8576b"
             ],
             [
              0.6666666666666666,
              "#ed7953"
             ],
             [
              0.7777777777777778,
              "#fb9f3a"
             ],
             [
              0.8888888888888888,
              "#fdca26"
             ],
             [
              1,
              "#f0f921"
             ]
            ],
            "type": "heatmapgl"
           }
          ],
          "histogram": [
           {
            "marker": {
             "pattern": {
              "fillmode": "overlay",
              "size": 10,
              "solidity": 0.2
             }
            },
            "type": "histogram"
           }
          ],
          "histogram2d": [
           {
            "colorbar": {
             "outlinewidth": 0,
             "ticks": ""
            },
            "colorscale": [
             [
              0,
              "#0d0887"
             ],
             [
              0.1111111111111111,
              "#46039f"
             ],
             [
              0.2222222222222222,
              "#7201a8"
             ],
             [
              0.3333333333333333,
              "#9c179e"
             ],
             [
              0.4444444444444444,
              "#bd3786"
             ],
             [
              0.5555555555555556,
              "#d8576b"
             ],
             [
              0.6666666666666666,
              "#ed7953"
             ],
             [
              0.7777777777777778,
              "#fb9f3a"
             ],
             [
              0.8888888888888888,
              "#fdca26"
             ],
             [
              1,
              "#f0f921"
             ]
            ],
            "type": "histogram2d"
           }
          ],
          "histogram2dcontour": [
           {
            "colorbar": {
             "outlinewidth": 0,
             "ticks": ""
            },
            "colorscale": [
             [
              0,
              "#0d0887"
             ],
             [
              0.1111111111111111,
              "#46039f"
             ],
             [
              0.2222222222222222,
              "#7201a8"
             ],
             [
              0.3333333333333333,
              "#9c179e"
             ],
             [
              0.4444444444444444,
              "#bd3786"
             ],
             [
              0.5555555555555556,
              "#d8576b"
             ],
             [
              0.6666666666666666,
              "#ed7953"
             ],
             [
              0.7777777777777778,
              "#fb9f3a"
             ],
             [
              0.8888888888888888,
              "#fdca26"
             ],
             [
              1,
              "#f0f921"
             ]
            ],
            "type": "histogram2dcontour"
           }
          ],
          "mesh3d": [
           {
            "colorbar": {
             "outlinewidth": 0,
             "ticks": ""
            },
            "type": "mesh3d"
           }
          ],
          "parcoords": [
           {
            "line": {
             "colorbar": {
              "outlinewidth": 0,
              "ticks": ""
             }
            },
            "type": "parcoords"
           }
          ],
          "pie": [
           {
            "automargin": true,
            "type": "pie"
           }
          ],
          "scatter": [
           {
            "fillpattern": {
             "fillmode": "overlay",
             "size": 10,
             "solidity": 0.2
            },
            "type": "scatter"
           }
          ],
          "scatter3d": [
           {
            "line": {
             "colorbar": {
              "outlinewidth": 0,
              "ticks": ""
             }
            },
            "marker": {
             "colorbar": {
              "outlinewidth": 0,
              "ticks": ""
             }
            },
            "type": "scatter3d"
           }
          ],
          "scattercarpet": [
           {
            "marker": {
             "colorbar": {
              "outlinewidth": 0,
              "ticks": ""
             }
            },
            "type": "scattercarpet"
           }
          ],
          "scattergeo": [
           {
            "marker": {
             "colorbar": {
              "outlinewidth": 0,
              "ticks": ""
             }
            },
            "type": "scattergeo"
           }
          ],
          "scattergl": [
           {
            "marker": {
             "colorbar": {
              "outlinewidth": 0,
              "ticks": ""
             }
            },
            "type": "scattergl"
           }
          ],
          "scattermapbox": [
           {
            "marker": {
             "colorbar": {
              "outlinewidth": 0,
              "ticks": ""
             }
            },
            "type": "scattermapbox"
           }
          ],
          "scatterpolar": [
           {
            "marker": {
             "colorbar": {
              "outlinewidth": 0,
              "ticks": ""
             }
            },
            "type": "scatterpolar"
           }
          ],
          "scatterpolargl": [
           {
            "marker": {
             "colorbar": {
              "outlinewidth": 0,
              "ticks": ""
             }
            },
            "type": "scatterpolargl"
           }
          ],
          "scatterternary": [
           {
            "marker": {
             "colorbar": {
              "outlinewidth": 0,
              "ticks": ""
             }
            },
            "type": "scatterternary"
           }
          ],
          "surface": [
           {
            "colorbar": {
             "outlinewidth": 0,
             "ticks": ""
            },
            "colorscale": [
             [
              0,
              "#0d0887"
             ],
             [
              0.1111111111111111,
              "#46039f"
             ],
             [
              0.2222222222222222,
              "#7201a8"
             ],
             [
              0.3333333333333333,
              "#9c179e"
             ],
             [
              0.4444444444444444,
              "#bd3786"
             ],
             [
              0.5555555555555556,
              "#d8576b"
             ],
             [
              0.6666666666666666,
              "#ed7953"
             ],
             [
              0.7777777777777778,
              "#fb9f3a"
             ],
             [
              0.8888888888888888,
              "#fdca26"
             ],
             [
              1,
              "#f0f921"
             ]
            ],
            "type": "surface"
           }
          ],
          "table": [
           {
            "cells": {
             "fill": {
              "color": "#EBF0F8"
             },
             "line": {
              "color": "white"
             }
            },
            "header": {
             "fill": {
              "color": "#C8D4E3"
             },
             "line": {
              "color": "white"
             }
            },
            "type": "table"
           }
          ]
         },
         "layout": {
          "annotationdefaults": {
           "arrowcolor": "#2a3f5f",
           "arrowhead": 0,
           "arrowwidth": 1
          },
          "autotypenumbers": "strict",
          "coloraxis": {
           "colorbar": {
            "outlinewidth": 0,
            "ticks": ""
           }
          },
          "colorscale": {
           "diverging": [
            [
             0,
             "#8e0152"
            ],
            [
             0.1,
             "#c51b7d"
            ],
            [
             0.2,
             "#de77ae"
            ],
            [
             0.3,
             "#f1b6da"
            ],
            [
             0.4,
             "#fde0ef"
            ],
            [
             0.5,
             "#f7f7f7"
            ],
            [
             0.6,
             "#e6f5d0"
            ],
            [
             0.7,
             "#b8e186"
            ],
            [
             0.8,
             "#7fbc41"
            ],
            [
             0.9,
             "#4d9221"
            ],
            [
             1,
             "#276419"
            ]
           ],
           "sequential": [
            [
             0,
             "#0d0887"
            ],
            [
             0.1111111111111111,
             "#46039f"
            ],
            [
             0.2222222222222222,
             "#7201a8"
            ],
            [
             0.3333333333333333,
             "#9c179e"
            ],
            [
             0.4444444444444444,
             "#bd3786"
            ],
            [
             0.5555555555555556,
             "#d8576b"
            ],
            [
             0.6666666666666666,
             "#ed7953"
            ],
            [
             0.7777777777777778,
             "#fb9f3a"
            ],
            [
             0.8888888888888888,
             "#fdca26"
            ],
            [
             1,
             "#f0f921"
            ]
           ],
           "sequentialminus": [
            [
             0,
             "#0d0887"
            ],
            [
             0.1111111111111111,
             "#46039f"
            ],
            [
             0.2222222222222222,
             "#7201a8"
            ],
            [
             0.3333333333333333,
             "#9c179e"
            ],
            [
             0.4444444444444444,
             "#bd3786"
            ],
            [
             0.5555555555555556,
             "#d8576b"
            ],
            [
             0.6666666666666666,
             "#ed7953"
            ],
            [
             0.7777777777777778,
             "#fb9f3a"
            ],
            [
             0.8888888888888888,
             "#fdca26"
            ],
            [
             1,
             "#f0f921"
            ]
           ]
          },
          "colorway": [
           "#636efa",
           "#EF553B",
           "#00cc96",
           "#ab63fa",
           "#FFA15A",
           "#19d3f3",
           "#FF6692",
           "#B6E880",
           "#FF97FF",
           "#FECB52"
          ],
          "font": {
           "color": "#2a3f5f"
          },
          "geo": {
           "bgcolor": "white",
           "lakecolor": "white",
           "landcolor": "#E5ECF6",
           "showlakes": true,
           "showland": true,
           "subunitcolor": "white"
          },
          "hoverlabel": {
           "align": "left"
          },
          "hovermode": "closest",
          "mapbox": {
           "style": "light"
          },
          "paper_bgcolor": "white",
          "plot_bgcolor": "#E5ECF6",
          "polar": {
           "angularaxis": {
            "gridcolor": "white",
            "linecolor": "white",
            "ticks": ""
           },
           "bgcolor": "#E5ECF6",
           "radialaxis": {
            "gridcolor": "white",
            "linecolor": "white",
            "ticks": ""
           }
          },
          "scene": {
           "xaxis": {
            "backgroundcolor": "#E5ECF6",
            "gridcolor": "white",
            "gridwidth": 2,
            "linecolor": "white",
            "showbackground": true,
            "ticks": "",
            "zerolinecolor": "white"
           },
           "yaxis": {
            "backgroundcolor": "#E5ECF6",
            "gridcolor": "white",
            "gridwidth": 2,
            "linecolor": "white",
            "showbackground": true,
            "ticks": "",
            "zerolinecolor": "white"
           },
           "zaxis": {
            "backgroundcolor": "#E5ECF6",
            "gridcolor": "white",
            "gridwidth": 2,
            "linecolor": "white",
            "showbackground": true,
            "ticks": "",
            "zerolinecolor": "white"
           }
          },
          "shapedefaults": {
           "line": {
            "color": "#2a3f5f"
           }
          },
          "ternary": {
           "aaxis": {
            "gridcolor": "white",
            "linecolor": "white",
            "ticks": ""
           },
           "baxis": {
            "gridcolor": "white",
            "linecolor": "white",
            "ticks": ""
           },
           "bgcolor": "#E5ECF6",
           "caxis": {
            "gridcolor": "white",
            "linecolor": "white",
            "ticks": ""
           }
          },
          "title": {
           "x": 0.05
          },
          "xaxis": {
           "automargin": true,
           "gridcolor": "white",
           "linecolor": "white",
           "ticks": "",
           "title": {
            "standoff": 15
           },
           "zerolinecolor": "white",
           "zerolinewidth": 2
          },
          "yaxis": {
           "automargin": true,
           "gridcolor": "white",
           "linecolor": "white",
           "ticks": "",
           "title": {
            "standoff": 15
           },
           "zerolinecolor": "white",
           "zerolinewidth": 2
          }
         }
        },
        "xaxis": {
         "anchor": "y",
         "domain": [
          0,
          1
         ],
         "title": {
          "text": "상호명"
         }
        },
        "yaxis": {
         "anchor": "x",
         "domain": [
          0,
          1
         ],
         "title": {
          "text": "2월 매출액"
         }
        }
       }
      },
      "text/html": [
       "<div>                            <div id=\"f433ca9d-0d74-46df-8998-502b21ea4580\" class=\"plotly-graph-div\" style=\"height:525px; width:100%;\"></div>            <script type=\"text/javascript\">                require([\"plotly\"], function(Plotly) {                    window.PLOTLYENV=window.PLOTLYENV || {};                                    if (document.getElementById(\"f433ca9d-0d74-46df-8998-502b21ea4580\")) {                    Plotly.newPlot(                        \"f433ca9d-0d74-46df-8998-502b21ea4580\",                        [{\"alignmentgroup\":\"True\",\"hovertemplate\":\"\\uc0c1\\ud638\\uba85=%{x}<br>2\\uc6d4 \\ub9e4\\ucd9c\\uc561=%{y}<extra></extra>\",\"legendgroup\":\"\",\"marker\":{\"color\":\"#636efa\",\"pattern\":{\"shape\":\"\"}},\"name\":\"\",\"offsetgroup\":\"\",\"orientation\":\"v\",\"showlegend\":false,\"textposition\":\"auto\",\"x\":[\"\\uc2ac\\ub85c\\uc6b0\\uc57c\\ub4dc \\ubc14\\ube44\\ud050\",\"\\uac10\\uc131\\ud0c0\\ucf54(\\ud64d\\ub300\\uc810)\",\"\\ub369\\ud06c\\ud2b8\\ub808\\uc774\",\"\\uce58\\ud0a8\\uc564\\uce74\\ub808\\uad70\",\"\\ud1a0\\ubaa8\\ud1a0\\uce74\\ud398\",\"\\ube4c\\ub9ac\\ub354\\ub2e4\\uc774\\ub2dd\",\"\\ud06c\\ub808\\uc774\\uc9c0\\uce74\\uce20\",\"\\ubc14\\uc0ad\\ub9c8\\ucc28(\\ub9dd\\uc6d0\\uc2dc\\uc7a5\\uc810)\",\"\\ube44\\uc2a4\\ud2b8\\ub85c\\uc5d0\\ubc84\",\"\\uc2a4\\ud47c\\ud544\\ub77c\\ud504 \\ud64d\\ub300\\uc810\",\"\\ub8e8\\ub098\\uc528\\uc5d8\\ub85c\",\"\\uba55\\uc2dc\\ucf54\\ub2e4\\uc774\\ub108\",\"\\uc774\\uc624\\uce74\\uce20\\uacf5\\ub355\\uc810\",\"\\ud14c\\uc774\\ucee4\\ud14c\\uc774\\ube14\",\"\\ubab0\\ud1a0\\ubca0\\ub124 \\ud569\\uc815\",\"\\uc5f0\\ub0a8\\ub3d9\\uc640\\uc774\\ud0d1\",\"\\uc774\\uc751\\uc774\\uc751\\uc774\\uc751\\uc774\\uc751-table\",\"\\ud574\\ubb3c\\uae30\\uc640\",\"\\uc18c\\ucf54\\uc544\",\"\\uc5d8\\ub9ac\\uc2a4\\ub9ac\\ud2c0\\uc774\\ud0dc\\ub9ac\",\"\\ud5e4\\ud0a4\",\"\\ub9c8\\ub8e8\\ub3c8\\uae4c\\uc2a4\",\"kitchen 485\",\"\\ud1a0\\ud30c\",\"\\uc0b4\\ub871\\ub4dc\\ub9c8\\ub974\\uc794\",\"\\ube0c\\ub77c\\uc6b4\\ub3c8\\uae4c\\uc2a4 \\uc0c1\\uc554MBC\\ubab0\",\"\\uc2a4\\ud504\\ub9c1\\ube44\\uc2a4\\ud2b8\\ub85c\",\"\\uad11\\uc57c\",\"\\uc96c\\ubca4\\ucfe0\\ubc14 \\uc5f0\\ub0a8\\uc810\",\"\\ube60\\ub124\\ub3cc\\uccb4\",\"\\uc5d0\\ud2b8\\ub098\\ud4e8\",\"\\ubd89\\uc740\\ub099\\ud0c0\",\"\\uc18c\\ub098\\ubb34\\uc5f0\\ub0a8\",\"\\ube44\\ubcfc\\ub9ac\",\"\\ub3c8\\uce74\\uce20 \\uc900\",\"\\uc9c0\\uc54c\\ub85c\\ud30c\\uc2a4\\ud0c0\\ubc14\",\"\\uba85\\ub3d9\\uc655\\ub3c8\\uae4c\\uc2a4 \\uc9c1\\uc601\\uc810\",\"\\ubb18\\ud55c\\uc2dd\\ud0c1\",\"\\uc9c4\\ub3c8\",\"\\ud751\\uc2ec\",\"\\ubca8\\ub77c\\ub610\\ub760\\uc544\",\"\\ube14\\ub8e8\\ucfe0\\uce58\\ub098\",\"\\uae4c\\uc0ac\\ub77c\\ud2f0\\ub098\",\"\\ucf54\\ucf54\\uac00\\uce20\",\"\\uc624\\uc774\\ub3c4\",\"\\uac10\\uc131\\uce74\\uce20\",\"\\uc218\\uc5e0\\ubd80\",\"\\uc6b0\\uc560\\ub3c8\\uce74\\uce20 \\uc5f0\\ub0a8\\uc810\",\"\\uce74\\ud398\\ub8e8\\uce58\\uc544\",\"\\uc544\\ub974\\uace0\\ubcf4\\ub2c8\",\"\\ud64d\\ub300\\ud074\\ub77c\\uc4f0\",\"\\uc5fd\\uc804\\uc2dd\\ub2f9 \\uc5f0\\ub0a8\\uc810\",\"\\uc568\\ub9ac\\uc2a4 \\ubc14\\uc774 \\ubbf8\\ub2c8\\uba5c\\uce20\",\"\\ucfe0\\ubc14\\ud0b9\",\"\\ub4dc\\ub801\\ud070\\ube44\\uac74\",\"\\uc694\\ub098\\ub07c\",\"\\ubc30\\uc544\\ub610\",\"\\ud3ec\\ud2b8 \\uc564 \\ub098\\ub2ec\",\"\\uc778\\ub354\\uc36c\"],\"xaxis\":\"x\",\"y\":[87765000,72623000,15468700,14799900,11803300,11733000,9062000,8614900,8591500,7969800,7405000,6582300,6360500,6228000,5839000,5815500,5812500,5705500,5259300,5246000,4755500,4446000,4297800,3986000,3741500,3577500,3165000,2872000,2552000,2490000,2454700,2397000,1971000,1883500,1789800,1742500,1713500,1688100,1639500,1589000,1463000,1258500,1133500,1108000,1059500,1037800,1027200,1004500,838700,825100,797000,780000,687800,638000,574000,472000,437000,415000,354000],\"yaxis\":\"y\",\"type\":\"bar\"}],                        {\"template\":{\"data\":{\"histogram2dcontour\":[{\"type\":\"histogram2dcontour\",\"colorbar\":{\"outlinewidth\":0,\"ticks\":\"\"},\"colorscale\":[[0.0,\"#0d0887\"],[0.1111111111111111,\"#46039f\"],[0.2222222222222222,\"#7201a8\"],[0.3333333333333333,\"#9c179e\"],[0.4444444444444444,\"#bd3786\"],[0.5555555555555556,\"#d8576b\"],[0.6666666666666666,\"#ed7953\"],[0.7777777777777778,\"#fb9f3a\"],[0.8888888888888888,\"#fdca26\"],[1.0,\"#f0f921\"]]}],\"choropleth\":[{\"type\":\"choropleth\",\"colorbar\":{\"outlinewidth\":0,\"ticks\":\"\"}}],\"histogram2d\":[{\"type\":\"histogram2d\",\"colorbar\":{\"outlinewidth\":0,\"ticks\":\"\"},\"colorscale\":[[0.0,\"#0d0887\"],[0.1111111111111111,\"#46039f\"],[0.2222222222222222,\"#7201a8\"],[0.3333333333333333,\"#9c179e\"],[0.4444444444444444,\"#bd3786\"],[0.5555555555555556,\"#d8576b\"],[0.6666666666666666,\"#ed7953\"],[0.7777777777777778,\"#fb9f3a\"],[0.8888888888888888,\"#fdca26\"],[1.0,\"#f0f921\"]]}],\"heatmap\":[{\"type\":\"heatmap\",\"colorbar\":{\"outlinewidth\":0,\"ticks\":\"\"},\"colorscale\":[[0.0,\"#0d0887\"],[0.1111111111111111,\"#46039f\"],[0.2222222222222222,\"#7201a8\"],[0.3333333333333333,\"#9c179e\"],[0.4444444444444444,\"#bd3786\"],[0.5555555555555556,\"#d8576b\"],[0.6666666666666666,\"#ed7953\"],[0.7777777777777778,\"#fb9f3a\"],[0.8888888888888888,\"#fdca26\"],[1.0,\"#f0f921\"]]}],\"heatmapgl\":[{\"type\":\"heatmapgl\",\"colorbar\":{\"outlinewidth\":0,\"ticks\":\"\"},\"colorscale\":[[0.0,\"#0d0887\"],[0.1111111111111111,\"#46039f\"],[0.2222222222222222,\"#7201a8\"],[0.3333333333333333,\"#9c179e\"],[0.4444444444444444,\"#bd3786\"],[0.5555555555555556,\"#d8576b\"],[0.6666666666666666,\"#ed7953\"],[0.7777777777777778,\"#fb9f3a\"],[0.8888888888888888,\"#fdca26\"],[1.0,\"#f0f921\"]]}],\"contourcarpet\":[{\"type\":\"contourcarpet\",\"colorbar\":{\"outlinewidth\":0,\"ticks\":\"\"}}],\"contour\":[{\"type\":\"contour\",\"colorbar\":{\"outlinewidth\":0,\"ticks\":\"\"},\"colorscale\":[[0.0,\"#0d0887\"],[0.1111111111111111,\"#46039f\"],[0.2222222222222222,\"#7201a8\"],[0.3333333333333333,\"#9c179e\"],[0.4444444444444444,\"#bd3786\"],[0.5555555555555556,\"#d8576b\"],[0.6666666666666666,\"#ed7953\"],[0.7777777777777778,\"#fb9f3a\"],[0.8888888888888888,\"#fdca26\"],[1.0,\"#f0f921\"]]}],\"surface\":[{\"type\":\"surface\",\"colorbar\":{\"outlinewidth\":0,\"ticks\":\"\"},\"colorscale\":[[0.0,\"#0d0887\"],[0.1111111111111111,\"#46039f\"],[0.2222222222222222,\"#7201a8\"],[0.3333333333333333,\"#9c179e\"],[0.4444444444444444,\"#bd3786\"],[0.5555555555555556,\"#d8576b\"],[0.6666666666666666,\"#ed7953\"],[0.7777777777777778,\"#fb9f3a\"],[0.8888888888888888,\"#fdca26\"],[1.0,\"#f0f921\"]]}],\"mesh3d\":[{\"type\":\"mesh3d\",\"colorbar\":{\"outlinewidth\":0,\"ticks\":\"\"}}],\"scatter\":[{\"fillpattern\":{\"fillmode\":\"overlay\",\"size\":10,\"solidity\":0.2},\"type\":\"scatter\"}],\"parcoords\":[{\"type\":\"parcoords\",\"line\":{\"colorbar\":{\"outlinewidth\":0,\"ticks\":\"\"}}}],\"scatterpolargl\":[{\"type\":\"scatterpolargl\",\"marker\":{\"colorbar\":{\"outlinewidth\":0,\"ticks\":\"\"}}}],\"bar\":[{\"error_x\":{\"color\":\"#2a3f5f\"},\"error_y\":{\"color\":\"#2a3f5f\"},\"marker\":{\"line\":{\"color\":\"#E5ECF6\",\"width\":0.5},\"pattern\":{\"fillmode\":\"overlay\",\"size\":10,\"solidity\":0.2}},\"type\":\"bar\"}],\"scattergeo\":[{\"type\":\"scattergeo\",\"marker\":{\"colorbar\":{\"outlinewidth\":0,\"ticks\":\"\"}}}],\"scatterpolar\":[{\"type\":\"scatterpolar\",\"marker\":{\"colorbar\":{\"outlinewidth\":0,\"ticks\":\"\"}}}],\"histogram\":[{\"marker\":{\"pattern\":{\"fillmode\":\"overlay\",\"size\":10,\"solidity\":0.2}},\"type\":\"histogram\"}],\"scattergl\":[{\"type\":\"scattergl\",\"marker\":{\"colorbar\":{\"outlinewidth\":0,\"ticks\":\"\"}}}],\"scatter3d\":[{\"type\":\"scatter3d\",\"line\":{\"colorbar\":{\"outlinewidth\":0,\"ticks\":\"\"}},\"marker\":{\"colorbar\":{\"outlinewidth\":0,\"ticks\":\"\"}}}],\"scattermapbox\":[{\"type\":\"scattermapbox\",\"marker\":{\"colorbar\":{\"outlinewidth\":0,\"ticks\":\"\"}}}],\"scatterternary\":[{\"type\":\"scatterternary\",\"marker\":{\"colorbar\":{\"outlinewidth\":0,\"ticks\":\"\"}}}],\"scattercarpet\":[{\"type\":\"scattercarpet\",\"marker\":{\"colorbar\":{\"outlinewidth\":0,\"ticks\":\"\"}}}],\"carpet\":[{\"aaxis\":{\"endlinecolor\":\"#2a3f5f\",\"gridcolor\":\"white\",\"linecolor\":\"white\",\"minorgridcolor\":\"white\",\"startlinecolor\":\"#2a3f5f\"},\"baxis\":{\"endlinecolor\":\"#2a3f5f\",\"gridcolor\":\"white\",\"linecolor\":\"white\",\"minorgridcolor\":\"white\",\"startlinecolor\":\"#2a3f5f\"},\"type\":\"carpet\"}],\"table\":[{\"cells\":{\"fill\":{\"color\":\"#EBF0F8\"},\"line\":{\"color\":\"white\"}},\"header\":{\"fill\":{\"color\":\"#C8D4E3\"},\"line\":{\"color\":\"white\"}},\"type\":\"table\"}],\"barpolar\":[{\"marker\":{\"line\":{\"color\":\"#E5ECF6\",\"width\":0.5},\"pattern\":{\"fillmode\":\"overlay\",\"size\":10,\"solidity\":0.2}},\"type\":\"barpolar\"}],\"pie\":[{\"automargin\":true,\"type\":\"pie\"}]},\"layout\":{\"autotypenumbers\":\"strict\",\"colorway\":[\"#636efa\",\"#EF553B\",\"#00cc96\",\"#ab63fa\",\"#FFA15A\",\"#19d3f3\",\"#FF6692\",\"#B6E880\",\"#FF97FF\",\"#FECB52\"],\"font\":{\"color\":\"#2a3f5f\"},\"hovermode\":\"closest\",\"hoverlabel\":{\"align\":\"left\"},\"paper_bgcolor\":\"white\",\"plot_bgcolor\":\"#E5ECF6\",\"polar\":{\"bgcolor\":\"#E5ECF6\",\"angularaxis\":{\"gridcolor\":\"white\",\"linecolor\":\"white\",\"ticks\":\"\"},\"radialaxis\":{\"gridcolor\":\"white\",\"linecolor\":\"white\",\"ticks\":\"\"}},\"ternary\":{\"bgcolor\":\"#E5ECF6\",\"aaxis\":{\"gridcolor\":\"white\",\"linecolor\":\"white\",\"ticks\":\"\"},\"baxis\":{\"gridcolor\":\"white\",\"linecolor\":\"white\",\"ticks\":\"\"},\"caxis\":{\"gridcolor\":\"white\",\"linecolor\":\"white\",\"ticks\":\"\"}},\"coloraxis\":{\"colorbar\":{\"outlinewidth\":0,\"ticks\":\"\"}},\"colorscale\":{\"sequential\":[[0.0,\"#0d0887\"],[0.1111111111111111,\"#46039f\"],[0.2222222222222222,\"#7201a8\"],[0.3333333333333333,\"#9c179e\"],[0.4444444444444444,\"#bd3786\"],[0.5555555555555556,\"#d8576b\"],[0.6666666666666666,\"#ed7953\"],[0.7777777777777778,\"#fb9f3a\"],[0.8888888888888888,\"#fdca26\"],[1.0,\"#f0f921\"]],\"sequentialminus\":[[0.0,\"#0d0887\"],[0.1111111111111111,\"#46039f\"],[0.2222222222222222,\"#7201a8\"],[0.3333333333333333,\"#9c179e\"],[0.4444444444444444,\"#bd3786\"],[0.5555555555555556,\"#d8576b\"],[0.6666666666666666,\"#ed7953\"],[0.7777777777777778,\"#fb9f3a\"],[0.8888888888888888,\"#fdca26\"],[1.0,\"#f0f921\"]],\"diverging\":[[0,\"#8e0152\"],[0.1,\"#c51b7d\"],[0.2,\"#de77ae\"],[0.3,\"#f1b6da\"],[0.4,\"#fde0ef\"],[0.5,\"#f7f7f7\"],[0.6,\"#e6f5d0\"],[0.7,\"#b8e186\"],[0.8,\"#7fbc41\"],[0.9,\"#4d9221\"],[1,\"#276419\"]]},\"xaxis\":{\"gridcolor\":\"white\",\"linecolor\":\"white\",\"ticks\":\"\",\"title\":{\"standoff\":15},\"zerolinecolor\":\"white\",\"automargin\":true,\"zerolinewidth\":2},\"yaxis\":{\"gridcolor\":\"white\",\"linecolor\":\"white\",\"ticks\":\"\",\"title\":{\"standoff\":15},\"zerolinecolor\":\"white\",\"automargin\":true,\"zerolinewidth\":2},\"scene\":{\"xaxis\":{\"backgroundcolor\":\"#E5ECF6\",\"gridcolor\":\"white\",\"linecolor\":\"white\",\"showbackground\":true,\"ticks\":\"\",\"zerolinecolor\":\"white\",\"gridwidth\":2},\"yaxis\":{\"backgroundcolor\":\"#E5ECF6\",\"gridcolor\":\"white\",\"linecolor\":\"white\",\"showbackground\":true,\"ticks\":\"\",\"zerolinecolor\":\"white\",\"gridwidth\":2},\"zaxis\":{\"backgroundcolor\":\"#E5ECF6\",\"gridcolor\":\"white\",\"linecolor\":\"white\",\"showbackground\":true,\"ticks\":\"\",\"zerolinecolor\":\"white\",\"gridwidth\":2}},\"shapedefaults\":{\"line\":{\"color\":\"#2a3f5f\"}},\"annotationdefaults\":{\"arrowcolor\":\"#2a3f5f\",\"arrowhead\":0,\"arrowwidth\":1},\"geo\":{\"bgcolor\":\"white\",\"landcolor\":\"#E5ECF6\",\"subunitcolor\":\"white\",\"showland\":true,\"showlakes\":true,\"lakecolor\":\"white\"},\"title\":{\"x\":0.05},\"mapbox\":{\"style\":\"light\"}}},\"xaxis\":{\"anchor\":\"y\",\"domain\":[0.0,1.0],\"title\":{\"text\":\"\\uc0c1\\ud638\\uba85\"}},\"yaxis\":{\"anchor\":\"x\",\"domain\":[0.0,1.0],\"title\":{\"text\":\"2\\uc6d4 \\ub9e4\\ucd9c\\uc561\"}},\"legend\":{\"tracegroupgap\":0},\"margin\":{\"t\":60},\"barmode\":\"relative\"},                        {\"responsive\": true}                    ).then(function(){\n",
       "                            \n",
       "var gd = document.getElementById('f433ca9d-0d74-46df-8998-502b21ea4580');\n",
       "var x = new MutationObserver(function (mutations, observer) {{\n",
       "        var display = window.getComputedStyle(gd).display;\n",
       "        if (!display || display === 'none') {{\n",
       "            console.log([gd, 'removed!']);\n",
       "            Plotly.purge(gd);\n",
       "            observer.disconnect();\n",
       "        }}\n",
       "}});\n",
       "\n",
       "// Listen for the removal of the full notebook cells\n",
       "var notebookContainer = gd.closest('#notebook-container');\n",
       "if (notebookContainer) {{\n",
       "    x.observe(notebookContainer, {childList: true});\n",
       "}}\n",
       "\n",
       "// Listen for the clearing of the current output cell\n",
       "var outputEl = gd.closest('.output');\n",
       "if (outputEl) {{\n",
       "    x.observe(outputEl, {childList: true});\n",
       "}}\n",
       "\n",
       "                        })                };                });            </script>        </div>"
      ]
     },
     "metadata": {},
     "output_type": "display_data"
    }
   ],
   "source": [
    "bar_2_df = result_df.sort_values('2월 매출액', ascending=False)\n",
    "px.bar(bar_2_df, x='상호명', y=\"2월 매출액\")"
   ]
  },
  {
   "cell_type": "code",
   "execution_count": 344,
   "id": "ffb0a1ed",
   "metadata": {},
   "outputs": [
    {
     "data": {
      "text/plain": [
       "Index(['상호명', '주소', '12월 매출액', '1월 매출액', '2월 매출액', '전체 매출액', '12월 top5',\n",
       "       '1월 top5', '2월 top5', 'lat', 'lng', '사이즈', '12월 거래량', '1월 거래량',\n",
       "       '2월 거래량'],\n",
       "      dtype='object')"
      ]
     },
     "execution_count": 344,
     "metadata": {},
     "output_type": "execute_result"
    }
   ],
   "source": [
    "result_df.columns"
   ]
  },
  {
   "cell_type": "code",
   "execution_count": 341,
   "id": "c98a105d",
   "metadata": {},
   "outputs": [],
   "source": [
    "tmp_12_sell_df  = result_df[['상호명','12월 매출액']].sort_values('12월 매출액', ascending=False)\n",
    "tmp_1_sell_df  = result_df[['상호명','1월 매출액']].sort_values('1월 매출액', ascending=False)\n",
    "tmp_2_sell_df  = result_df[['상호명','2월 매출액']].sort_values('2월 매출액', ascending=False)\n",
    "\n",
    "tmp_12_sell_df.columns = ['상호명','매출액']\n",
    "tmp_1_sell_df.columns = ['상호명','매출액']\n",
    "tmp_2_sell_df.columns = ['상호명','매출액']\n",
    "\n",
    "tmp_12_sell_df['월별'] = 12\n",
    "tmp_1_sell_df['월별'] = 1\n",
    "tmp_2_sell_df['월별'] = 2\n",
    "\n",
    "for_motion_df = pd.concat([tmp_12_sell_df, tmp_1_sell_df, tmp_2_sell_df]).reset_index().iloc[:,1:]"
   ]
  },
  {
   "cell_type": "code",
   "execution_count": 342,
   "id": "aaf922ac",
   "metadata": {},
   "outputs": [],
   "source": [
    "tmp_12_sell_df  = result_df[['상호명','12월 거래량']].sort_values('12월 거래량', ascending=False)\n",
    "tmp_1_sell_df  = result_df[['상호명','1월 거래량']].sort_values('1월 거래량', ascending=False)\n",
    "tmp_2_sell_df  = result_df[['상호명','2월 거래량']].sort_values('2월 거래량', ascending=False)\n",
    "\n",
    "tmp_12_sell_df.columns = ['상호명','거래량']\n",
    "tmp_1_sell_df.columns = ['상호명','거래량']\n",
    "tmp_2_sell_df.columns = ['상호명','거래량']\n",
    "\n",
    "tmp_12_sell_df['월별'] = 12\n",
    "tmp_1_sell_df['월별'] = 1\n",
    "tmp_2_sell_df['월별'] = 2\n",
    "\n",
    "for_motion_df2 = pd.concat([tmp_12_sell_df, tmp_1_sell_df, tmp_2_sell_df]).reset_index().iloc[:,1:]\n"
   ]
  },
  {
   "cell_type": "code",
   "execution_count": 345,
   "id": "84a9229d",
   "metadata": {},
   "outputs": [
    {
     "data": {
      "text/html": [
       "<div>\n",
       "<style scoped>\n",
       "    .dataframe tbody tr th:only-of-type {\n",
       "        vertical-align: middle;\n",
       "    }\n",
       "\n",
       "    .dataframe tbody tr th {\n",
       "        vertical-align: top;\n",
       "    }\n",
       "\n",
       "    .dataframe thead th {\n",
       "        text-align: right;\n",
       "    }\n",
       "</style>\n",
       "<table border=\"1\" class=\"dataframe\">\n",
       "  <thead>\n",
       "    <tr style=\"text-align: right;\">\n",
       "      <th></th>\n",
       "      <th>상호명</th>\n",
       "      <th>매출액</th>\n",
       "      <th>월별</th>\n",
       "    </tr>\n",
       "  </thead>\n",
       "  <tbody>\n",
       "    <tr>\n",
       "      <th>0</th>\n",
       "      <td>감성타코(홍대점)</td>\n",
       "      <td>63581700</td>\n",
       "      <td>12</td>\n",
       "    </tr>\n",
       "    <tr>\n",
       "      <th>1</th>\n",
       "      <td>슬로우야드 바비큐</td>\n",
       "      <td>28979000</td>\n",
       "      <td>12</td>\n",
       "    </tr>\n",
       "    <tr>\n",
       "      <th>2</th>\n",
       "      <td>빌리더다이닝</td>\n",
       "      <td>26958000</td>\n",
       "      <td>12</td>\n",
       "    </tr>\n",
       "    <tr>\n",
       "      <th>3</th>\n",
       "      <td>치킨앤카레군</td>\n",
       "      <td>16419500</td>\n",
       "      <td>12</td>\n",
       "    </tr>\n",
       "    <tr>\n",
       "      <th>4</th>\n",
       "      <td>루나씨엘로</td>\n",
       "      <td>15824000</td>\n",
       "      <td>12</td>\n",
       "    </tr>\n",
       "    <tr>\n",
       "      <th>...</th>\n",
       "      <td>...</td>\n",
       "      <td>...</td>\n",
       "      <td>...</td>\n",
       "    </tr>\n",
       "    <tr>\n",
       "      <th>172</th>\n",
       "      <td>드렁큰비건</td>\n",
       "      <td>574000</td>\n",
       "      <td>2</td>\n",
       "    </tr>\n",
       "    <tr>\n",
       "      <th>173</th>\n",
       "      <td>요나끼</td>\n",
       "      <td>472000</td>\n",
       "      <td>2</td>\n",
       "    </tr>\n",
       "    <tr>\n",
       "      <th>174</th>\n",
       "      <td>배아또</td>\n",
       "      <td>437000</td>\n",
       "      <td>2</td>\n",
       "    </tr>\n",
       "    <tr>\n",
       "      <th>175</th>\n",
       "      <td>포트 앤 나달</td>\n",
       "      <td>415000</td>\n",
       "      <td>2</td>\n",
       "    </tr>\n",
       "    <tr>\n",
       "      <th>176</th>\n",
       "      <td>인더썬</td>\n",
       "      <td>354000</td>\n",
       "      <td>2</td>\n",
       "    </tr>\n",
       "  </tbody>\n",
       "</table>\n",
       "<p>177 rows × 3 columns</p>\n",
       "</div>"
      ],
      "text/plain": [
       "           상호명       매출액  월별\n",
       "0    감성타코(홍대점)  63581700  12\n",
       "1    슬로우야드 바비큐  28979000  12\n",
       "2       빌리더다이닝  26958000  12\n",
       "3       치킨앤카레군  16419500  12\n",
       "4        루나씨엘로  15824000  12\n",
       "..         ...       ...  ..\n",
       "172      드렁큰비건    574000   2\n",
       "173        요나끼    472000   2\n",
       "174        배아또    437000   2\n",
       "175    포트 앤 나달    415000   2\n",
       "176        인더썬    354000   2\n",
       "\n",
       "[177 rows x 3 columns]"
      ]
     },
     "execution_count": 345,
     "metadata": {},
     "output_type": "execute_result"
    }
   ],
   "source": [
    "for_motion_df"
   ]
  },
  {
   "cell_type": "markdown",
   "id": "5e2f85b8",
   "metadata": {},
   "source": [
    "# 모션 버블차트"
   ]
  },
  {
   "cell_type": "code",
   "execution_count": null,
   "id": "c14f5b3f",
   "metadata": {},
   "outputs": [],
   "source": []
  }
 ],
 "metadata": {
  "kernelspec": {
   "display_name": "Python 3 (ipykernel)",
   "language": "python",
   "name": "python3"
  },
  "language_info": {
   "codemirror_mode": {
    "name": "ipython",
    "version": 3
   },
   "file_extension": ".py",
   "mimetype": "text/x-python",
   "name": "python",
   "nbconvert_exporter": "python",
   "pygments_lexer": "ipython3",
   "version": "3.9.13"
  }
 },
 "nbformat": 4,
 "nbformat_minor": 5
}
